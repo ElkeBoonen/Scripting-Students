{
 "cells": [
  {
   "cell_type": "markdown",
   "id": "0454c7f3",
   "metadata": {},
   "source": [
    "# Demo file van mijn package"
   ]
  },
  {
   "cell_type": "code",
   "execution_count": 4,
   "id": "34be4021",
   "metadata": {},
   "outputs": [
    {
     "name": "stdout",
     "output_type": "stream",
     "text": [
      "Hello world\n"
     ]
    },
    {
     "data": {
      "text/plain": [
       "5"
      ]
     },
     "execution_count": 4,
     "metadata": {},
     "output_type": "execute_result"
    }
   ],
   "source": [
    "from mypackage import module1, module2\n",
    "\n",
    "module1.helloworld()\n",
    "module2.sum(2,3)\n",
    "\n"
   ]
  },
  {
   "cell_type": "code",
   "execution_count": 6,
   "id": "5a72e0c9",
   "metadata": {},
   "outputs": [
    {
     "name": "stdout",
     "output_type": "stream",
     "text": [
      "Help on module mypackage.module2 in mypackage:\n",
      "\n",
      "NAME\n",
      "    mypackage.module2\n",
      "\n",
      "FUNCTIONS\n",
      "    modulo(a, b)\n",
      "\n",
      "    product(a, b)\n",
      "        Maakt het product\n",
      "        Parameters:\n",
      "            2 getallen\n",
      "        Returns:\n",
      "            product van de twee getallen\n",
      "\n",
      "    sum(a, b)\n",
      "        Maakt de som\n",
      "        Parameters:\n",
      "            2 getallen\n",
      "        Returns:\n",
      "            som van de twee getallen\n",
      "\n",
      "FILE\n",
      "    c:\\users\\elkeb\\onedrive - thomas more\\github 24-25\\scripting-students\\10 packaging\\myfirstpackage\\mypackage\\module2.py\n",
      "\n",
      "\n",
      "Help on function sum in module mypackage.module2:\n",
      "\n",
      "sum(a, b)\n",
      "    Maakt de som\n",
      "    Parameters:\n",
      "        2 getallen\n",
      "    Returns:\n",
      "        som van de twee getallen\n",
      "\n"
     ]
    }
   ],
   "source": [
    "help(module2)\n",
    "\n",
    "help(module2.sum)"
   ]
  }
 ],
 "metadata": {
  "kernelspec": {
   "display_name": "Python 3",
   "language": "python",
   "name": "python3"
  },
  "language_info": {
   "codemirror_mode": {
    "name": "ipython",
    "version": 3
   },
   "file_extension": ".py",
   "mimetype": "text/x-python",
   "name": "python",
   "nbconvert_exporter": "python",
   "pygments_lexer": "ipython3",
   "version": "3.12.5"
  }
 },
 "nbformat": 4,
 "nbformat_minor": 5
}
