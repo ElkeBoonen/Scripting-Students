{
 "cells": [
  {
   "cell_type": "markdown",
   "metadata": {},
   "source": [
    "# Using my own package\n",
    "\n",
    "- license files: https://choosealicense.com/licenses/mit/\n",
    "- markdown https://www.markdownguide.org/basic-syntax/\n",
    "- navigate to folder with setup.py to install --> pip install .\n"
   ]
  },
  {
   "cell_type": "code",
   "execution_count": 19,
   "metadata": {},
   "outputs": [
    {
     "name": "stdout",
     "output_type": "stream",
     "text": [
      "Processing c:\\users\\elkeb\\onedrive - thomas more\\cursusmateriaal\\scripting yp0565\\git\\scripting-students\\packaging\\myfirstpackage_av\n",
      "  Preparing metadata (setup.py): started\n",
      "  Preparing metadata (setup.py): finished with status 'done'\n",
      "Building wheels for collected packages: firstpackage\n",
      "  Building wheel for firstpackage (setup.py): started\n",
      "  Building wheel for firstpackage (setup.py): finished with status 'done'\n",
      "  Created wheel for firstpackage: filename=firstpackage-0.1-py3-none-any.whl size=2908 sha256=f0f2488f03a9a030a19f002fd003a219ab40fa91f67b3d3a8aed23de434d480e\n",
      "  Stored in directory: C:\\Users\\elkeb\\AppData\\Local\\Temp\\pip-ephem-wheel-cache-93nx3ss3\\wheels\\99\\ff\\a3\\966331fdbfcdf56b86a346d98b643cbb4a286caf3c6c17022a\n"
     ]
    },
    {
     "name": "stderr",
     "output_type": "stream",
     "text": [
      "WARNING: You are using pip version 21.3.1; however, version 22.1 is available.\n",
      "You should consider upgrading via the 'C:\\Users\\elkeb\\AppData\\Local\\Microsoft\\WindowsApps\\PythonSoftwareFoundation.Python.3.9_qbz5n2kfra8p0\\python.exe -m pip install --upgrade pip' command.\n"
     ]
    },
    {
     "name": "stdout",
     "output_type": "stream",
     "text": [
      "Successfully built firstpackage\n",
      "Installing collected packages: firstpackage\n",
      "  Attempting uninstall: firstpackage\n",
      "    Found existing installation: firstpackage 0.1\n",
      "    Uninstalling firstpackage-0.1:\n",
      "      Successfully uninstalled firstpackage-0.1\n",
      "Successfully installed firstpackage-0.1\n"
     ]
    }
   ],
   "source": [
    "#! pip install wheel\n",
    "#! pip install twine\n",
    "\n",
    "# install (or upgrade) your first package\n",
    "! pip install . \n",
    "! pip install . --upgrade\n"
   ]
  },
  {
   "cell_type": "code",
   "execution_count": 13,
   "metadata": {},
   "outputs": [
    {
     "name": "stdout",
     "output_type": "stream",
     "text": [
      "Name: firstpackage\n",
      "Version: 0.1\n",
      "Summary: This is Herman's package ;) it it a very cool one\n",
      "Home-page: UNKNOWN\n",
      "Author: Herman and his dog\n",
      "Author-email: \n",
      "License: MIT\n",
      "Location: c:\\users\\elkeb\\appdata\\local\\packages\\pythonsoftwarefoundation.python.3.9_qbz5n2kfra8p0\\localcache\\local-packages\\python39\\site-packages\n",
      "Requires: \n",
      "Required-by: \n"
     ]
    }
   ],
   "source": [
    "! pip show firstpackage"
   ]
  },
  {
   "cell_type": "code",
   "execution_count": 17,
   "metadata": {},
   "outputs": [],
   "source": [
    "from firstpackage import strings, numbers"
   ]
  },
  {
   "cell_type": "code",
   "execution_count": 20,
   "metadata": {},
   "outputs": [
    {
     "name": "stdout",
     "output_type": "stream",
     "text": [
      "98 97 110 97 97 110 \n",
      "naanab\n",
      "120\n",
      "True\n",
      "10\n",
      "Help on function Ascii in module firstpackage.strings:\n",
      "\n",
      "Ascii(text)\n",
      "    Converts string to separate ASCII-values\n",
      "    Parameters:\n",
      "        string text\n",
      "    Returns \n",
      "        string of ASCII values\n",
      "\n"
     ]
    }
   ],
   "source": [
    "print(strings.Ascii(\"banaan\"))\n",
    "print(strings.Reverse(\"banaan\"))\n",
    "\n",
    "print(numbers.Factorial(5))\n",
    "print(numbers.Odd(5))\n",
    "print(numbers.Sum(5,5))\n",
    "\n",
    "help(strings.Ascii)\n"
   ]
  }
 ],
 "metadata": {
  "interpreter": {
   "hash": "d610dfdcb92a1c5d122566c35ab7da5d6b10ef52ef3a5fcee16ccf28740a5ed0"
  },
  "kernelspec": {
   "display_name": "Python 3.9.12 64-bit (windows store)",
   "language": "python",
   "name": "python3"
  },
  "language_info": {
   "codemirror_mode": {
    "name": "ipython",
    "version": 3
   },
   "file_extension": ".py",
   "mimetype": "text/x-python",
   "name": "python",
   "nbconvert_exporter": "python",
   "pygments_lexer": "ipython3",
   "version": "3.9.12"
  },
  "orig_nbformat": 4
 },
 "nbformat": 4,
 "nbformat_minor": 2
}
