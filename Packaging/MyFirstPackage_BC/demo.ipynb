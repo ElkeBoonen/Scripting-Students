{
 "cells": [
  {
   "cell_type": "markdown",
   "metadata": {},
   "source": [
    "# Packaging"
   ]
  },
  {
   "cell_type": "code",
   "execution_count": 5,
   "metadata": {},
   "outputs": [
    {
     "name": "stdout",
     "output_type": "stream",
     "text": [
      "Hello World\n",
      "Hello elke\n",
      "Help on function average in module mypackage.numbers:\n",
      "\n",
      "average(x, y)\n",
      "    Returns average of two numbers\n",
      "    Parameters:\n",
      "        x (int): a number\n",
      "        y (int): a number\n",
      "    Returns:\n",
      "        average of x and y\n",
      "\n",
      "Average of 8 and 9 is 8.5\n"
     ]
    }
   ],
   "source": [
    "from mypackage import strings, numbers\n",
    "\n",
    "strings.helloworld()\n",
    "strings.helloname(\"elke\")\n",
    "\n",
    "help(numbers.average)\n",
    "\n",
    "print(\"Average of 8 and 9 is\", numbers.average(8,9))"
   ]
  }
 ],
 "metadata": {
  "interpreter": {
   "hash": "d610dfdcb92a1c5d122566c35ab7da5d6b10ef52ef3a5fcee16ccf28740a5ed0"
  },
  "kernelspec": {
   "display_name": "Python 3.9.12 64-bit (windows store)",
   "language": "python",
   "name": "python3"
  },
  "language_info": {
   "codemirror_mode": {
    "name": "ipython",
    "version": 3
   },
   "file_extension": ".py",
   "mimetype": "text/x-python",
   "name": "python",
   "nbconvert_exporter": "python",
   "pygments_lexer": "ipython3",
   "version": "3.9.12"
  },
  "orig_nbformat": 4
 },
 "nbformat": 4,
 "nbformat_minor": 2
}
