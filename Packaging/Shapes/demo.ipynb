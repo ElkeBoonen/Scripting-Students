{
 "cells": [
  {
   "cell_type": "markdown",
   "metadata": {},
   "source": [
    "# Packaging & OO!\n",
    "\n",
    "Juiste formules: https://edugopav.classy.be/omtrek_opp_nieuw.htm\n",
    "\n",
    "Let op bij importeren van base --> relatief, gebruik . (zie circle.py, rectangle.py, square.py...)"
   ]
  },
  {
   "cell_type": "code",
   "execution_count": 3,
   "metadata": {},
   "outputs": [
    {
     "name": "stdout",
     "output_type": "stream",
     "text": [
      "Processing c:\\users\\elkeb\\onedrive - thomas more\\cursusmateriaal\\scripting yp0565\\git\\scripting-students\\packaging\\shapes\n",
      "  Preparing metadata (setup.py): started\n",
      "  Preparing metadata (setup.py): finished with status 'done'\n",
      "Building wheels for collected packages: shapes\n",
      "  Building wheel for shapes (setup.py): started\n",
      "  Building wheel for shapes (setup.py): finished with status 'done'\n",
      "  Created wheel for shapes: filename=shapes-0.1-py3-none-any.whl size=3706 sha256=caf3041af618ac683dac677faecb5341e8cc68babe9f1df9621d53611708d612\n",
      "  Stored in directory: C:\\Users\\elkeb\\AppData\\Local\\Temp\\pip-ephem-wheel-cache-5kasuk9_\\wheels\\08\\0f\\64\\01c4683fd234a8a57be528fcc89835b8651bc0b313f521eadc\n",
      "Successfully built shapes\n",
      "Installing collected packages: shapes\n",
      "  Attempting uninstall: shapes\n",
      "    Found existing installation: shapes 0.1\n",
      "    Uninstalling shapes-0.1:\n",
      "      Successfully uninstalled shapes-0.1\n",
      "Successfully installed shapes-0.1\n"
     ]
    },
    {
     "name": "stderr",
     "output_type": "stream",
     "text": [
      "WARNING: You are using pip version 21.3.1; however, version 22.1 is available.\n",
      "You should consider upgrading via the 'C:\\Users\\elkeb\\AppData\\Local\\Microsoft\\WindowsApps\\PythonSoftwareFoundation.Python.3.9_qbz5n2kfra8p0\\python.exe -m pip install --upgrade pip' command.\n"
     ]
    }
   ],
   "source": [
    "! pip install . --upgrade "
   ]
  },
  {
   "cell_type": "code",
   "execution_count": 4,
   "metadata": {},
   "outputs": [
    {
     "name": "stdout",
     "output_type": "stream",
     "text": [
      "78.53981633974483\n",
      "25\n"
     ]
    }
   ],
   "source": [
    "from shapes.circle import circle\n",
    "from shapes.square import square\n",
    "\n",
    "c = circle(5)\n",
    "print(c.area())\n",
    "\n",
    "s = square(5)\n",
    "print(s.area())\n"
   ]
  }
 ],
 "metadata": {
  "interpreter": {
   "hash": "d610dfdcb92a1c5d122566c35ab7da5d6b10ef52ef3a5fcee16ccf28740a5ed0"
  },
  "kernelspec": {
   "display_name": "Python 3.9.12 64-bit (windows store)",
   "language": "python",
   "name": "python3"
  },
  "language_info": {
   "codemirror_mode": {
    "name": "ipython",
    "version": 3
   },
   "file_extension": ".py",
   "mimetype": "text/x-python",
   "name": "python",
   "nbconvert_exporter": "python",
   "pygments_lexer": "ipython3",
   "version": "3.9.12"
  },
  "orig_nbformat": 4
 },
 "nbformat": 4,
 "nbformat_minor": 2
}
