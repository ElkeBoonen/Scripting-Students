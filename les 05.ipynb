{
 "metadata": {
  "language_info": {
   "codemirror_mode": {
    "name": "ipython",
    "version": 3
   },
   "file_extension": ".py",
   "mimetype": "text/x-python",
   "name": "python",
   "nbconvert_exporter": "python",
   "pygments_lexer": "ipython3",
   "version": "3.9.2-final"
  },
  "orig_nbformat": 2,
  "kernelspec": {
   "name": "python3",
   "display_name": "Python 3.9.2 64-bit",
   "metadata": {
    "interpreter": {
     "hash": "a7ff26f83e05060c3a7d34b0e500d2ccaab5c8f85efbdae62ef213692d698dc2"
    }
   }
  }
 },
 "nbformat": 4,
 "nbformat_minor": 2,
 "cells": [
  {
   "source": [
    "# Les 05: files & folders\n",
    "\n",
    "## Paden"
   ],
   "cell_type": "markdown",
   "metadata": {}
  },
  {
   "source": [
    "import os # 'oude' module\n",
    "from pathlib import Path\n",
    "\n",
    "print(type(os.getcwd()))\n",
    "print(type(Path.cwd()))\n",
    "\n",
    "print(Path.cwd().parent)\n",
    "print(Path.cwd().is_dir())\n",
    "print(Path.cwd().is_file())\n",
    "\n",
    "from pathlib import Path\n",
    "\n",
    "print(str(Path.home()) + \"\\\\\" + \"test\") #windows\n",
    "print(str(Path.home()) + \"/\" + \"test\")  #linux/macOs\n",
    "print(Path.home() / \"test\")\n",
    "\n",
    "print(Path(\"__file__\"))\n",
    "print(os.__file__)"
   ],
   "cell_type": "markdown",
   "metadata": {}
  },
  {
   "source": [
    "## os-module kan ook handig zijn!"
   ],
   "cell_type": "markdown",
   "metadata": {}
  },
  {
   "cell_type": "code",
   "execution_count": 3,
   "metadata": {},
   "outputs": [
    {
     "output_type": "stream",
     "name": "stdout",
     "text": [
      "c:\\Users\\elkeb\\OneDrive - Thomas More\\Cursusmateriaal\\Scripting YP0565\\Git\\Scripting-Students\nC:\\Users\\elkeb\nc:\\Users\\elkeb\\OneDrive - Thomas More\\Cursusmateriaal\\Scripting YP0565\\Git\\Scripting-Students\n-->c:\\Users\\elkeb\\OneDrive - Thomas More\\Cursusmateriaal\\Scripting YP0565\\Git\\Scripting-Students\n subfolder= .git\n file = hellworld.py\n file = les 01.ipynb\n file = les 02.ipynb\n file = les 03.ipynb\n file = les 04.ipynb\n file = les 05.ipynb\n file = les 05.py\n-------------------------------------\n-->c:\\Users\\elkeb\\OneDrive - Thomas More\\Cursusmateriaal\\Scripting YP0565\\Git\\Scripting-Students\\.git\n subfolder= hooks\n subfolder= info\n subfolder= logs\n subfolder= objects\n subfolder= refs\n file = COMMIT_EDITMSG\n file = config\n file = description\n file = FETCH_HEAD\n file = FETCH_HEAD-DESKTOP-O75FUEO\n file = FETCH_HEAD-DESKTOP-O75FUEO-10\n file = FETCH_HEAD-DESKTOP-O75FUEO-11\n file = FETCH_HEAD-DESKTOP-O75FUEO-12\n file = FETCH_HEAD-DESKTOP-O75FUEO-13\n file = FETCH_HEAD-DESKTOP-O75FUEO-14\n file = FETCH_HEAD-DESKTOP-O75FUEO-15\n file = FETCH_HEAD-DESKTOP-O75FUEO-16\n file = FETCH_HEAD-DESKTOP-O75FUEO-17\n file = FETCH_HEAD-DESKTOP-O75FUEO-18\n file = FETCH_HEAD-DESKTOP-O75FUEO-19\n file = FETCH_HEAD-DESKTOP-O75FUEO-2\n file = FETCH_HEAD-DESKTOP-O75FUEO-20\n file = FETCH_HEAD-DESKTOP-O75FUEO-21\n file = FETCH_HEAD-DESKTOP-O75FUEO-22\n file = FETCH_HEAD-DESKTOP-O75FUEO-23\n file = FETCH_HEAD-DESKTOP-O75FUEO-24\n file = FETCH_HEAD-DESKTOP-O75FUEO-25\n file = FETCH_HEAD-DESKTOP-O75FUEO-26\n file = FETCH_HEAD-DESKTOP-O75FUEO-27\n file = FETCH_HEAD-DESKTOP-O75FUEO-3\n file = FETCH_HEAD-DESKTOP-O75FUEO-4\n file = FETCH_HEAD-DESKTOP-O75FUEO-5\n file = FETCH_HEAD-DESKTOP-O75FUEO-6\n file = FETCH_HEAD-DESKTOP-O75FUEO-7\n file = FETCH_HEAD-DESKTOP-O75FUEO-8\n file = FETCH_HEAD-DESKTOP-O75FUEO-9\n file = HEAD\n file = index\n file = packed-refs\n-------------------------------------\n-->c:\\Users\\elkeb\\OneDrive - Thomas More\\Cursusmateriaal\\Scripting YP0565\\Git\\Scripting-Students\\.git\\hooks\n file = applypatch-msg.sample\n file = commit-msg.sample\n file = fsmonitor-watchman.sample\n file = post-update.sample\n file = pre-applypatch.sample\n file = pre-commit.sample\n file = pre-merge-commit.sample\n file = pre-push.sample\n file = pre-rebase.sample\n file = pre-receive.sample\n file = prepare-commit-msg.sample\n file = push-to-checkout.sample\n file = update.sample\n-------------------------------------\n-->c:\\Users\\elkeb\\OneDrive - Thomas More\\Cursusmateriaal\\Scripting YP0565\\Git\\Scripting-Students\\.git\\info\n file = exclude\n-------------------------------------\n-->c:\\Users\\elkeb\\OneDrive - Thomas More\\Cursusmateriaal\\Scripting YP0565\\Git\\Scripting-Students\\.git\\logs\n subfolder= refs\n file = HEAD\n-------------------------------------\n-->c:\\Users\\elkeb\\OneDrive - Thomas More\\Cursusmateriaal\\Scripting YP0565\\Git\\Scripting-Students\\.git\\logs\\refs\n subfolder= heads\n subfolder= remotes\n-------------------------------------\n-->c:\\Users\\elkeb\\OneDrive - Thomas More\\Cursusmateriaal\\Scripting YP0565\\Git\\Scripting-Students\\.git\\logs\\refs\\heads\n file = main\n-------------------------------------\n-->c:\\Users\\elkeb\\OneDrive - Thomas More\\Cursusmateriaal\\Scripting YP0565\\Git\\Scripting-Students\\.git\\logs\\refs\\remotes\n subfolder= origin\n-------------------------------------\n-->c:\\Users\\elkeb\\OneDrive - Thomas More\\Cursusmateriaal\\Scripting YP0565\\Git\\Scripting-Students\\.git\\logs\\refs\\remotes\\origin\n file = HEAD\n file = main\n-------------------------------------\n-->c:\\Users\\elkeb\\OneDrive - Thomas More\\Cursusmateriaal\\Scripting YP0565\\Git\\Scripting-Students\\.git\\objects\n subfolder= 00\n subfolder= 08\n subfolder= 12\n subfolder= 17\n subfolder= 1b\n subfolder= 28\n subfolder= 36\n subfolder= 46\n subfolder= 4a\n subfolder= 50\n subfolder= 64\n subfolder= 7a\n subfolder= 84\n subfolder= b4\n subfolder= c3\n subfolder= de\n subfolder= e4\n subfolder= ef\n subfolder= info\n subfolder= pack\n-------------------------------------\n-->c:\\Users\\elkeb\\OneDrive - Thomas More\\Cursusmateriaal\\Scripting YP0565\\Git\\Scripting-Students\\.git\\objects\\00\n file = d70966d3a215d782cbcf8a86baa3c3ccfd27ab\n-------------------------------------\n-->c:\\Users\\elkeb\\OneDrive - Thomas More\\Cursusmateriaal\\Scripting YP0565\\Git\\Scripting-Students\\.git\\objects\\08\n file = d5fc4e84b2ec55f4e6018392dfe10dc76f274c\n-------------------------------------\n-->c:\\Users\\elkeb\\OneDrive - Thomas More\\Cursusmateriaal\\Scripting YP0565\\Git\\Scripting-Students\\.git\\objects\\12\n file = 3d66840a94d91c84346febfc6bf69ce2760c26\n-------------------------------------\n-->c:\\Users\\elkeb\\OneDrive - Thomas More\\Cursusmateriaal\\Scripting YP0565\\Git\\Scripting-Students\\.git\\objects\\17\n file = 67012ffb37f58a3f07acf6bf82cd28b19cdaef\n-------------------------------------\n-->c:\\Users\\elkeb\\OneDrive - Thomas More\\Cursusmateriaal\\Scripting YP0565\\Git\\Scripting-Students\\.git\\objects\\1b\n file = aca03519c2dc2846773d2784cf06a66abdb51c\n-------------------------------------\n-->c:\\Users\\elkeb\\OneDrive - Thomas More\\Cursusmateriaal\\Scripting YP0565\\Git\\Scripting-Students\\.git\\objects\\28\n file = 5ef5e23337b6aad2cf374112eda5b28f978fcc\n-------------------------------------\n-->c:\\Users\\elkeb\\OneDrive - Thomas More\\Cursusmateriaal\\Scripting YP0565\\Git\\Scripting-Students\\.git\\objects\\36\n file = 77e1d8a6dc94be767e8030840c8f0c337fb47d\n-------------------------------------\n-->c:\\Users\\elkeb\\OneDrive - Thomas More\\Cursusmateriaal\\Scripting YP0565\\Git\\Scripting-Students\\.git\\objects\\46\n file = eeb79078107c7bee442f55a5db597b0b8b6f07\n-------------------------------------\n-->c:\\Users\\elkeb\\OneDrive - Thomas More\\Cursusmateriaal\\Scripting YP0565\\Git\\Scripting-Students\\.git\\objects\\4a\n file = d63f8b220158f38bcf9490d49cdd1d6b5c20f7\n-------------------------------------\n-->c:\\Users\\elkeb\\OneDrive - Thomas More\\Cursusmateriaal\\Scripting YP0565\\Git\\Scripting-Students\\.git\\objects\\50\n file = 4694be628e4131bd4aa66df274569543ecc078\n-------------------------------------\n-->c:\\Users\\elkeb\\OneDrive - Thomas More\\Cursusmateriaal\\Scripting YP0565\\Git\\Scripting-Students\\.git\\objects\\64\n file = eec6513eb30201324cdc344f01026b9c85a43a\n-------------------------------------\n-->c:\\Users\\elkeb\\OneDrive - Thomas More\\Cursusmateriaal\\Scripting YP0565\\Git\\Scripting-Students\\.git\\objects\\7a\n file = 2e317ab1582908f63da091c3647fde593cb8c3\n-------------------------------------\n-->c:\\Users\\elkeb\\OneDrive - Thomas More\\Cursusmateriaal\\Scripting YP0565\\Git\\Scripting-Students\\.git\\objects\\84\n file = 950a21ba531bb095f067698d7f51464e7643f1\n-------------------------------------\n-->c:\\Users\\elkeb\\OneDrive - Thomas More\\Cursusmateriaal\\Scripting YP0565\\Git\\Scripting-Students\\.git\\objects\\b4\n file = acc194f5092916ed570d3548da7c581810e3ee\n-------------------------------------\n-->c:\\Users\\elkeb\\OneDrive - Thomas More\\Cursusmateriaal\\Scripting YP0565\\Git\\Scripting-Students\\.git\\objects\\c3\n file = a3873c355223e2ff4060edfef8ef03a113ef9f\n-------------------------------------\n-->c:\\Users\\elkeb\\OneDrive - Thomas More\\Cursusmateriaal\\Scripting YP0565\\Git\\Scripting-Students\\.git\\objects\\de\n file = c44f17e26017dc019e34010dee7325d68c3df6\n-------------------------------------\n-->c:\\Users\\elkeb\\OneDrive - Thomas More\\Cursusmateriaal\\Scripting YP0565\\Git\\Scripting-Students\\.git\\objects\\e4\n file = 6dfb1032198054b26398d77d212b63661a2677\n-------------------------------------\n-->c:\\Users\\elkeb\\OneDrive - Thomas More\\Cursusmateriaal\\Scripting YP0565\\Git\\Scripting-Students\\.git\\objects\\ef\n file = e8d7703984878f8cc4a1554ff15039ff6b3dc0\n-------------------------------------\n-->c:\\Users\\elkeb\\OneDrive - Thomas More\\Cursusmateriaal\\Scripting YP0565\\Git\\Scripting-Students\\.git\\objects\\info\n-------------------------------------\n-->c:\\Users\\elkeb\\OneDrive - Thomas More\\Cursusmateriaal\\Scripting YP0565\\Git\\Scripting-Students\\.git\\objects\\pack\n file = pack-ff7afbadafe97cfb626ff70b5bcfb62ed91bdace.idx\n file = pack-ff7afbadafe97cfb626ff70b5bcfb62ed91bdace.pack\n-------------------------------------\n-->c:\\Users\\elkeb\\OneDrive - Thomas More\\Cursusmateriaal\\Scripting YP0565\\Git\\Scripting-Students\\.git\\refs\n subfolder= heads\n subfolder= remotes\n subfolder= tags\n-------------------------------------\n-->c:\\Users\\elkeb\\OneDrive - Thomas More\\Cursusmateriaal\\Scripting YP0565\\Git\\Scripting-Students\\.git\\refs\\heads\n file = main\n-------------------------------------\n-->c:\\Users\\elkeb\\OneDrive - Thomas More\\Cursusmateriaal\\Scripting YP0565\\Git\\Scripting-Students\\.git\\refs\\remotes\n subfolder= origin\n-------------------------------------\n-->c:\\Users\\elkeb\\OneDrive - Thomas More\\Cursusmateriaal\\Scripting YP0565\\Git\\Scripting-Students\\.git\\refs\\remotes\\origin\n file = HEAD\n file = main\n-------------------------------------\n-->c:\\Users\\elkeb\\OneDrive - Thomas More\\Cursusmateriaal\\Scripting YP0565\\Git\\Scripting-Students\\.git\\refs\\tags\n-------------------------------------\n"
     ]
    }
   ],
   "source": [
    "import os\n",
    "from pathlib import Path\n",
    "\n",
    "currentPath = Path.cwd()\n",
    "\n",
    "print(Path.cwd())\n",
    "os.chdir(Path.home())\n",
    "print(Path.cwd())\n",
    "\n",
    "os.chdir(currentPath)\n",
    "print(Path.cwd())\n",
    "\n",
    "for folderName, subfolders, filenames in os.walk(currentPath):\n",
    "    print(\"-->\" + folderName)\n",
    "\n",
    "    for subfolder in subfolders:\n",
    "        print(\" subfolder= \" + subfolder)\n",
    "    \n",
    "    for filename in filenames:\n",
    "        print(\" file = \" + filename)\n",
    "\n",
    "    print(\"-------------------------------------\")\n"
   ]
  },
  {
   "cell_type": "code",
   "execution_count": 12,
   "metadata": {},
   "outputs": [
    {
     "output_type": "stream",
     "name": "stdout",
     "text": [
      "['.git', 'hellworld.py', 'les 01.ipynb', 'les 02.ipynb', 'les 03.ipynb', 'les 04.ipynb', 'les 05.ipynb', 'les 05.py']\n[WindowsPath('C:/Users/elkeb/.AndroidStudio3.1'), WindowsPath('C:/Users/elkeb/.p2'), WindowsPath('C:/Users/elkeb/1000'), WindowsPath('C:/Users/elkeb/3D Objects'), WindowsPath('C:/Users/elkeb/audio.mp3'), WindowsPath('C:/Users/elkeb/ntuser.dat.LOG1'), WindowsPath('C:/Users/elkeb/ntuser.dat.LOG2'), WindowsPath('C:/Users/elkeb/NTUSER.DAT{071e5265-bc6f-11ea-bc00-e06995365fe5}.TM.blf'), WindowsPath('C:/Users/elkeb/NTUSER.DAT{071e5265-bc6f-11ea-bc00-e06995365fe5}.TMContainer00000000000000000001.regtrans-ms'), WindowsPath('C:/Users/elkeb/NTUSER.DAT{071e5265-bc6f-11ea-bc00-e06995365fe5}.TMContainer00000000000000000002.regtrans-ms')]\nC:\\Users\\elkeb\\CWin.txt\nC:\\Users\\elkeb\\list.txt\nC:\\Users\\elkeb\\print.txt\nC:\\Users\\elkeb\\test.txt\n"
     ]
    }
   ],
   "source": [
    "from pathlib import Path\n",
    "import os\n",
    "\n",
    "print(os.listdir())\n",
    "\n",
    "print(list(Path.home().glob(\"*[0-9]*\")))\n",
    "for bestand in Path.home().glob(\"*.txt\"):\n",
    "    print(bestand)\n"
   ]
  },
  {
   "source": [
    "## Schrijven en lezen van files"
   ],
   "cell_type": "markdown",
   "metadata": {}
  },
  {
   "cell_type": "code",
   "execution_count": 21,
   "metadata": {},
   "outputs": [
    {
     "output_type": "stream",
     "name": "stdout",
     "text": [
      "Dit is een test\ndit is iets aan toevoegen\n[]\n['Dit is een test\\n', 'dit is iets aan toevoegen']\n"
     ]
    }
   ],
   "source": [
    "f = open(\"test.txt\",'w')\n",
    "f.write(\"Dit is een test\")\n",
    "f.close()\n",
    "\n",
    "f = open(\"test.txt\", \"a\")\n",
    "f.write(\"\\ndit is iets aan toevoegen\")\n",
    "f.close()\n",
    "\n",
    "f = open(\"test.txt\", 'r')\n",
    "print(f.read())\n",
    "print(f.readlines())\n",
    "f.close()\n",
    "\n",
    "f = open(\"test.txt\", 'r')\n",
    "print(f.readlines())\n",
    "f.close()"
   ]
  },
  {
   "source": [
    "## Harry Potter inlezen en Voldemort zoeken!"
   ],
   "cell_type": "markdown",
   "metadata": {}
  },
  {
   "cell_type": "code",
   "execution_count": 27,
   "metadata": {
    "tags": []
   },
   "outputs": [],
   "source": [
    "f = open(\"harrypotter.txt\")\n",
    "lines = f.readlines()\n",
    "f.close()\n",
    "\n",
    "nf = open(\"Voldemort.txt\", 'w')\n",
    "\n",
    "for line in lines:\n",
    "    if \"Voldemort\" in line:\n",
    "        nf.write(line)\n",
    "\n",
    "nf.close()"
   ]
  },
  {
   "cell_type": "code",
   "execution_count": 28,
   "metadata": {},
   "outputs": [
    {
     "output_type": "stream",
     "name": "stdout",
     "text": [
      "37\n"
     ]
    }
   ],
   "source": [
    "import re\n",
    "\n",
    "text = open(\"harrypotter.txt\",'r')\n",
    "\n",
    "filetext = text.read()\n",
    "text.close()\n",
    "\n",
    "matches = re.findall(\"Voldemort\", filetext)\n",
    "\n",
    "print(len(matches))\n",
    "\n",
    "file_ = open('voldemort2.txt', 'w')\n",
    "\n",
    "occ = len(matches)\n",
    "file_.write(\"Voldemort occurences = \" + str(occ) + \"\\n\")\n",
    "\n",
    "file_.close()"
   ]
  },
  {
   "cell_type": "code",
   "execution_count": 29,
   "metadata": {},
   "outputs": [
    {
     "output_type": "stream",
     "name": "stdout",
     "text": [
      "The word Voldemort occurred 37 times\n"
     ]
    }
   ],
   "source": [
    "f = open(\"harrypotter.txt\", 'r')\n",
    "text = f.read()\n",
    "occurrence = text.count(\"Voldemort\")\n",
    "file_oc = open(\"occurrences.txt\", 'w')\n",
    "occurrence = str(occurrence)\n",
    "file_oc.write(\"The word Voldemort occurred \" + occurrence + \" times\")\n",
    "file_oc.close()\n",
    "f.close()\n",
    "\n",
    "file_oc = open(\"occurrences.txt\", 'r')\n",
    "print(file_oc.read())\n",
    "file_oc.close() "
   ]
  },
  {
   "source": [
    "## Files & folders kopieren & verwijderen"
   ],
   "cell_type": "markdown",
   "metadata": {}
  },
  {
   "cell_type": "code",
   "execution_count": 70,
   "metadata": {},
   "outputs": [
    {
     "output_type": "execute_result",
     "data": {
      "text/plain": [
       "'c:\\\\Users\\\\elkeb\\\\OneDrive - Thomas More\\\\Cursusmateriaal\\\\Scripting YP0565\\\\Git\\\\Scripting-Students\\\\harrypotter.txt'"
      ]
     },
     "metadata": {},
     "execution_count": 70
    }
   ],
   "source": [
    "import os, shutil\n",
    "\n",
    "if not os.path.exists(\"tekstbestanden\") :\n",
    "    os.mkdir(\"tekstbestanden\")\n",
    "\n",
    "for file in Path.cwd().glob(\"*.txt\"):\n",
    "    shutil.move(file, Path.cwd() / \"tekstbestanden\")\n",
    "\n",
    "shutil.copy(Path.cwd() / \"tekstbestanden\" / \"harrypotter.txt\", Path.cwd())"
   ]
  },
  {
   "cell_type": "code",
   "execution_count": 71,
   "metadata": {},
   "outputs": [],
   "source": [
    "shutil.rmtree(\"tekstbestanden\")\n"
   ]
  },
  {
   "cell_type": "code",
   "execution_count": 45,
   "metadata": {},
   "outputs": [],
   "source": [
    "# safe delete --> file wordt naar recycle bin gestuurd!\n",
    "import send2trash\n",
    "\n",
    "send2trash.send2trash(\"harrypotter.txt\")"
   ]
  },
  {
   "source": [
    "## Zip-bestanden!"
   ],
   "cell_type": "markdown",
   "metadata": {}
  },
  {
   "cell_type": "code",
   "execution_count": 46,
   "metadata": {},
   "outputs": [],
   "source": [
    "import zipfile\n",
    "\n",
    "nz = zipfile.ZipFile(\"new.zip\", 'w')\n",
    "nz.write(\"harrypotter.txt\")\n",
    "nz.close()\n"
   ]
  },
  {
   "cell_type": "code",
   "execution_count": 47,
   "metadata": {},
   "outputs": [],
   "source": [
    "import zipfile\n",
    "\n",
    "z = zipfile.ZipFile(\"harrypotter.zip\")\n",
    "z.extractall()\n",
    "z.close()"
   ]
  },
  {
   "source": [
    "## CSV-bestanden!"
   ],
   "cell_type": "markdown",
   "metadata": {}
  },
  {
   "cell_type": "code",
   "execution_count": 56,
   "metadata": {
    "tags": [
     "outputPrepend"
    ]
   },
   "outputs": [
    {
     "output_type": "stream",
     "name": "stdout",
     "text": [
      "                                  pre�1964               Early�July,�1996\n113  114                               Edgar Bones    Male                                                                                                   NaN                    Hufflepuff                                                                                 Unknown               Unknown                    Human    Pure-blood�or�half-blood                  Reddish-brown                         Grey                                                                             Original Order of the Phoenix                                                                                                                   Said to be a great wizard                                            NaN                           1981\n114  115                           Dorcas Meadowes  Female                                                                                                   NaN                           NaN                                                                                 Unknown               Unknown                    Human                         NaN                          Black                        Brown                                                                             Original Order of the Phoenix                                                                                                                                         NaN                                            NaN                           1981\n115  116                             Benjy Fenwick    Male                                                                                                   NaN                           NaN                                                                                 Unknown               Unknown                    Human                         NaN                          Black                        Black                                                                             Original Order of the Phoenix                                                                                                                                         NaN                                            NaN                           1981\n116  117                      Madame Olympe Maxime  Female                                                          Headmistress of�Beauxbatons Academy of Magic  Beauxbatons Academy of Magic                                                                                 Unknown               Unknown    Half-Human/Half-Giant     Part-Human�(Half-giant)                          Brown                        Black                                                                                                       NaN                                                                                   An �excellent dancer�, in the words of Dumbledore himself                                            NaN                            NaN\n117  118                        Gabrielle Delacour  Female                                                                                                   NaN  Beauxbatons Academy of Magic                                                                                 Unknown               Unknown                   Human�               Quarter-Veela                 Silvery-blonde                          NaN                                                                                                       NaN                                                                           part Veela and therefore may possess some of their magical powers                   �31 July�1985 -�30 July�1986                            NaN\n118  119                               Viktor Krum    Male                                                      Seeker�for the�Bulgarian National Quidditch team          Durmstrang Institute                                                      10�\", Hornbeam, dragon heartstring               Unknown                   Human�    Pure-blood�or�half-blood                           Dark                         Dark                                                                                                       NaN                                                                                                        One of the best Seekers in the world                             April-August,�1976                            NaN\n119  120                           Petunia Dursley  Female                                                                                                   NaN                           NaN                                                                                     NaN                   NaN                   Human�                      Muggle                         Blonde                          NaN                                                                                                       NaN                                                                                                                                         NaN                                       Pre�1960                            NaN\n120  121                            Vernon Dursley    Male                                                                                 Director at�Grunnings                           NaN                                                                                     NaN                   NaN                   Human�                      Muggle                          Black                          NaN                                                                                                       NaN                                                                                          Schmoozing clients, pretending magic doesn't exist                                       Pre�1954                            NaN\n121  122                            Dudley Dursley    Male                                                                                                   NaN                           NaN                                                                                     NaN                   NaN                   Human�                      Muggle                          Blond                         Blue                                                                                                       NaN                                                                                                                                         NaN                                  �23 June�1980                            NaN\n122  123                             Marge Dursley  Female                                                                                           Dog breeder                           NaN                                                                                     NaN                   NaN                   Human�                      Muggle                           Grey                          NaN                                                                                                       NaN                                                                                                                           Breeding bulldogs                                       Pre�1954                            NaN\n123  124                            Dennis Creevey    Male                                                                                               Student                    Gryffindor                                                                                 Unknown               Unknown                   Human�                 Muggle-born                    Mousy brown                          NaN                                                                                         Dumbledore's Army                                                                                                                                         NaN             �1 September�1982 - 31 August�1983                            NaN\n124  125                      Albus Severus Potter    Male                                                                                               Student                     Slytherin                                                                                 Unknown               Unknown                   Human�                  Half-blood                      Jet-black                 Bright green                                                                                                       NaN                                                                                                                                         NaN        Between�1 September�2005-31 August�2006                            NaN\n125  126                  Scorpius Hyperion Malfoy    Male                                                                                               Student                     Slytherin                                                                                 Unknown               Unknown                   Human�                  Pure-blood                    White blond                         Grey                                                                                                       NaN                                                                                                                                         NaN        Between�1 September�2005-31 August�2007                            NaN\n126  127                        Edward Remus Lupin    Male                                                                                               Student                    Hufflepuff                                                                                 Unknown               Unknown   Human�(Metamorphmagus)                  Half-blood                       Variable                     Variable                                                                                                       NaN                                                                                                                                         NaN                                    April,�1998                            NaN\n127  128                       James Sirius Potter    Male                                                                                               Student                    Gryffindor                                                                                 Unknown               Unknown                   Human�                  Half-blood                            NaN                          NaN                                                                                                       NaN                                                                                                                                         NaN                1 September�2003-31 August�2004                            NaN\n128  129                      Rose Granger-Weasley  Female                                                                                               Student                    Gryffindor                                                                                 Unknown               Unknown                   Human�                  Half-blood                            Red                          NaN                                                                                                       NaN                                                                                                                                      Chaser               1 September�2005-31 August�2006�                            NaN\n129  130                               Argus Filch    Male                                                                                 Caretaker of�Hogwarts                           NaN                                                                                     NaN                   NaN                   Human�                       Squib                           Grey                         Pale                                                                Hogwarts School of Witchcraft and Wizardry                                                                                                                       Sniffing out mischief                                       Pre�1951                            NaN\n130  131                             Poppy Pomfrey  Female                                                                             Matron at�Hogwarts School                           NaN                                                                                 Unknown         Non-corporeal                   Human�    Pure-blood�or�half-blood                            NaN                          NaN                                                                Hogwarts School of Witchcraft and Wizardry                                                                                                                      Skilled medical healer                                       pre�1954                            NaN\n131  132                             Rolanda Hooch  Female                                                                         Flying Instructor at Hogwarts                           NaN                                                                                 Unknown         Non-corporeal                   Human�                         NaN                           Grey                       Yellow                                                                Hogwarts School of Witchcraft and Wizardry                                                                                              Teaching, flying, refereeing Quidditch matches                                       pre�1918                            NaN\n132  133                                Irma Pince  Female                                                                                 Librarian at Hogwarts                           NaN                                                                                 Unknown         Non-corporeal                   Human�                         NaN                            NaN                          NaN                                                                Hogwarts School of Witchcraft and Wizardry                                                                                                                                         NaN                                       Pre�1966                            NaN\n133  134                           Aurora Sinistra  Female                                                                                Astronomer at Hogwarts                           NaN                                                                                 Unknown               Unknown                   Human�    Pure-blood�or�half-blood                           Dark                         Dark                                                                Hogwarts School of Witchcraft and Wizardry                                                                                                                                         NaN                                       Pre�1968                            NaN\n134  135                            Septima Vector  Female                                                                    Professor�of�Arithmancyat�Hogwarts                           NaN                                                                                 Unknown               Unknown                   Human�                         NaN                          Black                          NaN                                                                Hogwarts School of Witchcraft and Wizardry                                                                                                                                         NaN                                    Before�1974                            NaN\n135  136                  Wilhelmina Grubbly-Plank  Female                                         Substitute professor�of�Care of Magical Creatures�at�Hogwarts                           NaN                                                                                 Unknown         Non-corporeal                   Human�                         NaN                           Grey                          NaN                                                                Hogwarts School of Witchcraft and Wizardry                                                                                                                                         NaN                                            NaN                            NaN\n136  137                           Fenrir Greyback    Male                                                                                                   NaN                           NaN                                                                                 Unknown                  None                 Werewolf                         NaN                           Grey                          NaN                                                                            Lord Voldemort �| Death Eaters                                                                                                                             Physical combat                                       Pre�1945                            NaN\n137  138                       Gellert Grindelwald    Male                                                              Revolutionary leader(c.�1920s[6]���1945)                           NaN                                                     15\", Elder, Thestral tail hair core                   NaN                   Human�    Pure-blood�or�half-blood                          Blond                         Blue                                                                            Gellert Grindelwald's Acolytes                                                                                                                                    Duelling                                           1883                    March,�1998\n138  139                                     Dobby    Male                Malfoy family's house-elf (? - 1993),\\nHogwarts kitchens worker (December 1994 - 1998)                           NaN                                                                                     NaN                   NaN                House elf                         NaN                          Green                          NaN                                                                                                       NaN  A type of magic specific to house-elves, performed without a wand which includes the ability to apparate, disarm and make objects levitate                                        28 June               Late�March,�1998\n139  140                                  Kreacher    Male           \\nBlack family's house-elf (?-1996), \\nHarry Potter's house-elf, \\nHogwarts kitchen worker                            NaN                                                                                     NaN                   NaN                House elf                         NaN                          White                          NaN                                                                                                       NaN                                     Magic performed without a wand which includes the ability to apparate, disarm and make objects levitate                                            NaN                            NaN\n"
     ]
    }
   ],
   "source": [
    "import pandas as pd\n",
    "\n",
    "df = pd.read_csv(\"Characters.csv\", delimiter=';')\n",
    "print(df)\n",
    "print(df.to_string())\n"
   ]
  },
  {
   "cell_type": "code",
   "execution_count": null,
   "metadata": {},
   "outputs": [],
   "source": []
  }
 ]
}