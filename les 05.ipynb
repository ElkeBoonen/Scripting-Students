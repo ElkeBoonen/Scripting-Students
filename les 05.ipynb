{
 "metadata": {
  "language_info": {
   "codemirror_mode": {
    "name": "ipython",
    "version": 3
   },
   "file_extension": ".py",
   "mimetype": "text/x-python",
   "name": "python",
   "nbconvert_exporter": "python",
   "pygments_lexer": "ipython3",
   "version": "3.9.2-final"
  },
  "orig_nbformat": 2,
  "kernelspec": {
   "name": "python3",
   "display_name": "Python 3.9.2 64-bit",
   "metadata": {
    "interpreter": {
     "hash": "a7ff26f83e05060c3a7d34b0e500d2ccaab5c8f85efbdae62ef213692d698dc2"
    }
   }
  }
 },
 "nbformat": 4,
 "nbformat_minor": 2,
 "cells": [
  {
   "source": [
    "# Les 05: files & folders\n",
    "\n",
    "## Paden"
   ],
   "cell_type": "markdown",
   "metadata": {}
  },
  {
   "source": [
    "import os # 'oude' module\n",
    "from pathlib import Path\n",
    "\n",
    "print(type(os.getcwd()))\n",
    "print(type(Path.cwd()))\n",
    "\n",
    "print(Path.cwd().parent)\n",
    "print(Path.cwd().is_dir())\n",
    "print(Path.cwd().is_file())\n",
    "\n",
    "from pathlib import Path\n",
    "\n",
    "print(str(Path.home()) + \"\\\\\" + \"test\") #windows\n",
    "print(str(Path.home()) + \"/\" + \"test\")  #linux/macOs\n",
    "print(Path.home() / \"test\")\n",
    "\n",
    "print(Path(\"__file__\"))\n",
    "print(os.__file__)"
   ],
   "cell_type": "code",
   "metadata": {},
   "execution_count": null,
   "outputs": []
  },
  {
   "source": [
    "## os-module kan ook handig zijn!"
   ],
   "cell_type": "markdown",
   "metadata": {}
  },
  {
   "cell_type": "code",
   "execution_count": null,
   "metadata": {},
   "outputs": [],
   "source": [
    "import os\n",
    "from pathlib import Path\n",
    "\n",
    "currentPath = Path.cwd()\n",
    "\n",
    "print(Path.cwd())\n",
    "os.chdir(Path.home())\n",
    "print(Path.cwd())\n",
    "\n",
    "os.chdir(currentPath)\n",
    "print(Path.cwd())\n",
    "\n",
    "for folderName, subfolders, filenames in os.walk(currentPath):\n",
    "    print(\"-->\" + folderName)\n",
    "\n",
    "    for subfolder in subfolders:\n",
    "        print(\" subfolder= \" + subfolder)\n",
    "    \n",
    "    for filename in filenames:\n",
    "        print(\" file = \" + filename)\n",
    "\n",
    "    print(\"-------------------------------------\")\n"
   ]
  },
  {
   "cell_type": "code",
   "execution_count": null,
   "metadata": {},
   "outputs": [],
   "source": [
    "from pathlib import Path\n",
    "import os\n",
    "\n",
    "print(os.listdir())\n",
    "\n",
    "print(list(Path.home().glob(\"*[0-9]*\")))\n",
    "for bestand in Path.home().glob(\"*.txt\"):\n",
    "    print(bestand)\n"
   ]
  },
  {
   "source": [
    "## Schrijven en lezen van files"
   ],
   "cell_type": "markdown",
   "metadata": {}
  },
  {
   "cell_type": "code",
   "execution_count": null,
   "metadata": {},
   "outputs": [],
   "source": [
    "f = open(\"test.txt\",'w')\n",
    "f.write(\"Dit is een test\")\n",
    "f.close()\n",
    "\n",
    "f = open(\"test.txt\", \"a\")\n",
    "f.write(\"\\ndit is iets aan toevoegen\")\n",
    "f.close()\n",
    "\n",
    "f = open(\"test.txt\", 'r')\n",
    "print(f.read())\n",
    "print(f.readlines())\n",
    "f.close()\n",
    "\n",
    "f = open(\"test.txt\", 'r')\n",
    "print(f.readlines())\n",
    "f.close()"
   ]
  },
  {
   "source": [
    "## Harry Potter inlezen en Voldemort zoeken!"
   ],
   "cell_type": "markdown",
   "metadata": {}
  },
  {
   "cell_type": "code",
   "execution_count": null,
   "metadata": {
    "tags": []
   },
   "outputs": [],
   "source": [
    "f = open(\"les 05 - harrypotter.txt\")\n",
    "lines = f.readlines()\n",
    "f.close()\n",
    "\n",
    "nf = open(\"Voldemort.txt\", 'w')\n",
    "\n",
    "for line in lines:\n",
    "    if \"Voldemort\" in line:\n",
    "        nf.write(line)\n",
    "\n",
    "nf.close()"
   ]
  },
  {
   "cell_type": "code",
   "execution_count": null,
   "metadata": {},
   "outputs": [],
   "source": [
    "import re\n",
    "\n",
    "text = open(\"les 05 -harrypotter.txt\",'r')\n",
    "\n",
    "filetext = text.read()\n",
    "text.close()\n",
    "\n",
    "matches = re.findall(\"Voldemort\", filetext)\n",
    "\n",
    "print(len(matches))\n",
    "\n",
    "file_ = open('voldemort2.txt', 'w')\n",
    "\n",
    "occ = len(matches)\n",
    "file_.write(\"Voldemort occurences = \" + str(occ) + \"\\n\")\n",
    "\n",
    "file_.close()"
   ]
  },
  {
   "cell_type": "code",
   "execution_count": null,
   "metadata": {},
   "outputs": [],
   "source": [
    "f = open(\"les 05 -harrypotter.txt\", 'r')\n",
    "text = f.read()\n",
    "occurrence = text.count(\"Voldemort\")\n",
    "file_oc = open(\"occurrences.txt\", 'w')\n",
    "occurrence = str(occurrence)\n",
    "file_oc.write(\"The word Voldemort occurred \" + occurrence + \" times\")\n",
    "file_oc.close()\n",
    "f.close()\n",
    "\n",
    "file_oc = open(\"occurrences.txt\", 'r')\n",
    "print(file_oc.read())\n",
    "file_oc.close() "
   ]
  },
  {
   "source": [
    "## Files & folders kopieren & verwijderen"
   ],
   "cell_type": "markdown",
   "metadata": {}
  },
  {
   "cell_type": "code",
   "execution_count": null,
   "metadata": {},
   "outputs": [],
   "source": [
    "import os, shutil\n",
    "\n",
    "if not os.path.exists(\"tekstbestanden\") :\n",
    "    os.mkdir(\"tekstbestanden\")\n",
    "\n",
    "for file in Path.cwd().glob(\"*.txt\"):\n",
    "    shutil.move(file, Path.cwd() / \"tekstbestanden\")\n",
    "\n",
    "shutil.copy(Path.cwd() / \"tekstbestanden\" / \"les 05 -harrypotter.txt\", Path.cwd())"
   ]
  },
  {
   "cell_type": "code",
   "execution_count": null,
   "metadata": {},
   "outputs": [],
   "source": [
    "shutil.rmtree(\"tekstbestanden\")\n"
   ]
  },
  {
   "cell_type": "code",
   "execution_count": null,
   "metadata": {},
   "outputs": [],
   "source": [
    "# safe delete --> file wordt naar recycle bin gestuurd!\n",
    "import send2trash\n",
    "\n",
    "send2trash.send2trash(\"les 05 -harrypotter.txt\")"
   ]
  },
  {
   "source": [
    "## Zip-bestanden!"
   ],
   "cell_type": "markdown",
   "metadata": {}
  },
  {
   "cell_type": "code",
   "execution_count": null,
   "metadata": {},
   "outputs": [],
   "source": [
    "import zipfile\n",
    "\n",
    "nz = zipfile.ZipFile(\"new.zip\", 'w')\n",
    "nz.write(\"les 05 -harrypotter.txt\")\n",
    "nz.close()\n"
   ]
  },
  {
   "cell_type": "code",
   "execution_count": null,
   "metadata": {},
   "outputs": [],
   "source": [
    "import zipfile\n",
    "\n",
    "z = zipfile.ZipFile(\"les 05 - harrypotter.zip\")\n",
    "z.extractall()\n",
    "z.close()"
   ]
  },
  {
   "source": [
    "## CSV-bestanden!"
   ],
   "cell_type": "markdown",
   "metadata": {}
  },
  {
   "cell_type": "code",
   "execution_count": null,
   "metadata": {
    "tags": []
   },
   "outputs": [],
   "source": [
    "import pandas as pd\n",
    "\n",
    "df = pd.read_csv(\"Characters.csv\", delimiter=';')\n",
    "print(df)\n"
   ]
  }
 ]
}