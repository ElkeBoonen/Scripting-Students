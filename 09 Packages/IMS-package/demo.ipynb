{
 "cells": [
  {
   "attachments": {},
   "cell_type": "markdown",
   "metadata": {},
   "source": [
    "# DEMO\n",
    "\n",
    "Dit is een demo-file voor de IMS-package"
   ]
  },
  {
   "cell_type": "code",
   "execution_count": 2,
   "metadata": {},
   "outputs": [
    {
     "name": "stdout",
     "output_type": "stream",
     "text": [
      "True\n"
     ]
    }
   ],
   "source": [
    "from mypackage import math_package as mp\n",
    "\n",
    "print(mp.is_prime_number(13))"
   ]
  },
  {
   "attachments": {},
   "cell_type": "markdown",
   "metadata": {},
   "source": [
    "## Strings-module\n",
    "\n",
    "In deze module maken we gebruik van een API https://rapidapi.com/armangokka/api/translo "
   ]
  },
  {
   "cell_type": "code",
   "execution_count": 11,
   "metadata": {},
   "outputs": [
    {
     "name": "stdout",
     "output_type": "stream",
     "text": [
      "2\n"
     ]
    }
   ],
   "source": [
    "from mypackage import strings_package\n",
    "\n",
    "print(strings_package.count_chars(\"Dit is een Test\",\"t\"))"
   ]
  },
  {
   "cell_type": "code",
   "execution_count": 12,
   "metadata": {},
   "outputs": [
    {
     "name": "stdout",
     "output_type": "stream",
     "text": [
      "314.1592653589793\n",
      "5\n"
     ]
    }
   ],
   "source": [
    "from mypackage import strings_package as sp, math_package as mp\n",
    "\n",
    "print(mp.area_circle(10))\n",
    "print(sp.count_chars(\"Dit is nog eens een test\",\"e\"))"
   ]
  },
  {
   "attachments": {},
   "cell_type": "markdown",
   "metadata": {},
   "source": [
    "## Help functies"
   ]
  },
  {
   "cell_type": "code",
   "execution_count": 14,
   "metadata": {},
   "outputs": [
    {
     "name": "stdout",
     "output_type": "stream",
     "text": [
      "Help on module mypackage.strings_package in mypackage:\n",
      "\n",
      "NAME\n",
      "    mypackage.strings_package\n",
      "\n",
      "FUNCTIONS\n",
      "    count_chars(text, char)\n",
      "        Counts specific character in given text\n",
      "        Parameters\n",
      "            text: string\n",
      "            char: single character\n",
      "        Returns:\n",
      "            count\n",
      "    \n",
      "    translate(text, lang)\n",
      "        Translates text from English to given language\n",
      "        Parameters\n",
      "            text: string\n",
      "            lang: ISO code language\n",
      "        Returns\n",
      "            translated text\n",
      "\n",
      "FILE\n",
      "    c:\\users\\elkeb\\onedrive - thomas more\\github\\scripting-students\\09 packages\\ims-package\\mypackage\\strings_package.py\n",
      "\n",
      "\n",
      "Help on function area_circle in module mypackage.math_package:\n",
      "\n",
      "area_circle(r)\n",
      "    Calculates area of circle\n",
      "    Parameters\n",
      "        r: radius\n",
      "    Returns\n",
      "        area of circle\n",
      "\n"
     ]
    }
   ],
   "source": [
    "from mypackage import strings_package as sp, math_package as mp\n",
    "\n",
    "help(sp)\n",
    "help(mp.area_circle)"
   ]
  }
 ],
 "metadata": {
  "kernelspec": {
   "display_name": "Python 3",
   "language": "python",
   "name": "python3"
  },
  "language_info": {
   "codemirror_mode": {
    "name": "ipython",
    "version": 3
   },
   "file_extension": ".py",
   "mimetype": "text/x-python",
   "name": "python",
   "nbconvert_exporter": "python",
   "pygments_lexer": "ipython3",
   "version": "3.7.4"
  },
  "orig_nbformat": 4
 },
 "nbformat": 4,
 "nbformat_minor": 2
}
