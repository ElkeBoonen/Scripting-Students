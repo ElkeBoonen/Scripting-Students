{
 "cells": [
  {
   "cell_type": "code",
   "execution_count": null,
   "metadata": {},
   "outputs": [],
   "source": [
    "from mypackage import love\n",
    "\n",
    "print(love.calculate(\"Elke\",\"Tristan\"))\n",
    "print(love.calculate2(\"Elke\",\"Tristan\"))\n"
   ]
  },
  {
   "cell_type": "code",
   "execution_count": null,
   "metadata": {},
   "outputs": [],
   "source": [
    "from mypackage import unicorn\n",
    "\n",
    "unicorn.play()"
   ]
  },
  {
   "cell_type": "code",
   "execution_count": 5,
   "metadata": {},
   "outputs": [
    {
     "name": "stdout",
     "output_type": "stream",
     "text": [
      "Help on module mypackage.love in mypackage:\n",
      "\n",
      "NAME\n",
      "    mypackage.love\n",
      "\n",
      "FUNCTIONS\n",
      "    calculate(name1, name2)\n",
      "        Calculate the love percentage\n",
      "        Parameters\n",
      "            name1: string\n",
      "            name2: string\n",
      "        Return\n",
      "            the percentage\n",
      "    \n",
      "    calculate2(name1, name2)\n",
      "        Calculate the love percentage with similarity check\n",
      "        Parameters\n",
      "            name1: string\n",
      "            name2: string\n",
      "        Return\n",
      "            the percentage\n",
      "\n",
      "FILE\n",
      "    c:\\users\\elkeb\\onedrive - thomas more\\github\\scripting-students\\09 packages\\dsps-package\\mypackage\\love.py\n",
      "\n",
      "\n",
      "None\n",
      "Help on function play in module mypackage.unicorn:\n",
      "\n",
      "play()\n",
      "    Play sound\n",
      "    Parameters\n",
      "        None\n",
      "    Return\n",
      "        None\n",
      "\n",
      "None\n"
     ]
    }
   ],
   "source": [
    "import mypackage\n",
    "\n",
    "love.calculate(\"test\", \"test\")\n",
    "\n",
    "print(help(love))\n",
    "print(help(unicorn.play))"
   ]
  }
 ],
 "metadata": {
  "kernelspec": {
   "display_name": "Python 3",
   "language": "python",
   "name": "python3"
  },
  "language_info": {
   "codemirror_mode": {
    "name": "ipython",
    "version": 3
   },
   "file_extension": ".py",
   "mimetype": "text/x-python",
   "name": "python",
   "nbconvert_exporter": "python",
   "pygments_lexer": "ipython3",
   "version": "3.7.4"
  },
  "orig_nbformat": 4
 },
 "nbformat": 4,
 "nbformat_minor": 2
}
