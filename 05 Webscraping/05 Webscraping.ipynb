{
 "cells": [
  {
   "cell_type": "markdown",
   "metadata": {},
   "source": [
    "# API - les 7 - 27 maart\n",
    "\n",
    "## Herhalingsoefening\n",
    "url = \"https://api.disneyapi.dev/character\"\n",
    "\n",
    "- Character named Ambrose in which films?\n",
    "- Which character has most films and how many?"
   ]
  },
  {
   "cell_type": "code",
   "execution_count": null,
   "metadata": {},
   "outputs": [],
   "source": [
    "import requests\n",
    "\n",
    "url = \"https://api.disneyapi.dev/character\"\n",
    "\n",
    "response = requests.get(url)\n",
    "data = response.json()[\"data\"]\n",
    "\n",
    "# Character named Ambrose in which films?\n",
    "for character in data:\n",
    "    if character[\"name\"] == \"Ambrose\":\n",
    "        print(character[\"films\"])\n",
    "\n",
    "\n",
    "# Which character has most films and how many?\n",
    "count = 0\n",
    "name = \"\"\n",
    "for character in data:\n",
    "    if count < len(character[\"films\"]):\n",
    "        count = len(character[\"films\"])\n",
    "        name = character[\"name\"]\n",
    "\n",
    "print(name,\"met\", count, \"films\")"
   ]
  },
  {
   "cell_type": "markdown",
   "metadata": {},
   "source": [
    "## Webscraping\n",
    "\n",
    "https://en.wikipedia.org/wiki/Fortnite"
   ]
  },
  {
   "cell_type": "code",
   "execution_count": null,
   "metadata": {},
   "outputs": [],
   "source": [
    "url = \"https://en.wikipedia.org/wiki/Fortnite\""
   ]
  },
  {
   "cell_type": "code",
   "execution_count": null,
   "metadata": {},
   "outputs": [],
   "source": [
    "import requests\n",
    "\n",
    "response = requests.get(url)\n",
    "\n",
    "html = response.text\n",
    "print(html)"
   ]
  },
  {
   "cell_type": "markdown",
   "metadata": {},
   "source": [
    "## Werken met BeautifulSoup\n",
    "\n",
    "docs: https://www.crummy.com/software/BeautifulSoup/bs4/doc/\n"
   ]
  },
  {
   "cell_type": "code",
   "execution_count": null,
   "metadata": {},
   "outputs": [],
   "source": [
    "! pip install beautifulsoup4"
   ]
  },
  {
   "cell_type": "code",
   "execution_count": null,
   "metadata": {},
   "outputs": [],
   "source": [
    "import requests\n",
    "from bs4 import BeautifulSoup \n",
    "\n",
    "response = requests.get(url)\n",
    "html = response.text\n",
    "\n",
    "soup = BeautifulSoup(html)\n",
    "print(soup.prettify())"
   ]
  }
 ],
 "metadata": {
  "kernelspec": {
   "display_name": "Python 3",
   "language": "python",
   "name": "python3"
  },
  "language_info": {
   "codemirror_mode": {
    "name": "ipython",
    "version": 3
   },
   "file_extension": ".py",
   "mimetype": "text/x-python",
   "name": "python",
   "nbconvert_exporter": "python",
   "pygments_lexer": "ipython3",
   "version": "3.7.4"
  }
 },
 "nbformat": 4,
 "nbformat_minor": 2
}
