{
 "cells": [
  {
   "cell_type": "markdown",
   "metadata": {},
   "source": [
    "# API - les 7 - 27 maart\n",
    "\n",
    "## Herhalingsoefening\n",
    "url = \"https://api.disneyapi.dev/character\"\n",
    "\n",
    "- Character named Ambrose in which films?\n",
    "- Which character has most films and how many?"
   ]
  },
  {
   "cell_type": "code",
   "execution_count": 7,
   "metadata": {},
   "outputs": [
    {
     "name": "stdout",
     "output_type": "stream",
     "text": [
      "['The Robber Kitten', \"Mickey's Polo Team\"]\n",
      "Baloo 9  films\n"
     ]
    }
   ],
   "source": [
    "import requests\n",
    "\n",
    "url = \"https://api.disneyapi.dev/character\"\n",
    "\n",
    "response = requests.get(url)\n",
    "data = response.json()[\"data\"]\n",
    "\n",
    "# Character named Ambrose in which films?\n",
    "for character in data:\n",
    "    if character[\"name\"] == \"Ambrose\":\n",
    "        print(character[\"films\"])\n",
    "\n",
    "\n",
    "# Which character has most films and how many?\n",
    "count = 0\n",
    "name = \"\"\n",
    "for character in data:\n",
    "    if count < len(character[\"films\"]):\n",
    "        count = len(character[\"films\"])\n",
    "        name = character[\"name\"]\n",
    "\n",
    "print(name,\"met\", count, \"films\")"
   ]
  }
 ],
 "metadata": {
  "kernelspec": {
   "display_name": "Python 3",
   "language": "python",
   "name": "python3"
  },
  "language_info": {
   "codemirror_mode": {
    "name": "ipython",
    "version": 3
   },
   "file_extension": ".py",
   "mimetype": "text/x-python",
   "name": "python",
   "nbconvert_exporter": "python",
   "pygments_lexer": "ipython3",
   "version": "3.7.4"
  }
 },
 "nbformat": 4,
 "nbformat_minor": 2
}
