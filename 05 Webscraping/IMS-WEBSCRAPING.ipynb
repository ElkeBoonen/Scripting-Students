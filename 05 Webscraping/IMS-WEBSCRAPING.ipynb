{
 "cells": [
  {
   "attachments": {},
   "cell_type": "markdown",
   "metadata": {},
   "source": [
    "# Webscraping - les 7 - 27/03\n",
    "\n",
    "- Requests\n",
    "- BeautifulSoup \n",
    "\n",
    "## Herhaling API\n",
    "Zoek een Spotify-API om op basis van een artiest de link naar de playlist terug te krijgen, je kan ook werken met Python package, maar de twee kunnen is natuurlijk het beste ;)\n",
    "\n",
    "https://pypi.org/project/spotify/"
   ]
  },
  {
   "cell_type": "code",
   "execution_count": 5,
   "metadata": {},
   "outputs": [
    {
     "name": "stdout",
     "output_type": "stream",
     "text": [
      "Starboy (Deluxe) https://open.spotify.com/album/35dut3ICqF3NEDkjxfzJJ1\n",
      "Live At SoFi Stadium https://open.spotify.com/album/1OARrXe5sB0gyy3MhQ8h92\n",
      "Avatar: The Way of Water (Original Motion Picture Soundtrack) https://open.spotify.com/album/4M2Mf4pmARKGVT9MLCe3HA\n",
      "Dawn FM (Alternate World) https://open.spotify.com/album/12INlMsFtBjyehNnawBv36\n",
      "Dawn FM https://open.spotify.com/album/2nLOHgzXzwFEpl62zAgCEC\n",
      "After Hours (Deluxe) https://open.spotify.com/album/742eAldb4AJKLoPgJhGRE7\n",
      "After Hours https://open.spotify.com/album/4yP0hdKOZPNshxUOjY0cZj\n",
      "My Dear Melancholy, https://open.spotify.com/album/4qZBW3f2Q8y0k1A84d4iAO\n",
      "Starboy https://open.spotify.com/album/2ODvWsOgouMbaA5xf0RkJe\n",
      "Beauty Behind The Madness https://open.spotify.com/album/0P3oVJBFOv3TDXlYRhGL7s\n",
      "Kiss Land https://open.spotify.com/album/2FgMWuwMeTgJArP2RF3upF\n",
      "Trilogy https://open.spotify.com/album/3MP8mUHuQlYrGUkrEG4qpJ\n",
      "Echoes Of Silence (Original) https://open.spotify.com/album/04hy4jb1GDD00otiwzsFUB\n",
      "Thursday (Original) https://open.spotify.com/album/6F87lH0I09qlrzvCCKc7lz\n",
      "House Of Balloons (Original) https://open.spotify.com/album/7zCODUHkfuRxsUjtuzNqbd\n"
     ]
    }
   ],
   "source": [
    "import requests\n",
    "import time\n",
    "\n",
    "def Spotify(artist):\n",
    "    url = \"https://spotify-scraper.p.rapidapi.com/v1/artist/search\"\n",
    "    querystring = {\"name\":artist}\n",
    "\n",
    "    headers = {\n",
    "        \"X-RapidAPI-Key\": \"key\",\n",
    "        \"X-RapidAPI-Host\": \"spotify-scraper.p.rapidapi.com\"\n",
    "    }\n",
    "\n",
    "    response = requests.request(\"GET\", url, headers=headers, params=querystring)\n",
    "    artistid = response.json()['id']\n",
    "\n",
    "    time.sleep(2) # effe slapen ;)\n",
    "\n",
    "    url = \"https://spotify-scraper.p.rapidapi.com/v1/artist/albums\"\n",
    "    querystring = {\"artistId\":artistid}\n",
    "    response = requests.request(\"GET\", url, headers=headers, params=querystring)\n",
    "\n",
    "    albums = response.json()[\"albums\"][\"items\"]\n",
    "    for album in albums:\n",
    "        print(album[\"name\"],album[\"shareUrl\"])\n",
    "\n",
    "\n",
    "# Spotify(\"The Cure\")\n",
    "#data = '{\"status\":true,\"albums\":{\"totalCount\":25,\"items\":[{\"type\":\"album\",\"id\":\"3oieEL76lQ4dPAiGaAh7jw\",\"name\":\"Wish (30th Anniversary Deluxe Edition)\",\"shareUrl\":\"https://open.spotify.com/album/3oieEL76lQ4dPAiGaAh7jw\",\"date\":\"2022-11-25T00:00:00Z\",\"cover\":[{\"url\":\"https://i.scdn.co/image/ab67616d00001e024c671c233ab0e011b20ff3e9\",\"width\":300,\"height\":300},{\"url\":\"https://i.scdn.co/image/ab67616d000048514c671c233ab0e011b20ff3e9\",\"width\":64,\"height\":64},{\"url\":\"https://i.scdn.co/image/ab67616d0000b2734c671c233ab0e011b20ff3e9\",\"width\":640,\"height\":640}],\"trackCount\":45},{\"type\":\"album\",\"id\":\"1ahpXI6Bt5O4riIW0frHmR\",\"name\":\"Curaetion-25: From There To Here | From Here To There (Live)\",\"shareUrl\":\"https://open.spotify.com/album/1ahpXI6Bt5O4riIW0frHmR\",\"date\":\"2019-10-18T00:00:00Z\",\"cover\":[{\"url\":\"https://i.scdn.co/image/ab67616d00001e029245fd967146eba4fc7156a3\",\"width\":300,\"height\":300},{\"url\":\"https://i.scdn.co/image/ab67616d000048519245fd967146eba4fc7156a3\",\"width\":64,\"height\":64},{\"url\":\"https://i.scdn.co/image/ab67616d0000b2739245fd967146eba4fc7156a3\",\"width\":640,\"height\":640}],\"trackCount\":28},{\"type\":\"album\",\"id\":\"3rK1q79KbTporCJVvbMNUX\",\"name\":\"Anniversary: 1978 - 2018 Live In Hyde Park London\",\"shareUrl\":\"https://open.spotify.com/album/3rK1q79KbTporCJVvbMNUX\",\"date\":\"2019-10-18T00:00:00Z\",\"cover\":[{\"url\":\"https://i.scdn.co/image/ab67616d00001e021bef475cc22d53cd980be970\",\"width\":300,\"height\":300},{\"url\":\"https://i.scdn.co/image/ab67616d000048511bef475cc22d53cd980be970\",\"width\":64,\"height\":64},{\"url\":\"https://i.scdn.co/image/ab67616d0000b2731bef475cc22d53cd980be970\",\"width\":640,\"height\":640}],\"trackCount\":30},{\"type\":\"album\",\"id\":\"5bTDNDi8bt5A7VdCkDCzbe\",\"name\":\"Mixed Up (Deluxe Edition)\",\"shareUrl\":\"https://open.spotify.com/album/5bTDNDi8bt5A7VdCkDCzbe\",\"date\":\"2018-06-15T00:00:00Z\",\"cover\":[{\"url\":\"https://i.scdn.co/image/ab67616d00001e02aa535fa4c5245e587461c37d\",\"width\":300,\"height\":300},{\"url\":\"https://i.scdn.co/image/ab67616d00004851aa535fa4c5245e587461c37d\",\"width\":64,\"height\":64},{\"url\":\"https://i.scdn.co/image/ab67616d0000b273aa535fa4c5245e587461c37d\",\"width\":640,\"height\":640}],\"trackCount\":38},{\"type\":\"album\",\"id\":\"4BIu0GCMComOTwBzuS6PCI\",\"name\":\"Bestival Live 2011\",\"shareUrl\":\"https://open.spotify.com/album/4BIu0GCMComOTwBzuS6PCI\",\"date\":\"2011-12-05T00:00:00Z\",\"cover\":[{\"url\":\"https://i.scdn.co/image/ab67616d00001e02279e30bd27d6dd840c27fa4a\",\"width\":300,\"height\":300},{\"url\":\"https://i.scdn.co/image/ab67616d00004851279e30bd27d6dd840c27fa4a\",\"width\":64,\"height\":64},{\"url\":\"https://i.scdn.co/image/ab67616d0000b273279e30bd27d6dd840c27fa4a\",\"width\":640,\"height\":640}],\"trackCount\":32},{\"type\":\"album\",\"id\":\"0gd0t1iQ3WReB8TNQvALTV\",\"name\":\"4:13 Dream\",\"shareUrl\":\"https://open.spotify.com/album/0gd0t1iQ3WReB8TNQvALTV\",\"date\":\"2008-10-27T00:00:00Z\",\"cover\":[{\"url\":\"https://i.scdn.co/image/ab67616d00001e02980589b09c55f79a4f90e227\",\"width\":300,\"height\":300},{\"url\":\"https://i.scdn.co/image/ab67616d00004851980589b09c55f79a4f90e227\",\"width\":64,\"height\":64},{\"url\":\"https://i.scdn.co/image/ab67616d0000b273980589b09c55f79a4f90e227\",\"width\":640,\"height\":640}],\"trackCount\":13},{\"type\":\"album\",\"id\":\"54kHivms9VVDh6nQrWryv7\",\"name\":\"The Cure\",\"shareUrl\":\"https://open.spotify.com/album/54kHivms9VVDh6nQrWryv7\",\"date\":\"2004-06-29T00:00:00Z\",\"cover\":[{\"url\":\"https://i.scdn.co/image/ab67616d00001e02db5fa9d11143270b14548d2d\",\"width\":300,\"height\":300},{\"url\":\"https://i.scdn.co/image/ab67616d00004851db5fa9d11143270b14548d2d\",\"width\":64,\"height\":64},{\"url\":\"https://i.scdn.co/image/ab67616d0000b273db5fa9d11143270b14548d2d\",\"width\":640,\"height\":640}],\"trackCount\":11},{\"type\":\"album\",\"id\":\"5swgMRfWHhnsES6D65MyN1\",\"name\":\"Bloodflowers\",\"shareUrl\":\"https://open.spotify.com/album/5swgMRfWHhnsES6D65MyN1\",\"date\":\"2000-02-15T00:00:00Z\",\"cover\":[{\"url\":\"https://i.scdn.co/image/ab67616d00001e02b49e2ba7d2fb4319c91402bf\",\"width\":300,\"height\":300},{\"url\":\"https://i.scdn.co/image/ab67616d00004851b49e2ba7d2fb4319c91402bf\",\"width\":64,\"height\":64},{\"url\":\"https://i.scdn.co/image/ab67616d0000b273b49e2ba7d2fb4319c91402bf\",\"width\":640,\"height\":640}],\"trackCount\":9},{\"type\":\"album\",\"id\":\"69XNTota6w88wrLZt4AX9n\",\"name\":\"Wild Mood Swings\",\"shareUrl\":\"https://open.spotify.com/album/69XNTota6w88wrLZt4AX9n\",\"date\":\"1996-05-06T00:00:00Z\",\"cover\":[{\"url\":\"https://i.scdn.co/image/ab67616d00001e022c453181005423b9ea3daa6b\",\"width\":300,\"height\":300},{\"url\":\"https://i.scdn.co/image/ab67616d000048512c453181005423b9ea3daa6b\",\"width\":64,\"height\":64},{\"url\":\"https://i.scdn.co/image/ab67616d0000b2732c453181005423b9ea3daa6b\",\"width\":640,\"height\":640}],\"trackCount\":14},{\"type\":\"album\",\"id\":\"76SLjoVYQjqqXPuoCzmSRw\",\"name\":\"Show (Live)\",\"shareUrl\":\"https://open.spotify.com/album/76SLjoVYQjqqXPuoCzmSRw\",\"date\":\"1993-10-26T00:00:00Z\",\"cover\":[{\"url\":\"https://i.scdn.co/image/ab67616d00001e021cf14c1dfb0ae31c25bb7058\",\"width\":300,\"height\":300},{\"url\":\"https://i.scdn.co/image/ab67616d000048511cf14c1dfb0ae31c25bb7058\",\"width\":64,\"height\":64},{\"url\":\"https://i.scdn.co/image/ab67616d0000b2731cf14c1dfb0ae31c25bb7058\",\"width\":640,\"height\":640}],\"trackCount\":14},{\"type\":\"album\",\"id\":\"2kvp7gVn5GL2r6B6w6piuc\",\"name\":\"Paris (Live)\",\"shareUrl\":\"https://open.spotify.com/album/2kvp7gVn5GL2r6B6w6piuc\",\"date\":\"1993-10-25T00:00:00Z\",\"cover\":[{\"url\":\"https://i.scdn.co/image/ab67616d00001e0218a4a0cf33f79a8e3aa08ef2\",\"width\":300,\"height\":300},{\"url\":\"https://i.scdn.co/image/ab67616d0000485118a4a0cf33f79a8e3aa08ef2\",\"width\":64,\"height\":64},{\"url\":\"https://i.scdn.co/image/ab67616d0000b27318a4a0cf33f79a8e3aa08ef2\",\"width\":640,\"height\":640}],\"trackCount\":12},{\"type\":\"album\",\"id\":\"1KKZmSuZgEM2rd0WYy2z7j\",\"name\":\"Wish (30th Anniversary Remaster)\",\"shareUrl\":\"https://open.spotify.com/album/1KKZmSuZgEM2rd0WYy2z7j\",\"date\":\"1992-04-21T00:00:00Z\",\"cover\":[{\"url\":\"https://i.scdn.co/image/ab67616d00001e02852fa8e7b804329cafd64a5d\",\"width\":300,\"height\":300},{\"url\":\"https://i.scdn.co/image/ab67616d00004851852fa8e7b804329cafd64a5d\",\"width\":64,\"height\":64},{\"url\":\"https://i.scdn.co/image/ab67616d0000b273852fa8e7b804329cafd64a5d\",\"width\":640,\"height\":640}],\"trackCount\":12},{\"type\":\"album\",\"id\":\"3x1CmNdXWU0DzpTZXFFRZu\",\"name\":\"Wish\",\"shareUrl\":\"https://open.spotify.com/album/3x1CmNdXWU0DzpTZXFFRZu\",\"date\":\"1992-04-21T00:00:00Z\",\"cover\":[{\"url\":\"https://i.scdn.co/image/ab67616d00001e02e410fa31e3dfcc7521cde86d\",\"width\":300,\"height\":300},{\"url\":\"https://i.scdn.co/image/ab67616d00004851e410fa31e3dfcc7521cde86d\",\"width\":64,\"height\":64},{\"url\":\"https://i.scdn.co/image/ab67616d0000b273e410fa31e3dfcc7521cde86d\",\"width\":640,\"height\":640}],\"trackCount\":12},{\"type\":\"album\",\"id\":\"0OMVg6UAXQptATVZYvajno\",\"name\":\"Mixed Up (2018 Remaster)\",\"shareUrl\":\"https://open.spotify.com/album/0OMVg6UAXQptATVZYvajno\",\"date\":\"1990-11-20T00:00:00Z\",\"cover\":[{\"url\":\"https://i.scdn.co/image/ab67616d00001e02d63a44c1fccea3161fc36351\",\"width\":300,\"height\":300},{\"url\":\"https://i.scdn.co/image/ab67616d00004851d63a44c1fccea3161fc36351\",\"width\":64,\"height\":64},{\"url\":\"https://i.scdn.co/image/ab67616d0000b273d63a44c1fccea3161fc36351\",\"width\":640,\"height\":640}],\"trackCount\":11},{\"type\":\"album\",\"id\":\"6vQB3ZBxnQPP3jQcGV2qzg\",\"name\":\"Disintegration (Deluxe Edition)\",\"shareUrl\":\"https://open.spotify.com/album/6vQB3ZBxnQPP3jQcGV2qzg\",\"date\":\"1989-05-02T00:00:00Z\",\"cover\":[{\"url\":\"https://i.scdn.co/image/ab67616d00001e02c7ca2db25ad377e022bc3975\",\"width\":300,\"height\":300},{\"url\":\"https://i.scdn.co/image/ab67616d00004851c7ca2db25ad377e022bc3975\",\"width\":64,\"height\":64},{\"url\":\"https://i.scdn.co/image/ab67616d0000b273c7ca2db25ad377e022bc3975\",\"width\":640,\"height\":640}],\"trackCount\":44},{\"type\":\"album\",\"id\":\"0A13JySVHzBoRZFk2o89Wl\",\"name\":\"Disintegration (2010 Remaster)\",\"shareUrl\":\"https://open.spotify.com/album/0A13JySVHzBoRZFk2o89Wl\",\"date\":\"1989-05-02T00:00:00Z\",\"cover\":[{\"url\":\"https://i.scdn.co/image/ab67616d00001e023ec3e0853e3b84dc64272647\",\"width\":300,\"height\":300},{\"url\":\"https://i.scdn.co/image/ab67616d000048513ec3e0853e3b84dc64272647\",\"width\":64,\"height\":64},{\"url\":\"https://i.scdn.co/image/ab67616d0000b2733ec3e0853e3b84dc64272647\",\"width\":640,\"height\":640}],\"trackCount\":12},{\"type\":\"album\",\"id\":\"7qtRliQvQBu5v6LTi3gNDD\",\"name\":\"Kiss Me Kiss Me Kiss Me\",\"shareUrl\":\"https://open.spotify.com/album/7qtRliQvQBu5v6LTi3gNDD\",\"date\":\"1987-05-25T00:00:00Z\",\"cover\":[{\"url\":\"https://i.scdn.co/image/ab67616d00001e02ba091f0014c77a2d898fea8a\",\"width\":300,\"height\":300},{\"url\":\"https://i.scdn.co/image/ab67616d00004851ba091f0014c77a2d898fea8a\",\"width\":64,\"height\":64},{\"url\":\"https://i.scdn.co/image/ab67616d0000b273ba091f0014c77a2d898fea8a\",\"width\":640,\"height\":640}],\"trackCount\":36},{\"type\":\"album\",\"id\":\"4Uq47onfCEj5en94jpHovk\",\"name\":\"The Head on the Door (Deluxed Edition)\",\"shareUrl\":\"https://open.spotify.com/album/4Uq47onfCEj5en94jpHovk\",\"date\":\"1985-08-26T00:00:00Z\",\"cover\":[{\"url\":\"https://i.scdn.co/image/ab67616d00001e0296e854c582f5213d51793cc2\",\"width\":300,\"height\":300},{\"url\":\"https://i.scdn.co/image/ab67616d0000485196e854c582f5213d51793cc2\",\"width\":64,\"height\":64},{\"url\":\"https://i.scdn.co/image/ab67616d0000b27396e854c582f5213d51793cc2\",\"width\":640,\"height\":640}],\"trackCount\":28},{\"type\":\"album\",\"id\":\"6SCYoeXeQjxbrioUozsvo1\",\"name\":\"The Top\",\"shareUrl\":\"https://open.spotify.com/album/6SCYoeXeQjxbrioUozsvo1\",\"date\":\"1984-04-30T00:00:00Z\",\"cover\":[{\"url\":\"https://i.scdn.co/image/ab67616d00001e025a45e068aa327905e34a9062\",\"width\":300,\"height\":300},{\"url\":\"https://i.scdn.co/image/ab67616d000048515a45e068aa327905e34a9062\",\"width\":64,\"height\":64},{\"url\":\"https://i.scdn.co/image/ab67616d0000b2735a45e068aa327905e34a9062\",\"width\":640,\"height\":640}],\"trackCount\":27},{\"type\":\"album\",\"id\":\"4VJc4uhhFDpDjoyYsB5JjO\",\"name\":\"Pornography (Deluxe Edition)\",\"shareUrl\":\"https://open.spotify.com/album/4VJc4uhhFDpDjoyYsB5JjO\",\"date\":\"1982-05-03T00:00:00Z\",\"cover\":[{\"url\":\"https://i.scdn.co/image/ab67616d00001e02f3908a9b1910b5ccb3135282\",\"width\":300,\"height\":300},{\"url\":\"https://i.scdn.co/image/ab67616d00004851f3908a9b1910b5ccb3135282\",\"width\":64,\"height\":64},{\"url\":\"https://i.scdn.co/image/ab67616d0000b273f3908a9b1910b5ccb3135282\",\"width\":640,\"height\":640}],\"trackCount\":22},{\"type\":\"album\",\"id\":\"33TDfmEXufojT6jxgb3BTK\",\"name\":\"Pornography\",\"shareUrl\":\"https://open.spotify.com/album/33TDfmEXufojT6jxgb3BTK\",\"date\":\"1982-05-03T00:00:00Z\",\"cover\":[{\"url\":\"https://i.scdn.co/image/ab67616d00001e02d226fe686c3b59c6348f9f6c\",\"width\":300,\"height\":300},{\"url\":\"https://i.scdn.co/image/ab67616d00004851d226fe686c3b59c6348f9f6c\",\"width\":64,\"height\":64},{\"url\":\"https://i.scdn.co/image/ab67616d0000b273d226fe686c3b59c6348f9f6c\",\"width\":640,\"height\":640}],\"trackCount\":8},{\"type\":\"album\",\"id\":\"0BGTV9xi9NFdUjA3erGs1T\",\"name\":\"Faith (Deluxe Edition)\",\"shareUrl\":\"https://open.spotify.com/album/0BGTV9xi9NFdUjA3erGs1T\",\"date\":\"1981-04-10T00:00:00Z\",\"cover\":[{\"url\":\"https://i.scdn.co/image/ab67616d00001e02e65902f4154544bf4e6034e9\",\"width\":300,\"height\":300},{\"url\":\"https://i.scdn.co/image/ab67616d00004851e65902f4154544bf4e6034e9\",\"width\":64,\"height\":64},{\"url\":\"https://i.scdn.co/image/ab67616d0000b273e65902f4154544bf4e6034e9\",\"width\":640,\"height\":640}],\"trackCount\":24},{\"type\":\"album\",\"id\":\"1T7A6Dt7KktX7pOw4I4Jzj\",\"name\":\"Seventeen Seconds (Deluxe Edition)\",\"shareUrl\":\"https://open.spotify.com/album/1T7A6Dt7KktX7pOw4I4Jzj\",\"date\":\"1980-04-18T00:00:00Z\",\"cover\":[{\"url\":\"https://i.scdn.co/image/ab67616d00001e0299027d2948260fdb37436d5d\",\"width\":300,\"height\":300},{\"url\":\"https://i.scdn.co/image/ab67616d0000485199027d2948260fdb37436d5d\",\"width\":64,\"height\":64},{\"url\":\"https://i.scdn.co/image/ab67616d0000b27399027d2948260fdb37436d5d\",\"width\":640,\"height\":640}],\"trackCount\":25},{\"type\":\"album\",\"id\":\"2KWHRfKSRpgsxNGIl2nQva\",\"name\":\"Seventeen Seconds\",\"shareUrl\":\"https://open.spotify.com/album/2KWHRfKSRpgsxNGIl2nQva\",\"date\":\"1980-04-18T00:00:00Z\",\"cover\":[{\"url\":\"https://i.scdn.co/image/ab67616d00001e0229935216b69c7721582eab4c\",\"width\":300,\"height\":300},{\"url\":\"https://i.scdn.co/image/ab67616d0000485129935216b69c7721582eab4c\",\"width\":64,\"height\":64},{\"url\":\"https://i.scdn.co/image/ab67616d0000b27329935216b69c7721582eab4c\",\"width\":640,\"height\":640}],\"trackCount\":10},{\"type\":\"album\",\"id\":\"7gPql7GFpBMOxeO80vMMsC\",\"name\":\"Three Imaginary Boys (Deluxe Edition)\",\"shareUrl\":\"https://open.spotify.com/album/7gPql7GFpBMOxeO80vMMsC\",\"date\":\"1979-05-11T00:00:00Z\",\"cover\":[{\"url\":\"https://i.scdn.co/image/ab67616d00001e025d0d65102be8606e439e54cc\",\"width\":300,\"height\":300},{\"url\":\"https://i.scdn.co/image/ab67616d000048515d0d65102be8606e439e54cc\",\"width\":64,\"height\":64},{\"url\":\"https://i.scdn.co/image/ab67616d0000b2735d0d65102be8606e439e54cc\",\"width\":640,\"height\":640}],\"trackCount\":33}]}}'\n",
    "\n",
    "Spotify(\"The Weeknd\")"
   ]
  }
 ],
 "metadata": {
  "kernelspec": {
   "display_name": "Python 3",
   "language": "python",
   "name": "python3"
  },
  "language_info": {
   "codemirror_mode": {
    "name": "ipython",
    "version": 3
   },
   "file_extension": ".py",
   "mimetype": "text/x-python",
   "name": "python",
   "nbconvert_exporter": "python",
   "pygments_lexer": "ipython3",
   "version": "3.7.4"
  },
  "orig_nbformat": 4
 },
 "nbformat": 4,
 "nbformat_minor": 2
}
