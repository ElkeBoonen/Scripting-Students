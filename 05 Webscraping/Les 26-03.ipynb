{
 "cells": [
  {
   "cell_type": "markdown",
   "metadata": {},
   "source": [
    "# Les 7: 26/03 - Webscraping\n",
    "\n",
    "## Herhalingsoefening\n",
    "Zoek een Spotify-API om op basis van een artiest de link naar de playlist terug te krijgen, je kan ook werken met Python package, maar de twee kunnen is natuurlijk het beste ;)"
   ]
  },
  {
   "cell_type": "code",
   "execution_count": null,
   "metadata": {},
   "outputs": [],
   "source": [
    "import requests, json\n",
    "\n",
    "url = \"https://spotify23.p.rapidapi.com/search/\"\n",
    "\n",
    "search = input(\"Geef zoekterm in\")\n",
    "\n",
    "querystring = {\"q\": {search} ,\"type\":\"playlists\",\"offset\":\"0\",\"limit\":\"10\",\"numberOfTopResults\":\"5\"}\n",
    "\n",
    "headers = {\n",
    "\t\"x-rapidapi-key\": \"***\",\n",
    "\t\"x-rapidapi-host\": \"spotify23.p.rapidapi.com\"\n",
    "}\n",
    "\n",
    "response = requests.get(url, headers=headers, params=querystring)\n",
    "\n",
    "data = response.json()\n",
    "\n",
    "for playlist in data[\"playlists\"][\"items\"]:\n",
    "    url = playlist[\"data\"][\"uri\"].split(\":\")[-1]\n",
    "    name = playlist[\"data\"][\"name\"]\n",
    "\n",
    "    print(name,\"-->\",\"https://open.spotify.com/playlist/\"+url)\n",
    "\n"
   ]
  },
  {
   "cell_type": "markdown",
   "metadata": {},
   "source": [
    "## Webscrapen\n",
    "\n",
    "https://nl.wikipedia.org/wiki/K3_(muziekgroep)"
   ]
  },
  {
   "cell_type": "code",
   "execution_count": null,
   "metadata": {},
   "outputs": [],
   "source": [
    "import requests\n",
    "\n",
    "url = \"https://nl.wikipedia.org/wiki/K3_(muziekgroep)\"\n",
    "\n",
    "response = requests.get(url)\n",
    "print(response.text)"
   ]
  },
  {
   "cell_type": "markdown",
   "metadata": {},
   "source": [
    "Installeer package BeautifulSoup\n",
    "\n",
    "https://pypi.org/project/beautifulsoup4/\n",
    "\n",
    "https://beautiful-soup-4.readthedocs.io/en/latest/ \n",
    "https://www.w3schools.com/Xml/xquery_flwor_html.asp "
   ]
  },
  {
   "cell_type": "code",
   "execution_count": null,
   "metadata": {},
   "outputs": [],
   "source": [
    "! pip install beautifulsoup4"
   ]
  },
  {
   "cell_type": "code",
   "execution_count": null,
   "metadata": {},
   "outputs": [],
   "source": [
    "import requests\n",
    "from bs4 import BeautifulSoup\n",
    "\n",
    "url = \"https://nl.wikipedia.org/wiki/K3_(muziekgroep)\"\n",
    "response = requests.get(url)\n",
    "\n",
    "bs_object = BeautifulSoup(response.text)\n",
    "# print(bs_object.prettify())\n",
    "\n",
    "print(bs_object.title)\n",
    "print(bs_object.title.get_text())\n",
    "print(bs_object.get_text().split())\n",
    "print(len(bs_object.get_text()))\n",
    "\n",
    "a_tags = bs_object.find_all(\"a\")\n",
    "print(a_tags)\n",
    "\n",
    "a_tags_class = bs_object.find_all(\"a\",{\"class\":\"vector-toc-link\"})\n",
    "print(a_tags_class)"
   ]
  },
  {
   "cell_type": "code",
   "execution_count": null,
   "metadata": {},
   "outputs": [],
   "source": [
    "import requests\n",
    "from bs4 import BeautifulSoup\n",
    "\n",
    "url = \"https://nl.wikipedia.org/wiki/K3_(muziekgroep)\"\n",
    "response = requests.get(url)\n",
    "\n",
    "bs_object = BeautifulSoup(response.text)\n",
    "\n",
    "a_tags_class = bs_object.find_all(\"a\",{\"class\":\"vector-toc-link\"})\n",
    "for tag in a_tags_class:\n",
    "    text = tag.get_text().strip()\n",
    "    if \"Leden\" in text:\n",
    "        break\n",
    "    else:\n",
    "        print(text)\n",
    "    "
   ]
  },
  {
   "cell_type": "code",
   "execution_count": null,
   "metadata": {},
   "outputs": [],
   "source": [
    "import requests\n",
    "from bs4 import BeautifulSoup\n",
    "\n",
    "url = \"https://nl.wikipedia.org/wiki/K3_(muziekgroep)\"\n",
    "response = requests.get(url)\n",
    "\n",
    "bs_object = BeautifulSoup(response.text)\n",
    "\n",
    "geschiedenis = bs_object.find(\"li\",{\"id\":\"toc-Geschiedenis\"})\n",
    "divs = geschiedenis.find_all(\"div\",{\"class\":\"vector-toc-text\"})\n",
    "for div in divs:\n",
    "    text = div.get_text().split()\n",
    "    text = text[1:]\n",
    "    print(\" \".join(text))\n",
    "\n",
    "for link in bs_object.find_all('a'):\n",
    "    print(link.get('href'))"
   ]
  },
  {
   "cell_type": "markdown",
   "metadata": {},
   "source": [
    "## Oefening line-up werchter\n",
    "\n",
    "https://pypi.org/project/spotify/"
   ]
  },
  {
   "cell_type": "code",
   "execution_count": null,
   "metadata": {},
   "outputs": [],
   "source": [
    "! pip install spotify"
   ]
  },
  {
   "cell_type": "code",
   "execution_count": null,
   "metadata": {},
   "outputs": [],
   "source": [
    "import requests\n",
    "from bs4 import BeautifulSoup\n",
    "\n",
    "url = \"https://www.rockwerchter.be/nl/line-up/a-z\"\n",
    "response = requests.get(url)\n",
    "bs_object = BeautifulSoup(response.text)\n",
    "\n",
    "line_up = bs_object.find_all(\"h4\",{\"class\":\"act__content-title\"})\n",
    "for artist in line_up:\n",
    "    print(artist.text)\n",
    "\n",
    "    url = \"https://spotify23.p.rapidapi.com/search/\"\n",
    "    querystring = {\"q\": {artist.text} ,\"type\":\"artists\",\"offset\":\"0\",\"limit\":\"10\",\"numberOfTopResults\":\"5\"}\n",
    "\n",
    "    headers = {\n",
    "        \"x-rapidapi-key\": \"***\",\n",
    "        \"x-rapidapi-host\": \"spotify23.p.rapidapi.com\"\n",
    "    }\n",
    "\n",
    "    response = requests.get(url, headers=headers, params=querystring)\n",
    "\n",
    "    data = response.json()\n",
    "\n",
    "    print(data[\"artists\"][\"items\"])\n",
    "    # uri uithalen & plakken achter https://open.spotify.com/artist/"
   ]
  }
 ],
 "metadata": {
  "kernelspec": {
   "display_name": "Python 3",
   "language": "python",
   "name": "python3"
  },
  "language_info": {
   "codemirror_mode": {
    "name": "ipython",
    "version": 3
   },
   "file_extension": ".py",
   "mimetype": "text/x-python",
   "name": "python",
   "nbconvert_exporter": "python",
   "pygments_lexer": "ipython3",
   "version": "3.12.5"
  }
 },
 "nbformat": 4,
 "nbformat_minor": 2
}
