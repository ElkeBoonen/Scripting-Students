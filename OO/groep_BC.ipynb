{
 "cells": [
  {
   "cell_type": "markdown",
   "metadata": {},
   "source": [
    "# OO: les 9/5"
   ]
  },
  {
   "cell_type": "code",
   "execution_count": null,
   "metadata": {},
   "outputs": [],
   "source": [
    "class Parrot:\n",
    "    def __init__(ditbenikzelf): # eerste parameter ben jezelf!!\n",
    "        print(\"Parrot is created\")\n",
    "\n",
    "henkie = Parrot()\n",
    "print(henkie)"
   ]
  },
  {
   "cell_type": "code",
   "execution_count": 12,
   "metadata": {},
   "outputs": [
    {
     "name": "stdout",
     "output_type": "stream",
     "text": [
      "Henkie is 10 jaar oud\n",
      "Frankie is 15 jaar oud\n",
      "Henkie zegt blabla\n"
     ]
    },
    {
     "ename": "OSError",
     "evalue": "[WinError 193] %1 is not a valid Win32 application",
     "output_type": "error",
     "traceback": [
      "\u001b[1;31m---------------------------------------------------------------------------\u001b[0m",
      "\u001b[1;31mOSError\u001b[0m                                   Traceback (most recent call last)",
      "\u001b[1;32mc:\\Users\\elkeb\\OneDrive - Thomas More\\Cursusmateriaal\\Scripting YP0565\\Git\\Scripting-Students\\OO\\GROEP_BC.ipynb Cell 3'\u001b[0m in \u001b[0;36m<cell line: 24>\u001b[1;34m()\u001b[0m\n\u001b[0;32m     <a href='vscode-notebook-cell:/c%3A/Users/elkeb/OneDrive%20-%20Thomas%20More/Cursusmateriaal/Scripting%20YP0565/Git/Scripting-Students/OO/GROEP_BC.ipynb#ch0000003?line=20'>21</a>\u001b[0m \u001b[39mprint\u001b[39m(frankie\u001b[39m.\u001b[39mName,\u001b[39m\"\u001b[39m\u001b[39mis\u001b[39m\u001b[39m\"\u001b[39m,frankie\u001b[39m.\u001b[39mAge,\u001b[39m\"\u001b[39m\u001b[39mjaar oud\u001b[39m\u001b[39m\"\u001b[39m)\n\u001b[0;32m     <a href='vscode-notebook-cell:/c%3A/Users/elkeb/OneDrive%20-%20Thomas%20More/Cursusmateriaal/Scripting%20YP0565/Git/Scripting-Students/OO/GROEP_BC.ipynb#ch0000003?line=22'>23</a>\u001b[0m henkie\u001b[39m.\u001b[39mTalk(\u001b[39m\"\u001b[39m\u001b[39mblabla\u001b[39m\u001b[39m\"\u001b[39m)\n\u001b[1;32m---> <a href='vscode-notebook-cell:/c%3A/Users/elkeb/OneDrive%20-%20Thomas%20More/Cursusmateriaal/Scripting%20YP0565/Git/Scripting-Students/OO/GROEP_BC.ipynb#ch0000003?line=23'>24</a>\u001b[0m frankie\u001b[39m.\u001b[39;49mSing()\n",
      "\u001b[1;32mc:\\Users\\elkeb\\OneDrive - Thomas More\\Cursusmateriaal\\Scripting YP0565\\Git\\Scripting-Students\\OO\\GROEP_BC.ipynb Cell 3'\u001b[0m in \u001b[0;36mParrot.Sing\u001b[1;34m(self)\u001b[0m\n\u001b[0;32m     <a href='vscode-notebook-cell:/c%3A/Users/elkeb/OneDrive%20-%20Thomas%20More/Cursusmateriaal/Scripting%20YP0565/Git/Scripting-Students/OO/GROEP_BC.ipynb#ch0000003?line=13'>14</a>\u001b[0m \u001b[39mdef\u001b[39;00m \u001b[39mSing\u001b[39m(\u001b[39mself\u001b[39m):\n\u001b[1;32m---> <a href='vscode-notebook-cell:/c%3A/Users/elkeb/OneDrive%20-%20Thomas%20More/Cursusmateriaal/Scripting%20YP0565/Git/Scripting-Students/OO/GROEP_BC.ipynb#ch0000003?line=14'>15</a>\u001b[0m     subprocess\u001b[39m.\u001b[39;49mPopen(\u001b[39m\"\u001b[39;49m\u001b[39msound.wav\u001b[39;49m\u001b[39m\"\u001b[39;49m)\n",
      "File \u001b[1;32m~\\AppData\\Local\\Programs\\Python\\Python310\\lib\\subprocess.py:966\u001b[0m, in \u001b[0;36mPopen.__init__\u001b[1;34m(self, args, bufsize, executable, stdin, stdout, stderr, preexec_fn, close_fds, shell, cwd, env, universal_newlines, startupinfo, creationflags, restore_signals, start_new_session, pass_fds, user, group, extra_groups, encoding, errors, text, umask, pipesize)\u001b[0m\n\u001b[0;32m    <a href='file:///c%3A/Users/elkeb/AppData/Local/Programs/Python/Python310/lib/subprocess.py?line=961'>962</a>\u001b[0m         \u001b[39mif\u001b[39;00m \u001b[39mself\u001b[39m\u001b[39m.\u001b[39mtext_mode:\n\u001b[0;32m    <a href='file:///c%3A/Users/elkeb/AppData/Local/Programs/Python/Python310/lib/subprocess.py?line=962'>963</a>\u001b[0m             \u001b[39mself\u001b[39m\u001b[39m.\u001b[39mstderr \u001b[39m=\u001b[39m io\u001b[39m.\u001b[39mTextIOWrapper(\u001b[39mself\u001b[39m\u001b[39m.\u001b[39mstderr,\n\u001b[0;32m    <a href='file:///c%3A/Users/elkeb/AppData/Local/Programs/Python/Python310/lib/subprocess.py?line=963'>964</a>\u001b[0m                     encoding\u001b[39m=\u001b[39mencoding, errors\u001b[39m=\u001b[39merrors)\n\u001b[1;32m--> <a href='file:///c%3A/Users/elkeb/AppData/Local/Programs/Python/Python310/lib/subprocess.py?line=965'>966</a>\u001b[0m     \u001b[39mself\u001b[39;49m\u001b[39m.\u001b[39;49m_execute_child(args, executable, preexec_fn, close_fds,\n\u001b[0;32m    <a href='file:///c%3A/Users/elkeb/AppData/Local/Programs/Python/Python310/lib/subprocess.py?line=966'>967</a>\u001b[0m                         pass_fds, cwd, env,\n\u001b[0;32m    <a href='file:///c%3A/Users/elkeb/AppData/Local/Programs/Python/Python310/lib/subprocess.py?line=967'>968</a>\u001b[0m                         startupinfo, creationflags, shell,\n\u001b[0;32m    <a href='file:///c%3A/Users/elkeb/AppData/Local/Programs/Python/Python310/lib/subprocess.py?line=968'>969</a>\u001b[0m                         p2cread, p2cwrite,\n\u001b[0;32m    <a href='file:///c%3A/Users/elkeb/AppData/Local/Programs/Python/Python310/lib/subprocess.py?line=969'>970</a>\u001b[0m                         c2pread, c2pwrite,\n\u001b[0;32m    <a href='file:///c%3A/Users/elkeb/AppData/Local/Programs/Python/Python310/lib/subprocess.py?line=970'>971</a>\u001b[0m                         errread, errwrite,\n\u001b[0;32m    <a href='file:///c%3A/Users/elkeb/AppData/Local/Programs/Python/Python310/lib/subprocess.py?line=971'>972</a>\u001b[0m                         restore_signals,\n\u001b[0;32m    <a href='file:///c%3A/Users/elkeb/AppData/Local/Programs/Python/Python310/lib/subprocess.py?line=972'>973</a>\u001b[0m                         gid, gids, uid, umask,\n\u001b[0;32m    <a href='file:///c%3A/Users/elkeb/AppData/Local/Programs/Python/Python310/lib/subprocess.py?line=973'>974</a>\u001b[0m                         start_new_session)\n\u001b[0;32m    <a href='file:///c%3A/Users/elkeb/AppData/Local/Programs/Python/Python310/lib/subprocess.py?line=974'>975</a>\u001b[0m \u001b[39mexcept\u001b[39;00m:\n\u001b[0;32m    <a href='file:///c%3A/Users/elkeb/AppData/Local/Programs/Python/Python310/lib/subprocess.py?line=975'>976</a>\u001b[0m     \u001b[39m# Cleanup if the child failed starting.\u001b[39;00m\n\u001b[0;32m    <a href='file:///c%3A/Users/elkeb/AppData/Local/Programs/Python/Python310/lib/subprocess.py?line=976'>977</a>\u001b[0m     \u001b[39mfor\u001b[39;00m f \u001b[39min\u001b[39;00m \u001b[39mfilter\u001b[39m(\u001b[39mNone\u001b[39;00m, (\u001b[39mself\u001b[39m\u001b[39m.\u001b[39mstdin, \u001b[39mself\u001b[39m\u001b[39m.\u001b[39mstdout, \u001b[39mself\u001b[39m\u001b[39m.\u001b[39mstderr)):\n",
      "File \u001b[1;32m~\\AppData\\Local\\Programs\\Python\\Python310\\lib\\subprocess.py:1435\u001b[0m, in \u001b[0;36mPopen._execute_child\u001b[1;34m(self, args, executable, preexec_fn, close_fds, pass_fds, cwd, env, startupinfo, creationflags, shell, p2cread, p2cwrite, c2pread, c2pwrite, errread, errwrite, unused_restore_signals, unused_gid, unused_gids, unused_uid, unused_umask, unused_start_new_session)\u001b[0m\n\u001b[0;32m   <a href='file:///c%3A/Users/elkeb/AppData/Local/Programs/Python/Python310/lib/subprocess.py?line=1432'>1433</a>\u001b[0m \u001b[39m# Start the process\u001b[39;00m\n\u001b[0;32m   <a href='file:///c%3A/Users/elkeb/AppData/Local/Programs/Python/Python310/lib/subprocess.py?line=1433'>1434</a>\u001b[0m \u001b[39mtry\u001b[39;00m:\n\u001b[1;32m-> <a href='file:///c%3A/Users/elkeb/AppData/Local/Programs/Python/Python310/lib/subprocess.py?line=1434'>1435</a>\u001b[0m     hp, ht, pid, tid \u001b[39m=\u001b[39m _winapi\u001b[39m.\u001b[39;49mCreateProcess(executable, args,\n\u001b[0;32m   <a href='file:///c%3A/Users/elkeb/AppData/Local/Programs/Python/Python310/lib/subprocess.py?line=1435'>1436</a>\u001b[0m                              \u001b[39m# no special security\u001b[39;49;00m\n\u001b[0;32m   <a href='file:///c%3A/Users/elkeb/AppData/Local/Programs/Python/Python310/lib/subprocess.py?line=1436'>1437</a>\u001b[0m                              \u001b[39mNone\u001b[39;49;00m, \u001b[39mNone\u001b[39;49;00m,\n\u001b[0;32m   <a href='file:///c%3A/Users/elkeb/AppData/Local/Programs/Python/Python310/lib/subprocess.py?line=1437'>1438</a>\u001b[0m                              \u001b[39mint\u001b[39;49m(\u001b[39mnot\u001b[39;49;00m close_fds),\n\u001b[0;32m   <a href='file:///c%3A/Users/elkeb/AppData/Local/Programs/Python/Python310/lib/subprocess.py?line=1438'>1439</a>\u001b[0m                              creationflags,\n\u001b[0;32m   <a href='file:///c%3A/Users/elkeb/AppData/Local/Programs/Python/Python310/lib/subprocess.py?line=1439'>1440</a>\u001b[0m                              env,\n\u001b[0;32m   <a href='file:///c%3A/Users/elkeb/AppData/Local/Programs/Python/Python310/lib/subprocess.py?line=1440'>1441</a>\u001b[0m                              cwd,\n\u001b[0;32m   <a href='file:///c%3A/Users/elkeb/AppData/Local/Programs/Python/Python310/lib/subprocess.py?line=1441'>1442</a>\u001b[0m                              startupinfo)\n\u001b[0;32m   <a href='file:///c%3A/Users/elkeb/AppData/Local/Programs/Python/Python310/lib/subprocess.py?line=1442'>1443</a>\u001b[0m \u001b[39mfinally\u001b[39;00m:\n\u001b[0;32m   <a href='file:///c%3A/Users/elkeb/AppData/Local/Programs/Python/Python310/lib/subprocess.py?line=1443'>1444</a>\u001b[0m     \u001b[39m# Child is launched. Close the parent's copy of those pipe\u001b[39;00m\n\u001b[0;32m   <a href='file:///c%3A/Users/elkeb/AppData/Local/Programs/Python/Python310/lib/subprocess.py?line=1444'>1445</a>\u001b[0m     \u001b[39m# handles that only the child should have open.  You need\u001b[39;00m\n\u001b[1;32m   (...)\u001b[0m\n\u001b[0;32m   <a href='file:///c%3A/Users/elkeb/AppData/Local/Programs/Python/Python310/lib/subprocess.py?line=1447'>1448</a>\u001b[0m     \u001b[39m# pipe will not close when the child process exits and the\u001b[39;00m\n\u001b[0;32m   <a href='file:///c%3A/Users/elkeb/AppData/Local/Programs/Python/Python310/lib/subprocess.py?line=1448'>1449</a>\u001b[0m     \u001b[39m# ReadFile will hang.\u001b[39;00m\n\u001b[0;32m   <a href='file:///c%3A/Users/elkeb/AppData/Local/Programs/Python/Python310/lib/subprocess.py?line=1449'>1450</a>\u001b[0m     \u001b[39mself\u001b[39m\u001b[39m.\u001b[39m_close_pipe_fds(p2cread, p2cwrite,\n\u001b[0;32m   <a href='file:///c%3A/Users/elkeb/AppData/Local/Programs/Python/Python310/lib/subprocess.py?line=1450'>1451</a>\u001b[0m                          c2pread, c2pwrite,\n\u001b[0;32m   <a href='file:///c%3A/Users/elkeb/AppData/Local/Programs/Python/Python310/lib/subprocess.py?line=1451'>1452</a>\u001b[0m                          errread, errwrite)\n",
      "\u001b[1;31mOSError\u001b[0m: [WinError 193] %1 is not a valid Win32 application"
     ]
    }
   ],
   "source": [
    "! pip install playsound==1.2.2  \n",
    "\n",
    "import playsound\n",
    "\n",
    "class Parrot:\n",
    "    species = \"bird\"\n",
    "\n",
    "    def __init__(self, name, age, color):\n",
    "        self.Name = name\n",
    "        self.Age = age\n",
    "        self.Color = color\n",
    "\n",
    "    def Talk(self, text):\n",
    "        print(self.Name,\"zegt\",text)\n",
    "    \n",
    "    def Sing(self):\n",
    "        playsound.playsound(\"sound.wav\")\n",
    "\n",
    "henkie = Parrot(\"Henkie\", 10, \"wit\")\n",
    "print(henkie.Name,\"is\",henkie.Age,\"jaar oud\")\n",
    "\n",
    "frankie = Parrot(\"Frankie\",15, \"rood\")\n",
    "print(frankie.Name,\"is\",frankie.Age,\"jaar oud\")\n",
    "\n",
    "henkie.Talk(\"blabla\")\n",
    "frankie.Sing()\n"
   ]
  },
  {
   "cell_type": "code",
   "execution_count": null,
   "metadata": {},
   "outputs": [],
   "source": []
  }
 ],
 "metadata": {
  "interpreter": {
   "hash": "cd5662ff78f94fa96606278180ac3194361a7052a583c098e93db213779cf166"
  },
  "kernelspec": {
   "display_name": "Python 3.10.1 64-bit",
   "language": "python",
   "name": "python3"
  },
  "language_info": {
   "codemirror_mode": {
    "name": "ipython",
    "version": 3
   },
   "file_extension": ".py",
   "mimetype": "text/x-python",
   "name": "python",
   "nbconvert_exporter": "python",
   "pygments_lexer": "ipython3",
   "version": "3.10.1"
  },
  "orig_nbformat": 4
 },
 "nbformat": 4,
 "nbformat_minor": 2
}
