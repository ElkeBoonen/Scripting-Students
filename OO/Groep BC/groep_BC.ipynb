{
 "cells": [
  {
   "cell_type": "markdown",
   "metadata": {},
   "source": [
    "# OO: les 9/5"
   ]
  },
  {
   "cell_type": "code",
   "execution_count": null,
   "metadata": {},
   "outputs": [],
   "source": [
    "class Parrot:\n",
    "    def __init__(ditbenikzelf): # eerste parameter ben jezelf!!\n",
    "        print(\"Parrot is created\")\n",
    "\n",
    "henkie = Parrot()\n",
    "print(henkie)"
   ]
  },
  {
   "cell_type": "code",
   "execution_count": 14,
   "metadata": {},
   "outputs": [
    {
     "name": "stdout",
     "output_type": "stream",
     "text": [
      "Requirement already satisfied: playsound==1.2.2 in c:\\users\\elkeb\\appdata\\local\\programs\\python\\python310\\lib\\site-packages (1.2.2)\n",
      "Henkie is 10 jaar oud\n",
      "Frankie is 15 jaar oud\n",
      "Henkie zegt blabla\n"
     ]
    }
   ],
   "source": [
    "! pip install playsound==1.2.2  \n",
    "\n",
    "import playsound\n",
    "\n",
    "class Parrot:\n",
    "    species = \"bird\"\n",
    "\n",
    "    def __init__(self, name, age, color):\n",
    "        self.Name = name\n",
    "        self.Age = age\n",
    "        self.Color = color\n",
    "\n",
    "    def Talk(self, text):\n",
    "        print(self.Name,\"zegt\",text)\n",
    "    \n",
    "    def Sing(self):\n",
    "        playsound.playsound(\"sound.wav\")\n",
    "\n",
    "henkie = Parrot(\"Henkie\", 10, \"wit\")\n",
    "print(henkie.Name,\"is\",henkie.Age,\"jaar oud\")\n",
    "\n",
    "frankie = Parrot(\"Frankie\",15, \"rood\")\n",
    "print(frankie.Name,\"is\",frankie.Age,\"jaar oud\")\n",
    "\n",
    "henkie.Talk(\"blabla\")\n",
    "frankie.Sing()\n"
   ]
  },
  {
   "cell_type": "markdown",
   "metadata": {},
   "source": [
    "## Multiple inheritance"
   ]
  },
  {
   "cell_type": "code",
   "execution_count": 16,
   "metadata": {},
   "outputs": [
    {
     "name": "stdout",
     "output_type": "stream",
     "text": [
      "D\n",
      "C\n",
      "B\n",
      "A\n"
     ]
    }
   ],
   "source": [
    "class A:\n",
    "    def __init__(self):\n",
    "        print(\"A\")\n",
    "\n",
    "class B(A):\n",
    "    def __init__(self):\n",
    "        print(\"B\")\n",
    "        super().__init__();\n",
    "\n",
    "class C(A):\n",
    "    def __init__(self):\n",
    "        print(\"C\")\n",
    "        super().__init__();\n",
    "\n",
    "class D(C,B): # --> deze volgorde bepaalt welke basisklasse er eerst wordt opgeroepen!\n",
    "     def __init__(self):\n",
    "        print(\"D\")\n",
    "        super().__init__();\n",
    "\n",
    "d = D()\n"
   ]
  }
 ],
 "metadata": {
  "interpreter": {
   "hash": "cd5662ff78f94fa96606278180ac3194361a7052a583c098e93db213779cf166"
  },
  "kernelspec": {
   "display_name": "Python 3.10.1 64-bit",
   "language": "python",
   "name": "python3"
  },
  "language_info": {
   "codemirror_mode": {
    "name": "ipython",
    "version": 3
   },
   "file_extension": ".py",
   "mimetype": "text/x-python",
   "name": "python",
   "nbconvert_exporter": "python",
   "pygments_lexer": "ipython3",
   "version": "3.10.1"
  },
  "orig_nbformat": 4
 },
 "nbformat": 4,
 "nbformat_minor": 2
}
