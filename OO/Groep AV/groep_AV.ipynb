{
 "cells": [
  {
   "cell_type": "markdown",
   "metadata": {},
   "source": [
    "# Les OO : les 10/5\n",
    "\n",
    "## self parameter"
   ]
  },
  {
   "cell_type": "code",
   "execution_count": null,
   "metadata": {},
   "outputs": [],
   "source": [
    "class Parrot:\n",
    "    def __init__(ditbenikzelf): # self kan je andere naam\n",
    "        print(\"Parrot is created\")\n",
    "\n",
    "henkie = Parrot()\n",
    "print(henkie)"
   ]
  },
  {
   "cell_type": "markdown",
   "metadata": {},
   "source": [
    "## Properties & methoden\n",
    "\n",
    "sounds: https://www.findsounds.com/ISAPI/search.dll?keywords=parrot"
   ]
  },
  {
   "cell_type": "code",
   "execution_count": null,
   "metadata": {},
   "outputs": [],
   "source": [
    "! pip install playsound==1.2.2 \n",
    "import playsound\n",
    "import datetime as dt\n",
    "\n",
    "class Bird:\n",
    "    species = \"vogel\"\n",
    "\n",
    "    def info(self):\n",
    "        print(\"dit is een\", self.species)\n",
    "\n",
    "class Parrot(Bird):\n",
    "    species = \"papegaai\"\n",
    "\n",
    "    def __age(self, birthdate): # __ --> private methode om de leeftijd te berekenen\n",
    "        return dt.datetime.now().year - birthdate.year\n",
    "\n",
    "    def __init__(self, name, birthdate, color):\n",
    "        self.name = name\n",
    "        self.age = self.__age(birthdate)\n",
    "        self.color = color\n",
    "\n",
    "    def sing(self):\n",
    "        playsound.playsound(\"sound.wav\")\n",
    "\n",
    "    def talk(self,text):\n",
    "        print(self.name,\"zegt\",text)\n",
    "    \n",
    "    def info(self):\n",
    "        print(self.name,\"is een\", self.species)\n",
    "\n",
    "\n",
    "henkie = Parrot(\"Henkie\", dt.datetime(2000,1,1), \"geel\")\n",
    "print(henkie.name,\"is\",henkie.age,\"jaar oud en is een\", henkie.species) # henkie.__age() --> zie je staan maar geeft foutmelding!\n",
    "henkie.talk(\"hallo\")\n",
    "\n",
    "frankie = Parrot(\"Frankie\", dt.datetime(2010,1,1), \"rood\")\n",
    "print(frankie.name,\"is\",frankie.age,\"jaar oud en is een\", frankie.species)\n",
    "# frankie.sing()\n",
    "\n",
    "bert = Bird()\n",
    "print(bert.species)\n",
    "\n",
    "vogels = [henkie, bert, frankie]\n",
    "for vogel in vogels:\n",
    "    vogel.info()"
   ]
  },
  {
   "cell_type": "markdown",
   "metadata": {},
   "source": [
    "## Opsplitsen code in verschillende files"
   ]
  },
  {
   "cell_type": "code",
   "execution_count": null,
   "metadata": {},
   "outputs": [],
   "source": [
    "from birds import Parrot\n",
    "import datetime as dt\n",
    "\n",
    "\n",
    "jackie = Parrot(\"Jackie\",dt.datetime(2000,1,1),\"roos\")\n",
    "jackie.info()"
   ]
  },
  {
   "cell_type": "markdown",
   "metadata": {},
   "source": [
    "## Inheritance"
   ]
  },
  {
   "cell_type": "code",
   "execution_count": null,
   "metadata": {},
   "outputs": [],
   "source": [
    "class A():\n",
    "    def info(self):\n",
    "        print(\"A\")\n",
    "\n",
    "class B(A):\n",
    "    def info(self):\n",
    "        print(\"B\")\n",
    "\n",
    "class C(A):\n",
    "    pass\n",
    "\n",
    "a = A()\n",
    "b = B()\n",
    "c = C()\n",
    "\n",
    "a.info()\n",
    "b.info()\n",
    "c.info() # --> geeft ook A aangezien C geen override heeft van info()"
   ]
  },
  {
   "cell_type": "markdown",
   "metadata": {},
   "source": [
    "## super methode\n",
    "\n",
    "geeft alle methoden & properties weer van basis klasse"
   ]
  },
  {
   "cell_type": "code",
   "execution_count": null,
   "metadata": {},
   "outputs": [],
   "source": [
    "class A():\n",
    "    def info(self):\n",
    "        print(\"A\")\n",
    "\n",
    "class B(A):\n",
    "    def info(self):\n",
    "        print(\"B\")\n",
    "        super().info()\n",
    "\n",
    "class C(A):\n",
    "    def info(self):\n",
    "        print(\"C\")\n",
    "        super().info()\n",
    "\n",
    "a = A()\n",
    "b = B()\n",
    "c = C()\n",
    "\n",
    "a.info()\n",
    "b.info()\n",
    "c.info()"
   ]
  },
  {
   "cell_type": "markdown",
   "metadata": {},
   "source": [
    "## Multiple inheritence"
   ]
  },
  {
   "cell_type": "code",
   "execution_count": null,
   "metadata": {},
   "outputs": [],
   "source": [
    "class A():\n",
    "    def info(self):\n",
    "        print(\"A\")\n",
    "\n",
    "class B(A):\n",
    "    def info(self):\n",
    "        print(\"B\")\n",
    "        super().info()\n",
    "\n",
    "class C(A):\n",
    "    def info(self):\n",
    "        print(\"C\")\n",
    "        super().info()\n",
    "\n",
    "class D(C,B):\n",
    "     def info(self):\n",
    "        print(\"D\")\n",
    "        super().info()\n",
    "\n",
    "a = A()\n",
    "b = B()\n",
    "c = C()\n",
    "d = D()\n",
    "\n",
    "print(\"--- A\")\n",
    "a.info()\n",
    "print(\"--- B\")\n",
    "b.info()\n",
    "print(\"--- C\")\n",
    "c.info()\n",
    "print(\"--- D\")\n",
    "d.info()"
   ]
  },
  {
   "cell_type": "markdown",
   "metadata": {},
   "source": [
    "## Vogelbekdier ;)"
   ]
  },
  {
   "cell_type": "code",
   "execution_count": 21,
   "metadata": {},
   "outputs": [
    {
     "name": "stdout",
     "output_type": "stream",
     "text": [
      "zoogdier\n"
     ]
    }
   ],
   "source": [
    "from specials import Platypus\n",
    "\n",
    "vogelbekdier = Platypus()\n",
    "vogelbekdier.info()\n"
   ]
  }
 ],
 "metadata": {
  "interpreter": {
   "hash": "ecbde28aaa7044811fcf7473a2337b674477ec64eb441a64dd8be45791588f89"
  },
  "kernelspec": {
   "display_name": "Python 3.10.1 64-bit",
   "language": "python",
   "name": "python3"
  },
  "language_info": {
   "codemirror_mode": {
    "name": "ipython",
    "version": 3
   },
   "file_extension": ".py",
   "mimetype": "text/x-python",
   "name": "python",
   "nbconvert_exporter": "python",
   "pygments_lexer": "ipython3",
   "version": "3.10.1"
  },
  "orig_nbformat": 4
 },
 "nbformat": 4,
 "nbformat_minor": 2
}
