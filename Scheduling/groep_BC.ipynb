{
 "cells": [
  {
   "cell_type": "markdown",
   "metadata": {},
   "source": [
    "# Scheduling: les 25 april\n",
    "## Keeping time"
   ]
  },
  {
   "cell_type": "code",
   "execution_count": 13,
   "metadata": {},
   "outputs": [
    {
     "name": "stdout",
     "output_type": "stream",
     "text": [
      "1650876469.640287\n",
      "Mon Apr 25 10:47:49 2022\n"
     ]
    }
   ],
   "source": [
    "import time\n",
    "print(time.time())\n",
    "print(time.ctime())"
   ]
  },
  {
   "cell_type": "markdown",
   "metadata": {},
   "source": [
    "### Tijd meten\n",
    "Tijd uit Tokyo halen en meten hoe lang we daarover doen!\n",
    "\n",
    "https://worldtimeapi.org/api/timezone/Asia/Tokyo"
   ]
  },
  {
   "cell_type": "code",
   "execution_count": 5,
   "metadata": {},
   "outputs": [
    {
     "name": "stdout",
     "output_type": "stream",
     "text": [
      "2022-04-25T18:04:17.518330+09:00\n",
      "Aantal seconden nodig om Tokyo-tijd binnen te halen:  0.06057024002075195\n"
     ]
    }
   ],
   "source": [
    "import time\n",
    "import requests\n",
    "import json\n",
    "\n",
    "# start tijd!\n",
    "start = time.time()\n",
    "\n",
    "url = \"https://worldtimeapi.org/api/timezone/Asia/Tokyo\"\n",
    "response = requests.get(url)\n",
    "if (response.status_code!=200):\n",
    "    print(\"Oepsie, er liep iets verkeerd\")\n",
    "    exit\n",
    "\n",
    "data = json.loads(response.text)\n",
    "\n",
    "print(data[\"datetime\"])\n",
    "\n",
    "# stop de tijd!\n",
    "stop = time.time()\n",
    "\n",
    "print(\"Aantal seconden nodig om Tokyo-tijd binnen te halen: \", (stop-start))\n",
    "\n"
   ]
  },
  {
   "cell_type": "markdown",
   "metadata": {},
   "source": [
    "### Tijd voor een bom ;)"
   ]
  },
  {
   "cell_type": "code",
   "execution_count": 7,
   "metadata": {},
   "outputs": [
    {
     "name": "stdout",
     "output_type": "stream",
     "text": [
      "tik\n",
      "tak\n",
      "tik\n",
      "tak\n",
      "tik\n",
      "tak\n",
      "tik\n",
      "tak\n",
      "tik\n",
      "tak\n",
      "BOOOOOM\n"
     ]
    }
   ],
   "source": [
    "import time\n",
    "\n",
    "for i in range(5):\n",
    "    print('tik')\n",
    "    time.sleep(1)\n",
    "    print('tak')\n",
    "    time.sleep(1)\n",
    "print(\"BOOOOOM\")"
   ]
  },
  {
   "cell_type": "markdown",
   "metadata": {},
   "source": [
    "### Werken met datetime module"
   ]
  },
  {
   "cell_type": "code",
   "execution_count": 3,
   "metadata": {},
   "outputs": [
    {
     "name": "stdout",
     "output_type": "stream",
     "text": [
      "2022-04-25 11:26:14.746720\n",
      "2022\n",
      "14\n",
      "Hoeveel dagen tot examen: 44\n",
      "Leeftijd:  42\n"
     ]
    }
   ],
   "source": [
    "import datetime as dt\n",
    "\n",
    "print(dt.datetime.now())\n",
    "\n",
    "nu = dt.datetime.now()\n",
    "print(nu.year)\n",
    "print(nu.second)\n",
    "\n",
    "ex = dt.datetime(2022, 6, 9, 9, 0, 0)\n",
    "\n",
    "print(\"Hoeveel dagen tot examen:\", (ex - nu).days)\n",
    "\n",
    "geboorte = dt.datetime(1980, 4,23,1,0,0)\n",
    "print(\"Leeftijd: \", nu.year-geboorte.year)\n"
   ]
  },
  {
   "cell_type": "markdown",
   "metadata": {},
   "source": [
    "### Kookwekker"
   ]
  },
  {
   "cell_type": "code",
   "execution_count": 1,
   "metadata": {},
   "outputs": [
    {
     "name": "stdout",
     "output_type": "stream",
     "text": [
      "Requirement already satisfied: playsound in c:\\users\\elkeb\\appdata\\local\\programs\\python\\python310\\lib\\site-packages (1.3.0)\n"
     ]
    },
    {
     "name": "stderr",
     "output_type": "stream",
     "text": [
      "\n",
      "    Error 263 for command:\n",
      "        close alarm.wav\n",
      "    The specified device is not open or is not recognized by MCI.\n",
      "Failed to close the file: alarm.wav\n"
     ]
    }
   ],
   "source": [
    "import time\n",
    "\n",
    "! pip install playsound\n",
    "import playsound\n",
    "\n",
    "seconden = input(\"Geef aantal seconden in\")\n",
    "time.sleep(int(seconden))\n",
    "playsound.playsound('alarm.wav')"
   ]
  },
  {
   "cell_type": "markdown",
   "metadata": {},
   "source": [
    "## Multithreading\n",
    "\n",
    "Werken met verschillende threads"
   ]
  },
  {
   "cell_type": "code",
   "execution_count": 7,
   "metadata": {},
   "outputs": [],
   "source": [
    "import threading, time, requests, json\n",
    "\n",
    "def functieA():\n",
    "    for i in range(10):\n",
    "        print(7, \"*\",i, (i*7))\n",
    "\n",
    "def functieB():\n",
    "    time.sleep(5)\n",
    "    print(\"ik ben wakker!\")\n",
    "\n",
    "def functieC():\n",
    "    response = requests.get(\"https://api.kanye.rest/\")\n",
    "    print(json.loads(response.text)[\"quote\"])\n",
    "\n"
   ]
  },
  {
   "cell_type": "code",
   "execution_count": 8,
   "metadata": {},
   "outputs": [
    {
     "name": "stdout",
     "output_type": "stream",
     "text": [
      "-- SINGLE THREADING\n",
      "7 * 0 0\n",
      "7 * 1 7\n",
      "7 * 2 14\n",
      "7 * 3 21\n",
      "7 * 4 28\n",
      "7 * 5 35\n",
      "7 * 6 42\n",
      "7 * 7 49\n",
      "7 * 8 56\n",
      "7 * 9 63\n",
      "ik ben wakker!\n",
      "I make awesome decisions in bike stores!!!\n"
     ]
    }
   ],
   "source": [
    "# SINGLE THREADING!!\n",
    "print(\"-- SINGLE THREADING\")\n",
    "functieA()\n",
    "functieB()\n",
    "functieC()"
   ]
  },
  {
   "cell_type": "code",
   "execution_count": 9,
   "metadata": {},
   "outputs": [
    {
     "name": "stdout",
     "output_type": "stream",
     "text": [
      "\n",
      "\n",
      "-- MULTI THREADING\n",
      "7 * 0 0\n",
      "7 * 1 7\n",
      "7 * 2 14\n",
      "7 * 3 21\n",
      "7 * 4 28\n",
      "7 * 5 35\n",
      "7 * 6 42\n",
      "7 * 7 49\n",
      "7 * 8 56\n",
      "7 * 9 63\n",
      "One of my favorite of many things about what the Trump hat represents to me is that people can't tell me what to do because I'm black\n",
      "ik ben wakker!\n"
     ]
    }
   ],
   "source": [
    "print(\"\\n\\n-- MULTI THREADING\")\n",
    "# MULTI THREADING\n",
    "threadA = threading.Thread(target=functieA)\n",
    "threadB = threading.Thread(target=functieB)\n",
    "threadC = threading.Thread(target=functieC)\n",
    "\n",
    "threadA.start()\n",
    "threadB.start()\n",
    "threadC.start()"
   ]
  },
  {
   "cell_type": "markdown",
   "metadata": {},
   "source": [
    "## Opstarten programma's\n",
    "\n",
    "Python script runnen vanuit notebook lukt niet, dus zie open.py\n"
   ]
  },
  {
   "cell_type": "code",
   "execution_count": 25,
   "metadata": {},
   "outputs": [
    {
     "name": "stdout",
     "output_type": "stream",
     "text": [
      "None\n",
      "0\n"
     ]
    },
    {
     "data": {
      "text/plain": [
       "<Popen: returncode: None args: ['start', 'test.html']>"
      ]
     },
     "execution_count": 25,
     "metadata": {},
     "output_type": "execute_result"
    }
   ],
   "source": [
    "import subprocess\n",
    "\n",
    "calc = subprocess.Popen('C:\\Windows\\System32\\calc.exe')\n",
    "print(calc.poll())\n",
    "calc.wait()\n",
    "print(calc.poll())\n",
    "\n",
    "text = open(\"test.txt\", 'w')\n",
    "text.write(\"blabla\")\n",
    "text.close()\n",
    "\n",
    "subprocess.Popen(['start','test.txt'], shell=True)\n",
    "\n",
    "subprocess.Popen(['start','alarm.wav'], shell=True)\n",
    "\n",
    "html = open(\"test.html\", 'w')\n",
    "html.write(\"<html><head><title>Hello Title</title></head><body>Hello World</body></html>\")\n",
    "html.close()\n",
    "subprocess.Popen(['start','test.html'], shell=True)\n",
    "\n"
   ]
  }
 ],
 "metadata": {
  "interpreter": {
   "hash": "cd5662ff78f94fa96606278180ac3194361a7052a583c098e93db213779cf166"
  },
  "kernelspec": {
   "display_name": "Python 3.10.1 64-bit",
   "language": "python",
   "name": "python3"
  },
  "language_info": {
   "codemirror_mode": {
    "name": "ipython",
    "version": 3
   },
   "file_extension": ".py",
   "mimetype": "text/x-python",
   "name": "python",
   "nbconvert_exporter": "python",
   "pygments_lexer": "ipython3",
   "version": "3.10.1"
  },
  "orig_nbformat": 4
 },
 "nbformat": 4,
 "nbformat_minor": 2
}
