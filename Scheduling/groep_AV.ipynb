{
 "cells": [
  {
   "cell_type": "markdown",
   "metadata": {},
   "source": [
    "# Scheduling les 26 april\n",
    "## Keeping Time\n",
    "\n",
    "check op https://www.epochconverter.com/"
   ]
  },
  {
   "cell_type": "code",
   "execution_count": 1,
   "metadata": {},
   "outputs": [
    {
     "name": "stdout",
     "output_type": "stream",
     "text": [
      "1650964505.17501\n",
      "Tue Apr 26 11:15:05 2022\n"
     ]
    }
   ],
   "source": [
    "import time\n",
    "\n",
    "print(time.time())\n",
    "print(time.ctime())"
   ]
  },
  {
   "cell_type": "markdown",
   "metadata": {},
   "source": [
    "### Tokyo tijd ophalen\n",
    "https://worldtimeapi.org/"
   ]
  },
  {
   "cell_type": "code",
   "execution_count": 30,
   "metadata": {},
   "outputs": [
    {
     "name": "stdout",
     "output_type": "stream",
     "text": [
      "Tijd in Tokyo is  2022-04-26T19:10:48.393499+09:00\n",
      "Tijd nodig om info op te halen 0.08044099807739258\n"
     ]
    }
   ],
   "source": [
    "import time\n",
    "import requests, json\n",
    "\n",
    "# start time\n",
    "start = time.time()\n",
    "\n",
    "# info ophalen\n",
    "response = requests.get(\"https://worldtimeapi.org/api/timezone/Asia//Tokyo\")\n",
    "if (response.status_code == 200):\n",
    "    raise SystemExit(\"Stop right there!\")\n",
    "\n",
    "data = json.loads(response.text)\n",
    "print(\"Tijd in Tokyo is \",data[\"datetime\"])\n",
    "\n",
    "# stop tijd\n",
    "stop = time.time()\n",
    "\n",
    "print(\"Tijd nodig om info op te halen\",(stop-start))"
   ]
  },
  {
   "cell_type": "markdown",
   "metadata": {},
   "source": [
    "### Tijd voor een bom\n",
    "\n",
    "Belangrijk om versie 1.2.2 te installeren!"
   ]
  },
  {
   "cell_type": "code",
   "execution_count": 27,
   "metadata": {},
   "outputs": [
    {
     "name": "stdout",
     "output_type": "stream",
     "text": [
      "Requirement already satisfied: playsound==1.2.2 in c:\\users\\elkeb\\appdata\\local\\programs\\python\\python310\\lib\\site-packages (1.2.2)\n",
      "tik tak\n",
      "tik tak\n",
      "tik tak\n"
     ]
    }
   ],
   "source": [
    "! pip install playsound==1.2.2  \n",
    "\n",
    "import time\n",
    "import playsound\n",
    "\n",
    "\n",
    "for i in range(3):\n",
    "    print(\"tik\", end=' ')\n",
    "    time.sleep(1)\n",
    "    print(\"tak\")\n",
    "    time.sleep(2)\n",
    "\n",
    "playsound.playsound(\"bomb.wav\")"
   ]
  },
  {
   "cell_type": "markdown",
   "metadata": {},
   "source": [
    "### Werken met datetime"
   ]
  },
  {
   "cell_type": "code",
   "execution_count": 24,
   "metadata": {},
   "outputs": [
    {
     "name": "stdout",
     "output_type": "stream",
     "text": [
      "2022-04-26 11:58:25.702469\n",
      "Aantal dagen tot examen 43 days, 21:01:34.297531\n",
      "Aantal dagen tot examen 43\n",
      "1970-01-01 01:00:00\n",
      "1970-01-01 01:00:01\n",
      "1970-01-01 01:01:00\n",
      "2022-04-26 09:00:00\n",
      "2022-07-05 09:00:00\n",
      "2022\n"
     ]
    }
   ],
   "source": [
    "import datetime as dt\n",
    "\n",
    "print(dt.datetime.now())\n",
    "\n",
    "ex = dt.datetime(2022,6,9, 9, 0,0)\n",
    "\n",
    "print(\"Aantal dagen tot examen\",(ex-dt.datetime.now()))\n",
    "print(\"Aantal dagen tot examen\",(ex-dt.datetime.now()).days)\n",
    "\n",
    "print(dt.datetime.fromtimestamp(0))  # epoch time --> 1/1/1970 --> GMT +1 in onze tijdzone\n",
    "print(dt.datetime.fromtimestamp(1)) \n",
    "print(dt.datetime.fromtimestamp(60)) \n",
    "\n",
    "# rekenen met de dagen\n",
    "ex -= dt.timedelta(days=44) # --> komt altijd op de les van 26 april uit ;)\n",
    "print(ex)\n",
    "\n",
    "ex += dt.timedelta(weeks=10) # 10 weken erbij is het vakantie!\n",
    "print(ex)\n",
    "\n",
    "print(ex.year)\n"
   ]
  },
  {
   "cell_type": "markdown",
   "metadata": {},
   "source": [
    "### Kookwekker"
   ]
  },
  {
   "cell_type": "code",
   "execution_count": 1,
   "metadata": {},
   "outputs": [],
   "source": [
    "import time\n",
    "import playsound\n",
    "\n",
    "seconden = input(\"Geef een aantal seconden in!\")\n",
    "time.sleep(int(seconden))\n",
    "playsound.playsound(\"alarm.wav\")"
   ]
  },
  {
   "cell_type": "markdown",
   "metadata": {},
   "source": [
    "## Multithreading\n",
    "\n",
    "werken met Kanye ;) https://api.kanye.rest/"
   ]
  },
  {
   "cell_type": "code",
   "execution_count": 9,
   "metadata": {},
   "outputs": [],
   "source": [
    "import time\n",
    "import requests, json\n",
    "\n",
    "def functieA():\n",
    "    for i in range(10):\n",
    "        print(8,\"*\",i,\"=\",(i*8))\n",
    "        time.sleep(1)\n",
    "\n",
    "def functieB():\n",
    "    response = requests.get(\"https://api.kanye.rest/\")\n",
    "    print(json.loads(response.text)[\"quote\"])\n",
    "\n",
    "def functieC():\n",
    "    time.sleep(5)\n",
    "    print(\"Ik ben wakker!\")\n",
    "\n",
    "def functieD():\n",
    "    playsound.playsound(\"bomb.wav\")"
   ]
  },
  {
   "cell_type": "code",
   "execution_count": 10,
   "metadata": {},
   "outputs": [
    {
     "name": "stdout",
     "output_type": "stream",
     "text": [
      "SINGLE THREADING\n",
      "start\n",
      "8 * 0 = 0\n",
      "8 * 1 = 8\n",
      "8 * 2 = 16\n",
      "8 * 3 = 24\n",
      "8 * 4 = 32\n",
      "8 * 5 = 40\n",
      "8 * 6 = 48\n",
      "8 * 7 = 56\n",
      "8 * 8 = 64\n",
      "8 * 9 = 72\n",
      "The world is our family\n",
      "Ik ben wakker!\n",
      "stop\n"
     ]
    }
   ],
   "source": [
    "print(\"SINGLE THREADING\")\n",
    "print(\"start\")\n",
    "functieA()\n",
    "functieB()\n",
    "functieC()\n",
    "functieD()\n",
    "print(\"stop\")"
   ]
  },
  {
   "cell_type": "code",
   "execution_count": 11,
   "metadata": {},
   "outputs": [
    {
     "name": "stdout",
     "output_type": "stream",
     "text": [
      "MULTI THREADING\n",
      "start\n",
      "8 * 0 = 0\n",
      "stop\n",
      "I spoke to Dave Chapelle for two hours this morning. He is our modern day Socrates\n",
      "8 * 1 = 8\n",
      "8 * 2 = 16\n",
      "8 * 3 = 24\n",
      "8 * 4 = 32\n",
      "Ik ben wakker!\n",
      "8 * 5 = 40\n",
      "8 * 6 = 48\n",
      "8 * 7 = 56\n",
      "8 * 8 = 64\n",
      "8 * 9 = 72\n"
     ]
    }
   ],
   "source": [
    "import threading\n",
    "\n",
    "threadA = threading.Thread(target=functieA)\n",
    "threadB = threading.Thread(target=functieB)\n",
    "threadC = threading.Thread(target=functieC)\n",
    "threadD = threading.Thread(target=functieD)\n",
    "\n",
    "print(\"MULTI THREADING\")\n",
    "print(\"start\")\n",
    "threadA.start()\n",
    "threadB.start()\n",
    "threadC.start()\n",
    "threadD.start()\n",
    "print(\"stop\")"
   ]
  },
  {
   "cell_type": "markdown",
   "metadata": {},
   "source": [
    "## Launching programs"
   ]
  },
  {
   "cell_type": "code",
   "execution_count": 17,
   "metadata": {},
   "outputs": [
    {
     "name": "stdout",
     "output_type": "stream",
     "text": [
      "None\n",
      "None\n",
      "0\n"
     ]
    }
   ],
   "source": [
    "import subprocess\n",
    "\n",
    "calc = subprocess.Popen(\"C:\\\\Windows\\\\System32\\\\calc.exe\")\n",
    "paint = subprocess.Popen(r\"C:\\Windows\\System32\\mspaint.exe\")\n",
    "\n",
    "print(calc.poll())\n",
    "calc.kill()\n",
    "print(calc.poll())\n",
    "\n",
    "paint.wait()\n",
    "print(paint.poll())"
   ]
  },
  {
   "cell_type": "code",
   "execution_count": 24,
   "metadata": {},
   "outputs": [
    {
     "data": {
      "text/plain": [
       "<Popen: returncode: None args: ['start', 'https://www.google.be']>"
      ]
     },
     "execution_count": 24,
     "metadata": {},
     "output_type": "execute_result"
    }
   ],
   "source": [
    "import subprocess\n",
    "\n",
    "html = open(\"test.html\",'w')\n",
    "html.write(\"<html><head><title>Dit is een titel</title><body>Dit is een test</body></html>\")\n",
    "html.close()\n",
    "subprocess.Popen(['start',\"test.html\"], shell=True)\n",
    " # in windows gebruik je start, in MacOS is het open\n",
    " # enkel op windows moet je shell=True gebruiken\n",
    "\n",
    "txt = open(\"test.txt\",'w')\n",
    "txt.write(\"test\")\n",
    "txt.close()\n",
    "subprocess.Popen(['start','test.txt'], shell=True)\n",
    "\n",
    "subprocess.Popen(['start', 'https://www.google.be'], shell=True)\n"
   ]
  }
 ],
 "metadata": {
  "interpreter": {
   "hash": "cd5662ff78f94fa96606278180ac3194361a7052a583c098e93db213779cf166"
  },
  "kernelspec": {
   "display_name": "Python 3.10.1 64-bit",
   "language": "python",
   "name": "python3"
  },
  "language_info": {
   "codemirror_mode": {
    "name": "ipython",
    "version": 3
   },
   "file_extension": ".py",
   "mimetype": "text/x-python",
   "name": "python",
   "nbconvert_exporter": "python",
   "pygments_lexer": "ipython3",
   "version": "3.10.1"
  },
  "orig_nbformat": 4
 },
 "nbformat": 4,
 "nbformat_minor": 2
}
