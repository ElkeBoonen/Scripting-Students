{
 "cells": [
  {
   "cell_type": "markdown",
   "metadata": {},
   "source": [
    "# Les 5: 12/03 - Files\n",
    "\n",
    "## Herhalingsoefeningen\n",
    "Je script moet het wachtwoord analyseren op basis van deze criteria:\n",
    "\n",
    "Lengte:\n",
    "- Minder dan 6 tekens: zeer zwak\n",
    "- 6-7 tekens: zwak\n",
    "- 8-10 tekens: redelijk\n",
    "- 11-15 tekens: sterk\n",
    "- Meer dan 15 tekens: zeer sterk\n",
    "\n",
    "Karakterdiversiteit:\n",
    "- Hoofdletters (A-Z)\n",
    "- Kleine letters (a-z)\n",
    "- Cijfers (0-9)\n",
    "- Speciale tekens (!@#$%^&*()_+-=[]{}|;:'\",.<>?/)\n",
    "\n",
    "Vergeet niet!\n",
    "- maak eerst regex, dan pas code: https://regexr.com/"
   ]
  },
  {
   "cell_type": "code",
   "execution_count": null,
   "metadata": {},
   "outputs": [
    {
     "name": "stdout",
     "output_type": "stream",
     "text": [
      "zwak\n",
      "True True True True\n",
      "8 7\n"
     ]
    }
   ],
   "source": [
    "import re # https://www3.ntu.edu.sg/home/ehchua/programming/howto/Regexe.html\n",
    "\n",
    "wachtwoord = input(\"Geef je wachtwoord in\")\n",
    "\n",
    "if len(wachtwoord) < 10:\n",
    "    print(\"zwak\")\n",
    "else:\n",
    "    print(\"sterk\")\n",
    "\n",
    "hoofdletter = bool(re.search(r\"[A-Z]\", wachtwoord))\n",
    "kleine_letters = bool(re.search(r\"[a-z]\", wachtwoord))\n",
    "cijfers = bool(re.search(r\"\\d\", wachtwoord))\n",
    "speciaal = bool(re.search(r\"[^\\w\\s]\", wachtwoord)) # we sluiten alle 'mooie' karakters hier uit!\n",
    "\n",
    "print(hoofdletter, kleine_letters, cijfers, speciaal)\n",
    "\n",
    "lengte = len(wachtwoord) # spelen met lengte en vervangen van regex-patronen\n",
    "wachtwoord = re.sub(r\"[A-Z]\",\"\", wachtwoord)\n",
    "print(lengte, len(wachtwoord))\n"
   ]
  },
  {
   "cell_type": "markdown",
   "metadata": {},
   "source": [
    "## Folders!\n",
    "\n",
    "2 grote modules: os & pathlib"
   ]
  },
  {
   "cell_type": "code",
   "execution_count": 21,
   "metadata": {},
   "outputs": [
    {
     "name": "stdout",
     "output_type": "stream",
     "text": [
      "c:\\Users\\elkeb\\OneDrive - Thomas More\\GitHub 24-25\\Scripting-Students\\03 Files\n",
      "c:\\Users\\elkeb\\OneDrive - Thomas More\\GitHub 24-25\\Scripting-Students\\03 Files\n",
      "<class 'str'>\n",
      "<class 'pathlib.WindowsPath'>\n",
      "seliF 30\\stnedutS-gnitpircS\\52-42 buHtiG\\eroM samohT - evirDenO\\bekle\\sresU\\:c\n",
      "c:\\Users\\elkeb\\OneDrive - Thomas More\\GitHub 24-25\\Scripting-Students\n",
      "True\n",
      "C:\\Users\\elkeb\n",
      "C:\\Users\\elkeb\\test\n",
      "C:\\Users\\elkeb\\test\n",
      "testtest\n",
      "testtest\n"
     ]
    }
   ],
   "source": [
    "from pathlib import Path\n",
    "import os\n",
    "\n",
    "print(os.getcwd())\n",
    "print(Path.cwd())\n",
    "\n",
    "print(type(os.getcwd()))\n",
    "print(type(Path.cwd()))\n",
    "\n",
    "print(os.getcwd()[::-1]) # string functies\n",
    "print(Path.cwd().parent) # pad/folder/admin functies!\n",
    "print(Path.cwd().is_dir()) # pad/folder/admin functies!\n",
    "\n",
    "\n",
    "## belangrijk, nooit + gebruiken om een pad te maken!!!!!!\n",
    "## gebruik / --> os onafhankelijk!!\n",
    "print(Path.home())\n",
    "print(str(Path.home()) + \"\\\\\" + \"test\")\n",
    "print(Path.home() / \"test\")\n",
    "\n",
    "print(\"test\".__add__(\"test\"))\n",
    "print(\"test\" + \"test\")\n",
    "\n",
    "\n"
   ]
  },
  {
   "cell_type": "code",
   "execution_count": 24,
   "metadata": {},
   "outputs": [
    {
     "name": "stdout",
     "output_type": "stream",
     "text": [
      "c:\\Users\\elkeb\\OneDrive - Thomas More\\GitHub 24-25\\Scripting-Students ['.git', '01 Python basics', '02 Strings & regex', '03 Files'] []\n",
      "c:\\Users\\elkeb\\OneDrive - Thomas More\\GitHub 24-25\\Scripting-Students\\.git ['hooks', 'info', 'logs', 'objects', 'refs'] ['COMMIT_EDITMSG', 'config', 'description', 'HEAD', 'index', 'packed-refs']\n",
      "c:\\Users\\elkeb\\OneDrive - Thomas More\\GitHub 24-25\\Scripting-Students\\.git\\hooks [] ['applypatch-msg.sample', 'commit-msg.sample', 'fsmonitor-watchman.sample', 'post-update.sample', 'pre-applypatch.sample', 'pre-commit.sample', 'pre-merge-commit.sample', 'pre-push.sample', 'pre-rebase.sample', 'pre-receive.sample', 'prepare-commit-msg.sample', 'push-to-checkout.sample', 'sendemail-validate.sample', 'update.sample']\n",
      "c:\\Users\\elkeb\\OneDrive - Thomas More\\GitHub 24-25\\Scripting-Students\\.git\\info [] ['exclude']\n",
      "c:\\Users\\elkeb\\OneDrive - Thomas More\\GitHub 24-25\\Scripting-Students\\.git\\logs ['refs'] ['HEAD']\n",
      "c:\\Users\\elkeb\\OneDrive - Thomas More\\GitHub 24-25\\Scripting-Students\\.git\\logs\\refs ['heads', 'remotes'] []\n",
      "c:\\Users\\elkeb\\OneDrive - Thomas More\\GitHub 24-25\\Scripting-Students\\.git\\logs\\refs\\heads [] ['main']\n",
      "c:\\Users\\elkeb\\OneDrive - Thomas More\\GitHub 24-25\\Scripting-Students\\.git\\logs\\refs\\remotes ['origin'] []\n",
      "c:\\Users\\elkeb\\OneDrive - Thomas More\\GitHub 24-25\\Scripting-Students\\.git\\logs\\refs\\remotes\\origin [] ['HEAD', 'main']\n",
      "c:\\Users\\elkeb\\OneDrive - Thomas More\\GitHub 24-25\\Scripting-Students\\.git\\objects ['06', '26', '2d', '2f', '30', '33', '46', '47', '4b', '59', '61', '6c', '71', '73', '79', '88', '9d', 'a4', 'a6', 'ac', 'ba', 'c9', 'da', 'info', 'pack'] []\n",
      "c:\\Users\\elkeb\\OneDrive - Thomas More\\GitHub 24-25\\Scripting-Students\\.git\\objects\\06 [] ['6309d60e35b19354997330092d9bf05bce61c9']\n",
      "c:\\Users\\elkeb\\OneDrive - Thomas More\\GitHub 24-25\\Scripting-Students\\.git\\objects\\26 [] ['a5795a69f8f26bf9458cd231e44180b4d96d04']\n",
      "c:\\Users\\elkeb\\OneDrive - Thomas More\\GitHub 24-25\\Scripting-Students\\.git\\objects\\2d [] ['11f83428c0bbd4c9234d8827a5cfa1d08cddb3', '9c37f6cb06d2523435adc2ed64da78bb46dcbc']\n",
      "c:\\Users\\elkeb\\OneDrive - Thomas More\\GitHub 24-25\\Scripting-Students\\.git\\objects\\2f [] ['74dd7ec0a74cbbbed5087904f128fcefcd7bd5']\n",
      "c:\\Users\\elkeb\\OneDrive - Thomas More\\GitHub 24-25\\Scripting-Students\\.git\\objects\\30 [] ['84a698cc8ad15cea47d39a33dfee3dc35c78c9']\n",
      "c:\\Users\\elkeb\\OneDrive - Thomas More\\GitHub 24-25\\Scripting-Students\\.git\\objects\\33 [] ['baf15eca429fed5d00a8b010f8243d5cdb56b4']\n",
      "c:\\Users\\elkeb\\OneDrive - Thomas More\\GitHub 24-25\\Scripting-Students\\.git\\objects\\46 [] ['ccfbeca9ec14e943ef5fa62f6db5263c1314af']\n",
      "c:\\Users\\elkeb\\OneDrive - Thomas More\\GitHub 24-25\\Scripting-Students\\.git\\objects\\47 [] ['005e36bbf69db2b3b634a77ac8b6db79aa9b66']\n",
      "c:\\Users\\elkeb\\OneDrive - Thomas More\\GitHub 24-25\\Scripting-Students\\.git\\objects\\4b [] ['bf0ffd79058a582e6dfd27e78e7e6d8ad70dca']\n",
      "c:\\Users\\elkeb\\OneDrive - Thomas More\\GitHub 24-25\\Scripting-Students\\.git\\objects\\59 [] ['bee83577194a6eee165091da6e5b5322ef44cd']\n",
      "c:\\Users\\elkeb\\OneDrive - Thomas More\\GitHub 24-25\\Scripting-Students\\.git\\objects\\61 [] ['f3f34d41356d8584005c0c8953e3c4bfd6b12a']\n",
      "c:\\Users\\elkeb\\OneDrive - Thomas More\\GitHub 24-25\\Scripting-Students\\.git\\objects\\6c [] ['0de1c2d93850e6fa74f139d000e6e704ddb5c6']\n",
      "c:\\Users\\elkeb\\OneDrive - Thomas More\\GitHub 24-25\\Scripting-Students\\.git\\objects\\71 [] ['789da888524ee4808430d21fc3ff53b5eb75e9']\n",
      "c:\\Users\\elkeb\\OneDrive - Thomas More\\GitHub 24-25\\Scripting-Students\\.git\\objects\\73 [] ['2fa5d3a8379aaa9f6a99b47c98607206d87d28']\n",
      "c:\\Users\\elkeb\\OneDrive - Thomas More\\GitHub 24-25\\Scripting-Students\\.git\\objects\\79 [] ['131e20ee2dd1b0832058cb1233ced08d5bd36b']\n",
      "c:\\Users\\elkeb\\OneDrive - Thomas More\\GitHub 24-25\\Scripting-Students\\.git\\objects\\88 [] ['aa785d21d9f592d2a26ee9815e7ea4e2d8432c']\n",
      "c:\\Users\\elkeb\\OneDrive - Thomas More\\GitHub 24-25\\Scripting-Students\\.git\\objects\\9d [] ['40b4dc6c7ff19d25226b24d41d295a90f9c41f']\n",
      "c:\\Users\\elkeb\\OneDrive - Thomas More\\GitHub 24-25\\Scripting-Students\\.git\\objects\\a4 [] ['c08e6efc6f00bd06139a6721be24eb7781ae82']\n",
      "c:\\Users\\elkeb\\OneDrive - Thomas More\\GitHub 24-25\\Scripting-Students\\.git\\objects\\a6 [] ['da00dbee7d605c1605c604b6e9a2364f5d9a19']\n",
      "c:\\Users\\elkeb\\OneDrive - Thomas More\\GitHub 24-25\\Scripting-Students\\.git\\objects\\ac [] ['1f718814573fca7556d9ebffdc7475d50c3e06']\n",
      "c:\\Users\\elkeb\\OneDrive - Thomas More\\GitHub 24-25\\Scripting-Students\\.git\\objects\\ba [] ['52e96aa4b0df6396651d52697ae5360e97b28a']\n",
      "c:\\Users\\elkeb\\OneDrive - Thomas More\\GitHub 24-25\\Scripting-Students\\.git\\objects\\c9 [] ['21248c90753b8619b336922e1c78040781bff1']\n",
      "c:\\Users\\elkeb\\OneDrive - Thomas More\\GitHub 24-25\\Scripting-Students\\.git\\objects\\da [] ['5986a5935da99747ae262f0855914d517fcc13']\n",
      "c:\\Users\\elkeb\\OneDrive - Thomas More\\GitHub 24-25\\Scripting-Students\\.git\\objects\\info [] []\n",
      "c:\\Users\\elkeb\\OneDrive - Thomas More\\GitHub 24-25\\Scripting-Students\\.git\\objects\\pack [] ['pack-44c037e930fbb8a76431d2accffa60e4bb09384d.idx', 'pack-44c037e930fbb8a76431d2accffa60e4bb09384d.pack', 'pack-44c037e930fbb8a76431d2accffa60e4bb09384d.rev']\n",
      "c:\\Users\\elkeb\\OneDrive - Thomas More\\GitHub 24-25\\Scripting-Students\\.git\\refs ['heads', 'remotes', 'tags'] []\n",
      "c:\\Users\\elkeb\\OneDrive - Thomas More\\GitHub 24-25\\Scripting-Students\\.git\\refs\\heads [] ['main']\n",
      "c:\\Users\\elkeb\\OneDrive - Thomas More\\GitHub 24-25\\Scripting-Students\\.git\\refs\\remotes ['origin'] []\n",
      "c:\\Users\\elkeb\\OneDrive - Thomas More\\GitHub 24-25\\Scripting-Students\\.git\\refs\\remotes\\origin [] ['HEAD', 'main']\n",
      "c:\\Users\\elkeb\\OneDrive - Thomas More\\GitHub 24-25\\Scripting-Students\\.git\\refs\\tags [] []\n",
      "c:\\Users\\elkeb\\OneDrive - Thomas More\\GitHub 24-25\\Scripting-Students\\01 Python basics [] ['Les 26-02.ipynb']\n",
      "c:\\Users\\elkeb\\OneDrive - Thomas More\\GitHub 24-25\\Scripting-Students\\02 Strings & regex [] ['Les 05-03.ipynb']\n",
      "c:\\Users\\elkeb\\OneDrive - Thomas More\\GitHub 24-25\\Scripting-Students\\03 Files [] ['Les 12-03.ipynb']\n"
     ]
    }
   ],
   "source": [
    "import os\n",
    "from pathlib import Path\n",
    "\n",
    "path = Path.cwd()\n",
    "\n",
    "for folder, subfolder, file in os.walk(path.parent):\n",
    "    print(folder, subfolder, file)\n",
    "\n",
    "\n",
    "\n"
   ]
  },
  {
   "cell_type": "code",
   "execution_count": null,
   "metadata": {},
   "outputs": [
    {
     "name": "stdout",
     "output_type": "stream",
     "text": [
      "C:\\Users\\elkeb\n",
      "ntuser.dat\n",
      "ntuser.dat\n",
      "NTUSER.DAT{35c01b49-de91-11ef-8759-c6f989824a14}.TM\n",
      "NTUSER.DAT{35c01b49-de91-11ef-8759-c6f989824a14}.TMContainer00000000000000000001\n",
      "NTUSER.DAT{35c01b49-de91-11ef-8759-c6f989824a14}.TMContainer00000000000000000002\n",
      "C:\\Users\\elkeb\\OneDrive - Hariko Consulting BVBA\\Bureaublad\n",
      "2023-05-13 23.35.56\n",
      "afwezigheidsattest\n",
      "DSC_2887\n",
      "rekening 1\n",
      "Schermafbeelding 2025-01-01 180853\n",
      "Schermafbeelding 2025-03-03 162018\n",
      "Schermafbeelding 2025-03-03 162453\n"
     ]
    }
   ],
   "source": [
    "print(Path.home())\n",
    "\n",
    "for file in Path.home().glob(\"*[0-9]*\"):\n",
    "    print(file.stem)\n",
    "\n",
    "for file in Path.home().glob(\"*.jpg\"):\n",
    "    print(file.stem)\n",
    "\n",
    "path = Path(r'<steek hier eender welk pad in>') # constructor oproepen om pad te maken\n",
    "print(path)\n",
    "for file in path.glob(\"*.jpg\"):\n",
    "    print(file.stem)"
   ]
  }
 ],
 "metadata": {
  "kernelspec": {
   "display_name": "Python 3",
   "language": "python",
   "name": "python3"
  },
  "language_info": {
   "codemirror_mode": {
    "name": "ipython",
    "version": 3
   },
   "file_extension": ".py",
   "mimetype": "text/x-python",
   "name": "python",
   "nbconvert_exporter": "python",
   "pygments_lexer": "ipython3",
   "version": "3.12.5"
  }
 },
 "nbformat": 4,
 "nbformat_minor": 2
}
