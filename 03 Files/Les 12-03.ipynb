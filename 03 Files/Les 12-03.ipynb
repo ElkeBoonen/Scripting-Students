{
 "cells": [
  {
   "cell_type": "markdown",
   "metadata": {},
   "source": [
    "# Les 5: 12/03 - Files\n",
    "\n",
    "## Herhalingsoefeningen\n",
    "Je script moet het wachtwoord analyseren op basis van deze criteria:\n",
    "\n",
    "Lengte:\n",
    "- Minder dan 6 tekens: zeer zwak\n",
    "- 6-7 tekens: zwak\n",
    "- 8-10 tekens: redelijk\n",
    "- 11-15 tekens: sterk\n",
    "- Meer dan 15 tekens: zeer sterk\n",
    "\n",
    "Karakterdiversiteit:\n",
    "- Hoofdletters (A-Z)\n",
    "- Kleine letters (a-z)\n",
    "- Cijfers (0-9)\n",
    "- Speciale tekens (!@#$%^&*()_+-=[]{}|;:'\",.<>?/)"
   ]
  }
 ],
 "metadata": {
  "language_info": {
   "name": "python"
  }
 },
 "nbformat": 4,
 "nbformat_minor": 2
}
