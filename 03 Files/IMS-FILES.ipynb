{
 "cells": [
  {
   "attachments": {},
   "cell_type": "markdown",
   "metadata": {},
   "source": [
    "# Les 5 - Files - 13/03\n",
    "\n",
    "## Herhaling\n",
    "### Quiz vraag"
   ]
  },
  {
   "cell_type": "code",
   "execution_count": null,
   "metadata": {},
   "outputs": [],
   "source": [
    "import re\n",
    "\n",
    "s = \"Hello world\"\n",
    "regex = r\"l+\"\n",
    "substring = s[6::]\n",
    "print(substring)\n",
    "list = re.findall(regex, substring)\n",
    "print(list)\n",
    "print(len(list))"
   ]
  },
  {
   "attachments": {},
   "cell_type": "markdown",
   "metadata": {},
   "source": [
    "### Oefening: e-mailadres\n",
    "\n",
    "Write a Python function called validate_email that takes an email address as input and returns a boolean indicating whether or not the email is valid. The function should use string functions and regular expressions to perform the validation. The email is considered valid if it meets the following criteria:\n",
    "\n",
    "- The email address must contain an \"@\" symbol.\n",
    "- The part before the \"@\" symbol must be at least one character long and can only contain letters, numbers, dots, hyphens, and underscores.\n",
    "- The part after the \"@\" symbol must be at least two characters long and can only contain letters, dots, and hyphens.\n",
    "- The email address must not end with a dot.\n"
   ]
  },
  {
   "cell_type": "code",
   "execution_count": null,
   "metadata": {},
   "outputs": [],
   "source": [
    "def validate_email(email):\n",
    "    email = email.strip()\n",
    "    if \" \" in email:\n",
    "        return False\n",
    "\n",
    "    if \"@\" not in email:\n",
    "        return False\n",
    "    \n",
    "    parts = email.split(\"@\")\n",
    "    if len(parts) != 2:\n",
    "        return False\n",
    "    \n",
    "    regex = r\"\\b[a-zA-Z0-9\\.-_]+\\b\"\n",
    "    if re.match(regex,parts[0]) is None:\n",
    "        return False\n",
    "    \n",
    "    regex = r\"\\b[a-zA-Z\\.-]{2,}\\b\"\n",
    "    if re.match(regex,parts[1]) is None:\n",
    "        return False\n",
    "    \n",
    "    if email[-1] == \".\":\n",
    "        return False\n",
    "    \n",
    "    return True # alles wat kon afgecheckt worden is reeds gedaan, dus return True\n",
    "\n",
    "    \n",
    "print(validate_email(\"elke@test.be\"))\n",
    "print(validate_email(\"el ke@test\"))"
   ]
  },
  {
   "attachments": {},
   "cell_type": "markdown",
   "metadata": {},
   "source": [
    "## Folder structuur\n",
    "\n",
    "os & pathlib\n",
    "\n",
    "- os : ouder module\n",
    "- pathlib : nieuwere module, werkt met Path-object!!\n",
    "\n",
    "gebruik altijd / om mappen aan mekaar te plakken, werk niet met + want macOs/linux/windows hebben een ander mappensysteem"
   ]
  },
  {
   "cell_type": "code",
   "execution_count": null,
   "metadata": {},
   "outputs": [],
   "source": [
    "import os\n",
    "from pathlib import Path\n",
    "\n",
    "print(os.getcwd(), type(os.getcwd()))\n",
    "print(Path.cwd(), type(Path.cwd()))\n",
    "\n",
    "# Path object geeft veel meer mogelijkheden!\n",
    "\n",
    "calc = Path(\"C:\\Windows\\System32\\calc.exe\")\n",
    "print(calc.is_file())\n",
    "print(calc.name)\n",
    "print(calc.is_dir())\n",
    "\n",
    "print(Path.home())\n",
    "\n",
    "print(str(Path.home()) + \"\\\\\" + \"folder\")   # enkel werken op windows!!\n",
    "print(Path.home() / \"folder\")               # dus gebruik altijd / om te concateneren\n"
   ]
  },
  {
   "attachments": {},
   "cell_type": "markdown",
   "metadata": {},
   "source": [
    "### folderstructuur doorlopen"
   ]
  },
  {
   "cell_type": "code",
   "execution_count": null,
   "metadata": {},
   "outputs": [],
   "source": [
    "import os\n",
    "from pathlib import Path\n",
    "\n",
    "print(\"huidige directory: \", os.getcwd())\n",
    "\n",
    "# wijzig directory\n",
    "os.chdir(Path.home())\n",
    "print(\"huidige directory: \", os.getcwd())\n",
    "\n",
    "for folderName, subfolders, filenames in os.walk(Path.cwd().parent):\n",
    "    print(folderName)\n",
    "\n",
    "    for subfolder in subfolders:\n",
    "        print(subfolder)\n",
    "    \n",
    "    for filename in filenames:\n",
    "        print(filename)\n"
   ]
  },
  {
   "attachments": {},
   "cell_type": "markdown",
   "metadata": {},
   "source": [
    "### files doorlopen & oplijsten"
   ]
  },
  {
   "cell_type": "code",
   "execution_count": null,
   "metadata": {},
   "outputs": [],
   "source": [
    "import os\n",
    "from pathlib import Path\n",
    "\n",
    "path = Path.cwd() / \"Onedrive\"\n",
    "print(path)\n",
    "\n",
    "for file in path.glob(\"*.txt\"):\n",
    "    print(file)\n",
    "\n",
    "for file in path.glob(\"*[0-9]*\"):\n",
    "    print(file)\n",
    "\n",
    "for file in path.glob(\"*.jpg\"):\n",
    "    print(file)"
   ]
  },
  {
   "attachments": {},
   "cell_type": "markdown",
   "metadata": {},
   "source": [
    "## Files lezen & maken\n",
    "\n",
    "belangrijk om file na bewerken of lezen altijd te sluiten!"
   ]
  },
  {
   "cell_type": "code",
   "execution_count": null,
   "metadata": {},
   "outputs": [],
   "source": [
    "import os\n",
    "\n",
    "os.chdir(r\"<path naam>\")\n",
    "\n",
    "file = open(\"test.txt\", \"w\")\n",
    "file.write(\"blabla\")\n",
    "file.write(\"nog iets\")\n",
    "file.close()\n",
    "\n",
    "file = open(\"test.txt\", \"r\")\n",
    "print(file.read())\n",
    "file.close()\n",
    "\n",
    "file = open(\"test.txt\",\"a\")\n",
    "file.write(\"\\n\\nnog een lijn\")\n",
    "file.close()\n"
   ]
  },
  {
   "attachments": {},
   "cell_type": "markdown",
   "metadata": {},
   "source": [
    "### Oefening e-mails\n",
    "\n",
    "validatie functie werkt zeker niet voor raardere e-mailadressen!"
   ]
  },
  {
   "cell_type": "code",
   "execution_count": null,
   "metadata": {},
   "outputs": [],
   "source": [
    "file = open(\"e-mail.txt\",\"r\")\n",
    "\n",
    "for line in file.readlines():\n",
    "    parts = line.split(\";\")\n",
    "    print(parts[0], validate_email(parts[0]), parts[1])"
   ]
  },
  {
   "attachments": {},
   "cell_type": "markdown",
   "metadata": {},
   "source": [
    "## Files organiseren\n",
    "\n",
    "Let op met delete!! Gebruik module send2trash om files 'veilig' te verwijderen en niet de prullenbak te laten overslaan!"
   ]
  },
  {
   "cell_type": "code",
   "execution_count": null,
   "metadata": {},
   "outputs": [],
   "source": [
    "import os, shutil\n",
    "\n",
    "print(os.getcwd())\n",
    "\n",
    "if not Path(\"folder\").exists():\n",
    "    os.mkdir(\"folder\")\n",
    "else:\n",
    "    print(\"folder bestaat al!\")\n",
    "\n",
    "shutil.copy(\"test.txt\",\"folder\")\n",
    "\n",
    "os.remove(\"test.txt\") # let hiermee op!!!!"
   ]
  },
  {
   "cell_type": "code",
   "execution_count": null,
   "metadata": {},
   "outputs": [],
   "source": [
    "! pip install send2trash\n",
    "\n",
    "file = open(\"testfile.txt\",\"w\")\n",
    "file.write(\"blabla\")\n",
    "file.close()\n",
    "\n",
    "import send2trash\n",
    "\n",
    "send2trash.send2trash(\"testfile.txt\")"
   ]
  },
  {
   "attachments": {},
   "cell_type": "markdown",
   "metadata": {},
   "source": [
    "## Zippen van files"
   ]
  },
  {
   "cell_type": "code",
   "execution_count": null,
   "metadata": {},
   "outputs": [],
   "source": [
    "import zipfile\n",
    "\n",
    "file = zipfile.ZipFile(\"zipbestand.zip\",\"w\")\n",
    "file.write(\"e-mail.txt\")\n",
    "file.write(\"countries.csv\")\n",
    "file.close()\n"
   ]
  },
  {
   "cell_type": "code",
   "execution_count": null,
   "metadata": {},
   "outputs": [],
   "source": [
    "import zipfile\n",
    "from pathlib import Path\n",
    "\n",
    "file = zipfile.ZipFile(Path(\"zipbestand2.zip\"))\n",
    "file.extractall()\n",
    "file.close()"
   ]
  },
  {
   "attachments": {},
   "cell_type": "markdown",
   "metadata": {},
   "source": [
    "## Oefening countries\n",
    "\n",
    "Werk met:\n",
    "- standaard functionaliteit: files, regex, strings\n",
    "- of met pandas https://pandas.pydata.org/docs/index.html \n",
    "- of met csv https://docs.python.org/3/library/csv.html \n",
    "\n",
    "Read the \"countries.csv\" file and...\n",
    "- extract information for a specific country. Print out the information.\n",
    "- find the country with the largest area. Print out the name of the country and its area.\n",
    "- and find all the countries in a specific area. Print out the names of the countries.\n",
    "- ..."
   ]
  },
  {
   "cell_type": "code",
   "execution_count": 5,
   "metadata": {},
   "outputs": [
    {
     "name": "stdout",
     "output_type": "stream",
     "text": [
      "\"Belgium \",\"WESTERN EUROPE                     \",10379067,30528,\"340,0\",\"0,22\",\"1,23\",\"4,68\",29100,\"98,0\",\"462,6\",\"23,28\",\"0,4\",\"76,32\",3,\"10,38\",\"10,27\",\"0,01\",\"0,24\",\"0,749\"\n",
      "\n",
      "None\n",
      "     Country                               Region  Population  Area (sq. mi.)  \\\n",
      "19  Belgium   WESTERN EUROPE                         10379067           30528   \n",
      "\n",
      "   Pop. Density (per sq. mi.) Coastline (coast/area ratio) Net migration  \\\n",
      "19                      340,0                         0,22          1,23   \n",
      "\n",
      "   Infant mortality (per 1000 births)  GDP ($ per capita) Literacy (%)  \\\n",
      "19                               4,68             29100.0         98,0   \n",
      "\n",
      "   Phones (per 1000) Arable (%) Crops (%) Other (%) Climate Birthrate  \\\n",
      "19             462,6      23,28       0,4     76,32       3     10,38   \n",
      "\n",
      "   Deathrate Agriculture Industry Service  \n",
      "19     10,27        0,01     0,24   0,749  \n",
      "None\n",
      "OrderedDict([('Country', 'Belgium '), ('Region', 'WESTERN EUROPE                     '), ('Population', '10379067'), ('Area (sq. mi.)', '30528'), ('Pop. Density (per sq. mi.)', '340,0'), ('Coastline (coast/area ratio)', '0,22'), ('Net migration', '1,23'), ('Infant mortality (per 1000 births)', '4,68'), ('GDP ($ per capita)', '29100'), ('Literacy (%)', '98,0'), ('Phones (per 1000)', '462,6'), ('Arable (%)', '23,28'), ('Crops (%)', '0,4'), ('Other (%)', '76,32'), ('Climate', '3'), ('Birthrate', '10,38'), ('Deathrate', '10,27'), ('Agriculture', '0,01'), ('Industry', '0,24'), ('Service', '0,749')])\n",
      "None\n"
     ]
    }
   ],
   "source": [
    "import pandas as pd, csv\n",
    "\n",
    "def country_simple(country):\n",
    "    file = open(\"countries.csv\",\"r\")\n",
    "    for line in file.readlines():\n",
    "        if country in line:\n",
    "            print(line)\n",
    "    file.close()\n",
    "\n",
    "def country_pandas(country):\n",
    "    df = pd.read_csv(\"countries.csv\")\n",
    "    print(df[df[\"Country\"].str.strip() == country])\n",
    "\n",
    "def country_csv(country):\n",
    "    with open('countries.csv', newline='') as csvfile:\n",
    "        reader = csv.DictReader(csvfile)\n",
    "        for row in reader:\n",
    "            if country in row[\"Country\"]:\n",
    "                print(row) \n",
    "\n",
    "\n",
    "print(country_simple(\"Belgium\"))\n",
    "print(country_pandas(\"Belgium\"))\n",
    "print(country_csv(\"Belgium\"))"
   ]
  }
 ],
 "metadata": {
  "kernelspec": {
   "display_name": "Python 3",
   "language": "python",
   "name": "python3"
  },
  "language_info": {
   "codemirror_mode": {
    "name": "ipython",
    "version": 3
   },
   "file_extension": ".py",
   "mimetype": "text/x-python",
   "name": "python",
   "nbconvert_exporter": "python",
   "pygments_lexer": "ipython3",
   "version": "3.7.4"
  },
  "orig_nbformat": 4
 },
 "nbformat": 4,
 "nbformat_minor": 2
}
