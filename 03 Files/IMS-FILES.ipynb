{
 "cells": [
  {
   "attachments": {},
   "cell_type": "markdown",
   "metadata": {},
   "source": [
    "# Les 5 - Files - 13/03\n",
    "\n",
    "## Herhaling\n",
    "### Quiz vraag"
   ]
  },
  {
   "cell_type": "code",
   "execution_count": null,
   "metadata": {},
   "outputs": [],
   "source": [
    "import re\n",
    "\n",
    "s = \"Hello world\"\n",
    "regex = r\"l+\"\n",
    "substring = s[6::]\n",
    "print(substring)\n",
    "list = re.findall(regex, substring)\n",
    "print(list)\n",
    "print(len(list))"
   ]
  },
  {
   "attachments": {},
   "cell_type": "markdown",
   "metadata": {},
   "source": [
    "### Oefening: e-mailadres\n",
    "\n",
    "Write a Python function called validate_email that takes an email address as input and returns a boolean indicating whether or not the email is valid. The function should use string functions and regular expressions to perform the validation. The email is considered valid if it meets the following criteria:\n",
    "\n",
    "- The email address must contain an \"@\" symbol.\n",
    "- The part before the \"@\" symbol must be at least one character long and can only contain letters, numbers, dots, hyphens, and underscores.\n",
    "- The part after the \"@\" symbol must be at least two characters long and can only contain letters, dots, and hyphens.\n",
    "- The email address must not end with a dot.\n"
   ]
  },
  {
   "cell_type": "code",
   "execution_count": null,
   "metadata": {},
   "outputs": [],
   "source": [
    "def validate_email(email):\n",
    "    email = email.strip()\n",
    "    if \" \" in email:\n",
    "        return False\n",
    "\n",
    "    if \"@\" not in email:\n",
    "        return False\n",
    "    \n",
    "    parts = email.split(\"@\")\n",
    "    if len(parts) != 2:\n",
    "        return False\n",
    "    \n",
    "    regex = r\"\\b[a-zA-Z0-9\\.-_]+\\b\"\n",
    "    if re.match(regex,parts[0]) is None:\n",
    "        return False\n",
    "    \n",
    "    regex = r\"\\b[a-zA-Z\\.-]{2,}\\b\"\n",
    "    if re.match(regex,parts[1]) is None:\n",
    "        return False\n",
    "    \n",
    "    if email[-1] == \".\":\n",
    "        return False\n",
    "    \n",
    "    return True # alles wat kon afgecheckt worden is reeds gedaan, dus return True\n",
    "\n",
    "    \n",
    "print(validate_email(\"elke@test.be\"))\n",
    "print(validate_email(\"el ke@test\"))"
   ]
  },
  {
   "attachments": {},
   "cell_type": "markdown",
   "metadata": {},
   "source": [
    "## Folder structuur\n",
    "\n",
    "os & pathlib\n",
    "\n",
    "- os : ouder module\n",
    "- pathlib : nieuwere module, werkt met Path-object!!\n",
    "\n",
    "gebruik altijd / om mappen aan mekaar te plakken, werk niet met + want macOs/linux/windows hebben een ander mappensysteem"
   ]
  },
  {
   "cell_type": "code",
   "execution_count": null,
   "metadata": {},
   "outputs": [],
   "source": [
    "import os\n",
    "from pathlib import Path\n",
    "\n",
    "print(os.getcwd(), type(os.getcwd()))\n",
    "print(Path.cwd(), type(Path.cwd()))\n",
    "\n",
    "# Path object geeft veel meer mogelijkheden!\n",
    "\n",
    "calc = Path(\"C:\\Windows\\System32\\calc.exe\")\n",
    "print(calc.is_file())\n",
    "print(calc.name)\n",
    "print(calc.is_dir())\n",
    "\n",
    "print(Path.home())\n",
    "\n",
    "print(str(Path.home()) + \"\\\\\" + \"folder\")   # enkel werken op windows!!\n",
    "print(Path.home() / \"folder\")               # dus gebruik altijd / om te concateneren\n"
   ]
  },
  {
   "attachments": {},
   "cell_type": "markdown",
   "metadata": {},
   "source": [
    "### folderstructuur doorlopen"
   ]
  },
  {
   "cell_type": "code",
   "execution_count": null,
   "metadata": {},
   "outputs": [],
   "source": [
    "import os\n",
    "from pathlib import Path\n",
    "\n",
    "print(\"huidige directory: \", os.getcwd())\n",
    "\n",
    "# wijzig directory\n",
    "os.chdir(Path.home())\n",
    "print(\"huidige directory: \", os.getcwd())\n",
    "\n",
    "for folderName, subfolders, filenames in os.walk(Path.cwd().parent):\n",
    "    print(folderName)\n",
    "\n",
    "    for subfolder in subfolders:\n",
    "        print(subfolder)\n",
    "    \n",
    "    for filename in filenames:\n",
    "        print(filename)\n"
   ]
  },
  {
   "attachments": {},
   "cell_type": "markdown",
   "metadata": {},
   "source": [
    "### files doorlopen & oplijsten"
   ]
  },
  {
   "cell_type": "code",
   "execution_count": null,
   "metadata": {},
   "outputs": [],
   "source": [
    "import os\n",
    "from pathlib import Path\n",
    "\n",
    "path = Path.cwd() / \"Onedrive\"\n",
    "print(path)\n",
    "\n",
    "for file in path.glob(\"*.txt\"):\n",
    "    print(file)\n",
    "\n",
    "for file in path.glob(\"*[0-9]*\"):\n",
    "    print(file)\n",
    "\n",
    "for file in path.glob(\"*.jpg\"):\n",
    "    print(file)"
   ]
  },
  {
   "attachments": {},
   "cell_type": "markdown",
   "metadata": {},
   "source": [
    "## Files lezen & maken\n",
    "\n",
    "belangrijk om file na bewerken of lezen altijd te sluiten!"
   ]
  },
  {
   "cell_type": "code",
   "execution_count": null,
   "metadata": {},
   "outputs": [],
   "source": [
    "import os\n",
    "\n",
    "os.chdir(r\"<path naam>\")\n",
    "\n",
    "file = open(\"test.txt\", \"w\")\n",
    "file.write(\"blabla\")\n",
    "file.write(\"nog iets\")\n",
    "file.close()\n",
    "\n",
    "file = open(\"test.txt\", \"r\")\n",
    "print(file.read())\n",
    "file.close()\n",
    "\n",
    "file = open(\"test.txt\",\"a\")\n",
    "file.write(\"\\n\\nnog een lijn\")\n",
    "file.close()\n"
   ]
  },
  {
   "attachments": {},
   "cell_type": "markdown",
   "metadata": {},
   "source": [
    "### Oefening e-mails\n",
    "\n",
    "validatie functie werkt zeker niet voor raardere e-mailadressen!"
   ]
  },
  {
   "cell_type": "code",
   "execution_count": null,
   "metadata": {},
   "outputs": [],
   "source": [
    "file = open(\"e-mail.txt\",\"r\")\n",
    "\n",
    "for line in file.readlines():\n",
    "    parts = line.split(\";\")\n",
    "    print(parts[0], validate_email(parts[0]), parts[1])"
   ]
  },
  {
   "attachments": {},
   "cell_type": "markdown",
   "metadata": {},
   "source": [
    "## Files organiseren\n",
    "\n",
    "Let op met delete!! Gebruik module send2trash om files 'veilig' te verwijderen en niet de prullenbak te laten overslaan!"
   ]
  },
  {
   "cell_type": "code",
   "execution_count": null,
   "metadata": {},
   "outputs": [],
   "source": [
    "import os, shutil\n",
    "\n",
    "print(os.getcwd())\n",
    "\n",
    "if not Path(\"folder\").exists():\n",
    "    os.mkdir(\"folder\")\n",
    "else:\n",
    "    print(\"folder bestaat al!\")\n",
    "\n",
    "shutil.copy(\"test.txt\",\"folder\")\n",
    "\n",
    "os.remove(\"test.txt\") # let hiermee op!!!!"
   ]
  },
  {
   "cell_type": "code",
   "execution_count": null,
   "metadata": {},
   "outputs": [],
   "source": [
    "! pip install send2trash\n",
    "\n",
    "file = open(\"testfile.txt\",\"w\")\n",
    "file.write(\"blabla\")\n",
    "file.close()\n",
    "\n",
    "import send2trash\n",
    "\n",
    "send2trash.send2trash(\"testfile.txt\")"
   ]
  },
  {
   "attachments": {},
   "cell_type": "markdown",
   "metadata": {},
   "source": [
    "## Zippen van files"
   ]
  },
  {
   "cell_type": "code",
   "execution_count": null,
   "metadata": {},
   "outputs": [],
   "source": [
    "import zipfile\n",
    "\n",
    "file = zipfile.ZipFile(\"zipbestand.zip\",\"w\")\n",
    "file.write(\"e-mail.txt\")\n",
    "file.write(\"countries.csv\")\n",
    "file.close()\n"
   ]
  },
  {
   "cell_type": "code",
   "execution_count": null,
   "metadata": {},
   "outputs": [],
   "source": [
    "import zipfile\n",
    "from pathlib import Path\n",
    "\n",
    "file = zipfile.ZipFile(Path(\"zipbestand2.zip\"))\n",
    "file.extractall()\n",
    "file.close()"
   ]
  },
  {
   "attachments": {},
   "cell_type": "markdown",
   "metadata": {},
   "source": [
    "## Oefening countries\n",
    "\n",
    "Read the \"countries.csv\" file and...\n",
    "- extract information for a specific country. Print out the information.\n",
    "- find the country with the largest area. Print out the name of the country and its area.\n",
    "- and find all the countries in a specific area. Print out the names of the countries."
   ]
  }
 ],
 "metadata": {
  "kernelspec": {
   "display_name": "Python 3",
   "language": "python",
   "name": "python3"
  },
  "language_info": {
   "codemirror_mode": {
    "name": "ipython",
    "version": 3
   },
   "file_extension": ".py",
   "mimetype": "text/x-python",
   "name": "python",
   "nbconvert_exporter": "python",
   "pygments_lexer": "ipython3",
   "version": "3.7.4"
  },
  "orig_nbformat": 4
 },
 "nbformat": 4,
 "nbformat_minor": 2
}
