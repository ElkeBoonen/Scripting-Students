{
 "cells": [
  {
   "attachments": {},
   "cell_type": "markdown",
   "metadata": {},
   "source": [
    "# Lesson 5 - Files - 24/03\n",
    "\n",
    "- files & folders\n",
    "- creating files & folders\n",
    "- reading & writing files\n",
    "- (de)compressing files\n",
    "- reading csv-files\n",
    "- etc...\n",
    "\n",
    "## Recap - email adress\n",
    "Write a Python function called validate_email that takes an email address as input and returns a boolean indicating whether or not the email is valid. \n",
    "- The email address must contain an \"@\" symbol.\n",
    "- The part before the \"@\" symbol must be at least one character long and can only contain letters, numbers, dots, hyphens, and underscores.\n",
    "- The part after the \"@\" symbol must be at least two characters long and can only contain letters, dots, and hyphens.\n",
    "- The email address must not end with a dot.\n"
   ]
  },
  {
   "cell_type": "code",
   "execution_count": null,
   "metadata": {
    "vscode": {
     "languageId": "plaintext"
    }
   },
   "outputs": [],
   "source": []
  }
 ],
 "metadata": {
  "language_info": {
   "name": "python"
  },
  "orig_nbformat": 4
 },
 "nbformat": 4,
 "nbformat_minor": 2
}
