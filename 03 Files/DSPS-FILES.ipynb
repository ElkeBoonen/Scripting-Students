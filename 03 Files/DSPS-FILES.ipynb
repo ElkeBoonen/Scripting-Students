{
 "cells": [
  {
   "attachments": {},
   "cell_type": "markdown",
   "metadata": {},
   "source": [
    "# Lesson 5 - Files - 24/03\n",
    "\n",
    "- files & folders\n",
    "- creating files & folders\n",
    "- reading & writing files\n",
    "- (de)compressing files\n",
    "- reading csv-files\n",
    "- etc...\n",
    "\n",
    "## Recap - email adress\n",
    "\n",
    "Use https://regexr.com/ to check your regex!\n",
    "<img src=\"screenshot.png\">\n",
    "\n",
    "Write a Python function called validate_email that takes an email address as input and returns a boolean indicating whether or not the email is valid. \n",
    "- The email address must contain an \"@\" symbol.\n",
    "- The part before the \"@\" symbol must be at least one character long and can only contain letters, numbers, dots, hyphens, and underscores.\n",
    "- The part after the \"@\" symbol must be at least two characters long and can only contain letters, dots, and hyphens.\n",
    "- The email address must not end with a dot.\n"
   ]
  },
  {
   "cell_type": "code",
   "execution_count": null,
   "metadata": {},
   "outputs": [],
   "source": [
    "import re\n",
    "\n",
    "def validate_email(email):\n",
    "    if \"@\" not in email:\n",
    "        return False\n",
    "    \n",
    "    parts = email.split(\"@\")\n",
    "    if len(parts) != 2:\n",
    "        return False\n",
    "    \n",
    "    regex = r\"^[a-zA-Z0-9\\.\\-_]+$\" # ^ beginning of string, $ ending of string \n",
    "    if re.match(regex, parts[0]) is None:\n",
    "        return False\n",
    "    \n",
    "    regex = r\"[a-zA-Z\\.\\-]{2,}\"\n",
    "    if re.match(regex, parts[1]) is None:\n",
    "        return False\n",
    "    \n",
    "    if email[-1] == \".\":\n",
    "        return False\n",
    "    \n",
    "    return True\n",
    "\n",
    "print(validate_email(\"elke.boonen@thomasmore.be\"))\n",
    "print(validate_email(\"elke.boonen@thomasmore.be.\"))\n",
    "print(validate_email(\"elke.boonen@thomas@more.be\"))\n",
    "print(validate_email(\"elke boonen@thomasmore.be\"))\n",
    "print(validate_email(\"elke123@thomasmore.be\"))  \n"
   ]
  },
  {
   "attachments": {},
   "cell_type": "markdown",
   "metadata": {},
   "source": [
    "## Files & folders: os & pathlib"
   ]
  },
  {
   "cell_type": "code",
   "execution_count": null,
   "metadata": {},
   "outputs": [],
   "source": [
    "import os\n",
    "import pathlib\n",
    "\n",
    "print(os.getcwd())          # returns a string\n",
    "print(pathlib.Path.cwd())   # returns an object\n",
    "\n",
    "calc = pathlib.Path(\"C:\\Windows\\System32\\calc.exe\")\n",
    "print(calc.name)\n",
    "print(calc.is_fifo)\n",
    "print(calc.exists)\n",
    "print(calc.suffix)\n",
    "\n",
    "path_to_email_txt = os.getcwd() + \"\\e-mail.txt\"\n",
    "print(path_to_email_txt)\n",
    "\n",
    "# working with different parts in your path --> work with a /\n",
    "path_to_email_txt = pathlib.Path.cwd() / \"e-mail.txt\"\n",
    "print(path_to_email_txt)\n"
   ]
  },
  {
   "attachments": {},
   "cell_type": "markdown",
   "metadata": {},
   "source": [
    "### Walk in the directory"
   ]
  },
  {
   "cell_type": "code",
   "execution_count": null,
   "metadata": {},
   "outputs": [],
   "source": [
    "import os\n",
    "from pathlib import Path\n",
    "\n",
    "path_ = r\"C:\\Users\\elkeb\\OneDrive - Thomas More\\GitHub\\Scripting-Students\"\n",
    "# os.chdir(Path.home())\n",
    "\n",
    "for folderName, subfolders, filenames in os.walk(path_):\n",
    "    print('The current folder is ' + folderName)\n",
    "\n",
    "    for subfolder in subfolders:\n",
    "        print('SUBFOLDER OF ' + folderName + ': ' + subfolder)\n",
    "    for filename in filenames:\n",
    "        print('FILE INSIDE ' + folderName + ': '+ filename)\n",
    "    print(\"----------\")"
   ]
  },
  {
   "cell_type": "code",
   "execution_count": null,
   "metadata": {},
   "outputs": [],
   "source": [
    "from pathlib import Path\n",
    "\n",
    "path_string = r\"C:\\Users\\elkeb\\OneDrive - Thomas More\\GitHub\\Scripting-Students\\03 Files\"\n",
    "path_object = Path(path_string)\n",
    "\n",
    "for file in path_object.glob(\"*.txt\"):\n",
    "    print(file)\n"
   ]
  },
  {
   "attachments": {},
   "cell_type": "markdown",
   "metadata": {},
   "source": [
    "## Write to a file"
   ]
  },
  {
   "cell_type": "code",
   "execution_count": null,
   "metadata": {},
   "outputs": [],
   "source": [
    "import os\n",
    "print(os.getcwd())\n",
    "os.chdir(r\"C:\\Users\\elkeb\\OneDrive - Thomas More\\GitHub\\Scripting-Students\\03 Files\")\n",
    "print(os.getcwd())\n",
    "\n",
    "file = open(\"test.txt\",\"w\") # (over)write!\n",
    "file.write(\"test\")\n",
    "file.write(\"\\n\")\n",
    "file.write(\"test\")\n",
    "file.close()\n",
    "\n",
    "file = open(\"test.txt\",\"a\") # append\n",
    "file.write(\"\\n\\nanother test\")\n",
    "file.close()"
   ]
  },
  {
   "attachments": {},
   "cell_type": "markdown",
   "metadata": {},
   "source": [
    "## Read from a file"
   ]
  },
  {
   "cell_type": "code",
   "execution_count": null,
   "metadata": {},
   "outputs": [],
   "source": [
    "file = open(\"test.txt\",\"r\")\n",
    "print(file.read())\n",
    "file.close()\n",
    "\n",
    "with open(\"test.txt\",\"r\") as file:\n",
    "    print(file.read())\n",
    "\n",
    "# encoding problems?\n",
    "file = open(\"test.txt\", \"r\", encoding=\"utf-7\")\n",
    "file.close()\n"
   ]
  },
  {
   "attachments": {},
   "cell_type": "markdown",
   "metadata": {},
   "source": [
    "### Reading e-mails from a file\n",
    "\n",
    "<a href=\"e-mail.txt\">E-mails.txt</a> \n",
    "\n",
    "Check the e-mails with the validate_email() function"
   ]
  },
  {
   "cell_type": "code",
   "execution_count": null,
   "metadata": {},
   "outputs": [],
   "source": [
    "with open(\"e-mail.txt\",\"r\") as file:\n",
    "    for line in file.readlines():\n",
    "        parts = line.split(\";\")\n",
    "        print(parts[0],validate_email(parts[0]), \" --> \", parts[1])"
   ]
  },
  {
   "attachments": {},
   "cell_type": "markdown",
   "metadata": {},
   "source": [
    "## Organizing files\n",
    "\n",
    "create dir, delete files, copy, move... \n",
    "\n",
    "work with the Send2Trash-package to safely delete files https://pypi.org/project/Send2Trash/ "
   ]
  },
  {
   "cell_type": "code",
   "execution_count": null,
   "metadata": {},
   "outputs": [],
   "source": [
    "import shutil, os\n",
    "\n",
    "if not Path(\"test\").exists:\n",
    "    os.mkdir(\"test\")\n",
    "\n",
    "shutil.copy('test.txt', \"test\")\n",
    "shutil.move(\"test/test.txt\", \"test/bacon_new.txt\")\n",
    "\n",
    "# shutil.rmtree(\"test\") # use a safe delete!!! --> send2trash"
   ]
  },
  {
   "cell_type": "code",
   "execution_count": null,
   "metadata": {},
   "outputs": [],
   "source": [
    "! pip install Send2Trash\n",
    "\n",
    "import send2trash\n",
    "\n",
    "file = open(\"testfile.txt\",\"w\")\n",
    "file.close()\n",
    "\n",
    "send2trash.send2trash(\"testfile.txt\")"
   ]
  },
  {
   "attachments": {},
   "cell_type": "markdown",
   "metadata": {},
   "source": [
    "## Work with zip-files \n",
    "\n",
    "Compress files into a zip-file & extract files from a zip-file \n",
    "\n",
    "Sidenote: to send really big file use https://wetransfer.com/"
   ]
  },
  {
   "cell_type": "code",
   "execution_count": 56,
   "metadata": {},
   "outputs": [],
   "source": [
    "import zipfile, os\n",
    "from pathlib import Path\n",
    "\n",
    "file = zipfile.ZipFile(\"zipfile.zip\",\"w\")\n",
    "file.write(\"e-mail.txt\")\n",
    "file.write(\"test.txt\")\n",
    "file.write(\"screenshot.png\")\n",
    "file.write(\"countries.csv\")\n",
    "file.close()\n",
    "\n",
    "file = zipfile.ZipFile(\"zipbestand2.zip\",\"r\")\n",
    "file.extractall()\n",
    "file.close()"
   ]
  },
  {
   "attachments": {},
   "cell_type": "markdown",
   "metadata": {},
   "source": [
    "## Work with csv-file: countries exercise\n",
    "\n",
    "Read the <a href=\"countries.csv\"> countries.csv</a> file and...\n",
    "- extract information for a specific country. Print out the information.\n",
    "- find the country with the largest area. Print out the name of the country and its area.\n",
    "- and find all the countries in a specific area. Print out the names of the countries.\n",
    "- ...\n"
   ]
  },
  {
   "cell_type": "code",
   "execution_count": null,
   "metadata": {},
   "outputs": [],
   "source": []
  }
 ],
 "metadata": {
  "kernelspec": {
   "display_name": "Python 3",
   "language": "python",
   "name": "python3"
  },
  "language_info": {
   "codemirror_mode": {
    "name": "ipython",
    "version": 3
   },
   "file_extension": ".py",
   "mimetype": "text/x-python",
   "name": "python",
   "nbconvert_exporter": "python",
   "pygments_lexer": "ipython3",
   "version": "3.7.4"
  },
  "orig_nbformat": 4
 },
 "nbformat": 4,
 "nbformat_minor": 2
}
