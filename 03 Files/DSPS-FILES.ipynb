{
 "cells": [
  {
   "attachments": {},
   "cell_type": "markdown",
   "metadata": {},
   "source": [
    "# Lesson 5 - Files - 24/03\n",
    "\n",
    "- files & folders\n",
    "- creating files & folders\n",
    "- reading & writing files\n",
    "- (de)compressing files\n",
    "- reading csv-files\n",
    "- etc...\n",
    "\n",
    "## Recap - email adress\n",
    "\n",
    "Use https://regexr.com/ to check your regex!\n",
    "<img src=\"screenshot.png\">\n",
    "\n",
    "Write a Python function called validate_email that takes an email address as input and returns a boolean indicating whether or not the email is valid. \n",
    "- The email address must contain an \"@\" symbol.\n",
    "- The part before the \"@\" symbol must be at least one character long and can only contain letters, numbers, dots, hyphens, and underscores.\n",
    "- The part after the \"@\" symbol must be at least two characters long and can only contain letters, dots, and hyphens.\n",
    "- The email address must not end with a dot.\n"
   ]
  },
  {
   "cell_type": "code",
   "execution_count": 7,
   "metadata": {},
   "outputs": [
    {
     "name": "stdout",
     "output_type": "stream",
     "text": [
      "<re.Match object; span=(0, 11), match='elke.boonen'>\n",
      "True\n",
      "<re.Match object; span=(0, 11), match='elke.boonen'>\n",
      "False\n",
      "False\n",
      "None\n",
      "False\n",
      "<re.Match object; span=(0, 7), match='elke123'>\n",
      "True\n"
     ]
    }
   ],
   "source": [
    "import re\n",
    "\n",
    "def validate_email(email):\n",
    "    if \"@\" not in email:\n",
    "        return False\n",
    "    \n",
    "    parts = email.split(\"@\")\n",
    "    if len(parts) != 2:\n",
    "        return False\n",
    "    \n",
    "    regex = r\"^[a-zA-Z0-9\\.\\-_]+$\" # ^ beginning of string, $ ending of string \n",
    "    if re.match(regex, parts[0]) is None:\n",
    "        return False\n",
    "    \n",
    "    regex = r\"[a-zA-Z\\.\\-]{2,}\"\n",
    "    if re.match(regex, parts[1]) is None:\n",
    "        return False\n",
    "    \n",
    "    if email[-1] == \".\":\n",
    "        return False\n",
    "    \n",
    "    return True\n",
    "\n",
    "print(validate_email(\"elke.boonen@thomasmore.be\"))\n",
    "print(validate_email(\"elke.boonen@thomasmore.be.\"))\n",
    "print(validate_email(\"elke.boonen@thomas@more.be\"))\n",
    "print(validate_email(\"elke boonen@thomasmore.be\"))\n",
    "print(validate_email(\"elke123@thomasmore.be\"))  \n"
   ]
  }
 ],
 "metadata": {
  "kernelspec": {
   "display_name": "Python 3",
   "language": "python",
   "name": "python3"
  },
  "language_info": {
   "codemirror_mode": {
    "name": "ipython",
    "version": 3
   },
   "file_extension": ".py",
   "mimetype": "text/x-python",
   "name": "python",
   "nbconvert_exporter": "python",
   "pygments_lexer": "ipython3",
   "version": "3.7.4"
  },
  "orig_nbformat": 4
 },
 "nbformat": 4,
 "nbformat_minor": 2
}
