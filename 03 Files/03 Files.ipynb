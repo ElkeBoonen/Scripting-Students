{
 "cells": [
  {
   "cell_type": "markdown",
   "metadata": {},
   "source": [
    "# Les 5: Files\n",
    "\n",
    "## Herhaling\n",
    "Write a Python function called validate_email that takes an email address as input and returns a boolean indicating whether or not the email is valid. The function should use string functions and regular expressions to perform the validation. The email is considered valid if it meets the following criteria:\n",
    "\n",
    "- The email address must contain an \"@\" symbol.\n",
    "- The part before the \"@\" symbol must be at least one character long and can only contain letters, numbers, dots, hyphens, and underscores.\n",
    "- The part after the \"@\" symbol must be at least two characters long and can only contain letters, dots, and hyphens.\n",
    "- The email address must not end with a dot."
   ]
  },
  {
   "cell_type": "code",
   "execution_count": null,
   "metadata": {},
   "outputs": [],
   "source": [
    "import re\n",
    "\n",
    "\n",
    "def search_email(email):\n",
    "    pattern = r\"[a-z0-9A-Z.-_]+@([a-z0-9A-Z.-]{2,}[^.]+$)\"\n",
    "    if re.search(pattern, email) is None:\n",
    "        return False\n",
    "    else:\n",
    "        return True\n",
    "\n",
    "print(search_email(\"janneke.boonen@thomasmore.be\"))\n",
    "print(search_email(\"janneke.boonen@thomasmore.be.\")) \n",
    "print(search_email(\"@thomasmore.be\")) \n",
    "print(search_email(\"a@th_omasmore.be\")) \n",
    "print(search_email(\"a@THOMASmore.be\"))"
   ]
  },
  {
   "cell_type": "markdown",
   "metadata": {},
   "source": [
    "## Folders"
   ]
  },
  {
   "cell_type": "code",
   "execution_count": null,
   "metadata": {},
   "outputs": [],
   "source": [
    "import os\n",
    "from pathlib import Path\n",
    "\n",
    "print(os.getcwd(), type(os.getcwd()))\n",
    "print(Path.cwd(), type(Path.cwd()))"
   ]
  },
  {
   "cell_type": "code",
   "execution_count": null,
   "metadata": {},
   "outputs": [],
   "source": [
    "calculator = Path(\"C:\\Windows/System32/calc.exe\")\n",
    "\n",
    "print(calculator.exists())\n",
    "print(calculator.is_file())\n",
    "print(calculator.is_dir())\n",
    "print(calculator.name)\n",
    "print(calculator.stem)\n",
    "print(calculator.suffix)"
   ]
  },
  {
   "cell_type": "code",
   "execution_count": null,
   "metadata": {},
   "outputs": [],
   "source": [
    "import os\n",
    "from pathlib import Path\n",
    "\n",
    "path = os.getcwd()\n",
    "print(path)\n",
    "\n",
    "os.chdir(r\"<PAD NAAR>GitHub\\Scripting-Students\")\n",
    "print(os.getcwd())\n",
    "\n",
    "for foldername, subfolder, filenames in os.walk(os.getcwd()):\n",
    "    # print(\"folder\", foldername)\n",
    "    for file in filenames:\n",
    "        if Path(file).suffix == \".ipynb\":\n",
    "            print(file)\n",
    "\n"
   ]
  },
  {
   "cell_type": "code",
   "execution_count": null,
   "metadata": {},
   "outputs": [],
   "source": [
    "import os\n",
    "from pathlib import Path\n",
    "\n",
    "os.chdir(r\"<PAD NAAR>\\GitHub\\Scripting-Students\\01 Python basics\")\n",
    "\n",
    "p = Path(os.getcwd())\n",
    "\n",
    "print(p)\n",
    "\n",
    "for file in p.glob(\"*.py\"):\n",
    "    print(file)"
   ]
  },
  {
   "cell_type": "markdown",
   "metadata": {},
   "source": [
    "## Files\n",
    "\n",
    "- w : maakt aan & overschijft (write)\n",
    "- a : vult aan (append)\n",
    "- r : leest (read)"
   ]
  },
  {
   "cell_type": "code",
   "execution_count": null,
   "metadata": {},
   "outputs": [],
   "source": [
    "os.chdir(r\"C:\\Users\\elkeb\\OneDrive - Thomas More\\GitHub\\Scripting-Students\\03 Files\")\n",
    "print(Path.cwd())"
   ]
  },
  {
   "cell_type": "code",
   "execution_count": null,
   "metadata": {},
   "outputs": [],
   "source": [
    "bestand = open(\"test.txt\",'w')\n",
    "bestand.write(\"Test test\")\n",
    "bestand.close()\n",
    "\n",
    "bestand = open(\"test.txt\",'a')\n",
    "bestand.write(\"blablabla\")\n",
    "bestand.close()\n",
    "\n",
    "bestand = open(\"test.txt\",'a')\n",
    "bestand.write(\"\\n\\nblablabla\")\n",
    "bestand.close()\n",
    "\n",
    "bestand = open(\"test.txt\",'r')\n",
    "print(bestand.read())\n",
    "bestand.close()"
   ]
  },
  {
   "cell_type": "code",
   "execution_count": null,
   "metadata": {},
   "outputs": [],
   "source": [
    "bestand = open(\"test-encoding.txt\", 'w', encoding=\"utf-8\")\n",
    "bestand.write(\"blabla\")\n",
    "bestand.close()"
   ]
  },
  {
   "cell_type": "code",
   "execution_count": null,
   "metadata": {},
   "outputs": [],
   "source": [
    "bestand = open(\"sample_text_file.txt\",'r', encoding=\"utf-8\")\n"
   ]
  },
  {
   "cell_type": "markdown",
   "metadata": {},
   "source": [
    "### Oefening e-mails"
   ]
  },
  {
   "cell_type": "code",
   "execution_count": null,
   "metadata": {},
   "outputs": [],
   "source": [
    "for line in open(\"e-mail.txt\",'r').readlines():\n",
    "    parts = line.split(\";\")\n",
    "    print(parts[0])\n",
    "    print(parts[1])\n",
    "\n",
    "    if search_email(parts[0] == parts[1]):\n",
    "        print(\"Functie doet hetzelfde!\")\n",
    "    else:\n",
    "        print(\"Oepsie\")\n"
   ]
  },
  {
   "cell_type": "markdown",
   "metadata": {},
   "source": [
    "## Vanalles doen"
   ]
  },
  {
   "cell_type": "code",
   "execution_count": null,
   "metadata": {},
   "outputs": [],
   "source": [
    "import shutil\n",
    "\n",
    "if not Path(\"Nieuwe folder\").exists:\n",
    "    os.mkdir(\"Nieuwe folder\")\n",
    "\n",
    "if not Path(\"Nieuwe_folder\").exists:\n",
    "    os.mkdir(\"Nieuwe_folder\")\n",
    "\n",
    "shutil.move(\"test.txt\",\"Nieuwe_folder\")"
   ]
  },
  {
   "cell_type": "code",
   "execution_count": null,
   "metadata": {},
   "outputs": [],
   "source": [
    "import shutil\n",
    "\n",
    "if Path(\"Nieuwe folder\").exists:\n",
    "    shutil.rmtree(\"Nieuwe folder\")"
   ]
  },
  {
   "cell_type": "code",
   "execution_count": null,
   "metadata": {},
   "outputs": [],
   "source": [
    "import zipfile\n",
    "\n",
    "zipbestand = zipfile.ZipFile(\"zip-bestand.zip\",'w')\n",
    "zipbestand.write(\"e-mail.txt\")\n",
    "zipbestand.close()\n",
    "\n"
   ]
  },
  {
   "cell_type": "code",
   "execution_count": null,
   "metadata": {},
   "outputs": [],
   "source": [
    "zipbestand = zipfile.ZipFile(Path(\"zip-bestand.zip\"))\n",
    "zipbestand.extractall()\n",
    "zipbestand.close()"
   ]
  },
  {
   "cell_type": "markdown",
   "metadata": {},
   "source": [
    "## Oefening\n",
    "\n",
    "Read the \"countries.csv\" file and...\n",
    "\n",
    "- extract information for a specific country. Print out the information.\n",
    "- find the country with the largest area. Print out the name of the country and its area.\n",
    "- and find all the countries in a specific area. Print out the names of the countries.\n",
    "...\n",
    "\n",
    "Werken met gewone file, csv en pandas\n",
    "\n",
    "https://docs.python.org/3/library/csv.html\n",
    "https://pandas.pydata.org/ \n",
    "\n"
   ]
  },
  {
   "cell_type": "code",
   "execution_count": 109,
   "metadata": {},
   "outputs": [
    {
     "name": "stdout",
     "output_type": "stream",
     "text": [
      "     Country                               Region  Population  Area (sq. mi.)  \\\n",
      "19  Belgium   WESTERN EUROPE                         10379067           30528   \n",
      "\n",
      "   Pop. Density (per sq. mi.) Coastline (coast/area ratio) Net migration  \\\n",
      "19                      340,0                         0,22          1,23   \n",
      "\n",
      "   Infant mortality (per 1000 births)  GDP ($ per capita) Literacy (%)  \\\n",
      "19                               4,68             29100.0         98,0   \n",
      "\n",
      "   Phones (per 1000) Arable (%) Crops (%) Other (%) Climate Birthrate  \\\n",
      "19             462,6      23,28       0,4     76,32       3     10,38   \n",
      "\n",
      "   Deathrate Agriculture Industry Service  \n",
      "19     10,27        0,01     0,24   0,749  \n"
     ]
    }
   ],
   "source": [
    "# informatie Belgium\n",
    "import pandas as pd\n",
    "\n",
    "countries = pd.read_csv(\"countries.csv\",sep=\",\")\n",
    "print(countries[countries[\"Country\"]==\"Belgium \"])\n"
   ]
  },
  {
   "cell_type": "code",
   "execution_count": 110,
   "metadata": {},
   "outputs": [
    {
     "name": "stdout",
     "output_type": "stream",
     "text": [
      "\"Belgium \",\"WESTERN EUROPE                     \",10379067,30528,\"340,0\",\"0,22\",\"1,23\",\"4,68\",29100,\"98,0\",\"462,6\",\"23,28\",\"0,4\",\"76,32\",3,\"10,38\",\"10,27\",\"0,01\",\"0,24\",\"0,749\"\n",
      "\n"
     ]
    }
   ],
   "source": [
    "countries = open(\"countries.csv\",'r')\n",
    "\n",
    "for line in countries.readlines():\n",
    "    if \"Belgium\" in line:\n",
    "        print(line)"
   ]
  },
  {
   "cell_type": "code",
   "execution_count": 118,
   "metadata": {},
   "outputs": [
    {
     "name": "stdout",
     "output_type": "stream",
     "text": [
      "['Belgium ', 'WESTERN EUROPE                     ', '10379067', '30528', '340,0', '0,22', '1,23', '4,68', '29100', '98,0', '462,6', '23,28', '0,4', '76,32', '3', '10,38', '10,27', '0,01', '0,24', '0,749']\n",
      "['Belgium ', 'WESTERN EUROPE                     ', '10379067', '30528', '340,0', '0,22', '1,23', '4,68', '29100', '98,0', '462,6', '23,28', '0,4', '76,32', '3', '10,38', '10,27', '0,01', '0,24', '0,749']\n",
      "['Belgium ', 'WESTERN EUROPE                     ', '10379067', '30528', '340,0', '0,22', '1,23', '4,68', '29100', '98,0', '462,6', '23,28', '0,4', '76,32', '3', '10,38', '10,27', '0,01', '0,24', '0,749']\n"
     ]
    }
   ],
   "source": [
    "import csv\n",
    "\n",
    "file = open(\"countries.csv\")\n",
    "csv = csv.reader(file)\n",
    "\n",
    "for row in csv:\n",
    "    if \"Belgium\" == row[0].strip():\n",
    "        print(row) \n",
    "\n",
    "    if \"Belgium \" in row:\n",
    "        print(row) \n",
    "\n",
    "    for element in row:\n",
    "        if 'Belgium' in element:\n",
    "            print(row)"
   ]
  }
 ],
 "metadata": {
  "kernelspec": {
   "display_name": "Python 3",
   "language": "python",
   "name": "python3"
  },
  "language_info": {
   "codemirror_mode": {
    "name": "ipython",
    "version": 3
   },
   "file_extension": ".py",
   "mimetype": "text/x-python",
   "name": "python",
   "nbconvert_exporter": "python",
   "pygments_lexer": "ipython3",
   "version": "3.7.4"
  }
 },
 "nbformat": 4,
 "nbformat_minor": 2
}
