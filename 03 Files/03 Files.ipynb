{
 "cells": [
  {
   "cell_type": "markdown",
   "metadata": {},
   "source": [
    "# Les 5: Files\n",
    "\n",
    "## Herhaling\n",
    "Write a Python function called validate_email that takes an email address as input and returns a boolean indicating whether or not the email is valid. The function should use string functions and regular expressions to perform the validation. The email is considered valid if it meets the following criteria:\n",
    "\n",
    "- The email address must contain an \"@\" symbol.\n",
    "- The part before the \"@\" symbol must be at least one character long and can only contain letters, numbers, dots, hyphens, and underscores.\n",
    "- The part after the \"@\" symbol must be at least two characters long and can only contain letters, dots, and hyphens.\n",
    "- The email address must not end with a dot."
   ]
  },
  {
   "cell_type": "code",
   "execution_count": null,
   "metadata": {},
   "outputs": [],
   "source": [
    "import re\n",
    "\n",
    "\n",
    "def search_email(email):\n",
    "    pattern = r\"[a-z0-9A-Z.-_]+@([a-z0-9A-Z.-]{2,}[^.]+$)\"\n",
    "    if re.search(pattern, email) is None:\n",
    "        return False\n",
    "    else:\n",
    "        return True\n",
    "\n",
    "print(search_email(\"janneke.boonen@thomasmore.be\"))\n",
    "print(search_email(\"janneke.boonen@thomasmore.be.\")) \n",
    "print(search_email(\"@thomasmore.be\")) \n",
    "print(search_email(\"a@th_omasmore.be\")) \n",
    "print(search_email(\"a@THOMASmore.be\"))"
   ]
  },
  {
   "cell_type": "markdown",
   "metadata": {},
   "source": [
    "## Folders"
   ]
  },
  {
   "cell_type": "code",
   "execution_count": null,
   "metadata": {},
   "outputs": [],
   "source": [
    "import os\n",
    "from pathlib import Path\n",
    "\n",
    "print(os.getcwd(), type(os.getcwd()))\n",
    "print(Path.cwd(), type(Path.cwd()))"
   ]
  },
  {
   "cell_type": "code",
   "execution_count": null,
   "metadata": {},
   "outputs": [],
   "source": [
    "calculator = Path(\"C:\\Windows/System32/calc.exe\")\n",
    "\n",
    "print(calculator.exists())\n",
    "print(calculator.is_file())\n",
    "print(calculator.is_dir())\n",
    "print(calculator.name)\n",
    "print(calculator.stem)\n",
    "print(calculator.suffix)"
   ]
  },
  {
   "cell_type": "code",
   "execution_count": null,
   "metadata": {},
   "outputs": [],
   "source": [
    "import os\n",
    "from pathlib import Path\n",
    "\n",
    "path = os.getcwd()\n",
    "print(path)\n",
    "\n",
    "os.chdir(r\"<PAD NAAR>GitHub\\Scripting-Students\")\n",
    "print(os.getcwd())\n",
    "\n",
    "for foldername, subfolder, filenames in os.walk(os.getcwd()):\n",
    "    # print(\"folder\", foldername)\n",
    "    for file in filenames:\n",
    "        if Path(file).suffix == \".ipynb\":\n",
    "            print(file)\n",
    "\n"
   ]
  },
  {
   "cell_type": "code",
   "execution_count": null,
   "metadata": {},
   "outputs": [],
   "source": [
    "import os\n",
    "from pathlib import Path\n",
    "\n",
    "os.chdir(r\"<PAD NAAR>\\GitHub\\Scripting-Students\\01 Python basics\")\n",
    "\n",
    "p = Path(os.getcwd())\n",
    "\n",
    "print(p)\n",
    "\n",
    "for file in p.glob(\"*.py\"):\n",
    "    print(file)"
   ]
  },
  {
   "cell_type": "markdown",
   "metadata": {},
   "source": [
    "## Files\n",
    "\n",
    "- w : maakt aan & overschijft (write)\n",
    "- a : vult aan (append)\n",
    "- r : leest (read)"
   ]
  },
  {
   "cell_type": "code",
   "execution_count": null,
   "metadata": {},
   "outputs": [],
   "source": [
    "os.chdir(r\"C:\\Users\\elkeb\\OneDrive - Thomas More\\GitHub\\Scripting-Students\\03 Files\")\n",
    "print(Path.cwd())"
   ]
  },
  {
   "cell_type": "code",
   "execution_count": null,
   "metadata": {},
   "outputs": [],
   "source": [
    "bestand = open(\"test.txt\",'w')\n",
    "bestand.write(\"Test test\")\n",
    "bestand.close()\n",
    "\n",
    "bestand = open(\"test.txt\",'a')\n",
    "bestand.write(\"blablabla\")\n",
    "bestand.close()\n",
    "\n",
    "bestand = open(\"test.txt\",'a')\n",
    "bestand.write(\"\\n\\nblablabla\")\n",
    "bestand.close()\n",
    "\n",
    "bestand = open(\"test.txt\",'r')\n",
    "print(bestand.read())\n",
    "bestand.close()"
   ]
  },
  {
   "cell_type": "code",
   "execution_count": null,
   "metadata": {},
   "outputs": [],
   "source": [
    "bestand = open(\"test-encoding.txt\", 'w', encoding=\"utf-8\")\n",
    "bestand.write(\"blabla\")\n",
    "bestand.close()"
   ]
  },
  {
   "cell_type": "code",
   "execution_count": null,
   "metadata": {},
   "outputs": [],
   "source": [
    "bestand = open(\"sample_text_file.txt\",'r', encoding=\"utf-8\")\n"
   ]
  },
  {
   "cell_type": "markdown",
   "metadata": {},
   "source": [
    "### Oefening e-mails"
   ]
  },
  {
   "cell_type": "code",
   "execution_count": null,
   "metadata": {},
   "outputs": [],
   "source": [
    "for line in open(\"e-mail.txt\",'r').readlines():\n",
    "    parts = line.split(\";\")\n",
    "    print(parts[0])\n",
    "    print(parts[1])\n",
    "\n",
    "    if search_email(parts[0] == parts[1]):\n",
    "        print(\"Functie doet hetzelfde!\")\n",
    "    else:\n",
    "        print(\"Oepsie\")\n"
   ]
  },
  {
   "cell_type": "markdown",
   "metadata": {},
   "source": [
    "## Vanalles doen"
   ]
  },
  {
   "cell_type": "code",
   "execution_count": 98,
   "metadata": {},
   "outputs": [
    {
     "data": {
      "text/plain": [
       "'Nieuwe_folder\\\\test.txt'"
      ]
     },
     "execution_count": 98,
     "metadata": {},
     "output_type": "execute_result"
    }
   ],
   "source": [
    "import shutil\n",
    "\n",
    "if not Path(\"Nieuwe folder\").exists:\n",
    "    os.mkdir(\"Nieuwe folder\")\n",
    "\n",
    "if not Path(\"Nieuwe_folder\").exists:\n",
    "    os.mkdir(\"Nieuwe_folder\")\n",
    "\n",
    "shutil.move(\"test.txt\",\"Nieuwe_folder\")"
   ]
  },
  {
   "cell_type": "code",
   "execution_count": null,
   "metadata": {},
   "outputs": [],
   "source": [
    "import shutil\n",
    "\n",
    "if Path(\"Nieuwe folder\").exists:\n",
    "    shutil.rmtree(\"Nieuwe folder\")"
   ]
  },
  {
   "cell_type": "code",
   "execution_count": 100,
   "metadata": {},
   "outputs": [
    {
     "ename": "TypeError",
     "evalue": "read() missing 1 required positional argument: 'name'",
     "output_type": "error",
     "traceback": [
      "\u001b[1;31m---------------------------------------------------------------------------\u001b[0m",
      "\u001b[1;31mTypeError\u001b[0m                                 Traceback (most recent call last)",
      "\u001b[1;32m~\\AppData\\Local\\Temp\\ipykernel_2152\\2691877784.py\u001b[0m in \u001b[0;36m<module>\u001b[1;34m\u001b[0m\n\u001b[0;32m      6\u001b[0m \u001b[1;33m\u001b[0m\u001b[0m\n\u001b[0;32m      7\u001b[0m \u001b[0mzipbestand\u001b[0m \u001b[1;33m=\u001b[0m \u001b[0mzipfile\u001b[0m\u001b[1;33m.\u001b[0m\u001b[0mZipFile\u001b[0m\u001b[1;33m(\u001b[0m\u001b[1;34m\"zip-bestand.zip\"\u001b[0m\u001b[1;33m,\u001b[0m\u001b[1;34m'r'\u001b[0m\u001b[1;33m)\u001b[0m\u001b[1;33m\u001b[0m\u001b[1;33m\u001b[0m\u001b[0m\n\u001b[1;32m----> 8\u001b[1;33m \u001b[0mzipbestand\u001b[0m\u001b[1;33m.\u001b[0m\u001b[0mread\u001b[0m\u001b[1;33m(\u001b[0m\u001b[1;33m)\u001b[0m\u001b[1;33m\u001b[0m\u001b[1;33m\u001b[0m\u001b[0m\n\u001b[0m\u001b[0;32m      9\u001b[0m \u001b[0mzipbestand\u001b[0m\u001b[1;33m.\u001b[0m\u001b[0mclose\u001b[0m\u001b[1;33m(\u001b[0m\u001b[1;33m)\u001b[0m\u001b[1;33m\u001b[0m\u001b[1;33m\u001b[0m\u001b[0m\n",
      "\u001b[1;31mTypeError\u001b[0m: read() missing 1 required positional argument: 'name'"
     ]
    }
   ],
   "source": [
    "import zipfile\n",
    "\n",
    "zipbestand = zipfile.ZipFile(\"zip-bestand.zip\",'w')\n",
    "zipbestand.write(\"e-mail.txt\")\n",
    "zipbestand.close()\n",
    "\n"
   ]
  },
  {
   "cell_type": "code",
   "execution_count": 102,
   "metadata": {},
   "outputs": [],
   "source": [
    "zipbestand = zipfile.ZipFile(Path(\"zip-bestand.zip\"))\n",
    "zipbestand.extractall()\n",
    "zipbestand.close()"
   ]
  },
  {
   "cell_type": "markdown",
   "metadata": {},
   "source": [
    "## Oefening\n",
    "\n",
    "Read the \"countries.csv\" file and...\n",
    "\n",
    "- extract information for a specific country. Print out the information.\n",
    "- find the country with the largest area. Print out the name of the country and its area.\n",
    "- and find all the countries in a specific area. Print out the names of the countries.\n",
    "..."
   ]
  }
 ],
 "metadata": {
  "kernelspec": {
   "display_name": "Python 3",
   "language": "python",
   "name": "python3"
  },
  "language_info": {
   "codemirror_mode": {
    "name": "ipython",
    "version": 3
   },
   "file_extension": ".py",
   "mimetype": "text/x-python",
   "name": "python",
   "nbconvert_exporter": "python",
   "pygments_lexer": "ipython3",
   "version": "3.7.4"
  }
 },
 "nbformat": 4,
 "nbformat_minor": 2
}
