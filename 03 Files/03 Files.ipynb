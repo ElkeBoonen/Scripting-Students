{
 "cells": [
  {
   "cell_type": "markdown",
   "metadata": {},
   "source": [
    "# Les 5: Files\n",
    "\n",
    "## Herhaling\n",
    "Write a Python function called validate_email that takes an email address as input and returns a boolean indicating whether or not the email is valid. The function should use string functions and regular expressions to perform the validation. The email is considered valid if it meets the following criteria:\n",
    "\n",
    "- The email address must contain an \"@\" symbol.\n",
    "- The part before the \"@\" symbol must be at least one character long and can only contain letters, numbers, dots, hyphens, and underscores.\n",
    "- The part after the \"@\" symbol must be at least two characters long and can only contain letters, dots, and hyphens.\n",
    "- The email address must not end with a dot."
   ]
  },
  {
   "cell_type": "code",
   "execution_count": null,
   "metadata": {},
   "outputs": [],
   "source": [
    "import re\n",
    "\n",
    "\n",
    "def search_email(email):\n",
    "    pattern = r\"[a-z0-9A-Z.-_]+@([a-z0-9A-Z.-]{2,}[^.]+$)\"\n",
    "    if re.search(pattern, email) is None:\n",
    "        return False\n",
    "    else:\n",
    "        return True\n",
    "\n",
    "print(search_email(\"janneke.boonen@thomasmore.be\"))\n",
    "print(search_email(\"janneke.boonen@thomasmore.be.\")) \n",
    "print(search_email(\"@thomasmore.be\")) \n",
    "print(search_email(\"a@th_omasmore.be\")) \n",
    "print(search_email(\"a@THOMASmore.be\"))"
   ]
  },
  {
   "cell_type": "markdown",
   "metadata": {},
   "source": [
    "## Folders"
   ]
  },
  {
   "cell_type": "code",
   "execution_count": null,
   "metadata": {},
   "outputs": [],
   "source": [
    "import os\n",
    "from pathlib import Path\n",
    "\n",
    "print(os.getcwd(), type(os.getcwd()))\n",
    "print(Path.cwd(), type(Path.cwd()))"
   ]
  },
  {
   "cell_type": "code",
   "execution_count": null,
   "metadata": {},
   "outputs": [],
   "source": [
    "calculator = Path(\"C:\\Windows/System32/calc.exe\")\n",
    "\n",
    "print(calculator.exists())\n",
    "print(calculator.is_file())\n",
    "print(calculator.is_dir())\n",
    "print(calculator.name)\n",
    "print(calculator.stem)\n",
    "print(calculator.suffix)"
   ]
  },
  {
   "cell_type": "code",
   "execution_count": null,
   "metadata": {},
   "outputs": [],
   "source": [
    "import os\n",
    "from pathlib import Path\n",
    "\n",
    "path = os.getcwd()\n",
    "print(path)\n",
    "\n",
    "os.chdir(r\"<PAD NAAR>GitHub\\Scripting-Students\")\n",
    "print(os.getcwd())\n",
    "\n",
    "for foldername, subfolder, filenames in os.walk(os.getcwd()):\n",
    "    # print(\"folder\", foldername)\n",
    "    for file in filenames:\n",
    "        if Path(file).suffix == \".ipynb\":\n",
    "            print(file)\n",
    "\n"
   ]
  },
  {
   "cell_type": "code",
   "execution_count": null,
   "metadata": {},
   "outputs": [],
   "source": [
    "import os\n",
    "from pathlib import Path\n",
    "\n",
    "os.chdir(r\"<PAD NAAR>\\GitHub\\Scripting-Students\\01 Python basics\")\n",
    "\n",
    "p = Path(os.getcwd())\n",
    "\n",
    "print(p)\n",
    "\n",
    "for file in p.glob(\"*.py\"):\n",
    "    print(file)"
   ]
  },
  {
   "cell_type": "markdown",
   "metadata": {},
   "source": [
    "## Files\n",
    "\n",
    "- w : maakt aan & overschijft (write)\n",
    "- a : vult aan (append)\n",
    "- r : leest (read)"
   ]
  },
  {
   "cell_type": "code",
   "execution_count": 66,
   "metadata": {},
   "outputs": [
    {
     "name": "stdout",
     "output_type": "stream",
     "text": [
      "C:\\Users\\elkeb\\OneDrive - Thomas More\\GitHub\\Scripting-Students\\03 Files\n"
     ]
    }
   ],
   "source": [
    "os.chdir(r\"C:\\Users\\elkeb\\OneDrive - Thomas More\\GitHub\\Scripting-Students\\03 Files\")\n",
    "print(Path.cwd())"
   ]
  },
  {
   "cell_type": "code",
   "execution_count": 72,
   "metadata": {},
   "outputs": [],
   "source": [
    "bestand = open(\"test.txt\",'w')\n",
    "bestand.write(\"Test test\")\n",
    "bestand.close()\n",
    "\n",
    "bestand = open(\"test.txt\",'a')\n",
    "bestand.write(\"blablabla\")\n",
    "bestand.close()\n",
    "\n",
    "bestand = open(\"test.txt\",'a')\n",
    "bestand.write(\"\\n\\nblablabla\")\n",
    "bestand.close()"
   ]
  }
 ],
 "metadata": {
  "kernelspec": {
   "display_name": "Python 3",
   "language": "python",
   "name": "python3"
  },
  "language_info": {
   "codemirror_mode": {
    "name": "ipython",
    "version": 3
   },
   "file_extension": ".py",
   "mimetype": "text/x-python",
   "name": "python",
   "nbconvert_exporter": "python",
   "pygments_lexer": "ipython3",
   "version": "3.7.4"
  }
 },
 "nbformat": 4,
 "nbformat_minor": 2
}
