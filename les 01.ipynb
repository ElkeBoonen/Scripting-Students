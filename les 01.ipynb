{
 "metadata": {
  "language_info": {
   "codemirror_mode": {
    "name": "ipython",
    "version": 3
   },
   "file_extension": ".py",
   "mimetype": "text/x-python",
   "name": "python",
   "nbconvert_exporter": "python",
   "pygments_lexer": "ipython3",
   "version": "3.7.4-final"
  },
  "orig_nbformat": 2,
  "kernelspec": {
   "name": "python3",
   "display_name": "Python 3",
   "language": "python"
  }
 },
 "nbformat": 4,
 "nbformat_minor": 2,
 "cells": [
  {
   "source": [
    "# Les 1\n",
    "<b>Dit is hello world</b>"
   ],
   "cell_type": "markdown",
   "metadata": {}
  },
  {
   "source": [
    "#hello world!\n",
    "print(\"hello world\")"
   ],
   "cell_type": "code",
   "metadata": {},
   "execution_count": 3,
   "outputs": [
    {
     "output_type": "stream",
     "name": "stdout",
     "text": [
      "hello world\n"
     ]
    }
   ]
  },
  {
   "source": [
    "## Variabelen"
   ],
   "cell_type": "markdown",
   "metadata": {}
  },
  {
   "source": [
    "var = input(\"Geef een getal in!\")\n",
    "print(type(var))"
   ],
   "cell_type": "code",
   "metadata": {},
   "execution_count": 5,
   "outputs": []
  }
 ]
}