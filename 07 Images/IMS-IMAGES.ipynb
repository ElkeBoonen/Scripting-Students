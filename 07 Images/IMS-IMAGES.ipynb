{
 "cells": [
  {
   "attachments": {},
   "cell_type": "markdown",
   "metadata": {},
   "source": [
    "# Images - les 9 - 24/04\n",
    "\n",
    "- Herhalingsoefening Chuck Norris\n",
    "- Computer images\n",
    "- Images manipuleren\n",
    "- Tekenen & schilderen ;)\n",
    "\n",
    "## Herhalingsoefening\n",
    "Are you ready to know why Chuck Norris has his own API? ;)\n",
    "\n",
    "Check out https://api.chucknorris.io/ and be prepared to feel the power!\n",
    "\n",
    "Using your best web scraping moves, download all of the pictures from Chuck Norris' Wikipedia page (https://en.wikipedia.org/wiki/Chuck_Norris) and get ready to LOL at a random Chuck Norris joke. Because when Chuck Norris is involved, you know it's gonna be a roundhouse-kicking good time!\n"
   ]
  },
  {
   "cell_type": "code",
   "execution_count": null,
   "metadata": {},
   "outputs": [],
   "source": [
    "import requests\n",
    "from bs4 import BeautifulSoup\n",
    "\n",
    "# API binnenhalen\n",
    "url =\"https://api.chucknorris.io/jokes/random\"\n",
    "response = requests.get(url)    # get-request\n",
    "print(response.json()[\"value\"]) # json key-value eruit halen!\n",
    "\n",
    "# scrape alle image-tags\n",
    "url = \"https://en.wikipedia.org/wiki/Chuck_Norris\"\n",
    "response = requests.get(url)\n",
    "soup = BeautifulSoup(response.text)\n",
    "img_tags = soup.find_all(\"img\")\n",
    "\n",
    "for img in img_tags:\n",
    "    src = img[\"src\"] # attribuut opvragen van tag gaat via [ ] --> key/value-pair\n",
    "    if src.endswith('.jpg'):\n",
    "        parts = src.split(\"/\")\n",
    "        with open(\"ChuckNorris/\"+parts[-1], \"wb\") as f:\n",
    "            response = requests.get(\"http:\"+src)\n",
    "            f.write(response.content)\n",
    "            print(\"downloaded\", parts[-1])\n"
   ]
  },
  {
   "attachments": {},
   "cell_type": "markdown",
   "metadata": {},
   "source": [
    "## Computer images\n",
    "\n",
    "Installeer package Pillow"
   ]
  },
  {
   "cell_type": "code",
   "execution_count": null,
   "metadata": {},
   "outputs": [],
   "source": [
    "! pip install Pillow"
   ]
  },
  {
   "cell_type": "code",
   "execution_count": null,
   "metadata": {},
   "outputs": [],
   "source": [
    "from PIL import ImageColor\n",
    "\n",
    "print(ImageColor.getcolor('red', 'RGBA'))\n",
    "print(ImageColor.getcolor('blue', 'RGBA'))\n",
    "print(ImageColor.getcolor('purple', 'RGBA'))"
   ]
  },
  {
   "attachments": {},
   "cell_type": "markdown",
   "metadata": {},
   "source": [
    "### Oefening\n",
    "\n",
    "Download the file colours.txt from canvas and create a csv-file in this format\n",
    "\n",
    "Color,R,G,B,A \n",
    "AliceBlue,240,248,255,255\n",
    "..."
   ]
  },
  {
   "cell_type": "code",
   "execution_count": null,
   "metadata": {},
   "outputs": [],
   "source": [
    "from PIL import ImageColor\n",
    "\n",
    "file = open(\"colours.txt\",\"r\",encoding=\"utf=8\")\n",
    "fileWrite = open(\"colors.csv\",\"w\",encoding=\"utf8\")\n",
    "for color in file:\n",
    "    color = color.replace(\"\\n\",\"\")\n",
    "    fileWrite.write(color +\";\")\n",
    "    # EXTRA CODE OM DE KLEUR ZELF TOE TE VOEGEN !!!\n",
    "fileWrite.close()\n",
    "file.close()"
   ]
  },
  {
   "cell_type": "code",
   "execution_count": null,
   "metadata": {},
   "outputs": [],
   "source": [
    "import csv\n",
    "from PIL import ImageColor\n",
    "\n",
    "with open('colours.txt', 'r') as infile:\n",
    "    with open('colors.csv', 'w', newline='') as outfile:\n",
    "        colors = infile.readlines()  \n",
    "        writer = csv.writer(outfile)  \n",
    "        writer.writerow([\"Color\", \"R\",\"G\",\"B\",\"A\"])\n",
    "        for color in colors:\n",
    "            color = color.strip().lower()\n",
    "            rgba = ImageColor.getcolor(color,\"RGBA\")\n",
    "            writer.writerow([color, rgba[0], rgba[1], rgba[2], rgba[3]])\n"
   ]
  },
  {
   "attachments": {},
   "cell_type": "markdown",
   "metadata": {},
   "source": [
    "## Images manipuleren\n",
    "\n",
    "Download een afbeelding van https://www.pexels.com/ \n",
    "\n",
    "Foto door Richard Segal: https://www.pexels.com/nl-nl/foto/zwart-witte-schildpad-1618606/\n",
    "\n",
    "<img src=\"schildpad.jpg\">"
   ]
  },
  {
   "cell_type": "code",
   "execution_count": null,
   "metadata": {},
   "outputs": [],
   "source": [
    "from PIL import Image\n",
    "\n",
    "img = Image.open(\"schildpad.jpg\")\n",
    "print(img)\n",
    "print(img.format_description)\n",
    "print(img.height)\n",
    "print(img.width)\n",
    "img.show()\n",
    "\n",
    "crop = img.crop((290,150,410,260))\n",
    "crop.save(\"cropped.jpg\")\n",
    "crop.show()\n",
    "\n",
    "new = Image.new('RGBA',(500,500),'pink')\n",
    "new.save(\"new_pink.png\")\n",
    "new.show()\n",
    "\n",
    "new.paste(crop)\n",
    "new.paste(crop,(200,200))\n",
    "new.save(\"new_pink_met_schildpad.png\")\n",
    "new.show()"
   ]
  },
  {
   "cell_type": "code",
   "execution_count": 6,
   "metadata": {},
   "outputs": [],
   "source": [
    "from PIL import Image\n",
    "\n",
    "crop = Image.open(\"cropped.jpg\")\n",
    "new = Image.new('RGBA',(crop.width*10,crop.height*10))\n",
    "white = Image.new('RGBA',(crop.width,crop.height),'white')\n",
    "\n",
    "for i in range(0,10):\n",
    "    for j in range(0,10):\n",
    "        if (i + j) % 2 == 0:\n",
    "            new.paste(crop,(i*crop.width,j*crop.height))\n",
    "\n",
    "\n",
    "\n",
    "new.save(\"schaakbord_schildpad.png\")\n",
    "new.show()"
   ]
  },
  {
   "cell_type": "code",
   "execution_count": null,
   "metadata": {},
   "outputs": [],
   "source": [
    "from PIL import Image\n",
    "\n",
    "half = Image.open(\"schildpad.jpg\")\n",
    "half = half.resize((int(half.width/2),int(half.height/2)))\n",
    "half.save(\"resize.jpg\")\n",
    "\n",
    "half.rotate(90).save(\"resize_rotate.jpg\")"
   ]
  },
  {
   "cell_type": "code",
   "execution_count": null,
   "metadata": {},
   "outputs": [],
   "source": [
    "from PIL import Image\n",
    "\n",
    "img = Image.open(\"schildpad.jpg\")\n",
    "\n",
    "new_rood = Image.new('RGBA',(img.width,img.height))\n",
    "new_zw = Image.new('RGBA',(img.width,img.height))\n",
    "\n",
    "\n",
    "for i in range(0,img.width):\n",
    "    for j in range(0,img.height):\n",
    "        pixel = img.getpixel((i,j))\n",
    "        # print(pixel)\n",
    "        new_rood.putpixel((i,j),(255,pixel[1], pixel[2]))\n",
    "\n",
    "        if pixel[0] < 128 and pixel[1] < 128 and pixel[2] < 128:\n",
    "            new_zw.putpixel((i,j),(255,255,255))\n",
    "        else:\n",
    "            new_zw.putpixel((i,j),(0,0,0))\n",
    "\n",
    "new_rood.save(\"schildpad_rood.png\")\n",
    "new_rood.show()\n",
    "\n",
    "new_zw.save(\"schildpad_zw.png\")\n",
    "new_zw.show()"
   ]
  },
  {
   "cell_type": "code",
   "execution_count": null,
   "metadata": {},
   "outputs": [],
   "source": [
    "from PIL import Image, ImageChops\n",
    "\n",
    "img = Image.open(\"schildpad.jpg\")\n",
    "img = ImageChops.invert(img)\n",
    "img.save(\"schildpad_invert.jpg\")\n",
    "img.show()"
   ]
  },
  {
   "attachments": {},
   "cell_type": "markdown",
   "metadata": {},
   "source": [
    "## Tekenen & schilderen"
   ]
  },
  {
   "cell_type": "code",
   "execution_count": null,
   "metadata": {},
   "outputs": [],
   "source": [
    "from PIL import Image, ImageDraw\n",
    "\n",
    "img = Image.new('RGBA', (200, 200), 'white')\n",
    "\n",
    "draw = ImageDraw.Draw(img)\n",
    "draw.line([(0, 0), (199, 0), (199, 199), (0, 199), (0, 0)], fill='black')\n",
    "draw.rectangle((20, 30, 60, 60), fill='pink')\n",
    "draw.ellipse((120, 30, 160, 60), fill='red')\n",
    "draw.polygon(((57, 87), (79, 62), (94, 85), (120, 90), (103, 113)), fill='brown')\n",
    "for i in range(100, 200, 10):\n",
    "    draw.line([(i, 0), (200, i - 100)], fill='green')\n",
    "\n",
    "img.save('drawing.png')\n",
    "img.show()"
   ]
  },
  {
   "cell_type": "code",
   "execution_count": null,
   "metadata": {},
   "outputs": [],
   "source": [
    "from PIL import Image, ImageDraw, ImageFont\n",
    "import os\n",
    "\n",
    "im = Image.new('RGBA', (200, 200), 'white')\n",
    "draw = ImageDraw.Draw(im)\n",
    "\n",
    "draw.text((20, 150), 'Hello', fill='purple')\n",
    "fontsFolder = 'FONT_FOLDER' # e.g. ‘/Library/Fonts'\n",
    "arialFont = ImageFont.truetype(os.path.join(fontsFolder, 'arial.ttf'), 32)\n",
    "draw.text((100, 150), 'Hello', fill='gray', font=arialFont)\n",
    "im.save('text.png')\n",
    "\n",
    "im.show()"
   ]
  },
  {
   "attachments": {},
   "cell_type": "markdown",
   "metadata": {},
   "source": [
    "### Oefening --> assignment CodeGrade\n",
    "\n",
    "Download all images from https://picsum.photos/ (use multithreading)\n",
    "Get random quotes from https://rapidapi.com/apininjas/api/quotes-by-api-ninjas/\n",
    "Place the quotes on the images!"
   ]
  }
 ],
 "metadata": {
  "kernelspec": {
   "display_name": "Python 3",
   "language": "python",
   "name": "python3"
  },
  "language_info": {
   "codemirror_mode": {
    "name": "ipython",
    "version": 3
   },
   "file_extension": ".py",
   "mimetype": "text/x-python",
   "name": "python",
   "nbconvert_exporter": "python",
   "pygments_lexer": "ipython3",
   "version": "3.7.4"
  },
  "orig_nbformat": 4
 },
 "nbformat": 4,
 "nbformat_minor": 2
}
