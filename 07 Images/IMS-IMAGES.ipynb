{
 "cells": [
  {
   "attachments": {},
   "cell_type": "markdown",
   "metadata": {},
   "source": [
    "# Images - les 9 - 24/04\n",
    "\n",
    "- Herhalingsoefening Chuck Norris\n",
    "- Computer images\n",
    "- Images manipuleren\n",
    "- Tekenen & schilderen ;)\n",
    "\n",
    "## Herhalingsoefening\n",
    "Are you ready to know why Chuck Norris has his own API? ;)\n",
    "\n",
    "Check out https://api.chucknorris.io/ and be prepared to feel the power!\n",
    "\n",
    "Using your best web scraping moves, download all of the pictures from Chuck Norris' Wikipedia page (https://en.wikipedia.org/wiki/Chuck_Norris) and get ready to LOL at a random Chuck Norris joke. Because when Chuck Norris is involved, you know it's gonna be a roundhouse-kicking good time!\n"
   ]
  },
  {
   "cell_type": "code",
   "execution_count": 20,
   "metadata": {},
   "outputs": [
    {
     "name": "stdout",
     "output_type": "stream",
     "text": [
      "Chuck Norris can conect parallel lines\n",
      "downloaded 220px-Chuck_Norris_May_2015.jpg\n",
      "downloaded 150px-Chuck_Norris_%281976%29.jpg\n",
      "downloaded 220px-Chuck_Norris%2C_The_Delta_Force_1986.jpg\n",
      "downloaded 220px-050624-N-5248R-002.jpg\n",
      "downloaded 220px-Chuck_Norris_in_Iraq_in_2006.jpg\n",
      "downloaded 220px-Chuck_Norris_May_2015.jpg\n",
      "downloaded 170px-Chuck_Norris_Hollywood_Star.jpg\n",
      "downloaded 170px-Chuck_Norris.jpg\n",
      "downloaded 220px-George_W._Bush_and_Chuck_Norris.jpg\n",
      "downloaded 150px-ChuckNorris-18FEB2016.jpg\n"
     ]
    }
   ],
   "source": [
    "import requests\n",
    "from bs4 import BeautifulSoup\n",
    "\n",
    "# API binnenhalen\n",
    "url =\"https://api.chucknorris.io/jokes/random\"\n",
    "response = requests.get(url)    # get-request\n",
    "print(response.json()[\"value\"]) # json key-value eruit halen!\n",
    "\n",
    "# scrape alle image-tags\n",
    "url = \"https://en.wikipedia.org/wiki/Chuck_Norris\"\n",
    "response = requests.get(url)\n",
    "soup = BeautifulSoup(response.text)\n",
    "img_tags = soup.find_all(\"img\")\n",
    "\n",
    "for img in img_tags:\n",
    "    src = img[\"src\"] # attribuut opvragen van tag gaat via [ ] --> key/value-pair\n",
    "    if src.endswith('.jpg'):\n",
    "        parts = src.split(\"/\")\n",
    "        with open(\"ChuckNorris/\"+parts[-1], \"wb\") as f:\n",
    "            response = requests.get(\"http:\"+src)\n",
    "            f.write(response.content)\n",
    "            print(\"downloaded\", parts[-1])\n"
   ]
  },
  {
   "attachments": {},
   "cell_type": "markdown",
   "metadata": {},
   "source": [
    "## Computer images\n",
    "\n",
    "Installeer package Pillow"
   ]
  },
  {
   "cell_type": "code",
   "execution_count": 21,
   "metadata": {},
   "outputs": [
    {
     "name": "stdout",
     "output_type": "stream",
     "text": [
      "Requirement already satisfied: Pillow in c:\\users\\elkeb\\appdata\\local\\programs\\python\\python37\\lib\\site-packages (9.2.0)\n"
     ]
    },
    {
     "name": "stderr",
     "output_type": "stream",
     "text": [
      "\n",
      "[notice] A new release of pip is available: 23.0.1 -> 23.1\n",
      "[notice] To update, run: python.exe -m pip install --upgrade pip\n"
     ]
    }
   ],
   "source": [
    "! pip install Pillow"
   ]
  },
  {
   "cell_type": "code",
   "execution_count": 24,
   "metadata": {},
   "outputs": [
    {
     "name": "stdout",
     "output_type": "stream",
     "text": [
      "(255, 0, 0, 255)\n",
      "(0, 0, 255, 255)\n",
      "(128, 0, 128, 255)\n"
     ]
    }
   ],
   "source": [
    "from PIL import ImageColor\n",
    "\n",
    "print(ImageColor.getcolor('red', 'RGBA'))\n",
    "print(ImageColor.getcolor('blue', 'RGBA'))\n",
    "print(ImageColor.getcolor('purple', 'RGBA'))"
   ]
  },
  {
   "attachments": {},
   "cell_type": "markdown",
   "metadata": {},
   "source": [
    "Download the file colours.txt from canvas and create a csv-file in this format\n",
    "\n",
    "Color,R,G,B,A \n",
    "AliceBlue,240,248,255,255\n",
    "..."
   ]
  },
  {
   "cell_type": "code",
   "execution_count": 26,
   "metadata": {},
   "outputs": [],
   "source": [
    "from PIL import ImageColor\n",
    "\n",
    "file = open(\"colours.txt\",\"r\",encoding=\"utf=8\")\n",
    "fileWrite = open(\"colors.csv\",\"w\",encoding=\"utf8\")\n",
    "for color in file:\n",
    "    color = color.replace(\"\\n\",\"\")\n",
    "    fileWrite.write(color +\";\")\n",
    "    # EXTRA CODE OM DE KLEUR ZELF TOE TE VOEGEN !!!\n",
    "fileWrite.close()\n",
    "file.close()"
   ]
  },
  {
   "cell_type": "code",
   "execution_count": 33,
   "metadata": {},
   "outputs": [],
   "source": [
    "import csv\n",
    "from PIL import ImageColor\n",
    "\n",
    "with open('colours.txt', 'r') as infile:\n",
    "    with open('colors.csv', 'w', newline='') as outfile:\n",
    "        colors = infile.readlines()  \n",
    "        writer = csv.writer(outfile)  \n",
    "        writer.writerow([\"Color\", \"R\",\"G\",\"B\",\"A\"])\n",
    "        for color in colors:\n",
    "            color = color.strip().lower()\n",
    "            rgba = ImageColor.getcolor(color,\"RGBA\")\n",
    "            writer.writerow([color, rgba[0], rgba[1], rgba[2], rgba[3]])\n"
   ]
  }
 ],
 "metadata": {
  "kernelspec": {
   "display_name": "Python 3",
   "language": "python",
   "name": "python3"
  },
  "language_info": {
   "codemirror_mode": {
    "name": "ipython",
    "version": 3
   },
   "file_extension": ".py",
   "mimetype": "text/x-python",
   "name": "python",
   "nbconvert_exporter": "python",
   "pygments_lexer": "ipython3",
   "version": "3.7.4"
  },
  "orig_nbformat": 4
 },
 "nbformat": 4,
 "nbformat_minor": 2
}
