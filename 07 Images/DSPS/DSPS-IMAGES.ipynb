{
 "cells": [
  {
   "attachments": {},
   "cell_type": "markdown",
   "metadata": {},
   "source": [
    "# Images - lesson 9 - 4/05\n",
    "\n",
    "## Recap assignment\n",
    "Are you ready to know why Chuck Norris has his own API? ;)\n",
    "\n",
    "Check out https://api.chucknorris.io/ and be prepared to feel the power!\n",
    "\n",
    "Using your best web scraping moves, download all of the pictures from Chuck Norris' Wikipedia page (https://en.wikipedia.org/wiki/Chuck_Norris) and get ready to LOL at a random Chuck Norris joke. Because when Chuck Norris is involved, you know it's gonna be a roundhouse-kicking good time!"
   ]
  },
  {
   "cell_type": "code",
   "execution_count": 17,
   "metadata": {},
   "outputs": [
    {
     "name": "stdout",
     "output_type": "stream",
     "text": [
      "Chuck Norris can inseminate millions of women, just by spanking his monkey!\n",
      "downloaded 220px-Chuck_Norris_May_2015.jpg\n",
      "downloaded 150px-Chuck_Norris_%281976%29.jpg\n",
      "downloaded 220px-Chuck_Norris%2C_The_Delta_Force_1986.jpg\n",
      "downloaded 220px-050624-N-5248R-002.jpg\n",
      "downloaded 220px-Chuck_Norris_in_Iraq_in_2006.jpg\n",
      "downloaded 220px-Chuck_Norris_May_2015.jpg\n",
      "downloaded 170px-Chuck_Norris_Hollywood_Star.jpg\n",
      "downloaded 170px-Chuck_Norris.jpg\n",
      "downloaded 220px-George_W._Bush_and_Chuck_Norris.jpg\n",
      "downloaded 150px-ChuckNorris-18FEB2016.jpg\n"
     ]
    }
   ],
   "source": [
    "import requests\n",
    "from bs4 import BeautifulSoup\n",
    "\n",
    "url = \"https://api.chucknorris.io/jokes/random\"\n",
    "response = requests.get(url)\n",
    "print(response.json()[\"value\"])\n",
    "\n",
    "url = \"https://en.wikipedia.org/wiki/Chuck_Norris\"\n",
    "response = requests.get(url)\n",
    "soup = BeautifulSoup(response.text)\n",
    "img_tags = soup.find_all(\"img\")\n",
    "\n",
    "for img in img_tags:\n",
    "    if img[\"src\"].endswith(\".jpg\"):\n",
    "        parts = img[\"src\"].split(\"/\")\n",
    "        with open(\"ChuckNorris/\"+parts[-1], \"wb\") as imagefile:\n",
    "            response = requests.get(\"http:\"+img[\"src\"])\n",
    "            imagefile.write(response.content)\n",
    "            print(\"downloaded\",parts[-1])\n",
    "\n"
   ]
  },
  {
   "attachments": {},
   "cell_type": "markdown",
   "metadata": {},
   "source": [
    "## Computer images\n",
    "\n",
    "Install Pillow-package"
   ]
  },
  {
   "cell_type": "code",
   "execution_count": 18,
   "metadata": {},
   "outputs": [
    {
     "name": "stdout",
     "output_type": "stream",
     "text": [
      "Requirement already satisfied: Pillow in c:\\users\\elkeb\\appdata\\local\\programs\\python\\python37\\lib\\site-packages (9.2.0)\n"
     ]
    },
    {
     "name": "stderr",
     "output_type": "stream",
     "text": [
      "\n",
      "[notice] A new release of pip is available: 23.0.1 -> 23.1.2\n",
      "[notice] To update, run: python.exe -m pip install --upgrade pip\n"
     ]
    }
   ],
   "source": [
    "! pip install Pillow"
   ]
  },
  {
   "cell_type": "code",
   "execution_count": 23,
   "metadata": {},
   "outputs": [
    {
     "name": "stdout",
     "output_type": "stream",
     "text": [
      "(255, 0, 0, 255)\n",
      "(255, 192, 203, 255)\n",
      "(210, 105, 30, 255)\n"
     ]
    }
   ],
   "source": [
    "from PIL import ImageColor\n",
    "\n",
    "print(ImageColor.getcolor('red', 'RGBA'))\n",
    "print(ImageColor.getcolor('pink', 'RGBA'))\n",
    "print(ImageColor.getcolor('chocolate', 'RGBA'))"
   ]
  },
  {
   "attachments": {},
   "cell_type": "markdown",
   "metadata": {},
   "source": [
    "Download the file colours.txt from canvas:\n",
    "\n",
    "- AliceBlue\n",
    "- AntiqueWhite\n",
    "- Aqua\n",
    "- ...\n",
    "\n",
    "and create a csv-file in this format\n",
    "\n",
    "- Color,R,G,B,A \n",
    "- AliceBlue,240,248,255,255 \n",
    "- AntiqueWhite,250,235,215,255 "
   ]
  },
  {
   "cell_type": "code",
   "execution_count": 29,
   "metadata": {},
   "outputs": [],
   "source": [
    "from PIL import ImageColor\n",
    "\n",
    "csvfile = open(\"colours.csv\",\"w\")\n",
    "\n",
    "csvfile.write(\"Colour,R,G,B,A\\n\")\n",
    "\n",
    "with open(\"colours.txt\",\"r\") as file:\n",
    "    for colour in file.readlines():\n",
    "        colourname = colour.strip()\n",
    "        rgba = ImageColor.getcolor(colourname, 'RGBA')\n",
    "        csvfile.write(colourname + \",\" + str(rgba[0]) + \",\" + str(rgba[1]) + \",\" + str(rgba[2]) + \",\" + str(rgba[3]) + \"\\n\")\n",
    "csvfile.close()"
   ]
  },
  {
   "attachments": {},
   "cell_type": "markdown",
   "metadata": {},
   "source": [
    "## Manipulating images\n",
    "\n",
    "<img src=\"bird.jpg\">"
   ]
  },
  {
   "cell_type": "code",
   "execution_count": 36,
   "metadata": {},
   "outputs": [
    {
     "name": "stdout",
     "output_type": "stream",
     "text": [
      "<PIL.JpegImagePlugin.JpegImageFile image mode=RGB size=640x424 at 0x27B29A49B48>\n",
      "424 640\n",
      "(640, 424)\n",
      "640\n",
      "bird.jpg\n",
      "JPEG\n"
     ]
    }
   ],
   "source": [
    "from PIL import Image\n",
    "\n",
    "img = Image.open(\"bird.jpg\")\n",
    "print(img)\n",
    "\n",
    "print(img.height, img.width)\n",
    "print(img.size)\n",
    "\n",
    "width, height = img.size\n",
    "\n",
    "print(width)\n",
    "\n",
    "print(img.filename)\n",
    "print(img.format)\n",
    "img.show()\n"
   ]
  },
  {
   "cell_type": "code",
   "execution_count": 43,
   "metadata": {},
   "outputs": [],
   "source": [
    "from PIL import Image\n",
    "\n",
    "img = Image.open(\"bird.jpg\")\n",
    "img = img.crop((260,150,400,370))\n",
    "img.save(\"cropped_bird.jpg\")\n",
    "img.show()"
   ]
  }
 ],
 "metadata": {
  "kernelspec": {
   "display_name": "Python 3",
   "language": "python",
   "name": "python3"
  },
  "language_info": {
   "codemirror_mode": {
    "name": "ipython",
    "version": 3
   },
   "file_extension": ".py",
   "mimetype": "text/x-python",
   "name": "python",
   "nbconvert_exporter": "python",
   "pygments_lexer": "ipython3",
   "version": "3.7.4"
  },
  "orig_nbformat": 4
 },
 "nbformat": 4,
 "nbformat_minor": 2
}
