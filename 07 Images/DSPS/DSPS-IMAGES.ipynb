{
 "cells": [
  {
   "attachments": {},
   "cell_type": "markdown",
   "metadata": {},
   "source": [
    "# Images - lesson 9 - 4/05\n",
    "\n",
    "## Recap assignment\n",
    "Are you ready to know why Chuck Norris has his own API? ;)\n",
    "\n",
    "Check out https://api.chucknorris.io/ and be prepared to feel the power!\n",
    "\n",
    "Using your best web scraping moves, download all of the pictures from Chuck Norris' Wikipedia page (https://en.wikipedia.org/wiki/Chuck_Norris) and get ready to LOL at a random Chuck Norris joke. Because when Chuck Norris is involved, you know it's gonna be a roundhouse-kicking good time!"
   ]
  },
  {
   "cell_type": "code",
   "execution_count": null,
   "metadata": {},
   "outputs": [],
   "source": [
    "import requests\n",
    "from bs4 import BeautifulSoup\n",
    "\n",
    "url = \"https://api.chucknorris.io/jokes/random\"\n",
    "response = requests.get(url)\n",
    "print(response.json()[\"value\"])\n",
    "\n",
    "url = \"https://en.wikipedia.org/wiki/Chuck_Norris\"\n",
    "response = requests.get(url)\n",
    "soup = BeautifulSoup(response.text)\n",
    "img_tags = soup.find_all(\"img\")\n",
    "\n",
    "for img in img_tags:\n",
    "    if img[\"src\"].endswith(\".jpg\"):\n",
    "        parts = img[\"src\"].split(\"/\")\n",
    "        with open(\"ChuckNorris/\"+parts[-1], \"wb\") as imagefile:\n",
    "            response = requests.get(\"http:\"+img[\"src\"])\n",
    "            imagefile.write(response.content)\n",
    "            print(\"downloaded\",parts[-1])\n",
    "\n"
   ]
  },
  {
   "attachments": {},
   "cell_type": "markdown",
   "metadata": {},
   "source": [
    "## Computer images\n",
    "\n",
    "Install Pillow-package"
   ]
  },
  {
   "cell_type": "code",
   "execution_count": null,
   "metadata": {},
   "outputs": [],
   "source": [
    "! pip install Pillow"
   ]
  },
  {
   "cell_type": "code",
   "execution_count": null,
   "metadata": {},
   "outputs": [],
   "source": [
    "from PIL import ImageColor\n",
    "\n",
    "print(ImageColor.getcolor('red', 'RGBA'))\n",
    "print(ImageColor.getcolor('pink', 'RGBA'))\n",
    "print(ImageColor.getcolor('chocolate', 'RGBA'))"
   ]
  },
  {
   "attachments": {},
   "cell_type": "markdown",
   "metadata": {},
   "source": [
    "Download the file colours.txt from canvas:\n",
    "\n",
    "- AliceBlue\n",
    "- AntiqueWhite\n",
    "- Aqua\n",
    "- ...\n",
    "\n",
    "and create a csv-file in this format\n",
    "\n",
    "- Color,R,G,B,A \n",
    "- AliceBlue,240,248,255,255 \n",
    "- AntiqueWhite,250,235,215,255 "
   ]
  },
  {
   "cell_type": "code",
   "execution_count": null,
   "metadata": {},
   "outputs": [],
   "source": [
    "from PIL import ImageColor\n",
    "\n",
    "csvfile = open(\"colours.csv\",\"w\")\n",
    "\n",
    "csvfile.write(\"Colour,R,G,B,A\\n\")\n",
    "\n",
    "with open(\"colours.txt\",\"r\") as file:\n",
    "    for colour in file.readlines():\n",
    "        colourname = colour.strip()\n",
    "        rgba = ImageColor.getcolor(colourname, 'RGBA')\n",
    "        csvfile.write(colourname + \",\" + str(rgba[0]) + \",\" + str(rgba[1]) + \",\" + str(rgba[2]) + \",\" + str(rgba[3]) + \"\\n\")\n",
    "csvfile.close()"
   ]
  },
  {
   "attachments": {},
   "cell_type": "markdown",
   "metadata": {},
   "source": [
    "## Manipulating images\n",
    "\n",
    "<img src=\"bird.jpg\">\n",
    "\n",
    "### Image properties"
   ]
  },
  {
   "cell_type": "code",
   "execution_count": null,
   "metadata": {},
   "outputs": [],
   "source": [
    "from PIL import Image\n",
    "\n",
    "img = Image.open(\"bird.jpg\")\n",
    "print(img)\n",
    "\n",
    "print(img.height, img.width)\n",
    "print(img.size)\n",
    "\n",
    "width, height = img.size\n",
    "\n",
    "print(width)\n",
    "\n",
    "print(img.filename)\n",
    "print(img.format)\n",
    "img.show()\n"
   ]
  },
  {
   "attachments": {},
   "cell_type": "markdown",
   "metadata": {},
   "source": [
    "### Crop image"
   ]
  },
  {
   "cell_type": "code",
   "execution_count": null,
   "metadata": {},
   "outputs": [],
   "source": [
    "from PIL import Image\n",
    "\n",
    "img = Image.open(\"bird.jpg\")\n",
    "img = img.crop((260,150,400,370))\n",
    "img.save(\"cropped_bird.jpg\")\n",
    "img.show()"
   ]
  },
  {
   "attachments": {},
   "cell_type": "markdown",
   "metadata": {},
   "source": [
    "### Copy & paste on image\n",
    "\n",
    "Make a chessboard of cropped images"
   ]
  },
  {
   "cell_type": "code",
   "execution_count": null,
   "metadata": {},
   "outputs": [],
   "source": [
    "from PIL import Image\n",
    "\n",
    "img = Image.new('RGBA', (400,200), \"lightblue\")\n",
    "cropped = Image.open(\"cropped_bird.jpg\")\n",
    "copy = cropped.copy()\n",
    "img.paste(copy,(0,0))\n",
    "img.save(\"aliceblue.gif\")\n",
    "\n",
    "img = Image.new(\"RGBA\",(cropped.width*10,cropped.height*10),\"white\")\n",
    "for i in range(0,10):\n",
    "    for j in range(0,10):\n",
    "        if (i+j) % 2 == 0:\n",
    "            img.paste(copy,(i * cropped.width,j*cropped.height))\n",
    "\n",
    "img.save(\"birdies.gif\")"
   ]
  },
  {
   "attachments": {},
   "cell_type": "markdown",
   "metadata": {},
   "source": [
    "### Transform images"
   ]
  },
  {
   "cell_type": "code",
   "execution_count": null,
   "metadata": {},
   "outputs": [],
   "source": [
    "from PIL import Image\n",
    "\n",
    "img = Image.open(\"bird.jpg\")\n",
    "img.rotate(90).show()\n",
    "\n",
    "img.transpose(Image.FLIP_LEFT_RIGHT).show()\n",
    "\n",
    "img.resize((150,150)).show()"
   ]
  },
  {
   "attachments": {},
   "cell_type": "markdown",
   "metadata": {},
   "source": [
    "### Loop over images pixel by pixel \n",
    "\n",
    "Play with the colours!"
   ]
  },
  {
   "cell_type": "code",
   "execution_count": null,
   "metadata": {},
   "outputs": [],
   "source": [
    "from PIL import Image\n",
    "\n",
    "img = Image.open(\"bird.jpg\")\n",
    "red_img = Image.new('RGBA', img.size, \"white\")\n",
    "without_blue_img = Image.new('RGBA', img.size, \"white\")\n",
    "\n",
    "for i in range(0,img.width):\n",
    "    for j in range(0, img.height):\n",
    "        pixel = img.getpixel((i,j))\n",
    "        \n",
    "        red_img.putpixel((i,j), (255,pixel[1],pixel[2]))\n",
    "        without_blue_img.putpixel((i,j), (pixel[0],pixel[1],0))\n",
    "\n",
    "red_img.save(\"bird_red.gif\")\n",
    "without_blue_img.save(\"without_blue_bird.gif\")\n"
   ]
  },
  {
   "attachments": {},
   "cell_type": "markdown",
   "metadata": {},
   "source": [
    "### Convert/Invert images"
   ]
  },
  {
   "cell_type": "code",
   "execution_count": null,
   "metadata": {},
   "outputs": [],
   "source": [
    "from PIL import Image\n",
    "\n",
    "img = Image.open(\"bird.jpg\")\n",
    "img = img.convert(\"L\")\n",
    "img.show()"
   ]
  },
  {
   "cell_type": "code",
   "execution_count": null,
   "metadata": {},
   "outputs": [],
   "source": [
    "from PIL import Image, ImageChops\n",
    "\n",
    "img = Image.open(\"bird.jpg\")\n",
    "img = ImageChops.invert(img)\n",
    "img.show()"
   ]
  },
  {
   "attachments": {},
   "cell_type": "markdown",
   "metadata": {},
   "source": [
    "## Draw on images\n",
    "\n",
    "Figures & text\n",
    "\n",
    "Don't forget to add the font-file to your folder! "
   ]
  },
  {
   "cell_type": "code",
   "execution_count": null,
   "metadata": {},
   "outputs": [],
   "source": [
    "from PIL import Image, ImageDraw\n",
    " \n",
    "img = Image.new('RGBA', (200, 200), 'white')\n",
    " \n",
    "draw = ImageDraw.Draw(img)\n",
    "draw.line([(0, 0), (199, 0), (199, 199), (0, 199), (0, 0)], fill='black')\n",
    "draw.rectangle((20, 30, 60, 60), fill='blue')\n",
    "draw.ellipse((120, 30, 160, 60), fill='red')\n",
    "draw.polygon(((57, 87), (79, 62), (94, 85), (120, 90), (103, 113)), fill='brown')\n",
    "for i in range(100, 200, 10):\n",
    "    draw.line([(i, 0), (200, i - 100)], fill='green')\n",
    " \n",
    "img.save('drawing.png')"
   ]
  },
  {
   "cell_type": "code",
   "execution_count": null,
   "metadata": {},
   "outputs": [],
   "source": [
    "from PIL import Image, ImageDraw, ImageFont\n",
    "import os\n",
    " \n",
    "im = Image.new('RGBA', (200, 200), 'white')\n",
    "draw = ImageDraw.Draw(im)\n",
    " \n",
    "draw.text((20, 150), 'Hello', fill='purple')\n",
    "\n",
    "fontsFolder = 'FONT_FOLDER' # e.g. ‘/Library/Fonts'\n",
    "arialFont = ImageFont.truetype(os.path.join(fontsFolder, 'arial.ttf'), 32)\n",
    "draw.text((100, 150), 'Hello', fill='gray', font=arialFont)\n",
    "\n",
    "candy_heart = ImageFont.truetype('candy_heart.otf', 32)\n",
    "draw.text((0, 150), 'Hello', fill='gray', font=candy_heart)\n",
    "\n",
    "\n",
    "im.save('text.png')"
   ]
  },
  {
   "attachments": {},
   "cell_type": "markdown",
   "metadata": {},
   "source": [
    "## Bonus assignment\n",
    "\n",
    "Download 10 random images from https://picsum.photos/Links to an external site. (bonus if you use multithreading), get 10 random quotes from https://rapidapi.com/apininjas/api/quotes-by-api-ninjas/Links to an external site. and place the quotes on the images and name them quote_<imagename>.jpg!\n",
    "Use this font arial_bold.ttf Download arial_bold.ttf \n",
    "Write this all in a script \"quotes.py\" that calls the main() function from an if __name__ == \"__main__\": block!\n",
    "\n",
    "There is no detailed autotest for this assignment, just upload your working script!\n",
    "\n",
    "What are my steps?\n",
    "- Scrape the images --> look at the chuck norris exercise (response.content!)\n",
    "- Find quotes --> look at the chuck norris exercise (response.json())\n",
    "- Put quote on image --> look at candy_heart font or default font!\n",
    "- save the image as quote_something_something.jpg\n"
   ]
  },
  {
   "cell_type": "code",
   "execution_count": null,
   "metadata": {},
   "outputs": [],
   "source": []
  }
 ],
 "metadata": {
  "kernelspec": {
   "display_name": "Python 3",
   "language": "python",
   "name": "python3"
  },
  "language_info": {
   "codemirror_mode": {
    "name": "ipython",
    "version": 3
   },
   "file_extension": ".py",
   "mimetype": "text/x-python",
   "name": "python",
   "nbconvert_exporter": "python",
   "pygments_lexer": "ipython3",
   "version": "3.7.4"
  },
  "orig_nbformat": 4
 },
 "nbformat": 4,
 "nbformat_minor": 2
}
