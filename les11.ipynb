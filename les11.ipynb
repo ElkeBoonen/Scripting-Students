{
 "metadata": {
  "language_info": {
   "codemirror_mode": {
    "name": "ipython",
    "version": 3
   },
   "file_extension": ".py",
   "mimetype": "text/x-python",
   "name": "python",
   "nbconvert_exporter": "python",
   "pygments_lexer": "ipython3",
   "version": "3.8.5"
  },
  "orig_nbformat": 2,
  "kernelspec": {
   "name": "python3",
   "display_name": "Python 3.8.5 64-bit",
   "metadata": {
    "interpreter": {
     "hash": "1baa965d5efe3ac65b79dfc60c0d706280b1da80fedb7760faf2759126c4f253"
    }
   }
  }
 },
 "nbformat": 4,
 "nbformat_minor": 2,
 "cells": [
  {
   "source": [
    "# LES 11: OO\n",
    "\n",
    "https://www.imdb.com/title/tt1436562/\n",
    "\n",
    "## Simpele klasse ;)\n"
   ],
   "cell_type": "markdown",
   "metadata": {}
  },
  {
   "cell_type": "code",
   "execution_count": 17,
   "metadata": {},
   "outputs": [
    {
     "output_type": "stream",
     "name": "stdout",
     "text": [
      "Collecting pip\n",
      "  Using cached pip-21.1.1-py3-none-any.whl (1.5 MB)\n",
      "Installing collected packages: pip\n",
      "  Attempting uninstall: pip\n",
      "    Found existing installation: pip 20.2.2\n",
      "    Uninstalling pip-20.2.2:\n",
      "      Successfully uninstalled pip-20.2.2\n",
      "  Rolling back uninstall of pip\n",
      "  Moving to c:\\users\\u0116591\\appdata\\roaming\\python\\python38\\scripts\\pip.exe\n",
      "   from C:\\Users\\u0116591\\AppData\\Local\\Temp\\pip-uninstall-qffc2vmu\\pip.exe\n",
      "  Moving to c:\\users\\u0116591\\appdata\\roaming\\python\\python38\\scripts\\pip3.8.exe\n",
      "   from C:\\Users\\u0116591\\AppData\\Local\\Temp\\pip-uninstall-qffc2vmu\\pip3.8.exe\n",
      "  Moving to c:\\users\\u0116591\\appdata\\roaming\\python\\python38\\scripts\\pip3.exe\n",
      "   from C:\\Users\\u0116591\\AppData\\Local\\Temp\\pip-uninstall-qffc2vmu\\pip3.exe\n",
      "  Moving to c:\\users\\u0116591\\appdata\\roaming\\python\\python38\\site-packages\\pip-20.2.2.dist-info\\\n",
      "   from C:\\Users\\u0116591\\AppData\\Roaming\\Python\\Python38\\site-packages\\~ip-20.2.2.dist-info\n",
      "  Moving to c:\\users\\u0116591\\appdata\\roaming\\python\\python38\\site-packages\\pip\\\n",
      "   from C:\\Users\\u0116591\\AppData\\Roaming\\Python\\Python38\\site-packages\\~ip\n",
      "ERROR: Exception:\n",
      "Traceback (most recent call last):\n",
      "  File \"C:\\Users\\u0116591\\AppData\\Roaming\\Python\\Python38\\site-packages\\pip\\_internal\\cli\\base_command.py\", line 216, in _main\n",
      "    status = self.run(options, args)\n",
      "  File \"C:\\Users\\u0116591\\AppData\\Roaming\\Python\\Python38\\site-packages\\pip\\_internal\\cli\\req_command.py\", line 182, in wrapper\n",
      "    return func(self, options, args)\n",
      "  File \"C:\\Users\\u0116591\\AppData\\Roaming\\Python\\Python38\\site-packages\\pip\\_internal\\commands\\install.py\", line 412, in run\n",
      "    installed = install_given_reqs(\n",
      "  File \"C:\\Users\\u0116591\\AppData\\Roaming\\Python\\Python38\\site-packages\\pip\\_internal\\req\\__init__.py\", line 82, in install_given_reqs\n",
      "    requirement.install(\n",
      "  File \"C:\\Users\\u0116591\\AppData\\Roaming\\Python\\Python38\\site-packages\\pip\\_internal\\req\\req_install.py\", line 813, in install\n",
      "    install_wheel(\n",
      "  File \"C:\\Users\\u0116591\\AppData\\Roaming\\Python\\Python38\\site-packages\\pip\\_internal\\operations\\install\\wheel.py\", line 852, in install_wheel\n",
      "    _install_wheel(\n",
      "  File \"C:\\Users\\u0116591\\AppData\\Roaming\\Python\\Python38\\site-packages\\pip\\_internal\\operations\\install\\wheel.py\", line 762, in _install_wheel\n",
      "    generated_console_scripts = maker.make_multiple(scripts_to_generate)\n",
      "  File \"C:\\Users\\u0116591\\AppData\\Roaming\\Python\\Python38\\site-packages\\pip\\_vendor\\distlib\\scripts.py\", line 418, in make_multiple\n",
      "    filenames.extend(self.make(specification, options))\n",
      "  File \"C:\\Users\\u0116591\\AppData\\Roaming\\Python\\Python38\\site-packages\\pip\\_internal\\operations\\install\\wheel.py\", line 498, in make\n",
      "    return super(PipScriptMaker, self).make(specification, options)\n",
      "  File \"C:\\Users\\u0116591\\AppData\\Roaming\\Python\\Python38\\site-packages\\pip\\_vendor\\distlib\\scripts.py\", line 407, in make\n",
      "    self._make_script(entry, filenames, options=options)\n",
      "  File \"C:\\Users\\u0116591\\AppData\\Roaming\\Python\\Python38\\site-packages\\pip\\_vendor\\distlib\\scripts.py\", line 307, in _make_script\n",
      "    self._write_script(scriptnames, shebang, script, filenames, ext)\n",
      "  File \"C:\\Users\\u0116591\\AppData\\Roaming\\Python\\Python38\\site-packages\\pip\\_vendor\\distlib\\scripts.py\", line 242, in _write_script\n",
      "    launcher = self._get_launcher('t')\n",
      "  File \"C:\\Users\\u0116591\\AppData\\Roaming\\Python\\Python38\\site-packages\\pip\\_vendor\\distlib\\scripts.py\", line 386, in _get_launcher\n",
      "    raise ValueError(msg)\n",
      "ValueError: Unable to find resource t64.exe in package pip._vendor.distlib\n",
      "WARNING: You are using pip version 20.2.2; however, version 21.1.1 is available.\n",
      "You should consider upgrading via the 'c:\\program files\\python38\\python.exe -m pip install --upgrade pip' command.\n",
      "Requirement already satisfied: playsound in c:\\program files\\python38\\lib\\site-packages (1.2.2)\n",
      "WARNING: You are using pip version 20.2.2; however, version 21.1.1 is available.\n",
      "You should consider upgrading via the 'c:\\program files\\python38\\python.exe -m pip install --upgrade pip' command.\n"
     ]
    }
   ],
   "source": [
    "# installeren via notebook\n",
    "\n",
    "import sys\n",
    "! pip install --upgrade pip\n",
    "! pip install playsound\n"
   ]
  },
  {
   "cell_type": "code",
   "execution_count": 15,
   "metadata": {},
   "outputs": [
    {
     "output_type": "stream",
     "name": "stdout",
     "text": [
      "<__main__.Parrot object at 0x0000028DFDEDF2E0>\nBlu is 20  years old\nParrot is 10  years old\nsing sing\nParrot says ' hello '\n"
     ]
    }
   ],
   "source": [
    "class Parrot:\n",
    "    # attributen\n",
    "    species = \"Parrot\"\n",
    "\n",
    "    #def __init__(self):\n",
    "    #    print(\"Parrot is created!\")\n",
    "\n",
    "    def __init__(self, name, age, color):\n",
    "        self.name = name\n",
    "        self.age = age\n",
    "        self.color = color\n",
    "\n",
    "    def sing(self):\n",
    "        print(\"sing sing\")\n",
    "\n",
    "    def talk(self, text):\n",
    "        print(self.name,\"says '\",text,\"'\")\n",
    "\n",
    "blu = Parrot(\"Blu\", 20, \"blue\")\n",
    "print(blu)\n",
    "print(blu.name,\"is\", blu.age,\" years old\")\n",
    "\n",
    "parrot = Parrot(\"Parrot\", 10, \"yellow\")\n",
    "print(parrot.name,\"is\", parrot.age,\" years old\")\n",
    "\n",
    "parrot.sing()\n",
    "parrot.talk(\"hello\")"
   ]
  },
  {
   "source": [
    "## OO concepten"
   ],
   "cell_type": "markdown",
   "metadata": {}
  },
  {
   "cell_type": "code",
   "execution_count": 34,
   "metadata": {},
   "outputs": [
    {
     "output_type": "stream",
     "name": "stdout",
     "text": [
      "sing sing\nParrot says ' hello '\nParrot\nBird\nI am a Bird\nI am a Parrot\nI am a Parrot\n"
     ]
    }
   ],
   "source": [
    "from datetime import date\n",
    "\n",
    "class Bird:\n",
    "    species = \"Bird\"\n",
    "\n",
    "    def whoIsThis(self):\n",
    "        print(\"I am a\", self.species)\n",
    "\n",
    "class Parrot(Bird):\n",
    "    # attributen\n",
    "    species = \"Parrot\"\n",
    "\n",
    "    def __calculateAge(self, birthdate):\n",
    "        return date.today().year - birthdate.year \n",
    "\n",
    "    def __init__(self, name, birthdate, color):\n",
    "        self.name = name\n",
    "        self.__age = self.__calculateAge(birthdate)\n",
    "        self.color = color\n",
    "\n",
    "    def getAge(self):\n",
    "        return self.__age\n",
    "\n",
    "    def setAge(self, birthdate):\n",
    "        self.__age = self.__calculateAge(birthdate)\n",
    "\n",
    "    def sing(self):\n",
    "        print(\"sing sing\")\n",
    "\n",
    "    def talk(self, text):\n",
    "        print(self.name,\"says '\",text,\"'\")\n",
    "\n",
    "\n",
    "blu = Parrot(\"Blu\", date(2000,1,1), \"blue\")\n",
    "parrot = Parrot(\"Parrot\", date(2010,1,1), \"yellow\")\n",
    "\n",
    "parrot.sing()\n",
    "parrot.talk(\"hello\")\n",
    "\n",
    "print(parrot.species)\n",
    "\n",
    "birdie = Bird()\n",
    "print(birdie.species)\n",
    "\n",
    "birdie.whoIsThis()\n",
    "parrot.whoIsThis()\n",
    "blu.whoIsThis()"
   ]
  },
  {
   "cell_type": "code",
   "execution_count": 32,
   "metadata": {},
   "outputs": [
    {
     "output_type": "stream",
     "name": "stdout",
     "text": [
      "\n\nsuper()\nI am a Bird\nI am a Parrot\n - My name is Parrot\nI am a Parrot\n - My name is Blu\n"
     ]
    }
   ],
   "source": [
    "from datetime import date\n",
    "\n",
    "class Bird:\n",
    "    species = \"Bird\"\n",
    "\n",
    "    def whoIsThis(self):\n",
    "        print(\"I am a\", self.species)\n",
    "\n",
    "class Parrot(Bird):\n",
    "    # attributen\n",
    "    species = \"Parrot\"\n",
    "\n",
    "    def __calculateAge(self, birthdate):\n",
    "        return date.today().year - birthdate.year \n",
    "\n",
    "    def __init__(self, name, birthdate, color):\n",
    "        self.name = name\n",
    "        self.__age = self.__calculateAge(birthdate)\n",
    "        self.color = color\n",
    "\n",
    "    def getAge(self):\n",
    "        return self.__age\n",
    "\n",
    "    def setAge(self, birthdate):\n",
    "        self.__age = self.__calculateAge(birthdate)\n",
    "\n",
    "    def sing(self):\n",
    "        print(\"sing sing\")\n",
    "\n",
    "    def talk(self, text):\n",
    "        print(self.name,\"says '\",text,\"'\")\n",
    "\n",
    "    def whoIsThis(self):\n",
    "        super().whoIsThis()\n",
    "        print(\" - My name is\", self.name)\n",
    "\n",
    "\n",
    "blu = Parrot(\"Blu\", date(2000,1,1), \"blue\")\n",
    "parrot = Parrot(\"Parrot\", date(2010,1,1), \"yellow\")\n",
    "birdie = Bird()\n",
    "\n",
    "print(\"\\n\\nsuper()\")\n",
    "birdie.whoIsThis()\n",
    "parrot.whoIsThis()\n",
    "blu.whoIsThis()"
   ]
  },
  {
   "source": [
    "## Multiple Inheritance"
   ],
   "cell_type": "markdown",
   "metadata": {}
  },
  {
   "cell_type": "code",
   "execution_count": 39,
   "metadata": {},
   "outputs": [
    {
     "output_type": "stream",
     "name": "stdout",
     "text": [
      "D\nC\nB\nA\n"
     ]
    },
    {
     "output_type": "execute_result",
     "data": {
      "text/plain": [
       "[__main__.ClassD, __main__.ClassC, __main__.ClassB, __main__.ClassA, object]"
      ]
     },
     "metadata": {},
     "execution_count": 39
    }
   ],
   "source": [
    "class ClassA:\n",
    "    def __init__(self):\n",
    "        print(\"A\")\n",
    "\n",
    "class ClassB(ClassA):\n",
    "    def __init__(self):\n",
    "        print(\"B\")\n",
    "        super().__init__()\n",
    "\n",
    "class ClassC(ClassA):\n",
    "    def __init__(self):\n",
    "        print(\"C\")\n",
    "        super().__init__()\n",
    "\n",
    "class ClassD(ClassC, ClassB): # dit bepaalt de volgorde!!!\n",
    "    def __init__(self):\n",
    "        print(\"D\")\n",
    "        super().__init__()\n",
    "\n",
    "objectD = ClassD()\n",
    "ClassD.mro()"
   ]
  },
  {
   "cell_type": "code",
   "execution_count": null,
   "metadata": {},
   "outputs": [],
   "source": []
  }
 ]
}