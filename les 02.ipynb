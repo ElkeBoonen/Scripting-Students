{
 "metadata": {
  "language_info": {
   "codemirror_mode": {
    "name": "ipython",
    "version": 3
   },
   "file_extension": ".py",
   "mimetype": "text/x-python",
   "name": "python",
   "nbconvert_exporter": "python",
   "pygments_lexer": "ipython3",
   "version": "3.9.1-final"
  },
  "orig_nbformat": 2,
  "kernelspec": {
   "name": "python38232bite686985caf77426a88103896520609eb",
   "display_name": "Python 3.8.2 32-bit",
   "language": "python"
  }
 },
 "nbformat": 4,
 "nbformat_minor": 2,
 "cells": [
  {
   "source": [
    "# Python basics les 2: 24/2\n",
    "## IF structuur"
   ],
   "cell_type": "markdown",
   "metadata": {}
  },
  {
   "cell_type": "code",
   "execution_count": 8,
   "metadata": {},
   "outputs": [
    {
     "output_type": "stream",
     "name": "stdout",
     "text": [
      "positief getal\n"
     ]
    }
   ],
   "source": [
    "#check of een getal positief of negatief is\n",
    "\n",
    "x = input(\"Geef een x in: \")\n",
    "x = int(x)\n",
    "if x > 0:\n",
    "    print(\"positief getal\")\n",
    "elif x == 0:\n",
    "    print(\"is nul\")\n",
    "else:\n",
    "    print(\"negatief getal\")"
   ]
  },
  {
   "cell_type": "code",
   "execution_count": 10,
   "metadata": {},
   "outputs": [
    {
     "output_type": "stream",
     "name": "stdout",
     "text": [
      "even getal\n"
     ]
    }
   ],
   "source": [
    "#check of een getal even of oneven is\n",
    "\n",
    "x = input(\"Geef een x in: \")\n",
    "x = int(x)\n",
    "\n",
    "if x % 2 == 0:\n",
    "    print(\"even getal\")\n",
    "elif x == 0:\n",
    "    print(\"is nul\")\n",
    "else:\n",
    "    print(\"oneven getal\")"
   ]
  },
  {
   "source": [
    "## Lussen\n",
    "### for-loop"
   ],
   "cell_type": "markdown",
   "metadata": {}
  },
  {
   "cell_type": "code",
   "execution_count": 18,
   "metadata": {},
   "outputs": [
    {
     "output_type": "stream",
     "name": "stdout",
     "text": [
      "for i=0 --> <10 i++\n5 *  0  =  0\n5 *  1  =  5\n5 *  2  =  10\n5 *  3  =  15\n5 *  4  =  20\n5 *  5  =  25\n5 *  6  =  30\n5 *  7  =  35\n5 *  8  =  40\n5 *  9  =  45\nfor i=0 --> <=10 i++\n5 *  0  =  0\n5 *  1  =  5\n5 *  2  =  10\n5 *  3  =  15\n5 *  4  =  20\n5 *  5  =  25\n5 *  6  =  30\n5 *  7  =  35\n5 *  8  =  40\n5 *  9  =  45\n5 *  10  =  50\nfor i=10 --> 0 i--\n5 *  10  =  50\n5 *  9  =  45\n5 *  8  =  40\n5 *  7  =  35\n5 *  6  =  30\n5 *  5  =  25\n5 *  4  =  20\n5 *  3  =  15\n5 *  2  =  10\n5 *  1  =  5\n5 *  0  =  0\nfor i=0 --> <=10 i+=2\n5 *  0  =  0\n5 *  2  =  10\n5 *  4  =  20\n5 *  6  =  30\n5 *  8  =  40\n5 *  10  =  50\neen woord\ne\ne\nn\n \nw\no\no\nr\nd\n"
     ]
    }
   ],
   "source": [
    "print(\"for i=0 --> <10 i++\")\n",
    "for i in range(0,10): \n",
    "    print(\"5 * \",i,\" = \",i*5)\n",
    "\n",
    "print(\"for i=0 --> <=10 i++\")\n",
    "for i in range(0,11): #for i=0 --> <=10 i++\n",
    "    print(\"5 * \",i,\" = \",i*5)\n",
    "\n",
    "print(\"for i=10 --> 0 i--\")\n",
    "for i in range(10,-1,-1): #for i=10 --> 0 i--\n",
    "    print(\"5 * \",i,\" = \",i*5)\n",
    "\n",
    "print(\"for i=0 --> <=10 i+=2\")\n",
    "for i in range(0,11,2): #for i=0 --> <=10 i+=2\n",
    "    print(\"5 * \",i,\" = \",i*5)\n",
    "\n",
    "print(\"een woord\")\n",
    "for c in \"een woord\":\n",
    "    print(c)"
   ]
  },
  {
   "source": [
    "### Geneste for-loop"
   ],
   "cell_type": "markdown",
   "metadata": {}
  },
  {
   "cell_type": "code",
   "execution_count": 19,
   "metadata": {},
   "outputs": [
    {
     "output_type": "stream",
     "name": "stdout",
     "text": [
      "* * * * * \n* * * * \n* * * \n* * \n* \n\n"
     ]
    }
   ],
   "source": [
    "# * * * * *\n",
    "# * * * *\n",
    "# * * *\n",
    "# * *\n",
    "# *\n",
    "\n",
    "for x in range(5,-1,-1):\n",
    "    for y in range(0,x):\n",
    "        print(\"*\", end=\" \")\n",
    "    print()"
   ]
  },
  {
   "source": [
    "### while loop"
   ],
   "cell_type": "markdown",
   "metadata": {}
  },
  {
   "cell_type": "code",
   "execution_count": 20,
   "metadata": {},
   "outputs": [
    {
     "output_type": "stream",
     "name": "stdout",
     "text": [
      "5\n25\n125\n625\n3125\n15625\n78125\n390625\n25\n125\n625\n3125\n15625\n78125\n390625\n1953125\n"
     ]
    }
   ],
   "source": [
    "x = 5\n",
    "while x < 500000:\n",
    "    print(x)\n",
    "    x*=5\n",
    "\n",
    "x = 5\n",
    "while x < 500000:\n",
    "    x*=5\n",
    "    print(x)"
   ]
  },
  {
   "source": [
    "### for loop naar while loop"
   ],
   "cell_type": "markdown",
   "metadata": {}
  },
  {
   "cell_type": "code",
   "execution_count": 22,
   "metadata": {},
   "outputs": [
    {
     "output_type": "stream",
     "name": "stdout",
     "text": [
      "for i=0 --> <=10 i++\n0\n1\n2\n3\n4\n5\n6\n7\n8\n9\n10\nfor i=10 --> 0 i--\n10\n9\n8\n7\n6\n5\n4\n3\n2\n1\n0\n"
     ]
    }
   ],
   "source": [
    "print(\"for i=0 --> <=10 i++\")\n",
    "i = 0\n",
    "while i <= 10:\n",
    "    print(i)\n",
    "    i +=1\n",
    "\n",
    "\n",
    "print(\"for i=10 --> 0 i--\")\n",
    "i = 10\n",
    "while i >= 0:\n",
    "    print(i)\n",
    "    i -=1\n"
   ]
  },
  {
   "source": [
    "### Hailstone sequentie\n",
    "\n",
    "If n is 1 then the sequence ends.<br>\n",
    "If n is even then the next n of the sequence = n/2 <br>\n",
    "If n is odd then the next n of the sequence = (3 * n) + 1 <br>\n",
    "\n",
    "n = 11\n",
    "\n",
    "Hailstone sequentie = 11 34 17 52 26 13 40 20 105 16 8 4 2 1 4 2 1 ...\n",
    "\n"
   ],
   "cell_type": "markdown",
   "metadata": {}
  },
  {
   "cell_type": "code",
   "execution_count": 26,
   "metadata": {},
   "outputs": [
    {
     "output_type": "stream",
     "name": "stdout",
     "text": [
      "11 34 17 52 26 13 40 20 10 5 16 8 4 2 1 "
     ]
    }
   ],
   "source": [
    "n = 11\n",
    "print(n, end =\" \")\n",
    "while n != 1:\n",
    "    if (n % 2 == 0):\n",
    "        n = n // 2 ## n /= 2 --> int(n)\n",
    "    else:\n",
    "        n = (3*n)+1\n",
    "    print(n, end =\" \")\n",
    "\n"
   ]
  },
  {
   "cell_type": "code",
   "execution_count": null,
   "metadata": {},
   "outputs": [],
   "source": []
  }
 ]
}