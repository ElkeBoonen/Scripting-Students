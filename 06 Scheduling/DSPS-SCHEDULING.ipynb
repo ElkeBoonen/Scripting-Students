{
 "cells": [
  {
   "attachments": {},
   "cell_type": "markdown",
   "metadata": {},
   "source": [
    "# Scheduling - lesson 8 - 27/04\n",
    "\n",
    "- time module\n",
    "- multithreading\n",
    "- opening things ;)\n",
    "\n",
    "## Time module\n",
    "\n",
    "converter online: https://www.epochconverter.com/"
   ]
  },
  {
   "cell_type": "code",
   "execution_count": 7,
   "metadata": {},
   "outputs": [
    {
     "name": "stdout",
     "output_type": "stream",
     "text": [
      "1682598004.0400767\n",
      "Thu Apr 27 14:20:04 2023\n",
      "Thu Jan  1 01:00:00 1970\n",
      "Thu Apr 27 14:17:53 2023\n",
      "Thu Apr 27 14:19:48 2023\n"
     ]
    }
   ],
   "source": [
    "import time\n",
    "\n",
    "print(time.time())\n",
    "print(time.ctime())\n",
    "\n",
    "print(time.ctime(0))\n",
    "print(time.ctime(1682597873))\n",
    "\n",
    "print(time.ctime(1682597988))"
   ]
  },
  {
   "attachments": {},
   "cell_type": "markdown",
   "metadata": {},
   "source": [
    "Get your API-key at https://rapidapi.com/apininjas/api/facts-by-api-ninjas/"
   ]
  },
  {
   "cell_type": "code",
   "execution_count": 17,
   "metadata": {},
   "outputs": [
    {
     "name": "stdout",
     "output_type": "stream",
     "text": [
      "Wild Flamingos are pink because they consume vast quantities of algae and brine shrimp\n",
      "It took 0.2984280586242676 seconds to run this script!\n"
     ]
    }
   ],
   "source": [
    "# https://api.api-ninjas.com/v1/facts\n",
    "\n",
    "import requests\n",
    "import time\n",
    "\n",
    "url = \"https://facts-by-api-ninjas.p.rapidapi.com/v1/facts\"\n",
    "\n",
    "headers = {\n",
    "\t\"content-type\": \"application/octet-stream\",\n",
    "\t\"X-RapidAPI-Key\": \"your key\",\n",
    "\t\"X-RapidAPI-Host\": \"facts-by-api-ninjas.p.rapidapi.com\"\n",
    "}\n",
    "\n",
    "start = time.time()\n",
    "\n",
    "response = requests.get(url, headers=headers)\n",
    "\n",
    "print(response.json()[0][\"fact\"])\n",
    "\n",
    "stop = time.time()\n",
    "seconds = stop-start\n",
    "\n",
    "print(\"It took\",seconds,\"seconds to run this script!\")"
   ]
  },
  {
   "cell_type": "code",
   "execution_count": 31,
   "metadata": {},
   "outputs": [],
   "source": [
    "# ! pip install pygame\n",
    "\n",
    "import time, winsound, pygame\n",
    "\n",
    "for i in range(0,5):\n",
    "    winsound.Beep(500, 300)\n",
    "    time.sleep(1)\n",
    "\n",
    "pygame.mixer.init()\n",
    "pygame.mixer.music.load(\"explosion.mp3\")\n",
    "pygame.mixer.music.play()\n",
    "while pygame.mixer.music.get_busy() == True:\n",
    "    continue"
   ]
  },
  {
   "cell_type": "code",
   "execution_count": 42,
   "metadata": {},
   "outputs": [
    {
     "name": "stdout",
     "output_type": "stream",
     "text": [
      "2023-04-27 14:59:08.561143\n",
      "2000-05-10 00:00:00\n",
      "10 May 00\n",
      "day 131 of 2000\n",
      "04 February 03\n"
     ]
    }
   ],
   "source": [
    "import datetime as dt\n",
    "\n",
    "print(dt.datetime.now())\n",
    "date = dt.datetime(2000, 5, 10, 0,0,0)\n",
    "print(date)\n",
    "\n",
    "print(date.strftime(\"%d %B %y\"))\n",
    "print(date.strftime(\"day %j of %Y\"))\n",
    "\n",
    "date += dt.timedelta(days=1000)\n",
    "print(date.strftime(\"%d %B %y\"))\n"
   ]
  },
  {
   "attachments": {},
   "cell_type": "markdown",
   "metadata": {},
   "source": [
    "## Multithreading"
   ]
  },
  {
   "cell_type": "code",
   "execution_count": 43,
   "metadata": {},
   "outputs": [],
   "source": [
    "import time\n",
    "\n",
    "def sleep():\n",
    "    time.sleep(5)\n",
    "    print(\"Wake up!\")\n",
    "\n",
    "def multiplication(number):\n",
    "    for i in range(0,10):\n",
    "        print(i,\"* number =\",i*number)"
   ]
  },
  {
   "cell_type": "code",
   "execution_count": 47,
   "metadata": {},
   "outputs": [
    {
     "name": "stdout",
     "output_type": "stream",
     "text": [
      "START\n",
      "Wake up!\n",
      "0 * number = 0\n",
      "1 * number = 5\n",
      "2 * number = 10\n",
      "3 * number = 15\n",
      "4 * number = 20\n",
      "5 * number = 25\n",
      "6 * number = 30\n",
      "7 * number = 35\n",
      "8 * number = 40\n",
      "9 * number = 45\n",
      "STOP\n"
     ]
    }
   ],
   "source": [
    "# single threading\n",
    "\n",
    "print(\"START\")\n",
    "sleep()\n",
    "multiplication(5)\n",
    "print(\"STOP\")"
   ]
  },
  {
   "cell_type": "code",
   "execution_count": 51,
   "metadata": {},
   "outputs": [
    {
     "name": "stdout",
     "output_type": "stream",
     "text": [
      "0 * number = 0\n",
      "1 * number = 5\n",
      "2 * number = 10\n",
      "3 * number = 15\n",
      "4 * number = 20\n",
      "5 * number = 25\n",
      "6 * number = 30\n",
      "7 * number = 35\n",
      "8 * number = 40\n",
      "9 * number = 45\n",
      "START\n",
      "STOP\n"
     ]
    },
    {
     "name": "stdout",
     "output_type": "stream",
     "text": [
      "Wake up!\n",
      "Wake up!\n"
     ]
    }
   ],
   "source": [
    "# multi threading\n",
    "\n",
    "import threading\n",
    "\n",
    "thread_sleep = threading.Thread(target=sleep)\n",
    "thread_multi = threading.Thread(target=multiplication(5))\n",
    "\n",
    "print(\"START\")\n",
    "thread_sleep.start()\n",
    "thread_multi.start()\n",
    "print(\"STOP\")"
   ]
  },
  {
   "attachments": {},
   "cell_type": "markdown",
   "metadata": {},
   "source": [
    "Write a program that performs the following steps:\n",
    "\n",
    "\n",
    "Create two functions function1() and function2().\n",
    "function1() should print the numbers 1 to 10, with a delay of 0.5 seconds between each number.\n",
    "function2() should print the letters 'A' to 'J', with a delay of 0.5 seconds between each letter.\n",
    "Create two threads, one for each function, and start them simultaneously.\n",
    "Wait for both threads to finish before exiting the program."
   ]
  }
 ],
 "metadata": {
  "kernelspec": {
   "display_name": "Python 3",
   "language": "python",
   "name": "python3"
  },
  "language_info": {
   "codemirror_mode": {
    "name": "ipython",
    "version": 3
   },
   "file_extension": ".py",
   "mimetype": "text/x-python",
   "name": "python",
   "nbconvert_exporter": "python",
   "pygments_lexer": "ipython3",
   "version": "3.7.4"
  },
  "orig_nbformat": 4
 },
 "nbformat": 4,
 "nbformat_minor": 2
}
