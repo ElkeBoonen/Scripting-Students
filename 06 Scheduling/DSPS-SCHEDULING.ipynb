{
 "cells": [
  {
   "attachments": {},
   "cell_type": "markdown",
   "metadata": {},
   "source": [
    "# Scheduling - lesson 8 - 27/04\n",
    "\n",
    "- (Date)time module\n",
    "- Multithreading\n",
    "- Launching programs\n",
    "\n",
    "## (Date)time module\n",
    "\n",
    "see unix epoch converter online: https://www.epochconverter.com/"
   ]
  },
  {
   "cell_type": "code",
   "execution_count": null,
   "metadata": {},
   "outputs": [],
   "source": [
    "import time\n",
    "\n",
    "print(time.time())\n",
    "print(time.ctime())\n",
    "\n",
    "print(time.ctime(0))\n",
    "print(time.ctime(1682597873))\n",
    "\n",
    "print(time.ctime(1682597988))"
   ]
  },
  {
   "attachments": {},
   "cell_type": "markdown",
   "metadata": {},
   "source": [
    "### Exercise \n",
    "\n",
    "Count the number of seconds needed to consume an API (any API, but we used the facts-api)\n",
    "\n",
    "Get your API-key at https://rapidapi.com/apininjas/api/facts-by-api-ninjas/"
   ]
  },
  {
   "cell_type": "code",
   "execution_count": null,
   "metadata": {},
   "outputs": [],
   "source": [
    "# https://api.api-ninjas.com/v1/facts\n",
    "\n",
    "import requests\n",
    "import time\n",
    "\n",
    "url = \"https://facts-by-api-ninjas.p.rapidapi.com/v1/facts\"\n",
    "\n",
    "headers = {\n",
    "\t\"content-type\": \"application/octet-stream\",\n",
    "\t\"X-RapidAPI-Key\": \"your key\",\n",
    "\t\"X-RapidAPI-Host\": \"facts-by-api-ninjas.p.rapidapi.com\"\n",
    "}\n",
    "\n",
    "start = time.time()\n",
    "\n",
    "response = requests.get(url, headers=headers)\n",
    "\n",
    "print(response.json()[0][\"fact\"])\n",
    "\n",
    "stop = time.time()\n",
    "seconds = stop-start\n",
    "\n",
    "print(\"It took\",seconds,\"seconds to run this script!\")"
   ]
  },
  {
   "attachments": {},
   "cell_type": "markdown",
   "metadata": {},
   "source": [
    "### Go to bed ;) sleep for a second"
   ]
  },
  {
   "cell_type": "code",
   "execution_count": null,
   "metadata": {},
   "outputs": [],
   "source": [
    "# ! pip install pygame\n",
    "\n",
    "import time, winsound, pygame\n",
    "\n",
    "for i in range(0,5):\n",
    "    winsound.Beep(500, 300)\n",
    "    time.sleep(1)\n",
    "\n",
    "pygame.mixer.init()\n",
    "pygame.mixer.music.load(\"explosion.mp3\")\n",
    "pygame.mixer.music.play()\n",
    "while pygame.mixer.music.get_busy() == True:\n",
    "    continue"
   ]
  },
  {
   "attachments": {},
   "cell_type": "markdown",
   "metadata": {},
   "source": [
    "### Work with date-formats"
   ]
  },
  {
   "cell_type": "code",
   "execution_count": null,
   "metadata": {},
   "outputs": [],
   "source": [
    "import datetime as dt\n",
    "\n",
    "print(dt.datetime.now())\n",
    "date = dt.datetime(2000, 5, 10, 0,0,0)\n",
    "print(date)\n",
    "\n",
    "print(date.strftime(\"%d %B %y\"))\n",
    "print(date.strftime(\"day %j of %Y\"))\n",
    "\n",
    "date += dt.timedelta(days=1000)\n",
    "print(date.strftime(\"%d %B %y\"))\n"
   ]
  },
  {
   "attachments": {},
   "cell_type": "markdown",
   "metadata": {},
   "source": [
    "## Multithreading\n",
    "\n",
    "Python default programs run always as a single-threaded process, so it can only execute one thing at the same time! A multithreaded program can execute multiple things"
   ]
  },
  {
   "cell_type": "code",
   "execution_count": null,
   "metadata": {},
   "outputs": [],
   "source": [
    "import time\n",
    "\n",
    "def sleep():\n",
    "    time.sleep(5)\n",
    "    print(\"Wake up!\")\n",
    "\n",
    "def multiplication(number):\n",
    "    for i in range(0,10):\n",
    "        print(i,\"* number =\",i*number)"
   ]
  },
  {
   "cell_type": "code",
   "execution_count": null,
   "metadata": {},
   "outputs": [],
   "source": [
    "# single threading\n",
    "\n",
    "print(\"START\")\n",
    "sleep()\n",
    "multiplication(5)\n",
    "print(\"STOP\")"
   ]
  },
  {
   "cell_type": "code",
   "execution_count": null,
   "metadata": {},
   "outputs": [],
   "source": [
    "# multi threading\n",
    "\n",
    "import threading\n",
    "\n",
    "thread_sleep = threading.Thread(target=sleep)\n",
    "thread_multi = threading.Thread(target=multiplication(5))\n",
    "\n",
    "print(\"START\")\n",
    "thread_sleep.start()\n",
    "thread_multi.start()\n",
    "print(\"STOP\")"
   ]
  },
  {
   "attachments": {},
   "cell_type": "markdown",
   "metadata": {},
   "source": [
    "### Exercise \n",
    "Write a program that performs the following steps:\n",
    "\n",
    "Create two functions function1() and function2().\n",
    "- function1() should print the numbers 1 to 10, with a delay of 0.5 seconds between each number.\n",
    "- function2() should print the letters 'A' to 'J', with a delay of 0.5 seconds between each letter.\n",
    "- Create two threads, one for each function, and start them simultaneously.\n",
    "- Wait for both threads to finish before exiting the program."
   ]
  },
  {
   "cell_type": "code",
   "execution_count": null,
   "metadata": {},
   "outputs": [],
   "source": [
    "import time, threading\n",
    "\n",
    "def function1():\n",
    "    for i in range(1,11):\n",
    "        print(i,end=\" \")\n",
    "        time.sleep(0.5)\n",
    "\n",
    "def function2():\n",
    "    for c in \"ABCDEFGHIJ\":\n",
    "        print(c, end=\" \")\n",
    "        time.sleep(0.5)\n",
    "\n",
    "\n",
    "thread_1 = threading.Thread(target=function1)\n",
    "thread_2 = threading.Thread(target=function2)\n",
    "\n",
    "print(\"START\")\n",
    "thread_1.start()\n",
    "thread_2.start()\n",
    "\n",
    "thread_1.join()\n",
    "thread_2.join()\n",
    "\n",
    "print(\"STOP\")\n"
   ]
  },
  {
   "attachments": {},
   "cell_type": "markdown",
   "metadata": {},
   "source": [
    "## Launching programs"
   ]
  },
  {
   "cell_type": "code",
   "execution_count": null,
   "metadata": {},
   "outputs": [],
   "source": [
    "import subprocess\n",
    "\n",
    "subprocess.Popen(\"calc.exe\")\n",
    "subprocess.Popen(r\"C:\\Program Files\\Microsoft Office\\root\\Office16\\WINWORD.exe\")"
   ]
  },
  {
   "cell_type": "code",
   "execution_count": null,
   "metadata": {},
   "outputs": [],
   "source": [
    "import subprocess\n",
    "\n",
    "paint = subprocess.Popen(\"mspaint.exe\")\n",
    "print(paint.poll())\n",
    "paint.wait()"
   ]
  },
  {
   "attachments": {},
   "cell_type": "markdown",
   "metadata": {},
   "source": [
    "### Launching a file in its default application\n",
    "\n",
    "open --> macOS<br>\n",
    "start --> windows<br>\n",
    "see --> linux"
   ]
  },
  {
   "cell_type": "code",
   "execution_count": null,
   "metadata": {},
   "outputs": [],
   "source": [
    "import subprocess\n",
    "\n",
    "file = open(\"file.txt\",\"w\")\n",
    "file.write(\"Hello world\")\n",
    "file.close()\n",
    "\n",
    "subprocess.Popen(['start','file.txt'], shell=True)"
   ]
  },
  {
   "cell_type": "code",
   "execution_count": null,
   "metadata": {},
   "outputs": [],
   "source": [
    "import subprocess\n",
    "\n",
    "subprocess.Popen(['start','https://google.be'], shell=True)\n",
    "\n",
    "subprocess.Popen(['start', 'explosion.mp3'], shell=True)"
   ]
  },
  {
   "cell_type": "code",
   "execution_count": null,
   "metadata": {},
   "outputs": [],
   "source": [
    "import webbrowser\n",
    "\n",
    "webbrowser.open('https://google.be')"
   ]
  },
  {
   "attachments": {},
   "cell_type": "markdown",
   "metadata": {},
   "source": [
    "## Exercise on multithreading & webscraping\n",
    "Create a Python program that uses web scraping to collect data from the Ultratop website (https://www.ultratop.be/nl/annual.asp?year=\"2022\"). The year parameter can vary between 2000 and 2022. Your program should retrieve the charts for each year and store them in text files.\n",
    "\n",
    "To speed up the web scraping process, implement multi-threading in your program. Each thread should retrieve the charts for a specific year and store them in a separate text file.\n",
    "\n",
    "Make sure to handle any errors that may occur during the web scraping process and include error handling in your program."
   ]
  },
  {
   "cell_type": "code",
   "execution_count": 82,
   "metadata": {},
   "outputs": [],
   "source": [
    "import requests\n",
    "from bs4 import BeautifulSoup\n",
    "import threading\n",
    "import subprocess\n",
    "\n",
    "def scrape(year):\n",
    "    url = \"https://www.ultratop.be/nl/annual.asp?year=\"+str(year)\n",
    "\n",
    "    response = requests.get(url)\n",
    "    soup = BeautifulSoup(response.text)\n",
    "\n",
    "    div_tags = soup.find_all('div',{'class':'chart_title'})\n",
    "\n",
    "    file = open(\"files/charts_\" + str(year)+\".txt\",\"w\", encoding=\"utf-8\")\n",
    "    for tag in div_tags:\n",
    "        file.write(tag.get_text().strip())\n",
    "    file.close\n",
    "\n",
    "\n",
    "start = int(input(\"Start year\"))\n",
    "end = int(input(\"End year\"))\n",
    "\n",
    "for year in range(start,end+1):\n",
    "    thread = threading.Thread(target=scrape(year))\n",
    "    thread.start()\n",
    "\n",
    "\n",
    "scrape(1999)"
   ]
  }
 ],
 "metadata": {
  "kernelspec": {
   "display_name": "Python 3",
   "language": "python",
   "name": "python3"
  },
  "language_info": {
   "codemirror_mode": {
    "name": "ipython",
    "version": 3
   },
   "file_extension": ".py",
   "mimetype": "text/x-python",
   "name": "python",
   "nbconvert_exporter": "python",
   "pygments_lexer": "ipython3",
   "version": "3.7.4"
  },
  "orig_nbformat": 4
 },
 "nbformat": 4,
 "nbformat_minor": 2
}
