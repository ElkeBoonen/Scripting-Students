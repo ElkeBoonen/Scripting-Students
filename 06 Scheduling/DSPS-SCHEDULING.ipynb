{
 "cells": [
  {
   "attachments": {},
   "cell_type": "markdown",
   "metadata": {},
   "source": [
    "# Scheduling - lesson 8 - 27/04\n",
    "\n",
    "- time module\n",
    "- multithreading\n",
    "- opening things ;)\n",
    "\n",
    "## Time module\n",
    "\n",
    "converter online: https://www.epochconverter.com/"
   ]
  },
  {
   "cell_type": "code",
   "execution_count": 7,
   "metadata": {},
   "outputs": [
    {
     "name": "stdout",
     "output_type": "stream",
     "text": [
      "1682598004.0400767\n",
      "Thu Apr 27 14:20:04 2023\n",
      "Thu Jan  1 01:00:00 1970\n",
      "Thu Apr 27 14:17:53 2023\n",
      "Thu Apr 27 14:19:48 2023\n"
     ]
    }
   ],
   "source": [
    "import time\n",
    "\n",
    "print(time.time())\n",
    "print(time.ctime())\n",
    "\n",
    "print(time.ctime(0))\n",
    "print(time.ctime(1682597873))\n",
    "\n",
    "print(time.ctime(1682597988))"
   ]
  },
  {
   "attachments": {},
   "cell_type": "markdown",
   "metadata": {},
   "source": [
    "Get your API-key at https://rapidapi.com/apininjas/api/facts-by-api-ninjas/"
   ]
  },
  {
   "cell_type": "code",
   "execution_count": 17,
   "metadata": {},
   "outputs": [
    {
     "name": "stdout",
     "output_type": "stream",
     "text": [
      "Wild Flamingos are pink because they consume vast quantities of algae and brine shrimp\n",
      "It took 0.2984280586242676 seconds to run this script!\n"
     ]
    }
   ],
   "source": [
    "# https://api.api-ninjas.com/v1/facts\n",
    "\n",
    "import requests\n",
    "import time\n",
    "\n",
    "url = \"https://facts-by-api-ninjas.p.rapidapi.com/v1/facts\"\n",
    "\n",
    "headers = {\n",
    "\t\"content-type\": \"application/octet-stream\",\n",
    "\t\"X-RapidAPI-Key\": \"your key\",\n",
    "\t\"X-RapidAPI-Host\": \"facts-by-api-ninjas.p.rapidapi.com\"\n",
    "}\n",
    "\n",
    "start = time.time()\n",
    "\n",
    "response = requests.get(url, headers=headers)\n",
    "\n",
    "print(response.json()[0][\"fact\"])\n",
    "\n",
    "stop = time.time()\n",
    "seconds = stop-start\n",
    "\n",
    "print(\"It took\",seconds,\"seconds to run this script!\")\n",
    "\n"
   ]
  },
  {
   "cell_type": "code",
   "execution_count": 23,
   "metadata": {},
   "outputs": [],
   "source": [
    "import time, winsound\n",
    "\n",
    "for i in range(0,5):\n",
    "    winsound.Beep(500, 300)\n",
    "    time.sleep(1)\n",
    "\n"
   ]
  }
 ],
 "metadata": {
  "kernelspec": {
   "display_name": "Python 3",
   "language": "python",
   "name": "python3"
  },
  "language_info": {
   "codemirror_mode": {
    "name": "ipython",
    "version": 3
   },
   "file_extension": ".py",
   "mimetype": "text/x-python",
   "name": "python",
   "nbconvert_exporter": "python",
   "pygments_lexer": "ipython3",
   "version": "3.7.4"
  },
  "orig_nbformat": 4
 },
 "nbformat": 4,
 "nbformat_minor": 2
}
