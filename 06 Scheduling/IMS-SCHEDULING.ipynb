{
 "cells": [
  {
   "attachments": {},
   "cell_type": "markdown",
   "metadata": {},
   "source": [
    "# Scheduling - les 8 - 17/04\n",
    "\n",
    "- time-module\n",
    "- multi threading\n",
    "- open toestanden ;)\n",
    "\n",
    "## Time module\n",
    "\n",
    "Unix epoch time opvragen time.time() --> seconden tellen sinds 1 jan 1970, handig voor het meten van aantal seconden die nodig zijn om een stukje code uit te voeren! (zie Tokyo oefening)\n",
    "\n",
    "Code stilleggen met time.sleep()\n",
    "\n",
    "Werken met module DateTime!"
   ]
  },
  {
   "cell_type": "code",
   "execution_count": 17,
   "metadata": {},
   "outputs": [
    {
     "name": "stdout",
     "output_type": "stream",
     "text": [
      "1681719517.0897334\n",
      "Mon Apr 17 10:18:37 2023\n",
      "Fri Jan  2 04:46:40 1970\n",
      "Mon Apr 17 10:18:37 2023\n"
     ]
    }
   ],
   "source": [
    "import time\n",
    "\n",
    "print(time.time())\n",
    "print(time.ctime())\n",
    "print(time.ctime(100000))\n",
    "print(time.ctime(time.time()))"
   ]
  },
  {
   "cell_type": "code",
   "execution_count": 2,
   "metadata": {},
   "outputs": [
    {
     "name": "stdout",
     "output_type": "stream",
     "text": [
      "2023-04-17 17:29:33.139170+09:00\n",
      "Het duurt 2.1296608448028564 seconden om de tijd in Tokyo op te vragen\n"
     ]
    }
   ],
   "source": [
    "# Tijd in Tokyo opvragen en nachecken hoe lang dat dat duurt\n",
    "\n",
    "import time\n",
    "import requests\n",
    "\n",
    "start = time.time()\n",
    "url = \"https://worldtimeapi.org/api/timezone/Asia/Tokyo\"\n",
    "response = requests.request(\"GET\", url)\n",
    "# response = requests.get(url)\n",
    "\n",
    "tokyo_tijd = response.json()[\"datetime\"].replace(\"T\",\" \")\n",
    "print(tokyo_tijd)\n",
    "\n",
    "stop = time.time()\n",
    "\n",
    "print(\"Het duurt\", stop-start, \"seconden om de tijd in Tokyo op te vragen\")"
   ]
  },
  {
   "cell_type": "code",
   "execution_count": 5,
   "metadata": {},
   "outputs": [
    {
     "name": "stdout",
     "output_type": "stream",
     "text": [
      "tik tak\n",
      "tik tak\n",
      "tik tak\n",
      "tik tak\n"
     ]
    }
   ],
   "source": [
    "# een beetje gaan slapen\n",
    "\n",
    "import time\n",
    "\n",
    "for i in range(1,5):\n",
    "    print(\"tik\", end =\" \")\n",
    "    time.sleep(2)\n",
    "    print(\"tak\")\n",
    "    time.sleep(1)\n"
   ]
  },
  {
   "cell_type": "code",
   "execution_count": 25,
   "metadata": {},
   "outputs": [
    {
     "name": "stdout",
     "output_type": "stream",
     "text": [
      "2023-04-17 10:46:27.573898\n",
      "2000-01-01 12:00:00\n",
      "Sat Jan  1 12:00:00 2000\n",
      "1970-01-02 04:46:40\n",
      "17\n",
      "0\n",
      "1\n",
      "4\n",
      "2023-04-17 10:46:27.573898 na 1000 dagen 2026-01-11 10:46:27.573898\n",
      "2023-04-17 10:46:27.573898 na 10 weken 2023-06-26 10:46:27.573898\n",
      "06/26/23 06 23\n"
     ]
    }
   ],
   "source": [
    "import datetime as dt\n",
    "\n",
    "print(dt.datetime.now())\n",
    "print(dt.datetime(2000, 1, 1, 12, 0, 0))\n",
    "print(dt.datetime(2000, 1, 1, 12, 0, 0).ctime())\n",
    "\n",
    "print(dt.datetime.fromtimestamp(100000))\n",
    "\n",
    "print(dt.datetime.now().day)\n",
    "print(dt.datetime.now().weekday())\n",
    "print(dt.datetime.now().isoweekday())\n",
    "print(dt.datetime.now().month)\n",
    "\n",
    "nu = dt.datetime.now()\n",
    "nu += dt.timedelta(days=1000)\n",
    "print(dt.datetime.now(), \"na 1000 dagen\", nu)\n",
    "\n",
    "nu = dt.datetime.now()\n",
    "nu += dt.timedelta(weeks=10)\n",
    "print(dt.datetime.now(), \"na 10 weken\", nu)\n",
    "\n",
    "print(nu.strftime(\"%d %m %y\"))"
   ]
  },
  {
   "attachments": {},
   "cell_type": "markdown",
   "metadata": {},
   "source": [
    "### Oefening kookwekker\n",
    "\n",
    "Create your own kitchen timer, set a number of seconds, and trigger an alarm when we reach that time! (search for an alarm sound or download files for this lesson on canvas --> alarm.wav)"
   ]
  },
  {
   "cell_type": "code",
   "execution_count": 34,
   "metadata": {},
   "outputs": [
    {
     "name": "stdout",
     "output_type": "stream",
     "text": [
      "5 4 3 2 1 "
     ]
    }
   ],
   "source": [
    "import time\n",
    "import winsound\n",
    "\n",
    "seconden = input(\"Geef het aantal seconden in\")\n",
    "\n",
    "for i in range(int(seconden),0,-1):\n",
    "    print(i,end=\" \")\n",
    "    time.sleep(1)\n",
    "\n",
    "winsound.PlaySound(\"alarm.wav\", winsound.SND_FILENAME)\n",
    "# winsound.Beep(1000,500) --> beepje afspelen!"
   ]
  },
  {
   "attachments": {},
   "cell_type": "markdown",
   "metadata": {},
   "source": [
    "## Multithreading"
   ]
  }
 ],
 "metadata": {
  "kernelspec": {
   "display_name": "Python 3",
   "language": "python",
   "name": "python3"
  },
  "language_info": {
   "codemirror_mode": {
    "name": "ipython",
    "version": 3
   },
   "file_extension": ".py",
   "mimetype": "text/x-python",
   "name": "python",
   "nbconvert_exporter": "python",
   "pygments_lexer": "ipython3",
   "version": "3.7.4"
  },
  "orig_nbformat": 4
 },
 "nbformat": 4,
 "nbformat_minor": 2
}
