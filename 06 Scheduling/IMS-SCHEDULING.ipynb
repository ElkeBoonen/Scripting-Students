{
 "cells": [
  {
   "attachments": {},
   "cell_type": "markdown",
   "metadata": {},
   "source": [
    "# Scheduling - les 8 - 17/04\n",
    "\n",
    "- time-module\n",
    "- multi threading\n",
    "- open toestanden ;)\n",
    "\n",
    "## Time module\n",
    "\n",
    "Unix epoch time opvragen time.time() --> seconden tellen sinds 1 jan 1970, handig voor het meten van aantal seconden die nodig zijn om een stukje code uit te voeren! (zie Tokyo oefening)\n",
    "\n",
    "Code stilleggen met time.sleep()\n",
    "\n",
    "Werken met module DateTime!"
   ]
  },
  {
   "cell_type": "code",
   "execution_count": 17,
   "metadata": {},
   "outputs": [
    {
     "name": "stdout",
     "output_type": "stream",
     "text": [
      "1681719517.0897334\n",
      "Mon Apr 17 10:18:37 2023\n",
      "Fri Jan  2 04:46:40 1970\n",
      "Mon Apr 17 10:18:37 2023\n"
     ]
    }
   ],
   "source": [
    "import time\n",
    "\n",
    "print(time.time())\n",
    "print(time.ctime())\n",
    "print(time.ctime(100000))\n",
    "print(time.ctime(time.time()))"
   ]
  },
  {
   "cell_type": "code",
   "execution_count": 2,
   "metadata": {},
   "outputs": [
    {
     "name": "stdout",
     "output_type": "stream",
     "text": [
      "2023-04-17 17:29:33.139170+09:00\n",
      "Het duurt 2.1296608448028564 seconden om de tijd in Tokyo op te vragen\n"
     ]
    }
   ],
   "source": [
    "# Tijd in Tokyo opvragen en nachecken hoe lang dat dat duurt\n",
    "\n",
    "import time\n",
    "import requests\n",
    "\n",
    "start = time.time()\n",
    "url = \"https://worldtimeapi.org/api/timezone/Asia/Tokyo\"\n",
    "response = requests.request(\"GET\", url)\n",
    "# response = requests.get(url)\n",
    "\n",
    "tokyo_tijd = response.json()[\"datetime\"].replace(\"T\",\" \")\n",
    "print(tokyo_tijd)\n",
    "\n",
    "stop = time.time()\n",
    "\n",
    "print(\"Het duurt\", stop-start, \"seconden om de tijd in Tokyo op te vragen\")"
   ]
  },
  {
   "cell_type": "code",
   "execution_count": 5,
   "metadata": {},
   "outputs": [
    {
     "name": "stdout",
     "output_type": "stream",
     "text": [
      "tik tak\n",
      "tik tak\n",
      "tik tak\n",
      "tik tak\n"
     ]
    }
   ],
   "source": [
    "# een beetje gaan slapen\n",
    "\n",
    "import time\n",
    "\n",
    "for i in range(1,5):\n",
    "    print(\"tik\", end =\" \")\n",
    "    time.sleep(2)\n",
    "    print(\"tak\")\n",
    "    time.sleep(1)\n"
   ]
  },
  {
   "cell_type": "code",
   "execution_count": 25,
   "metadata": {},
   "outputs": [
    {
     "name": "stdout",
     "output_type": "stream",
     "text": [
      "2023-04-17 10:46:27.573898\n",
      "2000-01-01 12:00:00\n",
      "Sat Jan  1 12:00:00 2000\n",
      "1970-01-02 04:46:40\n",
      "17\n",
      "0\n",
      "1\n",
      "4\n",
      "2023-04-17 10:46:27.573898 na 1000 dagen 2026-01-11 10:46:27.573898\n",
      "2023-04-17 10:46:27.573898 na 10 weken 2023-06-26 10:46:27.573898\n",
      "06/26/23 06 23\n"
     ]
    }
   ],
   "source": [
    "import datetime as dt\n",
    "\n",
    "print(dt.datetime.now())\n",
    "print(dt.datetime(2000, 1, 1, 12, 0, 0))\n",
    "print(dt.datetime(2000, 1, 1, 12, 0, 0).ctime())\n",
    "\n",
    "print(dt.datetime.fromtimestamp(100000))\n",
    "\n",
    "print(dt.datetime.now().day)\n",
    "print(dt.datetime.now().weekday())\n",
    "print(dt.datetime.now().isoweekday())\n",
    "print(dt.datetime.now().month)\n",
    "\n",
    "nu = dt.datetime.now()\n",
    "nu += dt.timedelta(days=1000)\n",
    "print(dt.datetime.now(), \"na 1000 dagen\", nu)\n",
    "\n",
    "nu = dt.datetime.now()\n",
    "nu += dt.timedelta(weeks=10)\n",
    "print(dt.datetime.now(), \"na 10 weken\", nu)\n",
    "\n",
    "print(nu.strftime(\"%d %m %y\"))"
   ]
  },
  {
   "attachments": {},
   "cell_type": "markdown",
   "metadata": {},
   "source": [
    "### Oefening kookwekker\n",
    "\n",
    "Create your own kitchen timer, set a number of seconds, and trigger an alarm when we reach that time! (search for an alarm sound or download files for this lesson on canvas --> alarm.wav)"
   ]
  },
  {
   "cell_type": "code",
   "execution_count": 34,
   "metadata": {},
   "outputs": [
    {
     "name": "stdout",
     "output_type": "stream",
     "text": [
      "5 4 3 2 1 "
     ]
    }
   ],
   "source": [
    "import time\n",
    "import winsound\n",
    "\n",
    "seconden = input(\"Geef het aantal seconden in\")\n",
    "\n",
    "for i in range(int(seconden),0,-1):\n",
    "    print(i,end=\" \")\n",
    "    time.sleep(1)\n",
    "\n",
    "winsound.PlaySound(\"alarm.wav\", winsound.SND_FILENAME)\n",
    "# winsound.Beep(1000,500) --> beepje afspelen!"
   ]
  },
  {
   "attachments": {},
   "cell_type": "markdown",
   "metadata": {},
   "source": [
    "## Multithreading"
   ]
  },
  {
   "cell_type": "code",
   "execution_count": 37,
   "metadata": {},
   "outputs": [
    {
     "name": "stdout",
     "output_type": "stream",
     "text": [
      "START\n",
      "Time to sleep\n",
      "Wake up!\n",
      "STOP\n"
     ]
    }
   ],
   "source": [
    "# single threading\n",
    "\n",
    "import time\n",
    "\n",
    "def Sleep():\n",
    "    print(\"Time to sleep\")\n",
    "    time.sleep(5)\n",
    "    print(\"Wake up!\")\n",
    "\n",
    "print(\"START\")\n",
    "Sleep()\n",
    "print(\"STOP\")\n"
   ]
  },
  {
   "cell_type": "code",
   "execution_count": 38,
   "metadata": {},
   "outputs": [
    {
     "name": "stdout",
     "output_type": "stream",
     "text": [
      "START\n",
      "Time to sleep\n",
      "STOP\n"
     ]
    },
    {
     "name": "stdout",
     "output_type": "stream",
     "text": [
      "Wake up!\n"
     ]
    }
   ],
   "source": [
    "# multi threading\n",
    "\n",
    "import time, threading\n",
    "\n",
    "def Sleep():\n",
    "    print(\"Time to sleep\")\n",
    "    time.sleep(5)\n",
    "    print(\"Wake up!\")\n",
    "\n",
    "print(\"START\")\n",
    "thread = threading.Thread(target=Sleep)\n",
    "thread.start()\n",
    "print(\"STOP\")\n"
   ]
  },
  {
   "attachments": {},
   "cell_type": "markdown",
   "metadata": {},
   "source": [
    "### Oefening\n",
    "\n",
    "Write a program that performs the following steps:\n",
    "\n",
    "- Create two functions function1() and function2().\n",
    "    - function1() should print the numbers 1 to 10, with a delay of 0.5 seconds between each number.\n",
    "    - function2() should print the letters 'A' to 'J', with a delay of 0.5 seconds between each letter.\n",
    "- Create two threads, one for each function, and start them simultaneously.\n",
    "- Wait for both threads to finish before exiting the program."
   ]
  },
  {
   "cell_type": "code",
   "execution_count": 44,
   "metadata": {},
   "outputs": [
    {
     "name": "stdout",
     "output_type": "stream",
     "text": [
      "START\n",
      "1\n",
      "A\n",
      "2B\n",
      "\n",
      "C3\n",
      "\n",
      "D4\n",
      "\n",
      "5E\n",
      "\n",
      "6F\n",
      "\n",
      "G7\n",
      "\n",
      "H8\n",
      "\n",
      "9I\n",
      "\n",
      "J10\n",
      "\n",
      "STOP\n"
     ]
    }
   ],
   "source": [
    "import time, threading\n",
    "\n",
    "def function1():\n",
    "    for i in range(1,11):\n",
    "        print(i)\n",
    "        time.sleep(0.5)\n",
    "\n",
    "def function2():\n",
    "    for i in \"ABCDEFGHIJ\":\n",
    "        print(i)\n",
    "        time.sleep(0.5)\n",
    "\n",
    "print(\"START\")\n",
    "\n",
    "thread1 = threading.Thread(target=function1)\n",
    "thread2 = threading.Thread(target=function2)\n",
    "\n",
    "thread1.start()\n",
    "thread2.start()\n",
    "\n",
    "thread1.join()\n",
    "thread2.join()\n",
    "\n",
    "print(\"STOP\")"
   ]
  },
  {
   "attachments": {},
   "cell_type": "markdown",
   "metadata": {},
   "source": [
    "## Launching processen"
   ]
  },
  {
   "cell_type": "code",
   "execution_count": 49,
   "metadata": {},
   "outputs": [
    {
     "name": "stdout",
     "output_type": "stream",
     "text": [
      "None\n",
      "0\n",
      "stop\n"
     ]
    }
   ],
   "source": [
    "import subprocess\n",
    "\n",
    "subprocess.Popen(\"calc.exe\")\n",
    "\n",
    "paint = subprocess.Popen(\"mspaint.exe\")\n",
    "print(paint.poll())\n",
    "print(paint.wait())\n",
    "\n",
    "print(\"stop\")"
   ]
  },
  {
   "cell_type": "code",
   "execution_count": 58,
   "metadata": {},
   "outputs": [
    {
     "data": {
      "text/plain": [
       "<subprocess.Popen at 0x1d6d1356f08>"
      ]
     },
     "execution_count": 58,
     "metadata": {},
     "output_type": "execute_result"
    }
   ],
   "source": [
    "import subprocess\n",
    "\n",
    "subprocess.Popen(['start', 'test.txt'], shell=True) # op mac open ipv start\n",
    "\n",
    "subprocess.Popen(['start', 'alarm.wav'], shell=True) # op mac open ipv start\n",
    "\n",
    "subprocess.Popen(['start', 'olifant.jpg'], shell=True) # op mac open ipv start\n"
   ]
  },
  {
   "cell_type": "code",
   "execution_count": 60,
   "metadata": {},
   "outputs": [
    {
     "data": {
      "text/plain": [
       "True"
      ]
     },
     "execution_count": 60,
     "metadata": {},
     "output_type": "execute_result"
    }
   ],
   "source": [
    "import subprocess\n",
    "subprocess.Popen(['start', 'https://google.com'], shell=True) # op mac open ipv start\n",
    "\n",
    "import webbrowser\n",
    "webbrowser.open(\"https://google.com\")"
   ]
  },
  {
   "attachments": {},
   "cell_type": "markdown",
   "metadata": {},
   "source": [
    "## Oefening\n",
    "\n",
    "Create a Python program that uses web scraping to collect data from the Ultratop website (https://www.ultratop.be/nl/annual.asp?year=\"2022\"). The year parameter can vary between 2000 and 2022. Your program should retrieve the charts for each year and store them in text files.\n",
    "\n",
    "\n",
    "To speed up the web scraping process, implement multi-threading in your program. Each thread should retrieve the charts for a specific year and store them in a separate text file.\n",
    "\n",
    "\n",
    "Make sure to handle any errors that may occur during the web scraping process and include error handling in your program."
   ]
  },
  {
   "cell_type": "code",
   "execution_count": 8,
   "metadata": {},
   "outputs": [
    {
     "name": "stdout",
     "output_type": "stream",
     "text": [
      "2000 file gemaakt\n",
      "2001 file gemaakt\n",
      "2002 file gemaakt\n",
      "2003 file gemaakt\n",
      "2004 file gemaakt\n",
      "2005 file gemaakt\n",
      "2006 file gemaakt\n",
      "2007 file gemaakt\n",
      "2008 file gemaakt\n",
      "2009 file gemaakt\n",
      "2010 file gemaakt\n",
      "2011 file gemaakt\n",
      "2012 file gemaakt\n",
      "2013 file gemaakt\n",
      "2014 file gemaakt\n",
      "2015 file gemaakt\n",
      "2016 file gemaakt\n",
      "2017 file gemaakt\n",
      "2018 file gemaakt\n",
      "2019 file gemaakt\n",
      "2020 file gemaakt\n",
      "2021 file gemaakt\n"
     ]
    }
   ],
   "source": [
    "import requests\n",
    "from bs4 import BeautifulSoup\n",
    "import threading\n",
    "\n",
    "def ScrapeUltraTop(year):\n",
    "\n",
    "    url = \"https://www.ultratop.be/nl/annual.asp?year=\"+str(year)\n",
    "\n",
    "    response = requests.get(url)\n",
    "    soup = BeautifulSoup(response.text)\n",
    "\n",
    "    file = open(\"files/\"+str(year)+\".txt\",\"w\", encoding=\"utf-16\")\n",
    "    try:\n",
    "        for chart_title in soup.find_all('div',{'class':'chart_title'}):\n",
    "            file.write(chart_title.a.get_text().strip().replace(\"\\n\",\" \")+\"\\n\")\n",
    "    except:\n",
    "        print(\"foutje bij jaartal\", str(year))\n",
    "    finally:\n",
    "        print(year,\"file gemaakt\")\n",
    "        file.close()\n",
    "\n",
    "threadlist = []\n",
    "for i in range(2000,2022):\n",
    "    threadlist.append(threading.Thread(target=ScrapeUltraTop(i)))\n",
    "\n",
    "for i in threadlist:\n",
    "    i.start()\n",
    "\n",
    "# of \n",
    "# for i in range(2000,2022):\n",
    "#    thread = threading.Thread(target=ScrapeUltraTop(i))\n",
    "#    thread.start()"
   ]
  },
  {
   "cell_type": "markdown",
   "metadata": {},
   "source": []
  }
 ],
 "metadata": {
  "kernelspec": {
   "display_name": "Python 3",
   "language": "python",
   "name": "python3"
  },
  "language_info": {
   "codemirror_mode": {
    "name": "ipython",
    "version": 3
   },
   "file_extension": ".py",
   "mimetype": "text/x-python",
   "name": "python",
   "nbconvert_exporter": "python",
   "pygments_lexer": "ipython3",
   "version": "3.7.4"
  },
  "orig_nbformat": 4
 },
 "nbformat": 4,
 "nbformat_minor": 2
}
