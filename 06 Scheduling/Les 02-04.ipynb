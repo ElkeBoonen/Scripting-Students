{
 "cells": [
  {
   "cell_type": "markdown",
   "metadata": {},
   "source": [
    "# Les 8: 02/04 - Scheduling\n",
    "\n",
    "## Herhalingsoefening\n",
    "Maak een excel overzicht van alle boeken op deze pagina \n",
    "\n",
    "https://books.toscrape.com\n",
    "\n",
    "```\n",
    "<article class=\"product_pod\">\n",
    "    <h3><a href=\"black-dust_976/index.html\" title=\"Black Dust\">Black Dust</a></h3>\n",
    "    <div class=\"product_price\"><p class=\"price_color\">£34.53</p>\n",
    "``` \n",
    "         "
   ]
  },
  {
   "cell_type": "code",
   "execution_count": 72,
   "metadata": {},
   "outputs": [
    {
     "name": "stdout",
     "output_type": "stream",
     "text": [
      "Scraping books from page 1 --> 0.9540467262268066 seconden\n",
      "Scraping books from page 2 --> 0.6765859127044678 seconden\n",
      "Scraping books from page 3 --> 0.6542208194732666 seconden\n",
      "Scraping books from page 4 --> 0.674429178237915 seconden\n",
      "Scraping books from page 5 --> 0.6462368965148926 seconden\n",
      "Scraping books from page 6 --> 0.7076473236083984 seconden\n",
      "Scraping books from page 7 --> 0.6362152099609375 seconden\n",
      "Scraping books from page 8 --> 0.7013304233551025 seconden\n",
      "Scraping books from page 9 --> 0.6963019371032715 seconden\n",
      "Scraping books from page 10 --> 0.6874573230743408 seconden\n",
      "Scraping books from page 11 --> 0.681342363357544 seconden\n",
      "Scraping books from page 12 --> 0.9621405601501465 seconden\n",
      "Scraping books from page 13 --> 0.685833215713501 seconden\n",
      "Scraping books from page 14 --> 0.7864325046539307 seconden\n",
      "Scraping books from page 15 --> 0.7727742195129395 seconden\n",
      "Scraping books from page 16 --> 0.7776284217834473 seconden\n",
      "Scraping books from page 17 --> 0.7349858283996582 seconden\n",
      "Scraping books from page 18 --> 0.7822308540344238 seconden\n",
      "Scraping books from page 19 --> 0.7087640762329102 seconden\n",
      "Scraping books from page 20 --> 0.7463881969451904 seconden\n",
      "Scraping books from page 21 --> 0.7607126235961914 seconden\n",
      "Scraping books from page 22 --> 0.7369046211242676 seconden\n",
      "Scraping books from page 23 --> 0.7142353057861328 seconden\n",
      "Scraping books from page 24 --> 0.7742857933044434 seconden\n",
      "Scraping books from page 25 --> 0.7622549533843994 seconden\n",
      "Scraping books from page 26 --> 0.7740890979766846 seconden\n",
      "Scraping books from page 27 --> 1.1737101078033447 seconden\n",
      "Scraping books from page 28 --> 0.8929295539855957 seconden\n",
      "Scraping books from page 29 --> 0.8713283538818359 seconden\n",
      "Scraping books from page 30 --> 0.8406496047973633 seconden\n",
      "Scraping books from page 31 --> 0.869271993637085 seconden\n",
      "Scraping books from page 32 --> 0.7975387573242188 seconden\n",
      "Scraping books from page 33 --> 0.8447153568267822 seconden\n",
      "Scraping books from page 34 --> 1.0524673461914062 seconden\n",
      "Scraping books from page 35 --> 1.019986629486084 seconden\n",
      "Scraping books from page 36 --> 1.0066769123077393 seconden\n",
      "Scraping books from page 37 --> 1.3766627311706543 seconden\n",
      "Scraping books from page 38 --> 0.9264695644378662 seconden\n",
      "Scraping books from page 39 --> 0.9375026226043701 seconden\n",
      "Scraping books from page 40 --> 0.9707245826721191 seconden\n",
      "Scraping books from page 41 --> 0.9818570613861084 seconden\n",
      "Scraping books from page 42 --> 0.9617040157318115 seconden\n",
      "Scraping books from page 43 --> 0.9790463447570801 seconden\n",
      "Scraping books from page 44 --> 1.0328106880187988 seconden\n",
      "Scraping books from page 45 --> 1.0183932781219482 seconden\n",
      "Scraping books from page 46 --> 0.8883593082427979 seconden\n",
      "Scraping books from page 47 --> 1.106092929840088 seconden\n",
      "Scraping books from page 48 --> 0.8056318759918213 seconden\n",
      "Scraping books from page 49 --> 0.8725645542144775 seconden\n",
      "Scraping books from page 50 --> 1.7972123622894287 seconden\n",
      "Scrapen van alle boeken = 1.7972123622894287 seconden\n",
      "<bound method NDFrame.head of                                 Title  Price\n",
      "0                  A Light in the ...  51.77\n",
      "1                  Tipping the Velvet  53.74\n",
      "2                          Soumission  50.10\n",
      "3                       Sharp Objects  47.82\n",
      "4        Sapiens: A Brief History ...  54.23\n",
      "..                                ...    ...\n",
      "995  Alice in Wonderland (Alice's ...  55.53\n",
      "996    Ajin: Demi-Human, Volume 1 ...  57.06\n",
      "997         A Spy's Devotion (The ...  16.97\n",
      "998           1st to Die (Women's ...  53.98\n",
      "999           1,000 Places to See ...  26.08\n",
      "\n",
      "[1000 rows x 2 columns]>\n"
     ]
    }
   ],
   "source": [
    "import requests\n",
    "from bs4 import BeautifulSoup\n",
    "import pandas as pd\n",
    "import webbrowser\n",
    "\n",
    "import time\n",
    "\n",
    "url = \"https://books.toscrape.com/catalogue/page-\"\n",
    "index = 0\n",
    "books = pd.DataFrame(columns=[\"Title\",\"Price\"])\n",
    "\n",
    "for page in range(1,51):\n",
    "    start = time.time()\n",
    "\n",
    "    response = requests.get(url + str(page)+ \".html\")\n",
    "    webbrowser.open(url + str(page)+ \".html\")\n",
    "\n",
    "    soup = BeautifulSoup(response.text)\n",
    "\n",
    "    products = soup.find_all(\"article\",{\"class\":\"product_pod\"})\n",
    "\n",
    "    for book in products:\n",
    "        title = book.h3.text\n",
    "        price = book.find(\"p\",{\"class\":\"price_color\"}).get_text()[2:]\n",
    "        books.loc[index] = [title, price]\n",
    "        index += 1\n",
    "    stop = time.time()\n",
    "    print(\"Scraping books from page\",page,\"-->\", stop-start,\"seconden\")\n",
    "\n",
    "\n",
    "\n",
    "books.to_excel(\"books.xlsx\")\n",
    "\n",
    "print(\"Scrapen van alle boeken =\", stop-start, \"seconden\")\n",
    "\n",
    "print(books.head)\n",
    "\n",
    "    "
   ]
  },
  {
   "cell_type": "markdown",
   "metadata": {},
   "source": [
    "## Time module\n",
    "https://www.epochconverter.com/\n",
    "\n",
    "https://docs.python.org/3/library/datetime.html "
   ]
  },
  {
   "cell_type": "code",
   "execution_count": 35,
   "metadata": {},
   "outputs": [
    {
     "name": "stdout",
     "output_type": "stream",
     "text": [
      "1743583604.7623825\n",
      "Wed Apr  2 10:46:44 2025\n",
      "-162.1685769557953\n",
      "86608.76370215416\n"
     ]
    }
   ],
   "source": [
    "import time\n",
    "\n",
    "print(time.time())\n",
    "print(time.ctime())\n",
    "\n",
    "seconden = 1743583442.5938056 - time.time()\n",
    "print(seconden)\n",
    "\n",
    "seconden = time.time() - 1743496996 # (is 1 april)\n",
    "print(seconden)"
   ]
  },
  {
   "cell_type": "code",
   "execution_count": 39,
   "metadata": {},
   "outputs": [
    {
     "name": "stdout",
     "output_type": "stream",
     "text": [
      "tik\n",
      "tak\n",
      "tik\n",
      "tak\n",
      "tik\n",
      "tak\n",
      "tik\n",
      "tak\n",
      "tik\n",
      "tak\n",
      "tik\n",
      "tak\n",
      "tik\n",
      "tak\n",
      "tik\n",
      "tak\n",
      "tik\n",
      "tak\n",
      "tik\n",
      "tak\n"
     ]
    }
   ],
   "source": [
    "import time\n",
    "\n",
    "for i in range(10):\n",
    "    print(\"tik\")\n",
    "    time.sleep(1)\n",
    "    print(\"tak\")\n",
    "    time.sleep(1)"
   ]
  },
  {
   "cell_type": "code",
   "execution_count": 56,
   "metadata": {},
   "outputs": [
    {
     "name": "stdout",
     "output_type": "stream",
     "text": [
      "2025-04-02 11:03:23.231549\n",
      "11\n",
      "3\n",
      "1970-01-01 01:00:00\n",
      "2025-04-01 10:43:16\n",
      "2025-07-11 11:03:23.232557\n",
      "2025-04-02 11:05:03.232557\n",
      "4\n",
      "02-04-25\n",
      "02-04-2025\n",
      "02 April 25\n",
      "Wednesday\n"
     ]
    }
   ],
   "source": [
    "import datetime as dt\n",
    "\n",
    "print(dt.datetime.now())\n",
    "\n",
    "now = dt.datetime.now()\n",
    "print(now.hour)\n",
    "print(now.isoweekday())\n",
    "\n",
    "print(dt.datetime.fromtimestamp(0))\n",
    "print(dt.datetime.fromtimestamp(1743496996))\n",
    "\n",
    "over100dagen = now + dt.timedelta(days=100)\n",
    "print(over100dagen)\n",
    "over100seconden = now + dt.timedelta(seconds=100)\n",
    "print(over100seconden)\n",
    "\n",
    "print(now.month)\n",
    "print(now.strftime(\"%d-%m-%y\"))\n",
    "print(now.strftime(\"%d-%m-%Y\"))\n",
    "print(now.strftime(\"%d %B %y\"))\n",
    "print(now.strftime(\"%A\"))"
   ]
  },
  {
   "cell_type": "markdown",
   "metadata": {},
   "source": [
    "## Keukenwekker"
   ]
  },
  {
   "cell_type": "code",
   "execution_count": 60,
   "metadata": {},
   "outputs": [],
   "source": [
    "import time\n",
    "import winsound\n",
    "\n",
    "for i in range(5):\n",
    "    winsound.Beep(300, 1000)\n",
    "    time.sleep(1)\n",
    "\n",
    "winsound.PlaySound(\"alarm.wav\",winsound.SND_FILENAME)\n"
   ]
  },
  {
   "cell_type": "markdown",
   "metadata": {},
   "source": [
    "## Multithreading\n",
    "\n",
    "Schrijf een programma dat de volgende stappen uitvoert:\n",
    "\n",
    "- Maak twee functies function1() en function2().\n",
    "   - function1() moet de getallen 1 tot en met 10 afdrukken, met een vertraging van 0,5 seconde tussen elk getal.\n",
    "   - function2() moet de letters 'A' tot en met 'J' afdrukken, met een vertraging van 0,5 seconde tussen elke letter.\n",
    "- Maak twee threads, één voor elke functie, en start ze tegelijkertijd.\n",
    "- Wacht tot beide threads klaar zijn voordat u het programma verlaat."
   ]
  },
  {
   "cell_type": "code",
   "execution_count": 66,
   "metadata": {},
   "outputs": [
    {
     "name": "stdout",
     "output_type": "stream",
     "text": [
      "single start\n",
      "0 1 2 3 4 5 6 7 8 9 A B C D E F J \n",
      "single stop\n",
      "multi start\n",
      "0 A \n",
      "multi stop\n"
     ]
    },
    {
     "name": "stdout",
     "output_type": "stream",
     "text": [
      "1B  C2  3 D 4 E 5 F 6 J 7 8 9 "
     ]
    }
   ],
   "source": [
    "import time\n",
    "import threading\n",
    "\n",
    "def f1():\n",
    "    for i in range(10):\n",
    "        print(i, end=\" \")\n",
    "        time.sleep(0.5)\n",
    "\n",
    "def f2():\n",
    "    for k in \"ABCDEFJ\":\n",
    "        print(k, end=\" \")\n",
    "        time.sleep(0.5)\n",
    "\n",
    "print(\"single start\")\n",
    "f1()\n",
    "f2()\n",
    "print(\"\\nsingle stop\")\n",
    "\n",
    "time.sleep(2)\n",
    "\n",
    "print(\"multi start\")\n",
    "thread1 = threading.Thread(target=f1)\n",
    "thread2 = threading.Thread(target=f2)\n",
    "thread1.start()\n",
    "thread2.start()\n",
    "print(\"\\nmulti stop\")\n",
    "\n"
   ]
  },
  {
   "cell_type": "markdown",
   "metadata": {},
   "source": [
    "## Subprocess\n",
    "\n",
    "--> openen van vanalles & nog wat!"
   ]
  },
  {
   "cell_type": "code",
   "execution_count": null,
   "metadata": {},
   "outputs": [
    {
     "data": {
      "text/plain": [
       "<Popen: returncode: None args: 'C:\\\\Program Files\\\\Microsoft Office\\\\root\\\\O...>"
      ]
     },
     "execution_count": 68,
     "metadata": {},
     "output_type": "execute_result"
    }
   ],
   "source": [
    "import subprocess\n",
    "\n",
    "subprocess.Popen(r\"C:\\Windows\\System32\\calc.exe\")\n",
    "\n",
    "subprocess.Popen(r\"C:\\Program Files\\Microsoft Office\\root\\Office16\\WINWORD.exe\")\n",
    "\n"
   ]
  },
  {
   "cell_type": "code",
   "execution_count": 69,
   "metadata": {},
   "outputs": [
    {
     "data": {
      "text/plain": [
       "<Popen: returncode: None args: ['start', 'hello.txt']>"
      ]
     },
     "execution_count": 69,
     "metadata": {},
     "output_type": "execute_result"
    }
   ],
   "source": [
    "import subprocess\n",
    "\n",
    "textfile = open(\"hello.txt\",\"w\")\n",
    "textfile.write(\"blablabla\")\n",
    "textfile.close()\n",
    "\n",
    "subprocess.Popen(['start',\"hello.txt\"], shell=True)"
   ]
  },
  {
   "cell_type": "code",
   "execution_count": 71,
   "metadata": {},
   "outputs": [
    {
     "data": {
      "text/plain": [
       "True"
      ]
     },
     "execution_count": 71,
     "metadata": {},
     "output_type": "execute_result"
    }
   ],
   "source": [
    "import webbrowser\n",
    "\n",
    "webbrowser.open(\"https://google.com\")"
   ]
  },
  {
   "cell_type": "code",
   "execution_count": 70,
   "metadata": {},
   "outputs": [
    {
     "data": {
      "text/plain": [
       "<Popen: returncode: None args: ['start', 'https://google.com']>"
      ]
     },
     "execution_count": 70,
     "metadata": {},
     "output_type": "execute_result"
    }
   ],
   "source": [
    "import subprocess\n",
    "\n",
    "subprocess.Popen(['start','https://google.com'], shell=True)"
   ]
  },
  {
   "cell_type": "markdown",
   "metadata": {},
   "source": [
    "## Oefening\n",
    "\n",
    "Maak een Python-programma dat webscraping gebruikt om gegevens te verzamelen van de Ultratop-website (https://www.ultratop.be/nl/annual.asp?year=\"2022\"). De jaarparameter kan variëren tussen 1956 en 2024. Je programma moet de data voor elk jaar ophalen en opslaan in tekstbestanden.\n",
    "\n",
    "Om het webscrapingproces te versnellen, implementeer je multi-threading in uw programma. Elke thread moet  een specifiek jaar ophalen en opslaan in een apart tekstbestand.\n",
    "\n",
    "```<div class=\"chart_title\">```"
   ]
  },
  {
   "cell_type": "code",
   "execution_count": 95,
   "metadata": {},
   "outputs": [
    {
     "name": "stdout",
     "output_type": "stream",
     "text": [
      "https://nl.wikipedia.org/wiki/De_eindafrekening_2006\n",
      "https://nl.wikipedia.org/wiki/De_eindafrekening_2007\n",
      "https://nl.wikipedia.org/wiki/De_eindafrekening_2008\n",
      "https://nl.wikipedia.org/wiki/De_eindafrekening_2009\n",
      "https://nl.wikipedia.org/wiki/De_eindafrekening_2010\n",
      "https://nl.wikipedia.org/wiki/De_eindafrekening_2011\n",
      "https://nl.wikipedia.org/wiki/De_eindafrekening_2012\n",
      "https://nl.wikipedia.org/wiki/De_eindafrekening_2013\n",
      "https://nl.wikipedia.org/wiki/De_eindafrekening_2014\n",
      "https://nl.wikipedia.org/wiki/De_eindafrekening_2015\n"
     ]
    }
   ],
   "source": [
    "import requests\n",
    "from bs4 import BeautifulSoup\n",
    "import threading\n",
    "\n",
    "\n",
    "def download(year):\n",
    "    url = \"https://nl.wikipedia.org/wiki/De_eindafrekening_\"+year\n",
    "    print(url)\n",
    "    response = requests.get(url)\n",
    "    soup = BeautifulSoup(response.text)\n",
    "    table = soup.find(\"table\",{\"class\":\"wikitable\"})\n",
    "    file = open(\"hitlijsten/\"+ year+\".txt\",\"w\")\n",
    "    file.write(table.get_text())\n",
    "    file.close()\n",
    "\n",
    "\n",
    "for year in range(2006,2016):\n",
    "    #download(str(year))\n",
    "             \n",
    "    thread = threading.Thread(target=download(str(year)))\n",
    "    thread.start()\n",
    "\n"
   ]
  }
 ],
 "metadata": {
  "kernelspec": {
   "display_name": "Python 3",
   "language": "python",
   "name": "python3"
  },
  "language_info": {
   "codemirror_mode": {
    "name": "ipython",
    "version": 3
   },
   "file_extension": ".py",
   "mimetype": "text/x-python",
   "name": "python",
   "nbconvert_exporter": "python",
   "pygments_lexer": "ipython3",
   "version": "3.12.5"
  }
 },
 "nbformat": 4,
 "nbformat_minor": 2
}
