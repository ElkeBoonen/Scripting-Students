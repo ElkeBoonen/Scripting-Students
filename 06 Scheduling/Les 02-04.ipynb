{
 "cells": [
  {
   "cell_type": "markdown",
   "metadata": {},
   "source": [
    "# Les 8: 02/04 - Scheduling\n",
    "\n",
    "## Herhalingsoefening\n",
    "Maak een excel overzicht van alle boeken op deze pagina \n",
    "\n",
    "https://books.toscrape.com\n",
    "\n",
    "```\n",
    "<article class=\"product_pod\">\n",
    "    <h3><a href=\"black-dust_976/index.html\" title=\"Black Dust\">Black Dust</a></h3>\n",
    "    <div class=\"product_price\"><p class=\"price_color\">£34.53</p>\n",
    "``` \n",
    "         "
   ]
  },
  {
   "cell_type": "code",
   "execution_count": 37,
   "metadata": {},
   "outputs": [
    {
     "name": "stdout",
     "output_type": "stream",
     "text": [
      "Scraping books from page 1 --> 0.5602107048034668 seconden\n",
      "Scraping books from page 2 --> 0.5701799392700195 seconden\n",
      "Scraping books from page 3 --> 0.5674569606781006 seconden\n",
      "Scraping books from page 4 --> 0.9684972763061523 seconden\n",
      "Scraping books from page 5 --> 0.5469629764556885 seconden\n",
      "Scraping books from page 6 --> 0.5530591011047363 seconden\n",
      "Scraping books from page 7 --> 0.5417957305908203 seconden\n",
      "Scraping books from page 8 --> 0.5345914363861084 seconden\n",
      "Scraping books from page 9 --> 0.5654973983764648 seconden\n",
      "Scraping books from page 10 --> 0.5538806915283203 seconden\n",
      "Scraping books from page 11 --> 0.5453829765319824 seconden\n",
      "Scraping books from page 12 --> 0.5388078689575195 seconden\n",
      "Scraping books from page 13 --> 0.5476775169372559 seconden\n",
      "Scraping books from page 14 --> 0.5501515865325928 seconden\n",
      "Scraping books from page 15 --> 0.5459566116333008 seconden\n",
      "Scraping books from page 16 --> 0.5416164398193359 seconden\n",
      "Scraping books from page 17 --> 0.541384220123291 seconden\n",
      "Scraping books from page 18 --> 0.5378355979919434 seconden\n",
      "Scraping books from page 19 --> 0.5448853969573975 seconden\n",
      "Scraping books from page 20 --> 1.0122604370117188 seconden\n",
      "Scraping books from page 21 --> 0.5461630821228027 seconden\n",
      "Scraping books from page 22 --> 0.5463337898254395 seconden\n",
      "Scraping books from page 23 --> 0.5416476726531982 seconden\n",
      "Scraping books from page 24 --> 0.6624431610107422 seconden\n",
      "Scraping books from page 25 --> 0.535794734954834 seconden\n",
      "Scraping books from page 26 --> 0.5387322902679443 seconden\n",
      "Scraping books from page 27 --> 0.5353899002075195 seconden\n",
      "Scraping books from page 28 --> 0.5441102981567383 seconden\n",
      "Scraping books from page 29 --> 0.5445287227630615 seconden\n",
      "Scraping books from page 30 --> 0.5418858528137207 seconden\n",
      "Scraping books from page 31 --> 0.5452547073364258 seconden\n",
      "Scraping books from page 32 --> 0.539588451385498 seconden\n",
      "Scraping books from page 33 --> 0.5441575050354004 seconden\n",
      "Scraping books from page 34 --> 0.5496017932891846 seconden\n",
      "Scraping books from page 35 --> 0.5426568984985352 seconden\n",
      "Scraping books from page 36 --> 0.5369091033935547 seconden\n",
      "Scraping books from page 37 --> 0.5468225479125977 seconden\n",
      "Scraping books from page 38 --> 0.5480437278747559 seconden\n",
      "Scraping books from page 39 --> 0.5536999702453613 seconden\n",
      "Scraping books from page 40 --> 0.545243501663208 seconden\n",
      "Scraping books from page 41 --> 0.5433664321899414 seconden\n",
      "Scraping books from page 42 --> 1.0165178775787354 seconden\n",
      "Scraping books from page 43 --> 0.5507586002349854 seconden\n",
      "Scraping books from page 44 --> 0.536625862121582 seconden\n",
      "Scraping books from page 45 --> 0.5508558750152588 seconden\n",
      "Scraping books from page 46 --> 0.5639297962188721 seconden\n",
      "Scraping books from page 47 --> 0.5509448051452637 seconden\n",
      "Scraping books from page 48 --> 0.5501441955566406 seconden\n",
      "Scraping books from page 49 --> 0.6438255310058594 seconden\n",
      "Scraping books from page 50 --> 0.5525646209716797 seconden\n",
      "Scrapen van alle boeken = 0.5525646209716797 seconden\n",
      "<bound method NDFrame.head of                                 Title  Price\n",
      "0                  A Light in the ...  51.77\n",
      "1                  Tipping the Velvet  53.74\n",
      "2                          Soumission  50.10\n",
      "3                       Sharp Objects  47.82\n",
      "4        Sapiens: A Brief History ...  54.23\n",
      "..                                ...    ...\n",
      "995  Alice in Wonderland (Alice's ...  55.53\n",
      "996    Ajin: Demi-Human, Volume 1 ...  57.06\n",
      "997         A Spy's Devotion (The ...  16.97\n",
      "998           1st to Die (Women's ...  53.98\n",
      "999           1,000 Places to See ...  26.08\n",
      "\n",
      "[1000 rows x 2 columns]>\n"
     ]
    }
   ],
   "source": [
    "import requests\n",
    "from bs4 import BeautifulSoup\n",
    "import pandas as pd\n",
    "\n",
    "import time\n",
    "\n",
    "url = \"https://books.toscrape.com/catalogue/page-\"\n",
    "index = 0\n",
    "books = pd.DataFrame(columns=[\"Title\",\"Price\"])\n",
    "\n",
    "for page in range(1,51):\n",
    "    start = time.time()\n",
    "\n",
    "    response = requests.get(url + str(page)+ \".html\")\n",
    "    soup = BeautifulSoup(response.text)\n",
    "\n",
    "    products = soup.find_all(\"article\",{\"class\":\"product_pod\"})\n",
    "\n",
    "    for book in products:\n",
    "        title = book.h3.text\n",
    "        price = book.find(\"p\",{\"class\":\"price_color\"}).get_text()[2:]\n",
    "        books.loc[index] = [title, price]\n",
    "        index += 1\n",
    "    stop = time.time()\n",
    "    print(\"Scraping books from page\",page,\"-->\", stop-start,\"seconden\")\n",
    "\n",
    "\n",
    "\n",
    "books.to_excel(\"books.xlsx\")\n",
    "\n",
    "print(\"Scrapen van alle boeken =\", stop-start, \"seconden\")\n",
    "\n",
    "print(books.head)\n",
    "\n",
    "    "
   ]
  },
  {
   "cell_type": "markdown",
   "metadata": {},
   "source": [
    "## Time module\n",
    "https://www.epochconverter.com/\n",
    "\n",
    "https://docs.python.org/3/library/datetime.html "
   ]
  },
  {
   "cell_type": "code",
   "execution_count": 35,
   "metadata": {},
   "outputs": [
    {
     "name": "stdout",
     "output_type": "stream",
     "text": [
      "1743583604.7623825\n",
      "Wed Apr  2 10:46:44 2025\n",
      "-162.1685769557953\n",
      "86608.76370215416\n"
     ]
    }
   ],
   "source": [
    "import time\n",
    "\n",
    "print(time.time())\n",
    "print(time.ctime())\n",
    "\n",
    "seconden = 1743583442.5938056 - time.time()\n",
    "print(seconden)\n",
    "\n",
    "seconden = time.time() - 1743496996 # (is 1 april)\n",
    "print(seconden)"
   ]
  },
  {
   "cell_type": "code",
   "execution_count": 39,
   "metadata": {},
   "outputs": [
    {
     "name": "stdout",
     "output_type": "stream",
     "text": [
      "tik\n",
      "tak\n",
      "tik\n",
      "tak\n",
      "tik\n",
      "tak\n",
      "tik\n",
      "tak\n",
      "tik\n",
      "tak\n",
      "tik\n",
      "tak\n",
      "tik\n",
      "tak\n",
      "tik\n",
      "tak\n",
      "tik\n",
      "tak\n",
      "tik\n",
      "tak\n"
     ]
    }
   ],
   "source": [
    "import time\n",
    "\n",
    "for i in range(10):\n",
    "    print(\"tik\")\n",
    "    time.sleep(1)\n",
    "    print(\"tak\")\n",
    "    time.sleep(1)"
   ]
  },
  {
   "cell_type": "code",
   "execution_count": 56,
   "metadata": {},
   "outputs": [
    {
     "name": "stdout",
     "output_type": "stream",
     "text": [
      "2025-04-02 11:03:23.231549\n",
      "11\n",
      "3\n",
      "1970-01-01 01:00:00\n",
      "2025-04-01 10:43:16\n",
      "2025-07-11 11:03:23.232557\n",
      "2025-04-02 11:05:03.232557\n",
      "4\n",
      "02-04-25\n",
      "02-04-2025\n",
      "02 April 25\n",
      "Wednesday\n"
     ]
    }
   ],
   "source": [
    "import datetime as dt\n",
    "\n",
    "print(dt.datetime.now())\n",
    "\n",
    "now = dt.datetime.now()\n",
    "print(now.hour)\n",
    "print(now.isoweekday())\n",
    "\n",
    "print(dt.datetime.fromtimestamp(0))\n",
    "print(dt.datetime.fromtimestamp(1743496996))\n",
    "\n",
    "over100dagen = now + dt.timedelta(days=100)\n",
    "print(over100dagen)\n",
    "over100seconden = now + dt.timedelta(seconds=100)\n",
    "print(over100seconden)\n",
    "\n",
    "print(now.month)\n",
    "print(now.strftime(\"%d-%m-%y\"))\n",
    "print(now.strftime(\"%d-%m-%Y\"))\n",
    "print(now.strftime(\"%d %B %y\"))\n",
    "print(now.strftime(\"%A\"))"
   ]
  },
  {
   "cell_type": "markdown",
   "metadata": {},
   "source": [
    "## Keukenwekker"
   ]
  },
  {
   "cell_type": "code",
   "execution_count": 60,
   "metadata": {},
   "outputs": [],
   "source": [
    "import time\n",
    "import winsound\n",
    "\n",
    "for i in range(5):\n",
    "    winsound.Beep(300, 1000)\n",
    "    time.sleep(1)\n",
    "\n",
    "winsound.PlaySound(\"alarm.wav\",winsound.SND_FILENAME)\n"
   ]
  },
  {
   "cell_type": "markdown",
   "metadata": {},
   "source": [
    "## Multithreading\n",
    "\n",
    "Schrijf een programma dat de volgende stappen uitvoert:\n",
    "\n",
    "- Maak twee functies function1() en function2().\n",
    "   - function1() moet de getallen 1 tot en met 10 afdrukken, met een vertraging van 0,5 seconde tussen elk getal.\n",
    "   - function2() moet de letters 'A' tot en met 'J' afdrukken, met een vertraging van 0,5 seconde tussen elke letter.\n",
    "- Maak twee threads, één voor elke functie, en start ze tegelijkertijd.\n",
    "- Wacht tot beide threads klaar zijn voordat u het programma verlaat."
   ]
  },
  {
   "cell_type": "code",
   "execution_count": 66,
   "metadata": {},
   "outputs": [
    {
     "name": "stdout",
     "output_type": "stream",
     "text": [
      "single start\n",
      "0 1 2 3 4 5 6 7 8 9 A B C D E F J \n",
      "single stop\n",
      "multi start\n",
      "0 A \n",
      "multi stop\n"
     ]
    },
    {
     "name": "stdout",
     "output_type": "stream",
     "text": [
      "1B  C2  3 D 4 E 5 F 6 J 7 8 9 "
     ]
    }
   ],
   "source": [
    "import time\n",
    "import threading\n",
    "\n",
    "def f1():\n",
    "    for i in range(10):\n",
    "        print(i, end=\" \")\n",
    "        time.sleep(0.5)\n",
    "\n",
    "def f2():\n",
    "    for k in \"ABCDEFJ\":\n",
    "        print(k, end=\" \")\n",
    "        time.sleep(0.5)\n",
    "\n",
    "print(\"single start\")\n",
    "f1()\n",
    "f2()\n",
    "print(\"\\nsingle stop\")\n",
    "\n",
    "time.sleep(2)\n",
    "\n",
    "print(\"multi start\")\n",
    "thread1 = threading.Thread(target=f1)\n",
    "thread2 = threading.Thread(target=f2)\n",
    "thread1.start()\n",
    "thread2.start()\n",
    "print(\"\\nmulti stop\")\n",
    "\n"
   ]
  },
  {
   "cell_type": "markdown",
   "metadata": {},
   "source": [
    "## Subprocess\n",
    "\n",
    "--> openen van vanalles & nog wat!"
   ]
  },
  {
   "cell_type": "code",
   "execution_count": null,
   "metadata": {},
   "outputs": [
    {
     "data": {
      "text/plain": [
       "<Popen: returncode: None args: 'C:\\\\Program Files\\\\Microsoft Office\\\\root\\\\O...>"
      ]
     },
     "execution_count": 68,
     "metadata": {},
     "output_type": "execute_result"
    }
   ],
   "source": [
    "import subprocess\n",
    "\n",
    "subprocess.Popen(r\"C:\\Windows\\System32\\calc.exe\")\n",
    "\n",
    "subprocess.Popen(r\"C:\\Program Files\\Microsoft Office\\root\\Office16\\WINWORD.exe\")\n",
    "\n"
   ]
  }
 ],
 "metadata": {
  "kernelspec": {
   "display_name": "Python 3",
   "language": "python",
   "name": "python3"
  },
  "language_info": {
   "codemirror_mode": {
    "name": "ipython",
    "version": 3
   },
   "file_extension": ".py",
   "mimetype": "text/x-python",
   "name": "python",
   "nbconvert_exporter": "python",
   "pygments_lexer": "ipython3",
   "version": "3.12.5"
  }
 },
 "nbformat": 4,
 "nbformat_minor": 2
}
