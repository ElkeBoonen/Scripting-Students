{
 "cells": [
  {
   "cell_type": "markdown",
   "metadata": {},
   "source": [
    "# Groep AV : Les 3/5 - Images\n",
    "\n",
    "## Herhaling \n",
    "- Chuck norris API https://api.chucknorris.io/ --> check altijd in json viewer https://codebeautify.org/jsonviewer\n",
    "- random joke: https://api.chucknorris.io/jokes/random\n",
    "- foto tonen --> maak gebruik van subprocess"
   ]
  },
  {
   "cell_type": "code",
   "execution_count": null,
   "metadata": {},
   "outputs": [],
   "source": [
    "import requests, json\n",
    "import subprocess, os\n",
    "\n",
    "response = requests.get(\"https://api.chucknorris.io/jokes/random\").text\n",
    "print(json.loads(response)[\"value\"])\n",
    "\n",
    "os.startfile(\"chuck.jpg\")\n",
    "subprocess.Popen(['start', \"chuck.jpg\"],shell=True) # op Mac --> gebruik open ipv start, geen shell= True\n"
   ]
  },
  {
   "cell_type": "markdown",
   "metadata": {},
   "source": [
    "## Images\n",
    "\n",
    "Installeer Pillow package\n",
    "\n",
    "Kleuren in images --> https://github.com/python-pillow/Pillow/blob/12028c9789c3c6ac15eb147a092bfc463ebbc398/src/PIL/ImageColor.py"
   ]
  },
  {
   "cell_type": "code",
   "execution_count": null,
   "metadata": {},
   "outputs": [],
   "source": [
    "! pip install Pillow\n",
    "\n",
    "from PIL import ImageColor\n",
    "print(ImageColor.getcolor('blue', 'RGBA'))\n",
    "print(ImageColor.getcolor('CornflowerBlue', 'RGBA'))\n"
   ]
  },
  {
   "cell_type": "markdown",
   "metadata": {},
   "source": [
    "## Manipuleren van afbeeldingen\n",
    "\n",
    "### Eigenschappen van een afbeelding\n",
    "https://picsum.photos/"
   ]
  },
  {
   "cell_type": "code",
   "execution_count": null,
   "metadata": {},
   "outputs": [],
   "source": [
    "from PIL import Image\n",
    "\n",
    "img = Image.open('bambi.jpg')\n",
    "print(img)\n",
    "print(img.size)\n",
    "print(img.filename)\n",
    "\n",
    "img.show() # zelfde als subprocess.Popen of os.startfile\n",
    "\n",
    "print(img.width)\n",
    "width, height = img.size\n",
    "print(height)\n",
    "\n",
    "print(img.format, img.format_description)"
   ]
  },
  {
   "cell_type": "markdown",
   "metadata": {},
   "source": [
    "### Croppen"
   ]
  },
  {
   "cell_type": "code",
   "execution_count": null,
   "metadata": {},
   "outputs": [],
   "source": [
    "from PIL import Image\n",
    "\n",
    "img = Image.open('bambi.jpg')\n",
    "img = img.crop((350, 900, 650, 1200))\n",
    "img.show()\n",
    "img.save(\"GROEP_AV\\cropped.jpg\")\n"
   ]
  },
  {
   "cell_type": "markdown",
   "metadata": {},
   "source": [
    "### Nieuwe maken"
   ]
  },
  {
   "cell_type": "code",
   "execution_count": null,
   "metadata": {},
   "outputs": [],
   "source": [
    "from PIL import Image\n",
    "\n",
    "img = Image.new('RGBA',(100,100),'purple')\n",
    "img.show()\n",
    "img.save(\"GROEP_AV/purple.png\")\n",
    "\n",
    "img = Image.new('RGBA', (100,100), (255,0,0,100))\n",
    "img.show()\n",
    "img.save(\"GROEP_AV/transparant.gif\")\n"
   ]
  },
  {
   "cell_type": "markdown",
   "metadata": {},
   "source": [
    "### Copy & paste"
   ]
  },
  {
   "cell_type": "code",
   "execution_count": null,
   "metadata": {},
   "outputs": [],
   "source": [
    "from PIL import Image\n",
    "\n",
    "crop = Image.open(\"GROEP_AV\\cropped.jpg\")\n",
    "\n",
    "img = Image.new('RGBA', (crop.width*5, crop.height*3), 'red')\n",
    "\n",
    "copy = crop.copy(); # kopietje maken om te kunnen plakken\n",
    "\n",
    "for row in range(0,3):\n",
    "    for col in range(0,5):\n",
    "        img.paste(copy, (col*crop.width, row*crop.height))\n",
    "\n",
    "img.show()\n",
    "img.save(\"GROEP_AV\\copypaste.png\")"
   ]
  },
  {
   "cell_type": "markdown",
   "metadata": {},
   "source": [
    "### Resize, flip, rotate"
   ]
  },
  {
   "cell_type": "code",
   "execution_count": null,
   "metadata": {},
   "outputs": [],
   "source": [
    "from PIL import Image\n",
    "\n",
    "img = Image.open('bambi.jpg')\n",
    "\n",
    "klein = img.resize((int(img.width/4), int(img.height/4))) # geen kommagetallen\n",
    "# klein.show()\n",
    "klein.save(\"GROEP_AV\\klein.jpg\")\n",
    "\n",
    "klein.rotate(90).save(\"GROEP_AV\\klein_90.jpg\")\n",
    "klein.rotate(180).save(\"GROEP_AV\\klein_180.jpg\")\n",
    "\n",
    "klein.transpose(Image.Transpose.FLIP_LEFT_RIGHT).save(\"GROEP_AV\\horizontaal.jpg\")\n",
    "klein.transpose(Image.Transpose.FLIP_TOP_BOTTOM).save(r\"GROEP_AV\\verticaal.jpg\")\n"
   ]
  },
  {
   "cell_type": "markdown",
   "metadata": {},
   "source": [
    "### Werken met kleuren"
   ]
  },
  {
   "cell_type": "code",
   "execution_count": null,
   "metadata": {},
   "outputs": [],
   "source": [
    "from PIL import Image\n",
    "\n",
    "img = Image.open(\"GROEP_AV\\klein.jpg\")\n",
    "\n",
    "for x in range(0,img.width):\n",
    "    for y in range(0,img.height):\n",
    "        r,g,b = img.getpixel((x,y))\n",
    "        img.putpixel((x,y),(255-r, 255-g, 255-b))\n",
    "\n",
    "img.show()\n",
    "img.save(\"GROEP_AV\\klein_invert.jpg\")\n",
    "\n",
    "img = Image.open(\"GROEP_AV\\klein.jpg\")\n",
    "for x in range(0,img.width):\n",
    "    for y in range(0,img.height):\n",
    "        r,g,b = img.getpixel((x,y))\n",
    "        img.putpixel((x,y),(0, g, 0))\n",
    "\n",
    "img.show()\n",
    "img.save(\"GROEP_AV\\klein_groen.jpg\")"
   ]
  },
  {
   "cell_type": "code",
   "execution_count": null,
   "metadata": {},
   "outputs": [],
   "source": [
    "from PIL import Image, ImageChops, ImageOps\n",
    "\n",
    "img = Image.open(\"GROEP_AV\\klein.jpg\")\n",
    "\n",
    "ImageChops.invert(img).save(\"GROEP_AV\\klein_invert2.jpg\")\n",
    "ImageOps.grayscale(img).save(\"GROEP_AV\\klein_grayscale.jpg\")"
   ]
  },
  {
   "cell_type": "markdown",
   "metadata": {},
   "source": [
    "## Oefening\n",
    "\n",
    "Download verschillende comics van XKCD (selecteer een range), gebruik threading!\n",
    "\n",
    "https://xkcd.com/1/ <br />\n",
    "https://xkcd.com/100/ <br />\n",
    "https://xkcd.com/150/ <br />\n",
    "\n",
    "- eerst alle img-tags binnen halen\n",
    "- checken waar comic zit\n",
    "- download comic\n",
    "- maak multithreaded om eerste 100 of 1000 binnen te halen\n",
    "\n"
   ]
  },
  {
   "cell_type": "code",
   "execution_count": 1,
   "metadata": {},
   "outputs": [
    {
     "name": "stderr",
     "output_type": "stream",
     "text": [
      "Exception in thread Thread-3 (scraper):\n",
      "Traceback (most recent call last):\n",
      "  File \"C:\\Users\\elkeb\\AppData\\Local\\Programs\\Python\\Python310\\lib\\threading.py\", line 1009, in _bootstrap_inner\n",
      "    self.run()\n",
      "  File \"C:\\Users\\elkeb\\AppData\\Local\\Programs\\Python\\Python310\\lib\\threading.py\", line 946, in run\n",
      "    self._target(*self._args, **self._kwargs)\n",
      "  File \"C:\\Users\\elkeb\\AppData\\Local\\Temp\\ipykernel_27536\\2444917297.py\", line 9, in scraper\n",
      "AttributeError: 'NoneType' object has no attribute 'find'\n"
     ]
    }
   ],
   "source": [
    "from bs4 import BeautifulSoup\n",
    "import requests\n",
    "import threading\n",
    "\n",
    "def scraper(start, stop):\n",
    "    for i in range(start,stop):\n",
    "        request = requests.get(\"https://xkcd.com/\"+ str(i))\n",
    "        fotoBS = BeautifulSoup(request.text, \"html.parser\")\n",
    "        fotolink = \"https:\"+fotoBS.find(\"div\", { \"id\" : \"comic\"}).find(\"img\")[\"src\"]\n",
    "\n",
    "        file = open(\"XKCD/\"+str(i)+\".png\", \"wb\")\n",
    "        file.write(requests.get(fotolink).content)\n",
    "        file.close()\n",
    "\n",
    "for i in range(0,10):\n",
    "    thread = threading.Thread(target=scraper, args=(i*10,i*10+10))\n",
    "    thread.start()"
   ]
  }
 ],
 "metadata": {
  "interpreter": {
   "hash": "cd5662ff78f94fa96606278180ac3194361a7052a583c098e93db213779cf166"
  },
  "kernelspec": {
   "display_name": "Python 3.10.1 64-bit",
   "language": "python",
   "name": "python3"
  },
  "language_info": {
   "codemirror_mode": {
    "name": "ipython",
    "version": 3
   },
   "file_extension": ".py",
   "mimetype": "text/x-python",
   "name": "python",
   "nbconvert_exporter": "python",
   "pygments_lexer": "ipython3",
   "version": "3.10.1"
  },
  "orig_nbformat": 4
 },
 "nbformat": 4,
 "nbformat_minor": 2
}
