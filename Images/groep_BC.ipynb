{
 "cells": [
  {
   "cell_type": "markdown",
   "metadata": {},
   "source": [
    "# Images - groep BC\n",
    "\n",
    "Herhalingsoefening\n",
    "Who is Chuck Norris and why does he have his own API? ;)\n",
    "https://api.chucknorris.io/ \n",
    "Find a picture of Chuck Norris and display random joke!"
   ]
  },
  {
   "cell_type": "code",
   "execution_count": null,
   "metadata": {},
   "outputs": [],
   "source": [
    "import requests\n",
    "import json\n",
    "import subprocess\n",
    "\n",
    "# random quote\n",
    "response = requests.get(\"https://api.chucknorris.io/jokes/random\")\n",
    "jokes = json.loads(response.text)\n",
    "print(jokes[\"value\"])\n",
    "\n",
    "# prent openen\n",
    "subprocess.Popen([\"start\",\"chuck.jpg\"], shell=True)"
   ]
  },
  {
   "cell_type": "markdown",
   "metadata": {},
   "source": [
    "## Computer images\n",
    "\n",
    "Installeer Pillow package\n",
    "\n",
    "Lijst van kleuren die in ImageColor zitten: https://github.com/python-pillow/Pillow/blob/12028c9789c3c6ac15eb147a092bfc463ebbc398/src/PIL/ImageColor.py "
   ]
  },
  {
   "cell_type": "code",
   "execution_count": null,
   "metadata": {},
   "outputs": [],
   "source": [
    "! pip install Pillow\n",
    "\n",
    "from PIL import ImageColor\n",
    "\n",
    "print(ImageColor.getcolor(\"red\",\"RGBA\"))\n",
    "print(ImageColor.getcolor(\"CornflowerBlue\",\"RGBA\"))"
   ]
  },
  {
   "cell_type": "markdown",
   "metadata": {},
   "source": [
    "## Manipuleren van images\n",
    "\n",
    "API voor random images: https://picsum.photos/\n",
    "alle images https://picsum.photos/images"
   ]
  },
  {
   "cell_type": "code",
   "execution_count": null,
   "metadata": {},
   "outputs": [],
   "source": [
    "from PIL import Image\n",
    "\n",
    "import subprocess\n",
    "\n",
    "img = Image.open('tafel.jpg')\n",
    "print(img)\n",
    "\n",
    "img.show()\n",
    "subprocess.Popen([\"start\", \"tafel.jpg\"], shell=True) #show en Popen doen net hetzelfde!"
   ]
  },
  {
   "cell_type": "markdown",
   "metadata": {},
   "source": [
    "### Afmetingen opvragen"
   ]
  },
  {
   "cell_type": "code",
   "execution_count": null,
   "metadata": {},
   "outputs": [],
   "source": [
    "from PIL import Image\n",
    "\n",
    "img = Image.open('tafel.jpg')\n",
    "print(img.size)\n",
    "width, height = img.size\n",
    "print(width)\n",
    "\n",
    "print(img.filename)\n",
    "print(img.format)\n",
    "print(img.format_description)"
   ]
  },
  {
   "cell_type": "markdown",
   "metadata": {},
   "source": [
    "### Croppen"
   ]
  },
  {
   "cell_type": "code",
   "execution_count": null,
   "metadata": {},
   "outputs": [],
   "source": [
    "from PIL import Image\n",
    "\n",
    "img = Image.open('tafel.jpg')\n",
    "img = img.crop((3000, 1300, 4500, 3000))\n",
    "img.save('GROEP_BC/cropped.jpg')\n",
    "img.show()\n"
   ]
  },
  {
   "cell_type": "markdown",
   "metadata": {},
   "source": [
    "### Image maken"
   ]
  },
  {
   "cell_type": "code",
   "execution_count": null,
   "metadata": {},
   "outputs": [],
   "source": [
    "from PIL import Image\n",
    "\n",
    "img = Image.new('RGBA', (100,100), 'CornflowerBlue')\n",
    "img.save(\"GROEP_BC/cornflowerblue.png\")\n",
    "img.show()\n",
    "\n",
    "img = Image.new('RGBA', (100,100), (100, 56, 145, 100))\n",
    "img.save(\"GROEP_BC/random.png\")\n",
    "img.show()"
   ]
  },
  {
   "cell_type": "markdown",
   "metadata": {},
   "source": [
    "### Copy & paste"
   ]
  },
  {
   "cell_type": "code",
   "execution_count": null,
   "metadata": {},
   "outputs": [],
   "source": [
    "from PIL import Image\n",
    "\n",
    "from PIL import Image\n",
    "\n",
    "img = Image.open('tafel.jpg')\n",
    "crop = img.crop((3000, 1300, 4500, 3000))\n",
    "\n",
    "copy = img.copy()\n",
    "copy.paste(crop, (0,0))\n",
    "copy.paste(crop, (2000,5000)) # wem gewoon x,y coordinaat\n",
    "copy.paste(crop, (1000,1000))\n",
    "copy.save(\"GROEP_BC/copypaste.jpg\")\n",
    "\n",
    "print(crop.size)\n",
    "\n",
    "# ik wil een nieuwe prent van width --> 5 keer crop en height --> 3 keer) \n",
    "zot =  Image.new('RGBA', (crop.width*5,crop.height*3), 'White')\n",
    "\n",
    "for row in range(0,3):\n",
    "    for col in range(0,5):\n",
    "        zot.paste(crop,(col*crop.width,row*crop.height))\n",
    "zot.save(\"GROEP_BC/zot.png\")"
   ]
  },
  {
   "cell_type": "markdown",
   "metadata": {},
   "source": [
    "### Resize, rotate & flip"
   ]
  },
  {
   "cell_type": "code",
   "execution_count": null,
   "metadata": {},
   "outputs": [],
   "source": [
    "from PIL import Image\n",
    "\n",
    "img = Image.open('tafel.jpg')\n",
    "width, height = img.size\n",
    "\n",
    "halfsize = img.resize((int(width/2), int(height/2)))\n",
    "halfsize.save(\"GROEP_BC/halfsize.jpg\")\n",
    "print(img.size)\n",
    "print(halfsize.size)\n",
    "\n",
    "klein = img.resize((int(width/20), int(height/20)))\n",
    "klein.save(\"GROEP_BC/klein.jpg\")\n",
    "print(klein.size)\n",
    "\n",
    "klein.rotate(90).save(\"GROEP_BC/klein_rotate90.jpg\")\n",
    "klein.rotate(180).save(\"GROEP_BC/klein_rotate180.jpg\")\n",
    "\n",
    "klein.transpose(Image.TRANSPOSE.FLIP_LEFT_RIGHT).save(\"GROEP_BC/horizontaal.jpg\")\n",
    "klein.transpose(Image.TRANSPOSE.FLIP_TOP_BOTTOM).save(\"GROEP_BC/verticaal.jpg\")\n"
   ]
  },
  {
   "cell_type": "markdown",
   "metadata": {},
   "source": [
    "### Inverteren van kleuren"
   ]
  },
  {
   "cell_type": "code",
   "execution_count": null,
   "metadata": {},
   "outputs": [],
   "source": [
    "from PIL import Image\n",
    "\n",
    "img = Image.open('GROEP_BC/klein.jpg')\n",
    "\n",
    "for x in range(0, img.width):\n",
    "    for y in range(0, img.height):\n",
    "        r,g,b = img.getpixel((x,y))\n",
    "        invert = (255-r, 255-g, 255-b)\n",
    "        img.putpixel((x,y),invert)\n",
    "\n",
    "img.save(\"GROEP_BC/invert.jpg\")\n",
    "\n",
    "img = Image.open('GROEP_BC/klein.jpg')\n",
    "for x in range(0, img.width):\n",
    "    for y in range(0, img.height):\n",
    "        r,g,b = img.getpixel((x,y))\n",
    "        blue = (0, 0, b)\n",
    "        img.putpixel((x,y),blue)\n",
    "\n",
    "img.save(\"GROEP_BC/blauw.jpg\")"
   ]
  },
  {
   "cell_type": "code",
   "execution_count": null,
   "metadata": {},
   "outputs": [],
   "source": [
    "# makkelijke manier van inverteren\n",
    "\n",
    "from PIL import Image, ImageChops\n",
    "\n",
    "img = Image.open('GROEP_BC/klein.jpg')\n",
    "img = ImageChops.invert(img)\n",
    "img.save(\"GROEP_BC/invert2.jpg\")\n"
   ]
  },
  {
   "cell_type": "code",
   "execution_count": null,
   "metadata": {},
   "outputs": [],
   "source": [
    "# grayscale\n",
    "\n",
    "from PIL import Image, ImageOps\n",
    "\n",
    "img = Image.open('GROEP_BC/klein.jpg')\n",
    "img = ImageOps.grayscale(img)\n",
    "img.save(\"GROEP_BC/grayscale.jpg\")\n"
   ]
  },
  {
   "cell_type": "markdown",
   "metadata": {},
   "source": [
    "## Tekenen"
   ]
  },
  {
   "cell_type": "code",
   "execution_count": null,
   "metadata": {},
   "outputs": [],
   "source": [
    "\t\n",
    "from PIL import Image, ImageDraw, ImageFont\n",
    " \n",
    "img = Image.new('RGBA', (200, 200), 'white')\n",
    " \n",
    "draw = ImageDraw.Draw(img)\n",
    "draw.line([(0, 0), (199, 0), (199, 199), (0, 199), (0, 0)], fill='black')\n",
    "draw.rectangle((20, 30, 60, 60), fill='blue')\n",
    "draw.ellipse((120, 30, 160, 60), fill='red')\n",
    "draw.polygon(((57, 87), (79, 62), (94, 85), (120, 90), (103, 113)), fill='brown')\n",
    "for i in range(100, 200, 10):\n",
    "    draw.line([(i, 0), (200, i - 100)], fill='green')\n",
    " \n",
    "draw.text((20, 150), 'Hello', fill='purple')\n",
    "fontsFolder = 'FONT_FOLDER' # e.g. ‘/Library/Fonts'\n",
    "arialFont = ImageFont.truetype(os.path.join(fontsFolder, 'arial.ttf'), 32)\n",
    "draw.text((100, 150), 'Hello', fill='gray', font=arialFont)\n",
    "\n",
    "img.save('GROEP_BC/drawing.png')"
   ]
  },
  {
   "cell_type": "markdown",
   "metadata": {},
   "source": [
    "## Download pictures from xkcd\n",
    "\n",
    "Download verschillende comics van XKCD (selecteer een range), gebruik threading!\n",
    "https://xkcd.com/1/\n",
    "\n",
    "extra info https://www.geeksforgeeks.org/image-scraping-with-python/"
   ]
  },
  {
   "cell_type": "code",
   "execution_count": 31,
   "metadata": {},
   "outputs": [
    {
     "name": "stdout",
     "output_type": "stream",
     "text": [
      "https://xkcd.com/0\n",
      "https://xkcd.com/10\n",
      "https://xkcd.com/20\n",
      "https://xkcd.com/30https://xkcd.com/40\n",
      "\n",
      "https://xkcd.com/50\n",
      "https://xkcd.com/60\n",
      "https://xkcd.com/70https://xkcd.com/80\n",
      "https://xkcd.com/90\n",
      "\n",
      "XKCD/light.jpg\n",
      "XKCD/guitar_hero.jpg\n",
      "XKCD/jacket.jpg\n"
     ]
    },
    {
     "name": "stderr",
     "output_type": "stream",
     "text": [
      "Exception in thread Thread-103 (GetPictures):\n",
      "Traceback (most recent call last):\n",
      "  File \"C:\\Users\\elkeb\\AppData\\Local\\Programs\\Python\\Python310\\lib\\threading.py\", line 1009, in _bootstrap_inner\n",
      "    self.run()\n",
      "  File \"C:\\Users\\elkeb\\AppData\\Local\\Programs\\Python\\Python310\\lib\\threading.py\", line 946, in run\n",
      "    self._target(*self._args, **self._kwargs)\n",
      "  File \"C:\\Users\\elkeb\\AppData\\Local\\Temp\\ipykernel_19224\\1292780439.py\", line 14, in GetPictures\n",
      "IndexError: list index out of range\n"
     ]
    },
    {
     "name": "stdout",
     "output_type": "stream",
     "text": [
      "XKCD/pi.jpgXKCD/other_car.jpg\n",
      "\n",
      "XKCD/penny_arcade.jpg\n",
      "XKCD/ferret.jpg\n",
      "XKCD/donner.jpg\n",
      "XKCD/super_bowl.jpg\n",
      "https://xkcd.com/71\n",
      "https://xkcd.com/91\n",
      "https://xkcd.com/81\n",
      "https://xkcd.com/11\n",
      "https://xkcd.com/61\n",
      "XKCD/in_the_trees.jpghttps://xkcd.com/21\n",
      "\n",
      "https://xkcd.com/51\n",
      "https://xkcd.com/31\n",
      "XKCD/barrel_mommies.jpg\n",
      "XKCD/attention_shopper.jpg\n",
      "XKCD/kepler.jpg\n",
      "XKCD/pwned.png\n",
      "XKCD/malaria.jpg\n",
      "https://xkcd.com/41\n",
      "XKCD/barrel_part_5.jpg\n",
      "XKCD/staceys_dad.jpg\n",
      "https://xkcd.com/52\n",
      "XKCD/unspeakable_pun.jpg\n",
      "https://xkcd.com/72\n",
      "https://xkcd.com/12\n",
      "https://xkcd.com/92\n",
      "https://xkcd.com/22\n",
      "https://xkcd.com/42\n",
      "https://xkcd.com/82\n",
      "XKCD/poisson.jpg\n",
      "XKCD/sunrise.jpg\n",
      "XKCD/barrel_whirlpool.jpg\n",
      "XKCD/classhole.jpg\n",
      "https://xkcd.com/62\n",
      "XKCD/secret_worlds.jpg\n",
      "https://xkcd.com/32\n",
      "XKCD/geico.jpg\n",
      "XKCD/frame.jpg\n",
      "XKCD/karnaugh.jpg\n",
      "https://xkcd.com/53\n",
      "XKCD/pillar.jpg\n",
      "https://xkcd.com/13\n",
      "https://xkcd.com/23\n",
      "https://xkcd.com/93\n",
      "https://xkcd.com/73\n",
      "https://xkcd.com/43\n",
      "https://xkcd.com/83\n",
      "XKCD/t-shirts.jpg\n",
      "XKCD/canyon_small.jpg\n",
      "XKCD/zeppelin.jpg\n",
      "https://xkcd.com/63\n",
      "XKCD/katamari.jpg\n",
      "XKCD/hobby.jpg\n",
      "XKCD/jeremy_irons.jpg\n",
      "XKCD/red_spiders_2.jpg\n",
      "XKCD/valentine.jpg\n",
      "https://xkcd.com/24\n",
      "https://xkcd.com/33\n",
      "https://xkcd.com/14\n",
      "https://xkcd.com/84\n",
      "https://xkcd.com/74\n",
      "https://xkcd.com/54\n",
      "https://xkcd.com/94\n",
      "XKCD/copyright.jpg\n",
      "https://xkcd.com/44\n",
      "XKCD/national_language.jpg\n",
      "XKCD/godel_escher_kurthalsey.jpg\n",
      "https://xkcd.com/64\n",
      "XKCD/su_doku.jpg\n",
      "XKCD/profile_flowchart.jpg\n",
      "XKCD/science.jpg\n",
      "XKCD/self-reference.jpg\n",
      "https://xkcd.com/75\n",
      "https://xkcd.com/55\n",
      "XKCD/love.jpg\n",
      "https://xkcd.com/85\n",
      "XKCD/solar_plexus.jpg\n",
      "https://xkcd.com/15\n",
      "XKCD/useless.jpgXKCD/curse_levels.jpg\n",
      "\n",
      "XKCD/just_alerting_you.jpg\n",
      "https://xkcd.com/34\n",
      "XKCD/paths.jpg\n",
      "https://xkcd.com/45\n",
      "https://xkcd.com/65\n",
      "https://xkcd.com/25\n",
      "https://xkcd.com/95\n",
      "https://xkcd.com/86\n",
      "XKCD/flowers.jpg\n",
      "https://xkcd.com/16\n",
      "https://xkcd.com/56\n",
      "https://xkcd.com/76\n",
      "XKCD/banter.jpg\n",
      "XKCD/sony_microsoft_mpaa_riaa_apple.jpg\n",
      "XKCD/schrodinger.jpg\n",
      "XKCD/the_cure.jpg\n",
      "XKCD/familiar.jpg\n",
      "XKCD/barrel_part_4.jpg\n",
      "XKCD/the_sierpinski_penis_game.jpg\n",
      "XKCD/monty_python.jpg\n",
      "https://xkcd.com/66\n",
      "https://xkcd.com/46\n",
      "https://xkcd.com/35\n",
      "https://xkcd.com/26\n",
      "XKCD/abusive_astronomy.jpg\n",
      "XKCD/secrets.jpg\n",
      "https://xkcd.com/77\n",
      "XKCD/sheep.jpgXKCD/fourier.jpg\n",
      "\n",
      "https://xkcd.com/57\n",
      "https://xkcd.com/87\n",
      "https://xkcd.com/17\n",
      "https://xkcd.com/96\n",
      "XKCD/bored_with_the_internet.jpg\n",
      "XKCD/wait_for_me.jpg\n",
      "XKCD/what_if.jpgXKCD/velociraptors.jpg\n",
      "\n",
      "https://xkcd.com/47\n",
      "XKCD/mail.png\n",
      "https://xkcd.com/27\n",
      "https://xkcd.com/67\n",
      "https://xkcd.com/78\n",
      "https://xkcd.com/88\n",
      "https://xkcd.com/18\n",
      "https://xkcd.com/58\n",
      "https://xkcd.com/97\n",
      "https://xkcd.com/36\n",
      "XKCD/counter-red-spiders.jpg\n",
      "XKCD/escher_wristband.jpg\n",
      "XKCD/meat_cereals.jpg\n",
      "XKCD/why_do_you_love_me.jpg\n",
      "XKCD/nerd_girls.jpg\n",
      "XKCD/garfield.jpg\n",
      "https://xkcd.com/48\n",
      "XKCD/scientists.jpg\n",
      "https://xkcd.com/89\n",
      "XKCD/a_simple_plan.jpg\n",
      "https://xkcd.com/59\n",
      "XKCD/snapple.jpg\n",
      "XKCD/found.jpghttps://xkcd.com/79\n",
      "\n",
      "https://xkcd.com/28\n",
      "https://xkcd.com/37\n",
      "XKCD/iambic_pentameter.jpg\n",
      "XKCD/gravitational_mass.jpg\n",
      "https://xkcd.com/68\n",
      "https://xkcd.com/49\n",
      "XKCD/hyphen.jpg\n",
      "XKCD/graduation.jpg\n",
      "https://xkcd.com/19\n",
      "https://xkcd.com/98\n",
      "XKCD/want.jpg\n",
      "XKCD/elefino.jpg\n",
      "https://xkcd.com/38\n",
      "XKCD/five_thirty.jpg\n",
      "XKCD/george_clinton.jpg\n",
      "XKCD/fall_apart.jpg\n",
      "https://xkcd.com/29\n",
      "https://xkcd.com/99\n",
      "XKCD/apple_jacks.jpg\n",
      "XKCD/hitler.jpg\n",
      "https://xkcd.com/69\n",
      "https://xkcd.com/39\n",
      "XKCD/binary_heart.jpg\n",
      "XKCD/bowl.jpg\n",
      "XKCD/pillow_talk.jpg\n"
     ]
    }
   ],
   "source": [
    "import requests \n",
    "from bs4 import BeautifulSoup \n",
    "from PIL import Image\n",
    "import threading\n",
    "    \n",
    "def GetPictures(start, stop):\n",
    "    \n",
    "    for i in range(start, stop):\n",
    "        htmldata = requests.get(\"https://xkcd.com/\"+str(i)+\"/\").text\n",
    "        soup = BeautifulSoup(htmldata, 'html.parser') \n",
    "        imgs = soup.find_all('img')\n",
    "\n",
    "        # always 3th picture\n",
    "        image_url = imgs[2]['src']\n",
    "\n",
    "        # find image name --> everything after last /\n",
    "        image_name = \"XKCD/\" + image_url.rsplit('/', 1)[1]\n",
    "\n",
    "        # get image\n",
    "        img_data = requests.get(\"https:\"+image_url).content\n",
    "        with open(image_name, 'wb') as handler:\n",
    "            handler.write(img_data)\n",
    "\n",
    "\n",
    "for i in range(0,10):\n",
    "    thread = threading.Thread(target=GetPictures, args=(i*10, (i*10)+10,))\n",
    "    thread.start()"
   ]
  }
 ],
 "metadata": {
  "interpreter": {
   "hash": "cd5662ff78f94fa96606278180ac3194361a7052a583c098e93db213779cf166"
  },
  "kernelspec": {
   "display_name": "Python 3.10.1 64-bit",
   "language": "python",
   "name": "python3"
  },
  "language_info": {
   "codemirror_mode": {
    "name": "ipython",
    "version": 3
   },
   "file_extension": ".py",
   "mimetype": "text/x-python",
   "name": "python",
   "nbconvert_exporter": "python",
   "pygments_lexer": "ipython3",
   "version": "3.10.1"
  },
  "orig_nbformat": 4
 },
 "nbformat": 4,
 "nbformat_minor": 2
}
