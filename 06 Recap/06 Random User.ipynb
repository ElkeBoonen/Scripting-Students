{
 "cells": [
  {
   "cell_type": "markdown",
   "metadata": {},
   "source": [
    "# Recap: Random \n",
    "\n",
    "- Request a person from the RandomUser API at https://randomuser.me/api/ and print his/her full name\n",
    "- Scrape all country information of his/her country from https://www.scrapethissite.com/pages/simple/\n",
    "- Request the exact location from the same person and plot this data on a map (up to city level)\n",
    "\n",
    "### Voorbeeld:\n",
    "Ani Helmons (= a completely random person from the API)\n",
    "\n",
    "Info land: \n",
    "- Country: Netherlands\n",
    "- Capital: Amsterdam\n",
    "- Population: 16645000\n",
    "- Area (km²): 41526.0\n",
    "\n",
    "Plotten op map, dit adres = Count Huynstraat 426, Varsselder Veldhunten, Netherlands \n",
    "wordt:\n",
    "- Latitude: 51.8838276\n",
    "- Longitude: 6.3449836\n",
    "\n",
    "zodat je kan plotten op deze figuur\n",
    "\n",
    "<img src=\"voorbeeld.png\">\n",
    "\n",
    "### Extra info\n",
    "- Every time we make a new call to the API we will get a new person back anyway, so our notebook will look different every time!\n",
    "- Convert the exact data to latitude & longitude with GeoPy (https://geopy.readthedocs.io/) (don't work directly with the latitude & longitude from the JSON data!)\n",
    "- Plot the location with Folium (https://python-visualization.github.io/folium/quickstart.html)"
   ]
  }
 ],
 "metadata": {
  "language_info": {
   "name": "python"
  }
 },
 "nbformat": 4,
 "nbformat_minor": 2
}
