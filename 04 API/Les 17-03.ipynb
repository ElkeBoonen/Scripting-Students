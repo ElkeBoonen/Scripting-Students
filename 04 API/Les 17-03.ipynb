{
 "cells": [
  {
   "cell_type": "markdown",
   "metadata": {},
   "source": [
    "# Les 6: 17/03 - API\n",
    "\n",
    "## Herhalingsoefeningen\n",
    "Download <a href=\"logbook.txt\">logbook.txt</a> van canvas, lees het en groepeer activiteiten per maand\n",
    "\n",
    "--> 2021-03-09 13:13:40 - Started work on project E\n",
    "\n",
    "output:\n",
    "\n",
    "- January : 70 activities \n",
    "- February : 75 activities \n",
    "- March : 88 activities \n",
    "- April : 72 activities \n",
    "- ..."
   ]
  },
  {
   "cell_type": "code",
   "execution_count": null,
   "metadata": {},
   "outputs": [],
   "source": [
    "from datetime import datetime\n",
    "\n",
    "months = [\"Jan\", \"Feb\", \"Maa\", \"Apr\", \"Mei\", \"Jun\", \"Jul\", \"Aug\", \"Sep\", \"Okt\", \"Nov\", \"Dec\"]\n",
    "dict = {}\n",
    "\n",
    "with open(\"logbook.txt\",\"r\") as file:\n",
    "    for line in file.readlines():\n",
    "        #date = datetime.strptime(line.split(\" - \")[0], r\"%Y-%m-%d %H:%M:%S\")\n",
    "        #print(date.month)\n",
    "\n",
    "        month = int(line[5:7])-1 # index van de lijst \n",
    "        if not months[month] in dict.keys(): # om de key aan te maken en eerst te checken of de key wel of niet bestaat\n",
    "            dict[months[month]] = 0\n",
    "        dict[months[month]] += 1\n",
    "\n",
    "print(dict)"
   ]
  },
  {
   "cell_type": "markdown",
   "metadata": {},
   "source": [
    "## JSON\n",
    "\n",
    "Werk altijd met iets dat je JSon-data mooer maakt!! Gewoon voor de duidelijkheid!\n",
    "https://codebeautify.org/jsonviewer\n",
    "\n",
    "json package --> https://docs.python.org/3/library/json.html "
   ]
  },
  {
   "cell_type": "code",
   "execution_count": null,
   "metadata": {},
   "outputs": [],
   "source": [
    "import json\n",
    "\n",
    "data = json.loads('{\"people\": [{\"name\": \"Jason Statham\", \"age\": \"54\"}, {\"name\": \"Jason Momoa\", \"age\": \"42\"}, {\"name\": \"Jennifer Jason Leigh\", \"age\": \"59\"}]}')\n",
    "print(data)\n",
    "print(data[\"people\"][0])\n",
    "print(data[\"people\"][0][\"age\"])"
   ]
  },
  {
   "cell_type": "code",
   "execution_count": null,
   "metadata": {},
   "outputs": [],
   "source": [
    "import json\n",
    "\n",
    "file = open(\"jason.json\")\n",
    "data = json.load(file)\n",
    "\n",
    "print(data)\n",
    "print(data[\"people\"][0])\n",
    "print(data[\"people\"][0][\"age\"])\n",
    "\n",
    "file.close()\n",
    "\n",
    "file = open(\"books.json\")\n",
    "books = json.load(file)\n",
    "\n",
    "print(books)\n",
    "\n",
    "for book in books[\"books\"]:\n",
    "    print(book[\"title\"])\n",
    "\n",
    "file.close()\n",
    "\n"
   ]
  },
  {
   "cell_type": "code",
   "execution_count": null,
   "metadata": {},
   "outputs": [],
   "source": [
    "file = open(\"books2.json\",\"w\")\n",
    "json.dump(books, file)\n",
    "file.close()"
   ]
  },
  {
   "cell_type": "markdown",
   "metadata": {},
   "source": [
    "## API'S\n",
    "\n",
    "Om te kunnen werken met API's installeer requests\n",
    "\n",
    "https://pypi.org/project/requests/"
   ]
  },
  {
   "cell_type": "code",
   "execution_count": null,
   "metadata": {},
   "outputs": [],
   "source": [
    "! pip install requests"
   ]
  },
  {
   "cell_type": "markdown",
   "metadata": {},
   "source": [
    "https://api.kanye.rest/"
   ]
  },
  {
   "cell_type": "code",
   "execution_count": null,
   "metadata": {},
   "outputs": [],
   "source": [
    "import requests\n",
    "import json\n",
    "\n",
    "url = \"https://api.kanye.rest/\"\n",
    "\n",
    "response = requests.get(url)\n",
    "print(response.status_code)\n",
    "print(response.connection)\n",
    "print(response.headers)\n",
    "print(response.content) # text\n",
    "\n",
    "data = json.loads(response.content) # text omzetten json!\n",
    "print(data[\"quote\"])\n",
    "\n",
    "print(response.json())\n",
    "print(response.json()[\"quote\"])\n"
   ]
  },
  {
   "cell_type": "code",
   "execution_count": null,
   "metadata": {},
   "outputs": [],
   "source": [
    "import requests\n",
    "import json\n",
    "\n",
    "url = \"https://api.kanye.west/\" # fout in url\n",
    "\n",
    "try:\n",
    "    response = requests.get(url)\n",
    "except:\n",
    "    print(\"Oepsie, foutje!\")\n",
    "\n"
   ]
  },
  {
   "cell_type": "markdown",
   "metadata": {},
   "source": [
    "### Rapid API's\n",
    "\n",
    "De meeste API's hebben key's nodig! \n",
    "Maak een account op rapidapi https://rapidapi.com/ !\n",
    "\n",
    "--> vertrek altijd van de voorbeelden! code snippets"
   ]
  },
  {
   "cell_type": "code",
   "execution_count": null,
   "metadata": {},
   "outputs": [],
   "source": [
    "import requests\n",
    "\n",
    "fname = input(\"eerste naam\")\n",
    "sname = input(\"tweede naam\")\n",
    "\n",
    "url = \"https://the-love-calculator.p.rapidapi.com/love-calculator\"\n",
    "querystring = {\"fname\":fname,\"sname\":sname}\n",
    "\n",
    "headers = {\n",
    "\t\"x-rapidapi-key\": \"****\",\n",
    "\t\"x-rapidapi-host\": \"the-love-calculator.p.rapidapi.com\"\n",
    "}\n",
    "\n",
    "response = requests.get(url, headers=headers, params=querystring)\n",
    "\n",
    "print(fname, \"en\", sname, \"==>\", response.json()[\"result: \"])"
   ]
  },
  {
   "cell_type": "code",
   "execution_count": null,
   "metadata": {},
   "outputs": [],
   "source": [
    "import requests\n",
    "\n",
    "url = \"https://whois-by-api-ninjas.p.rapidapi.com/v1/whois\"\n",
    "\n",
    "querystring = {\"domain\":\"example.com\"}\n",
    "\n",
    "headers = {\n",
    "\t\"x-rapidapi-key\": \"****\",\n",
    "\t\"x-rapidapi-host\": \"whois-by-api-ninjas.p.rapidapi.com\"\n",
    "}\n",
    "\n",
    "response = requests.get(url, headers=headers, params=querystring)\n",
    "\n",
    "print(response.json())"
   ]
  },
  {
   "cell_type": "markdown",
   "metadata": {},
   "source": [
    "### Oefening Voorbeeldzin --> language API --> Land info\n",
    "\n",
    "- Gebruik api van ChatGPT om een voorbeeld zin te maken in een specifieke taal --> https://community.openai.com/t/cheat-sheet-mastering-temperature-and-top-p-in-chatgpt-api/172683\n",
    "- Gebruik een language dedector om op basis van de voorbeeld taal te raden \n",
    "- Gebruik een api om info over land van gesproken terug te krijgen"
   ]
  },
  {
   "cell_type": "code",
   "execution_count": null,
   "metadata": {},
   "outputs": [],
   "source": [
    "import requests\n",
    "\n",
    "url = \"https://chatgpt-42.p.rapidapi.com/conversationgpt4\"\n",
    "\n",
    "taal = input(\"Geef een taal\")\n",
    "\n",
    "payload = {\n",
    "\t\"messages\": [\n",
    "\t\t{\n",
    "\t\t\t\"role\": \"user\",\n",
    "\t\t\t\"content\": \"Geef een voorbeeldzin in de volgende taal: \" + taal + \"En toon enkel en alleen de voorbeeldzin in het resultaat\"\n",
    "\t\t}\n",
    "\t],\n",
    "\t\"system_prompt\": \"\",\n",
    "\t\"temperature\": 0.9,\n",
    "\t\"top_k\": 5,\n",
    "\t\"top_p\": 0.9,\n",
    "\t\"max_tokens\": 256,\n",
    "\t\"web_access\": False\n",
    "}\n",
    "headers = {\n",
    "\t\"x-rapidapi-key\": \"***\",\n",
    "\t\"x-rapidapi-host\": \"chatgpt-42.p.rapidapi.com\",\n",
    "\t\"Content-Type\": \"application/json\"\n",
    "}\n",
    "\n",
    "response = requests.post(url, json=payload, headers=headers)\n",
    "\n",
    "zin = response.json()[\"result\"]\n",
    "print(zin)"
   ]
  },
  {
   "cell_type": "code",
   "execution_count": null,
   "metadata": {},
   "outputs": [],
   "source": [
    "import requests\n",
    "\n",
    "url = \"https://text-language-by-api-ninjas.p.rapidapi.com/v1/textlanguage\"\n",
    "\n",
    "querystring = {\"text\":zin}\n",
    "\n",
    "headers = {\n",
    "\t\"x-rapidapi-key\": \"***\",\n",
    "\t\"x-rapidapi-host\": \"text-language-by-api-ninjas.p.rapidapi.com\"\n",
    "}\n",
    "\n",
    "response = requests.get(url, headers=headers, params=querystring)\n",
    "\n",
    "taal = response.json()[\"language\"]\n",
    "print(taal)"
   ]
  },
  {
   "cell_type": "code",
   "execution_count": null,
   "metadata": {},
   "outputs": [],
   "source": [
    "# https://restcountries.com/v3.1/lang/spanish\n",
    "\n",
    "import requests\n",
    "import os \n",
    "\n",
    "url = \"https://restcountries.com/v3.1/lang/\" + taal\n",
    "\n",
    "os.mkdir(taal)\n",
    "\n",
    "response = requests.get(url)\n",
    "for country in response.json():\n",
    "    # print(country)\n",
    "    code = country[\"cca2\"]\n",
    "    name = country[\"name\"][\"common\"]\n",
    "\n",
    "    url = \"https://flagsapi.com/\"+ code +\"/flat/64.png\"\n",
    "    flag_response = requests.get(url)\n",
    "    with open(taal + \"/\" + name + \".png\", \"wb\") as file:\n",
    "        file.write(flag_response.content)\n",
    "        print(f\"Flag saved as {name}\")\n",
    "        \n",
    "\n"
   ]
  }
 ],
 "metadata": {
  "kernelspec": {
   "display_name": "Python 3",
   "language": "python",
   "name": "python3"
  },
  "language_info": {
   "codemirror_mode": {
    "name": "ipython",
    "version": 3
   },
   "file_extension": ".py",
   "mimetype": "text/x-python",
   "name": "python",
   "nbconvert_exporter": "python",
   "pygments_lexer": "ipython3",
   "version": "3.12.5"
  }
 },
 "nbformat": 4,
 "nbformat_minor": 2
}
