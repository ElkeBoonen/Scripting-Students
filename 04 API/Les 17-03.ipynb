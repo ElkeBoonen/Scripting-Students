{
 "cells": [
  {
   "cell_type": "markdown",
   "metadata": {},
   "source": [
    "# Les 6: 17/03 - API\n",
    "\n",
    "## Herhalingsoefeningen\n",
    "Download <a href=\"logbook.txt\">logbook.txt</a> van canvas, lees het en groepeer activiteiten per maand\n",
    "\n",
    "--> 2021-03-09 13:13:40 - Started work on project E\n",
    "\n",
    "output:\n",
    "\n",
    "- January : 70 activities \n",
    "- February : 75 activities \n",
    "- March : 88 activities \n",
    "- April : 72 activities \n",
    "- ..."
   ]
  },
  {
   "cell_type": "code",
   "execution_count": null,
   "metadata": {},
   "outputs": [
    {
     "name": "stdout",
     "output_type": "stream",
     "text": [
      "{'Maa': 88, 'Jan': 70, 'Sep': 87, 'Nov': 85, 'Feb': 75, 'Aug': 89, 'Jun': 91, 'Apr': 72, 'Mei': 94, 'Okt': 74, 'Dec': 88, 'Jul': 87}\n"
     ]
    }
   ],
   "source": [
    "from datetime import datetime\n",
    "\n",
    "months = [\"Jan\", \"Feb\", \"Maa\", \"Apr\", \"Mei\", \"Jun\", \"Jul\", \"Aug\", \"Sep\", \"Okt\", \"Nov\", \"Dec\"]\n",
    "dict = {}\n",
    "\n",
    "with open(\"logbook.txt\",\"r\") as file:\n",
    "    for line in file.readlines():\n",
    "        #date = datetime.strptime(line.split(\" - \")[0], r\"%Y-%m-%d %H:%M:%S\")\n",
    "        #print(date.month)\n",
    "\n",
    "        month = int(line[5:7])-1 # index van de lijst \n",
    "        if not months[month] in dict.keys(): # om de key aan te maken en eerst te checken of de key wel of niet bestaat\n",
    "            dict[months[month]] = 0\n",
    "        dict[months[month]] += 1\n",
    "\n",
    "print(dict)"
   ]
  },
  {
   "cell_type": "markdown",
   "metadata": {},
   "source": [
    "## JSON\n",
    "\n",
    "Werk altijd met iets dat je JSon-data mooer maakt!! Gewoon voor de duidelijkheid!\n",
    "https://codebeautify.org/jsonviewer\n",
    "\n",
    "json package --> https://docs.python.org/3/library/json.html "
   ]
  },
  {
   "cell_type": "code",
   "execution_count": 18,
   "metadata": {},
   "outputs": [
    {
     "name": "stdout",
     "output_type": "stream",
     "text": [
      "{'people': [{'name': 'Jason Statham', 'age': '54'}, {'name': 'Jason Momoa', 'age': '42'}, {'name': 'Jennifer Jason Leigh', 'age': '59'}]}\n",
      "{'name': 'Jason Statham', 'age': '54'}\n",
      "54\n"
     ]
    }
   ],
   "source": [
    "import json\n",
    "\n",
    "data = json.loads('{\"people\": [{\"name\": \"Jason Statham\", \"age\": \"54\"}, {\"name\": \"Jason Momoa\", \"age\": \"42\"}, {\"name\": \"Jennifer Jason Leigh\", \"age\": \"59\"}]}')\n",
    "print(data)\n",
    "print(data[\"people\"][0])\n",
    "print(data[\"people\"][0][\"age\"])"
   ]
  },
  {
   "cell_type": "code",
   "execution_count": 79,
   "metadata": {},
   "outputs": [
    {
     "name": "stdout",
     "output_type": "stream",
     "text": [
      "{'people': [{'name': 'Jason Statham', 'age': '54'}, {'name': 'Jason Momoa', 'age': '42'}, {'name': 'Jennifer Jason Leigh', 'age': '59'}]}\n",
      "{'name': 'Jason Statham', 'age': '54'}\n",
      "54\n",
      "{'books': [{'isbn': '9781593275846', 'title': 'Eloquent JavaScript, Second Edition', 'subtitle': 'A Modern Introduction to Programming', 'author': 'Marijn Haverbeke', 'published': '2014-12-14T00:00:00.000Z', 'publisher': 'No Starch Press', 'pages': 472, 'description': 'JavaScript lies at the heart of almost every modern web application, from social apps to the newest browser-based games. Though simple for beginners to pick up and play with, JavaScript is a flexible, complex language that you can use to build full-scale applications.', 'website': 'http://eloquentjavascript.net/'}, {'isbn': '9781449331818', 'title': 'Learning JavaScript Design Patterns', 'subtitle': \"A JavaScript and jQuery Developer's Guide\", 'author': 'Addy Osmani', 'published': '2012-07-01T00:00:00.000Z', 'publisher': \"O'Reilly Media\", 'pages': 254, 'description': \"With Learning JavaScript Design Patterns, you'll learn how to write beautiful, structured, and maintainable JavaScript by applying classical and modern design patterns to the language. If you want to keep your code efficient, more manageable, and up-to-date with the latest best practices, this book is for you.\", 'website': 'http://www.addyosmani.com/resources/essentialjsdesignpatterns/book/'}, {'isbn': '9781449365035', 'title': 'Speaking JavaScript', 'subtitle': 'An In-Depth Guide for Programmers', 'author': 'Axel Rauschmayer', 'published': '2014-02-01T00:00:00.000Z', 'publisher': \"O'Reilly Media\", 'pages': 460, 'description': 'Like it or not, JavaScript is everywhere these days-from browser to server to mobile-and now you, too, need to learn the language or dive deeper than you have. This concise book guides you into and through JavaScript, written by a veteran programmer who once found himself in the same position.', 'website': 'http://speakingjs.com/'}, {'isbn': '9781491950296', 'title': 'Programming JavaScript Applications', 'subtitle': 'Robust Web Architecture with Node, HTML5, and Modern JS Libraries', 'author': 'Eric Elliott', 'published': '2014-07-01T00:00:00.000Z', 'publisher': \"O'Reilly Media\", 'pages': 254, 'description': \"Take advantage of JavaScript's power to build robust web-scale or enterprise applications that are easy to extend and maintain. By applying the design patterns outlined in this practical book, experienced JavaScript developers will learn how to write flexible and resilient code that's easier-yes, easier-to work with as your code base grows.\", 'website': 'http://chimera.labs.oreilly.com/books/1234000000262/index.html'}, {'isbn': '9781593277574', 'title': 'Understanding ECMAScript 6', 'subtitle': 'The Definitive Guide for JavaScript Developers', 'author': 'Nicholas C. Zakas', 'published': '2016-09-03T00:00:00.000Z', 'publisher': 'No Starch Press', 'pages': 352, 'description': 'ECMAScript 6 represents the biggest update to the core of JavaScript in the history of the language. In Understanding ECMAScript 6, expert developer Nicholas C. Zakas provides a complete guide to the object types, syntax, and other exciting changes that ECMAScript 6 brings to JavaScript.', 'website': 'https://leanpub.com/understandinges6/read'}, {'isbn': '9781491904244', 'title': \"You Don't Know JS\", 'subtitle': 'ES6 & Beyond', 'author': 'Kyle Simpson', 'published': '2015-12-27T00:00:00.000Z', 'publisher': \"O'Reilly Media\", 'pages': 278, 'description': 'No matter how much experience you have with JavaScript, odds are you donâ€™t fully understand the language. As part of the \"You Donâ€™t Know JS\" series, this compact guide focuses on new features available in ECMAScript 6 (ES6), the latest version of the standard upon which JavaScript is built.', 'website': 'https://github.com/getify/You-Dont-Know-JS/tree/master/es6%20&%20beyond'}, {'isbn': '9781449325862', 'title': 'Git Pocket Guide', 'subtitle': 'A Working Introduction', 'author': 'Richard E. Silverman', 'published': '2013-08-02T00:00:00.000Z', 'publisher': \"O'Reilly Media\", 'pages': 234, 'description': 'This pocket guide is the perfect on-the-job companion to Git, the distributed version control system. It provides a compact, readable introduction to Git for new users, as well as a reference to common commands and procedures for those of you with Git experience.', 'website': 'http://chimera.labs.oreilly.com/books/1230000000561/index.html'}, {'isbn': '9781449337711', 'title': 'Designing Evolvable Web APIs with ASP.NET', 'subtitle': 'Harnessing the Power of the Web', 'author': 'Glenn Block, et al.', 'published': '2014-04-07T00:00:00.000Z', 'publisher': \"O'Reilly Media\", 'pages': 538, 'description': 'Design and build Web APIs for a broad range of clientsâ€”including browsers and mobile devicesâ€”that can adapt to change over time. This practical, hands-on guide takes you through the theory and tools you need to build evolvable HTTP services with Microsoftâ€™s ASP.NET Web API framework. In the process, youâ€™ll learn how design and implement a real-world Web API.', 'website': 'http://chimera.labs.oreilly.com/books/1234000001708/index.html'}]}\n",
      "Eloquent JavaScript, Second Edition\n",
      "Learning JavaScript Design Patterns\n",
      "Speaking JavaScript\n",
      "Programming JavaScript Applications\n",
      "Understanding ECMAScript 6\n",
      "You Don't Know JS\n",
      "Git Pocket Guide\n",
      "Designing Evolvable Web APIs with ASP.NET\n"
     ]
    }
   ],
   "source": [
    "import json\n",
    "\n",
    "file = open(\"jason.json\")\n",
    "data = json.load(file)\n",
    "\n",
    "print(data)\n",
    "print(data[\"people\"][0])\n",
    "print(data[\"people\"][0][\"age\"])\n",
    "\n",
    "file.close()\n",
    "\n",
    "file = open(\"books.json\")\n",
    "books = json.load(file)\n",
    "\n",
    "print(books)\n",
    "\n",
    "for book in books[\"books\"]:\n",
    "    print(book[\"title\"])\n",
    "\n",
    "file.close()\n",
    "\n"
   ]
  },
  {
   "cell_type": "code",
   "execution_count": 29,
   "metadata": {},
   "outputs": [],
   "source": [
    "file = open(\"books2.json\",\"w\")\n",
    "json.dump(books, file)\n",
    "file.close()"
   ]
  },
  {
   "cell_type": "markdown",
   "metadata": {},
   "source": [
    "## API'S\n",
    "\n",
    "Om te kunnen werken met API's installeer requests\n",
    "\n",
    "https://pypi.org/project/requests/"
   ]
  },
  {
   "cell_type": "code",
   "execution_count": 30,
   "metadata": {},
   "outputs": [
    {
     "name": "stdout",
     "output_type": "stream",
     "text": [
      "Requirement already satisfied: requests in c:\\users\\elkeb\\appdata\\local\\programs\\python\\python312\\lib\\site-packages (2.32.3)\n",
      "Requirement already satisfied: charset-normalizer<4,>=2 in c:\\users\\elkeb\\appdata\\local\\programs\\python\\python312\\lib\\site-packages (from requests) (3.3.2)\n",
      "Requirement already satisfied: idna<4,>=2.5 in c:\\users\\elkeb\\appdata\\local\\programs\\python\\python312\\lib\\site-packages (from requests) (3.8)\n",
      "Requirement already satisfied: urllib3<3,>=1.21.1 in c:\\users\\elkeb\\appdata\\local\\programs\\python\\python312\\lib\\site-packages (from requests) (2.2.2)\n",
      "Requirement already satisfied: certifi>=2017.4.17 in c:\\users\\elkeb\\appdata\\local\\programs\\python\\python312\\lib\\site-packages (from requests) (2024.7.4)\n"
     ]
    },
    {
     "name": "stderr",
     "output_type": "stream",
     "text": [
      "\n",
      "[notice] A new release of pip is available: 24.2 -> 25.0.1\n",
      "[notice] To update, run: python.exe -m pip install --upgrade pip\n"
     ]
    }
   ],
   "source": [
    "! pip install requests"
   ]
  },
  {
   "cell_type": "markdown",
   "metadata": {},
   "source": [
    "https://api.kanye.rest/"
   ]
  },
  {
   "cell_type": "code",
   "execution_count": 41,
   "metadata": {},
   "outputs": [
    {
     "name": "stdout",
     "output_type": "stream",
     "text": [
      "200\n",
      "<requests.adapters.HTTPAdapter object at 0x0000020B1F9888F0>\n",
      "{'Date': 'Mon, 17 Mar 2025 14:38:07 GMT', 'Content-Type': 'application/json; charset=UTF-8', 'Content-Length': '31', 'Connection': 'keep-alive', 'Access-Control-Allow-Origin': '*', 'Report-To': '{\"endpoints\":[{\"url\":\"https:\\\\/\\\\/a.nel.cloudflare.com\\\\/report\\\\/v4?s=G7245Y7eniwXb2UHnDhN6tO3J8TM0u9KPd6BSk7zh6ivHPh06ccuIj%2Bdd2LFG9eLVaqk8h50UX%2FvFEKqnG3TFAcrwjjyqT9Ztrdnic5RDNOKNXEYJVpHM7cMHX8tLwuTJg%3D%3D\"}],\"group\":\"cf-nel\",\"max_age\":604800}', 'NEL': '{\"success_fraction\":0,\"report_to\":\"cf-nel\",\"max_age\":604800}', 'Vary': 'Accept-Encoding', 'Server': 'cloudflare', 'CF-RAY': '921d3b6edb0cfba0-AMS', 'alt-svc': 'h3=\":443\"; ma=86400', 'server-timing': 'cfL4;desc=\"?proto=TCP&rtt=14391&min_rtt=14062&rtt_var=5509&sent=5&recv=6&lost=0&retrans=0&sent_bytes=2835&recv_bytes=764&delivery_rate=252168&cwnd=242&unsent_bytes=0&cid=4cb921b16c692be3&ts=31&x=0\"'}\n",
      "b'{\"quote\":\"Empathy is the glue\"}'\n",
      "Empathy is the glue\n",
      "{'quote': 'Empathy is the glue'}\n",
      "Empathy is the glue\n"
     ]
    }
   ],
   "source": [
    "import requests\n",
    "import json\n",
    "\n",
    "url = \"https://api.kanye.rest/\"\n",
    "\n",
    "response = requests.get(url)\n",
    "print(response.status_code)\n",
    "print(response.connection)\n",
    "print(response.headers)\n",
    "print(response.content) # text\n",
    "\n",
    "data = json.loads(response.content) # text omzetten json!\n",
    "print(data[\"quote\"])\n",
    "\n",
    "print(response.json())\n",
    "print(response.json()[\"quote\"])\n"
   ]
  },
  {
   "cell_type": "code",
   "execution_count": null,
   "metadata": {},
   "outputs": [
    {
     "name": "stdout",
     "output_type": "stream",
     "text": [
      "Oepsie, foutje!\n"
     ]
    }
   ],
   "source": [
    "import requests\n",
    "import json\n",
    "\n",
    "url = \"https://api.kanye.west/\" # fout in url\n",
    "\n",
    "try:\n",
    "    response = requests.get(url)\n",
    "except:\n",
    "    print(\"Oepsie, foutje!\")\n",
    "\n"
   ]
  },
  {
   "cell_type": "markdown",
   "metadata": {},
   "source": [
    "### Rapid API's\n",
    "\n",
    "De meeste API's hebben key's nodig! \n",
    "Maak een account op rapidapi https://rapidapi.com/ !\n",
    "\n",
    "--> vertrek altijd van de voorbeelden! code snippets"
   ]
  },
  {
   "cell_type": "code",
   "execution_count": null,
   "metadata": {},
   "outputs": [
    {
     "name": "stdout",
     "output_type": "stream",
     "text": [
      "elke en christophe ==> True Love\n"
     ]
    }
   ],
   "source": [
    "import requests\n",
    "\n",
    "fname = input(\"eerste naam\")\n",
    "sname = input(\"tweede naam\")\n",
    "\n",
    "url = \"https://the-love-calculator.p.rapidapi.com/love-calculator\"\n",
    "querystring = {\"fname\":fname,\"sname\":sname}\n",
    "\n",
    "headers = {\n",
    "\t\"x-rapidapi-key\": \"****\",\n",
    "\t\"x-rapidapi-host\": \"the-love-calculator.p.rapidapi.com\"\n",
    "}\n",
    "\n",
    "response = requests.get(url, headers=headers, params=querystring)\n",
    "\n",
    "print(fname, \"en\", sname, \"==>\", response.json()[\"result: \"])"
   ]
  },
  {
   "cell_type": "code",
   "execution_count": null,
   "metadata": {},
   "outputs": [
    {
     "name": "stdout",
     "output_type": "stream",
     "text": [
      "{'domain_name': 'example.com', 'registrar': 'reserved-internet assigned numbers authority', 'registrar_url': 'http://res-dom.iana.org', 'whois_server': 'whois.iana.org', 'updated_date': 1723618894, 'creation_date': 808372800, 'expiration_date': 1755057600, 'name_servers': ['a.iana-servers.net', 'b.iana-servers.net'], 'dnssec': 'signeddelegation'}\n"
     ]
    }
   ],
   "source": [
    "import requests\n",
    "\n",
    "url = \"https://whois-by-api-ninjas.p.rapidapi.com/v1/whois\"\n",
    "\n",
    "querystring = {\"domain\":\"example.com\"}\n",
    "\n",
    "headers = {\n",
    "\t\"x-rapidapi-key\": \"****\",\n",
    "\t\"x-rapidapi-host\": \"whois-by-api-ninjas.p.rapidapi.com\"\n",
    "}\n",
    "\n",
    "response = requests.get(url, headers=headers, params=querystring)\n",
    "\n",
    "print(response.json())"
   ]
  },
  {
   "cell_type": "markdown",
   "metadata": {},
   "source": [
    "### Oefening Voorbeeldzin --> language API --> Land info\n",
    "\n",
    "- Gebruik api van ChatGPT om een voorbeeld zin te maken in een specifieke taal --> https://community.openai.com/t/cheat-sheet-mastering-temperature-and-top-p-in-chatgpt-api/172683\n",
    "- Gebruik een language dedector om op basis van de voorbeeld taal te raden \n",
    "- Gebruik een api om info over land van gesproken terug te krijgen"
   ]
  },
  {
   "cell_type": "code",
   "execution_count": null,
   "metadata": {},
   "outputs": [
    {
     "name": "stdout",
     "output_type": "stream",
     "text": [
      "بالطبع، إليك جملة باللغة العربية:  \n",
      "أنا أحب القراءة في وقت الفراغ.\n"
     ]
    }
   ],
   "source": [
    "import requests\n",
    "\n",
    "url = \"https://chatgpt-42.p.rapidapi.com/conversationgpt4\"\n",
    "\n",
    "taal = input(\"Geef een taal\")\n",
    "\n",
    "payload = {\n",
    "\t\"messages\": [\n",
    "\t\t{\n",
    "\t\t\t\"role\": \"user\",\n",
    "\t\t\t\"content\": \"Geef een voorbeeldzin in de volgende taal: \" + taal + \"En toon enkel en alleen de voorbeeldzin in het resultaat\"\n",
    "\t\t}\n",
    "\t],\n",
    "\t\"system_prompt\": \"\",\n",
    "\t\"temperature\": 0.9,\n",
    "\t\"top_k\": 5,\n",
    "\t\"top_p\": 0.9,\n",
    "\t\"max_tokens\": 256,\n",
    "\t\"web_access\": False\n",
    "}\n",
    "headers = {\n",
    "\t\"x-rapidapi-key\": \"***\",\n",
    "\t\"x-rapidapi-host\": \"chatgpt-42.p.rapidapi.com\",\n",
    "\t\"Content-Type\": \"application/json\"\n",
    "}\n",
    "\n",
    "response = requests.post(url, json=payload, headers=headers)\n",
    "\n",
    "zin = response.json()[\"result\"]\n",
    "print(zin)"
   ]
  },
  {
   "cell_type": "code",
   "execution_count": null,
   "metadata": {},
   "outputs": [
    {
     "name": "stdout",
     "output_type": "stream",
     "text": [
      "Arabic\n"
     ]
    }
   ],
   "source": [
    "import requests\n",
    "\n",
    "url = \"https://text-language-by-api-ninjas.p.rapidapi.com/v1/textlanguage\"\n",
    "\n",
    "querystring = {\"text\":zin}\n",
    "\n",
    "headers = {\n",
    "\t\"x-rapidapi-key\": \"***\",\n",
    "\t\"x-rapidapi-host\": \"text-language-by-api-ninjas.p.rapidapi.com\"\n",
    "}\n",
    "\n",
    "response = requests.get(url, headers=headers, params=querystring)\n",
    "\n",
    "taal = response.json()[\"language\"]\n",
    "print(taal)"
   ]
  },
  {
   "cell_type": "code",
   "execution_count": 78,
   "metadata": {},
   "outputs": [
    {
     "name": "stdout",
     "output_type": "stream",
     "text": [
      "Kuwait\n"
     ]
    },
    {
     "ename": "TypeError",
     "evalue": "unsupported operand type(s) for +: 'dict' and 'str'",
     "output_type": "error",
     "traceback": [
      "\u001b[1;31m---------------------------------------------------------------------------\u001b[0m",
      "\u001b[1;31mTypeError\u001b[0m                                 Traceback (most recent call last)",
      "Cell \u001b[1;32mIn[78], line 13\u001b[0m\n\u001b[0;32m     11\u001b[0m \u001b[38;5;28mprint\u001b[39m(country[\u001b[38;5;124m\"\u001b[39m\u001b[38;5;124mname\u001b[39m\u001b[38;5;124m\"\u001b[39m][\u001b[38;5;124m\"\u001b[39m\u001b[38;5;124mcommon\u001b[39m\u001b[38;5;124m\"\u001b[39m])\n\u001b[0;32m     12\u001b[0m url \u001b[38;5;241m=\u001b[39m \u001b[38;5;124m\"\u001b[39m\u001b[38;5;124mhttps://flagsapi.com/\u001b[39m\u001b[38;5;124m\"\u001b[39m\u001b[38;5;241m+\u001b[39m code \u001b[38;5;241m+\u001b[39m\u001b[38;5;124m\"\u001b[39m\u001b[38;5;124m/flat/64.png\u001b[39m\u001b[38;5;124m\"\u001b[39m\n\u001b[1;32m---> 13\u001b[0m \u001b[38;5;28;01mwith\u001b[39;00m \u001b[38;5;28mopen\u001b[39m(\u001b[43mcountry\u001b[49m\u001b[43m \u001b[49m\u001b[38;5;241;43m+\u001b[39;49m\u001b[43m \u001b[49m\u001b[38;5;124;43m\"\u001b[39;49m\u001b[38;5;124;43m.png\u001b[39;49m\u001b[38;5;124;43m\"\u001b[39;49m) \u001b[38;5;28;01mas\u001b[39;00m file:\n\u001b[0;32m     14\u001b[0m     file\u001b[38;5;241m.\u001b[39mwrite(url)\n",
      "\u001b[1;31mTypeError\u001b[0m: unsupported operand type(s) for +: 'dict' and 'str'"
     ]
    }
   ],
   "source": [
    "# https://restcountries.com/v3.1/lang/spanish\n",
    "\n",
    "import requests\n",
    "url = \"https://restcountries.com/v3.1/lang/\" + taal\n",
    "\n",
    "response = requests.get(url)\n",
    "for country in response.json():\n",
    "    # print(country)\n",
    "    code = country[\"cca2\"]\n",
    "    name = country[\"name\"][\"common\"]\n",
    "    print(country[\"name\"][\"common\"])\n",
    "    url = \"https://flagsapi.com/\"+ code +\"/flat/64.png\"\n",
    "    with open(country + \".png\") as file:\n",
    "        file.write(url)\n",
    "        \n",
    "\n"
   ]
  }
 ],
 "metadata": {
  "kernelspec": {
   "display_name": "Python 3",
   "language": "python",
   "name": "python3"
  },
  "language_info": {
   "codemirror_mode": {
    "name": "ipython",
    "version": 3
   },
   "file_extension": ".py",
   "mimetype": "text/x-python",
   "name": "python",
   "nbconvert_exporter": "python",
   "pygments_lexer": "ipython3",
   "version": "3.12.5"
  }
 },
 "nbformat": 4,
 "nbformat_minor": 2
}
