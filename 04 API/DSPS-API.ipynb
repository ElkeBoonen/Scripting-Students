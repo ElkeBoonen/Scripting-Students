{
 "cells": [
  {
   "attachments": {},
   "cell_type": "markdown",
   "metadata": {},
   "source": [
    "# Lesson 5 - API - 30/03\n",
    "\n",
    "- files recap exercise\n",
    "- API's ?!?\n",
    "- Json <> XML\n",
    "- The fun stuff! \n",
    "\n",
    "## Recap Files\n",
    "Download the <a href=\"logbook.txt\">logbook.txt</a> file from canvas, read it and group the activities per month\n",
    "\n",
    "- 2021-03-09 13:13:40 - Started work on project E\n",
    "- 2021-01-05 13:22:18 - Began coding on project B\n",
    "- 2020-09-18 16:49:34 - Reviewed code on project B\n",
    "- 2022-11-14 16:17:50 - Started work on project D\n",
    "- ....\n",
    "\n",
    "output:\n",
    "\n",
    "January : 70 activities <br>\n",
    "February : 75 activities <br>\n",
    "March : 88 activities <br>\n",
    "...\n",
    "\n"
   ]
  },
  {
   "cell_type": "code",
   "execution_count": 9,
   "metadata": {},
   "outputs": [
    {
     "name": "stdout",
     "output_type": "stream",
     "text": [
      "January : 70 activities\n",
      "Februari : 75 activities\n",
      "March : 88 activities\n",
      "April : 72 activities\n",
      "May : 94 activities\n",
      "Juni : 91 activities\n",
      "July : 87 activities\n",
      "August : 89 activities\n",
      "September : 87 activities\n",
      "October : 74 activities\n",
      "November : 85 activities\n",
      "December : 88 activities\n"
     ]
    }
   ],
   "source": [
    "months=[\"January\",\"Februari\",\"March\",\"April\",\"May\",\"Juni\",\"July\",\"August\",\"September\",\"October\",\"November\",\"December\"]\n",
    "activities = {}\n",
    "\n",
    "with open(\"logbook.txt\",\"r\") as file:\n",
    "    for line in file.readlines():\n",
    "        month = int(line.split(\"-\")[1])-1\n",
    "        month_str = months[month]\n",
    "\n",
    "        if month_str in activities.keys():\n",
    "            activities[month_str] += 1\n",
    "        else:\n",
    "            activities[month_str] = 1\n",
    "      \n",
    "for month in months:\n",
    "      print(month,\":\",activities[month],\"activities\")"
   ]
  },
  {
   "attachments": {},
   "cell_type": "markdown",
   "metadata": {},
   "source": [
    "## JSON & XML\n",
    "\n",
    "module json\n",
    "\n",
    "Always check tree view of json file! It will make things a lot easier! \n",
    "https://codebeautify.org/jsonviewer\n",
    "\n",
    "<img src=\"screenshot_dsps.png\">"
   ]
  },
  {
   "cell_type": "code",
   "execution_count": 18,
   "metadata": {},
   "outputs": [
    {
     "name": "stdout",
     "output_type": "stream",
     "text": [
      "Elke\n",
      "Eloquent JavaScript, Second Edition\n",
      "Learning JavaScript Design Patterns\n",
      "Speaking JavaScript\n",
      "Programming JavaScript Applications\n",
      "Understanding ECMAScript 6\n",
      "You Don't Know JS\n",
      "Git Pocket Guide\n",
      "Designing Evolvable Web APIs with ASP.NET\n"
     ]
    }
   ],
   "source": [
    "import json\n",
    "\n",
    "json_data = '{\"name\":\"Elke\", \"age\":42, \"study\":\"computer science\"}'\n",
    "data = json.loads(json_data)\n",
    "print(data[\"name\"])\n",
    "\n",
    "json_file = open(\"books.json\",\"r\")\n",
    "data = json.load(json_file)\n",
    "for book in data[\"books\"]:\n",
    "    print(book[\"title\"])"
   ]
  },
  {
   "cell_type": "code",
   "execution_count": 19,
   "metadata": {},
   "outputs": [],
   "source": [
    "json_file = open(\"activities.json\",\"w\")\n",
    "json.dump(activities, json_file)\n",
    "json_file.close()"
   ]
  }
 ],
 "metadata": {
  "kernelspec": {
   "display_name": "Python 3",
   "language": "python",
   "name": "python3"
  },
  "language_info": {
   "codemirror_mode": {
    "name": "ipython",
    "version": 3
   },
   "file_extension": ".py",
   "mimetype": "text/x-python",
   "name": "python",
   "nbconvert_exporter": "python",
   "pygments_lexer": "ipython3",
   "version": "3.7.4"
  },
  "orig_nbformat": 4
 },
 "nbformat": 4,
 "nbformat_minor": 2
}
