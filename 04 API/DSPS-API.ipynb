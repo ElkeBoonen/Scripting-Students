{
 "cells": [
  {
   "attachments": {},
   "cell_type": "markdown",
   "metadata": {},
   "source": [
    "# Lesson 5 - API - 30/03\n",
    "\n",
    "- files recap exercise\n",
    "- API's ?!?\n",
    "- Json <> XML\n",
    "- The fun stuff! \n",
    "\n",
    "## Recap Files\n",
    "Download the <a href=\"logbook.txt\">logbook.txt</a> file from canvas, read it and group the activities per month\n",
    "\n",
    "- 2021-03-09 13:13:40 - Started work on project E\n",
    "- 2021-01-05 13:22:18 - Began coding on project B\n",
    "- 2020-09-18 16:49:34 - Reviewed code on project B\n",
    "- 2022-11-14 16:17:50 - Started work on project D\n",
    "- ....\n",
    "\n",
    "output:\n",
    "\n",
    "January : 70 activities <br>\n",
    "February : 75 activities <br>\n",
    "March : 88 activities <br>\n",
    "...\n",
    "\n"
   ]
  },
  {
   "cell_type": "code",
   "execution_count": null,
   "metadata": {},
   "outputs": [],
   "source": [
    "months=[\"January\",\"Februari\",\"March\",\"April\",\"May\",\"Juni\",\"July\",\"August\",\"September\",\"October\",\"November\",\"December\"]\n",
    "activities = {}\n",
    "\n",
    "with open(\"logbook.txt\",\"r\") as file:\n",
    "    for line in file.readlines():\n",
    "        month = int(line.split(\"-\")[1])-1\n",
    "        month_str = months[month]\n",
    "\n",
    "        if month_str in activities.keys():\n",
    "            activities[month_str] += 1\n",
    "        else:\n",
    "            activities[month_str] = 1\n",
    "      \n",
    "for month in months:\n",
    "      print(month,\":\",activities[month],\"activities\")"
   ]
  },
  {
   "attachments": {},
   "cell_type": "markdown",
   "metadata": {},
   "source": [
    "## JSON & XML\n",
    "\n",
    "module json\n",
    "\n",
    "Always check tree view of json file! It will make things a lot easier! \n",
    "https://codebeautify.org/jsonviewer\n",
    "\n",
    "<img src=\"screenshot_dsps.png\">"
   ]
  },
  {
   "cell_type": "code",
   "execution_count": null,
   "metadata": {},
   "outputs": [],
   "source": [
    "import json\n",
    "\n",
    "json_data = '{\"name\":\"Elke\", \"age\":42, \"study\":\"computer science\"}'\n",
    "data = json.loads(json_data)\n",
    "print(data[\"name\"])\n",
    "\n",
    "json_file = open(\"books.json\",\"r\")\n",
    "data = json.load(json_file)\n",
    "for book in data[\"books\"]:\n",
    "    print(book[\"title\"])"
   ]
  },
  {
   "cell_type": "code",
   "execution_count": null,
   "metadata": {},
   "outputs": [],
   "source": [
    "json_file = open(\"activities.json\",\"w\")\n",
    "json.dump(activities, json_file)\n",
    "json_file.close()"
   ]
  },
  {
   "attachments": {},
   "cell_type": "markdown",
   "metadata": {},
   "source": [
    "## Consume an API\n",
    "Making a request --> pip install requests\n",
    "\n",
    "You need an account on https://rapidapi.com/hub/ \n",
    "\n",
    "API's used:\n",
    "- https://api.kanye.rest/\n",
    "- https://jokes-by-api-ninjas.p.rapidapi.com/v1/jokes\n",
    "- https://love-calculator.p.rapidapi.com/getPercentage \n",
    "- https://weather-by-api-ninjas.p.rapidapi.com/v1/weather"
   ]
  },
  {
   "cell_type": "code",
   "execution_count": null,
   "metadata": {},
   "outputs": [],
   "source": [
    "! pip install requests"
   ]
  },
  {
   "cell_type": "code",
   "execution_count": null,
   "metadata": {},
   "outputs": [],
   "source": [
    "import json\n",
    "import requests\n",
    "\n",
    "url = \"https://api.kanye.rest/\"\n",
    "response = requests.get(url)\n",
    "print(response.status_code)\n",
    "\n",
    "text = response.text\n",
    "# if you loads the text into a json-object, then you can work with the json-object itself!\n",
    "data = json.loads(text)\n",
    "print(\"from text\", text, \"to json\", data[\"quote\"])\n",
    "\n",
    "data = response.json()\n",
    "print(data[\"quote\"])\n"
   ]
  },
  {
   "cell_type": "code",
   "execution_count": null,
   "metadata": {},
   "outputs": [],
   "source": [
    "import requests\n",
    "\n",
    "url = \"https://jokes-by-api-ninjas.p.rapidapi.com/v1/jokes\"\n",
    "\n",
    "headers = {\n",
    "\t\"X-RapidAPI-Key\": \"<your key>\",\n",
    "\t\"X-RapidAPI-Host\": \"jokes-by-api-ninjas.p.rapidapi.com\"\n",
    "}\n",
    "\n",
    "response = requests.request(\"GET\", url, headers=headers)\n",
    "\n",
    "print(response.json()[0])"
   ]
  },
  {
   "cell_type": "code",
   "execution_count": null,
   "metadata": {},
   "outputs": [],
   "source": [
    "import requests\n",
    "\n",
    "url = \"https://love-calculator.p.rapidapi.com/getPercentage\"\n",
    "\n",
    "sname=input(\"Give a name\")\n",
    "fname=input(\"Give a name\")\n",
    "\n",
    "querystring = {\"sname\":sname,\"fname\":fname}\n",
    "\n",
    "headers = {\n",
    "\t\"X-RapidAPI-Key\": \"<your key>\",\n",
    "\t\"X-RapidAPI-Host\": \"love-calculator.p.rapidapi.com\"\n",
    "}\n",
    "\n",
    "response = requests.request(\"GET\", url, headers=headers, params=querystring)\n",
    "data = response.json()\n",
    "print(data[\"percentage\"],\"% match --->\", data[\"result\"])"
   ]
  },
  {
   "cell_type": "code",
   "execution_count": null,
   "metadata": {},
   "outputs": [],
   "source": [
    "import requests\n",
    "import json\n",
    "\n",
    "url = \"https://weather-by-api-ninjas.p.rapidapi.com/v1/weather\"\n",
    "\n",
    "cityname = input(\"Enter a city\")\n",
    "\n",
    "querystring = {\"city\": cityname }\n",
    "\n",
    "headers = {\n",
    "\t\"X-RapidAPI-Key\": \"<your key>\",\n",
    "\t\"X-RapidAPI-Host\": \"weather-by-api-ninjas.p.rapidapi.com\"\n",
    "}\n",
    "\n",
    "try:\n",
    "\tresponse = requests.request(\"GET\", url, headers=headers, params=querystring)\n",
    "\tdata = response.json()\n",
    "\t# print(data)\n",
    "\n",
    "\tprint(\"Weather info from\", cityname)\n",
    "\tprint(\"Temperature\", data[\"temp\"],\"degrees but feels like\", data[\"feels_like\"],\"degrees\")\n",
    "except:\n",
    "\tprint(\"Oopsie, something went wrong!\")\n",
    "\n",
    "\n",
    "response = requests.request(\"GET\", url, headers=headers, params=querystring)\n",
    "if response.status_code == 200:\n",
    "\tdata = response.json()\n",
    "\t# print(data)\n",
    "\n",
    "\tprint(\"Weather info from\", cityname)\n",
    "\tprint(\"Temperature\", data[\"temp\"],\"degrees but feels like\", data[\"feels_like\"],\"degrees\")\n",
    "else:\n",
    "\tprint(\"Oopsie, something went wrong!\")\n"
   ]
  }
 ],
 "metadata": {
  "kernelspec": {
   "display_name": "Python 3",
   "language": "python",
   "name": "python3"
  },
  "language_info": {
   "codemirror_mode": {
    "name": "ipython",
    "version": 3
   },
   "file_extension": ".py",
   "mimetype": "text/x-python",
   "name": "python",
   "nbconvert_exporter": "python",
   "pygments_lexer": "ipython3",
   "version": "3.7.4"
  },
  "orig_nbformat": 4
 },
 "nbformat": 4,
 "nbformat_minor": 2
}
