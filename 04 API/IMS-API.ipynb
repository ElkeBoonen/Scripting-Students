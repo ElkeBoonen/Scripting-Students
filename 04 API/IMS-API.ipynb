{
 "cells": [
  {
   "attachments": {},
   "cell_type": "markdown",
   "metadata": {},
   "source": [
    "# Les 5 - API - 20/03\n",
    "\n",
    "- Herhaling Files\n",
    "- Werken met API's, wat zijn API's\n",
    "- JSON data\n",
    "- De toffe dingen ;)"
   ]
  },
  {
   "attachments": {},
   "cell_type": "markdown",
   "metadata": {},
   "source": [
    "## Herhalingsoefening Files\n",
    "\n",
    "Download the <a href=\"logbook.txt\">logbook.txt</a> file from canvas, read it and group the activities per month \n",
    "\n",
    "--> 2021-03-09 13:13:40 - Started work on project E\n",
    "\n",
    "<b>output:</b>\n",
    "\n",
    "- January : 70 activities \n",
    "- February : 75 activities \n",
    "- March : 88 activities \n",
    "- April : 72 activities \n",
    "- ..."
   ]
  },
  {
   "cell_type": "code",
   "execution_count": 18,
   "metadata": {},
   "outputs": [
    {
     "name": "stdout",
     "output_type": "stream",
     "text": [
      "January : 70 activities\n",
      "February : 75 activities\n",
      "March : 88 activities\n",
      "April : 72 activities\n",
      "May : 94 activities\n",
      "June : 91 activities\n",
      "July : 87 activities\n",
      "August : 89 activities\n",
      "September : 87 activities\n",
      "October : 74 activities\n",
      "November : 85 activities\n",
      "December : 88 activities\n"
     ]
    }
   ],
   "source": [
    "months = [\"January\", \"February\", \"March\", \"April\", \"May\", \"June\", \"July\", \n",
    "          \"August\", \"September\", \"October\", \"November\", \"December\"]\n",
    "\n",
    "activities = {}\n",
    "with open(\"logbook.txt\",\"r\") as file:\n",
    "    for line in file.readlines():\n",
    "        int_month = int(line[5:7])-1\n",
    "        \n",
    "        if months[int_month] in activities.keys():\n",
    "            activities[months[int_month]] += 1\n",
    "        else:\n",
    "            activities[months[int_month]] = 1\n",
    "\n",
    "for month in months:\n",
    "    print(month, \":\", activities[month], \"activities\")"
   ]
  },
  {
   "attachments": {},
   "cell_type": "markdown",
   "metadata": {},
   "source": [
    "## JSON\n",
    "Werken met JSON --> importeer module\n",
    "\n",
    "- load: file load\n",
    "- loads: string load\n",
    "\n",
    "Met dank aan https://openai.com/blog/chatgpt voor het maken van de data-file ;)\n",
    "\n",
    "Werk met https://codebeautify.org/jsonviewer om structuur JSON file te doorgronden!\n",
    "\n",
    "<img src=\"screenshot.png\">"
   ]
  },
  {
   "cell_type": "code",
   "execution_count": 16,
   "metadata": {},
   "outputs": [
    {
     "name": "stdout",
     "output_type": "stream",
     "text": [
      "{'name': 'John Smith', 'age': 35, 'email': 'john.smith@example.com'}\n",
      "{'name': 'John Smith', 'age': 35, 'email': 'john.smith@example.com', 'address': {'street': '123 Main St', 'city': 'Anytown', 'state': 'CA', 'zip': '12345'}, 'interests': ['reading', 'hiking', 'traveling']}\n",
      "John Smith\n",
      "{'street': '123 Main St', 'city': 'Anytown', 'state': 'CA', 'zip': '12345'}\n",
      "Anytown\n",
      "['reading', 'hiking', 'traveling']\n",
      "reading\n",
      "hiking\n",
      "traveling\n",
      "Jane Doe\n"
     ]
    }
   ],
   "source": [
    "import json\n",
    "\n",
    "# als je JSON data in een string zit\n",
    "json_data = '{\"name\": \"John Smith\", \"age\": 35, \"email\": \"john.smith@example.com\"}'\n",
    "data = json.loads(json_data)\n",
    "print(data)\n",
    "\n",
    "# als je JSON data in een file zit\n",
    "json_file = open(\"json.data\")   # eerst de file gewoon opent!!!\n",
    "data = json.load(json_file)     # dan pas JSON load!\n",
    "print(data)\n",
    "\n",
    "print(data[\"name\"])\n",
    "print(data[\"address\"])\n",
    "print(data[\"address\"][\"city\"])\n",
    "print(data[\"interests\"])\n",
    "for interest in data[\"interests\"]:\n",
    "    print(interest)\n",
    "\n",
    "# als je JSON data in een file zit\n",
    "json_file = open(\"heavy__json.data\")   # eerst de file gewoon opent!!!\n",
    "data = json.load(json_file)     # dan pas JSON load!\n",
    "print(data[\"employees\"][1][\"name\"])\n",
    "\n",
    "\n"
   ]
  },
  {
   "cell_type": "code",
   "execution_count": 21,
   "metadata": {},
   "outputs": [],
   "source": [
    "import json\n",
    "\n",
    "# dumps --> string\n",
    "# dump --> file\n",
    "\n",
    "json_file = open(\"activities.data\",\"w\")\n",
    "json.dump(activities, json_file)\n",
    "json_file.close()"
   ]
  },
  {
   "attachments": {},
   "cell_type": "markdown",
   "metadata": {},
   "source": [
    "## API's consumen\n",
    "\n",
    "gebruik module requests!"
   ]
  },
  {
   "cell_type": "code",
   "execution_count": 25,
   "metadata": {},
   "outputs": [
    {
     "name": "stdout",
     "output_type": "stream",
     "text": [
      "Requirement already satisfied: requests in c:\\users\\elkeb\\appdata\\local\\programs\\python\\python37\\lib\\site-packages (2.28.1)\n",
      "Requirement already satisfied: urllib3<1.27,>=1.21.1 in c:\\users\\elkeb\\appdata\\local\\programs\\python\\python37\\lib\\site-packages (from requests) (1.26.12)\n",
      "Requirement already satisfied: charset-normalizer<3,>=2 in c:\\users\\elkeb\\appdata\\local\\programs\\python\\python37\\lib\\site-packages (from requests) (2.1.1)\n",
      "Requirement already satisfied: certifi>=2017.4.17 in c:\\users\\elkeb\\appdata\\local\\programs\\python\\python37\\lib\\site-packages (from requests) (2022.9.14)\n",
      "Requirement already satisfied: idna<4,>=2.5 in c:\\users\\elkeb\\appdata\\local\\programs\\python\\python37\\lib\\site-packages (from requests) (3.4)\n"
     ]
    }
   ],
   "source": [
    "! pip install requests"
   ]
  },
  {
   "attachments": {},
   "cell_type": "markdown",
   "metadata": {},
   "source": [
    "### Kanye.rest\n",
    "\n",
    "https://api.kanye.rest/"
   ]
  },
  {
   "cell_type": "code",
   "execution_count": 41,
   "metadata": {},
   "outputs": [
    {
     "name": "stdout",
     "output_type": "stream",
     "text": [
      "status code 200\n",
      "content b'{\"quote\":\"I\\'ve known my mom since I was zero years old. She is quite dope.\"}'\n",
      "json {'quote': \"I've known my mom since I was zero years old. She is quite dope.\"}\n",
      "text {\"quote\":\"I've known my mom since I was zero years old. She is quite dope.\"}\n",
      "{'quote': \"I've known my mom since I was zero years old. She is quite dope.\"}\n",
      "I've known my mom since I was zero years old. She is quite dope.\n",
      "I've known my mom since I was zero years old. She is quite dope.\n",
      "I've known my mom since I was zero years old. She is quite dope.\n"
     ]
    }
   ],
   "source": [
    "import requests, json\n",
    "\n",
    "url = \"https://api.kanye.rest/\"\n",
    "\n",
    "response = requests.get(url)\n",
    "\n",
    "print(\"status code\",response.status_code)\n",
    "# print(\"headers\",response.headers)\n",
    "print(\"content\",response.content)\n",
    "print(\"json\",response.json())\n",
    "print(\"text\",response.text)\n",
    "\n",
    "json_data = json.loads(response.text)\n",
    "print(json_data)\n",
    "print(json_data[\"quote\"])\n",
    "\n",
    "# of gewoon rechtstreeks werken met json()\n",
    "print(response.json()[\"quote\"])\n",
    "\n",
    "# of met nog een tussenstap\n",
    "json_data = response.json()\n",
    "print(json_data[\"quote\"])"
   ]
  },
  {
   "attachments": {},
   "cell_type": "markdown",
   "metadata": {},
   "source": [
    "### Meer API's\n",
    "\n",
    "- https://rapidapi.com/hub\n",
    "- https://apilist.fun/\n"
   ]
  },
  {
   "cell_type": "code",
   "execution_count": 46,
   "metadata": {},
   "outputs": [
    {
     "name": "stdout",
     "output_type": "stream",
     "text": [
      "{\n",
      "    \"status\": \"success\",\n",
      "    \"data\": {\n",
      "        \"translatedText\": \"Esto es una prueba\"\n",
      "    }\n",
      "}\n"
     ]
    }
   ],
   "source": [
    "import requests\n",
    "\n",
    "url = \"https://text-translator2.p.rapidapi.com/translate\"\n",
    "\n",
    "source = \"nl\"\n",
    "target = \"es\"\n",
    "text = \"Dit is een test\"\n",
    "\n",
    "payload = \"source_language=\"+source+\"&target_language=\"+target+\"&text=\" + text\n",
    "headers = {\n",
    "\t\"content-type\": \"application/x-www-form-urlencoded\",\n",
    "\t\"X-RapidAPI-Key\": \"***\",\n",
    "\t\"X-RapidAPI-Host\": \"text-translator2.p.rapidapi.com\"\n",
    "}\n",
    "\n",
    "response = requests.request(\"POST\", url, data=payload, headers=headers)\n",
    "\n",
    "print(response.text)"
   ]
  },
  {
   "cell_type": "code",
   "execution_count": 47,
   "metadata": {},
   "outputs": [
    {
     "name": "stdout",
     "output_type": "stream",
     "text": [
      "{\"fname\":\"Christophe\",\"sname\":\"Elke\",\"percentage\":\"83\",\"result\":\"Congratulations! Good choice\"}\n"
     ]
    }
   ],
   "source": [
    "import requests\n",
    "\n",
    "url = \"https://love-calculator.p.rapidapi.com/getPercentage\"\n",
    "\n",
    "querystring = {\"sname\":\"Elke\",\"fname\":\"Christophe\"}\n",
    "\n",
    "headers = {\n",
    "\t\"X-RapidAPI-Key\": \"***\",\n",
    "\t\"X-RapidAPI-Host\": \"love-calculator.p.rapidapi.com\"\n",
    "}\n",
    "\n",
    "response = requests.request(\"GET\", url, headers=headers, params=querystring)\n",
    "\n",
    "\n",
    "print(response.text)"
   ]
  },
  {
   "cell_type": "code",
   "execution_count": 58,
   "metadata": {},
   "outputs": [
    {
     "name": "stdout",
     "output_type": "stream",
     "text": [
      "{\"is_valid\": true, \"country\": \"Canada\", \"country_code\": \"CA\", \"region_code\": \"QC\", \"region\": \"Quebec\", \"city\": \"Montreal\", \"zip\": \"H1K\", \"lat\": 45.6085, \"lon\": -73.5493, \"timezone\": \"America/Toronto\", \"isp\": \"Le Groupe Videotron Ltee\", \"address\": \"24.48.0.3\"}\n",
      "{\"cloud_pct\": 20, \"temp\": -2, \"feels_like\": -8, \"humidity\": 74, \"min_temp\": -6, \"max_temp\": 0, \"wind_speed\": 6.69, \"wind_degrees\": 240, \"sunrise\": 1679309877, \"sunset\": 1679353548}\n",
      "{\"num_results\":14,\"users\":[{\"id\":63177215,\"id_str\":\"63177215\",\"verified\":true,\"badges\":[],\"is_dm_able\":false,\"is_blocked\":false,\"can_media_tag\":false,\"name\":\"Montreal Gazette\",\"screen_name\":\"mtlgazette\",\"profile_image_url\":\"http:\\/\\/pbs.twimg.com\\/profile_images\\/877853843773464577\\/kX78tAtH_normal.jpg\",\"profile_image_url_https\":\"https:\\/\\/pbs.twimg.com\\/profile_images\\/877853843773464577\\/kX78tAtH_normal.jpg\",\"location\":\"Montreal, QC\",\"is_protected\":false,\"rounded_score\":0,\"social_proof\":0,\"connecting_user_count\":0,\"connecting_user_ids\":[],\"social_proofs_ordered\":[],\"social_context\":{\"following\":false,\"followed_by\":false},\"tokens\":[],\"inline\":false},{\"id\":71064895,\"id_str\":\"71064895\",\"verified\":true,\"badges\":[],\"is_dm_able\":false,\"is_blocked\":false,\"can_media_tag\":false,\"name\":\"Montr\\u00e9al\",\"screen_name\":\"Montreal\",\"profile_image_url\":\"http:\\/\\/pbs.twimg.com\\/profile_images\\/1440664497308385281\\/TOZJQmv7_normal.png\",\"profile_image_url_https\":\"https:\\/\\/pbs.twimg.com\\/profile_images\\/1440664497308385281\\/TOZJQmv7_normal.png\",\"location\":\"Montr\\u00e9al, Qu\\u00e9bec, Canada\",\"is_protected\":false,\"rounded_score\":0,\"social_proof\":0,\"connecting_user_count\":0,\"connecting_user_ids\":[],\"social_proofs_ordered\":[],\"social_context\":{\"following\":false,\"followed_by\":false},\"tokens\":[],\"inline\":false},{\"id\":19003664,\"id_str\":\"19003664\",\"verified\":true,\"badges\":[],\"is_dm_able\":false,\"is_blocked\":false,\"can_media_tag\":false,\"name\":\"CBC Montreal\",\"screen_name\":\"CBCMontreal\",\"profile_image_url\":\"http:\\/\\/pbs.twimg.com\\/profile_images\\/1177714546225664002\\/DaYIK6-0_normal.jpg\",\"profile_image_url_https\":\"https:\\/\\/pbs.twimg.com\\/profile_images\\/1177714546225664002\\/DaYIK6-0_normal.jpg\",\"location\":\"Montreal, Quebec\",\"is_protected\":false,\"rounded_score\":0,\"social_proof\":0,\"connecting_user_count\":0,\"connecting_user_ids\":[],\"social_proofs_ordered\":[],\"social_context\":{\"following\":false,\"followed_by\":false},\"tokens\":[],\"inline\":false},{\"id\":21106414,\"id_str\":\"21106414\",\"verified\":true,\"badges\":[],\"is_dm_able\":false,\"is_blocked\":false,\"can_media_tag\":false,\"name\":\"CTV Montreal\",\"screen_name\":\"CTVMontreal\",\"profile_image_url\":\"http:\\/\\/pbs.twimg.com\\/profile_images\\/1111309233906163713\\/RDKz0QY6_normal.png\",\"profile_image_url_https\":\"https:\\/\\/pbs.twimg.com\\/profile_images\\/1111309233906163713\\/RDKz0QY6_normal.png\",\"location\":\"Montreal\",\"is_protected\":false,\"rounded_score\":0,\"social_proof\":0,\"connecting_user_count\":0,\"connecting_user_ids\":[],\"social_proofs_ordered\":[],\"social_context\":{\"following\":false,\"followed_by\":false},\"tokens\":[],\"inline\":false},{\"id\":19363331,\"id_str\":\"19363331\",\"verified\":true,\"badges\":[],\"is_dm_able\":false,\"is_blocked\":false,\"can_media_tag\":false,\"name\":\"Miss Montreal\",\"screen_name\":\"MissMontreal\",\"profile_image_url\":\"http:\\/\\/pbs.twimg.com\\/profile_images\\/1550067802895171584\\/36uc0wB9_normal.jpg\",\"profile_image_url_https\":\"https:\\/\\/pbs.twimg.com\\/profile_images\\/1550067802895171584\\/36uc0wB9_normal.jpg\",\"location\":\"Holland\",\"is_protected\":false,\"rounded_score\":0,\"social_proof\":0,\"connecting_user_count\":0,\"connecting_user_ids\":[],\"social_proofs_ordered\":[],\"social_context\":{\"following\":false,\"followed_by\":false},\"tokens\":[],\"inline\":false},{\"id\":218565801,\"id_str\":\"218565801\",\"verified\":true,\"badges\":[],\"is_dm_able\":false,\"is_blocked\":false,\"can_media_tag\":false,\"name\":\"Global Montreal\",\"screen_name\":\"Global_Montreal\",\"profile_image_url\":\"http:\\/\\/pbs.twimg.com\\/profile_images\\/1580226913670422528\\/BaBmVSTD_normal.jpg\",\"profile_image_url_https\":\"https:\\/\\/pbs.twimg.com\\/profile_images\\/1580226913670422528\\/BaBmVSTD_normal.jpg\",\"location\":\"Montreal\",\"is_protected\":false,\"rounded_score\":0,\"social_proof\":0,\"connecting_user_count\":0,\"connecting_user_ids\":[],\"social_proofs_ordered\":[],\"social_context\":{\"following\":false,\"followed_by\":false},\"tokens\":[],\"inline\":false},{\"id\":27774639,\"id_str\":\"27774639\",\"verified\":true,\"badges\":[],\"is_dm_able\":false,\"is_blocked\":false,\"can_media_tag\":false,\"name\":\"CJAD 800 Montreal\",\"screen_name\":\"CJAD800\",\"profile_image_url\":\"http:\\/\\/pbs.twimg.com\\/profile_images\\/1592955748732076034\\/Sd1DlazW_normal.jpg\",\"profile_image_url_https\":\"https:\\/\\/pbs.twimg.com\\/profile_images\\/1592955748732076034\\/Sd1DlazW_normal.jpg\",\"location\":\"Montr\\u00e9al, Qu\\u00e9bec\",\"is_protected\":false,\"rounded_score\":0,\"social_proof\":0,\"connecting_user_count\":0,\"connecting_user_ids\":[],\"social_proofs_ordered\":[],\"social_context\":{\"following\":false,\"followed_by\":false},\"tokens\":[],\"inline\":false},{\"id\":25677545,\"id_str\":\"25677545\",\"verified\":true,\"badges\":[],\"is_dm_able\":false,\"is_blocked\":false,\"can_media_tag\":false,\"name\":\"of Montreal~she\\/he\\/they\\/them\",\"screen_name\":\"xxofMontrealxx\",\"profile_image_url\":\"http:\\/\\/pbs.twimg.com\\/profile_images\\/1542285013387034625\\/2go8TWPw_normal.jpg\",\"profile_image_url_https\":\"https:\\/\\/pbs.twimg.com\\/profile_images\\/1542285013387034625\\/2go8TWPw_normal.jpg\",\"location\":\"sunlandia,sunlandia\",\"is_protected\":false,\"rounded_score\":0,\"social_proof\":0,\"connecting_user_count\":0,\"connecting_user_ids\":[],\"social_proofs_ordered\":[],\"social_context\":{\"following\":false,\"followed_by\":false},\"tokens\":[],\"inline\":false},{\"id\":900736629182214144,\"id_str\":\"900736629182214144\",\"verified\":false,\"badges\":[],\"is_dm_able\":false,\"is_blocked\":false,\"can_media_tag\":false,\"name\":\"ConsulatTurMontreal\",\"screen_name\":\"ConsulatTurMon\",\"profile_image_url\":\"http:\\/\\/pbs.twimg.com\\/profile_images\\/1622981974141853698\\/GdrrqyvL_normal.jpg\",\"profile_image_url_https\":\"https:\\/\\/pbs.twimg.com\\/profile_images\\/1622981974141853698\\/GdrrqyvL_normal.jpg\",\"location\":\"Montr\\u00e9al, Qu\\u00e9bec\",\"is_protected\":false,\"rounded_score\":0,\"social_proof\":0,\"connecting_user_count\":0,\"connecting_user_ids\":[],\"social_proofs_ordered\":[],\"social_context\":{\"following\":false,\"followed_by\":false},\"tokens\":[],\"inline\":false},{\"id\":1177184227,\"id_str\":\"1177184227\",\"verified\":false,\"badges\":[],\"is_dm_able\":false,\"is_blocked\":false,\"can_media_tag\":false,\"name\":\"MontrealTurkfilmFest\",\"screen_name\":\"Festivaldufilmt\",\"profile_image_url\":\"http:\\/\\/pbs.twimg.com\\/profile_images\\/990274253659541504\\/4UatbkAh_normal.jpg\",\"profile_image_url_https\":\"https:\\/\\/pbs.twimg.com\\/profile_images\\/990274253659541504\\/4UatbkAh_normal.jpg\",\"location\":\"Montr\\u00e9al\",\"is_protected\":false,\"rounded_score\":0,\"social_proof\":0,\"connecting_user_count\":0,\"connecting_user_ids\":[],\"social_proofs_ordered\":[],\"social_context\":{\"following\":false,\"followed_by\":false},\"tokens\":[],\"inline\":false},{\"id\":69229896,\"id_str\":\"69229896\",\"verified\":false,\"badges\":[],\"is_dm_able\":false,\"is_blocked\":false,\"can_media_tag\":false,\"name\":\"P\\u00fcl\\u00fcp of Montreal \\ud83c\\udde8\\ud83c\\udde6\\ud83c\\udff3\\ufe0f\\u200d\\ud83c\\udf08\\ud83e\\udde2 #Bo\\u011fazi\\u00e7iBenim\",\"screen_name\":\"Pulup\",\"profile_image_url\":\"http:\\/\\/pbs.twimg.com\\/profile_images\\/1359100125017214976\\/0BwX1GGn_normal.jpg\",\"profile_image_url_https\":\"https:\\/\\/pbs.twimg.com\\/profile_images\\/1359100125017214976\\/0BwX1GGn_normal.jpg\",\"location\":\"Montr\\u00e9al, Qu\\u00e9bec\",\"is_protected\":false,\"rounded_score\":0,\"social_proof\":0,\"connecting_user_count\":0,\"connecting_user_ids\":[],\"social_proofs_ordered\":[],\"social_context\":{\"following\":false,\"followed_by\":false},\"tokens\":[],\"inline\":false}],\"topics\":[{\"topic\":\"Montreal\",\"rounded_score\":0,\"tokens\":[],\"inline\":false,\"result_context\":{\"display_string\":\"Son bir saatte 482 Tweet\",\"types\":[{\"type\":\"num_tweets\"}]}},{\"topic\":\"montreal fire\",\"rounded_score\":0,\"tokens\":[],\"inline\":false},{\"topic\":\"montreal incendie\",\"rounded_score\":0,\"tokens\":[],\"inline\":false}],\"events\":[],\"lists\":[],\"ordered_sections\":[],\"oneclick\":[],\"hashtags\":[],\"completed_in\":0.0,\"query\":\"Montreal\"}\n"
     ]
    }
   ],
   "source": [
    "# haal city op van IP adres\n",
    "# haal weer op van city\n",
    "# haal twitter berichten op van city\n",
    "\n",
    "import requests\n",
    "\n",
    "url = \"https://ip-lookup-by-api-ninjas.p.rapidapi.com/v1/iplookup\"\n",
    "\n",
    "querystring = {\"address\":\"24.48.0.3\"}\n",
    "\n",
    "headers = {\n",
    "\t\"X-RapidAPI-Key\": \"***\",\n",
    "\t\"X-RapidAPI-Host\": \"ip-lookup-by-api-ninjas.p.rapidapi.com\"\n",
    "}\n",
    "\n",
    "response = requests.request(\"GET\", url, headers=headers, params=querystring)\n",
    "print(response.text)\n",
    "city = response.json()[\"city\"]\n",
    "\n",
    "\n",
    "url = \"https://weather-by-api-ninjas.p.rapidapi.com/v1/weather\"\n",
    "\n",
    "querystring = {\"city\":city}\n",
    "\n",
    "headers = {\n",
    "\t\"X-RapidAPI-Key\": \"***\",\n",
    "\t\"X-RapidAPI-Host\": \"weather-by-api-ninjas.p.rapidapi.com\"\n",
    "}\n",
    "\n",
    "response = requests.request(\"GET\", url, headers=headers, params=querystring)\n",
    "\n",
    "print(response.text)\n",
    "\n",
    "url = \"https://twitter135.p.rapidapi.com/AutoComplete/\"\n",
    "\n",
    "querystring = {\"q\":city}\n",
    "\n",
    "headers = {\n",
    "\t\"X-RapidAPI-Key\": \"***\",\n",
    "\t\"X-RapidAPI-Host\": \"twitter135.p.rapidapi.com\"\n",
    "}\n",
    "\n",
    "response = requests.request(\"GET\", url, headers=headers, params=querystring)\n",
    "\n",
    "print(response.text)"
   ]
  },
  {
   "cell_type": "code",
   "execution_count": null,
   "metadata": {},
   "outputs": [],
   "source": [
    "# get current IP\n",
    "# code from ChatGPT\n",
    "\n",
    "import socket\n",
    "\n",
    "def get_public_ip():\n",
    "    \"\"\"\n",
    "    Returns the public IP address of the machine.\n",
    "    \"\"\"\n",
    "    s = socket.socket(socket.AF_INET, socket.SOCK_DGRAM)\n",
    "    s.connect((\"8.8.8.8\", 80))\n",
    "    return s.getsockname()[0]\n",
    "\n",
    "# Example usage\n",
    "public_ip = get_public_ip()\n",
    "print(\"My public IP address is:\", public_ip)"
   ]
  }
 ],
 "metadata": {
  "kernelspec": {
   "display_name": "Python 3",
   "language": "python",
   "name": "python3"
  },
  "language_info": {
   "codemirror_mode": {
    "name": "ipython",
    "version": 3
   },
   "file_extension": ".py",
   "mimetype": "text/x-python",
   "name": "python",
   "nbconvert_exporter": "python",
   "pygments_lexer": "ipython3",
   "version": "3.7.4"
  },
  "orig_nbformat": 4
 },
 "nbformat": 4,
 "nbformat_minor": 2
}
