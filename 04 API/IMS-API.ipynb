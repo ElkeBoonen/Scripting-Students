{
 "cells": [
  {
   "attachments": {},
   "cell_type": "markdown",
   "metadata": {},
   "source": [
    "# Les 5 - API - 20/03\n",
    "\n",
    "- Herhaling Files\n",
    "- Werken met API's, wat zijn API's\n",
    "- JSON data\n",
    "- De toffe dingen ;)"
   ]
  },
  {
   "attachments": {},
   "cell_type": "markdown",
   "metadata": {},
   "source": [
    "## Herhalingsoefening Files\n",
    "\n",
    "Download the <a href=\"logbook.txt\">logbook.txt</a> file from canvas, read it and group the activities per month \n",
    "\n",
    "--> 2021-03-09 13:13:40 - Started work on project E\n",
    "\n",
    "<b>output:</b>\n",
    "\n",
    "- January : 70 activities \n",
    "- February : 75 activities \n",
    "- March : 88 activities \n",
    "- April : 72 activities \n",
    "- ..."
   ]
  },
  {
   "cell_type": "code",
   "execution_count": 18,
   "metadata": {},
   "outputs": [
    {
     "name": "stdout",
     "output_type": "stream",
     "text": [
      "January : 70 activities\n",
      "February : 75 activities\n",
      "March : 88 activities\n",
      "April : 72 activities\n",
      "May : 94 activities\n",
      "June : 91 activities\n",
      "July : 87 activities\n",
      "August : 89 activities\n",
      "September : 87 activities\n",
      "October : 74 activities\n",
      "November : 85 activities\n",
      "December : 88 activities\n"
     ]
    }
   ],
   "source": [
    "months = [\"January\", \"February\", \"March\", \"April\", \"May\", \"June\", \"July\", \n",
    "          \"August\", \"September\", \"October\", \"November\", \"December\"]\n",
    "\n",
    "activities = {}\n",
    "with open(\"logbook.txt\",\"r\") as file:\n",
    "    for line in file.readlines():\n",
    "        int_month = int(line[5:7])-1\n",
    "        \n",
    "        if months[int_month] in activities.keys():\n",
    "            activities[months[int_month]] += 1\n",
    "        else:\n",
    "            activities[months[int_month]] = 1\n",
    "\n",
    "for month in months:\n",
    "    print(month, \":\", activities[month], \"activities\")"
   ]
  },
  {
   "attachments": {},
   "cell_type": "markdown",
   "metadata": {},
   "source": [
    "## JSON\n",
    "Werken met JSON --> importeer module\n",
    "\n",
    "- load: file load\n",
    "- loads: string load\n",
    "\n",
    "Met dank aan https://openai.com/blog/chatgpt voor het maken van de data-file ;)\n",
    "\n",
    "Werk met https://codebeautify.org/jsonviewer om structuur JSON file te doorgronden!\n",
    "\n",
    "<img src=\"screenshot.png\">"
   ]
  },
  {
   "cell_type": "code",
   "execution_count": 16,
   "metadata": {},
   "outputs": [
    {
     "name": "stdout",
     "output_type": "stream",
     "text": [
      "{'name': 'John Smith', 'age': 35, 'email': 'john.smith@example.com'}\n",
      "{'name': 'John Smith', 'age': 35, 'email': 'john.smith@example.com', 'address': {'street': '123 Main St', 'city': 'Anytown', 'state': 'CA', 'zip': '12345'}, 'interests': ['reading', 'hiking', 'traveling']}\n",
      "John Smith\n",
      "{'street': '123 Main St', 'city': 'Anytown', 'state': 'CA', 'zip': '12345'}\n",
      "Anytown\n",
      "['reading', 'hiking', 'traveling']\n",
      "reading\n",
      "hiking\n",
      "traveling\n",
      "Jane Doe\n"
     ]
    }
   ],
   "source": [
    "import json\n",
    "\n",
    "# als je JSON data in een string zit\n",
    "json_data = '{\"name\": \"John Smith\", \"age\": 35, \"email\": \"john.smith@example.com\"}'\n",
    "data = json.loads(json_data)\n",
    "print(data)\n",
    "\n",
    "# als je JSON data in een file zit\n",
    "json_file = open(\"json.data\")   # eerst de file gewoon opent!!!\n",
    "data = json.load(json_file)     # dan pas JSON load!\n",
    "print(data)\n",
    "\n",
    "print(data[\"name\"])\n",
    "print(data[\"address\"])\n",
    "print(data[\"address\"][\"city\"])\n",
    "print(data[\"interests\"])\n",
    "for interest in data[\"interests\"]:\n",
    "    print(interest)\n",
    "\n",
    "# als je JSON data in een file zit\n",
    "json_file = open(\"heavy__json.data\")   # eerst de file gewoon opent!!!\n",
    "data = json.load(json_file)     # dan pas JSON load!\n",
    "print(data[\"employees\"][1][\"name\"])\n",
    "\n",
    "\n"
   ]
  },
  {
   "cell_type": "code",
   "execution_count": 21,
   "metadata": {},
   "outputs": [],
   "source": [
    "import json\n",
    "\n",
    "# dumps --> string\n",
    "# dump --> file\n",
    "\n",
    "json_file = open(\"activities.data\",\"w\")\n",
    "json.dump(activities, json_file)\n",
    "json_file.close()"
   ]
  },
  {
   "attachments": {},
   "cell_type": "markdown",
   "metadata": {},
   "source": [
    "## API's consumen\n",
    "\n",
    "gebruik module requests!"
   ]
  },
  {
   "cell_type": "code",
   "execution_count": 25,
   "metadata": {},
   "outputs": [
    {
     "name": "stdout",
     "output_type": "stream",
     "text": [
      "Requirement already satisfied: requests in c:\\users\\elkeb\\appdata\\local\\programs\\python\\python37\\lib\\site-packages (2.28.1)\n",
      "Requirement already satisfied: urllib3<1.27,>=1.21.1 in c:\\users\\elkeb\\appdata\\local\\programs\\python\\python37\\lib\\site-packages (from requests) (1.26.12)\n",
      "Requirement already satisfied: charset-normalizer<3,>=2 in c:\\users\\elkeb\\appdata\\local\\programs\\python\\python37\\lib\\site-packages (from requests) (2.1.1)\n",
      "Requirement already satisfied: certifi>=2017.4.17 in c:\\users\\elkeb\\appdata\\local\\programs\\python\\python37\\lib\\site-packages (from requests) (2022.9.14)\n",
      "Requirement already satisfied: idna<4,>=2.5 in c:\\users\\elkeb\\appdata\\local\\programs\\python\\python37\\lib\\site-packages (from requests) (3.4)\n"
     ]
    }
   ],
   "source": [
    "! pip install requests"
   ]
  },
  {
   "attachments": {},
   "cell_type": "markdown",
   "metadata": {},
   "source": [
    "### Kanye.rest\n",
    "\n",
    "https://api.kanye.rest/"
   ]
  },
  {
   "cell_type": "code",
   "execution_count": 41,
   "metadata": {},
   "outputs": [
    {
     "name": "stdout",
     "output_type": "stream",
     "text": [
      "status code 200\n",
      "content b'{\"quote\":\"I\\'ve known my mom since I was zero years old. She is quite dope.\"}'\n",
      "json {'quote': \"I've known my mom since I was zero years old. She is quite dope.\"}\n",
      "text {\"quote\":\"I've known my mom since I was zero years old. She is quite dope.\"}\n",
      "{'quote': \"I've known my mom since I was zero years old. She is quite dope.\"}\n",
      "I've known my mom since I was zero years old. She is quite dope.\n",
      "I've known my mom since I was zero years old. She is quite dope.\n",
      "I've known my mom since I was zero years old. She is quite dope.\n"
     ]
    }
   ],
   "source": [
    "import requests, json\n",
    "\n",
    "url = \"https://api.kanye.rest/\"\n",
    "\n",
    "response = requests.get(url)\n",
    "\n",
    "print(\"status code\",response.status_code)\n",
    "# print(\"headers\",response.headers)\n",
    "print(\"content\",response.content)\n",
    "print(\"json\",response.json())\n",
    "print(\"text\",response.text)\n",
    "\n",
    "json_data = json.loads(response.text)\n",
    "print(json_data)\n",
    "print(json_data[\"quote\"])\n",
    "\n",
    "# of gewoon rechtstreeks werken met json()\n",
    "print(response.json()[\"quote\"])\n",
    "\n",
    "# of met nog een tussenstap\n",
    "json_data = response.json()\n",
    "print(json_data[\"quote\"])"
   ]
  },
  {
   "attachments": {},
   "cell_type": "markdown",
   "metadata": {},
   "source": [
    "### Meer API's\n",
    "\n",
    "- https://rapidapi.com/hub\n",
    "- https://apilist.fun/\n"
   ]
  },
  {
   "cell_type": "code",
   "execution_count": 46,
   "metadata": {},
   "outputs": [
    {
     "name": "stdout",
     "output_type": "stream",
     "text": [
      "{\n",
      "    \"status\": \"success\",\n",
      "    \"data\": {\n",
      "        \"translatedText\": \"Esto es una prueba\"\n",
      "    }\n",
      "}\n"
     ]
    }
   ],
   "source": [
    "import requests\n",
    "\n",
    "url = \"https://text-translator2.p.rapidapi.com/translate\"\n",
    "\n",
    "source = \"nl\"\n",
    "target = \"es\"\n",
    "text = \"Dit is een test\"\n",
    "\n",
    "payload = \"source_language=\"+source+\"&target_language=\"+target+\"&text=\" + text\n",
    "headers = {\n",
    "\t\"content-type\": \"application/x-www-form-urlencoded\",\n",
    "\t\"X-RapidAPI-Key\": \"***\",\n",
    "\t\"X-RapidAPI-Host\": \"text-translator2.p.rapidapi.com\"\n",
    "}\n",
    "\n",
    "response = requests.request(\"POST\", url, data=payload, headers=headers)\n",
    "\n",
    "print(response.text)"
   ]
  },
  {
   "cell_type": "code",
   "execution_count": 47,
   "metadata": {},
   "outputs": [
    {
     "name": "stdout",
     "output_type": "stream",
     "text": [
      "{\"fname\":\"Christophe\",\"sname\":\"Elke\",\"percentage\":\"83\",\"result\":\"Congratulations! Good choice\"}\n"
     ]
    }
   ],
   "source": [
    "import requests\n",
    "\n",
    "url = \"https://love-calculator.p.rapidapi.com/getPercentage\"\n",
    "\n",
    "querystring = {\"sname\":\"Elke\",\"fname\":\"Christophe\"}\n",
    "\n",
    "headers = {\n",
    "\t\"X-RapidAPI-Key\": \"***\",\n",
    "\t\"X-RapidAPI-Host\": \"love-calculator.p.rapidapi.com\"\n",
    "}\n",
    "\n",
    "response = requests.request(\"GET\", url, headers=headers, params=querystring)\n",
    "\n",
    "print(response.text)"
   ]
  }
 ],
 "metadata": {
  "kernelspec": {
   "display_name": "Python 3",
   "language": "python",
   "name": "python3"
  },
  "language_info": {
   "codemirror_mode": {
    "name": "ipython",
    "version": 3
   },
   "file_extension": ".py",
   "mimetype": "text/x-python",
   "name": "python",
   "nbconvert_exporter": "python",
   "pygments_lexer": "ipython3",
   "version": "3.7.4"
  },
  "orig_nbformat": 4
 },
 "nbformat": 4,
 "nbformat_minor": 2
}
