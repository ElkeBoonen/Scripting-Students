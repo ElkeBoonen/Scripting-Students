{
 "cells": [
  {
   "attachments": {},
   "cell_type": "markdown",
   "metadata": {},
   "source": [
    "# Les 5 - API - 20/03\n",
    "\n",
    "- Herhaling Files\n",
    "- Werken met API's, wat zijn API's\n",
    "- JSON data\n",
    "- De toffe dingen ;)"
   ]
  },
  {
   "attachments": {},
   "cell_type": "markdown",
   "metadata": {},
   "source": [
    "## Herhalingsoefening Files\n",
    "\n",
    "Download the <a href=\"logbook.txt\">logbook.txt</a> file from canvas, read it and group the activities per month \n",
    "\n",
    "--> 2021-03-09 13:13:40 - Started work on project E\n",
    "\n",
    "<b>output:</b>\n",
    "\n",
    "- January : 70 activities \n",
    "- February : 75 activities \n",
    "- March : 88 activities \n",
    "- April : 72 activities \n",
    "- ..."
   ]
  },
  {
   "cell_type": "code",
   "execution_count": null,
   "metadata": {},
   "outputs": [],
   "source": [
    "months = [\"January\", \"February\", \"March\", \"April\", \"May\", \"June\", \"July\", \n",
    "          \"August\", \"September\", \"October\", \"November\", \"December\"]\n",
    "\n",
    "activities = {}\n",
    "with open(\"logbook.txt\",\"r\") as file:\n",
    "    for line in file.readlines():\n",
    "        int_month = int(line[5:7])-1\n",
    "        \n",
    "        if months[int_month] in activities.keys():\n",
    "            activities[months[int_month]] += 1\n",
    "        else:\n",
    "            activities[months[int_month]] = 1\n",
    "\n",
    "for month in months:\n",
    "    print(month, \":\", activities[month], \"activities\")"
   ]
  },
  {
   "attachments": {},
   "cell_type": "markdown",
   "metadata": {},
   "source": [
    "## JSON\n",
    "Werken met JSON --> importeer module\n",
    "\n",
    "- load: file load\n",
    "- loads: string load\n",
    "\n",
    "Met dank aan https://openai.com/blog/chatgpt voor het maken van de data-file ;)"
   ]
  },
  {
   "cell_type": "code",
   "execution_count": 4,
   "metadata": {},
   "outputs": [
    {
     "name": "stdout",
     "output_type": "stream",
     "text": [
      "{'name': 'John Smith', 'age': 35, 'email': 'john.smith@example.com', 'address': {'street': '123 Main St', 'city': 'Anytown', 'state': 'CA', 'zip': '12345'}, 'interests': ['reading', 'hiking', 'traveling']}\n"
     ]
    }
   ],
   "source": [
    "import json\n",
    "\n",
    "json_data = '{\"name\": \"John Smith\", \"age\": 35, \"email\": \"john.smith@example.com\"}'\n",
    "\n",
    "\n",
    "json_file = open(\"json.data\")\n",
    "data = json.load(json_file)\n",
    "\n",
    "print(data)\n"
   ]
  }
 ],
 "metadata": {
  "kernelspec": {
   "display_name": "Python 3",
   "language": "python",
   "name": "python3"
  },
  "language_info": {
   "codemirror_mode": {
    "name": "ipython",
    "version": 3
   },
   "file_extension": ".py",
   "mimetype": "text/x-python",
   "name": "python",
   "nbconvert_exporter": "python",
   "pygments_lexer": "ipython3",
   "version": "3.7.4"
  },
  "orig_nbformat": 4
 },
 "nbformat": 4,
 "nbformat_minor": 2
}
