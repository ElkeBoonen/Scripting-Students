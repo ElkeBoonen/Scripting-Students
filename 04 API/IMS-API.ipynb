{
 "cells": [
  {
   "attachments": {},
   "cell_type": "markdown",
   "metadata": {},
   "source": [
    "# Les 5 - API - 20/03\n",
    "\n",
    "- Herhaling Files\n",
    "- Werken met API's, wat zijn API's\n",
    "- JSON data\n",
    "- De toffe dingen ;)"
   ]
  },
  {
   "attachments": {},
   "cell_type": "markdown",
   "metadata": {},
   "source": [
    "## Herhalingsoefening Files\n",
    "\n",
    "Download the logbook.txt file from canvas, read it and group the activities per month \n",
    "\n",
    "\n",
    "output:\n",
    "\n",
    "\n",
    "January : 70 activities \n",
    "February : 75 activities \n",
    "March : 88 activities \n",
    "April : 72 activities \n",
    "..."
   ]
  }
 ],
 "metadata": {
  "language_info": {
   "name": "python"
  },
  "orig_nbformat": 4
 },
 "nbformat": 4,
 "nbformat_minor": 2
}
