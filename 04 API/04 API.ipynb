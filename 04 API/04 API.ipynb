{
 "cells": [
  {
   "cell_type": "markdown",
   "metadata": {},
   "source": [
    "# API - les 6 - 20 maart\n",
    "\n",
    "## Herhalingsoefening\n",
    "Download the logbook.txt file from canvas, read it and group the activities per month\n",
    "\n",
    "- January : 70 activities \n",
    "- February : 75 activities \n",
    "- March : 88 activities \n",
    "- ..."
   ]
  },
  {
   "cell_type": "code",
   "execution_count": 5,
   "metadata": {},
   "outputs": [
    {
     "name": "stdout",
     "output_type": "stream",
     "text": [
      "Jan 70 activities\n",
      "Feb 75 activities\n",
      "Mar 88 activities\n",
      "Apr 72 activities\n",
      "May 94 activities\n",
      "Jun 91 activities\n",
      "Jul 87 activities\n",
      "Aug 89 activities\n",
      "Sep 87 activities\n",
      "Oct 74 activities\n",
      "Nov 85 activities\n",
      "Dec 88 activities\n"
     ]
    }
   ],
   "source": [
    "file = open(\"logbook.txt\",\"r\")\n",
    "\n",
    "months = [\"Jan\",\"Feb\",\"Mar\",\"Apr\",\"May\",\"Jun\",\"Jul\",\"Aug\",\"Sep\",\"Oct\",\"Nov\",\"Dec\"]\n",
    "activities = [0,0,0,0,0,0,0,0,0,0,0,0]\n",
    "\n",
    "for line in file.readlines():\n",
    "    month = int(line[5:7])-1\n",
    "    activities[month] += 1\n",
    "\n",
    "for index in range(0,12):\n",
    "    print(months[index],activities[index],\"activities\")"
   ]
  },
  {
   "cell_type": "markdown",
   "metadata": {},
   "source": [
    "## Werken met JSON\n",
    "\n",
    "- load = lees file\n",
    "- loads = lees string\n",
    "\n",
    "https://codebeautify.org/jsonviewer\n"
   ]
  },
  {
   "cell_type": "code",
   "execution_count": 11,
   "metadata": {},
   "outputs": [
    {
     "name": "stdout",
     "output_type": "stream",
     "text": [
      "{'people': [{'name': 'Jason Statham', 'age': '54'}, {'name': 'Jason Momoa', 'age': '42'}, {'name': 'Jennifer Jason Leigh', 'age': '59'}]}\n",
      "{'name': 'Jason Statham', 'age': '54'}\n",
      "{'name': 'Jason Momoa', 'age': '42'}\n",
      "{'name': 'Jason Momoa', 'age': '42'}\n",
      "42\n",
      "Jason Statham\n",
      "Jason Momoa\n",
      "Jennifer Jason Leigh\n"
     ]
    }
   ],
   "source": [
    "import json\n",
    "\n",
    "data = '{\"people\": [{\"name\": \"Jason Statham\", \"age\": \"54\"}, {\"name\": \"Jason Momoa\", \"age\": \"42\"}, {\"name\": \"Jennifer Jason Leigh\", \"age\": \"59\"}]}'\n",
    "\n",
    "json_data = json.loads(data)\n",
    "print(json_data)\n",
    "print(json_data[\"people\"][0])\n",
    "print(json_data[\"people\"][1])\n",
    "print(json_data[\"people\"][1])\n",
    "print(json_data[\"people\"][1][\"age\"])\n",
    "\n",
    "for person in json_data[\"people\"]:\n",
    "    print(person[\"name\"])\n"
   ]
  },
  {
   "cell_type": "code",
   "execution_count": 19,
   "metadata": {},
   "outputs": [
    {
     "name": "stdout",
     "output_type": "stream",
     "text": [
      "Eloquent JavaScript, Second Edition\n",
      "Learning JavaScript Design Patterns\n",
      "Speaking JavaScript\n",
      "Programming JavaScript Applications\n",
      "Understanding ECMAScript 6\n",
      "You Don't Know JS\n",
      "Git Pocket Guide\n",
      "Designing Evolvable Web APIs with ASP.NET\n"
     ]
    }
   ],
   "source": [
    "import json\n",
    "\n",
    "json_file = open(\"books.json\",\"r\")\n",
    "json_data = json.load(json_file)\n",
    "\n",
    "for book in json_data[\"books\"]:\n",
    "    print(book[\"title\"])"
   ]
  },
  {
   "cell_type": "code",
   "execution_count": 20,
   "metadata": {},
   "outputs": [],
   "source": [
    "json_file = open(\"json-dump.json\",\"w\")\n",
    "json.dump(json_data,json_file)\n",
    "json_file.close()"
   ]
  },
  {
   "cell_type": "markdown",
   "metadata": {},
   "source": [
    "## API's gebruiken\n",
    "\n",
    "Met requests-package werken! HTTP-requests uitsturen & responses terugkrijgen"
   ]
  },
  {
   "cell_type": "code",
   "execution_count": 21,
   "metadata": {},
   "outputs": [
    {
     "name": "stdout",
     "output_type": "stream",
     "text": [
      "Requirement already satisfied: requests in c:\\users\\elkeb\\appdata\\local\\programs\\python\\python37\\lib\\site-packages (2.28.2)\n",
      "Requirement already satisfied: charset-normalizer<4,>=2 in c:\\users\\elkeb\\appdata\\local\\programs\\python\\python37\\lib\\site-packages (from requests) (2.1.1)\n",
      "Requirement already satisfied: idna<4,>=2.5 in c:\\users\\elkeb\\appdata\\local\\programs\\python\\python37\\lib\\site-packages (from requests) (3.4)\n",
      "Requirement already satisfied: urllib3<1.27,>=1.21.1 in c:\\users\\elkeb\\appdata\\local\\programs\\python\\python37\\lib\\site-packages (from requests) (1.26.12)\n",
      "Requirement already satisfied: certifi>=2017.4.17 in c:\\users\\elkeb\\appdata\\local\\programs\\python\\python37\\lib\\site-packages (from requests) (2022.9.14)\n"
     ]
    },
    {
     "name": "stderr",
     "output_type": "stream",
     "text": [
      "\n",
      "[notice] A new release of pip is available: 23.1.2 -> 24.0\n",
      "[notice] To update, run: python.exe -m pip install --upgrade pip\n"
     ]
    }
   ],
   "source": [
    "! pip install requests"
   ]
  },
  {
   "cell_type": "code",
   "execution_count": 29,
   "metadata": {},
   "outputs": [
    {
     "name": "stdout",
     "output_type": "stream",
     "text": [
      "200\n",
      "{\"quote\":\"I care. I care about everything. Sometimes not giving a f#%k is caring the most.\"}\n",
      "I care. I care about everything. Sometimes not giving a f#%k is caring the most.\n",
      "<bound method Response.json of <Response [200]>>\n"
     ]
    }
   ],
   "source": [
    "import requests, json\n",
    "\n",
    "url = \"https://api.kanye.rest/\"\n",
    "\n",
    "response = requests.get(url)\n",
    "print(response.status_code)\n",
    "\n",
    "if (response.status_code == 200):\n",
    "    print(response.text)\n",
    "    json_data = json.loads(response.text)\n",
    "    print(json_data[\"quote\"])\n",
    "    print(response.json)\n",
    "    "
   ]
  },
  {
   "cell_type": "code",
   "execution_count": 31,
   "metadata": {},
   "outputs": [
    {
     "name": "stdout",
     "output_type": "stream",
     "text": [
      "In België begint de lente op 21 maart. Dit is de datum van de lente-equinox, wanneer de dag en de nacht even lang zijn en de lente officieel begint.\n"
     ]
    }
   ],
   "source": [
    "import requests\n",
    "\n",
    "url = \"https://chatgpt-api8.p.rapidapi.com/\"\n",
    "\n",
    "payload = [\n",
    "\t{\n",
    "\t\t\"content\": \"Hello! I'm an AI assistant bot based on ChatGPT 3. How may I help you?\",\n",
    "\t\t\"role\": \"system\"\n",
    "\t},\n",
    "\t{\n",
    "\t\t\"content\": \"Wanneer begint de lente in België?\",\n",
    "\t\t\"role\": \"user\"\n",
    "\t}\n",
    "]\n",
    "headers = {\n",
    "\t\"content-type\": \"application/json\",\n",
    "\t\"X-RapidAPI-Key\": \"***\",\n",
    "\t\"X-RapidAPI-Host\": \"chatgpt-api8.p.rapidapi.com\"\n",
    "}\n",
    "\n",
    "response = requests.post(url, json=payload, headers=headers)\n",
    "print(response.json()[\"text\"])"
   ]
  },
  {
   "cell_type": "markdown",
   "metadata": {},
   "source": [
    "Zoek leuke API's\n",
    "\n",
    "- https://rapidapi.com/\n",
    "- https://github.com/public-apis/public-apis\n"
   ]
  },
  {
   "cell_type": "code",
   "execution_count": 40,
   "metadata": {},
   "outputs": [
    {
     "name": "stdout",
     "output_type": "stream",
     "text": [
      "{'ability': {'name': 'run-away', 'url': 'https://pokeapi.co/api/v2/ability/50/'}, 'is_hidden': False, 'slot': 1}\n",
      "{'ability': {'name': 'adaptability', 'url': 'https://pokeapi.co/api/v2/ability/91/'}, 'is_hidden': False, 'slot': 2}\n",
      "{'ability': {'name': 'anticipation', 'url': 'https://pokeapi.co/api/v2/ability/107/'}, 'is_hidden': True, 'slot': 3}\n"
     ]
    }
   ],
   "source": [
    "import requests\n",
    "\n",
    "url = \"https://pokemon-api3.p.rapidapi.com/pokemon\"\n",
    "\n",
    "querystring = {\"name\":\"eevee\"}\n",
    "\n",
    "headers = {\n",
    "\t\"X-RapidAPI-Key\": \"***\",\n",
    "\t\"X-RapidAPI-Host\": \"pokemon-api3.p.rapidapi.com\"\n",
    "}\n",
    "\n",
    "response = requests.get(url, headers=headers, params=querystring)\n",
    "abilities = response.json()[\"abilities\"]\n",
    "\n",
    "for ability in abilities:\n",
    "    print(ability)"
   ]
  },
  {
   "cell_type": "code",
   "execution_count": 43,
   "metadata": {},
   "outputs": [
    {
     "name": "stdout",
     "output_type": "stream",
     "text": [
      "{'error': 'uppss we cant find what your search. But you sure we are work about it.'}\n"
     ]
    }
   ],
   "source": [
    "import requests\n",
    "\n",
    "url = \"https://valorant-agents-maps-arsenal.p.rapidapi.com/agents/%7Blang%7D\"\n",
    "\n",
    "querystring = {\"name\":\"Reyna\"}\n",
    "\n",
    "headers = {\n",
    "\t\"X-RapidAPI-Key\": \"***\",\n",
    "\t\"X-RapidAPI-Host\": \"valorant-agents-maps-arsenal.p.rapidapi.com\"\n",
    "}\n",
    "\n",
    "response = requests.get(url, headers=headers, params=querystring)\n",
    "\n",
    "print(response.json())"
   ]
  },
  {
   "cell_type": "code",
   "execution_count": 52,
   "metadata": {},
   "outputs": [
    {
     "name": "stdout",
     "output_type": "stream",
     "text": [
      "{'message': 'You have exceeded the DAILY quota for Requests on your current plan, BASIC. Upgrade your plan at https://rapidapi.com/cbd2022/api/cannabis-recipes'}\n"
     ]
    }
   ],
   "source": [
    "import requests\n",
    "\n",
    "url = \"https://cannabis-recipes.p.rapidapi.com/recipes/\"\n",
    "\n",
    "querystring = {\"search\":\"chicken\"}\n",
    "\n",
    "headers = {\n",
    "\t\"Authorization\": \"***\",\n",
    "\t\"X-RapidAPI-Key\": \"***\",\n",
    "\t\"X-RapidAPI-Host\": \"cannabis-recipes.p.rapidapi.com\"\n",
    "}\n",
    "\n",
    "response = requests.get(url, headers=headers, params=querystring)\n",
    "\n",
    "json_data = response.json()\n",
    "print(json_data)\n"
   ]
  },
  {
   "cell_type": "code",
   "execution_count": 57,
   "metadata": {},
   "outputs": [
    {
     "name": "stdout",
     "output_type": "stream",
     "text": [
      "{'data': {'detections': [[{'language': 'ja', 'confidence': 1, 'isReliable': False}]]}}\n"
     ]
    }
   ],
   "source": [
    "import requests\n",
    "\n",
    "url = \"https://google-translate1.p.rapidapi.com/language/translate/v2/detect\"\n",
    "\n",
    "payload = { \"q\": \"この美しい庭園では、様々な花が咲き誇り、鳥たちの歌声が訪れる人々に平和と静けさの素晴らしい雰囲気を提供しています。\" }\n",
    "headers = {\n",
    "\t\"content-type\": \"application/x-www-form-urlencoded\",\n",
    "\t\"Accept-Encoding\": \"application/gzip\",\n",
    "\t\"X-RapidAPI-Key\": \"***\",\n",
    "\t\"X-RapidAPI-Host\": \"google-translate1.p.rapidapi.com\"\n",
    "}\n",
    "\n",
    "response = requests.post(url, data=payload, headers=headers)\n",
    "\n",
    "print(response.json())"
   ]
  },
  {
   "cell_type": "code",
   "execution_count": 58,
   "metadata": {},
   "outputs": [
    {
     "name": "stdout",
     "output_type": "stream",
     "text": [
      "{\"Over_Educated_Problems\": 2, \"Woman_yelling_at_cat\": 2, \"Two_cats_fighting_for_real\": 2, \"tom_the_cat_shooting_himself_\": 2, \"Loading_cat\": 2, \"Woosh_cat\": 2, \"I_can_has_cheezburger_cat\": 2, \"Smudge_the_cat\": 2, \"Wants_to_know_your_location\": 2, \"sad_thumbs_up_cat\": 2, \"woman_yelling_at_cat\": 2, \"Angry_lady_cat\": 2, \"Crying_cat\": 2, \"crying_cat\": 2}\n"
     ]
    }
   ],
   "source": [
    "import http.client\n",
    "\n",
    "conn = http.client.HTTPSConnection(\"meme-generator-and-template-database.p.rapidapi.com\")\n",
    "\n",
    "headers = {\n",
    "    'X-RapidAPI-Key': \"***\",\n",
    "    'X-RapidAPI-Host': \"meme-generator-and-template-database.p.rapidapi.com\"\n",
    "}\n",
    "\n",
    "conn.request(\"GET\", \"/search?searchString=cat\", headers=headers)\n",
    "\n",
    "res = conn.getresponse()\n",
    "data = res.read()\n",
    "\n",
    "print(data.decode(\"utf-8\"))"
   ]
  },
  {
   "cell_type": "code",
   "execution_count": 59,
   "metadata": {},
   "outputs": [
    {
     "name": "stdout",
     "output_type": "stream",
     "text": [
      "[{'name': 'Incline Hammer Curls', 'type': 'strength', 'muscle': 'biceps', 'equipment': 'dumbbell', 'difficulty': 'beginner', 'instructions': 'Seat yourself on an incline bench with a dumbbell in each hand. You should pressed firmly against he back with your feet together. Allow the dumbbells to hang straight down at your side, holding them with a neutral grip. This will be your starting position. Initiate the movement by flexing at the elbow, attempting to keep the upper arm stationary. Continue to the top of the movement and pause, then slowly return to the start position.'}, {'name': 'Wide-grip barbell curl', 'type': 'strength', 'muscle': 'biceps', 'equipment': 'barbell', 'difficulty': 'beginner', 'instructions': 'Stand up with your torso upright while holding a barbell at the wide outer handle. The palm of your hands should be facing forward. The elbows should be close to the torso. This will be your starting position. While holding the upper arms stationary, curl the weights forward while contracting the biceps as you breathe out. Tip: Only the forearms should move. Continue the movement until your biceps are fully contracted and the bar is at shoulder level. Hold the contracted position for a second and squeeze the biceps hard. Slowly begin to bring the bar back to starting position as your breathe in. Repeat for the recommended amount of repetitions.  Variations:  You can also perform this movement using an E-Z bar or E-Z attachment hooked to a low pulley. This variation seems to really provide a good contraction at the top of the movement. You may also use the closer grip for variety purposes.'}, {'name': 'EZ-bar spider curl', 'type': 'strength', 'muscle': 'biceps', 'equipment': 'barbell', 'difficulty': 'intermediate', 'instructions': 'Start out by setting the bar on the part of the preacher bench that you would normally sit on. Make sure to align the barbell properly so that it is balanced and will not fall off. Move to the front side of the preacher bench (the part where the arms usually lay) and position yourself to lay at a 45 degree slant with your torso and stomach pressed against the front side of the preacher bench. Make sure that your feet (especially the toes) are well positioned on the floor and place your upper arms on top of the pad located on the inside part of the preacher bench. Use your arms to grab the barbell with a supinated grip (palms facing up) at about shoulder width apart or slightly closer from each other. Slowly begin to lift the barbell upwards and exhale. Hold the contracted position for a second as you squeeze the biceps. Slowly begin to bring the barbell back to the starting position as your breathe in. . Repeat for the recommended amount of repetitions.  Variation: You can also use dumbbells when performing this exercise. Just make sure you place the dumbbells on the part of the preacher bench where you would normally sit properly.'}, {'name': 'Hammer Curls', 'type': 'strength', 'muscle': 'biceps', 'equipment': 'dumbbell', 'difficulty': 'intermediate', 'instructions': 'Stand up with your torso upright and a dumbbell on each hand being held at arms length. The elbows should be close to the torso. The palms of the hands should be facing your torso. This will be your starting position. Now, while holding your upper arm stationary, exhale and curl the weight forward while contracting the biceps. Continue to raise the weight until the biceps are fully contracted and the dumbbell is at shoulder level. Hold the contracted position for a brief moment as you squeeze the biceps. Tip: Focus on keeping the elbow stationary and only moving your forearm. After the brief pause, inhale and slowly begin the lower the dumbbells back down to the starting position. Repeat for the recommended amount of repetitions.  Variations: There are many possible variations for this movement. For instance, you can perform the exercise sitting down on a bench with or without back support and you can also perform it by alternating arms; first lift the right arm for one repetition, then the left, then the right, etc.'}, {'name': 'EZ-Bar Curl', 'type': 'strength', 'muscle': 'biceps', 'equipment': 'e-z_curl_bar', 'difficulty': 'intermediate', 'instructions': 'Stand up straight while holding an EZ curl bar at the wide outer handle. The palms of your hands should be facing forward and slightly tilted inward due to the shape of the bar. Keep your elbows close to your torso. This will be your starting position. Now, while keeping your upper arms stationary, exhale and curl the weights forward while contracting the biceps. Focus on only moving your forearms. Continue to raise the weight until your biceps are fully contracted and the bar is at shoulder level. Hold the top contracted position for a moment and squeeze the biceps. Then inhale and slowly lower the bar back to the starting position. Repeat for the recommended amount of repetitions.  Variations: You can also perform this movement using an E-Z attachment hooked to a low pulley. This variation seems to really provide a good contraction at the top of the movement. You may also use the closer grip for variety purposes.'}, {'name': 'Zottman Curl', 'type': 'strength', 'muscle': 'biceps', 'equipment': 'None', 'difficulty': 'intermediate', 'instructions': 'Stand up with your torso upright and a dumbbell in each hand being held at arms length. The elbows should be close to the torso. Make sure the palms of the hands are facing each other. This will be your starting position. While holding the upper arm stationary, curl the weights while contracting the biceps as you breathe out. Only the forearms should move. Your wrist should rotate so that you have a supinated (palms up) grip. Continue the movement until your biceps are fully contracted and the dumbbells are at shoulder level. Hold the contracted position for a second as you squeeze the biceps. Now during the contracted position, rotate your wrist until you now have a pronated (palms facing down) grip with the thumb at a higher position than the pinky. Slowly begin to bring the dumbbells back down using the pronated grip. As the dumbbells close your thighs, start rotating the wrist so that you go back to a neutral (palms facing your body) grip. Repeat for the recommended amount of repetitions.'}, {'name': 'Biceps curl to shoulder press', 'type': 'strength', 'muscle': 'biceps', 'equipment': 'dumbbell', 'difficulty': 'beginner', 'instructions': 'Begin in a standing position with a dumbbell in each hand. Your arms should be hanging at your sides with your palms facing forward. Look directly ahead, keeping your chest up, with your feet shoulder-width apart. This will be your starting position. Initiate the movement by flexing the elbows to curl the weight. Do not use momentum or flex through the shoulder, instead use a controlled motion. Execute the pressing movement by extending the arm, flexing and abducting the shoulder to rotate the arm as you press above your head. Pause at the top of the motion before reversing the movement to return to the starting position. Complete the desired number of repetitions before switching to the opposite side.'}, {'name': 'Barbell Curl', 'type': 'strength', 'muscle': 'biceps', 'equipment': 'barbell', 'difficulty': 'intermediate', 'instructions': 'Stand up with your torso upright while holding a barbell at a shoulder-width grip. The palm of your hands should be facing forward and the elbows should be close to the torso. This will be your starting position. While holding the upper arms stationary, curl the weights forward while contracting the biceps as you breathe out. Tip: Only the forearms should move. Continue the movement until your biceps are fully contracted and the bar is at shoulder level. Hold the contracted position for a second and squeeze the biceps hard. Slowly begin to bring the bar back to starting position as your breathe in. Repeat for the recommended amount of repetitions.  Variations:  You can also perform this movement using a straight bar attachment hooked to a low pulley. This variation seems to really provide a good contraction at the top of the movement. You may also use the closer grip for variety purposes.'}, {'name': 'Concentration curl', 'type': 'strength', 'muscle': 'biceps', 'equipment': 'dumbbell', 'difficulty': 'intermediate', 'instructions': 'Sit down on a flat bench with one dumbbell in front of you between your legs. Your legs should be spread with your knees bent and feet on the floor. Use your right arm to pick the dumbbell up. Place the back of your right upper arm on the top of your inner right thigh. Rotate the palm of your hand until it is facing forward away from your thigh. Tip: Your arm should be extended and the dumbbell should be above the floor. This will be your starting position. While holding the upper arm stationary, curl the weights forward while contracting the biceps as you breathe out. Only the forearms should move. Continue the movement until your biceps are fully contracted and the dumbbells are at shoulder level. Tip: At the top of the movement make sure that the little finger of your arm is higher than your thumb. This guarantees a good contraction. Hold the contracted position for a second as you squeeze the biceps. Slowly begin to bring the dumbbells back to starting position as your breathe in. Caution: Avoid swinging motions at any time. Repeat for the recommended amount of repetitions. Then repeat the movement with the left arm.  Variations: This exercise can be performed standing with the torso bent forward and the arm in front of you. In this case, no leg support is used for the back of your arm so you will need to make extra effort to ensure no movement of the upper arm. This is a more challenging version of the exercise and is not recommended for people with lower back issues.'}, {'name': 'Flexor Incline Dumbbell Curls', 'type': 'strength', 'muscle': 'biceps', 'equipment': 'dumbbell', 'difficulty': 'beginner', 'instructions': 'Hold the dumbbell towards the side farther from you so that you have more weight on the side closest to you. (This can be done for a good effect on all bicep dumbbell exercises). Now do a normal incline dumbbell curl, but keep your wrists as far back as possible so as to neutralize any stress that is placed on them. Sit on an incline bench that is angled at 45-degrees while holding a dumbbell on each hand. Let your arms hang down on your sides, with the elbows in, and turn the palms of your hands forward with the thumbs pointing away from the body. Tip: You will keep this hand position throughout the movement as there should not be any twisting of the hands as they come up. This will be your starting position. Curl up the two dumbbells at the same time until your biceps are fully contracted and exhale. Tip: Do not swing the arms or use momentum. Keep a controlled motion at all times. Hold the contracted position for a second at the top. As you inhale, slowly go back to the starting position. Repeat for the recommended amount of repetitions.  Caution: Do not extend your arms totally as you could injure your elbows if you hyperextend them. Also, make sure that on the way down you move slowly to avoid injury. Variations: You can use cables for this movement as well.'}]\n"
     ]
    }
   ],
   "source": [
    "import requests\n",
    "\n",
    "url = \"https://exercises-by-api-ninjas.p.rapidapi.com/v1/exercises\"\n",
    "\n",
    "querystring = {\"muscle\":\"biceps\"}\n",
    "\n",
    "headers = {\n",
    "\t\"X-RapidAPI-Key\": \"19f8265796mshd352af45ada052bp1463e4jsn980ed561f39d\",\n",
    "\t\"X-RapidAPI-Host\": \"exercises-by-api-ninjas.p.rapidapi.com\"\n",
    "}\n",
    "\n",
    "response = requests.get(url, headers=headers, params=querystring)\n",
    "\n",
    "print(response.json())"
   ]
  }
 ],
 "metadata": {
  "kernelspec": {
   "display_name": "Python 3",
   "language": "python",
   "name": "python3"
  },
  "language_info": {
   "codemirror_mode": {
    "name": "ipython",
    "version": 3
   },
   "file_extension": ".py",
   "mimetype": "text/x-python",
   "name": "python",
   "nbconvert_exporter": "python",
   "pygments_lexer": "ipython3",
   "version": "3.7.4"
  }
 },
 "nbformat": 4,
 "nbformat_minor": 2
}
