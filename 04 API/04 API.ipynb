{
 "cells": [
  {
   "cell_type": "markdown",
   "metadata": {},
   "source": [
    "# API - les 6 - 20 maart\n",
    "\n",
    "## Herhalingsoefening\n",
    "Download the logbook.txt file from canvas, read it and group the activities per month\n",
    "\n",
    "- January : 70 activities \n",
    "- February : 75 activities \n",
    "- March : 88 activities \n",
    "- ..."
   ]
  },
  {
   "cell_type": "code",
   "execution_count": 5,
   "metadata": {},
   "outputs": [
    {
     "name": "stdout",
     "output_type": "stream",
     "text": [
      "Jan 70 activities\n",
      "Feb 75 activities\n",
      "Mar 88 activities\n",
      "Apr 72 activities\n",
      "May 94 activities\n",
      "Jun 91 activities\n",
      "Jul 87 activities\n",
      "Aug 89 activities\n",
      "Sep 87 activities\n",
      "Oct 74 activities\n",
      "Nov 85 activities\n",
      "Dec 88 activities\n"
     ]
    }
   ],
   "source": [
    "file = open(\"logbook.txt\",\"r\")\n",
    "\n",
    "months = [\"Jan\",\"Feb\",\"Mar\",\"Apr\",\"May\",\"Jun\",\"Jul\",\"Aug\",\"Sep\",\"Oct\",\"Nov\",\"Dec\"]\n",
    "activities = [0,0,0,0,0,0,0,0,0,0,0,0]\n",
    "\n",
    "for line in file.readlines():\n",
    "    month = int(line[5:7])-1\n",
    "    activities[month] += 1\n",
    "\n",
    "for index in range(0,12):\n",
    "    print(months[index],activities[index],\"activities\")"
   ]
  },
  {
   "cell_type": "markdown",
   "metadata": {},
   "source": [
    "## Werken met JSON\n",
    "\n",
    "- load = lees file\n",
    "- loads = lees string\n",
    "\n",
    "https://codebeautify.org/jsonviewer\n"
   ]
  },
  {
   "cell_type": "code",
   "execution_count": 11,
   "metadata": {},
   "outputs": [
    {
     "name": "stdout",
     "output_type": "stream",
     "text": [
      "{'people': [{'name': 'Jason Statham', 'age': '54'}, {'name': 'Jason Momoa', 'age': '42'}, {'name': 'Jennifer Jason Leigh', 'age': '59'}]}\n",
      "{'name': 'Jason Statham', 'age': '54'}\n",
      "{'name': 'Jason Momoa', 'age': '42'}\n",
      "{'name': 'Jason Momoa', 'age': '42'}\n",
      "42\n",
      "Jason Statham\n",
      "Jason Momoa\n",
      "Jennifer Jason Leigh\n"
     ]
    }
   ],
   "source": [
    "import json\n",
    "\n",
    "data = '{\"people\": [{\"name\": \"Jason Statham\", \"age\": \"54\"}, {\"name\": \"Jason Momoa\", \"age\": \"42\"}, {\"name\": \"Jennifer Jason Leigh\", \"age\": \"59\"}]}'\n",
    "\n",
    "json_data = json.loads(data)\n",
    "print(json_data)\n",
    "print(json_data[\"people\"][0])\n",
    "print(json_data[\"people\"][1])\n",
    "print(json_data[\"people\"][1])\n",
    "print(json_data[\"people\"][1][\"age\"])\n",
    "\n",
    "for person in json_data[\"people\"]:\n",
    "    print(person[\"name\"])\n"
   ]
  },
  {
   "cell_type": "code",
   "execution_count": 19,
   "metadata": {},
   "outputs": [
    {
     "name": "stdout",
     "output_type": "stream",
     "text": [
      "Eloquent JavaScript, Second Edition\n",
      "Learning JavaScript Design Patterns\n",
      "Speaking JavaScript\n",
      "Programming JavaScript Applications\n",
      "Understanding ECMAScript 6\n",
      "You Don't Know JS\n",
      "Git Pocket Guide\n",
      "Designing Evolvable Web APIs with ASP.NET\n"
     ]
    }
   ],
   "source": [
    "import json\n",
    "\n",
    "json_file = open(\"books.json\",\"r\")\n",
    "json_data = json.load(json_file)\n",
    "\n",
    "for book in json_data[\"books\"]:\n",
    "    print(book[\"title\"])"
   ]
  }
 ],
 "metadata": {
  "kernelspec": {
   "display_name": "Python 3",
   "language": "python",
   "name": "python3"
  },
  "language_info": {
   "codemirror_mode": {
    "name": "ipython",
    "version": 3
   },
   "file_extension": ".py",
   "mimetype": "text/x-python",
   "name": "python",
   "nbconvert_exporter": "python",
   "pygments_lexer": "ipython3",
   "version": "3.7.4"
  }
 },
 "nbformat": 4,
 "nbformat_minor": 2
}
