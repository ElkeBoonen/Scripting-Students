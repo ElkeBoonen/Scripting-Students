{
 "metadata": {
  "language_info": {
   "codemirror_mode": {
    "name": "ipython",
    "version": 3
   },
   "file_extension": ".py",
   "mimetype": "text/x-python",
   "name": "python",
   "nbconvert_exporter": "python",
   "pygments_lexer": "ipython3",
   "version": "3.9.2-final"
  },
  "orig_nbformat": 2,
  "kernelspec": {
   "name": "python3",
   "display_name": "Python 3.9.2 64-bit",
   "metadata": {
    "interpreter": {
     "hash": "a7ff26f83e05060c3a7d34b0e500d2ccaab5c8f85efbdae62ef213692d698dc2"
    }
   }
  }
 },
 "nbformat": 4,
 "nbformat_minor": 2,
 "cells": [
  {
   "source": [
    "# Python basics les 3: 03/03\n",
    "## Collections!"
   ],
   "cell_type": "markdown",
   "metadata": {}
  },
  {
   "cell_type": "code",
   "execution_count": 97,
   "metadata": {},
   "outputs": [
    {
     "output_type": "stream",
     "name": "stdout",
     "text": [
      "0\n3\n5.5\nFalse\nnog eens een test\n[0, 3, 5.5, False, 'nog eens een test']\n[0, 3, 5.5, False, 'nog eens een test', 'extra', 'lijst']\nextra\n[0, 3, 5.5, False, 'nog eens een test', 'extra']\n[3, 5.5, False, 'nog eens een test', 'extra']\n[3, 5.5, False, 'nog eens een test', 'extra', 'op het einde']\n6\n['op het einde', 'extra', 'nog eens een test', False, 5.5, 3]\n"
     ]
    }
   ],
   "source": [
    "list = [5,3,5.5,False, \"test\"]\n",
    "list[0] = 0\n",
    "list[-1] = \"nog eens een test\" # laatste element\n",
    "for x in list:\n",
    "    print(x)\n",
    "print(list)\n",
    "list += [\"extra\", \"lijst\"]\n",
    "print(list)\n",
    "print(list[-2]) # voorlaatste element\n",
    "list.pop() # default laatste element eraf!\n",
    "print(list) \n",
    "list.pop(0) # natuurlijk ook verwijderen op index\n",
    "print(list)\n",
    "list.append(\"op het einde\")\n",
    "print(list)\n",
    "print(len(list))\n",
    "list.reverse()\n",
    "print(list)\n",
    "# list.sort()  alleen van hetzelfde type!\n"
   ]
  },
  {
   "source": [
    "## Lijsten aanmaken"
   ],
   "cell_type": "markdown",
   "metadata": {}
  },
  {
   "cell_type": "code",
   "execution_count": 98,
   "metadata": {},
   "outputs": [
    {
     "output_type": "stream",
     "name": "stdout",
     "text": [
      "range(0, 10)\n0\n1\n2\n3\n4\n5\n6\n7\n8\n9\n[0, 6, 12, 18]\n[0, 4, 16, 36, 64]\nTrue\nd\ni\nt\n \ni\ns\n \ne\ne\nn\n \nt\ne\ns\nt\nFalse\n"
     ]
    }
   ],
   "source": [
    "nrs = range(0,10)\n",
    "print(nrs)\n",
    "for x in nrs:\n",
    "    print(x)\n",
    "squares = [ x*2 for x in range(0,10,3) ]\n",
    "print(squares)\n",
    "squares = [ x**2 for x in range(0,10,2) ]\n",
    "print(squares)\n",
    "\n",
    "print (4 in squares)\n",
    "string = \"dit is een test\"\n",
    "for c in string:\n",
    "    print(c)\n",
    "print(\"a\" in string)"
   ]
  },
  {
   "source": [
    "## 2D lijsten"
   ],
   "cell_type": "markdown",
   "metadata": {}
  },
  {
   "cell_type": "code",
   "execution_count": 99,
   "metadata": {},
   "outputs": [
    {
     "output_type": "stream",
     "name": "stdout",
     "text": [
      "[[1, 2, 3], [4, 5, 6], [7, 8, 9]]\n1\t2\t3\t\n4\t5\t6\t\n7\t8\t9\t\n"
     ]
    }
   ],
   "source": [
    "list_2d = [ [1,2,3],[4,5,6],[7,8,9] ]\n",
    "print(list_2d) \n",
    "\n",
    "for list in list_2d:\n",
    "    for x in list:\n",
    "        print(x, end=\"\\t\")\n",
    "    print()\n"
   ]
  },
  {
   "source": [
    "## Collecties\n",
    "\n",
    "[] voor list --> wijzigen, op index ophalen <br>\n",
    "() voor tuple --> niet wijzigbaar! <br>\n",
    "{} voor set & dictionary (dictionary --> key:value) --> enkel unieke waarden\n",
    "\n",
    "wel altijd [] voor opvragen"
   ],
   "cell_type": "markdown",
   "metadata": {}
  },
  {
   "cell_type": "code",
   "execution_count": 100,
   "metadata": {},
   "outputs": [
    {
     "output_type": "stream",
     "name": "stdout",
     "text": [
      "('winter', 'lente', 'zomer', 'herfst')\nwinter\nlente\nzomer\nherfst\nwinter\n{'appel', 'banaan', 'kiwi', 'appelsien'}\n{'kiwi', 'appelsien', 'appel', 'peer', 'banaan'}\n{'kiwi', 'appelsien', 'appel', 'peer', 'banaan'}\n{'a': 'avocado', 'b': 'banaan', 'c': 'citroen'}\n{'a': 'avocado', 'b': 'banaan', 'c': 'cherry'}\n"
     ]
    }
   ],
   "source": [
    "tuple = (\"winter\", \"lente\", \"zomer\", \"herfst\")\n",
    "print(tuple)\n",
    "for i in tuple:\n",
    "    print(i)\n",
    "print(tuple[0])\n",
    "\n",
    "# tuple[0] = \"ander seizoen\" --> lukt niet, is niet wijzigbaar!\n",
    "\n",
    "set = {\"appel\", \"banaan\", \"appelsien\", \"kiwi\"}\n",
    "print(set)\n",
    "set.add(\"peer\")\n",
    "print(set)\n",
    "set.add(\"peer\")\n",
    "print(set)\n",
    "# print(set[0]) opvragen --> lukt niet!! multi-select set is handig (notion ;) hé renke!)\n",
    "\n",
    "dictionary = { \"a\":\"appel\", \"b\":\"banaan\", \"c\":\"citroen\", \"a\": \"avocado\" }\n",
    "print(dictionary)\n",
    "dictionary[\"c\"] = \"cherry\"\n",
    "print(dictionary)\n"
   ]
  },
  {
   "source": [
    "## Werken met packages\n",
    "\n",
    "https://pypi.org/ \n",
    "\n",
    "### Arrays aanmaken"
   ],
   "cell_type": "markdown",
   "metadata": {}
  },
  {
   "cell_type": "code",
   "execution_count": 101,
   "metadata": {},
   "outputs": [
    {
     "output_type": "stream",
     "name": "stdout",
     "text": [
      "[1, 2, 3, 4, 5]\n[1 2 3 4 5]\n[1, 2, 3, 4, 5, 1, 2, 3, 4, 5]\n[ 2  4  6  8 10]\n[0 1 2 3 4 5 6 7 8 9]\n[0. 0. 0. 0. 0. 0. 0. 0. 0. 0.]\n[ 0  3  6  9 12 15 18 21 24 27 30 33 36 39 42 45 48 51 54 57 60 63 66 69\n 72 75 78 81 84 87 90 93 96 99]\n[[4 4]\n [4 4]\n [4 4]\n [4 4]\n [4 4]]\n[[4 4]]\n[0.95504562]\n[[ 4 -8 -5]\n [ 7  9 -2]]\n"
     ]
    }
   ],
   "source": [
    "import numpy as np #import numpy\n",
    "\n",
    "list = [1,2,3,4,5]\n",
    "array = np.array(list)\n",
    "\n",
    "print(list)\n",
    "print(array)\n",
    "\n",
    "print(list*2)\n",
    "print(array*2)\n",
    "\n",
    "print(np.arange(10))\n",
    "print(np.zeros(10))\n",
    "print(np.arange(0,100,3))\n",
    "print(np.full((5,2),4))\n",
    "print(np.full((1,2),4))\n",
    "print(np.random.random(1))\n",
    "print(np.random.random_integers(-10,10, (2,3)))"
   ]
  },
  {
   "source": [
    "### Arrays aanpassen\n",
    "\n",
    "i - integer\n",
    "b - boolean\n",
    "u - unsigned integer\n",
    "f - float\n",
    "c - complex float\n",
    "m - timedelta\n",
    "M - datetime\n",
    "O - object\n",
    "S - string\n",
    "U - unicode string\n",
    "V - fixed chunk of memory for other type ( void )"
   ],
   "cell_type": "markdown",
   "metadata": {}
  },
  {
   "cell_type": "code",
   "execution_count": 102,
   "metadata": {},
   "outputs": [
    {
     "output_type": "stream",
     "name": "stdout",
     "text": [
      "[0 1 2 3 4 5 6 7 8 9]\n<class 'numpy.ndarray'>\nint32\n[0. 1. 2. 3. 4. 5. 6. 7. 8. 9.]\nfloat32\n(10,)\n[[0 1 2 3 4]\n [5 6 7 8 9]]\n(2, 5)\n2\n"
     ]
    }
   ],
   "source": [
    "array = np.arange(10)\n",
    "print(array)\n",
    "\n",
    "print(type(array))\n",
    "print(array.dtype)\n",
    "\n",
    "new_array = array.astype(\"f\")\n",
    "print(new_array)\n",
    "print(new_array.dtype)\n",
    "\n",
    "print(new_array.shape)\n",
    "\n",
    "array_2d = np.reshape(array, (2,5))\n",
    "print(array_2d)\n",
    "print(array_2d.shape)\n",
    "print(array_2d.ndim)\n",
    "\n",
    "# array_2db = np.reshape(array, (3,3)) --> dimensies moeten kloppen!!!!"
   ]
  },
  {
   "source": [
    "### Arrays slicen\n",
    "\n",
    "\\[start:end:step\\]<br>\n",
    "als het leeg = default!!! <br>\n",
    "start = leeg --> 0 <br>\n",
    "end = leeg --> laatste element <br>\n",
    "step = leeg --> 1<br>\n",
    "\n",
    "geen dubbel punt = gewoon op index"
   ],
   "cell_type": "markdown",
   "metadata": {}
  },
  {
   "cell_type": "code",
   "execution_count": 77,
   "metadata": {},
   "outputs": [
    {
     "output_type": "stream",
     "name": "stdout",
     "text": [
      "[ 0  2  4  6  8 10 12 14 16 18]\n2\n[2 4]\n[ 0  4  8 12 16]\n[ 0  4  8 12 16]\n[ 2  6 10 14 18]\n[-5  2  4 -5  8 10 -5 14 16 -5]\n[-5 16 14 -5 10  8 -5  4  2 -5]\n"
     ]
    }
   ],
   "source": [
    "array = np.arange(10)*2\n",
    "\n",
    "print(array)\n",
    "print(array[1])\n",
    "print(array[1:3])\n",
    "print(array[0:10:2])\n",
    "print(array[::2])\n",
    "print(array[1::2])\n",
    "array[::3] = -5 # toewijzen!!!\n",
    "print(array)\n",
    "print(array[::-1])\n"
   ]
  },
  {
   "source": [
    "### Bewerkingen met arrays"
   ],
   "cell_type": "markdown",
   "metadata": {}
  },
  {
   "cell_type": "code",
   "execution_count": 103,
   "metadata": {},
   "outputs": [
    {
     "output_type": "stream",
     "name": "stdout",
     "text": [
      "[0 1 2 3 4 5 6 7 8 9]\n[10  9  8  7  6  5  4  3  2  1]\n[-10  -8  -6  -4  -2   0   2   4   6   8]\n[False False False False False False  True  True  True  True]\n(array([6, 7, 8, 9], dtype=int64),)\n[2 1 0 2 1 0 2 1 0 2]\n[1 1 3 3 5 5 7 7 9 9]\n1 1 3 3 5 5 7 7 9 9 \n[[0 1]\n [2 3]\n [4 5]\n [6 7]\n [8 9]]\n45\n0\n"
     ]
    }
   ],
   "source": [
    "a = np.arange(0,10)\n",
    "b = np.arange(10,0,-1)\n",
    "\n",
    "print(a)\n",
    "print(b)\n",
    "\n",
    "c = a - b\n",
    "print(c)\n",
    "print(c > 0)\n",
    "\n",
    "print(np.where(c>0))\n",
    "\n",
    "c %= 3\n",
    "print(c)\n",
    "\n",
    "print(np.where(a%2 == 0, a+1, a)) # pythonic \n",
    "for x in a:\n",
    "    if x % 2 == 0:\n",
    "        print(x+1, end=\" \")\n",
    "    else:\n",
    "        print(x, end=\" \")\n",
    "print()\n",
    "array_2d = np.reshape(a, (5,2))\n",
    "print(array_2d)\n",
    "\n",
    "print(a.sum(axis = 0))\n",
    "print(a.min(axis = 0))"
   ]
  },
  {
   "source": [
    "### It's magic time!\n",
    "\n",
    "\n",
    "Read a 1D array and a number of rows! Convert this 1D array to a 2D array! Calculate the sum of each column and if all sums are equal... you are dealing with a magic table!\n",
    "\n",
    "\n",
    "input <br>\n",
    "2 7 0 8 4 1 1 0 10<br>\n",
    "3<br>\n",
    "output<br>\n",
    "True<br>\n",
    "\n",
    "\n",
    "2 7 0<br>\n",
    "8 4 1<br>\n",
    "1 0 10<br>\n",
    "\n",
    "\n",
    "11 11 11 --> MAGIC TABLE"
   ],
   "cell_type": "markdown",
   "metadata": {}
  },
  {
   "cell_type": "code",
   "execution_count": 104,
   "metadata": {},
   "outputs": [
    {
     "output_type": "stream",
     "name": "stdout",
     "text": [
      "[[ 2  7  0]\n [ 8  4  1]\n [ 1  0 10]]\n[11 11 11]\nTrue\n"
     ]
    }
   ],
   "source": [
    "array = np.array([2, 7, 0, 8, 4, 1, 1, 0, 10])\n",
    "rows = 3\n",
    "\n",
    "array_2d = np.reshape(array, (rows, array.size//rows))\n",
    "print(array_2d)\n",
    "\n",
    "sums = array_2d.sum(axis = 0)\n",
    "print(sums)\n",
    "\n",
    "result = np.all(sums == sums[0])\n",
    "print(result)"
   ]
  }
 ]
}