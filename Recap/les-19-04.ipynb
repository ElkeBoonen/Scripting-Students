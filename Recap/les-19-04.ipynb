{
 "cells": [
  {
   "cell_type": "markdown",
   "metadata": {},
   "source": [
    "# Recap 19 april"
   ]
  },
  {
   "cell_type": "markdown",
   "metadata": {},
   "source": [
    "## Numpy"
   ]
  },
  {
   "cell_type": "code",
   "execution_count": 2,
   "metadata": {},
   "outputs": [
    {
     "name": "stdout",
     "output_type": "stream",
     "text": [
      "[1, 2, 3, 4, 5]\n",
      "[1 2 3 4 5]\n",
      "[1, 2, 3, 4, 5, 1, 2, 3, 4, 5]\n",
      "[ 2  4  6  8 10]\n",
      "[0 1 2 3 4 5 6 7 8 9]\n",
      "[0. 0. 0. 0. 0. 0. 0. 0. 0. 0.]\n",
      "[[1. 1. 1.]\n",
      " [1. 1. 1.]]\n",
      "[7 7 7 7 7]\n",
      "[[1. 0. 0. 0.]\n",
      " [0. 1. 0. 0.]\n",
      " [0. 0. 1. 0.]\n",
      " [0. 0. 0. 1.]]\n",
      "[[0.97276576 0.60103848 0.10474341 0.85231951]]\n",
      "[[  1   3   3  -8]\n",
      " [  2   8 -10   5]\n",
      " [  1  -2  -9  -8]\n",
      " [  2   5  -4  10]]\n",
      "[  0   1   8  27  64 125 216 343]\n",
      "[ 8 27 64]\n",
      "[ 0  1  8 27]\n",
      "[ 64 125 216 343]\n",
      "[ -1   1   8  -1  64 125  -1 343]\n",
      "[343  -1 125  64  -1   8   1  -1]\n",
      "[  1  -1 125 343]\n"
     ]
    },
    {
     "name": "stderr",
     "output_type": "stream",
     "text": [
      "C:\\Users\\elkeb\\AppData\\Local\\Temp\\ipykernel_7296\\3012640359.py:17: DeprecationWarning: This function is deprecated. Please call randint(-10, 10 + 1) instead\n",
      "  print(np.random.random_integers(-10, 10, (4,4)))\n"
     ]
    }
   ],
   "source": [
    "import numpy as np \n",
    "\n",
    "list = [1,2,3,4,5] \n",
    "print(list) \n",
    "array = np.array([1,2,3,4,5]) \n",
    "print(array)\n",
    "\n",
    "print(list*2)\n",
    "print(array*2)\n",
    "\n",
    "print(np.arange(10)) \n",
    "print(np.zeros((10,)))              \n",
    "print(np.ones((2,3)))             \n",
    "print(np.full((5,), 7))\n",
    "print(np.eye(4))               \n",
    "print(np.random.random((1,4)))  \n",
    "print(np.random.random_integers(-10, 10, (4,4)))\n",
    "\n",
    "a = np.arange(8)**3    # exponent 3 --> 0^3 1^3 2^3 3^3 ...\n",
    "print(a)\n",
    "print(a[2:5])\n",
    "print(a[:4])           \n",
    "print(a[4:])\n",
    "a[::3] = -1         \n",
    "print(a)   \n",
    "print(a[::-1])  #reverse          \n",
    "print(a[1::2])  # odd indexes           "
   ]
  },
  {
   "cell_type": "markdown",
   "metadata": {},
   "source": [
    "## Pythonic code om lijst te maken"
   ]
  },
  {
   "cell_type": "code",
   "execution_count": 3,
   "metadata": {},
   "outputs": [
    {
     "name": "stdout",
     "output_type": "stream",
     "text": [
      "[0, 1, 4, 9, 16]\n",
      "[0, 1, 4, 9, 16]\n"
     ]
    }
   ],
   "source": [
    "lijst = []\n",
    "for x in range(0,5):\n",
    "    lijst.append(x**2)\n",
    "print(lijst)\n",
    " \n",
    "squares = [x ** 2 for x in range(0,5)]\n",
    "print (squares)"
   ]
  },
  {
   "cell_type": "markdown",
   "metadata": {},
   "source": [
    "## Libraries & packages\n",
    "\n",
    "! pip install <library>\n",
    "\n",
    "Werken met regexen"
   ]
  },
  {
   "cell_type": "code",
   "execution_count": 14,
   "metadata": {},
   "outputs": [
    {
     "name": "stdout",
     "output_type": "stream",
     "text": [
      "Hi\n",
      "He\tllo\n",
      "\n",
      "Hi\\nHello\\nblabla\n",
      "['Hi', 'Hello', 'blabla']\n",
      "['H', 'i', 'H', 'e', 'l', 'l', 'o', 'b', 'l', 'a', 'b', 'l', 'a']\n",
      "['Hi', 'Hello', 'blabla']\n",
      "['Hi', 'Hello', 'blabla']\n"
     ]
    }
   ],
   "source": [
    "string = 'Hi\\nHe\\tllo\\n'\n",
    "print(string)\n",
    " \n",
    "raw_string = r'Hi\\nHello\\nblabla'\n",
    "print(raw_string)\n",
    "print(raw_string.split(r'\\n'))\n",
    "\n",
    "# regex om mee te werken en hetzelfde te doen [^(\\\\n)]\n",
    "# deze regex geeft alle leters, dus alles dat niet gelijk is aan \\n\n",
    "\n",
    "import re\n",
    "result = re.findall(r\"[^(\\\\n)]\", raw_string) \n",
    "print(result)\n",
    "\n",
    "# [^(\\\\n)]+ deze regex geeft 1 of meer voorkomen\n",
    "\n",
    "result = re.findall(r\"[^(\\\\n)]+\", raw_string) \n",
    "print(result)\n",
    "\n",
    "result = re.findall(r\"[^(\\\\n)]\\w+\", raw_string) \n",
    "print(result)\n"
   ]
  },
  {
   "cell_type": "markdown",
   "metadata": {},
   "source": [
    "## Oefening\n",
    "\n",
    "- Request a person from the RandomUser API at https://randomuser.me/api/ and print his/her full name\n",
    "- Scrape all country information of his/her country from https://www.scrapethissite.com/pages/simple/\n",
    "- Request the exact location from the same person and plot this data on a map (up to city level)"
   ]
  },
  {
   "cell_type": "markdown",
   "metadata": {},
   "source": [
    "### Deel 1 = random user"
   ]
  },
  {
   "cell_type": "code",
   "execution_count": 45,
   "metadata": {},
   "outputs": [
    {
     "name": "stdout",
     "output_type": "stream",
     "text": [
      "Alex Ross\n"
     ]
    }
   ],
   "source": [
    "import requests, json\n",
    "response = requests.get('https://randomuser.me/api/')\n",
    "\n",
    "if (response.status_code==200):\n",
    "    random_person = json.loads(response.text)\n",
    "    # print(random_person)\n",
    "    first = random_person['results'][0]['name']['first']\n",
    "    last = random_person['results'][0]['name']['last']\n",
    "    streetname = random_person['results'][0]['location']['street']['name']\n",
    "    streetnr = random_person['results'][0]['location']['street']['number']\n",
    "    city = random_person['results'][0]['location']['city']\n",
    "    postcode = random_person['results'][0]['location']['postcode']\n",
    "    country = random_person['results'][0]['location']['country']\n",
    "\n",
    "    print(first, last)"
   ]
  },
  {
   "cell_type": "markdown",
   "metadata": {},
   "source": [
    "### Deel 2 = land informatie\n",
    "\n",
    "Belangrijk dat je weet hoe landeninfo eruit ziet:\n",
    "\n",
    "<div class=\"col-md-4 country\">\n",
    "<h3 class=\"country-name\">\n",
    "    <i class=\"flag-icon flag-icon-au\"></i>\n",
    "    Australia\n",
    "</h3>\n",
    "<div class=\"country-info\">\n",
    "    <strong>Capital:</strong> <span class=\"country-capital\">Canberra</span><br>\n",
    "    <strong>Population:</strong> <span class=\"country-population\">21515754</span><br>\n",
    "    <strong>Area (km<sup>2</sup>):</strong> <span class=\"country-area\">7686850.0</span><br>\n",
    "</div>\n",
    "</div>"
   ]
  },
  {
   "cell_type": "code",
   "execution_count": 67,
   "metadata": {},
   "outputs": [
    {
     "name": "stdout",
     "output_type": "stream",
     "text": [
      "Australia\n",
      "Capital: Canberra\n",
      "Population: 21515754\n",
      "Area: 7686850.0\n"
     ]
    }
   ],
   "source": [
    "from bs4 import BeautifulSoup\n",
    "\n",
    "print(country)\n",
    "\n",
    "response = requests.get('https://www.scrapethissite.com/pages/simple/')\n",
    "soup = BeautifulSoup(response.text)\n",
    "divs = soup.find_all('div', {\"class\":\"col-md-4 country\"})\n",
    "for item in divs:\n",
    "    countryname = item.find_all('h3', {'class':\"country-name\"})\n",
    "    if countryname[0].get_text().strip() == country:\n",
    "        print(\"Capital:\", item.find('span', {'class':\"country-capital\"}).get_text().strip())\n",
    "        print(\"Population:\", item.find('span', {'class':\"country-population\"}).get_text().strip())\n",
    "        print(\"Area:\", item.find('span', {'class':\"country-area\"}).get_text().strip())\n"
   ]
  },
  {
   "cell_type": "markdown",
   "metadata": {},
   "source": [
    "### Deel 3 = plotten\n",
    "\n",
    "Plotten met folium"
   ]
  },
  {
   "cell_type": "code",
   "execution_count": 80,
   "metadata": {},
   "outputs": [
    {
     "name": "stdout",
     "output_type": "stream",
     "text": [
      "(-30.7464139, 121.473223)\n"
     ]
    },
    {
     "data": {
      "text/html": [
       "<div style=\"width:100%;\"><div style=\"position:relative;width:100%;height:0;padding-bottom:60%;\"><span style=\"color:#565656\">Make this Notebook Trusted to load map: File -> Trust Notebook</span><iframe src=\"about:blank\" style=\"position:absolute;width:100%;height:100%;left:0;top:0;border:none !important;\" data-html=%3C%21DOCTYPE%20html%3E%0A%3Chead%3E%20%20%20%20%0A%20%20%20%20%3Cmeta%20http-equiv%3D%22content-type%22%20content%3D%22text/html%3B%20charset%3DUTF-8%22%20/%3E%0A%20%20%20%20%0A%20%20%20%20%20%20%20%20%3Cscript%3E%0A%20%20%20%20%20%20%20%20%20%20%20%20L_NO_TOUCH%20%3D%20false%3B%0A%20%20%20%20%20%20%20%20%20%20%20%20L_DISABLE_3D%20%3D%20false%3B%0A%20%20%20%20%20%20%20%20%3C/script%3E%0A%20%20%20%20%0A%20%20%20%20%3Cstyle%3Ehtml%2C%20body%20%7Bwidth%3A%20100%25%3Bheight%3A%20100%25%3Bmargin%3A%200%3Bpadding%3A%200%3B%7D%3C/style%3E%0A%20%20%20%20%3Cstyle%3E%23map%20%7Bposition%3Aabsolute%3Btop%3A0%3Bbottom%3A0%3Bright%3A0%3Bleft%3A0%3B%7D%3C/style%3E%0A%20%20%20%20%3Cscript%20src%3D%22https%3A//cdn.jsdelivr.net/npm/leaflet%401.6.0/dist/leaflet.js%22%3E%3C/script%3E%0A%20%20%20%20%3Cscript%20src%3D%22https%3A//code.jquery.com/jquery-1.12.4.min.js%22%3E%3C/script%3E%0A%20%20%20%20%3Cscript%20src%3D%22https%3A//maxcdn.bootstrapcdn.com/bootstrap/3.2.0/js/bootstrap.min.js%22%3E%3C/script%3E%0A%20%20%20%20%3Cscript%20src%3D%22https%3A//cdnjs.cloudflare.com/ajax/libs/Leaflet.awesome-markers/2.0.2/leaflet.awesome-markers.js%22%3E%3C/script%3E%0A%20%20%20%20%3Clink%20rel%3D%22stylesheet%22%20href%3D%22https%3A//cdn.jsdelivr.net/npm/leaflet%401.6.0/dist/leaflet.css%22/%3E%0A%20%20%20%20%3Clink%20rel%3D%22stylesheet%22%20href%3D%22https%3A//maxcdn.bootstrapcdn.com/bootstrap/3.2.0/css/bootstrap.min.css%22/%3E%0A%20%20%20%20%3Clink%20rel%3D%22stylesheet%22%20href%3D%22https%3A//maxcdn.bootstrapcdn.com/bootstrap/3.2.0/css/bootstrap-theme.min.css%22/%3E%0A%20%20%20%20%3Clink%20rel%3D%22stylesheet%22%20href%3D%22https%3A//maxcdn.bootstrapcdn.com/font-awesome/4.6.3/css/font-awesome.min.css%22/%3E%0A%20%20%20%20%3Clink%20rel%3D%22stylesheet%22%20href%3D%22https%3A//cdnjs.cloudflare.com/ajax/libs/Leaflet.awesome-markers/2.0.2/leaflet.awesome-markers.css%22/%3E%0A%20%20%20%20%3Clink%20rel%3D%22stylesheet%22%20href%3D%22https%3A//cdn.jsdelivr.net/gh/python-visualization/folium/folium/templates/leaflet.awesome.rotate.min.css%22/%3E%0A%20%20%20%20%0A%20%20%20%20%20%20%20%20%20%20%20%20%3Cmeta%20name%3D%22viewport%22%20content%3D%22width%3Ddevice-width%2C%0A%20%20%20%20%20%20%20%20%20%20%20%20%20%20%20%20initial-scale%3D1.0%2C%20maximum-scale%3D1.0%2C%20user-scalable%3Dno%22%20/%3E%0A%20%20%20%20%20%20%20%20%20%20%20%20%3Cstyle%3E%0A%20%20%20%20%20%20%20%20%20%20%20%20%20%20%20%20%23map_bd037cc123cf466d8218f2cfca71b3f4%20%7B%0A%20%20%20%20%20%20%20%20%20%20%20%20%20%20%20%20%20%20%20%20position%3A%20relative%3B%0A%20%20%20%20%20%20%20%20%20%20%20%20%20%20%20%20%20%20%20%20width%3A%20100.0%25%3B%0A%20%20%20%20%20%20%20%20%20%20%20%20%20%20%20%20%20%20%20%20height%3A%20100.0%25%3B%0A%20%20%20%20%20%20%20%20%20%20%20%20%20%20%20%20%20%20%20%20left%3A%200.0%25%3B%0A%20%20%20%20%20%20%20%20%20%20%20%20%20%20%20%20%20%20%20%20top%3A%200.0%25%3B%0A%20%20%20%20%20%20%20%20%20%20%20%20%20%20%20%20%7D%0A%20%20%20%20%20%20%20%20%20%20%20%20%3C/style%3E%0A%20%20%20%20%20%20%20%20%0A%3C/head%3E%0A%3Cbody%3E%20%20%20%20%0A%20%20%20%20%0A%20%20%20%20%20%20%20%20%20%20%20%20%3Cdiv%20class%3D%22folium-map%22%20id%3D%22map_bd037cc123cf466d8218f2cfca71b3f4%22%20%3E%3C/div%3E%0A%20%20%20%20%20%20%20%20%0A%3C/body%3E%0A%3Cscript%3E%20%20%20%20%0A%20%20%20%20%0A%20%20%20%20%20%20%20%20%20%20%20%20var%20map_bd037cc123cf466d8218f2cfca71b3f4%20%3D%20L.map%28%0A%20%20%20%20%20%20%20%20%20%20%20%20%20%20%20%20%22map_bd037cc123cf466d8218f2cfca71b3f4%22%2C%0A%20%20%20%20%20%20%20%20%20%20%20%20%20%20%20%20%7B%0A%20%20%20%20%20%20%20%20%20%20%20%20%20%20%20%20%20%20%20%20center%3A%20%5B-30.7464139%2C%20121.473223%5D%2C%0A%20%20%20%20%20%20%20%20%20%20%20%20%20%20%20%20%20%20%20%20crs%3A%20L.CRS.EPSG3857%2C%0A%20%20%20%20%20%20%20%20%20%20%20%20%20%20%20%20%20%20%20%20zoom%3A%2010%2C%0A%20%20%20%20%20%20%20%20%20%20%20%20%20%20%20%20%20%20%20%20zoomControl%3A%20true%2C%0A%20%20%20%20%20%20%20%20%20%20%20%20%20%20%20%20%20%20%20%20preferCanvas%3A%20false%2C%0A%20%20%20%20%20%20%20%20%20%20%20%20%20%20%20%20%7D%0A%20%20%20%20%20%20%20%20%20%20%20%20%29%3B%0A%0A%20%20%20%20%20%20%20%20%20%20%20%20%0A%0A%20%20%20%20%20%20%20%20%0A%20%20%20%20%0A%20%20%20%20%20%20%20%20%20%20%20%20var%20tile_layer_698a350bdd8b4c62bcb07b4a19654c1c%20%3D%20L.tileLayer%28%0A%20%20%20%20%20%20%20%20%20%20%20%20%20%20%20%20%22https%3A//%7Bs%7D.tile.openstreetmap.org/%7Bz%7D/%7Bx%7D/%7By%7D.png%22%2C%0A%20%20%20%20%20%20%20%20%20%20%20%20%20%20%20%20%7B%22attribution%22%3A%20%22Data%20by%20%5Cu0026copy%3B%20%5Cu003ca%20href%3D%5C%22http%3A//openstreetmap.org%5C%22%5Cu003eOpenStreetMap%5Cu003c/a%5Cu003e%2C%20under%20%5Cu003ca%20href%3D%5C%22http%3A//www.openstreetmap.org/copyright%5C%22%5Cu003eODbL%5Cu003c/a%5Cu003e.%22%2C%20%22detectRetina%22%3A%20false%2C%20%22maxNativeZoom%22%3A%2018%2C%20%22maxZoom%22%3A%2018%2C%20%22minZoom%22%3A%200%2C%20%22noWrap%22%3A%20false%2C%20%22opacity%22%3A%201%2C%20%22subdomains%22%3A%20%22abc%22%2C%20%22tms%22%3A%20false%7D%0A%20%20%20%20%20%20%20%20%20%20%20%20%29.addTo%28map_bd037cc123cf466d8218f2cfca71b3f4%29%3B%0A%20%20%20%20%20%20%20%20%0A%3C/script%3E onload=\"this.contentDocument.open();this.contentDocument.write(    decodeURIComponent(this.getAttribute('data-html')));this.contentDocument.close();\" allowfullscreen webkitallowfullscreen mozallowfullscreen></iframe></div></div>"
      ],
      "text/plain": [
       "<folium.folium.Map at 0x1f14ec24e80>"
      ]
     },
     "execution_count": 80,
     "metadata": {},
     "output_type": "execute_result"
    }
   ],
   "source": [
    "# ! pip install folium\n",
    "# ! pip install geopy\n",
    "\n",
    "\n",
    "import folium\n",
    "from geopy.geocoders import Nominatim\n",
    "\n",
    "geolocator = Nominatim(user_agent=\"test\")\n",
    "loc = geolocator.geocode(city+','+ country)\n",
    "print(city, (loc.latitude, loc.longitude))\n",
    "\n",
    "m = folium.Map(location=[loc.latitude, loc.longitude])\n",
    "m"
   ]
  }
 ],
 "metadata": {
  "interpreter": {
   "hash": "cd5662ff78f94fa96606278180ac3194361a7052a583c098e93db213779cf166"
  },
  "kernelspec": {
   "display_name": "Python 3.10.1 64-bit",
   "language": "python",
   "name": "python3"
  },
  "language_info": {
   "codemirror_mode": {
    "name": "ipython",
    "version": 3
   },
   "file_extension": ".py",
   "mimetype": "text/x-python",
   "name": "python",
   "nbconvert_exporter": "python",
   "pygments_lexer": "ipython3",
   "version": "3.10.1"
  },
  "orig_nbformat": 4
 },
 "nbformat": 4,
 "nbformat_minor": 2
}
