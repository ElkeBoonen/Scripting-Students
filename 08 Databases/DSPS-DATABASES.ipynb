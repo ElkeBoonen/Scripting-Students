{
 "cells": [
  {
   "attachments": {},
   "cell_type": "markdown",
   "metadata": {},
   "source": [
    "# Databases - 10 - 11/05\n",
    "\n",
    "install packages mysql-connector-python"
   ]
  },
  {
   "cell_type": "code",
   "execution_count": 1,
   "metadata": {},
   "outputs": [
    {
     "name": "stdout",
     "output_type": "stream",
     "text": [
      "Requirement already satisfied: mysql-connector-python in c:\\users\\elkeb\\appdata\\local\\programs\\python\\python37\\lib\\site-packages (8.0.33)\n",
      "Requirement already satisfied: protobuf<=3.20.3,>=3.11.0 in c:\\users\\elkeb\\appdata\\local\\programs\\python\\python37\\lib\\site-packages (from mysql-connector-python) (3.20.3)\n"
     ]
    },
    {
     "name": "stderr",
     "output_type": "stream",
     "text": [
      "\n",
      "[notice] A new release of pip is available: 23.0.1 -> 23.1.2\n",
      "[notice] To update, run: python.exe -m pip install --upgrade pip\n"
     ]
    }
   ],
   "source": [
    "! pip install mysql-connector-python"
   ]
  },
  {
   "attachments": {},
   "cell_type": "markdown",
   "metadata": {},
   "source": [
    "## Connect to a database"
   ]
  },
  {
   "cell_type": "code",
   "execution_count": 4,
   "metadata": {},
   "outputs": [
    {
     "name": "stdout",
     "output_type": "stream",
     "text": [
      "movies_db\n"
     ]
    }
   ],
   "source": [
    "import mysql.connector\n",
    "\n",
    "conn = mysql.connector.connect(\n",
    "    host = \"localhost\",\n",
    "    user = \"root\",\n",
    "    password = \"\",\n",
    "    database = \"movies_db\"\n",
    ")\n",
    "\n",
    "cursor = conn.cursor()\n",
    "\n",
    "print(conn.database)\n",
    "\n",
    "cursor.close()\n",
    "conn.close()"
   ]
  },
  {
   "attachments": {},
   "cell_type": "markdown",
   "metadata": {},
   "source": [
    "## CREATE OPERATION"
   ]
  },
  {
   "cell_type": "code",
   "execution_count": 5,
   "metadata": {},
   "outputs": [],
   "source": [
    "import mysql.connector\n",
    "\n",
    "conn = mysql.connector.connect(\n",
    "    host = \"localhost\",\n",
    "    user = \"root\",\n",
    "    password = \"\",\n",
    "    database = \"movies_db\"\n",
    ")\n",
    "\n",
    "cursor = conn.cursor()\n",
    "\n",
    "query = \"INSERT INTO actors(name) VALUES ('Kevin Hart');\"\n",
    "cursor.execute(query)\n",
    "\n",
    "conn.commit()\n",
    "\n",
    "cursor.close()\n",
    "conn.close()"
   ]
  },
  {
   "cell_type": "code",
   "execution_count": 6,
   "metadata": {},
   "outputs": [],
   "source": [
    "import mysql.connector\n",
    "\n",
    "conn = mysql.connector.connect(\n",
    "    host = \"localhost\",\n",
    "    user = \"root\",\n",
    "    password = \"\",\n",
    "    database = \"movies_db\"\n",
    ")\n",
    "\n",
    "cursor = conn.cursor()\n",
    "\n",
    "query = \"INSERT INTO actors(name) VALUES (%s);\"\n",
    "data = [ [\"Leonardo Dicaprio\"], [\"Samuel L Jackson\"], [\"Angelina Jolie\"] ]\n",
    "cursor.executemany(query,data)\n",
    "\n",
    "conn.commit()\n",
    "\n",
    "cursor.close()\n",
    "conn.close()"
   ]
  }
 ],
 "metadata": {
  "kernelspec": {
   "display_name": "Python 3",
   "language": "python",
   "name": "python3"
  },
  "language_info": {
   "codemirror_mode": {
    "name": "ipython",
    "version": 3
   },
   "file_extension": ".py",
   "mimetype": "text/x-python",
   "name": "python",
   "nbconvert_exporter": "python",
   "pygments_lexer": "ipython3",
   "version": "3.7.4"
  },
  "orig_nbformat": 4
 },
 "nbformat": 4,
 "nbformat_minor": 2
}
