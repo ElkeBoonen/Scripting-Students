{
 "cells": [
  {
   "attachments": {},
   "cell_type": "markdown",
   "metadata": {},
   "source": [
    "# Databases - 10 - 11/05\n",
    "\n",
    "install packages mysql-connector-python"
   ]
  },
  {
   "cell_type": "code",
   "execution_count": 1,
   "metadata": {},
   "outputs": [
    {
     "name": "stdout",
     "output_type": "stream",
     "text": [
      "Requirement already satisfied: mysql-connector-python in c:\\users\\elkeb\\appdata\\local\\programs\\python\\python37\\lib\\site-packages (8.0.33)\n",
      "Requirement already satisfied: protobuf<=3.20.3,>=3.11.0 in c:\\users\\elkeb\\appdata\\local\\programs\\python\\python37\\lib\\site-packages (from mysql-connector-python) (3.20.3)\n"
     ]
    },
    {
     "name": "stderr",
     "output_type": "stream",
     "text": [
      "\n",
      "[notice] A new release of pip is available: 23.0.1 -> 23.1.2\n",
      "[notice] To update, run: python.exe -m pip install --upgrade pip\n"
     ]
    }
   ],
   "source": [
    "! pip install mysql-connector-python"
   ]
  },
  {
   "attachments": {},
   "cell_type": "markdown",
   "metadata": {},
   "source": [
    "## Connect to a database"
   ]
  },
  {
   "cell_type": "code",
   "execution_count": 4,
   "metadata": {},
   "outputs": [
    {
     "name": "stdout",
     "output_type": "stream",
     "text": [
      "movies_db\n"
     ]
    }
   ],
   "source": [
    "import mysql.connector\n",
    "\n",
    "conn = mysql.connector.connect(\n",
    "    host = \"localhost\",\n",
    "    user = \"root\",\n",
    "    password = \"\",\n",
    "    database = \"movies_db\"\n",
    ")\n",
    "\n",
    "cursor = conn.cursor()\n",
    "\n",
    "print(conn.database)\n",
    "\n",
    "cursor.close()\n",
    "conn.close()"
   ]
  },
  {
   "attachments": {},
   "cell_type": "markdown",
   "metadata": {},
   "source": [
    "## CREATE OPERATION"
   ]
  },
  {
   "cell_type": "code",
   "execution_count": 5,
   "metadata": {},
   "outputs": [],
   "source": [
    "import mysql.connector\n",
    "\n",
    "conn = mysql.connector.connect(\n",
    "    host = \"localhost\",\n",
    "    user = \"root\",\n",
    "    password = \"\",\n",
    "    database = \"movies_db\"\n",
    ")\n",
    "\n",
    "cursor = conn.cursor()\n",
    "\n",
    "query = \"INSERT INTO actors(name) VALUES ('Kevin Hart');\"\n",
    "cursor.execute(query)\n",
    "\n",
    "conn.commit()\n",
    "\n",
    "cursor.close()\n",
    "conn.close()"
   ]
  },
  {
   "cell_type": "code",
   "execution_count": 6,
   "metadata": {},
   "outputs": [],
   "source": [
    "import mysql.connector\n",
    "\n",
    "conn = mysql.connector.connect(\n",
    "    host = \"localhost\",\n",
    "    user = \"root\",\n",
    "    password = \"\",\n",
    "    database = \"movies_db\"\n",
    ")\n",
    "\n",
    "cursor = conn.cursor()\n",
    "\n",
    "query = \"INSERT INTO actors(name) VALUES (%s);\"\n",
    "data = [ [\"Leonardo Dicaprio\"], [\"Samuel L Jackson\"], [\"Angelina Jolie\"] ]\n",
    "cursor.executemany(query,data)\n",
    "\n",
    "conn.commit()\n",
    "\n",
    "cursor.close()\n",
    "conn.close()"
   ]
  },
  {
   "attachments": {},
   "cell_type": "markdown",
   "metadata": {},
   "source": [
    "## READ OPERATION"
   ]
  },
  {
   "cell_type": "code",
   "execution_count": 11,
   "metadata": {},
   "outputs": [
    {
     "name": "stdout",
     "output_type": "stream",
     "text": [
      "[(1, 'Michelle Yeoh'), (2, 'Stephan James'), (3, 'Jamie Lee Curtis'), (4, 'Tom Cruise'), (5, 'Dwayne Johnson'), (6, 'Kevin Hart'), (7, 'Leonardo Dicaprio'), (8, 'Samuel L Jackson'), (9, 'Angelina Jolie')]\n",
      "(1, 'Michelle Yeoh')\n",
      "(2, 'Stephan James')\n",
      "(3, 'Jamie Lee Curtis')\n",
      "(4, 'Tom Cruise')\n",
      "(5, 'Dwayne Johnson')\n",
      "(6, 'Kevin Hart')\n",
      "(7, 'Leonardo Dicaprio')\n",
      "(8, 'Samuel L Jackson')\n",
      "(9, 'Angelina Jolie')\n",
      "Michelle Yeoh\n",
      "Stephan James\n",
      "Jamie Lee Curtis\n",
      "Tom Cruise\n",
      "Dwayne Johnson\n",
      "Kevin Hart\n",
      "Leonardo Dicaprio\n",
      "Samuel L Jackson\n",
      "Angelina Jolie\n",
      "1\n",
      "2\n",
      "3\n",
      "4\n",
      "5\n",
      "6\n",
      "7\n",
      "8\n",
      "9\n"
     ]
    }
   ],
   "source": [
    "import mysql.connector\n",
    "\n",
    "conn = mysql.connector.connect(\n",
    "    host = \"localhost\",\n",
    "    user = \"root\",\n",
    "    password = \"\",\n",
    "    database = \"movies_db\"\n",
    ")\n",
    "\n",
    "cursor = conn.cursor()\n",
    "\n",
    "query = \"SELECT * FROM actors;\"\n",
    "cursor.execute(query)\n",
    "data = cursor.fetchall()\n",
    "\n",
    "print(data)\n",
    "\n",
    "for actor in data:\n",
    "    print(actor)\n",
    "\n",
    "for actor in data:\n",
    "    print(actor[1])\n",
    "\n",
    "for id, name in data:\n",
    "    print(id)\n",
    "\n",
    "cursor.close()\n",
    "conn.close()"
   ]
  },
  {
   "cell_type": "code",
   "execution_count": 14,
   "metadata": {},
   "outputs": [
    {
     "name": "stdout",
     "output_type": "stream",
     "text": [
      "('Everything Everywhere All at Once', 'Michelle Yeoh')\n",
      "('Everything Everywhere All at Once', 'Stephan James')\n",
      "('Everything Everywhere All at Once', 'Jamie Lee Curtis')\n",
      "Michelle Yeoh plays in Everything Everywhere All at Once\n",
      "Stephan James plays in Everything Everywhere All at Once\n",
      "Jamie Lee Curtis plays in Everything Everywhere All at Once\n"
     ]
    }
   ],
   "source": [
    "import mysql.connector\n",
    "\n",
    "conn = mysql.connector.connect(\n",
    "    host = \"localhost\",\n",
    "    user = \"root\",\n",
    "    password = \"\",\n",
    "    database = \"movies_db\"\n",
    ")\n",
    "\n",
    "cursor = conn.cursor()\n",
    "\n",
    "query = \"\"\"select movies.title, actors.name from movies \n",
    "                inner join movie_actor on movies.id = movie_actor.movie_id \n",
    "                inner join actors on actors.id = movie_actor.actor_id;\"\"\"\n",
    "cursor.execute(query)\n",
    "data = cursor.fetchall()\n",
    "\n",
    "for row in data:\n",
    "    print(row)\n",
    "\n",
    "for movie, actor in data:\n",
    "    print(actor, \"plays in\", movie)\n",
    "\n",
    "cursor.close()\n",
    "conn.close()"
   ]
  },
  {
   "attachments": {},
   "cell_type": "markdown",
   "metadata": {},
   "source": [
    "## UPDATE OPERATION\n",
    "\n",
    "Update Jumanji (add jumanji first) --> Board game brings jungle chaos, adventure, and danger."
   ]
  },
  {
   "cell_type": "code",
   "execution_count": 15,
   "metadata": {},
   "outputs": [],
   "source": [
    "import mysql.connector\n",
    "\n",
    "conn = mysql.connector.connect(\n",
    "    host = \"localhost\",\n",
    "    user = \"root\",\n",
    "    password = \"\",\n",
    "    database = \"movies_db\"\n",
    ")\n",
    "\n",
    "cursor = conn.cursor()\n",
    "\n",
    "query = \"\"\"UPDATE movies SET synopsis = 'Board game brings jungle chaos, adventure, and danger'\n",
    "                         WHERE title like 'Jumanji' \"\"\"\n",
    "cursor.execute(query)\n",
    "conn.commit()\n",
    "\n",
    "cursor.close()\n",
    "conn.close()"
   ]
  }
 ],
 "metadata": {
  "kernelspec": {
   "display_name": "Python 3",
   "language": "python",
   "name": "python3"
  },
  "language_info": {
   "codemirror_mode": {
    "name": "ipython",
    "version": 3
   },
   "file_extension": ".py",
   "mimetype": "text/x-python",
   "name": "python",
   "nbconvert_exporter": "python",
   "pygments_lexer": "ipython3",
   "version": "3.7.4"
  },
  "orig_nbformat": 4
 },
 "nbformat": 4,
 "nbformat_minor": 2
}
