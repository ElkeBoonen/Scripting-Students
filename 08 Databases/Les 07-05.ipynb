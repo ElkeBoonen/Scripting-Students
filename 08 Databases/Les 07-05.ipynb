{
 "cells": [
  {
   "cell_type": "markdown",
   "id": "e9d4f30c",
   "metadata": {},
   "source": [
    "# Les 10: 07/05 - Databases\n",
    "\n",
    "https://pypi.org/project/mysql-connector-python/ "
   ]
  },
  {
   "cell_type": "code",
   "execution_count": 1,
   "id": "9ab07bb1",
   "metadata": {},
   "outputs": [
    {
     "name": "stdout",
     "output_type": "stream",
     "text": [
      "Collecting mysql-connector-python\n",
      "  Downloading mysql_connector_python-9.3.0-cp312-cp312-win_amd64.whl.metadata (7.7 kB)\n",
      "Downloading mysql_connector_python-9.3.0-cp312-cp312-win_amd64.whl (16.4 MB)\n",
      "   ---------------------------------------- 0.0/16.4 MB ? eta -:--:--\n",
      "   --- ------------------------------------ 1.6/16.4 MB 9.3 MB/s eta 0:00:02\n",
      "   -------- ------------------------------- 3.4/16.4 MB 8.4 MB/s eta 0:00:02\n",
      "   -------------- ------------------------- 6.0/16.4 MB 10.0 MB/s eta 0:00:02\n",
      "   --------------------- ------------------ 8.9/16.4 MB 11.1 MB/s eta 0:00:01\n",
      "   ----------------------------- ---------- 12.1/16.4 MB 11.8 MB/s eta 0:00:01\n",
      "   ------------------------------------- -- 15.2/16.4 MB 12.3 MB/s eta 0:00:01\n",
      "   ---------------------------------------- 16.4/16.4 MB 12.0 MB/s eta 0:00:00\n",
      "Installing collected packages: mysql-connector-python\n",
      "Successfully installed mysql-connector-python-9.3.0\n"
     ]
    },
    {
     "name": "stderr",
     "output_type": "stream",
     "text": [
      "\n",
      "[notice] A new release of pip is available: 24.2 -> 25.1\n",
      "[notice] To update, run: python.exe -m pip install --upgrade pip\n"
     ]
    }
   ],
   "source": [
    "! pip install mysql-connector-python"
   ]
  },
  {
   "cell_type": "markdown",
   "id": "2e04e923",
   "metadata": {},
   "source": [
    "## Connectie met de databank"
   ]
  },
  {
   "cell_type": "code",
   "execution_count": 7,
   "id": "575466bf",
   "metadata": {},
   "outputs": [
    {
     "name": "stdout",
     "output_type": "stream",
     "text": [
      "5.5.5-10.4.32-MariaDB\n",
      "movies_db\n"
     ]
    }
   ],
   "source": [
    "import mysql.connector\n",
    "\n",
    "connection = mysql.connector.connect(\n",
    "    host = \"localhost\",\n",
    "    user = \"root\",\n",
    "    password = \"\",\n",
    "    database = \"movies_db\"\n",
    ")\n",
    "\n",
    "cursor = connection.cursor()\n",
    "\n",
    "print(connection.server_info)\n",
    "print(connection.database)\n",
    "\n",
    "cursor.close()\n",
    "connection.close()\n"
   ]
  },
  {
   "cell_type": "markdown",
   "id": "db72be79",
   "metadata": {},
   "source": [
    "## Create records"
   ]
  },
  {
   "cell_type": "code",
   "execution_count": 9,
   "id": "dc9f59d3",
   "metadata": {},
   "outputs": [],
   "source": [
    "import mysql.connector\n",
    "\n",
    "connection = mysql.connector.connect(\n",
    "    host = \"localhost\",\n",
    "    user = \"root\",\n",
    "    password = \"\",\n",
    "    database = \"movies_db\"\n",
    ")\n",
    "\n",
    "cursor = connection.cursor()\n",
    "\n",
    "insert_query = \"INSERT INTO movies(title, synopsis) VALUES ('Harry Potter: Deathly Hallows part 1','Eerste deel van laatste boek Harry Potter')\"\n",
    "\n",
    "cursor.execute(insert_query)\n",
    "connection.commit()\n",
    "\n",
    "cursor.close()\n",
    "connection.close()\n"
   ]
  },
  {
   "cell_type": "code",
   "execution_count": 10,
   "id": "d1c2c7de",
   "metadata": {},
   "outputs": [],
   "source": [
    "import mysql.connector\n",
    "\n",
    "connection = mysql.connector.connect(\n",
    "    host = \"localhost\",\n",
    "    user = \"root\",\n",
    "    password = \"\",\n",
    "    database = \"movies_db\"\n",
    ")\n",
    "cursor = connection.cursor()\n",
    "\n",
    "insert_query = \"INSERT INTO movies(title, synopsis) VALUES (%s, %s)\"\n",
    "movies = [\n",
    "    (\"Minecraft movie\", \"Dé minecraft movie ;)\"),\n",
    "    (\"The last samurai\",\"Een Amerikaanse soldaat blabla\"),\n",
    "    (\"Death on the Nile\",\"Murder on the nile, hercule Poirot\")\n",
    "]\n",
    "\n",
    "for movie in movies:\n",
    "    cursor.execute(insert_query, movie)\n",
    "connection.commit()\n",
    "\n",
    "cursor.close()\n",
    "connection.close()\n"
   ]
  },
  {
   "cell_type": "markdown",
   "id": "6f010c2e",
   "metadata": {},
   "source": [
    "## Read records"
   ]
  },
  {
   "cell_type": "code",
   "execution_count": 12,
   "id": "a7368e83",
   "metadata": {},
   "outputs": [
    {
     "name": "stdout",
     "output_type": "stream",
     "text": [
      "(1, 'Everything Everywhere All at Once', 'A multiverse-spanning adventure')\n",
      "Everything Everywhere All at Once\n",
      "(2, 'All Quiet on the Western Front', 'A World War I drama')\n",
      "All Quiet on the Western Front\n",
      "(3, 'The Whale', 'A man attempts to reunite with his estranged daughter')\n",
      "The Whale\n",
      "(4, 'Top Gun: Maverick', 'Maverick returns to train a new generation of fighter pilots')\n",
      "Top Gun: Maverick\n",
      "(5, 'Harry Potter: Deathly Hallows part 1', 'Eerste deel van laatste boek Harry Potter')\n",
      "Harry Potter: Deathly Hallows part 1\n",
      "(6, 'Harry Potter: Deathly Hallows part 1', 'Eerste deel van laatste boek Harry Potter')\n",
      "Harry Potter: Deathly Hallows part 1\n",
      "(7, 'Minecraft movie', 'Dé minecraft movie ;)')\n",
      "Minecraft movie\n",
      "(8, 'The last samurai', 'Een Amerikaanse soldaat blabla')\n",
      "The last samurai\n",
      "(9, 'Death on the Nile', 'Murder on the nile, hercule Poirot')\n",
      "Death on the Nile\n"
     ]
    }
   ],
   "source": [
    "import mysql.connector\n",
    "\n",
    "connection = mysql.connector.connect(\n",
    "    host = \"localhost\",\n",
    "    user = \"root\",\n",
    "    password = \"\",\n",
    "    database = \"movies_db\"\n",
    ")\n",
    "cursor = connection.cursor()\n",
    "\n",
    "cursor.execute(\"SELECT * FROM movies\")\n",
    "movies = cursor.fetchall()\n",
    "\n",
    "for movie in movies:\n",
    "    print(movie)\n",
    "    print(movie[1])\n",
    "\n",
    "cursor.close()\n",
    "connection.close()"
   ]
  },
  {
   "cell_type": "code",
   "execution_count": null,
   "id": "085360ae",
   "metadata": {},
   "outputs": [
    {
     "name": "stdout",
     "output_type": "stream",
     "text": [
      "Everything Everywhere All at Once\n",
      "All Quiet on the Western Front\n",
      "The Whale\n",
      "Top Gun: Maverick\n",
      "Harry Potter: Deathly Hallows part 1\n",
      "Harry Potter: Deathly Hallows part 1\n",
      "Minecraft movie\n",
      "The last samurai\n",
      "Death on the Nile\n"
     ]
    }
   ],
   "source": [
    "import mysql.connector\n",
    "\n",
    "connection = mysql.connector.connect(\n",
    "    host = \"localhost\",\n",
    "    user = \"root\",\n",
    "    password = \"\",\n",
    "    database = \"movies_db\"\n",
    ")\n",
    "cursor = connection.cursor()\n",
    "\n",
    "cursor.execute(\"SELECT * FROM movies\")\n",
    "movies = cursor.fetchall()\n",
    "columns = [desc[0] for desc in cursor.description]\n",
    "\n",
    "for movie in movies:\n",
    "    print(movie[columns.index('title')])\n",
    "\n",
    "cursor.close()\n",
    "connection.close()"
   ]
  },
  {
   "cell_type": "code",
   "execution_count": 18,
   "id": "54512b4f",
   "metadata": {},
   "outputs": [
    {
     "name": "stdout",
     "output_type": "stream",
     "text": [
      "('Michelle Yeoh',)\n",
      "('Stephan James',)\n",
      "('Jamie Lee Curtis',)\n"
     ]
    }
   ],
   "source": [
    "import mysql.connector\n",
    "\n",
    "connection = mysql.connector.connect(\n",
    "    host = \"localhost\",\n",
    "    user = \"root\",\n",
    "    password = \"\",\n",
    "    database = \"movies_db\"\n",
    ")\n",
    "cursor = connection.cursor()\n",
    "\n",
    "cursor.execute(\"SELECT actors.name FROM movies \" \\\n",
    "\"                   JOIN movie_actor ON movies.id = movie_actor.movie_id\" \\\n",
    "\"                   JOIN actors on movie_actor.actor_id = actors.id\" \\\n",
    "\"               WHERE movies.id=1\")\n",
    "movies = cursor.fetchall()\n",
    "\n",
    "for movie in movies:\n",
    "    print(movie)\n",
    "\n",
    "cursor.close()\n",
    "connection.close()"
   ]
  },
  {
   "cell_type": "markdown",
   "id": "9d23d552",
   "metadata": {},
   "source": [
    "## Movies scrapen\n",
    "https://nl.wikipedia.org/wiki/Lijst_van_succesvolste_films\n",
    "\n",
    "goede api voor extra info: https://www.omdbapi.com/\n"
   ]
  },
  {
   "cell_type": "code",
   "execution_count": null,
   "id": "e5396a6c",
   "metadata": {},
   "outputs": [
    {
     "name": "stdout",
     "output_type": "stream",
     "text": [
      "Avatar is toegevoegd in de tabel!\n",
      "Avengers: Endgame is toegevoegd in de tabel!\n",
      "Avatar: The Way of Water is toegevoegd in de tabel!\n",
      "Titanic is toegevoegd in de tabel!\n",
      "Ne Zha 2 * is toegevoegd in de tabel!\n",
      "Star Wars: Episode VII: The Force Awakens is toegevoegd in de tabel!\n",
      "Avengers: Infinity War is toegevoegd in de tabel!\n",
      "Spider-Man: No Way Home is toegevoegd in de tabel!\n",
      "Inside Out 2 is toegevoegd in de tabel!\n",
      "Jurassic World is toegevoegd in de tabel!\n",
      "The Lion King is toegevoegd in de tabel!\n",
      "The Avengers is toegevoegd in de tabel!\n",
      "Furious 7 is toegevoegd in de tabel!\n",
      "Top Gun: Maverick is toegevoegd in de tabel!\n",
      "Frozen II is toegevoegd in de tabel!\n",
      "Barbie is toegevoegd in de tabel!\n",
      "Avengers: Age of Ultron is toegevoegd in de tabel!\n",
      "The Super Mario Bros. Movie is toegevoegd in de tabel!\n",
      "Black Panther is toegevoegd in de tabel!\n",
      "Harry Potter en de Relieken van de Dood deel 2 is toegevoegd in de tabel!\n",
      "Deadpool & Wolverine is toegevoegd in de tabel!\n",
      "Star Wars: Episode VIII: The Last Jedi is toegevoegd in de tabel!\n",
      "Jurassic World: Fallen Kingdom is toegevoegd in de tabel!\n",
      "Frozen is toegevoegd in de tabel!\n",
      "Beauty and the Beast is toegevoegd in de tabel!\n",
      "Incredibles 2 is toegevoegd in de tabel!\n",
      "The Fate of the Furious is toegevoegd in de tabel!\n",
      "Iron Man 3 is toegevoegd in de tabel!\n",
      "Minions is toegevoegd in de tabel!\n",
      "Captain America: Civil War is toegevoegd in de tabel!\n",
      "Aquaman is toegevoegd in de tabel!\n",
      "The Lord of the Rings: The Return of the King is toegevoegd in de tabel!\n",
      "Spider-Man: Far From Home is toegevoegd in de tabel!\n",
      "Captain Marvel is toegevoegd in de tabel!\n",
      "Transformers: Dark of the Moon is toegevoegd in de tabel!\n",
      "The Dark Knight Rises is toegevoegd in de tabel!\n",
      "Skyfall is toegevoegd in de tabel!\n",
      "Jurassic Park is toegevoegd in de tabel!\n",
      "Transformers: Age of Extinction is toegevoegd in de tabel!\n",
      "Aladdin is toegevoegd in de tabel!\n",
      "Joker is toegevoegd in de tabel!\n",
      "Star Wars: Episode IX: The Rise of Skywalker is toegevoegd in de tabel!\n",
      "Toy Story 4 is toegevoegd in de tabel!\n",
      "Toy Story 3 is toegevoegd in de tabel!\n",
      "Pirates of the Caribbean: Dead Man's Chest is toegevoegd in de tabel!\n",
      "Vaiana 2 * is toegevoegd in de tabel!\n",
      "Rogue One: A Star Wars Story is toegevoegd in de tabel!\n",
      "Pirates of the Caribbean: On Stranger Tides is toegevoegd in de tabel!\n",
      "Star Wars: Episode I: The Phantom Menace is toegevoegd in de tabel!\n",
      "Despicable Me 3 is toegevoegd in de tabel!\n",
      "Finding Dory is toegevoegd in de tabel!\n",
      "Harry Potter en de Steen der Wijzen is toegevoegd in de tabel!\n",
      "Zootropolis is toegevoegd in de tabel!\n",
      "Alice in Wonderland is toegevoegd in de tabel!\n",
      "The Hobbit: An Unexpected Journey is toegevoegd in de tabel!\n",
      "The Dark Knight is toegevoegd in de tabel!\n",
      "Jurassic World: Dominion is toegevoegd in de tabel!\n",
      "The Lion King is toegevoegd in de tabel!\n",
      "Oppenheimer is toegevoegd in de tabel!\n",
      "Harry Potter en de Relieken van de Dood deel 1 is toegevoegd in de tabel!\n",
      "Despicable Me 2 is toegevoegd in de tabel!\n",
      "Despicable Me 4 is toegevoegd in de tabel!\n",
      "The Jungle Book is toegevoegd in de tabel!\n",
      "Jumanji: Welcome to the Jungle is toegevoegd in de tabel!\n",
      "The Hobbit: The Battle of the Five Armies is toegevoegd in de tabel!\n",
      "Pirates of the Caribbean: At World's End is toegevoegd in de tabel!\n",
      "The Hobbit: The Desolation of Smaug is toegevoegd in de tabel!\n",
      "Doctor Strange in the Multiverse of Madness is toegevoegd in de tabel!\n",
      "Harry Potter en de Orde van de Feniks is toegevoegd in de tabel!\n",
      "Finding Nemo is toegevoegd in de tabel!\n",
      "Harry Potter en de Halfbloed Prins is toegevoegd in de tabel!\n",
      "Minions: The Rise of Gru is toegevoegd in de tabel!\n",
      "The Lord of the Rings: The Two Towers is toegevoegd in de tabel!\n",
      "Shrek 2 is toegevoegd in de tabel!\n",
      "Bohemian Rhapsody is toegevoegd in de tabel!\n",
      "Star Wars: Episode III: Revenge of the Sith is toegevoegd in de tabel!\n",
      "The Battle at Lake Changjin is toegevoegd in de tabel!\n",
      "Harry Potter en de Vuurbeker is toegevoegd in de tabel!\n",
      "Spider-Man 3 is toegevoegd in de tabel!\n",
      "The Lord of the Rings: The Fellowship of the Ring is toegevoegd in de tabel!\n",
      "Ice Age: Dawn of the Dinosaurs is toegevoegd in de tabel!\n",
      "Harry Potter en de Geheime Kamer is toegevoegd in de tabel!\n",
      "Spider-Man: Homecoming is toegevoegd in de tabel!\n",
      "Spectre is toegevoegd in de tabel!\n",
      "Ice Age: Continental Drift is toegevoegd in de tabel!\n",
      "The Secret Life of Pets is toegevoegd in de tabel!\n",
      "Batman v Superman: Dawn of Justice is toegevoegd in de tabel!\n",
      "A Minecraft Movie * is toegevoegd in de tabel!\n",
      "Wolf Warrior 2 is toegevoegd in de tabel!\n",
      "The Hunger Games: Catching Fire is toegevoegd in de tabel!\n",
      "Guardians of the Galaxy Vol. 2 is toegevoegd in de tabel!\n",
      "Black Panther: Wakanda Forever is toegevoegd in de tabel!\n",
      "Inside Out is toegevoegd in de tabel!\n",
      "Venom is toegevoegd in de tabel!\n",
      "Thor: Ragnarok is toegevoegd in de tabel!\n",
      "The Twilight Saga: Breaking Dawn Part 2 is toegevoegd in de tabel!\n",
      "Guardians of the Galaxy Vol. 3 is toegevoegd in de tabel!\n",
      "Inception is toegevoegd in de tabel!\n",
      "Transformers: Revenge of the Fallen is toegevoegd in de tabel!\n",
      "Spider-Man is toegevoegd in de tabel!\n"
     ]
    }
   ],
   "source": [
    "import pandas as pd\n",
    "import mysql.connector\n",
    "\n",
    "\n",
    "tables = pd.read_html(\"https://nl.wikipedia.org/wiki/Lijst_van_succesvolste_films\")\n",
    "# print(tables[0])\n",
    "movies = tables[0]\n",
    "\n",
    "connection = mysql.connector.connect(\n",
    "    host = \"localhost\",\n",
    "    user = \"root\",\n",
    "    password = \"\",\n",
    "    database = \"movies_db\"\n",
    ")\n",
    "cursor = connection.cursor()\n",
    "\n",
    "insert_query = \"INSERT INTO movies(title) VALUES (%s)\"\n",
    "\n",
    "for movie in movies['Titel']:\n",
    "    cursor.execute(insert_query, [movie])\n",
    "    print(movie,\"is toegevoegd in de tabel!\")\n",
    "connection.commit()\n",
    "\n",
    "cursor.close()\n",
    "connection.close()"
   ]
  },
  {
   "cell_type": "code",
   "execution_count": 35,
   "id": "1528986b",
   "metadata": {},
   "outputs": [
    {
     "name": "stdout",
     "output_type": "stream",
     "text": [
      "(10, 'Avatar', None)\n",
      "(11, 'Avengers: Endgame', None)\n",
      "(12, 'Avatar: The Way of Water', None)\n",
      "(13, 'Titanic', None)\n",
      "(14, 'Ne Zha 2 *', None)\n",
      "(15, 'Star Wars: Episode VII: The Force Awakens', None)\n",
      "(16, 'Avengers: Infinity War', None)\n",
      "(17, 'Spider-Man: No Way Home', None)\n",
      "(18, 'Inside Out 2', None)\n",
      "(19, 'Jurassic World', None)\n",
      "(20, 'The Lion King', None)\n",
      "(21, 'The Avengers', None)\n",
      "(22, 'Furious 7', None)\n",
      "(23, 'Top Gun: Maverick', None)\n",
      "(24, 'Frozen II', None)\n",
      "(25, 'Barbie', None)\n",
      "(26, 'Avengers: Age of Ultron', None)\n",
      "(27, 'The Super Mario Bros. Movie', None)\n",
      "(28, 'Black Panther', None)\n",
      "(29, 'Harry Potter en de Relieken van de Dood deel 2', None)\n",
      "(30, 'Deadpool & Wolverine', None)\n",
      "(31, 'Star Wars: Episode VIII: The Last Jedi', None)\n",
      "(32, 'Jurassic World: Fallen Kingdom', None)\n",
      "(33, 'Frozen', None)\n",
      "(34, 'Beauty and the Beast', None)\n",
      "(35, 'Incredibles 2', None)\n",
      "(36, 'The Fate of the Furious', None)\n",
      "(37, 'Iron Man 3', None)\n",
      "(38, 'Minions', None)\n",
      "(39, 'Captain America: Civil War', None)\n",
      "(40, 'Aquaman', None)\n",
      "(41, 'The Lord of the Rings: The Return of the King', None)\n",
      "(42, 'Spider-Man: Far From Home', None)\n",
      "(43, 'Captain Marvel', None)\n",
      "(44, 'Transformers: Dark of the Moon', None)\n",
      "(45, 'The Dark Knight Rises', None)\n",
      "(46, 'Skyfall', None)\n",
      "(47, 'Jurassic Park', None)\n",
      "(48, 'Transformers: Age of Extinction', None)\n",
      "(49, 'Aladdin', None)\n",
      "(50, 'Joker', None)\n",
      "(51, 'Star Wars: Episode IX: The Rise of Skywalker', None)\n",
      "(52, 'Toy Story 4', None)\n",
      "(53, 'Toy Story 3', None)\n",
      "(54, \"Pirates of the Caribbean: Dead Man's Chest\", None)\n",
      "(55, 'Vaiana 2 *', None)\n",
      "(56, 'Rogue One: A Star Wars Story', None)\n",
      "(57, 'Pirates of the Caribbean: On Stranger Tides', None)\n",
      "(58, 'Star Wars: Episode I: The Phantom Menace', None)\n",
      "(59, 'Despicable Me 3', None)\n",
      "(60, 'Finding Dory', None)\n",
      "(61, 'Harry Potter en de Steen der Wijzen', None)\n",
      "(62, 'Zootropolis', None)\n",
      "(63, 'Alice in Wonderland', None)\n",
      "(64, 'The Hobbit: An Unexpected Journey', None)\n",
      "(65, 'The Dark Knight', None)\n",
      "(66, 'Jurassic World: Dominion', None)\n",
      "(67, 'The Lion King', None)\n",
      "(68, 'Oppenheimer', None)\n",
      "(69, 'Harry Potter en de Relieken van de Dood deel 1', None)\n",
      "(70, 'Despicable Me 2', None)\n",
      "(71, 'Despicable Me 4', None)\n",
      "(72, 'The Jungle Book', None)\n",
      "(73, 'Jumanji: Welcome to the Jungle', None)\n",
      "(74, 'The Hobbit: The Battle of the Five Armies', None)\n",
      "(75, \"Pirates of the Caribbean: At World's End\", None)\n",
      "(76, 'The Hobbit: The Desolation of Smaug', None)\n",
      "(77, 'Doctor Strange in the Multiverse of Madness', None)\n",
      "(78, 'Harry Potter en de Orde van de Feniks', None)\n",
      "(79, 'Finding Nemo', None)\n",
      "(80, 'Harry Potter en de Halfbloed Prins', None)\n",
      "(81, 'Minions: The Rise of Gru', None)\n",
      "(82, 'The Lord of the Rings: The Two Towers', None)\n",
      "(83, 'Shrek 2', None)\n",
      "(84, 'Bohemian Rhapsody', None)\n",
      "(85, 'Star Wars: Episode III: Revenge of the Sith', None)\n",
      "(86, 'The Battle at Lake Changjin', None)\n",
      "(87, 'Harry Potter en de Vuurbeker', None)\n",
      "(88, 'Spider-Man 3', None)\n",
      "(89, 'The Lord of the Rings: The Fellowship of the Ring', None)\n",
      "(90, 'Ice Age: Dawn of the Dinosaurs', None)\n",
      "(91, 'Harry Potter en de Geheime Kamer', None)\n",
      "(92, 'Spider-Man: Homecoming', None)\n",
      "(93, 'Spectre', None)\n",
      "(94, 'Ice Age: Continental Drift', None)\n",
      "(95, 'The Secret Life of Pets', None)\n",
      "(96, 'Batman v Superman: Dawn of Justice', None)\n",
      "(97, 'A Minecraft Movie *', None)\n",
      "(98, 'Wolf Warrior 2', None)\n",
      "(99, 'The Hunger Games: Catching Fire', None)\n",
      "(100, 'Guardians of the Galaxy Vol. 2', None)\n",
      "(101, 'Black Panther: Wakanda Forever', None)\n",
      "(102, 'Inside Out', None)\n",
      "(103, 'Venom', None)\n",
      "(104, 'Thor: Ragnarok', None)\n",
      "(105, 'The Twilight Saga: Breaking Dawn Part 2', None)\n",
      "(106, 'Guardians of the Galaxy Vol. 3', None)\n",
      "(107, 'Inception', None)\n",
      "(108, 'Transformers: Revenge of the Fallen', None)\n",
      "(109, 'Spider-Man', None)\n"
     ]
    }
   ],
   "source": [
    "import mysql.connector\n",
    "\n",
    "connection = mysql.connector.connect(\n",
    "    host = \"localhost\",\n",
    "    user = \"root\",\n",
    "    password = \"\",\n",
    "    database = \"movies_db\"\n",
    ")\n",
    "cursor = connection.cursor()\n",
    "\n",
    "cursor.execute(\"SELECT * FROM movies\")\n",
    "movies = cursor.fetchall()\n",
    "\n",
    "for movie in movies:\n",
    "    if (movie[2] is None):\n",
    "        print(movie)\n",
    "\n",
    "cursor.close()\n",
    "connection.close()"
   ]
  },
  {
   "cell_type": "code",
   "execution_count": 44,
   "id": "761832c8",
   "metadata": {},
   "outputs": [
    {
     "data": {
      "text/plain": [
       "110"
      ]
     },
     "execution_count": 44,
     "metadata": {},
     "output_type": "execute_result"
    }
   ],
   "source": [
    "import connection\n",
    "\n",
    "connection.execute_query(\"INSERT INTO movies(Title) values ('Test test')\")"
   ]
  }
 ],
 "metadata": {
  "kernelspec": {
   "display_name": "Python 3",
   "language": "python",
   "name": "python3"
  },
  "language_info": {
   "codemirror_mode": {
    "name": "ipython",
    "version": 3
   },
   "file_extension": ".py",
   "mimetype": "text/x-python",
   "name": "python",
   "nbconvert_exporter": "python",
   "pygments_lexer": "ipython3",
   "version": "3.12.5"
  }
 },
 "nbformat": 4,
 "nbformat_minor": 5
}
