{
 "cells": [
  {
   "attachments": {},
   "cell_type": "markdown",
   "metadata": {},
   "source": [
    "# Databases - les 10 - 8/05\n",
    "\n",
    "installeer packages mysql-connector-python"
   ]
  },
  {
   "cell_type": "code",
   "execution_count": 1,
   "metadata": {},
   "outputs": [
    {
     "name": "stdout",
     "output_type": "stream",
     "text": [
      "Requirement already satisfied: mysql-connector-python in c:\\users\\elkeb\\appdata\\local\\programs\\python\\python37\\lib\\site-packages (8.0.33)\n",
      "Requirement already satisfied: protobuf<=3.20.3,>=3.11.0 in c:\\users\\elkeb\\appdata\\local\\programs\\python\\python37\\lib\\site-packages (from mysql-connector-python) (3.20.3)\n"
     ]
    },
    {
     "name": "stderr",
     "output_type": "stream",
     "text": [
      "\n",
      "[notice] A new release of pip is available: 23.0.1 -> 23.1.2\n",
      "[notice] To update, run: python.exe -m pip install --upgrade pip\n"
     ]
    }
   ],
   "source": [
    "! pip install mysql-connector-python"
   ]
  },
  {
   "attachments": {},
   "cell_type": "markdown",
   "metadata": {},
   "source": [
    "## Connectie databank\n",
    "\n",
    "XAMPP --> username: 'root' en paswoord: ''"
   ]
  },
  {
   "cell_type": "code",
   "execution_count": 4,
   "metadata": {},
   "outputs": [],
   "source": [
    "import mysql.connector\n",
    "\n",
    "db = mysql.connector.connect(\n",
    "        host=\"localhost\",\n",
    "        user=\"root\",\n",
    "        password=\"\",\n",
    "        database=\"movies_db\"\n",
    ")\n",
    "\n",
    "cursor = db.cursor()\n",
    "\n",
    "# doe je iets\n",
    "\n",
    "cursor.close()\n",
    "db.close()"
   ]
  },
  {
   "attachments": {},
   "cell_type": "markdown",
   "metadata": {},
   "source": [
    "## CREATE\n",
    "\n",
    "3 verschillende manieren:\n",
    "- single record\n",
    "- meerdere records met loop\n",
    "- meerdere records met executemany"
   ]
  },
  {
   "cell_type": "code",
   "execution_count": 7,
   "metadata": {},
   "outputs": [],
   "source": [
    "import mysql.connector\n",
    "\n",
    "db = mysql.connector.connect(\n",
    "        host=\"localhost\",\n",
    "        user=\"root\",\n",
    "        password=\"\",\n",
    "        database=\"movies_db\"\n",
    ")\n",
    "\n",
    "cursor = db.cursor()\n",
    "\n",
    "query = \"INSERT INTO actors(name) VALUES ('Cameron Diaz');\" # als je kopieert vanuit PhpMyAdmin verwijder je best alle 'rare' quotes\n",
    "cursor.execute(query)\n",
    "\n",
    "db.commit()\n",
    "db.close()\n"
   ]
  },
  {
   "cell_type": "code",
   "execution_count": 12,
   "metadata": {},
   "outputs": [],
   "source": [
    "import mysql.connector\n",
    "\n",
    "db = mysql.connector.connect(\n",
    "        host=\"localhost\",\n",
    "        user=\"root\",\n",
    "        password=\"\",\n",
    "        database=\"movies_db\"\n",
    ")\n",
    "\n",
    "cursor = db.cursor()\n",
    "\n",
    "query = \"INSERT INTO actors(name) VALUES (%s);\" \n",
    "data = [[\"Nicolas Cage\"],[\"Johnny Depp\"],[\"Scarlet Johanson\"],[\"Amber Heard\"]]\n",
    "for person in data:\n",
    "    cursor.execute(query,person)\n",
    "\n",
    "db.commit()\n",
    "db.close()"
   ]
  },
  {
   "cell_type": "code",
   "execution_count": 14,
   "metadata": {},
   "outputs": [],
   "source": [
    "import mysql.connector\n",
    "\n",
    "db = mysql.connector.connect(\n",
    "        host=\"localhost\",\n",
    "        user=\"root\",\n",
    "        password=\"\",\n",
    "        database=\"movies_db\"\n",
    ")\n",
    "\n",
    "cursor = db.cursor()\n",
    "\n",
    "query = \"INSERT INTO actors(name) VALUES (%s);\" \n",
    "data = [[\"Matt Damon\"],[\"Shelly Duval\"],[\"Matthias Schoenaerts\"],[\"Veerle Baetens\"]]\n",
    "cursor.executemany(query,data)\n",
    "\n",
    "db.commit()\n",
    "db.close()"
   ]
  },
  {
   "attachments": {},
   "cell_type": "markdown",
   "metadata": {},
   "source": [
    "## READ"
   ]
  },
  {
   "cell_type": "code",
   "execution_count": 20,
   "metadata": {},
   "outputs": [
    {
     "name": "stdout",
     "output_type": "stream",
     "text": [
      "(1, 'Michelle Yeoh')\n",
      "1 Michelle Yeoh\n",
      "(2, 'Stephan James')\n",
      "2 Stephan James\n",
      "(3, 'Jamie Lee Curtis')\n",
      "3 Jamie Lee Curtis\n",
      "(4, 'Tom Cruise')\n",
      "4 Tom Cruise\n",
      "(5, 'Brad Pitt')\n",
      "5 Brad Pitt\n",
      "(6, 'Cameron Diaz')\n",
      "6 Cameron Diaz\n",
      "(7, 'Nicolas Cage')\n",
      "7 Nicolas Cage\n",
      "(8, 'Johnny Depp')\n",
      "8 Johnny Depp\n",
      "(9, 'Scarlet Johanson')\n",
      "9 Scarlet Johanson\n",
      "(10, 'Amber Heard')\n",
      "10 Amber Heard\n",
      "(11, 'Matt Damon')\n",
      "11 Matt Damon\n",
      "(12, 'Shelly Duval')\n",
      "12 Shelly Duval\n",
      "(13, 'Matthias Schoenaerts')\n",
      "13 Matthias Schoenaerts\n",
      "(14, 'Veerle Baetens')\n",
      "14 Veerle Baetens\n"
     ]
    }
   ],
   "source": [
    "import mysql.connector\n",
    "\n",
    "db = mysql.connector.connect(\n",
    "        host=\"localhost\",\n",
    "        user=\"root\",\n",
    "        password=\"\",\n",
    "        database=\"movies_db\"\n",
    ")\n",
    "\n",
    "cursor = db.cursor()\n",
    "\n",
    "query = \"select * from actors;\"\n",
    "cursor.execute(query)\n",
    "\n",
    "results = cursor.fetchall()\n",
    "\n",
    "for person in results:\n",
    "    print(person)\n",
    "    print(person[0], person[1])\n",
    "\n",
    "db.close()"
   ]
  },
  {
   "cell_type": "code",
   "execution_count": 21,
   "metadata": {},
   "outputs": [
    {
     "name": "stdout",
     "output_type": "stream",
     "text": [
      "Michelle Yeoh\n",
      "Stephan James\n",
      "Jamie Lee Curtis\n",
      "Tom Cruise\n",
      "Brad Pitt\n",
      "Cameron Diaz\n",
      "Nicolas Cage\n",
      "Johnny Depp\n",
      "Scarlet Johanson\n",
      "Amber Heard\n",
      "Matt Damon\n",
      "Shelly Duval\n",
      "Matthias Schoenaerts\n",
      "Veerle Baetens\n"
     ]
    }
   ],
   "source": [
    "import mysql.connector\n",
    "\n",
    "db = mysql.connector.connect(\n",
    "        host=\"localhost\",\n",
    "        user=\"root\",\n",
    "        password=\"\",\n",
    "        database=\"movies_db\"\n",
    ")\n",
    "\n",
    "cursor = db.cursor()\n",
    "\n",
    "query = \"select * from actors;\"\n",
    "cursor.execute(query)\n",
    "\n",
    "columns = [desc[0] for desc in cursor.description]\n",
    "\n",
    "results = cursor.fetchall()\n",
    "\n",
    "for person in results:\n",
    "    print(person[columns.index(\"name\")])\n",
    "\n",
    "db.close()"
   ]
  },
  {
   "cell_type": "code",
   "execution_count": 23,
   "metadata": {},
   "outputs": [
    {
     "name": "stdout",
     "output_type": "stream",
     "text": [
      "[('Michelle Yeoh', 'Everything Everywhere All at Once'), ('Stephan James', 'Everything Everywhere All at Once'), ('Jamie Lee Curtis', 'Everything Everywhere All at Once'), ('Tom Cruise', 'Top Gun: Maverick')]\n",
      "('Michelle Yeoh', 'Everything Everywhere All at Once')\n",
      "('Stephan James', 'Everything Everywhere All at Once')\n",
      "('Jamie Lee Curtis', 'Everything Everywhere All at Once')\n",
      "('Tom Cruise', 'Top Gun: Maverick')\n"
     ]
    }
   ],
   "source": [
    "import mysql.connector\n",
    "\n",
    "db = mysql.connector.connect(\n",
    "        host=\"localhost\",\n",
    "        user=\"root\",\n",
    "        password=\"\",\n",
    "        database=\"movies_db\"\n",
    ")\n",
    "\n",
    "cursor = db.cursor()\n",
    "\n",
    "query = \"\"\"select actors.name, movies.title \n",
    "            from movie_actor \n",
    "                inner join actors on actors.id = movie_actor.actor_id \n",
    "                inner join movies on movies.id = movie_actor.movie_id;\"\"\"\n",
    "cursor.execute(query)\n",
    "\n",
    "results = cursor.fetchall()\n",
    "\n",
    "print(results)\n",
    "\n",
    "for row in results:\n",
    "    print(row)\n",
    "\n",
    "db.close()"
   ]
  },
  {
   "attachments": {},
   "cell_type": "markdown",
   "metadata": {},
   "source": [
    "## DELETE\n",
    "\n",
    "Vergeet geen 'Dummy Movie' toe te voegen aan de tabel"
   ]
  },
  {
   "cell_type": "code",
   "execution_count": 25,
   "metadata": {},
   "outputs": [
    {
     "name": "stdout",
     "output_type": "stream",
     "text": [
      "Movie was deleted successfully\n"
     ]
    }
   ],
   "source": [
    "\n",
    "import mysql.connector\n",
    "\n",
    "db = mysql.connector.connect(\n",
    "        host=\"localhost\",\n",
    "        user=\"root\",\n",
    "        password=\"\",\n",
    "        database=\"movies_db\"\n",
    ")\n",
    "\n",
    "cursor = db.cursor()\n",
    "# delete a specific movie\n",
    "delete_query = \"DELETE FROM movies WHERE title = %s\"\n",
    "delete_data = (\"Dummy Movie\",)\n",
    "cursor.execute(delete_query, delete_data)\n",
    "\n",
    "# commit changes\n",
    "db.commit()\n",
    "\n",
    "# check if movie was deleted\n",
    "select_query = \"SELECT * FROM movies WHERE title = %s\"\n",
    "select_data = (\"Dummy Movie\",)\n",
    "cursor.execute(select_query, select_data)\n",
    "\n",
    "if cursor.rowcount == 0:\n",
    "    print(\"Movie was deleted successfully\")\n",
    "else:\n",
    "    print(\"Movie was not deleted\")"
   ]
  },
  {
   "attachments": {},
   "cell_type": "markdown",
   "metadata": {},
   "source": [
    "## Scrape data into database\n",
    "\n",
    "https://en.wikipedia.org/wiki/List_of_Academy_Award-winning_films\n"
   ]
  },
  {
   "cell_type": "code",
   "execution_count": 48,
   "metadata": {},
   "outputs": [],
   "source": [
    "import requests\n",
    "from bs4 import BeautifulSoup\n",
    "import mysql.connector\n",
    "\n",
    "url = \"https://en.wikipedia.org/wiki/List_of_Academy_Award-winning_films\"\n",
    "response = requests.get(url)\n",
    "soup = BeautifulSoup(response.text)\n",
    "\n",
    "tbody = soup.find(\"tbody\")\n",
    "trs = tbody.find_all(\"tr\")\n",
    "\n",
    "for tr in trs:\n",
    "    td = tr.find_all(\"td\")\n",
    "    if len(td) == 4:\n",
    "        title = td[0].get_text().replace(\"'\",\"\")\n",
    "        year = td[1].get_text()\n",
    "        awards = td[2].get_text()\n",
    "        nom = td[3].get_text()\n",
    "\n",
    "        # print(title, year, awards, nom)\n",
    "        db = mysql.connector.connect(\n",
    "            host=\"localhost\",\n",
    "            user=\"root\",\n",
    "            password=\"\",\n",
    "            database=\"movies_db\"\n",
    "        )\n",
    "        cursor = db.cursor()\n",
    "        query = \"SELECT * FROM movies WHERE title like '\" + title + \"';\"\n",
    "        cursor.execute(query)\n",
    "        rows = cursor.fetchall()\n",
    "\n",
    "        if len(rows) == 0:\n",
    "            query = \"INSERT INTO movies(title) VALUES ('\" + title + \"')\"\n",
    "            cursor.execute(query)\n",
    "            db.commit()\n",
    "            id = cursor.lastrowid\n",
    "\n",
    "            query = \"INSERT INTO awards(awardshow_id, year, movie_id, awards, nominations) VALUES (%s,%s,%s,%s,%s);\"\n",
    "            data = (1,year, id, awards, nom)\n",
    "            cursor.execute(query,data)\n",
    "            db.commit()\n",
    "\n",
    "        db.close()\n",
    "        \n",
    "\n"
   ]
  }
 ],
 "metadata": {
  "kernelspec": {
   "display_name": "Python 3",
   "language": "python",
   "name": "python3"
  },
  "language_info": {
   "codemirror_mode": {
    "name": "ipython",
    "version": 3
   },
   "file_extension": ".py",
   "mimetype": "text/x-python",
   "name": "python",
   "nbconvert_exporter": "python",
   "pygments_lexer": "ipython3",
   "version": "3.7.4"
  },
  "orig_nbformat": 4
 },
 "nbformat": 4,
 "nbformat_minor": 2
}
