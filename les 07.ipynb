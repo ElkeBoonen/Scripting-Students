{
 "metadata": {
  "language_info": {
   "codemirror_mode": {
    "name": "ipython",
    "version": 3
   },
   "file_extension": ".py",
   "mimetype": "text/x-python",
   "name": "python",
   "nbconvert_exporter": "python",
   "pygments_lexer": "ipython3",
   "version": "3.9.2"
  },
  "orig_nbformat": 2,
  "kernelspec": {
   "name": "python3",
   "display_name": "Python 3.9.2 64-bit (windows store)",
   "metadata": {
    "interpreter": {
     "hash": "a7ff26f83e05060c3a7d34b0e500d2ccaab5c8f85efbdae62ef213692d698dc2"
    }
   }
  }
 },
 "nbformat": 4,
 "nbformat_minor": 2,
 "cells": [
  {
   "source": [
    "# Les 07: Webscraping\n",
    "\n",
    "## Pagina als platte tekst binnennemen"
   ],
   "cell_type": "markdown",
   "metadata": {}
  },
  {
   "cell_type": "code",
   "execution_count": null,
   "metadata": {
    "tags": [
     "outputPrepend"
    ]
   },
   "outputs": [],
   "source": [
    "import requests\n",
    "request = requests.get(\"https://nl.wikipedia.org/wiki/Vork_(bestek)\")\n",
    "print(request.text)"
   ]
  },
  {
   "source": [
    "## Aan de slag met BeautifulSoup\n",
    "pip install beautifulsoup4"
   ],
   "cell_type": "markdown",
   "metadata": {}
  },
  {
   "cell_type": "code",
   "execution_count": null,
   "metadata": {
    "tags": []
   },
   "outputs": [],
   "source": [
    "from bs4 import BeautifulSoup\n",
    "import requests\n",
    "\n",
    "request = requests.get(\"https://nl.wikipedia.org/wiki/Vork_(bestek)\")\n",
    "print(request.status_code)\n",
    "soup = BeautifulSoup(request.text)\n",
    "print(soup.prettify())\n"
   ]
  },
  {
   "source": [
    "## Pagina bewaren als .html"
   ],
   "cell_type": "markdown",
   "metadata": {}
  },
  {
   "cell_type": "code",
   "execution_count": null,
   "metadata": {},
   "outputs": [],
   "source": [
    "import requests\n",
    "\n",
    "request = requests.get(\"https://nl.wikipedia.org/wiki/Vork_(bestek)\")\n",
    "print(request.status_code)\n",
    "\n",
    "file = open(\"vork.html\", 'w', encoding=\"utf-16\")\n",
    "file.write(request.text)\n",
    "file.close()\n",
    "\n",
    "print(\"File is gemaakt!\")\n"
   ]
  },
  {
   "source": [
    "## Wat zit er allemaal in de soep?"
   ],
   "cell_type": "markdown",
   "metadata": {}
  },
  {
   "cell_type": "code",
   "execution_count": null,
   "metadata": {},
   "outputs": [],
   "source": [
    "from bs4 import BeautifulSoup\n",
    "import requests\n",
    "\n",
    "request = requests.get(\"https://nl.wikipedia.org/wiki/Vork_(bestek)\")\n",
    "print(request.status_code)\n",
    "soup = BeautifulSoup(request.text) # platte HTML code --> request.text\n",
    "\n",
    "print(soup.title)\n",
    "print(soup.title.get_text())\n",
    "print(len(soup.get_text()))\n",
    "print(soup.get_text()) # pure tekst vanop webpagina"
   ]
  },
  {
   "source": [
    "## Lijst van enkel de woorden\n",
    "Geef een lijst van enkel de woorden!!\n",
    "https://regexr.com/"
   ],
   "cell_type": "markdown",
   "metadata": {}
  },
  {
   "cell_type": "code",
   "execution_count": 16,
   "metadata": {},
   "outputs": [
    {
     "output_type": "stream",
     "name": "stdout",
     "text": [
      "200\n['Vork', 'bestek', 'Wikipedia', 'Vork', 'bestek', 'Uit', 'Wikipedia', 'de', 'vrije', 'encyclopedie', 'Naar', 'navigatie', 'springen', 'Naar', 'zoeken', 'springen', '1', 'Gebaksvork', '2', 'Kaasvork', '3', 'Kindervork', '4', 'Gewone', 'eetvork', '7', 'Vleesvork', 'Gebaksvorkje', 'Een', 'vork', 'is', 'een', 'onderdeel', 'van', 'het', 'bestek', 'en', 'bestaat', 'uit', 'een', 'handvat', 'met', 'daaraan', 'een', 'aantal', 'tanden', 'gewoonlijk', 'drie', 'of', 'vier', 'Een', 'vork', 'wordt', 'vooral', 'gebruikt', 'tijdens', 'het', 'snijden', 'van', 'voedsel', 'om', 'het', 'op', 'de', 'plaats', 'te', 'houden', 'En', 'om', 'afgesneden', 'stukjes', 'naar', 'de', 'mond', 'te', 'brengen', 'Verder', 'overlapt', 'de', 'functie', 'van', 'de', 'vork', 'die', 'van', 'de', 'lepel', 'ten', 'dele', 'veel', 'voedsel', 'kan', 'zowel', 'met', 'een', 'lepel', 'als', 'met', 'een', 'vork', 'naar', 'de', 'mond', 'gebracht', 'worden', 'Traditioneel', 'is', 'een', 'vork', 'gemaakt', 'van', 'metaal', 'maar', 'ook', 'hout', 'en', 'plastic', 'kunnen', 'voor', 'de', 'productie', 'gebruikt', 'worden', 'Vorken', 'waren', 'al', 'in', 'gebruik', 'in', 'de', 'Romeinse', 'tijd', 'maar', 'zijn', 'daarna', 'weer', 'verdwenen', 'In', 'Byzantium', 'kwamen', 'zij', 'weer', 'in', 'zwang', 'en', 'Maria', 'Agyropoulaina', 'baarde', 'in', '1004', '5', 'opzien', 'door', 'in', 'Venetië', 'een', 'kleine', 'gouden', 'vork', 'te', 'gebruiken', '1', 'Hoewel', 'eerst', 'veroordeeld', 'als', 'pretentieus', 'raakte', 'het', 'bestek', 'geleidelijk', 'in', 'het', 'westen', 'bekend', 'De', 'vork', 'als', 'onderdeel', 'van', 'het', 'bestek', 'ontstond', 'in', 'de', '16e', 'eeuw', 'in', 'de', 'hogere', 'sociale', 'klassen', 'In', 'de', '15e', 'eeuw', 'werd', 'de', 'drietandige', 'vork', 'nog', 'beschouwd', 'als', 'een', 'instrument', 'van', 'de', 'duivel', 'Een', 'tweetandige', 'vork', 'werd', 'alleen', 'gebruikt', 'bij', 'het', 'snijden', 'van', 'vlees', 'De', 'meeste', 'vorken', 'hebben', 'drie', 'of', 'vier', 'tanden', 'die', 'licht', 'gekromd', 'zijn', 'Hierdoor', 'kan', 'het', 'voedsel', 'zowel', 'aan', 'de', 'vork', 'worden', 'geprikt', 'als', 'met', 'de', 'vork', 'worden', 'geschept', 'Het', 'laatste', 'wordt', 'in', 'het', 'Verenigd', 'Koninkrijk', 'als', 'onbeschaafd', 'beschouwd', 'wie', 'zich', 'aan', 'de', 'etiquette', 'houdt', 'prikt', 'al', 'het', 'voedsel', 'tot', 'en', 'met', 'doperwten', 'aan', 'de', 'vork', 'Van', 'Lodewijk', 'XIV', 'van', 'Frankrijk', 'is', 'bekend', 'dat', 'hij', 'zich', 'aan', 'het', 'oude', 'gebruik', 'om', 'met', 'lepel', 'en', 'mes', 'te', 'eten', 'hield', 'De', '19e', 'eeuw', 'zag', 'een', 'groei', 'van', 'het', 'aantal', 'modellen', 'lepels', 'en', 'vorken', 'Waar', 'ooit', 'een', 'enkele', 'lepel', 'en', 'vork', 'dienstdeden', 'werd', 'de', 'tafel', 'nu', 'gedekt', 'met', 'natfruitvorken', 'opschepvorken', 'dessert', 'en', 'hors', 'd', 'oeuvrevorken', 'visvorken', 'en', 'wat', 'dies', 'meer', 'zij', 'Er', 'bestaan', 'zelfs', 'sardinevorken', 'De', 'toegenomen', 'welvaart', 'en', 'de', 'grote', 'zilverproductie', 'maakten', 'dat', 'mogelijk', 'De', 'invoering', 'van', 'visbestek', 'aan', 'het', 'einde', 'van', 'de', '19e', 'eeuw', 'werd', 'door', 'het', 'Britse', 'hof', 'en', 'de', 'adel', 'genegeerd', 'De', 'Britse', 'koningin', 'eet', 'tot', 'op', 'de', 'dag', 'van', 'vandaag', 'haar', 'vis', 'met', 'twee', 'gelijke', 'vorken', 'en', 'wordt', 'daarin', 'door', 'de', 'adel', 'nagevolgd', 'Een', 'visbestek', 'geldt', 'in', 'deze', 'kringen', 'als', 'een', 'aanwijzing', 'dat', 'iemand', 'qua', 'opvoeding', 'en', 'leefwijze', 'tot', 'de', 'middle', 'class', 'behoort', 'De', 'symboolfunctie', 'van', 'visbestek', 'werd', 'door', 'Nancy', 'Mitford', 'aangestipt', 'in', 'haar', 'studie', 'naar', 'gedrag', 'dat', 'typisch', 'upper', 'class', 'of', 'juist', 'niet', 'upper', 'class', 'U', 'of', 'non', 'U', 'is', '2', 'In', 'Nederland', 'worden', 'de', 'voor', 'de', 'handel', 'bestemde', 'zilveren', 'en', 'gouden', 'vorken', 'van', 'een', 'jaarletter', 'en', 'een', 'gehalteteken', 'voorzien', 'Typen', 'vorken', 'bewerken', 'brontekst', 'bewerken', 'Bij', 'de', 'plastic', 'vorken', 'bestaat', 'er', 'ook', 'een', 'variant', 'die', 'aan', 'de', 'zijkant', 'gekarteld', 'is', 'en', 'als', 'zodanig', 'tevens', 'als', 'mes', 'dienst', 'kan', 'doen', 'Er', 'bestaat', 'ook', 'een', 'vork', 'die', 'bedoeld', 'is', 'voor', 'het', 'eten', 'van', 'gebak', 'de', 'zogenaamde', 'taart', 'of', 'gebaksvork', 'een', 'oestervork', 'een', 'slakkenvorkje', 'en', 'een', 'kreeftvork', 'De', 'vleesvork', 'wordt', 'vooral', 'gebruikt', 'voor', 'grotere', 'stukken', 'vlees', 'Bronnen', 'noten', 'en', 'of', 'referenties', 'Judith', 'Herrin', 'Byzantium', 'The', 'Surprising', 'Life', 'of', 'a', 'Medieval', 'Empire', 'p', '203', '2007', 'Princeton', 'University', 'Press', 'ISBN', '978', '0', '691', '13151', '1', 'Het', 'artikel', 'verscheen', 'in', 'boekvorm', 'onder', 'de', 'titel', 'Noblesse', 'Oblige', '1956', 'Mediabestanden', 'Zie', 'de', 'categorie', 'Vork', 'bestek', 'van', 'Wikimedia', 'Commons', 'voor', 'mediabestanden', 'over', 'dit', 'onderwerp', 'Overgenomen', 'van', 'https', 'nl', 'wikipedia', 'org', 'w', 'index', 'php', 'title', 'Vork_', 'bestek', 'oldid', '56707047', 'Categorieën', 'KeukengereiBestek', 'eetgerei', 'Verborgen', 'categorieën', 'Wikipedia', 'Pagina', 's', 'die', 'ISBN', 'magische', 'links', 'gebruikenWikipedia', 'Commonscat', 'met', 'lokaal', 'andere', 'link', 'dan', 'op', 'Wikidata', 'Navigatiemenu', 'Persoonlijke', 'hulpmiddelen', 'Niet', 'aangemeldOverlegBijdragenRegistrerenAanmelden', 'Naamruimten', 'ArtikelOverleg', 'Varianten', 'Weergaven', 'LezenBewerkenBrontekst', 'bewerkenGeschiedenis', 'Meer', 'Zoeken', 'Navigatie', 'HoofdpaginaVind', 'een', 'artikelVandaagEtalageCategorieënRecente', 'wijzigingenNieuwe', 'artikelenWillekeurige', 'pagina', 'Informatie', 'GebruikersportaalSnelcursusHulp', 'en', 'contactDonaties', 'Hulpmiddelen', 'Links', 'naar', 'deze', 'paginaVerwante', 'wijzigingenBestand', 'uploadenSpeciale', 'pagina', 'sPermanente', 'koppelingPaginagegevensDeze', 'pagina', 'citerenWikidata', 'item', 'Afdrukken', 'exporteren', 'Boek', 'makenDownloaden', 'als', 'PDFPrintvriendelijke', 'versie', 'In', 'andere', 'projecten', 'Wikimedia', 'Commons', 'In', 'andere', 'talen', 'AragonésالعربيةAsturianuAtikamekwAzərbaycancaŽemaitėškaБеларускаяБеларуская', 'тарашкевіца', 'Българскиব', 'ল', 'བ', 'ད', 'ཡ', 'གBrezhonegCatalàČeštinaDanskZazakiΕλληνικάEmiliàn', 'e', 'rumagnòlEnglishEsperantoEspañolEestiEuskaraفارسیSuomiFrançaisGaeilgeGalegoעבריתHrvatskiKreyòl', 'ayisyenMagyarՀայերենBahasa', 'IndonesiaIdoÍslenskaItaliano日本語JawaTaqbaylitҚазақша한국어KurdîLatinaLëtzebuergeschLingua', 'Franca', 'NovaLumbaartLietuviųLatviešuМакедонскиBahasa', 'Melayuမ', 'န', 'မ', 'ဘ', 'သ', 'NedersaksiesNorsk', 'nynorskNorsk', 'bokmålOccitanLivvinkarjalaPolskiپښتوPortuguêsRuna', 'SimiRomânăArmãneashtiРусскийSarduSicilianuSrpskohrvatski', 'српскохрватскиSimple', 'EnglishSlovenčinaShqipСрпски', 'srpskiSundaSvenskaKiswahiliதம', 'ழ', 'ไทยTagalogTürkçeТыва', 'дылУкраїнськаVènetoTiếng', 'ViệtWest', 'VlamsWalonWinarayWolof吴语中文Bân', 'lâm', 'gú粵語', 'Koppelingen', 'bewerken', 'Deze', 'pagina', 'is', 'voor', 'het', 'laatst', 'bewerkt', 'op', '11', 'jul', '2020', 'om', '12', '21', 'De', 'tekst', 'is', 'beschikbaar', 'onder', 'de', 'licentie', 'Creative', 'Commons', 'Naamsvermelding', 'Gelijk', 'delen', 'er', 'kunnen', 'aanvullende', 'voorwaarden', 'van', 'toepassing', 'zijn', 'Zie', 'de', 'gebruiksvoorwaarden', 'voor', 'meer', 'informatie', 'Wikipedia', 'is', 'een', 'geregistreerd', 'handelsmerk', 'van', 'de', 'Wikimedia', 'Foundation', 'Inc', 'een', 'organisatie', 'zonder', 'winstoogmerk', 'Privacybeleid', 'Over', 'Wikipedia', 'Voorbehoud', 'Mobiele', 'weergave', 'Ontwikkelaars', 'Statistieken', 'Cookiesverklaring']\n"
     ]
    }
   ],
   "source": [
    "from bs4 import BeautifulSoup\n",
    "import requests\n",
    "import re\n",
    "\n",
    "request = requests.get(\"https://nl.wikipedia.org/wiki/Vork_(bestek)\")\n",
    "print(request.status_code)\n",
    "soup = BeautifulSoup(request.text) # platte HTML code --> request.text\n",
    "\n",
    "# ik wil een lijst van gewone woorden!!!\n",
    "regex = r'\\w+' \n",
    "result = re.findall(regex, soup.get_text())\n",
    "\n",
    "print(result)"
   ]
  },
  {
   "cell_type": "code",
   "execution_count": null,
   "metadata": {},
   "outputs": [],
   "source": []
  }
 ]
}