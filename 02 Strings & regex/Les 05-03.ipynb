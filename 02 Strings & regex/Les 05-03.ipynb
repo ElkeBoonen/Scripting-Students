{
 "cells": [
  {
   "cell_type": "markdown",
   "metadata": {},
   "source": [
    "# Les 4: 05/03 - strings & regex\n",
    "\n",
    "## Herhalingsoefeningen\n",
    "- Bereken de som van alle getallen in een lijst"
   ]
  },
  {
   "cell_type": "code",
   "execution_count": 3,
   "metadata": {},
   "outputs": [
    {
     "name": "stdout",
     "output_type": "stream",
     "text": [
      "38\n",
      "38\n",
      "38\n"
     ]
    }
   ],
   "source": [
    "lijst = [1,3,7,8,9,10]\n",
    "\n",
    "# niet pythonic\n",
    "som = 0\n",
    "for getal in lijst:\n",
    "   som += getal\n",
    "print(som) \n",
    "\n",
    "# pythonic\n",
    "som = sum(lijst)\n",
    "print(som)\n",
    "\n",
    "print(sum(lijst))"
   ]
  },
  {
   "cell_type": "markdown",
   "metadata": {},
   "source": [
    "- Schrijf een Python-functie die een lijst met strings accepteert en de langste string in de lijst retourneert. "
   ]
  },
  {
   "cell_type": "code",
   "execution_count": 7,
   "metadata": {},
   "outputs": [
    {
     "name": "stdout",
     "output_type": "stream",
     "text": [
      "test\n",
      "test\n",
      "test\n"
     ]
    }
   ],
   "source": [
    "# niet pythonic\n",
    "woorden = [\"dit\", \"is\", \"een\", \"test\"]\n",
    "langste = \"\"\n",
    "for word in woorden:\n",
    "    if len(word) > len(langste):\n",
    "        langste = word\n",
    "\n",
    "print(langste)\n",
    "\n",
    "# pythonic\n",
    "langste = max(woorden, key=len)\n",
    "print(langste)\n",
    "\n",
    "print(max(woorden, key=len))"
   ]
  },
  {
   "cell_type": "markdown",
   "metadata": {},
   "source": [
    "- Gegeven een lijst met meerdere woorden, schrijf een oplossing om de frequentie van elk woord te tellen en een dictionary te retourneren met woorden als sleutels en hun aantal als waarden. Schrijf zo pythonic mogelijk!"
   ]
  },
  {
   "cell_type": "code",
   "execution_count": null,
   "metadata": {},
   "outputs": [
    {
     "name": "stdout",
     "output_type": "stream",
     "text": [
      "{'appel': 3, 'banaan': 2, 'kiwi': 1, 'appelsien': 1}\n",
      "{'appel': 3, 'banaan': 2, 'kiwi': 1, 'appelsien': 1}\n",
      "{'appel': 3, 'banaan': 2, 'kiwi': 1, 'appelsien': 1}\n"
     ]
    }
   ],
   "source": [
    "# niet pythonic\n",
    "fruit = [\"appel\",\"banaan\",\"appel\",\"kiwi\",\"appel\",\"banaan\",\"appelsien\"]\n",
    "fruit_dict = {}\n",
    "\n",
    "for f in fruit:\n",
    "    if f in fruit_dict:\n",
    "        fruit_dict[f]+=1\n",
    "    else:\n",
    "        fruit_dict[f] = 1\n",
    "\n",
    "print(fruit_dict)\n",
    "\n",
    "# pythonic\n",
    "\n",
    "freq = {fruit[I]: fruit.count(fruit[I]) for I in range(len(fruit))}\n",
    "print(freq)\n",
    "\n",
    "print( { f : fruit.count(f) for f in fruit} )\n"
   ]
  },
  {
   "cell_type": "markdown",
   "metadata": {},
   "source": [
    "## Strings\n",
    "\n",
    "https://www.w3schools.com/python/python_ref_string.asp "
   ]
  },
  {
   "cell_type": "code",
   "execution_count": 22,
   "metadata": {},
   "outputs": [
    {
     "name": "stdout",
     "output_type": "stream",
     "text": [
      "Dit is een 'test'\n",
      "Dit is een \"test\"\n",
      "Dit's is een \"test\"\n",
      "C:\\\\pad\\naar\\map\n",
      "C:\\\\pad\\naar\\map\n",
      "Dit is de variabele met waarde 5 \n",
      " \\n \\n en nog één\n",
      "\"Hello\" + \"World\"\n"
     ]
    }
   ],
   "source": [
    "print(\"Dit is een 'test'\")\n",
    "print('Dit is een \"test\"')\n",
    "print('Dit\\'s is een \"test\"')\n",
    "print(r\"C:\\\\pad\\naar\\map\")\n",
    "print(\"C:\\\\\\\\pad\\\\naar\\\\map\")\n",
    "\n",
    "var = 5\n",
    "print(\"Dit is de variabele met waarde\",var,\"\\n\",r\"\\n\",\"\\\\n\",\"en nog één\")\n",
    "\n",
    "print(\"\\\"Hello\\\" + \\\"World\\\"\")\n",
    "\n"
   ]
  },
  {
   "cell_type": "code",
   "execution_count": 46,
   "metadata": {},
   "outputs": [
    {
     "name": "stdout",
     "output_type": "stream",
     "text": [
      "* $ 789 tset nee si tiD\n",
      "Dit\n",
      "Dit\n",
      "it\n",
      "True\n",
      "['Dit', 'is', 'een', 'test', '987', '$', '*']\n",
      "['D', 't ', 's een test 987 $ *']\n",
      "appel-banaan-appel-kiwi-appel-banaan-appelsien\n",
      "Dit-is-een-test-987-$-*\n",
      "UPPER LOWER LOWER SPACE LOWER LOWER SPACE LOWER LOWER LOWER SPACE LOWER LOWER LOWER LOWER SPACE DIGIT DIGIT DIGIT SPACE $ SPACE * \n",
      "DiT\n",
      "iS\n",
      "eeN\n",
      "tesT\n",
      "987\n",
      "$\n",
      "*\n",
      "efjhqkjh qlqdrgelirgu     ergiaeyu\n",
      " efjhqkjh qlqdrgelirgu     ergiaeyu\n",
      "efjhqkjh qlqdrgelirgu     ergiaeyu\n"
     ]
    }
   ],
   "source": [
    "text = \"Dit is een test 987 $ *\"\n",
    "print(text[::-1])\n",
    "print(text[:3])\n",
    "print(text[0:3])\n",
    "print(text[1:3])\n",
    "\n",
    "print(\"is\" in text)\n",
    "\n",
    "print(text.split())\n",
    "print(text.split(\"i\"))\n",
    "\n",
    "print(\"-\".join(fruit))\n",
    "print(\"-\".join(text.split()))\n",
    "\n",
    "for c in text:\n",
    "    if c.isupper():\n",
    "        print(\"UPPER\", end=\" \")\n",
    "    elif c.islower():\n",
    "        print(\"LOWER\", end=\" \")\n",
    "    elif c.isspace():\n",
    "        print(\"SPACE\", end=\" \")\n",
    "    elif c.isdigit():\n",
    "        print(\"DIGIT\", end=\" \")\n",
    "    else:\n",
    "        print(c, end=\" \")\n",
    "\n",
    "print()\n",
    "for woord in text.split():\n",
    "    print(woord[0:-1] + woord[-1:].upper())\n",
    "\n",
    "text =\" efjhqkjh qlqdrgelirgu     ergiaeyu\"\n",
    "print(text.strip())\n",
    "print(text.rstrip())\n",
    "print(text.lstrip())"
   ]
  },
  {
   "cell_type": "markdown",
   "metadata": {},
   "source": [
    "### Oefening string manipulatie\n",
    "\n",
    "- Verwijder alle witruimte aan het begin en einde van de string.\n",
    "- Extraheer het woord \"Python\" met index notatie.\n",
    "- Extraheer de woorden \"leuk en handig\" met slicing notatie.\n",
    "- Keer de gehele string om (van achter naar voren).\n",
    "- Maak een lijst van alle woorden in de tekst (gebruik een split methode).\n",
    "- Extraheer alle woorden die beginnen met de letter 'p' (hoofdletter ongevoelig).\n",
    "- Extraheer alleen de tweede zin uit de tekst (hint: split op '!').\n",
    "- Vervang alle spaties in de tekst door een underscore (_).\n",
    "- Tel het aantal keer dat de letter 'e' voorkomt in de tekst.\n",
    "- Creëer een nieuwe string met alleen de eerste letter van elk woord (hint: gebruik split en join)."
   ]
  },
  {
   "cell_type": "code",
   "execution_count": 67,
   "metadata": {},
   "outputs": [
    {
     "name": "stdout",
     "output_type": "stream",
     "text": [
      "Python programmeren is leuk en handig! Leer nu: slicen, indexen, trimmen en splitten.\n",
      "P\n",
      "Python\n",
      "leuk en handig\n",
      "23\n",
      "leuk en handig\n",
      ".nettilps ne nemmirt ,nexedni ,necils :un reeL !gidnah ne kuel si neremmargorp nohtyP\n",
      "['Python', 'programmeren']\n",
      " Leer nu: slicen, indexen, trimmen en splitten.\n",
      "Python_programmeren_is_leuk_en_handig!_Leer_nu:_slicen,_indexen,_trimmen_en_splitten.\n",
      "12\n",
      "PpilehLnsites\n"
     ]
    }
   ],
   "source": [
    "text = \" Python programmeren is leuk en handig! Leer nu: slicen, indexen, trimmen en splitten. \"\n",
    "\n",
    "text = text.strip()\n",
    "print(text)\n",
    "print(text[0])\n",
    "print(text.split()[0])\n",
    "print(text[23:37])\n",
    "print(text.index(\"leuk en handig\"))\n",
    "print(text[text.index(\"l\"):text.index(\"!\")])\n",
    "print(text[::-1])\n",
    "print( [w for w in text.split() if w.lower().startswith('p') ] )\n",
    "print(text.split(\"!\")[1])\n",
    "print(text.replace(\" \",\"_\"))\n",
    "print(text.count(\"e\"))\n",
    "print(\"\".join(w[0] for w in text.split()))"
   ]
  }
 ],
 "metadata": {
  "kernelspec": {
   "display_name": "Python 3",
   "language": "python",
   "name": "python3"
  },
  "language_info": {
   "codemirror_mode": {
    "name": "ipython",
    "version": 3
   },
   "file_extension": ".py",
   "mimetype": "text/x-python",
   "name": "python",
   "nbconvert_exporter": "python",
   "pygments_lexer": "ipython3",
   "version": "3.12.5"
  }
 },
 "nbformat": 4,
 "nbformat_minor": 2
}
