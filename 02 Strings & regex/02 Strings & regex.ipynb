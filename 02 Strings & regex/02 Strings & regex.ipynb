{
 "cells": [
  {
   "cell_type": "markdown",
   "metadata": {},
   "source": [
    "# Les 4: Strings & regex\n",
    "\n",
    "## Herhaling\n",
    "You are given a NumPy array temperatures representing the daily maximum temperatures in degrees Celsius for a month. Write a Python script using NumPy to:\n",
    "\n",
    "- Find the mean temperature for the month.\n",
    "- Extract the temperatures for the last week of the month into a new array.\n",
    "- Identify days (index positions) with temperatures above the monthly mean."
   ]
  },
  {
   "cell_type": "code",
   "execution_count": 12,
   "metadata": {},
   "outputs": [
    {
     "name": "stdout",
     "output_type": "stream",
     "text": [
      "24.7\n",
      "[23 26 29 28 27 25 23]\n",
      "(array([ 1,  5,  7,  8, 12, 13, 14, 17, 18, 19, 20, 24, 25, 26, 27, 28],\n",
      "      dtype=int64),)\n",
      "[25 28 26 27 25 29 30 26 28 27 25 26 29 28 27 25]\n",
      "[25, 28, 26, 27, 25, 29, 30, 26, 28, 27, 25, 26, 29, 28, 27, 25]\n",
      "25\n",
      "28\n",
      "26\n",
      "27\n",
      "25\n",
      "29\n",
      "30\n",
      "26\n",
      "28\n",
      "27\n",
      "25\n",
      "26\n",
      "29\n",
      "28\n",
      "27\n",
      "25\n"
     ]
    }
   ],
   "source": [
    "import numpy as np\n",
    "\n",
    "# Sample data: daily max temperatures for a month\n",
    "temperatures = np.array([22, 25, 19, 21, 24, 28, 23, 26, 27, 22, 20, 21, 25, 29, 30, 22, 24, 26, 28, 27, 25, 24, 22, 23, 26, 29, 28, 27, 25, 23])\n",
    "\n",
    "# 1. Calculate the mean temperature for the month.\n",
    "mean = np.mean(temperatures)\n",
    "print(mean)\n",
    "\n",
    "# 2. Slice the array to get temperatures for the last week.\n",
    "lastweek = temperatures[-7::]\n",
    "print(lastweek)\n",
    "\n",
    "# 3. Find days with temperatures above the monthly mean.\n",
    "above = np.where(temperatures > mean) # geeft indexen terug!\n",
    "print(above)\n",
    "\n",
    "above = np.array([x for x in temperatures if x > mean])\n",
    "print(above)\n",
    "\n",
    "above = [x for x in temperatures if x > mean]\n",
    "print(above)\n",
    "\n",
    "for temp in temperatures:\n",
    "    if temp > mean:\n",
    "        print(temp)"
   ]
  },
  {
   "cell_type": "markdown",
   "metadata": {},
   "source": [
    "## Strings\n",
    "\n",
    "Enkele & dubbele quotes + escapen can speciale tekens!"
   ]
  },
  {
   "cell_type": "code",
   "execution_count": 23,
   "metadata": {},
   "outputs": [
    {
     "name": "stdout",
     "output_type": "stream",
     "text": [
      "'s Avonds\n",
      "'s Avonds\n",
      "Dit '\\' is het escape teken\n",
      "Dit \n",
      " neemt nieuwe lijn\n",
      "Dit \t neemt tab\n",
      "Dit '\\\\' is het escape teken\n",
      "Dit \\t neemt tab\n",
      "Dit is een test '\\\\'Dit is een test '\\'\n"
     ]
    }
   ],
   "source": [
    "print(\"'s Avonds\")\n",
    "print('\\'s Avonds')\n",
    "\n",
    "print(\"Dit '\\\\' is het escape teken\")\n",
    "\n",
    "print(\"Dit \\n neemt nieuwe lijn\")\n",
    "print(\"Dit \\t neemt tab\")\n",
    "\n",
    "print(r\"Dit '\\\\' is het escape teken\")\n",
    "print(r\"Dit \\t neemt tab\")\n",
    "\n",
    "print(r\"Dit is een test '\\\\'\" +  \"Dit is een test '\\\\'\")"
   ]
  },
  {
   "cell_type": "markdown",
   "metadata": {},
   "source": [
    "Spelen in een string!\n",
    "\n",
    "slicen --> [start:stop:stap]\n",
    "\n",
    "in --> checken of er een karakter in de string zit!\n"
   ]
  },
  {
   "cell_type": "code",
   "execution_count": 39,
   "metadata": {},
   "outputs": [
    {
     "name": "stdout",
     "output_type": "stream",
     "text": [
      "z\n",
      "zyxwvutsrqponmlkjihgfedcba\n",
      "acegikmoqsuwy\n",
      "efghijklmnopqrst\n",
      "tsrqponmlkjihgfe\n",
      "True\n",
      "True\n",
      "False\n"
     ]
    }
   ],
   "source": [
    "abc = \"abcdefghijklmnopqrstuvwxyz\"\n",
    "\n",
    "print(abc[-1]) # laatste karakter\n",
    "print(abc[::-1])\n",
    "\n",
    "print(abc[::2]) # alle even posities\n",
    "\n",
    "print(abc[4:20:]) # van e naar t \n",
    "print(abc[19:3:-1]) # van t naar e\n",
    "\n",
    "print(\"a\" in \"abc\")\n",
    "print(\"a\" in abc)\n",
    "print(\"é\" in abc)\n",
    "\n",
    "# abc.where lukt niet!"
   ]
  },
  {
   "cell_type": "code",
   "execution_count": 42,
   "metadata": {},
   "outputs": [
    {
     "name": "stdout",
     "output_type": "stream",
     "text": [
      "['a' 'b' 'c' 'd' 'e' 'f' 'g' 'h' 'i' 'j' 'k' 'l' 'm' 'n' 'o' 'p' 'q' 'r'\n",
      " 's' 't' 'u' 'v' 'w' 'x' 'y' 'z']\n"
     ]
    },
    {
     "data": {
      "text/plain": [
       "(array([4], dtype=int64),)"
      ]
     },
     "execution_count": 42,
     "metadata": {},
     "output_type": "execute_result"
    }
   ],
   "source": [
    "import numpy as np\n",
    "\n",
    "abc_array = np.array(list(abc)) # van string een lijst van karakters maken --> array steken\n",
    "print(abc_array)\n",
    "\n",
    "# met array kunnen we where gebruiken\n",
    "\n",
    "np.where(abc_array == \"e\")"
   ]
  },
  {
   "cell_type": "markdown",
   "metadata": {},
   "source": [
    "Splitten & Joinen van strings"
   ]
  },
  {
   "cell_type": "code",
   "execution_count": 50,
   "metadata": {},
   "outputs": [
    {
     "name": "stdout",
     "output_type": "stream",
     "text": [
      "['Dit', 'is', 'een', 'test', 'zin', 'nog', 'een', 'test']\n",
      "['Dit is ', '', 'n t', 'st zin \\n nog ', '', 'n t', 'st']\n",
      "['Dit is een test zin ', ' nog een test']\n",
      "abcdefghijklmnopqrstuvwxyz\n",
      "a - b - c - d - e - f - g - h - i - j - k - l - m - n - o - p - q - r - s - t - u - v - w - x - y - z\n"
     ]
    }
   ],
   "source": [
    "zin =\"Dit is een test zin \\n nog een test\"\n",
    "\n",
    "print(zin.split())\n",
    "print(zin.split(\"e\"))\n",
    "print(zin.split(\"\\n\"))\n",
    "\n",
    "abc = ['a','b' ,'c', 'd', 'e' ,'f' ,'g' ,'h', 'i', 'j', 'k' ,'l' ,'m' ,'n', 'o', 'p', 'q' ,'r','s' ,'t' ,'u' ,'v', 'w' ,'x' ,'y' ,'z']\n",
    "print(\"\".join(abc))\n",
    "print(\" - \".join(abc))\n"
   ]
  },
  {
   "cell_type": "markdown",
   "metadata": {},
   "source": [
    "- isX()-functies\n",
    "- Strippen van de strings --> spaties vooraan & achteraan wegnemen"
   ]
  },
  {
   "cell_type": "code",
   "execution_count": 64,
   "metadata": {},
   "outputs": [
    {
     "name": "stdout",
     "output_type": "stream",
     "text": [
      "d I T SPACE I S SPACE DIGIT SPACE T E S T \n",
      "True\n",
      "False\n"
     ]
    }
   ],
   "source": [
    "zin = \"    Dit is 1 test     \"\n",
    "\n",
    "zin = zin.strip()\n",
    "\n",
    "for karakter in zin:\n",
    "    if karakter.islower():\n",
    "        print(karakter.upper(),end=\" \")\n",
    "    elif karakter.isupper():\n",
    "        print(karakter.lower(),end=\" \")\n",
    "    elif karakter.isdigit():\n",
    "        print(\"DIGIT\",end=\" \")\n",
    "    elif karakter.isspace():\n",
    "        print(\"SPACE\",end=\" \")\n",
    "\n",
    "print()\n",
    "print(zin.startswith(\"D\"))\n",
    "print(zin.startswith(\"d\"))"
   ]
  },
  {
   "cell_type": "markdown",
   "metadata": {},
   "source": [
    "https://www.asciitable.com/\n"
   ]
  },
  {
   "cell_type": "code",
   "execution_count": 66,
   "metadata": {},
   "outputs": [
    {
     "name": "stdout",
     "output_type": "stream",
     "text": [
      "97\n",
      "d\n"
     ]
    }
   ],
   "source": [
    "print(ord(\"a\"))\n",
    "\n",
    "print(chr(100))"
   ]
  },
  {
   "cell_type": "markdown",
   "metadata": {},
   "source": [
    "Most words in Pig Latin end in \"ay.\" Use the rules below to translate normal English into Pig Latin.\n",
    "\n",
    "1. If a word starts with a consonant and a vowel, put the first letter of the word at the end of the word and add \"ay.\" Example: Happy = appyh + ay = appyhay\n",
    "2. If a word starts with two consonants move the two consonants to the end of the word and add \"ay.\" Example: Child = Ildch + ay = Ildchay\n",
    "3. If a word starts with a vowel add the word \"way\" at the end of the word. Example: Awesome = Awesome +way = Awesomeway"
   ]
  },
  {
   "cell_type": "code",
   "execution_count": 71,
   "metadata": {},
   "outputs": [
    {
     "name": "stdout",
     "output_type": "stream",
     "text": [
      "isthay\n",
      "ildchay\n",
      "isway\n",
      "eryvay\n",
      "oudlay\n"
     ]
    }
   ],
   "source": [
    "sentence = \"This child is very loud\".lower()\n",
    "# isthay ildchay isway eryvay oudlay\n",
    "\n",
    "words = sentence.split()\n",
    "for word in words:\n",
    "    if word[0] in \"aeyuio\":\n",
    "        print(word+\"way\")\n",
    "    else:\n",
    "        if word[1] in \"aeyuio\":\n",
    "            print(word[1::]+word[0]+\"ay\")\n",
    "        else:\n",
    "            print(word[2::]+word[0:2]+\"ay\")"
   ]
  },
  {
   "cell_type": "markdown",
   "metadata": {},
   "source": [
    "## Packages/modules\n",
    "The Python Standard Library: https://docs.python.org/3/library/index.html "
   ]
  },
  {
   "cell_type": "code",
   "execution_count": 73,
   "metadata": {},
   "outputs": [
    {
     "name": "stdout",
     "output_type": "stream",
     "text": [
      "\n",
      "Please wait a moment while I gather a list of all available modules...\n",
      "\n"
     ]
    },
    {
     "name": "stderr",
     "output_type": "stream",
     "text": [
      "c:\\Users\\elkeb\\AppData\\Local\\Programs\\Python\\Python37\\lib\\site-packages\\tqdm\\auto.py:21: TqdmWarning: IProgress not found. Please update jupyter and ipywidgets. See https://ipywidgets.readthedocs.io/en/stable/user_install.html\n",
      "  from .autonotebook import tqdm as notebook_tqdm\n",
      "c:\\Users\\elkeb\\AppData\\Local\\Programs\\Python\\Python37\\lib\\site-packages\\google\\auth\\__init__.py:55: Python37DeprecationWarning: After January 1, 2024, new releases of this library will drop support for Python 3.7. More details about Python 3.7 support can be found at https://cloud.google.com/python/docs/python37-sunset/\n",
      "  warnings.warn(message, Python37DeprecationWarning)\n",
      "c:\\Users\\elkeb\\AppData\\Local\\Programs\\Python\\Python37\\lib\\site-packages\\google\\oauth2\\__init__.py:40: Python37DeprecationWarning: After January 1, 2024, new releases of this library will drop support for Python 3.7. More details about Python 3.7 support can be found at https://cloud.google.com/python/docs/python37-sunset/\n",
      "  warnings.warn(message, Python37DeprecationWarning)\n",
      "c:\\Users\\elkeb\\AppData\\Local\\Programs\\Python\\Python37\\lib\\site-packages\\torchvision\\models\\_utils.py:209: UserWarning: The parameter 'pretrained' is deprecated since 0.13 and may be removed in the future, please use 'weights' instead.\n",
      "  f\"The parameter '{pretrained_param}' is deprecated since 0.13 and may be removed in the future, \"\n",
      "c:\\Users\\elkeb\\AppData\\Local\\Programs\\Python\\Python37\\lib\\site-packages\\torchvision\\models\\_utils.py:223: UserWarning: Arguments other than a weight enum or `None` for 'weights' are deprecated since 0.13 and may be removed in the future. The current behavior is equivalent to passing `weights=None`.\n",
      "  warnings.warn(msg)\n",
      "c:\\Users\\elkeb\\AppData\\Local\\Programs\\Python\\Python37\\lib\\site-packages\\torchvision\\models\\inception.py:47: FutureWarning: The default weight initialization of inception_v3 will be changed in future releases of torchvision. If you wish to keep the old behavior (which leads to long initialization times due to scipy/scipy#11299), please set init_weights=True.\n",
      "  FutureWarning,\n"
     ]
    },
    {
     "name": "stdout",
     "output_type": "stream",
     "text": [
      "Hello this is my package!\n"
     ]
    },
    {
     "name": "stderr",
     "output_type": "stream",
     "text": [
      "c:\\Users\\elkeb\\AppData\\Local\\Programs\\Python\\Python37\\lib\\site-packages\\nltk\\twitter\\__init__.py:21: UserWarning: The twython library has not been installed. Some functionality from the twitter package will not be available.\n",
      "  \"The twython library has not been installed. \"\n",
      "c:\\Users\\elkeb\\AppData\\Local\\Programs\\Python\\Python37\\lib\\site-packages\\_distutils_hack\\__init__.py:33: UserWarning: Setuptools is replacing distutils.\n",
      "  warnings.warn(\"Setuptools is replacing distutils.\")\n"
     ]
    },
    {
     "name": "stdout",
     "output_type": "stream",
     "text": [
      "pygame 2.3.0 (SDL 2.24.2, Python 3.7.4)\n",
      "Hello from the pygame community. https://www.pygame.org/contribute.html\n"
     ]
    },
    {
     "name": "stderr",
     "output_type": "stream",
     "text": [
      "c:\\Users\\elkeb\\AppData\\Local\\Programs\\Python\\Python37\\lib\\pkgutil.py:92: UserWarning: viewer requires Qt\n",
      "  __import__(info.name)\n",
      "c:\\Users\\elkeb\\AppData\\Local\\Programs\\Python\\Python37\\lib\\site-packages\\torch\\distributed\\_sharded_tensor\\__init__.py:10: DeprecationWarning: torch.distributed._sharded_tensor will be deprecated, use torch.distributed._shard.sharded_tensor instead\n",
      "  DeprecationWarning\n",
      "c:\\Users\\elkeb\\AppData\\Local\\Programs\\Python\\Python37\\lib\\site-packages\\torch\\distributed\\_sharding_spec\\__init__.py:10: DeprecationWarning: torch.distributed._sharding_spec will be deprecated, use torch.distributed._shard.sharding_spec instead\n",
      "  DeprecationWarning\n",
      "NOTE: Redirects are currently not supported in Windows or MacOs.\n",
      "Using region Flanders server backend.\n",
      "c:\\Users\\elkeb\\AppData\\Local\\Programs\\Python\\Python37\\lib\\site-packages\\twine\\__init__.py:43: DeprecationWarning: Implicit None on return values is deprecated and will raise KeyErrors.\n",
      "  __license__ = metadata[\"license\"]\n",
      "c:\\Users\\elkeb\\AppData\\Local\\Programs\\Python\\Python37\\lib\\site-packages\\wordcloud\\wordcloud.py:35: ResourceWarning: unclosed file <_io.TextIOWrapper name='c:\\\\Users\\\\elkeb\\\\AppData\\\\Local\\\\Programs\\\\Python\\\\Python37\\\\lib\\\\site-packages\\\\wordcloud\\\\stopwords' mode='r' encoding='cp1252'>\n",
      "  STOPWORDS = set(map(str.strip, open(os.path.join(FILE, 'stopwords')).readlines()))\n",
      "ResourceWarning: Enable tracemalloc to get the object allocation traceback\n"
     ]
    },
    {
     "name": "stdout",
     "output_type": "stream",
     "text": [
      "Crypto              configparser        more_itertools      sre_parse\n",
      "Cython              contextlib          morse               ssl\n",
      "IPython             contextvars         morse3              sspi\n",
      "OpenSSL             copy                msilib              sspicon\n",
      "PIL                 copyreg             msvcrt              stat\n",
      "PyPDF2              crypt               multidict           statistics\n",
      "WhatToCook          cryptography        multiprocess        storemagic\n",
      "__future__          cssselect           multiprocessing     string\n",
      "_abc                csv                 munch               stringprep\n",
      "_ast                ctypes              mypackage           struct\n",
      "_asyncio            curses              mypy_extensions     structlog\n",
      "_bisect             cv2                 mysql               subprocess\n",
      "_blake2             cycler              mysqlx              sumy\n",
      "_bootlocale         cython              nest_asyncio        sunau\n",
      "_bz2                cythonmagic         netbios             symbol\n",
      "_cffi_backend       dataclasses         netrc               sympyprinting\n",
      "_codecs             dataclasses_json    networkx            symtable\n",
      "_codecs_cn          dateparser          ninja               sys\n",
      "_codecs_hk          dateparser_cli      nltk                sysconfig\n",
      "_codecs_iso2022     dateparser_data     nntplib             tabnanny\n",
      "_codecs_jp          dateparser_scripts  nose                tarfile\n",
      "_codecs_kr          datetime            nt                  telnetlib\n",
      "_codecs_tw          dateutil            ntpath              tempfile\n",
      "_collections        dbi                 ntsecuritycon       tenacity\n",
      "_collections_abc    dbm                 nturl2path          tensorboard\n",
      "_compat_pickle      dde                 numbers             tensorboard_data_server\n",
      "_compression        debugpy             numpy               tensorboard_plugin_wit\n",
      "_contextvars        decimal             oauthlib            tensorflow\n",
      "_csv                decorator           odbc                tensorflow_estimator\n",
      "_ctypes             demjson3            omnitools           tensorflow_io_gcs_filesystem\n",
      "_ctypes_test        difflib             opcode              termcolor\n",
      "_datetime           dill                openai              test\n",
      "_decimal            dis                 openpyxl            tests\n",
      "_distutils_hack     distro              operator            text2number\n",
      "_dummy_thread       distutils           opt_einsum          text2png\n",
      "_elementtree        docopt              optparse            text_2_img\n",
      "_functools          doctest             os                  textblob\n",
      "_hashlib            docutils            outcome             textwrap\n",
      "_heapq              docx                packaging           this\n",
      "_imp                docx2pdf            pandas              threading\n",
      "_io                 docx2txt            parse               threadpoolctl\n",
      "_jpype              dummy_threading     parser              threadwrapper\n",
      "_json               easyocr             parso               tifffile\n",
      "_locale             easyrsa             pasta               time\n",
      "_lsprof             ebooklib            path                timeit\n",
      "_lzma               ebookmeta           pathlib             timer\n",
      "_markupbase         email               pathos              tkinter\n",
      "_md5                emoji               pdb                 token\n",
      "_msi                encodings           pdfkit              tokenize\n",
      "_multibytecodec     encryptedsocket     perfmon             tokenizers\n",
      "_multiprocess       english_dictionary  phonetic_alphabet   tomli\n",
      "_multiprocessing    ensurepip           pickle              torch\n",
      "_mysql_connector    entrypoints         pickleshare         torchgen\n",
      "_mysqlxpb           enum                pickletools         torchvision\n",
      "_opcode             errno               pip                 tornado\n",
      "_operator           et_xmlfile          pipes               tqdm\n",
      "_osx_support        exceptiongroup      pkg_resources       trace\n",
      "_overlapped         execjs              pkginfo             traceback\n",
      "_pickle             exif                pkgutil             tracemalloc\n",
      "_py_abc             exifread            platform            traitlets\n",
      "_pydecimal          facebook_scraper    platformdirs        transformers\n",
      "_pyio               fake_useragent      playsound           translators\n",
      "_pyrsistent_version fastavro            plistlib            trio\n",
      "_pytest             faulthandler        pluggy              trio_websocket\n",
      "_queue              filecmp             plum                tty\n",
      "_random             fileinput           poplib              turtle\n",
      "_ruamel_yaml        filelock            posixpath           turtledemo\n",
      "_sha1               flask               pox                 twine\n",
      "_sha256             flatbuffers         pp                  types\n",
      "_sha3               fnmatch             ppft                typing\n",
      "_sha512             foal                pprint              typing_extensions\n",
      "_signal             fontTools           prettytable         typing_inspect\n",
      "_sitebuiltins       formatter           profile             tzdata\n",
      "_socket             fpdf                prompt_toolkit      tzlocal\n",
      "_sqlite3            fractions           pstats              undetected_chromedriver\n",
      "_sre                freetype            psutil              unencryptedsocket\n",
      "_ssl                frozenlist          pty                 unicodedata\n",
      "_stat               fsspec              pvectorc            unidecode\n",
      "_string             ftplib              py                  unittest\n",
      "_strptime           functools           pyNetLogo           uritools\n",
      "_struct             functorch           py_compile          urlextract\n",
      "_symtable           fuzzywuzzy          pyasn1              urllib\n",
      "_testbuffer         gast                pyasn1_modules      urllib3\n",
      "_testcapi           gc                  pyclbr              utils\n",
      "_testconsole        genericpath         pyclipper           uu\n",
      "_testimportmultiple gensim              pycountry           uuid\n",
      "_testmultiphase     getopt              pycparser           validate_email\n",
      "_thread             getpass             pydantic            venv\n",
      "_threading_local    gettext             pydantic_core       w3lib\n",
      "_tkinter            glob                pydoc               warnings\n",
      "_tracemalloc        goodreads           pydoc_data          wave\n",
      "_warnings           goodreadsscraper    pyee                wcwidth\n",
      "_weakref            google_auth_oauthlib pyexpat             weakref\n",
      "_weakrefset         greenlet            pyftpdlib           webbrowser\n",
      "_win32sysloader     grpc                pygame              webencodings\n",
      "_winapi             gzip                pygments            websockets\n",
      "_winxptheme         h11                 pyjokes             werkzeug\n",
      "_yaml               h5py                pyjokescli          wheel\n",
      "abc                 hashlib             pylab               win2kras\n",
      "absl                heapq               pyparsing           win32api\n",
      "acronym             hmac                pypdf               win32clipboard\n",
      "adodbapi            html                pyppeteer           win32com\n",
      "aescipher           http                pyquery             win32con\n",
      "afxres              httpcore            pyrsistent          win32console\n",
      "aifc                httpx               pytesseract         win32cred\n",
      "aiohttp             huggingface_hub     pytest              win32crypt\n",
      "aiosignal           identify            pythoncom           win32cryptcon\n",
      "akgoodreads         idlelib             pytz                win32ctypes\n",
      "annotated_types     idna                pywin               win32event\n",
      "antigravity         imageai             pywin32_bootstrap   win32evtlog\n",
      "anyio               imageio             pywin32_testutil    win32evtlogutil\n",
      "appdirs             imaplib             pywintypes          win32file\n",
      "argparse            imghdr              pywt                win32gui\n",
      "array               imp                 pyximport           win32gui_struct\n",
      "art                 importlib           queue               win32help\n",
      "ast                 importlib_metadata  quopri              win32inet\n",
      "astunparse          importlib_resources random              win32inetcon\n",
      "async_generator     iniconfig           rasutil             win32job\n",
      "async_timeout       inspect             rauth               win32lz\n",
      "asynchat            instagram_explore   re                  win32net\n",
      "asyncio             instagramy          readme_renderer     win32netcon\n",
      "asyncore            instaloader         regcheck            win32pdh\n",
      "asynctest           instascrape         regex               win32pdhquery\n",
      "atexit              io                  regutil             win32pdhutil\n",
      "attr                ipaddress           reportlab           win32pipe\n",
      "attrs               ipykernel           reprlib             win32print\n",
      "audioop             ipykernel_launcher  requests            win32process\n",
      "autoreload          isapi               requests_html       win32profile\n",
      "backcall            itertools           requests_oauthlib   win32ras\n",
      "backoff             itsdangerous        requests_toolbelt   win32rcparser\n",
      "backports           jedi                rfc3986             win32security\n",
      "base64              jellyfish           rich                win32service\n",
      "bdb                 jinja2              rlPyCairo           win32serviceutil\n",
      "bidi                joblib              rlcompleter         win32timezone\n",
      "binascii            jpype               rmagic              win32trace\n",
      "binhex              json                rsa                 win32traceutil\n",
      "bisect              jsonlint            runpy               win32transaction\n",
      "bleach              jupyter             safetensors         win32ts\n",
      "breadability        jupyter_client      sched               win32ui\n",
      "bs4                 jupyter_core        scipy               win32uiole\n",
      "builtins            keras               secrets             win32verstamp\n",
      "bz2                 keyring             select              win32wnet\n",
      "cProfile            keyword             selectors           winerror\n",
      "cached_property     kiwisolver          selenium            winioctlcon\n",
      "cachetools          langchain           send2trash          winnt\n",
      "cairo               lexrank             servicemanager      winperf\n",
      "calendar            lib2to3             setuptools          winreg\n",
      "certifi             linecache           shapely             winsound\n",
      "cffi                llama_index         shelve              winxpgui\n",
      "cg_dt_utils         locale              shlex               winxptheme\n",
      "cg_maybe            logging             shutil              wordcloud\n",
      "cg_request_args     luhn                signal              wrapt\n",
      "cgi                 lxml                site                wsgiref\n",
      "cgitb               lzma                six                 wsproto\n",
      "chardet             macpath             skimage             xdrlib\n",
      "charset_normalizer  mailbox             sklearn             xml\n",
      "chunk               mailcap             smart_open          xmlrpc\n",
      "clang               markdown            smtpd               xmltodict\n",
      "click               markdown_it         smtplib             xxsubtype\n",
      "cmath               markupsafe          sndhdr              yaml\n",
      "cmd                 marshal             sniffio             yarl\n",
      "code                marshmallow         socket              zipapp\n",
      "codecs              math                socketserver        zipfile\n",
      "codegrade           matplotlib          socks               zipimport\n",
      "codeop              matplotlib_inline   sockshandler        zipp\n",
      "cohere              mdurl               sonlp               zlib\n",
      "collections         midiutil            sortedcontainers    zmq\n",
      "colorama            mimetypes           soupsieve           ~-ml\n",
      "colorsys            mmap                sqlalchemy          ~xml\n",
      "commctrl            mmapfile            sqlite3             \n",
      "compileall          mmsystem            sre_compile         \n",
      "concurrent          modulefinder        sre_constants       \n",
      "\n",
      "Enter any module name to get more help.  Or, type \"modules spam\" to search\n",
      "for modules whose name or summary contain the string \"spam\".\n",
      "\n"
     ]
    }
   ],
   "source": [
    "help('modules')"
   ]
  },
  {
   "cell_type": "markdown",
   "metadata": {},
   "source": [
    "## Regex \n",
    "https://regexr.com/"
   ]
  },
  {
   "cell_type": "code",
   "execution_count": null,
   "metadata": {},
   "outputs": [],
   "source": [
    "zin = \"In 2024 ontdekten wetenschappers op Mars sporen van water, wat leidde tot grote opwinding. Tegen 2030 was de eerste bemande missie geland. In 2045 hadden we een permanente basis op Mars, bevolkt door 50 moedige zielen. Tegen 2050 was de bevolking gegroeid tot 150, een mijlpaal in interplanetaire kolonisatie.\""
   ]
  }
 ],
 "metadata": {
  "kernelspec": {
   "display_name": "Python 3",
   "language": "python",
   "name": "python3"
  },
  "language_info": {
   "codemirror_mode": {
    "name": "ipython",
    "version": 3
   },
   "file_extension": ".py",
   "mimetype": "text/x-python",
   "name": "python",
   "nbconvert_exporter": "python",
   "pygments_lexer": "ipython3",
   "version": "3.7.4"
  }
 },
 "nbformat": 4,
 "nbformat_minor": 2
}
