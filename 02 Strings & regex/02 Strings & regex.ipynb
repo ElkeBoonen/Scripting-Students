{
 "cells": [
  {
   "cell_type": "markdown",
   "metadata": {},
   "source": [
    "# Les 4: Strings & regex\n",
    "\n",
    "## Herhaling\n",
    "You are given a NumPy array temperatures representing the daily maximum temperatures in degrees Celsius for a month. Write a Python script using NumPy to:\n",
    "\n",
    "- Find the mean temperature for the month.\n",
    "- Extract the temperatures for the last week of the month into a new array.\n",
    "- Identify days (index positions) with temperatures above the monthly mean."
   ]
  },
  {
   "cell_type": "code",
   "execution_count": 12,
   "metadata": {},
   "outputs": [
    {
     "name": "stdout",
     "output_type": "stream",
     "text": [
      "24.7\n",
      "[23 26 29 28 27 25 23]\n",
      "(array([ 1,  5,  7,  8, 12, 13, 14, 17, 18, 19, 20, 24, 25, 26, 27, 28],\n",
      "      dtype=int64),)\n",
      "[25 28 26 27 25 29 30 26 28 27 25 26 29 28 27 25]\n",
      "[25, 28, 26, 27, 25, 29, 30, 26, 28, 27, 25, 26, 29, 28, 27, 25]\n",
      "25\n",
      "28\n",
      "26\n",
      "27\n",
      "25\n",
      "29\n",
      "30\n",
      "26\n",
      "28\n",
      "27\n",
      "25\n",
      "26\n",
      "29\n",
      "28\n",
      "27\n",
      "25\n"
     ]
    }
   ],
   "source": [
    "import numpy as np\n",
    "\n",
    "# Sample data: daily max temperatures for a month\n",
    "temperatures = np.array([22, 25, 19, 21, 24, 28, 23, 26, 27, 22, 20, 21, 25, 29, 30, 22, 24, 26, 28, 27, 25, 24, 22, 23, 26, 29, 28, 27, 25, 23])\n",
    "\n",
    "# 1. Calculate the mean temperature for the month.\n",
    "mean = np.mean(temperatures)\n",
    "print(mean)\n",
    "\n",
    "# 2. Slice the array to get temperatures for the last week.\n",
    "lastweek = temperatures[-7::]\n",
    "print(lastweek)\n",
    "\n",
    "# 3. Find days with temperatures above the monthly mean.\n",
    "above = np.where(temperatures > mean) # geeft indexen terug!\n",
    "print(above)\n",
    "\n",
    "above = np.array([x for x in temperatures if x > mean])\n",
    "print(above)\n",
    "\n",
    "above = [x for x in temperatures if x > mean]\n",
    "print(above)\n",
    "\n",
    "for temp in temperatures:\n",
    "    if temp > mean:\n",
    "        print(temp)"
   ]
  },
  {
   "cell_type": "markdown",
   "metadata": {},
   "source": [
    "## Strings\n",
    "\n",
    "Enkele & dubbele quotes + escapen can speciale tekens!"
   ]
  },
  {
   "cell_type": "code",
   "execution_count": 23,
   "metadata": {},
   "outputs": [
    {
     "name": "stdout",
     "output_type": "stream",
     "text": [
      "'s Avonds\n",
      "'s Avonds\n",
      "Dit '\\' is het escape teken\n",
      "Dit \n",
      " neemt nieuwe lijn\n",
      "Dit \t neemt tab\n",
      "Dit '\\\\' is het escape teken\n",
      "Dit \\t neemt tab\n",
      "Dit is een test '\\\\'Dit is een test '\\'\n"
     ]
    }
   ],
   "source": [
    "print(\"'s Avonds\")\n",
    "print('\\'s Avonds')\n",
    "\n",
    "print(\"Dit '\\\\' is het escape teken\")\n",
    "\n",
    "print(\"Dit \\n neemt nieuwe lijn\")\n",
    "print(\"Dit \\t neemt tab\")\n",
    "\n",
    "print(r\"Dit '\\\\' is het escape teken\")\n",
    "print(r\"Dit \\t neemt tab\")\n",
    "\n",
    "print(r\"Dit is een test '\\\\'\" +  \"Dit is een test '\\\\'\")"
   ]
  },
  {
   "cell_type": "markdown",
   "metadata": {},
   "source": [
    "Spelen in een string!\n",
    "\n",
    "slicen --> [start:stop:stap]\n",
    "\n",
    "in --> checken of er een karakter in de string zit!\n"
   ]
  },
  {
   "cell_type": "code",
   "execution_count": 39,
   "metadata": {},
   "outputs": [
    {
     "name": "stdout",
     "output_type": "stream",
     "text": [
      "z\n",
      "zyxwvutsrqponmlkjihgfedcba\n",
      "acegikmoqsuwy\n",
      "efghijklmnopqrst\n",
      "tsrqponmlkjihgfe\n",
      "True\n",
      "True\n",
      "False\n"
     ]
    }
   ],
   "source": [
    "abc = \"abcdefghijklmnopqrstuvwxyz\"\n",
    "\n",
    "print(abc[-1]) # laatste karakter\n",
    "print(abc[::-1])\n",
    "\n",
    "print(abc[::2]) # alle even posities\n",
    "\n",
    "print(abc[4:20:]) # van e naar t \n",
    "print(abc[19:3:-1]) # van t naar e\n",
    "\n",
    "print(\"a\" in \"abc\")\n",
    "print(\"a\" in abc)\n",
    "print(\"é\" in abc)\n",
    "\n",
    "# abc.where lukt niet!"
   ]
  },
  {
   "cell_type": "code",
   "execution_count": 42,
   "metadata": {},
   "outputs": [
    {
     "name": "stdout",
     "output_type": "stream",
     "text": [
      "['a' 'b' 'c' 'd' 'e' 'f' 'g' 'h' 'i' 'j' 'k' 'l' 'm' 'n' 'o' 'p' 'q' 'r'\n",
      " 's' 't' 'u' 'v' 'w' 'x' 'y' 'z']\n"
     ]
    },
    {
     "data": {
      "text/plain": [
       "(array([4], dtype=int64),)"
      ]
     },
     "execution_count": 42,
     "metadata": {},
     "output_type": "execute_result"
    }
   ],
   "source": [
    "import numpy as np\n",
    "\n",
    "abc_array = np.array(list(abc)) # van string een lijst van karakters maken --> array steken\n",
    "print(abc_array)\n",
    "\n",
    "# met array kunnen we where gebruiken\n",
    "\n",
    "np.where(abc_array == \"e\")"
   ]
  },
  {
   "cell_type": "markdown",
   "metadata": {},
   "source": [
    "Splitten & Joinen van strings"
   ]
  },
  {
   "cell_type": "code",
   "execution_count": 50,
   "metadata": {},
   "outputs": [
    {
     "name": "stdout",
     "output_type": "stream",
     "text": [
      "['Dit', 'is', 'een', 'test', 'zin', 'nog', 'een', 'test']\n",
      "['Dit is ', '', 'n t', 'st zin \\n nog ', '', 'n t', 'st']\n",
      "['Dit is een test zin ', ' nog een test']\n",
      "abcdefghijklmnopqrstuvwxyz\n",
      "a - b - c - d - e - f - g - h - i - j - k - l - m - n - o - p - q - r - s - t - u - v - w - x - y - z\n"
     ]
    }
   ],
   "source": [
    "zin =\"Dit is een test zin \\n nog een test\"\n",
    "\n",
    "print(zin.split())\n",
    "print(zin.split(\"e\"))\n",
    "print(zin.split(\"\\n\"))\n",
    "\n",
    "abc = ['a','b' ,'c', 'd', 'e' ,'f' ,'g' ,'h', 'i', 'j', 'k' ,'l' ,'m' ,'n', 'o', 'p', 'q' ,'r','s' ,'t' ,'u' ,'v', 'w' ,'x' ,'y' ,'z']\n",
    "print(\"\".join(abc))\n",
    "print(\" - \".join(abc))\n"
   ]
  },
  {
   "cell_type": "markdown",
   "metadata": {},
   "source": [
    "- isX()-functies\n",
    "- Strippen van de strings --> spaties vooraan & achteraan wegnemen"
   ]
  },
  {
   "cell_type": "code",
   "execution_count": 64,
   "metadata": {},
   "outputs": [
    {
     "name": "stdout",
     "output_type": "stream",
     "text": [
      "d I T SPACE I S SPACE DIGIT SPACE T E S T \n",
      "True\n",
      "False\n"
     ]
    }
   ],
   "source": [
    "zin = \"    Dit is 1 test     \"\n",
    "\n",
    "zin = zin.strip()\n",
    "\n",
    "for karakter in zin:\n",
    "    if karakter.islower():\n",
    "        print(karakter.upper(),end=\" \")\n",
    "    elif karakter.isupper():\n",
    "        print(karakter.lower(),end=\" \")\n",
    "    elif karakter.isdigit():\n",
    "        print(\"DIGIT\",end=\" \")\n",
    "    elif karakter.isspace():\n",
    "        print(\"SPACE\",end=\" \")\n",
    "\n",
    "print()\n",
    "print(zin.startswith(\"D\"))\n",
    "print(zin.startswith(\"d\"))"
   ]
  },
  {
   "cell_type": "markdown",
   "metadata": {},
   "source": [
    "https://www.asciitable.com/\n"
   ]
  },
  {
   "cell_type": "code",
   "execution_count": 66,
   "metadata": {},
   "outputs": [
    {
     "name": "stdout",
     "output_type": "stream",
     "text": [
      "97\n",
      "d\n"
     ]
    }
   ],
   "source": [
    "print(ord(\"a\"))\n",
    "\n",
    "print(chr(100))"
   ]
  },
  {
   "cell_type": "markdown",
   "metadata": {},
   "source": [
    "Most words in Pig Latin end in \"ay.\" Use the rules below to translate normal English into Pig Latin.\n",
    "\n",
    "1. If a word starts with a consonant and a vowel, put the first letter of the word at the end of the word and add \"ay.\" Example: Happy = appyh + ay = appyhay\n",
    "2. If a word starts with two consonants move the two consonants to the end of the word and add \"ay.\" Example: Child = Ildch + ay = Ildchay\n",
    "3. If a word starts with a vowel add the word \"way\" at the end of the word. Example: Awesome = Awesome +way = Awesomeway"
   ]
  },
  {
   "cell_type": "code",
   "execution_count": null,
   "metadata": {},
   "outputs": [],
   "source": [
    "sentence = \"This child is very loud\"\n",
    "# isthay ildchay isway eryvay oudlay\n",
    "\n",
    "words = sentence.split()"
   ]
  }
 ],
 "metadata": {
  "kernelspec": {
   "display_name": "Python 3",
   "language": "python",
   "name": "python3"
  },
  "language_info": {
   "codemirror_mode": {
    "name": "ipython",
    "version": 3
   },
   "file_extension": ".py",
   "mimetype": "text/x-python",
   "name": "python",
   "nbconvert_exporter": "python",
   "pygments_lexer": "ipython3",
   "version": "3.7.4"
  }
 },
 "nbformat": 4,
 "nbformat_minor": 2
}
