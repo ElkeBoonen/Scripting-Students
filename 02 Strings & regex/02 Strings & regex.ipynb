{
 "cells": [
  {
   "cell_type": "markdown",
   "metadata": {},
   "source": [
    "# Les 4: Strings & regex\n",
    "\n",
    "## Herhaling\n",
    "You are given a NumPy array temperatures representing the daily maximum temperatures in degrees Celsius for a month. Write a Python script using NumPy to:\n",
    "\n",
    "- Find the mean temperature for the month.\n",
    "- Extract the temperatures for the last week of the month into a new array.\n",
    "- Identify days (index positions) with temperatures above the monthly mean."
   ]
  },
  {
   "cell_type": "code",
   "execution_count": 1,
   "metadata": {},
   "outputs": [],
   "source": [
    "import numpy as np\n",
    "\n",
    "# Sample data: daily max temperatures for a month\n",
    "temperatures = np.array([22, 25, 19, 21, 24, 28, 23, 26, 27, 22, 20, 21, 25, 29, 30, 22, 24, 26, 28, 27, 25, 24, 22, 23, 26, 29, 28, 27, 25, 23])\n",
    "\n",
    "\n",
    "# 1. Calculate the mean temperature for the month.\n",
    "\n",
    "# 2. Slice the array to get temperatures for the last week.\n",
    "\n",
    "# 3. Find days with temperatures above the monthly mean."
   ]
  }
 ],
 "metadata": {
  "kernelspec": {
   "display_name": "Python 3",
   "language": "python",
   "name": "python3"
  },
  "language_info": {
   "codemirror_mode": {
    "name": "ipython",
    "version": 3
   },
   "file_extension": ".py",
   "mimetype": "text/x-python",
   "name": "python",
   "nbconvert_exporter": "python",
   "pygments_lexer": "ipython3",
   "version": "3.7.4"
  }
 },
 "nbformat": 4,
 "nbformat_minor": 2
}
