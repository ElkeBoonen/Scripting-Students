{
 "cells": [
  {
   "attachments": {},
   "cell_type": "markdown",
   "metadata": {},
   "source": [
    "# Les 5 - Files - 13/03\n",
    "\n",
    "## Herhaling\n",
    "### Quiz vraag"
   ]
  },
  {
   "cell_type": "code",
   "execution_count": 3,
   "metadata": {},
   "outputs": [
    {
     "name": "stdout",
     "output_type": "stream",
     "text": [
      "world\n",
      "['l']\n",
      "1\n"
     ]
    }
   ],
   "source": [
    "import re\n",
    "\n",
    "s = \"Hello world\"\n",
    "regex = r\"l+\"\n",
    "substring = s[6::]\n",
    "print(substring)\n",
    "list = re.findall(regex, substring)\n",
    "print(list)\n",
    "print(len(list))"
   ]
  },
  {
   "attachments": {},
   "cell_type": "markdown",
   "metadata": {},
   "source": [
    "### Oefening: e-mailadres\n",
    "\n",
    "Write a Python function called validate_email that takes an email address as input and returns a boolean indicating whether or not the email is valid. The function should use string functions and regular expressions to perform the validation. The email is considered valid if it meets the following criteria:\n",
    "\n",
    "- The email address must contain an \"@\" symbol.\n",
    "- The part before the \"@\" symbol must be at least one character long and can only contain letters, numbers, dots, hyphens, and underscores.\n",
    "- The part after the \"@\" symbol must be at least two characters long and can only contain letters, dots, and hyphens.\n",
    "- The email address must not end with a dot.\n"
   ]
  },
  {
   "cell_type": "code",
   "execution_count": 17,
   "metadata": {},
   "outputs": [
    {
     "name": "stdout",
     "output_type": "stream",
     "text": [
      "<re.Match object; span=(0, 13), match='thomasmore.be'>\n",
      "False\n",
      "False\n"
     ]
    }
   ],
   "source": [
    "def validate_email(email):\n",
    "    email = email.strip()\n",
    "    if \" \" in email:\n",
    "        return False\n",
    "\n",
    "    if \"@\" not in email:\n",
    "        return False\n",
    "    \n",
    "    parts = email.split(\"@\")\n",
    "    if len(parts) != 2:\n",
    "        return False\n",
    "    \n",
    "    regex = r\"\\b[a-zA-Z0-9\\.-_]+\\b\"\n",
    "    if re.match(regex,parts[0]) is None:\n",
    "        return False\n",
    "    \n",
    "    regex = r\"\\b[a-zA-Z\\.-]{2,}\\b\"\n",
    "    if re.match(regex,parts[1]) is None:\n",
    "        return False\n",
    "    \n",
    "    if email[-1] == \".\":\n",
    "        return False\n",
    "    \n",
    "    return True # alles wat kon afgecheckt worden is reeds gedaan, dus return True\n",
    "\n",
    "    \n",
    "print(validate_email(\"elke.boonen@thomasmore.be.\"))\n",
    "print(validate_email(\"elke.boonen@thom asmore.be\"))"
   ]
  }
 ],
 "metadata": {
  "kernelspec": {
   "display_name": "Python 3",
   "language": "python",
   "name": "python3"
  },
  "language_info": {
   "codemirror_mode": {
    "name": "ipython",
    "version": 3
   },
   "file_extension": ".py",
   "mimetype": "text/x-python",
   "name": "python",
   "nbconvert_exporter": "python",
   "pygments_lexer": "ipython3",
   "version": "3.7.4"
  },
  "orig_nbformat": 4
 },
 "nbformat": 4,
 "nbformat_minor": 2
}
