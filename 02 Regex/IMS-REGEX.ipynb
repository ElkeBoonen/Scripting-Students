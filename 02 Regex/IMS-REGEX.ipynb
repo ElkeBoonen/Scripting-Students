{
 "cells": [
  {
   "attachments": {},
   "cell_type": "markdown",
   "metadata": {},
   "source": [
    "# Les 4 - Regex & strings - 6/03\n",
    "\n",
    "- strings\n",
    "- regex (import re)\n",
    "\n",
    "## Strings letterlijk interpreteren met r"
   ]
  },
  {
   "cell_type": "code",
   "execution_count": null,
   "metadata": {},
   "outputs": [],
   "source": [
    "print(\"Dit is een gewone string\")\n",
    "print(\"Dit is een string met een enkele quote '\")\n",
    "print('Dit is een string een dubbele quote \"')\n",
    "print(\"Dit is een string een dubbele quote \\\"\")\n",
    "print(r\"Dit is een string een dubbele quote \\\"\")\n",
    "print(\"Dit\\nis\\neen\\ntest\")\n",
    "print(r\"Dit\\nis\\neen\\ntest\")"
   ]
  },
  {
   "attachments": {},
   "cell_type": "markdown",
   "metadata": {},
   "source": [
    "## Strings slicen\n",
    "\n",
    "[start:end:step]"
   ]
  },
  {
   "cell_type": "code",
   "execution_count": null,
   "metadata": {},
   "outputs": [],
   "source": [
    "string = \"ventilatie\"\n",
    "print(string[2:8:])\n",
    "print(string[::2])\n",
    "print(string[::-1])\n",
    "\n",
    "print(\"zit letter v in ventilatie?\", \"v\" in string)\n",
    "print(\"zit letter o in ventilatie?\", \"o\" in string)\n",
    "print(\"zit letter o niet in ventilatie?\", \"o\" not in string)\n",
    "\n",
    "for c in string:\n",
    "    print(c)"
   ]
  },
  {
   "attachments": {},
   "cell_type": "markdown",
   "metadata": {},
   "source": [
    "## Split & join"
   ]
  },
  {
   "cell_type": "code",
   "execution_count": null,
   "metadata": {},
   "outputs": [],
   "source": [
    "zin = \"In dit lokaal open je ramen en deuren voor voldoende ventilatie\"\n",
    "print(zin.split())      # standaard splitten op spatie\n",
    "print(zin.split('o'))\n",
    "\n",
    "list = zin.split()\n",
    "print(\"--\".join(list))\n",
    "\n",
    "# print elk woord op een nieuwe lijn\n",
    "\n",
    "for woord in list:      #algoritmische code\n",
    "    print(woord)\n",
    "\n",
    "print(\"\\n\".join(list))  #pythonic code"
   ]
  },
  {
   "attachments": {},
   "cell_type": "markdown",
   "metadata": {},
   "source": [
    "## isX() methoden & andere\n",
    "\n",
    "https://www.w3schools.com/python/python_ref_string.asp"
   ]
  },
  {
   "cell_type": "code",
   "execution_count": null,
   "metadata": {},
   "outputs": [],
   "source": [
    "zin = \"Dit is een test 1 2 3\"\n",
    "\n",
    "for c in zin:\n",
    "    if c.islower():\n",
    "        print(c.upper(),end=\"\")\n",
    "    elif c.isupper():\n",
    "        print(c.lower(), end=\"\")\n",
    "    elif c.isnumeric():\n",
    "        print(\"nummmer\", end=\"\")\n",
    "    else:\n",
    "        print(c,end=\"\")"
   ]
  },
  {
   "attachments": {},
   "cell_type": "markdown",
   "metadata": {},
   "source": [
    "## Strip a string"
   ]
  },
  {
   "cell_type": "code",
   "execution_count": null,
   "metadata": {},
   "outputs": [],
   "source": [
    "zin = \"   Dit is een test    \"\n",
    "print(\"*\",zin,\"*\")\n",
    "print(\"*\",zin.rstrip(),\"*\")\n",
    "print(\"*\",zin.strip(),\"*\")\n",
    "print(\"*\",zin.lstrip(),\"*\")"
   ]
  },
  {
   "attachments": {},
   "cell_type": "markdown",
   "metadata": {},
   "source": [
    "## ASCII table\n",
    "\n",
    "https://www.asciitable.com/\n"
   ]
  },
  {
   "cell_type": "code",
   "execution_count": null,
   "metadata": {},
   "outputs": [],
   "source": [
    "karakter = \"O\"\n",
    "print(ord(karakter))\n",
    "print(chr(34))\n",
    "\n",
    "print(chr(ord(karakter)))"
   ]
  },
  {
   "attachments": {},
   "cell_type": "markdown",
   "metadata": {},
   "source": [
    "### Pig Latin oefening\n",
    "\n",
    "Most words in Pig Latin end in \"ay.\" Use the rules below to translate normal English into Pig Latin.\n",
    "\n",
    "1. If a word starts with a consonant and a vowel, put the first letter of the word at the end of the word and add \"ay.\" \n",
    "Example: Happy = appyh + ay = appyhay\n",
    "\n",
    "2. If a word starts with two consonants move the two consonants to the end of the word and add \"ay.\"\n",
    "Example: Child = Ildch + ay = Ildchay\n",
    "\n",
    "3. If a word starts with a vowel add the word \"way\" at the end of the word.\n",
    "Example: Awesome = Awesome +way = Awesomeway"
   ]
  },
  {
   "cell_type": "code",
   "execution_count": null,
   "metadata": {},
   "outputs": [],
   "source": [
    "def PigLatin(woord):\n",
    "    woord = woord.lower()\n",
    "    vowels = \"aeuio\"\n",
    "    if woord[0] in vowels:\n",
    "        return woord + \"way\"\n",
    "    else:\n",
    "        if (woord[1] in vowels):\n",
    "            return woord[1::] + woord[0] + \"ay\"\n",
    "        else:\n",
    "            return woord[2::] + woord[0:2] + \"ay\"\n",
    "    \n",
    "print(PigLatin(\"awesome\"))\n",
    "print(PigLatin(\"happy\"))\n",
    "print(PigLatin(\"child\"))\n",
    "\n",
    "zin = \"In dit lokaal open je ramen en deuren voor voldoende ventilatie\"\n",
    "for woord in zin.split():\n",
    "    print(PigLatin(woord),end=\" \")"
   ]
  },
  {
   "attachments": {},
   "cell_type": "markdown",
   "metadata": {},
   "source": [
    "## Welke packages zijn geïnstalleerd?"
   ]
  },
  {
   "cell_type": "code",
   "execution_count": null,
   "metadata": {},
   "outputs": [],
   "source": [
    "help('modules')"
   ]
  },
  {
   "attachments": {},
   "cell_type": "markdown",
   "metadata": {},
   "source": [
    "## Werken met regex!\n",
    "\n",
    "import re\n",
    "\n",
    "https://docs.python.org/3/library/re.html\n",
    "https://regexr.com/ \n",
    "https://cupcakeipsum.com/\n"
   ]
  },
  {
   "cell_type": "code",
   "execution_count": 25,
   "metadata": {},
   "outputs": [
    {
     "ename": "SyntaxError",
     "evalue": "EOL while scanning string literal (1304970803.py, line 3)",
     "output_type": "error",
     "traceback": [
      "\u001b[1;36m  File \u001b[1;32m\"C:\\Users\\elkeb\\AppData\\Local\\Temp\\ipykernel_20092\\1304970803.py\"\u001b[1;36m, line \u001b[1;32m3\u001b[0m\n\u001b[1;33m    tekst = \"Marshmallow jelly-o pie bear claw tiramisu. I love soufflé ice cream lemon drops I love sweet topping. Gummi bears sugar plum carrot cake wafer pie. Jelly beans sesame snaps sugar plum biscuit sesame snaps I love lollipop candy canes sweet roll.\u001b[0m\n\u001b[1;37m                                                                                                                                                                                                                                                                  ^\u001b[0m\n\u001b[1;31mSyntaxError\u001b[0m\u001b[1;31m:\u001b[0m EOL while scanning string literal\n"
     ]
    }
   ],
   "source": [
    "import re\n",
    "\n",
    "tekst = \"Marshmallow jelly-o pie bear claw tiramisu. I love soufflé ice cream lemon drops I love sweet topping. Gummi bears sugar plum carrot cake wafer pie. Jelly beans sesame snaps sugar plum biscuit sesame snaps I love lollipop candy canes sweet roll\"\n",
    "\n",
    "print(tekst)"
   ]
  }
 ],
 "metadata": {
  "kernelspec": {
   "display_name": "Python 3",
   "language": "python",
   "name": "python3"
  },
  "language_info": {
   "codemirror_mode": {
    "name": "ipython",
    "version": 3
   },
   "file_extension": ".py",
   "mimetype": "text/x-python",
   "name": "python",
   "nbconvert_exporter": "python",
   "pygments_lexer": "ipython3",
   "version": "3.7.4"
  },
  "orig_nbformat": 4
 },
 "nbformat": 4,
 "nbformat_minor": 2
}
