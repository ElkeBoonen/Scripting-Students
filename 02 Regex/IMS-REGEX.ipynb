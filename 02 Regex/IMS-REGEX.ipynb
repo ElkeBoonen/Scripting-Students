{
 "cells": [
  {
   "attachments": {},
   "cell_type": "markdown",
   "metadata": {},
   "source": [
    "# Les 4 - Regex & strings - 6/03\n",
    "\n",
    "- strings\n",
    "- regex (import re)\n",
    "\n",
    "## Strings letterlijk interpreteren met r"
   ]
  },
  {
   "cell_type": "code",
   "execution_count": null,
   "metadata": {},
   "outputs": [],
   "source": [
    "print(\"Dit is een gewone string\")\n",
    "print(\"Dit is een string met een enkele quote '\")\n",
    "print('Dit is een string een dubbele quote \"')\n",
    "print(\"Dit is een string een dubbele quote \\\"\")\n",
    "print(r\"Dit is een string een dubbele quote \\\"\")\n",
    "print(\"Dit\\nis\\neen\\ntest\")\n",
    "print(r\"Dit\\nis\\neen\\ntest\")"
   ]
  },
  {
   "attachments": {},
   "cell_type": "markdown",
   "metadata": {},
   "source": [
    "## Strings slicen\n",
    "\n",
    "[start:end:step]"
   ]
  },
  {
   "cell_type": "code",
   "execution_count": null,
   "metadata": {},
   "outputs": [],
   "source": [
    "string = \"ventilatie\"\n",
    "print(string[2:8:])\n",
    "print(string[::2])\n",
    "print(string[::-1])\n",
    "\n",
    "print(\"zit letter v in ventilatie?\", \"v\" in string)\n",
    "print(\"zit letter o in ventilatie?\", \"o\" in string)\n",
    "print(\"zit letter o niet in ventilatie?\", \"o\" not in string)\n",
    "\n",
    "for c in string:\n",
    "    print(c)"
   ]
  },
  {
   "attachments": {},
   "cell_type": "markdown",
   "metadata": {},
   "source": [
    "## Split & join"
   ]
  },
  {
   "cell_type": "code",
   "execution_count": null,
   "metadata": {},
   "outputs": [],
   "source": [
    "zin = \"In dit lokaal open je ramen en deuren voor voldoende ventilatie\"\n",
    "print(zin.split())      # standaard splitten op spatie\n",
    "print(zin.split('o'))\n",
    "\n",
    "list = zin.split()\n",
    "print(\"--\".join(list))\n",
    "\n",
    "# print elk woord op een nieuwe lijn\n",
    "\n",
    "for woord in list:      #algoritmische code\n",
    "    print(woord)\n",
    "\n",
    "print(\"\\n\".join(list))  #pythonic code"
   ]
  },
  {
   "attachments": {},
   "cell_type": "markdown",
   "metadata": {},
   "source": [
    "## isX() methoden & andere\n",
    "\n",
    "https://www.w3schools.com/python/python_ref_string.asp"
   ]
  },
  {
   "cell_type": "code",
   "execution_count": null,
   "metadata": {},
   "outputs": [],
   "source": [
    "zin = \"Dit is een test 1 2 3\"\n",
    "\n",
    "for c in zin:\n",
    "    if c.islower():\n",
    "        print(c.upper(),end=\"\")\n",
    "    elif c.isupper():\n",
    "        print(c.lower(), end=\"\")\n",
    "    elif c.isnumeric():\n",
    "        print(\"nummmer\", end=\"\")\n",
    "    else:\n",
    "        print(c,end=\"\")"
   ]
  },
  {
   "attachments": {},
   "cell_type": "markdown",
   "metadata": {},
   "source": [
    "## Strip a string"
   ]
  },
  {
   "cell_type": "code",
   "execution_count": null,
   "metadata": {},
   "outputs": [],
   "source": [
    "zin = \"   Dit is een test    \"\n",
    "print(\"*\",zin,\"*\")\n",
    "print(\"*\",zin.rstrip(),\"*\")\n",
    "print(\"*\",zin.strip(),\"*\")\n",
    "print(\"*\",zin.lstrip(),\"*\")"
   ]
  },
  {
   "attachments": {},
   "cell_type": "markdown",
   "metadata": {},
   "source": [
    "## ASCII table\n",
    "\n",
    "https://www.asciitable.com/\n"
   ]
  },
  {
   "cell_type": "code",
   "execution_count": null,
   "metadata": {},
   "outputs": [],
   "source": [
    "karakter = \"O\"\n",
    "print(ord(karakter))\n",
    "print(chr(34))\n",
    "\n",
    "print(chr(ord(karakter)))"
   ]
  },
  {
   "attachments": {},
   "cell_type": "markdown",
   "metadata": {},
   "source": [
    "### Pig Latin oefening\n",
    "\n",
    "Most words in Pig Latin end in \"ay.\" Use the rules below to translate normal English into Pig Latin.\n",
    "\n",
    "1. If a word starts with a consonant and a vowel, put the first letter of the word at the end of the word and add \"ay.\" \n",
    "Example: Happy = appyh + ay = appyhay\n",
    "\n",
    "2. If a word starts with two consonants move the two consonants to the end of the word and add \"ay.\"\n",
    "Example: Child = Ildch + ay = Ildchay\n",
    "\n",
    "3. If a word starts with a vowel add the word \"way\" at the end of the word.\n",
    "Example: Awesome = Awesome +way = Awesomeway"
   ]
  },
  {
   "cell_type": "code",
   "execution_count": null,
   "metadata": {},
   "outputs": [],
   "source": [
    "def PigLatin(woord):\n",
    "    woord = woord.lower()\n",
    "    vowels = \"aeuio\"\n",
    "    if woord[0] in vowels:\n",
    "        return woord + \"way\"\n",
    "    else:\n",
    "        if (woord[1] in vowels):\n",
    "            return woord[1::] + woord[0] + \"ay\"\n",
    "        else:\n",
    "            return woord[2::] + woord[0:2] + \"ay\"\n",
    "    \n",
    "print(PigLatin(\"awesome\"))\n",
    "print(PigLatin(\"happy\"))\n",
    "print(PigLatin(\"child\"))\n",
    "\n",
    "zin = \"In dit lokaal open je ramen en deuren voor voldoende ventilatie\"\n",
    "for woord in zin.split():\n",
    "    print(PigLatin(woord),end=\" \")"
   ]
  },
  {
   "attachments": {},
   "cell_type": "markdown",
   "metadata": {},
   "source": [
    "## Welke packages zijn geïnstalleerd?"
   ]
  },
  {
   "cell_type": "code",
   "execution_count": null,
   "metadata": {},
   "outputs": [],
   "source": [
    "help('modules')"
   ]
  },
  {
   "attachments": {},
   "cell_type": "markdown",
   "metadata": {},
   "source": [
    "## Werken met regex!\n",
    "\n",
    "import re\n",
    "\n",
    "https://docs.python.org/3/library/re.html\n",
    "https://regexr.com/ \n",
    "https://cupcakeipsum.com/\n",
    "\n",
    "\"\"\" 3 aanhalingstekens gebruiken voor lange tekst, met dank aan Kenneth ;)\n"
   ]
  },
  {
   "cell_type": "code",
   "execution_count": 27,
   "metadata": {},
   "outputs": [],
   "source": [
    "import re\n",
    "\n",
    "tekst = \"\"\"Marshmallow jelly-o pie bear claw tiramisu. I love soufflé ice cream lemon drops I love sweet topping. Gummi bears sugar plum carrot cake wafer pie. Jelly beans sesame snaps sugar plum biscuit sesame snaps I love lollipop candy canes sweet roll.\n",
    "Powder bear claw liquorice donut apple pie caramels I love. Sweet oat cake gummi bears caramels cheesecake tart soufflé. Jelly-o candy canes chupa chups brownie donut biscuit candy canes topping. Fruitcake jelly beans I love cheesecake sesame snaps I love fruitcake.\n",
    "Jelly I love cake marshmallow dragée. Fruitcake wafer biscuit ice cream chupa chups I love sweet sweet roll halvah. Apple pie candy candy canes sugar plum chocolate bar jelly-o caramels cookie. Lollipop cake caramels candy jelly-o sugar plum icing sesame snaps tootsie roll.\n",
    "Oat cake sweet I love sugar plum brownie tiramisu biscuit lollipop soufflé. Sugar plum tootsie roll ice cream candy caramels macaroon chocolate bar tart. Sugar plum sweet caramels cheesecake tiramisu. Cupcake ice cream biscuit cotton candy pie cotton candy dragée.\n",
    "Sugar plum cotton candy sesame snaps tart powder gummies tootsie roll soufflé. I love tiramisu sesame snaps pudding chocolate lollipop sweet roll macaroon caramels. Tootsie roll lemon drops tootsie roll toffee croissant chupa chups. Brownie jelly powder muffin gummies croissant soufflé cake.\"\"\"\n"
   ]
  },
  {
   "cell_type": "code",
   "execution_count": 48,
   "metadata": {},
   "outputs": [
    {
     "name": "stdout",
     "output_type": "stream",
     "text": [
      "drops candy Powder donut candy donut candy dragée. candy candy candy candy candy candy dragée. candy powder pudding drops powder \n",
      "<re.Match object; span=(75, 80), match='drops'>\n",
      "drops\n",
      "(75, 80)\n",
      "['drops', 'candy', 'Powder', 'donut', 'candy', 'donut', 'candy', 'dragée', 'candy', 'candy', 'candy', 'candy', 'candy', 'candy', 'dragée', 'candy', 'powder', 'pudding', 'drops', 'powder']\n"
     ]
    }
   ],
   "source": [
    "# alle woorden met een s\n",
    "\n",
    "for woord in tekst.split():\n",
    "    if \"d\" in woord:\n",
    "        print(woord,end=\" \")\n",
    "\n",
    "print()\n",
    "regex = r\"\\b\\w*d\\w*\\b\"\n",
    "\n",
    "print(re.search(regex,tekst))           # zoeken naar eerste match, geeft match object terug\n",
    "print(re.search(regex,tekst).group())   # group() geeft resultaat uit match object\n",
    "print(re.search(regex,tekst).span())    # span() geeft positie in tekst van match object\n",
    "print(re.findall(regex,tekst))          # find all geeft alle matches terug"
   ]
  },
  {
   "cell_type": "code",
   "execution_count": 58,
   "metadata": {},
   "outputs": [
    {
     "name": "stdout",
     "output_type": "stream",
     "text": [
      "['pqrs', 'wxyz', 'PQRS', 'WXYZ', 'pqrs', 'wxyz', 'PQRS', 'WXYZ', 'pqrs', 'wxyz', 'PQRS', 'WXYZ', 'pqrs', 'wxyz', 'PQRS', 'WXYZ', 'pqrs', 'wxyz', 'PQRS', 'WXYZ', 'pqrs', 'wxyz', 'PQRS', 'WXYZ', 'pqrs', 'wxyz', 'PQRS', 'WXYZ', 'pqrs', 'wxyz']\n",
      "pqrs\n",
      "['pqrs', 'wxyz', 'PQRS', 'WXYZ', 'pqrs', 'wxyz', 'PQRS', 'WXYZ', 'pqrs', 'wxyz', 'PQRS', 'WXYZ', 'pqrs', 'wxyz', 'PQRS', 'WXYZ', 'pqrs', 'wxyz', 'PQRS', 'WXYZ', 'pqrs', 'wxyz', 'PQRS', 'WXYZ', 'pqrs', 'wxyz', 'PQRS', 'WXYZ', 'pqrs', 'wxyz']\n",
      "['1234', 'test']\n",
      "['abc def ghi jkl mno ', ' tuv ', ' ABC DEF GHI JKL MNO ', ' TUV ', ' !\"§ $%& /() =?* \\'<> #|; ²³~ @`´ ©«» ¤¼× {} abc def ghi jkl mno ', ' tuv ', ' ABC DEF GHI JKL MNO ', ' TUV ', ' !\"§ $%& /() =?* \\'<> #|; ²³~ @`´ ©«» ¤¼× {} abc def ghi jkl mno ', ' tuv ', ' ABC DEF GHI JKL MNO ', ' TUV ', ' !\"§ $%& /() =?* \\'<> #|; ²³~ @`´ ©«» ¤¼× {} abc def ghi jkl mno ', ' tuv ', ' ABC DEF GHI JKL MNO ', ' TUV ', ' !\"§ $%& /() =?* \\'<> #|; ²³~ @`´ ©«» ¤¼× {} abc def ghi jkl mno ', ' tuv ', ' ABC DEF GHI JKL MNO ', ' TUV ', ' !\"§ $%& /() =?* \\'<> #|; ²³~ @`´ ©«» ¤¼× {} abc def ghi jkl mno ', ' tuv ', ' ABC DEF GHI JKL MNO ', ' TUV ', ' !\"§ $%& /() =?* \\'<> #|; ²³~ @`´ ©«» ¤¼× {} abc def ghi jkl mno ', ' tuv ', ' ABC DEF GHI JKL MNO ', ' TUV ', ' !\"§ $%& /() =?* \\'<> #|; ²³~ @`´ ©«» ¤¼× {}abc def ghi jkl mno ', ' tuv ', ' ABC DEF GHI']\n",
      "abc def ghi jkl mno VIERALFANUMCHAR tuv VIERALFANUMCHAR ABC DEF GHI JKL MNO VIERALFANUMCHAR TUV VIERALFANUMCHAR !\"§ $%& /() =?* '<> #|; ²³~ @`´ ©«» ¤¼× {} abc def ghi jkl mno VIERALFANUMCHAR tuv VIERALFANUMCHAR ABC DEF GHI JKL MNO VIERALFANUMCHAR TUV VIERALFANUMCHAR !\"§ $%& /() =?* '<> #|; ²³~ @`´ ©«» ¤¼× {} abc def ghi jkl mno VIERALFANUMCHAR tuv VIERALFANUMCHAR ABC DEF GHI JKL MNO VIERALFANUMCHAR TUV VIERALFANUMCHAR !\"§ $%& /() =?* '<> #|; ²³~ @`´ ©«» ¤¼× {} abc def ghi jkl mno VIERALFANUMCHAR tuv VIERALFANUMCHAR ABC DEF GHI JKL MNO VIERALFANUMCHAR TUV VIERALFANUMCHAR !\"§ $%& /() =?* '<> #|; ²³~ @`´ ©«» ¤¼× {} abc def ghi jkl mno VIERALFANUMCHAR tuv VIERALFANUMCHAR ABC DEF GHI JKL MNO VIERALFANUMCHAR TUV VIERALFANUMCHAR !\"§ $%& /() =?* '<> #|; ²³~ @`´ ©«» ¤¼× {} abc def ghi jkl mno VIERALFANUMCHAR tuv VIERALFANUMCHAR ABC DEF GHI JKL MNO VIERALFANUMCHAR TUV VIERALFANUMCHAR !\"§ $%& /() =?* '<> #|; ²³~ @`´ ©«» ¤¼× {} abc def ghi jkl mno VIERALFANUMCHAR tuv VIERALFANUMCHAR ABC DEF GHI JKL MNO VIERALFANUMCHAR TUV VIERALFANUMCHAR !\"§ $%& /() =?* '<> #|; ²³~ @`´ ©«» ¤¼× {}abc def ghi jkl mno VIERALFANUMCHAR tuv VIERALFANUMCHAR ABC DEF GHI\n"
     ]
    }
   ],
   "source": [
    "tekst = \"\"\"abc def ghi jkl mno pqrs tuv wxyz ABC DEF GHI JKL MNO PQRS TUV WXYZ !\"§ $%& /() =?* '<> #|; ²³~ @`´ ©«» ¤¼× {} abc def ghi jkl mno pqrs tuv wxyz ABC DEF GHI JKL MNO PQRS TUV WXYZ !\"§ $%& /() =?* '<> #|; ²³~ @`´ ©«» ¤¼× {} abc def ghi jkl mno pqrs tuv wxyz ABC DEF GHI JKL MNO PQRS TUV WXYZ !\"§ $%& /() =?* '<> #|; ²³~ @`´ ©«» ¤¼× {} abc def ghi jkl mno pqrs tuv wxyz ABC DEF GHI JKL MNO PQRS TUV WXYZ !\"§ $%& /() =?* '<> #|; ²³~ @`´ ©«» ¤¼× {} abc def ghi jkl mno pqrs tuv wxyz ABC DEF GHI JKL MNO PQRS TUV WXYZ !\"§ $%& /() =?* '<> #|; ²³~ @`´ ©«» ¤¼× {} abc def ghi jkl mno pqrs tuv wxyz ABC DEF GHI JKL MNO PQRS TUV WXYZ !\"§ $%& /() =?* '<> #|; ²³~ @`´ ©«» ¤¼× {} abc def ghi jkl mno pqrs tuv wxyz ABC DEF GHI JKL MNO PQRS TUV WXYZ !\"§ $%& /() =?* '<> #|; ²³~ @`´ ©«» ¤¼× {}abc def ghi jkl mno pqrs tuv wxyz ABC DEF GHI\"\"\"\n",
    "\n",
    "regex = r\"\\b\\w{4}\\b\"\n",
    "print(re.findall(regex,tekst))\n",
    "\n",
    "# als je regex object aanmaakt\n",
    "regex_object = re.compile(regex)\n",
    "print(regex_object.search(tekst).group())\n",
    "print(regex_object.findall(tekst))\n",
    "print(regex_object.findall(\"1234 test blabla 89\"))\n",
    "\n",
    "# splitten van tekst\n",
    "list = re.split(regex,tekst)\n",
    "print(list)\n",
    "\n",
    "# vervangen van tekst\n",
    "nieuwe_tekst = regex_object.sub(\"VIERALFANUMCHAR\",tekst)\n",
    "print(nieuwe_tekst)"
   ]
  },
  {
   "attachments": {},
   "cell_type": "markdown",
   "metadata": {},
   "source": [
    "### Extra oefeningen\n",
    "\n",
    "Try to find:\n",
    "\n",
    "- all numbers (not the individual digits)\n",
    "- all numbers starting a string\n",
    "- all numbers ending a string\n",
    "- all numbers surrounded by alfabethical characters\n",
    "- all strings containing only alfabethical characters\n",
    "- all strings containing only only digits\n",
    "- all strings containing only consonants\n",
    "- all strings containing only vowels\n",
    "- all strings consisting of the letters of lorem: lorem, merol, moerl...\n",
    "- all strings consisting of the letters of a given word (use input)\n",
    "\n",
    "can you find more?"
   ]
  },
  {
   "cell_type": "code",
   "execution_count": 79,
   "metadata": {},
   "outputs": [
    {
     "name": "stdout",
     "output_type": "stream",
     "text": [
      "['aaa', 'ooo', 'uuu', 'iii', 'iiiuoa', 'uaoe']\n",
      "['aaa', 'ooo', 'uuu', 'iii', 'iiiuoa', 'UAOE']\n",
      "['aaa', 'ooo', 'uuu', 'iii', 'iiiuoa', 'UAOE']\n",
      "['Y789U', 'a667u']\n",
      "<re.Match object; span=(0, 5), match='R798t'>\n",
      "None\n",
      "3216\n"
     ]
    }
   ],
   "source": [
    "tekst = \"\"\"dit is een stukje tekst met woorden als Y789U aaa ooo uuu iii en getallen 675 987 7 4 en nog\n",
    "            andere woorden en rariteiten 87 iiiuoa nog a667u iets UAOE \"\"\"\n",
    "\n",
    "# alle woorden met enkel klinkers\n",
    "print(re.findall(r\"\\b[aeuio]+\\b\", tekst.lower()))\n",
    "print(re.findall(r\"\\b[aeuioAEUIO]+\\b\", tekst))\n",
    "print(re.findall(r\"\\b[aeuio]+\\b\", tekst,re.IGNORECASE))\n",
    "\n",
    "# alle getallen omringd door een alfa karaketer\n",
    "print(re.findall(r\"\\b[a-z]\\d+[a-z]\\b\",tekst, re.IGNORECASE))\n",
    "\n",
    "# checken of iets een match is\n",
    "print(re.match(r\"\\b[a-z]\\d+[a-z]\\b\",\"R798t\", re.IGNORECASE))\n",
    "print(re.match(r\"\\b[a-z]\\d+[a-z]\\b\",\"R798\", re.IGNORECASE))\n",
    "\n",
    "# lijst van getallen\n",
    "list = re.findall(r\"\\d+\",tekst, re.IGNORECASE)\n",
    "int_list = [int(i) for i in list]\n",
    "print(sum(int_list))"
   ]
  }
 ],
 "metadata": {
  "kernelspec": {
   "display_name": "Python 3",
   "language": "python",
   "name": "python3"
  },
  "language_info": {
   "codemirror_mode": {
    "name": "ipython",
    "version": 3
   },
   "file_extension": ".py",
   "mimetype": "text/x-python",
   "name": "python",
   "nbconvert_exporter": "python",
   "pygments_lexer": "ipython3",
   "version": "3.7.4"
  },
  "orig_nbformat": 4
 },
 "nbformat": 4,
 "nbformat_minor": 2
}
