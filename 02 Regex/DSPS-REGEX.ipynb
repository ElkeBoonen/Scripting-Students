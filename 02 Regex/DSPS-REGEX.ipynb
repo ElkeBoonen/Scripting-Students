{
 "cells": [
  {
   "attachments": {},
   "cell_type": "markdown",
   "metadata": {},
   "source": [
    "# Lesson 4 - Regex & strings - 9/03\n",
    "\n",
    "- regular expressions\n",
    "- strings\n",
    "\n",
    "## Strings\n",
    "### Raw strings"
   ]
  },
  {
   "cell_type": "code",
   "execution_count": 9,
   "metadata": {},
   "outputs": [
    {
     "name": "stdout",
     "output_type": "stream",
     "text": [
      "This is a string\n",
      "This is a string\n",
      "This is a single quotation mark '\n",
      "This is a double quotation mark \"\n",
      "This is a single quotation mark ' and this is a double one \"\n",
      "This is a single quotation mark ' and this is a double one \" and this is \n",
      " a new line\n",
      "This is a single quotation mark ' and this is a double one \\\" and this is \\n a new line\n"
     ]
    }
   ],
   "source": [
    "s = \"This is a string\"\n",
    "print(s)\n",
    "s = 'This is a string'\n",
    "print(s)\n",
    "s = \"This is a single quotation mark '\"\n",
    "print(s)\n",
    "s = 'This is a double quotation mark \"'\n",
    "print(s)\n",
    "s = \"This is a single quotation mark ' and this is a double one \\\"\"\n",
    "print(s)\n",
    "s = \"This is a single quotation mark ' and this is a double one \\\" and this is \\n a new line\"\n",
    "print(s)\n",
    "s = r\"This is a single quotation mark ' and this is a double one \\\" and this is \\n a new line\"\n",
    "print(s)"
   ]
  },
  {
   "attachments": {},
   "cell_type": "markdown",
   "metadata": {},
   "source": [
    "### Slice a string\n",
    "\n",
    "[start:end:step]"
   ]
  },
  {
   "cell_type": "code",
   "execution_count": 7,
   "metadata": {},
   "outputs": [
    {
     "name": "stdout",
     "output_type": "stream",
     "text": [
      "gnitpircs nohtyP evol I\n",
      "Python \n",
      "Pto \n",
      "True\n",
      "False\n",
      "True\n"
     ]
    }
   ],
   "source": [
    "s = \"I love Python scripting\"\n",
    "\n",
    "print(s[::-1])          # reverse string\n",
    "print(s[7:14:])         # Get 'Python' out \n",
    "print(s[7:14:2])        # Pto\n",
    "\n",
    "print(\"Python\" in s)        # True\n",
    "print(\"python\" in s)        # False\n",
    "print(\"python\" not in s)    # True"
   ]
  },
  {
   "attachments": {},
   "cell_type": "markdown",
   "metadata": {},
   "source": [
    "### Split & join"
   ]
  },
  {
   "cell_type": "code",
   "execution_count": 17,
   "metadata": {},
   "outputs": [
    {
     "name": "stdout",
     "output_type": "stream",
     "text": [
      "['I', 'love', 'Python', 'scripting']\n",
      "['1,2,3,4,5,8,10']\n",
      "['1', '2', '3', '4', '5', '8', '10']\n",
      "[1, 2, 3, 4, 5, 8, 10]\n",
      "1 - 2 - 3 - 4 - 5 - 8 - 10\n"
     ]
    }
   ],
   "source": [
    "s = \"I love Python scripting\"\n",
    "list = s.split()\n",
    "print(list)\n",
    "\n",
    "s = \"1,2,3,4,5,8,10\"\n",
    "list = s.split()\n",
    "print(list)\n",
    "list = s.split(\",\")\n",
    "print(list)\n",
    "\n",
    "list_int = [int(x) for x in list] \n",
    "print(list_int)\n",
    "\n",
    "print(\" - \".join(list))"
   ]
  },
  {
   "attachments": {},
   "cell_type": "markdown",
   "metadata": {},
   "source": [
    "### Useful methods\n",
    "\n",
    "https://www.w3schools.com/python/python_ref_string.asp"
   ]
  },
  {
   "cell_type": "code",
   "execution_count": 21,
   "metadata": {},
   "outputs": [
    {
     "name": "stdout",
     "output_type": "stream",
     "text": [
      "tHIS.IS.A.string.WITH.NUMBERS.NR.NR.NR."
     ]
    }
   ],
   "source": [
    "s = \"This is a STRING with numbers 7 8 1 \"\n",
    "\n",
    "for c in s:\n",
    "    if c.isupper():\n",
    "        print(c.lower(), end=\"\")\n",
    "    elif c.islower():\n",
    "         print(c.upper(), end=\"\")\n",
    "    elif c.isnumeric():\n",
    "        print(\"NR\",end=\"\")\n",
    "    elif c.isspace():\n",
    "        print(\".\",end=\"\")\n",
    "    "
   ]
  },
  {
   "attachments": {},
   "cell_type": "markdown",
   "metadata": {},
   "source": [
    "### Strip a string\n",
    "\n",
    "remove spaces in front or after string"
   ]
  },
  {
   "cell_type": "code",
   "execution_count": 26,
   "metadata": {},
   "outputs": [
    {
     "name": "stdout",
     "output_type": "stream",
     "text": [
      "*     a lot of spaces      *\n",
      "*     a lot of spaces *\n",
      "* a lot of spaces      *\n",
      "* a lot of spaces *\n"
     ]
    }
   ],
   "source": [
    "s = \"    a lot of spaces     \"\n",
    "print(\"*\",s,\"*\")\n",
    "print(\"*\",s.rstrip(),\"*\")\n",
    "print(\"*\",s.lstrip(),\"*\")\n",
    "print(\"*\",s.strip(),\"*\")"
   ]
  },
  {
   "attachments": {},
   "cell_type": "markdown",
   "metadata": {},
   "source": [
    "### ASCII table\n",
    "\n",
    "https://www.asciitable.com/"
   ]
  },
  {
   "cell_type": "code",
   "execution_count": 28,
   "metadata": {},
   "outputs": [
    {
     "name": "stdout",
     "output_type": "stream",
     "text": [
      "97\n",
      "b\n"
     ]
    }
   ],
   "source": [
    "c = \"a\"\n",
    "print(ord(c))\n",
    "print(chr(98))"
   ]
  },
  {
   "attachments": {},
   "cell_type": "markdown",
   "metadata": {},
   "source": [
    "### Pig latin\n",
    "\n",
    "- word starts with consonant --> add consonant & \"ay\" --> example: Happy = appyh + ay = appyhay\n",
    "- word starts with two consonants --> add both of them at the end and add \"ay\" --> example: Child = Ildch + ay = Ildchay\n",
    "- word start with a vowel --> add \"way\" --> example: Awesome = Awesome +way = Awesomeway"
   ]
  },
  {
   "cell_type": "code",
   "execution_count": 32,
   "metadata": {},
   "outputs": [
    {
     "name": "stdout",
     "output_type": "stream",
     "text": [
      "This  -->  isthay\n",
      "is  -->  isway\n",
      "a  -->  away\n",
      "happy  -->  appyhay\n",
      "string  -->  ringstay\n"
     ]
    }
   ],
   "source": [
    "def PigLatin(word):\n",
    "    word = word.lower()\n",
    "    if word[0] in \"aeuio\":\n",
    "        return word + \"way\"\n",
    "    else:\n",
    "        if word[1] in \"aeuio\":\n",
    "            return word[1::] + word[0] + \"ay\"\n",
    "        else:\n",
    "            return word[2::] + word[0] + word[1] + \"ay\"\n",
    "        \n",
    "s = \"This is a happy string\"\n",
    "for word in s.split():\n",
    "    print(word,\" --> \",PigLatin(word))"
   ]
  }
 ],
 "metadata": {
  "kernelspec": {
   "display_name": "Python 3",
   "language": "python",
   "name": "python3"
  },
  "language_info": {
   "codemirror_mode": {
    "name": "ipython",
    "version": 3
   },
   "file_extension": ".py",
   "mimetype": "text/x-python",
   "name": "python",
   "nbconvert_exporter": "python",
   "pygments_lexer": "ipython3",
   "version": "3.7.4"
  },
  "orig_nbformat": 4
 },
 "nbformat": 4,
 "nbformat_minor": 2
}
