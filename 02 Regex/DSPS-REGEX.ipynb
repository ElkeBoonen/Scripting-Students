{
 "cells": [
  {
   "attachments": {},
   "cell_type": "markdown",
   "metadata": {},
   "source": [
    "# Lesson 4 - Regex & strings - 9/03\n",
    "\n",
    "- regular expressions\n",
    "- strings\n",
    "\n",
    "## Strings\n",
    "### Raw strings"
   ]
  },
  {
   "cell_type": "code",
   "execution_count": null,
   "metadata": {},
   "outputs": [],
   "source": [
    "s = \"This is a string\"\n",
    "print(s)\n",
    "s = 'This is a string'\n",
    "print(s)\n",
    "s = \"This is a single quotation mark '\"\n",
    "print(s)\n",
    "s = 'This is a double quotation mark \"'\n",
    "print(s)\n",
    "s = \"This is a single quotation mark ' and this is a double one \\\"\"\n",
    "print(s)\n",
    "s = \"This is a single quotation mark ' and this is a double one \\\" and this is \\n a new line\"\n",
    "print(s)\n",
    "s = r\"This is a single quotation mark ' and this is a double one \\\" and this is \\n a new line\"\n",
    "print(s)"
   ]
  },
  {
   "attachments": {},
   "cell_type": "markdown",
   "metadata": {},
   "source": [
    "### Slice a string\n",
    "\n",
    "[start:end:step]"
   ]
  },
  {
   "cell_type": "code",
   "execution_count": null,
   "metadata": {},
   "outputs": [],
   "source": [
    "s = \"I love Python scripting\"\n",
    "\n",
    "print(s[::-1])          # reverse string\n",
    "print(s[7:14:])         # Get 'Python' out \n",
    "print(s[7:14:2])        # Pto\n",
    "\n",
    "print(\"Python\" in s)        # True\n",
    "print(\"python\" in s)        # False\n",
    "print(\"python\" not in s)    # True"
   ]
  },
  {
   "attachments": {},
   "cell_type": "markdown",
   "metadata": {},
   "source": [
    "### Split & join"
   ]
  },
  {
   "cell_type": "code",
   "execution_count": null,
   "metadata": {},
   "outputs": [],
   "source": [
    "s = \"I love Python scripting\"\n",
    "list = s.split()\n",
    "print(list)\n",
    "\n",
    "s = \"1,2,3,4,5,8,10\"\n",
    "list = s.split()\n",
    "print(list)\n",
    "list = s.split(\",\")\n",
    "print(list)\n",
    "\n",
    "list_int = [int(x) for x in list] \n",
    "print(list_int)\n",
    "\n",
    "print(\" - \".join(list))"
   ]
  },
  {
   "attachments": {},
   "cell_type": "markdown",
   "metadata": {},
   "source": [
    "### Useful methods\n",
    "\n",
    "https://www.w3schools.com/python/python_ref_string.asp"
   ]
  },
  {
   "cell_type": "code",
   "execution_count": null,
   "metadata": {},
   "outputs": [],
   "source": [
    "s = \"This is a STRING with numbers 7 8 1 \"\n",
    "\n",
    "for c in s:\n",
    "    if c.isupper():\n",
    "        print(c.lower(), end=\"\")\n",
    "    elif c.islower():\n",
    "         print(c.upper(), end=\"\")\n",
    "    elif c.isnumeric():\n",
    "        print(\"NR\",end=\"\")\n",
    "    elif c.isspace():\n",
    "        print(\".\",end=\"\")\n",
    "    "
   ]
  },
  {
   "attachments": {},
   "cell_type": "markdown",
   "metadata": {},
   "source": [
    "### Strip a string\n",
    "\n",
    "remove spaces in front or after string"
   ]
  },
  {
   "cell_type": "code",
   "execution_count": null,
   "metadata": {},
   "outputs": [],
   "source": [
    "s = \"    a lot of spaces     \"\n",
    "print(\"*\",s,\"*\")\n",
    "print(\"*\",s.rstrip(),\"*\")\n",
    "print(\"*\",s.lstrip(),\"*\")\n",
    "print(\"*\",s.strip(),\"*\")"
   ]
  },
  {
   "attachments": {},
   "cell_type": "markdown",
   "metadata": {},
   "source": [
    "### ASCII table\n",
    "\n",
    "https://www.asciitable.com/"
   ]
  },
  {
   "cell_type": "code",
   "execution_count": null,
   "metadata": {},
   "outputs": [],
   "source": [
    "c = \"a\"\n",
    "print(ord(c))\n",
    "print(chr(98))"
   ]
  },
  {
   "attachments": {},
   "cell_type": "markdown",
   "metadata": {},
   "source": [
    "### Pig latin\n",
    "\n",
    "- word starts with consonant --> add consonant & \"ay\" --> example: Happy = appyh + ay = appyhay\n",
    "- word starts with two consonants --> add both of them at the end and add \"ay\" --> example: Child = Ildch + ay = Ildchay\n",
    "- word start with a vowel --> add \"way\" --> example: Awesome = Awesome +way = Awesomeway"
   ]
  },
  {
   "cell_type": "code",
   "execution_count": null,
   "metadata": {},
   "outputs": [],
   "source": [
    "def PigLatin(word):\n",
    "    word = word.lower()\n",
    "    if word[0] in \"aeuio\":\n",
    "        return word + \"way\"\n",
    "    else:\n",
    "        if word[1] in \"aeuio\":\n",
    "            return word[1::] + word[0] + \"ay\"\n",
    "        else:\n",
    "            return word[2::] + word[0] + word[1] + \"ay\"\n",
    "        \n",
    "s = \"This is a happy string\"\n",
    "for word in s.split():\n",
    "    print(word,\" --> \",PigLatin(word))"
   ]
  },
  {
   "attachments": {},
   "cell_type": "markdown",
   "metadata": {},
   "source": [
    "## Packages\n",
    "\n",
    "check installed packages: help ('modules')"
   ]
  },
  {
   "cell_type": "code",
   "execution_count": null,
   "metadata": {},
   "outputs": [],
   "source": [
    "help ('modules')"
   ]
  },
  {
   "attachments": {},
   "cell_type": "markdown",
   "metadata": {},
   "source": [
    "## Regular expressions\n",
    "\n",
    "re-module\n",
    "\n",
    "dummy text : https://www.lipsum.com/\n",
    "\n",
    "find pattern with a tool online! https://regexr.com/\n",
    "\n",
    "- [] --> collection\n",
    "- [... - ...] --> range A-Z, 1-20\n",
    "- +-sign: 1 or more\n",
    "- *-sign= 0 or more\n",
    "- {} exact number of times\n",
    "- \\w word-character, a-z, A-Z, 0-9, underscores\n",
    "- \\d digit\n",
    "- \\b bounderies of a regex"
   ]
  },
  {
   "cell_type": "code",
   "execution_count": 49,
   "metadata": {},
   "outputs": [
    {
     "name": "stdout",
     "output_type": "stream",
     "text": [
      "['Lorem', 'Sed', 'Pellentesque', 'Donec', 'Integer', 'Vestibulum', 'Aenean', 'Phasellus', 'Proin', 'Quisque', 'Suspendisse', 'Nullam', 'Donec', 'Nam', 'Sed', 'Sed']\n",
      "['amet', 'elit', 'orci', 'nisl', '1234', 'amet', '5678', 'enim', 'amet', 'erat', 'eget', '9012', 'quam', 'odio', '3456', 'nisl', 'quis', '7890', '2345', 'eros', 'elit', '6789', 'ante', '1234', 'eget']\n",
      "<re.Match object; span=(22, 26), match='amet'>\n",
      "amet\n",
      "(22, 26)\n",
      "['amet', 'elit', 'orci', 'nisl', '1234', 'amet', '5678', 'enim', 'amet', 'erat', 'eget', '9012', 'quam', 'odio', '3456', 'nisl', 'quis', '7890', '2345', 'eros', 'elit', '6789', 'ante', '1234', 'eget']\n",
      "None\n",
      "<re.Match object; span=(0, 4), match='text'>\n",
      "None\n",
      "['Lorem ipsum dolor sit ', ', consectetur adipiscing ', '. Sed blandit nulla vel ', ' luctus, at \\nelementum dui ullamcorper. Pellentesque habitant morbi tristique senectus et netus et malesuada \\nfames ac turpis egestas. Donec convallis mauris sed ', ' porttitor, eu scelerisque nulla ultricies. \\nInteger laoreet ', ' nulla sit ', ' neque bibendum, eu fringilla purus feugiat. Vestibulum ', ' tempus \\naugue id ', ' mollis, in consequat justo varius. Aenean sit ', ' semper ', ', non condimentum velit.\\n Phasellus ', ' ', ' velit et ', ' pulvinar euismod. Proin luctus, nulla non dapibus rutrum, felis ipsum \\n faucibus ', ', ac ', ' ullamcorper ', ' libero ', ' ipsum. Quisque ultrices risus a tortor rhoncus, ac \\n ', ' lobortis velit lacinia. Suspendisse potenti. Nullam sed ', ' ', ' vel ', ' fermentum efficitur. \\n Donec aliquet justo ac lobortis bibendum. Nam vitae ', ' semper ', '. \\nSed vestibulum ', ' mauris eu massa bibendum, ', ' euismod magna iaculis. Sed in risus lacus.']\n",
      "Lorem ipsum dolor sit FOUR, consectetur adipiscing FOUR. Sed blandit nulla vel FOUR luctus, at \n",
      "elementum dui ullamcorper. Pellentesque habitant morbi tristique senectus et netus et malesuada \n",
      "fames ac turpis egestas. Donec convallis mauris sed FOUR porttitor, eu scelerisque nulla ultricies. \n",
      "Integer laoreet FOUR nulla sit FOUR neque bibendum, eu fringilla purus feugiat. Vestibulum FOUR tempus \n",
      "augue id FOUR mollis, in consequat justo varius. Aenean sit FOUR semper FOUR, non condimentum velit.\n",
      " Phasellus FOUR FOUR velit et FOUR pulvinar euismod. Proin luctus, nulla non dapibus rutrum, felis ipsum \n",
      " faucibus FOUR, ac FOUR ullamcorper FOUR libero FOUR ipsum. Quisque ultrices risus a tortor rhoncus, ac \n",
      " FOUR lobortis velit lacinia. Suspendisse potenti. Nullam sed FOUR FOUR vel FOUR fermentum efficitur. \n",
      " Donec aliquet justo ac lobortis bibendum. Nam vitae FOUR semper FOUR. \n",
      "Sed vestibulum FOUR mauris eu massa bibendum, FOUR euismod magna iaculis. Sed in risus lacus.\n"
     ]
    }
   ],
   "source": [
    "import re\n",
    "\n",
    "text =\"\"\"Lorem ipsum dolor sit amet, consectetur adipiscing elit. Sed blandit nulla vel orci luctus, at \n",
    "elementum dui ullamcorper. Pellentesque habitant morbi tristique senectus et netus et malesuada \n",
    "fames ac turpis egestas. Donec convallis mauris sed nisl porttitor, eu scelerisque nulla ultricies. \n",
    "Integer laoreet 1234 nulla sit amet neque bibendum, eu fringilla purus feugiat. Vestibulum 5678 tempus \n",
    "augue id enim mollis, in consequat justo varius. Aenean sit amet semper erat, non condimentum velit.\n",
    " Phasellus eget 9012 velit et quam pulvinar euismod. Proin luctus, nulla non dapibus rutrum, felis ipsum \n",
    " faucibus odio, ac 3456 ullamcorper nisl libero quis ipsum. Quisque ultrices risus a tortor rhoncus, ac \n",
    " 7890 lobortis velit lacinia. Suspendisse potenti. Nullam sed 2345 eros vel elit fermentum efficitur. \n",
    " Donec aliquet justo ac lobortis bibendum. Nam vitae 6789 semper ante. \n",
    "Sed vestibulum 1234 mauris eu massa bibendum, eget euismod magna iaculis. Sed in risus lacus.\"\"\"\n",
    "\n",
    "\n",
    "regex = r\"[A-Z]\\w+\" \n",
    "\n",
    "list = re.findall(regex, text) \n",
    "print(list)\n",
    "\n",
    "regex = r\"\\b\\w{4}\\b\" # all words with 4 characters\n",
    "list = re.findall(regex, text) \n",
    "print(list)\n",
    "\n",
    "print(re.search(regex, text)) # first match\n",
    "\n",
    "result = re.search(regex, text)\n",
    "print(result.group())\n",
    "print(result.span())\n",
    "\n",
    "regex_object = re.compile(regex) # compiling the regex first \n",
    "print(regex_object.findall(text))\n",
    "\n",
    "print(regex_object.match(text))\n",
    "print(regex_object.match(\"text\"))\n",
    "print(regex_object.match(\"!P^-\"))\n",
    "\n",
    "print(regex_object.split(text))\n",
    "\n",
    "print(regex_object.sub(\"FOUR\", text))\n"
   ]
  },
  {
   "attachments": {},
   "cell_type": "markdown",
   "metadata": {},
   "source": [
    "### Exercise find all numbers, and make sum"
   ]
  },
  {
   "cell_type": "code",
   "execution_count": 55,
   "metadata": {},
   "outputs": [
    {
     "name": "stdout",
     "output_type": "stream",
     "text": [
      "[1234, 5678, 9012, 3456, 7890, 2345, 6789, 1234]\n",
      "37638\n",
      "['eu', 'eu', 'a', 'eu']\n"
     ]
    }
   ],
   "source": [
    "import re\n",
    "\n",
    "text =\"\"\"Lorem ipsum dolor sit amet, consectetur adipiscing elit. Sed blandit nulla vel orci luctus, at \n",
    "elementum dui ullamcorper. Pellentesque habitant morbi tristique senectus et netus et malesuada \n",
    "fames ac turpis egestas. Donec convallis mauris sed nisl porttitor, eu scelerisque nulla ultricies. \n",
    "Integer laoreet 1234 nulla sit amet neque bibendum, eu fringilla purus feugiat. Vestibulum 5678 tempus \n",
    "augue id enim mollis, in consequat justo varius. Aenean sit amet semper erat, non condimentum velit.\n",
    " Phasellus eget 9012 velit et quam pulvinar euismod. Proin luctus, nulla non dapibus rutrum, felis ipsum \n",
    " faucibus odio, ac 3456 ullamcorper nisl libero quis ipsum. Quisque ultrices risus a tortor rhoncus, ac \n",
    " 7890 lobortis velit lacinia. Suspendisse potenti. Nullam sed 2345 eros vel elit fermentum efficitur. \n",
    " Donec aliquet justo ac lobortis bibendum. Nam vitae 6789 semper ante. \n",
    "Sed vestibulum 1234 mauris eu massa bibendum, eget euismod magna iaculis. Sed in risus lacus.\"\"\"\n",
    "\n",
    "# finding all numbers\n",
    "list = re.findall(r\"\\d+\", text)\n",
    "list = [int(x) for x in list]\n",
    "print(list)\n",
    "print(sum(list))\n",
    "\n",
    "# all strings containing only vowels\n",
    "list = re.findall(r\"\\b[aeuio]+\\b\", text)\n",
    "print(list)\n"
   ]
  },
  {
   "attachments": {},
   "cell_type": "markdown",
   "metadata": {},
   "source": [
    "Try to find:\n",
    "\n",
    "- all numbers (not the individual digits)\n",
    "- all numbers starting a string\n",
    "- all numbers ending a string\n",
    "- all numbers surrounded by alfabethical characters\n",
    "- all strings containing only alfabethical characters\n",
    "- all strings containing only only digits\n",
    "- all strings containing only consonants\n",
    "- all strings containing only vowels\n",
    "- all strings consisting of the letters of lorem: lorem, merol, moerl...\n",
    "- all strings consisting of the letters of a given word (use input)\n",
    "- can you find more?"
   ]
  }
 ],
 "metadata": {
  "kernelspec": {
   "display_name": "Python 3",
   "language": "python",
   "name": "python3"
  },
  "language_info": {
   "codemirror_mode": {
    "name": "ipython",
    "version": 3
   },
   "file_extension": ".py",
   "mimetype": "text/x-python",
   "name": "python",
   "nbconvert_exporter": "python",
   "pygments_lexer": "ipython3",
   "version": "3.7.4"
  },
  "orig_nbformat": 4
 },
 "nbformat": 4,
 "nbformat_minor": 2
}
