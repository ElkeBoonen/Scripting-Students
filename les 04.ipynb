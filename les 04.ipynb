{
 "metadata": {
  "language_info": {
   "codemirror_mode": {
    "name": "ipython",
    "version": 3
   },
   "file_extension": ".py",
   "mimetype": "text/x-python",
   "name": "python",
   "nbconvert_exporter": "python",
   "pygments_lexer": "ipython3",
   "version": "3.9.2-final"
  },
  "orig_nbformat": 2,
  "kernelspec": {
   "name": "python3",
   "display_name": "Python 3.9.2 64-bit",
   "metadata": {
    "interpreter": {
     "hash": "a7ff26f83e05060c3a7d34b0e500d2ccaab5c8f85efbdae62ef213692d698dc2"
    }
   }
  }
 },
 "nbformat": 4,
 "nbformat_minor": 2,
 "cells": [
  {
   "source": [
    "# Les 04: strings & regex\n",
    "## Rauwe strings in Python zijn belangrijk voor regex!"
   ],
   "cell_type": "markdown",
   "metadata": {}
  },
  {
   "cell_type": "code",
   "execution_count": 5,
   "metadata": {},
   "outputs": [
    {
     "output_type": "stream",
     "name": "stdout",
     "text": [
      "Dit is een string\nDit is een string\n's Morgens schijnt de zon\nIk zeg \"Hallo\"\n's Morgens zegt ik \"Hallo\" \n's Morgens zegt ik \\\"Hallo\\\" \n"
     ]
    }
   ],
   "source": [
    "print(\"Dit is een string\")\n",
    "print('Dit is een string')\n",
    "print(\"'s Morgens schijnt de zon\")\n",
    "print('Ik zeg \"Hallo\"')\n",
    "print(\"'s Morgens zegt ik \\\"Hallo\\\" \")\n",
    "print(r\"'s Morgens zegt ik \\\"Hallo\\\" \")"
   ]
  },
  {
   "source": [
    "## Strings behandelen als een lijst"
   ],
   "cell_type": "markdown",
   "metadata": {}
  },
  {
   "cell_type": "code",
   "execution_count": 15,
   "metadata": {},
   "outputs": [
    {
     "output_type": "stream",
     "name": "stdout",
     "text": [
      "s\ns een s\nDti e tig\ngnirts nee si tiD\nTrue\nTrue\nFalse\nFalse\n"
     ]
    }
   ],
   "source": [
    "string = \"Dit is een string\"\n",
    "print(string[5])\n",
    "print(string[5:12])\n",
    "print(string[::2])\n",
    "print(string[::-1])\n",
    "\n",
    "woord = \"racecar\"\n",
    "print(woord == woord[::-1]) ## checken op palindroom\n",
    "\n",
    "print(\"is\" in string)\n",
    "print(\"Is\" in string)\n",
    "print(\"is\" not in string)\n"
   ]
  },
  {
   "source": [
    "## Split & join"
   ],
   "cell_type": "markdown",
   "metadata": {}
  },
  {
   "cell_type": "code",
   "execution_count": 32,
   "metadata": {},
   "outputs": [
    {
     "output_type": "stream",
     "name": "stdout",
     "text": [
      "['Dit', 'is', 'een', 'beetje', 'een', 'rare', 'string']\n['Dit is             ', '', 'n b', '', 'tj', '      ', '', 'n rar', '          string']\n*Dit is*\n* Dit is *\n**\n*  *\n*n b*\n* n b *\n**\n*  *\n*tj*\n* tj *\n**\n*  *\n**\n*  *\n*n rar*\n* n rar *\n*string*\n* string *\n['Dit is             ', ' beetje      ', ' rare          string']\n1-2-3-4-5\nDit*is*een*beetje*een*rare*string\n"
     ]
    }
   ],
   "source": [
    "string =\"Dit is             een beetje      een rare          string\"\n",
    "print(string.split())\n",
    "print(string.split(\"e\"))\n",
    "for x in string.split(\"e\"):\n",
    "    print(\"*\"+x.strip()+\"*\")\n",
    "    print(\"*\",x.strip(),\"*\")\n",
    "\n",
    "print(string.split(\"een\"))\n",
    "\n",
    "print(\"-\".join([\"1\",\"2\",\"3\",\"4\",\"5\"]))\n",
    "print(\"*\".join(string.split()))"
   ]
  },
  {
   "source": [
    "## isX resulteert altijd in True/False"
   ],
   "cell_type": "markdown",
   "metadata": {}
  },
  {
   "cell_type": "code",
   "execution_count": 26,
   "metadata": {},
   "outputs": [
    {
     "output_type": "stream",
     "name": "stdout",
     "text": [
      "dIT**IS**EEN**STRING**MET**CIJFERS**DIGIT**DIGIT**DIGIT**EN**LETTERS**a**b**c**EN**RARE**TEKENS****À**\nTrue\nFalse\n"
     ]
    }
   ],
   "source": [
    "string = \"Dit is een string met cijfers 1 2 3 en letters A B C en rare tekens ( à )\"\n",
    "nieuwe_string = \"\"\n",
    "for c in string:\n",
    "    if c.islower():\n",
    "        nieuwe_string += c.upper()\n",
    "    elif c.isupper():\n",
    "        nieuwe_string += c.lower()\n",
    "    elif c.isspace():\n",
    "        nieuwe_string += \"**\"\n",
    "    elif c.isdigit():\n",
    "        nieuwe_string +=\"DIGIT\"\n",
    "print(nieuwe_string)\n",
    "\n",
    "print(nieuwe_string.endswith(\"*\"))\n",
    "print(nieuwe_string.startswith(\"*\"))"
   ]
  },
  {
   "source": [
    "## ASCII table\n",
    "http://www.asciitable.com/\n"
   ],
   "cell_type": "markdown",
   "metadata": {}
  },
  {
   "cell_type": "code",
   "execution_count": 33,
   "metadata": {},
   "outputs": [
    {
     "output_type": "stream",
     "name": "stdout",
     "text": [
      "68\n105\n116\n32\n105\n115\n32\n101\n101\n110\n32\n115\n116\n114\n105\n110\n103\n32\n109\n101\n116\n32\n99\n105\n106\n102\n101\n114\n115\n32\n49\n32\n50\n32\n51\n32\n101\n110\n32\n108\n101\n116\n116\n101\n114\n115\n32\n65\n32\n66\n32\n67\n32\n101\n110\n32\n114\n97\n114\n101\n32\n116\n101\n107\n101\n110\n115\n32\n40\n32\n224\n32\n41\n"
     ]
    }
   ],
   "source": [
    "string = \"Dit is een string met cijfers 1 2 3 en letters A B C en rare tekens ( à )\"\n",
    "for c in string:\n",
    "    print(ord(c))"
   ]
  },
  {
   "source": [
    "## Pig latin\n",
    "\n",
    "Start met medeklinker --> medeklinker naar achter en ay<br>\n",
    "Start met klinker --> eindigen met way\n",
    "\n",
    "klinkers: a e u i o"
   ],
   "cell_type": "markdown",
   "metadata": {}
  },
  {
   "cell_type": "code",
   "execution_count": 37,
   "metadata": {},
   "outputs": [
    {
     "output_type": "stream",
     "name": "stdout",
     "text": [
      "itday isway eenway tringsay "
     ]
    }
   ],
   "source": [
    "string = \"dit is een string\"\n",
    "for woord in string.split():\n",
    "    if woord[0] in \"aeuio\": #in ('a', 'e', 'u', 'i', 'o') --> tuple\n",
    "        print(woord+\"way\", end=\" \")\n",
    "    else:\n",
    "        print(woord[1:]+woord[0]+\"ay\", end =\" \")"
   ]
  },
  {
   "cell_type": "code",
   "execution_count": null,
   "metadata": {},
   "outputs": [],
   "source": []
  }
 ]
}