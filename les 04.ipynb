{
 "metadata": {
  "language_info": {
   "codemirror_mode": {
    "name": "ipython",
    "version": 3
   },
   "file_extension": ".py",
   "mimetype": "text/x-python",
   "name": "python",
   "nbconvert_exporter": "python",
   "pygments_lexer": "ipython3",
   "version": "3.9.2-final"
  },
  "orig_nbformat": 2,
  "kernelspec": {
   "name": "python3",
   "display_name": "Python 3.9.2 64-bit",
   "metadata": {
    "interpreter": {
     "hash": "a7ff26f83e05060c3a7d34b0e500d2ccaab5c8f85efbdae62ef213692d698dc2"
    }
   }
  }
 },
 "nbformat": 4,
 "nbformat_minor": 2,
 "cells": [
  {
   "source": [
    "# Les 04: strings & regex\n",
    "## Rauwe strings in Python zijn belangrijk voor regex!"
   ],
   "cell_type": "markdown",
   "metadata": {}
  },
  {
   "cell_type": "code",
   "execution_count": 5,
   "metadata": {},
   "outputs": [
    {
     "output_type": "stream",
     "name": "stdout",
     "text": [
      "Dit is een string\nDit is een string\n's Morgens schijnt de zon\nIk zeg \"Hallo\"\n's Morgens zegt ik \"Hallo\" \n's Morgens zegt ik \\\"Hallo\\\" \n"
     ]
    }
   ],
   "source": [
    "print(\"Dit is een string\")\n",
    "print('Dit is een string')\n",
    "print(\"'s Morgens schijnt de zon\")\n",
    "print('Ik zeg \"Hallo\"')\n",
    "print(\"'s Morgens zegt ik \\\"Hallo\\\" \")\n",
    "print(r\"'s Morgens zegt ik \\\"Hallo\\\" \")"
   ]
  },
  {
   "source": [
    "## Strings behandelen als een lijst"
   ],
   "cell_type": "markdown",
   "metadata": {}
  },
  {
   "cell_type": "code",
   "execution_count": 15,
   "metadata": {},
   "outputs": [
    {
     "output_type": "stream",
     "name": "stdout",
     "text": [
      "s\ns een s\nDti e tig\ngnirts nee si tiD\nTrue\nTrue\nFalse\nFalse\n"
     ]
    }
   ],
   "source": [
    "string = \"Dit is een string\"\n",
    "print(string[5])\n",
    "print(string[5:12])\n",
    "print(string[::2])\n",
    "print(string[::-1])\n",
    "\n",
    "woord = \"racecar\"\n",
    "print(woord == woord[::-1]) ## checken op palindroom\n",
    "\n",
    "print(\"is\" in string)\n",
    "print(\"Is\" in string)\n",
    "print(\"is\" not in string)\n"
   ]
  },
  {
   "source": [
    "## Split & join"
   ],
   "cell_type": "markdown",
   "metadata": {}
  },
  {
   "cell_type": "code",
   "execution_count": 32,
   "metadata": {},
   "outputs": [
    {
     "output_type": "stream",
     "name": "stdout",
     "text": [
      "['Dit', 'is', 'een', 'beetje', 'een', 'rare', 'string']\n['Dit is             ', '', 'n b', '', 'tj', '      ', '', 'n rar', '          string']\n*Dit is*\n* Dit is *\n**\n*  *\n*n b*\n* n b *\n**\n*  *\n*tj*\n* tj *\n**\n*  *\n**\n*  *\n*n rar*\n* n rar *\n*string*\n* string *\n['Dit is             ', ' beetje      ', ' rare          string']\n1-2-3-4-5\nDit*is*een*beetje*een*rare*string\n"
     ]
    }
   ],
   "source": [
    "string =\"Dit is             een beetje      een rare          string\"\n",
    "print(string.split())\n",
    "print(string.split(\"e\"))\n",
    "for x in string.split(\"e\"):\n",
    "    print(\"*\"+x.strip()+\"*\")\n",
    "    print(\"*\",x.strip(),\"*\")\n",
    "\n",
    "print(string.split(\"een\"))\n",
    "\n",
    "print(\"-\".join([\"1\",\"2\",\"3\",\"4\",\"5\"]))\n",
    "print(\"*\".join(string.split()))"
   ]
  },
  {
   "source": [
    "## isX resulteert altijd in True/False"
   ],
   "cell_type": "markdown",
   "metadata": {}
  },
  {
   "cell_type": "code",
   "execution_count": 26,
   "metadata": {},
   "outputs": [
    {
     "output_type": "stream",
     "name": "stdout",
     "text": [
      "dIT**IS**EEN**STRING**MET**CIJFERS**DIGIT**DIGIT**DIGIT**EN**LETTERS**a**b**c**EN**RARE**TEKENS****À**\nTrue\nFalse\n"
     ]
    }
   ],
   "source": [
    "string = \"Dit is een string met cijfers 1 2 3 en letters A B C en rare tekens ( à )\"\n",
    "nieuwe_string = \"\"\n",
    "for c in string:\n",
    "    if c.islower():\n",
    "        nieuwe_string += c.upper()\n",
    "    elif c.isupper():\n",
    "        nieuwe_string += c.lower()\n",
    "    elif c.isspace():\n",
    "        nieuwe_string += \"**\"\n",
    "    elif c.isdigit():\n",
    "        nieuwe_string +=\"DIGIT\"\n",
    "print(nieuwe_string)\n",
    "\n",
    "print(nieuwe_string.endswith(\"*\"))\n",
    "print(nieuwe_string.startswith(\"*\"))"
   ]
  },
  {
   "source": [
    "## ASCII table\n",
    "http://www.asciitable.com/\n"
   ],
   "cell_type": "markdown",
   "metadata": {}
  },
  {
   "cell_type": "code",
   "execution_count": 33,
   "metadata": {},
   "outputs": [
    {
     "output_type": "stream",
     "name": "stdout",
     "text": [
      "68\n105\n116\n32\n105\n115\n32\n101\n101\n110\n32\n115\n116\n114\n105\n110\n103\n32\n109\n101\n116\n32\n99\n105\n106\n102\n101\n114\n115\n32\n49\n32\n50\n32\n51\n32\n101\n110\n32\n108\n101\n116\n116\n101\n114\n115\n32\n65\n32\n66\n32\n67\n32\n101\n110\n32\n114\n97\n114\n101\n32\n116\n101\n107\n101\n110\n115\n32\n40\n32\n224\n32\n41\n"
     ]
    }
   ],
   "source": [
    "string = \"Dit is een string met cijfers 1 2 3 en letters A B C en rare tekens ( à )\"\n",
    "for c in string:\n",
    "    print(ord(c))"
   ]
  },
  {
   "source": [
    "## Pig latin\n",
    "\n",
    "Start met medeklinker --> medeklinker naar achter en ay<br>\n",
    "Start met klinker --> eindigen met way\n",
    "\n",
    "klinkers: a e u i o"
   ],
   "cell_type": "markdown",
   "metadata": {}
  },
  {
   "cell_type": "code",
   "execution_count": 37,
   "metadata": {},
   "outputs": [
    {
     "output_type": "stream",
     "name": "stdout",
     "text": [
      "itday isway eenway tringsay "
     ]
    }
   ],
   "source": [
    "string = \"dit is een string\"\n",
    "for woord in string.split():\n",
    "    if woord[0] in \"aeuio\": #in ('a', 'e', 'u', 'i', 'o') --> tuple\n",
    "        print(woord+\"way\", end=\" \")\n",
    "    else:\n",
    "        print(woord[1:]+woord[0]+\"ay\", end =\" \")"
   ]
  },
  {
   "source": [
    "## Regex\n",
    "https://regexr.com/"
   ],
   "cell_type": "markdown",
   "metadata": {}
  },
  {
   "cell_type": "code",
   "execution_count": 39,
   "metadata": {},
   "outputs": [
    {
     "output_type": "stream",
     "name": "stdout",
     "text": [
      "\n",
      "Please wait a moment while I gather a list of all available modules...\n",
      "\n",
      "C:\\Users\\elkeb\\AppData\\Local\\Packages\\PythonSoftwareFoundation.Python.3.9_qbz5n2kfra8p0\\LocalCache\\local-packages\\Python39\\site-packages\\IPython\\kernel\\__init__.py:12: ShimWarning: The `IPython.kernel` package has been deprecated since IPython 4.0.You should import from ipykernel or jupyter_client instead.\n",
      "  warn(\"The `IPython.kernel` package has been deprecated since IPython 4.0.\"\n",
      "C:\\Program Files\\WindowsApps\\PythonSoftwareFoundation.Python.3.9_3.9.752.0_x64__qbz5n2kfra8p0\\lib\\pkgutil.py:108: VisibleDeprecationWarning: zmq.eventloop.minitornado is deprecated in pyzmq 14.0 and will be removed.\n",
      "    Install tornado itself to use zmq with the tornado IOLoop.\n",
      "    \n",
      "  yield from walk_packages(path, info.name+'.', onerror)\n",
      "C:\\Program Files\\WindowsApps\\PythonSoftwareFoundation.Python.3.9_3.9.752.0_x64__qbz5n2kfra8p0\\lib\\site-packages\\setuptools\\distutils_patch.py:25: UserWarning: Distutils was imported before Setuptools. This usage is discouraged and may exhibit undesirable behaviors or errors. Please use Setuptools' objects directly or at least import Setuptools first.\n",
      "  warnings.warn(\n",
      "IPython             calendar            modulefinder        sympyprinting\n",
      "__future__          certifi             msilib              symtable\n",
      "_abc                cgi                 msvcrt              sys\n",
      "_aix_support        cgitb               multiprocessing     sysconfig\n",
      "_ast                chardet             netbios             tabnanny\n",
      "_asyncio            chunk               netrc               tarfile\n",
      "_bisect             cmath               nntplib             telnetlib\n",
      "_blake2             cmd                 normalizeForInterpreter tempfile\n",
      "_bootlocale         code                nt                  testlauncher\n",
      "_bootsubprocess     codecs              ntpath              tests\n",
      "_bz2                codeop              ntsecuritycon       textwrap\n",
      "_codecs             collections         nturl2path          this\n",
      "_codecs_cn          colorama            numbers             threading\n",
      "_codecs_hk          colorsys            numpy               time\n",
      "_codecs_iso2022     commctrl            odbc                timeit\n",
      "_codecs_jp          compileall          opcode              timer\n",
      "_codecs_kr          completion          operator            tkinter\n",
      "_codecs_tw          concurrent          optparse            token\n",
      "_collections        configparser        os                  tokenize\n",
      "_collections_abc    contextlib          pandas              tornado\n",
      "_compat_pickle      contextvars         parser              trace\n",
      "_compression        copy                parso               traceback\n",
      "_contextvars        copyreg             pathlib             tracemalloc\n",
      "_csv                crypt               pdb                 traitlets\n",
      "_ctypes             csv                 perfmon             tty\n",
      "_datetime           ctypes              pgeocode            turtle\n",
      "_decimal            curses              pickle              turtledemo\n",
      "_elementtree        cythonmagic         pickleshare         types\n",
      "_functools          dataclasses         pickletools         typing\n",
      "_hashlib            datetime            pip                 unicodedata\n",
      "_heapq              dateutil            pipes               unittest\n",
      "_imp                dbi                 pkg_resources       urllib\n",
      "_io                 dbm                 pkgutil             urllib3\n",
      "_json               dde                 platform            uu\n",
      "_locale             decimal             plistlib            uuid\n",
      "_lsprof             decorator           poplib              venv\n",
      "_lzma               difflib             posixpath           visualstudio_py_testlauncher\n",
      "_markupbase         dis                 pprint              vscode_datascience_helpers\n",
      "_md5                distutils           printEnvVariables   warnings\n",
      "_msi                doctest             printEnvVariablesToFile wave\n",
      "_multibytecodec     easy_install        profile             wcwidth\n",
      "_multiprocessing    email               prompt_toolkit      weakref\n",
      "_opcode             encodings           pstats              webbrowser\n",
      "_operator           ensurepip           pty                 win2kras\n",
      "_osx_support        enum                py_compile          win32api\n",
      "_overlapped         errno               pyclbr              win32clipboard\n",
      "_peg_parser         faulthandler        pydoc               win32com\n",
      "_pickle             filecmp             pydoc_data          win32con\n",
      "_py_abc             fileinput           pyexpat             win32console\n",
      "_pydecimal          fnmatch             pygments            win32cred\n",
      "_pyio               folium              pyls_jsonrpc        win32crypt\n",
      "_queue              formatter           pythoncom           win32cryptcon\n",
      "_random             fractions           pytz                win32event\n",
      "_sha1               ftplib              pyvsc-run-isolated  win32evtlog\n",
      "_sha256             functools           pywin               win32evtlogutil\n",
      "_sha3               gc                  pywin32_bootstrap   win32file\n",
      "_sha512             genericpath         pywin32_testutil    win32gui\n",
      "_signal             getopt              pywintypes          win32gui_struct\n",
      "_sitebuiltins       getpass             queue               win32help\n",
      "_socket             gettext             quopri              win32inet\n",
      "_sqlite3            glob                random              win32inetcon\n",
      "_sre                graphlib            rasutil             win32job\n",
      "_ssl                gzip                re                  win32lz\n",
      "_stat               hashlib             regcheck            win32net\n",
      "_statistics         heapq               regutil             win32netcon\n",
      "_string             hellworld           reprlib             win32pdh\n",
      "_strptime           hmac                requests            win32pdhquery\n",
      "_struct             html                rlcompleter         win32pdhutil\n",
      "_symtable           http                rmagic              win32pipe\n",
      "_thread             idlelib             runJediLanguageServer win32print\n",
      "_threading_local    idna                runpy               win32process\n",
      "_tkinter            imaplib             sched               win32profile\n",
      "_tracemalloc        imghdr              secrets             win32ras\n",
      "_uuid               imp                 select              win32rcparser\n",
      "_warnings           importlib           selectors           win32security\n",
      "_weakref            inspect             servicemanager      win32service\n",
      "_weakrefset         install_debugpy     setuptools          win32serviceutil\n",
      "_win32sysloader     interpreterInfo     shell_exec          win32timezone\n",
      "_winapi             io                  shelve              win32trace\n",
      "_winxptheme         ipaddress           shlex               win32traceutil\n",
      "_xxsubinterpreters  ipykernel           shutil              win32transaction\n",
      "_zoneinfo           ipykernel_launcher  signal              win32ts\n",
      "abc                 ipython_genutils    site                win32ui\n",
      "adodbapi            isapi               six                 win32uiole\n",
      "afxres              itertools           smtpd               win32verstamp\n",
      "aifc                jedi                smtplib             win32wnet\n",
      "antigravity         jinja2              sndhdr              winerror\n",
      "argparse            json                socket              winioctlcon\n",
      "array               jupyter             socketserver        winnt\n",
      "ast                 jupyter_client      sqlite3             winperf\n",
      "asynchat            jupyter_core        sre_compile         winreg\n",
      "asyncio             keyword             sre_constants       winsound\n",
      "asyncore            lib2to3             sre_parse           winxpgui\n",
      "atexit              linecache           ssl                 winxptheme\n",
      "audioop             locale              sspi                wsgiref\n",
      "autoreload          logging             sspicon             xdrlib\n",
      "backcall            lzma                stat                xml\n",
      "base64              mailbox             statistics          xmlrpc\n",
      "bdb                 mailcap             storemagic          xxsubtype\n",
      "binascii            markupsafe          string              zipapp\n",
      "binhex              marshal             stringprep          zipfile\n",
      "bisect              math                struct              zipimport\n",
      "branca              mimetypes           subprocess          zlib\n",
      "builtins            mmap                sunau               zmq\n",
      "bz2                 mmapfile            symbol              zoneinfo\n",
      "cProfile            mmsystem            symbolProvider      \n",
      "\n",
      "Enter any module name to get more help.  Or, type \"modules spam\" to search\n",
      "for modules whose name or summary contain the string \"spam\".\n",
      "\n"
     ]
    }
   ],
   "source": [
    "help(\"modules\")"
   ]
  },
  {
   "cell_type": "code",
   "execution_count": 51,
   "metadata": {},
   "outputs": [
    {
     "output_type": "stream",
     "name": "stdout",
     "text": [
      "This is a string 12 4 5 en nog een test 454\n<re.Match object; span=(17, 18), match='1'>\n1\n(17, 18)\n17\n<re.Match object; span=(17, 19), match='12'>\n12\n(17, 19)\n17\n['1', '2', '4', '5', '4', '5', '4']\n['12', '4', '5', '454']\nNone\nNone\n<re.Match object; span=(0, 1), match='1'>\n<re.Match object; span=(0, 2), match='12'>\n"
     ]
    }
   ],
   "source": [
    "import re\n",
    "\n",
    "string = \"This is a string 12 4 5 en nog een test 454\"\n",
    "regex_digit = r'\\d' #[0-9]\n",
    "regex_nr = r'\\d+'\n",
    "\n",
    "print(string)\n",
    "\n",
    "#search = first occurence!\n",
    "result = re.search(regex_digit, string)\n",
    "print(result)\n",
    "print(result.group())\n",
    "print(result.span())\n",
    "print(result.start())\n",
    "\n",
    "result = re.search(regex_nr, string)\n",
    "print(result)\n",
    "print(result.group())\n",
    "print(result.span())\n",
    "print(result.start())\n",
    "\n",
    "result = re.findall(regex_digit, string)\n",
    "print(result)\n",
    "\n",
    "result = re.findall(regex_nr, string)\n",
    "print(result)\n",
    "\n",
    "result = re.match(regex_digit, string)\n",
    "print(result)\n",
    "\n",
    "result = re.match(regex_nr, string)\n",
    "print(result)\n",
    "\n",
    "string = \"12 4 5 en nog een test 454\"\n",
    "result = re.match(regex_digit, string)\n",
    "print(result)\n",
    "\n",
    "result = re.match(regex_nr, string)\n",
    "print(result)"
   ]
  },
  {
   "source": [
    "# Gecompileerd!"
   ],
   "cell_type": "markdown",
   "metadata": {}
  },
  {
   "cell_type": "code",
   "execution_count": 54,
   "metadata": {},
   "outputs": [
    {
     "output_type": "stream",
     "name": "stdout",
     "text": [
      "['12', '4', '5', '454']\n['12', '4', '5', '454']\n"
     ]
    }
   ],
   "source": [
    "import re\n",
    "\n",
    "regex_object = re.compile(r'\\d+')\n",
    "\n",
    "string = \"This is a string 12 4 5 en nog een test 454\"\n",
    "result1 = re.findall(r'\\d+', string) # vertrekken vanuit re-module\n",
    "result2 = regex_object.findall(string) # vertrekken vanuit regex object\n",
    "\n",
    "print(result1)\n",
    "print(result2)"
   ]
  },
  {
   "source": [
    "# Splitten!"
   ],
   "cell_type": "markdown",
   "metadata": {}
  },
  {
   "cell_type": "code",
   "execution_count": 68,
   "metadata": {},
   "outputs": [
    {
     "output_type": "stream",
     "name": "stdout",
     "text": [
      "['This is a string ', ' ', ' ', ' en nog een test ', '']\n['This', 'is', 'a', 'string', '12', '4', '5', 'en', 'nog', 'een', 'test', '454']\n['This is a string 12 ', ' 5 en nog een test ', '5', '']\n['This is a string ', ' ', ' ', ' en nog een test ', '']\n['This', ' ', 'is', ' ', 'a', ' ', 'string', ' ', '', '12', '', ' ', '', '4', '', ' ', '', '5', '', ' ', 'en', ' ', 'nog', ' ', 'een', ' ', 'test', ' ', '', '454', '']\n"
     ]
    }
   ],
   "source": [
    "import re\n",
    "\n",
    "regex_object = re.compile(r'\\d+')\n",
    "\n",
    "string = \"This is a string 12 4 5 en nog een test 454\"\n",
    "result = regex_object.split(string)\n",
    "print(result)\n",
    "\n",
    "print(string.split())\n",
    "print(string.split(\"4\"))\n",
    "print(re.split(r'\\d+', string))\n",
    "\n",
    "# split op cijfers en op spaties\n",
    "print(re.split(r'(\\d+|\\s+)', string))\n"
   ]
  },
  {
   "source": [
    "# Vervangen"
   ],
   "cell_type": "markdown",
   "metadata": {}
  },
  {
   "cell_type": "code",
   "execution_count": 71,
   "metadata": {},
   "outputs": [
    {
     "output_type": "stream",
     "name": "stdout",
     "text": [
      "This is a string NR NR NR en nog een test NR\n"
     ]
    }
   ],
   "source": [
    "import re\n",
    "\n",
    "regex_object = re.compile(r'\\d+')\n",
    "\n",
    "string = \"This is a string 12 4 5 en nog een test 454\"\n",
    "result = regex_object.sub(\"NR\",string)\n",
    "print(result)"
   ]
  },
  {
   "cell_type": "code",
   "execution_count": null,
   "metadata": {},
   "outputs": [],
   "source": []
  }
 ]
}