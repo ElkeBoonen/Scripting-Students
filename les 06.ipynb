{
 "metadata": {
  "language_info": {
   "codemirror_mode": {
    "name": "ipython",
    "version": 3
   },
   "file_extension": ".py",
   "mimetype": "text/x-python",
   "name": "python",
   "nbconvert_exporter": "python",
   "pygments_lexer": "ipython3",
   "version": "3.9.2-final"
  },
  "orig_nbformat": 2,
  "kernelspec": {
   "name": "python3",
   "display_name": "Python 3.9.2 64-bit",
   "metadata": {
    "interpreter": {
     "hash": "a7ff26f83e05060c3a7d34b0e500d2ccaab5c8f85efbdae62ef213692d698dc2"
    }
   }
  }
 },
 "nbformat": 4,
 "nbformat_minor": 2,
 "cells": [
  {
   "source": [
    "# Les 06: API's\n",
    "Werken met API's!\n",
    "\n",
    "## JSON lezen - string & files"
   ],
   "cell_type": "markdown",
   "metadata": {}
  },
  {
   "cell_type": "code",
   "execution_count": null,
   "metadata": {},
   "outputs": [],
   "source": [
    "import json\n",
    "\n",
    "#string JSON example\n",
    "json_data =  '{ \"name\":\"Jason Statham\", \"age\":54, \"city\":\"Chesterfield\"}'\n",
    "print(json_data)\n",
    "data = json.loads(json_data)\n",
    "print(data)\n",
    "print(data[\"age\"]) # result is dictionary!\n"
   ]
  },
  {
   "cell_type": "code",
   "execution_count": null,
   "metadata": {},
   "outputs": [],
   "source": [
    "import json\n",
    "\n",
    "json_file = open(\"books.json\",'r')\n",
    "json_data = json.load(json_file) # load --> werken met file-object\n",
    "json_file.close()\n",
    "\n",
    "print(json_data) # printen alle data"
   ]
  },
  {
   "cell_type": "code",
   "execution_count": null,
   "metadata": {},
   "outputs": [],
   "source": [
    "import json\n",
    "\n",
    "json_file = open(\"books.json\",'r')\n",
    "json_data = json.loads(json_file.read()) # loads -> werken met strings\n",
    "json_file.close()\n",
    "\n",
    "print(json_data[\"books\"][1])\n",
    "print(json_data[\"books\"][5][\"title\"],\"telt\",json_data[\"books\"][5][\"pages\"],\"pagina's\")\n",
    "\n",
    "for book in json_data[\"books\"]:\n",
    "    print(\"*\",book[\"title\"])\n"
   ]
  },
  {
   "source": [
    "## JSON schrijven - string & files"
   ],
   "cell_type": "markdown",
   "metadata": {}
  },
  {
   "cell_type": "code",
   "execution_count": null,
   "metadata": {},
   "outputs": [],
   "source": [
    "import json\n",
    "\n",
    "python_data = { \"name\":\"Jason Statham\", \"age\":54, \"city\":\"Chesterfield\"}\n",
    "print(python_data)\n",
    "\n",
    "json_data = json.dumps(python_data)\n",
    "print(json_data)\n",
    "\n",
    "json_file = open(\"jason.json\",'w')\n",
    "json_file.write(json_data)\n",
    "json_file.close()\n"
   ]
  },
  {
   "cell_type": "code",
   "execution_count": null,
   "metadata": {},
   "outputs": [],
   "source": [
    "import json\n",
    "\n",
    "# creating a dictionary of a list of dictionaries\n",
    "python_data = {}\n",
    "python_data['people'] = []\n",
    "python_data['people'].append({\n",
    "    'name': 'Jason Statham',\n",
    "    'age': '54'\n",
    "})\n",
    "python_data['people'].append({\n",
    "    'name': 'Jason Momoa',\n",
    "    'age': '42'\n",
    "})\n",
    "python_data['people'].append({\n",
    "    'name': 'Jennifer Jason Leigh',\n",
    "    'age': '59'\n",
    "})\n",
    "\n",
    "json_file = open('jason.json', 'w')\n",
    "json.dump(python_data, json_file)\n",
    "json_file.close()\n"
   ]
  },
  {
   "source": [
    "## API's gebruiken!\n",
    "\n",
    "pip install requests\n",
    "\n",
    "--> bij problemen, zoek locatie Python zelf, check Lib, zit packager er in?<br>\n",
    "--> ja, ander probleem ;) typefout ofzoiets<br>\n",
    "--> nee, check dan waar het geinstalleerd is (pip install requests in terminal PS), kopieer locatie, copy paste package naar Lib\n",
    "\n",
    "### Kanye.Rest \n"
   ],
   "cell_type": "markdown",
   "metadata": {}
  },
  {
   "cell_type": "code",
   "execution_count": null,
   "metadata": {},
   "outputs": [],
   "source": [
    "import requests\n",
    "import json\n",
    "\n",
    "response = requests.get(\"https://api.kanye.rest\")\n",
    "print(response)\n",
    "print(response.headers)\n",
    "print(response.status_code)\n",
    "print(response.text)\n",
    "\n",
    "json_data = json.loads(response.text)\n",
    "print(json_data[\"quote\"])\n"
   ]
  },
  {
   "source": [
    "### Dr love & fancy text"
   ],
   "cell_type": "markdown",
   "metadata": {}
  },
  {
   "cell_type": "code",
   "execution_count": null,
   "metadata": {},
   "outputs": [],
   "source": [
    "import requests\n",
    "import json\n",
    "\n",
    "fname = \"Marie\" # input(\"geef eerste naam in\")\n",
    "sname = \"Jef\"\n",
    "\n",
    "api_url = \"https://love-calculator.p.rapidapi.com/getPercentage\"\n",
    "api_headers = {\n",
    "\t\"x-rapidapi-key\": \"<jouw key hier>\",\n",
    "\t\"x-rapidapi-host\": \"love-calculator.p.rapidapi.com\"}\n",
    "api_query = {\n",
    "\t\"fname\": fname,\n",
    "\t\"sname\": sname}\n",
    "\n",
    "response = requests.get(api_url, headers = api_headers, params=api_query)\n",
    "print(response.url)\n",
    "print(response.text)\n",
    "\n",
    "json_data = json.loads(response.text)\n",
    "print(fname,\"&\",sname,\"match is \", json_data[\"result\"])\n",
    "\n",
    "\n",
    "\n",
    "api_url2 = \"https://ajith-fancy-text-v1.p.rapidapi.com/text\"\n",
    "api_query2 = {\"text\": json_data[\"result\"]}\n",
    "api_headers2 = {\n",
    "\t\"x-rapidapi-key\": \"<jouw key hier>\",\n",
    "\t\"x-rapidapi-host\": \"ajith-Fancy-text-v1.p.rapidapi.com\"}\n",
    "\n",
    "response2 = requests.get(api_url2, headers = api_headers2, params=api_query2)\n",
    "print(response2.status_code)\n",
    "print(response2.url)\n",
    "json_data2 = json.loads(response2.text)\n",
    "print(json_data2[\"fancytext\"])\n",
    "\n"
   ]
  },
  {
   "source": [
    "### Andere funny api's\n",
    "\n",
    "https://apilist.fun/"
   ],
   "cell_type": "markdown",
   "metadata": {}
  }
 ]
}