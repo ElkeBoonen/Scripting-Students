{
 "cells": [
  {
   "attachments": {},
   "cell_type": "markdown",
   "metadata": {},
   "source": [
    "# Python basics 03 : class 2/03\n",
    "\n",
    "Working with packages, eg Numpy https://numpy.org/doc/stable/user/absolute_beginners.html\n",
    "and Pythonic code.\n",
    "\n",
    "Ik you have problems installing packages (if pip is not recognized) see this https://www.dataquest.io/blog/install-pip-windows/  [see the get-pip.py-file](/01%20Python%20basics/get-pip.py)"
   ]
  },
  {
   "cell_type": "code",
   "execution_count": null,
   "metadata": {},
   "outputs": [],
   "source": [
    "! pip install numpy"
   ]
  },
  {
   "attachments": {},
   "cell_type": "markdown",
   "metadata": {},
   "source": [
    "## Import Numpy"
   ]
  },
  {
   "cell_type": "code",
   "execution_count": null,
   "metadata": {},
   "outputs": [],
   "source": [
    "import numpy\n",
    "import numpy as np\n",
    "\n",
    "from numpy import arange"
   ]
  },
  {
   "attachments": {},
   "cell_type": "markdown",
   "metadata": {},
   "source": [
    "## Creating arrays\n",
    "\n",
    "Array elements must have the same type"
   ]
  },
  {
   "cell_type": "code",
   "execution_count": null,
   "metadata": {},
   "outputs": [],
   "source": [
    "import numpy as np\n",
    "\n",
    "list = [1, 5, 8, 10, 3]\n",
    "print(list)\n",
    "array = np.array(list)\n",
    "print(array)\n",
    "\n",
    "print(list*2)\n",
    "print(array*2)\n",
    "\n",
    "list.append(2)\n",
    "# array.append(2) --> not possible! It's fixed size!\n",
    "\n",
    "# 1D arrays\n",
    "print(np.arange(10)) # exluded upperbound\n",
    "print(np.zeros(10))\n",
    "print(np.ones(10))\n",
    "print(np.full(10,5))\n",
    "print(np.random.randint(-5,6, 10))\n",
    "print(np.random.random(10))\n",
    "\n",
    "# 2D arrays\n",
    "print(np.zeros((4,3))) # adding a tuple witj dimensions for more dimensional arrays\n",
    "print(np.full((2,10),7))\n",
    "print(np.random.randint(-10,10,(2,4,3)))"
   ]
  },
  {
   "attachments": {},
   "cell_type": "markdown",
   "metadata": {},
   "source": [
    "## Reshaping & converting an array\n"
   ]
  },
  {
   "cell_type": "code",
   "execution_count": null,
   "metadata": {},
   "outputs": [],
   "source": [
    "import numpy as np\n",
    "\n",
    "array = np.random.randint(-5,6,10)\n",
    "print(array)\n",
    "\n",
    "print(\"array is of type:\",array.dtype)\n",
    "\n",
    "array_float = array.astype('f')\n",
    "print(array_float)\n",
    "\n",
    "array_string = array.astype(str)\n",
    "print(array_string)\n",
    "\n",
    "array_2D = np.reshape(array, (2,5))\n",
    "print(array_2D)\n",
    "\n",
    "array_2D = np.reshape(array, (5,2))\n",
    "print(array_2D)\n",
    "\n",
    "# needs to be perfect fit!\n",
    "# array_2D = np.reshape(array, (3,3)) --> ValueError: cannot reshape array of size 10 into shape (3,3)\n",
    "# array_2D = np.reshape(array, (2,6)) --> cannot reshape array of size 10 into shape (2,6)"
   ]
  },
  {
   "attachments": {},
   "cell_type": "markdown",
   "metadata": {},
   "source": [
    "## Slicing arrays\n",
    "\n",
    "[start:end:step]\n",
    "\n",
    "- start: starting value\n",
    "- end: ending value\n",
    "- step: stepsize"
   ]
  },
  {
   "cell_type": "code",
   "execution_count": null,
   "metadata": {},
   "outputs": [],
   "source": [
    "import numpy as np\n",
    "\n",
    "array = np.array([6, 8, 6, 7, 6, 1, 8, 2, 0, 5])\n",
    "print(array)\n",
    "\n",
    "print(array[1:5:1])     # [8 6 7 6]\n",
    "print(array[1:5:])      # [8 6 7 6]\n",
    "print(array[1:5:2])     # [8 7]\n",
    "\n",
    "print(array[0:5:1])     # [6 8 6 7 6]\n",
    "print(array[:5:1])      # [6 8 6 7 6]\n",
    "\n",
    "print(array[0::1])      # [6 8 6 7 6 1 8 2 0 5]\n",
    "print(array[0:10:1])    # [6 8 6 7 6 1 8 2 0 5]\n",
    "\n",
    "print(array[::-1])      # [5 0 2 8 1 6 7 6 8 6] --> reverse array\n",
    "print(array[0:10:-1])   # []\n",
    "print(array[10::-1])    # [5 0 2 8 1 6 7 6 8 6]\n",
    "\n",
    "print(array[::2])       # [6 6 6 8 0]\n",
    "print(array[::-2])      # [5 2 1 7 8]"
   ]
  },
  {
   "attachments": {},
   "cell_type": "markdown",
   "metadata": {},
   "source": [
    "## Working with arrays"
   ]
  },
  {
   "cell_type": "code",
   "execution_count": null,
   "metadata": {},
   "outputs": [],
   "source": [
    "import numpy as np\n",
    "\n",
    "a = np.arange(0,10)\n",
    "b = np.arange(9,-1,-1)\n",
    "print(a,b)  # [0 1 2 3 4 5 6 7 8 9] [9 8 7 6 5 4 3 2 1 0]\n",
    "\n",
    "print(a+b)\n",
    "print(a-b)\n",
    "print(a*b)\n",
    "\n",
    "print(np.where(a%2 ==0, a+1, a)) # creating an array with only odd numbers --> [1 1 3 3 5 5 7 7 9 9]\n",
    "\n",
    "print(np.where(b > 5)) # you get the indexes back [0, 1, 2, 3]\n",
    "print(np.where(b > 5,b,0))\n",
    "\n",
    "print(a.sum())\n",
    "print(a.min())\n",
    "print(a.max())\n",
    "\n",
    "print(np.sqrt(a))"
   ]
  },
  {
   "attachments": {},
   "cell_type": "markdown",
   "metadata": {},
   "source": [
    "### Exercise: It's magic time!\n",
    "\n",
    "Read a 1D array and a number of rows! Convert this 1D array to a 2D array! Calculate the sum of each column and if all sums are equal... you are dealing with a magic table!\n",
    "\n",
    "<b>input</b><br>\n",
    "2 7 0 8 4 1 1 0 10<br>\n",
    "3<br>\n",
    "<b>output</b><br>\n",
    "True\n",
    "\n",
    "<pre>\n",
    "2   7   0\n",
    "8   4   1\n",
    "1   0   10\n",
    "<i>11  11  11</i> --> MAGIC TABLE\n",
    "</pre>"
   ]
  },
  {
   "cell_type": "code",
   "execution_count": 94,
   "metadata": {},
   "outputs": [
    {
     "name": "stdout",
     "output_type": "stream",
     "text": [
      "[[ 2  7  0]\n",
      " [ 8  4  1]\n",
      " [ 1  0 10]]\n",
      "[11 11 11]\n",
      "magic table\n",
      "magic table\n"
     ]
    }
   ],
   "source": [
    "import numpy as np\n",
    "\n",
    "input_array = input(\"Input array\").split()  # 2 7 0 8 4 1 1 0 10, first split the string into a list\n",
    "array = np.array(input_array).astype(int)   # convert list to array and convert every element to integer!\n",
    "\n",
    "rows = int(input(\"Number of rows\"))\n",
    "cols = len(array)//rows\n",
    "\n",
    "matrix = np.reshape(array, (rows, cols))\n",
    "print(matrix)\n",
    "\n",
    "sums = np.sum(matrix, axis=0) \n",
    "print(sums)\n",
    "\n",
    "sum = np.sum(sums)\n",
    "if sum//cols == sums[0]:\n",
    "    print(\"magic table\")\n",
    "else:\n",
    "    print(\"no magic here!\")\n",
    "\n",
    "# other approach for checking if the table is magic\n",
    "check = True\n",
    "for value in sums:\n",
    "    if value != sums[0]:\n",
    "        check = False\n",
    "        break\n",
    "\n",
    "if check is True:\n",
    "    print(\"magic table\")\n",
    "else:\n",
    "    print(\"no magic here!\")"
   ]
  },
  {
   "attachments": {},
   "cell_type": "markdown",
   "metadata": {},
   "source": [
    "## Pythonic code"
   ]
  },
  {
   "cell_type": "code",
   "execution_count": 95,
   "metadata": {},
   "outputs": [
    {
     "name": "stdout",
     "output_type": "stream",
     "text": [
      "The Zen of Python, by Tim Peters\n",
      "\n",
      "Beautiful is better than ugly.\n",
      "Explicit is better than implicit.\n",
      "Simple is better than complex.\n",
      "Complex is better than complicated.\n",
      "Flat is better than nested.\n",
      "Sparse is better than dense.\n",
      "Readability counts.\n",
      "Special cases aren't special enough to break the rules.\n",
      "Although practicality beats purity.\n",
      "Errors should never pass silently.\n",
      "Unless explicitly silenced.\n",
      "In the face of ambiguity, refuse the temptation to guess.\n",
      "There should be one-- and preferably only one --obvious way to do it.\n",
      "Although that way may not be obvious at first unless you're Dutch.\n",
      "Now is better than never.\n",
      "Although never is often better than *right* now.\n",
      "If the implementation is hard to explain, it's a bad idea.\n",
      "If the implementation is easy to explain, it may be a good idea.\n",
      "Namespaces are one honking great idea -- let's do more of those!\n"
     ]
    }
   ],
   "source": [
    "import this"
   ]
  },
  {
   "attachments": {},
   "cell_type": "markdown",
   "metadata": {},
   "source": [
    "### Exercise: Jokes\n",
    "\n",
    "https://pypi.org/project/pyjokes/\n",
    "\n",
    "Your task is to create a Python program that uses the pyjokes package to generate random jokes. The program should prompt the user to select a category of jokes and then display a random joke from that category.\n",
    "\n",
    "- Install the pyjokes package using pip.\n",
    "- Create a new Python script named joke_generator.py.\n",
    "- Import the pyjokes package.\n",
    "- Display a menu of joke categories to the user. The menu should include at least three categories, such as \"programming\", \"general\", and \"knock-knock\".\n",
    "- Prompt the user to select a category by entering the corresponding number.\n",
    "- Use the pyjokes package to generate a random joke from the selected category.\n",
    "- Display the joke to the user.\n",
    "- Ask the user if they want to hear another joke from the same category. If they say yes, generate and display another joke from the same category. If they say no, return to the main menu."
   ]
  },
  {
   "cell_type": "code",
   "execution_count": 97,
   "metadata": {},
   "outputs": [
    {
     "name": "stdout",
     "output_type": "stream",
     "text": [
      "Requirement already satisfied: pyjokes in c:\\users\\elkeb\\appdata\\local\\programs\\python\\python37\\lib\\site-packages (0.6.0)\n"
     ]
    }
   ],
   "source": [
    "! pip install pyjokes"
   ]
  },
  {
   "cell_type": "code",
   "execution_count": 102,
   "metadata": {},
   "outputs": [
    {
     "name": "stdout",
     "output_type": "stream",
     "text": [
      "3 Database Admins walked into a NoSQL bar. A little while later they walked out because they couldn't find a table.\n",
      "Chuck Norris can dereference NULL.\n",
      "Chuck Norris finished World of Warcraft.\n",
      "With Chuck Norris P = NP. There's no nondeterminism with Chuck Norris decisions.\n",
      "Chuck Norris's unit tests don't run. They die.\n",
      "\n"
     ]
    }
   ],
   "source": [
    "import pyjokes\n",
    "\n",
    "def PrintJoke(category):\n",
    "    joke = \"\"\n",
    "    if category == \"1\":\n",
    "        joke = pyjokes.get_joke(language=\"en\", category= \"neutral\")\n",
    "    elif category == \"2\":\n",
    "        joke = pyjokes.get_joke(language=\"en\", category= \"chuck\")\n",
    "    elif category == \"3\":\n",
    "        joke = pyjokes.get_joke(language=\"en\", category= \"all\")\n",
    "    print(joke)\n",
    "\n",
    "category = input(\"Choos the category (1) neutral (2) chuck norris (3) all\")\n",
    "\n",
    "while category in \"123\":\n",
    "    PrintJoke(category)\n",
    "    while input(\"another one? \").lower() == \"yes\":\n",
    "        PrintJoke(category)\n",
    "    category = input(\"Choos the category (1) neutral (2) chuck norris (3) all, something else to stop\")\n"
   ]
  }
 ],
 "metadata": {
  "kernelspec": {
   "display_name": "Python 3",
   "language": "python",
   "name": "python3"
  },
  "language_info": {
   "codemirror_mode": {
    "name": "ipython",
    "version": 3
   },
   "file_extension": ".py",
   "mimetype": "text/x-python",
   "name": "python",
   "nbconvert_exporter": "python",
   "pygments_lexer": "ipython3",
   "version": "3.7.4"
  },
  "orig_nbformat": 4
 },
 "nbformat": 4,
 "nbformat_minor": 2
}
