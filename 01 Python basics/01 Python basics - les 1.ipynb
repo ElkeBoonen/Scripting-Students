{
 "cells": [
  {
   "cell_type": "markdown",
   "metadata": {},
   "source": [
    "# Les 1 - 14/2 - Python basics\n",
    "\n",
    "## De echte basis\n",
    "- print statement\n",
    "- input"
   ]
  },
  {
   "cell_type": "code",
   "execution_count": 2,
   "metadata": {},
   "outputs": [
    {
     "name": "stdout",
     "output_type": "stream",
     "text": [
      "hello world\n"
     ]
    }
   ],
   "source": [
    "print(\"hello world\") # print statement"
   ]
  },
  {
   "cell_type": "code",
   "execution_count": 3,
   "metadata": {},
   "outputs": [
    {
     "name": "stdout",
     "output_type": "stream",
     "text": [
      "hello elke\n",
      "hello elke\n"
     ]
    }
   ],
   "source": [
    "name = input(\"Geef je naam\")\n",
    "print(\"hello\",name)\n",
    "print(\"hello \" + name)"
   ]
  },
  {
   "cell_type": "markdown",
   "metadata": {},
   "source": [
    "- str = string\n",
    "- float = decimaal getal\n",
    "- int = geheel getal "
   ]
  },
  {
   "cell_type": "code",
   "execution_count": 11,
   "metadata": {},
   "outputs": [
    {
     "name": "stdout",
     "output_type": "stream",
     "text": [
      "<class 'str'>\n",
      "5 <class 'str'>\n",
      "5 <class 'int'>\n",
      "5.0 <class 'float'>\n"
     ]
    }
   ],
   "source": [
    "variable = input(\"Geef iets in\")\n",
    "print(type(variable))\n",
    "\n",
    "print(variable, type(variable))\n",
    "\n",
    "variable = int(variable)\n",
    "print(variable, type(variable))\n",
    "\n",
    "variable = float(variable)\n",
    "print(variable, type(variable))\n"
   ]
  },
  {
   "cell_type": "markdown",
   "metadata": {},
   "source": [
    "## Expressies"
   ]
  },
  {
   "cell_type": "code",
   "execution_count": 16,
   "metadata": {},
   "outputs": [
    {
     "name": "stdout",
     "output_type": "stream",
     "text": [
      "20\n",
      "6\n",
      "91\n",
      "1.8571428571428572\n",
      "1\n",
      "6\n",
      "62748517\n",
      "13 is hetzelfde als 13\n",
      "False\n",
      "False\n",
      "True\n",
      "True\n",
      "True\n",
      "False\n",
      "20\n"
     ]
    }
   ],
   "source": [
    "x = 13\n",
    "y = 7\n",
    "\n",
    "print(x+y)\n",
    "print(x-y)\n",
    "print(x*y)\n",
    "print(x/y)\n",
    "print(x//y) # rondt niet af! kapt af!\n",
    "print(x%y)\n",
    "print(x**y)\n",
    "print(((x//y) * y) + x%y, \"is hetzelfde als\",x)\n",
    "\n",
    "\n",
    "print(x < y)\n",
    "print(x <=y)\n",
    "print(x > y)\n",
    "print(x >= y)\n",
    "print(x != y)\n",
    "print(x == y)\n",
    "\n",
    "x += y \n",
    "print(x)\n"
   ]
  },
  {
   "cell_type": "code",
   "execution_count": 23,
   "metadata": {},
   "outputs": [
    {
     "name": "stdout",
     "output_type": "stream",
     "text": [
      "ELKE\n",
      "3lk3\n",
      "elke\n",
      "<class 'str'>\n",
      "3LK3\n"
     ]
    }
   ],
   "source": [
    "text = \"elke\"\n",
    "print(text.upper())\n",
    "print(text.replace(\"e\",\"3\"))\n",
    "print(text.lower())\n",
    "print(text.__class__)\n",
    "\n",
    "text = text.replace(\"e\",\"3\")\n",
    "print(text.upper())"
   ]
  },
  {
   "cell_type": "markdown",
   "metadata": {},
   "source": [
    "### Oefeningen\n",
    "- Vind de lengte van een string en herhaal een karakter die lengte keer.\n",
    "- Converteer een karakter naar zijn ASCII-waarde en vervolgens terug naar het karakter.\n",
    "- Zet een getal om naar binaire & hexadecimale representatie.\n",
    "\n",
    "https://www.w3schools.com/python/python_ref_functions.asp"
   ]
  },
  {
   "cell_type": "code",
   "execution_count": 29,
   "metadata": {},
   "outputs": [
    {
     "name": "stdout",
     "output_type": "stream",
     "text": [
      "15\n",
      "eeeeeeeeeeeeeee\n"
     ]
    }
   ],
   "source": [
    "text = \"dit is een text\"\n",
    "length = len(text)\n",
    "print(length)\n",
    "\n",
    "print(\"e\"*length)"
   ]
  },
  {
   "cell_type": "code",
   "execution_count": 38,
   "metadata": {},
   "outputs": [
    {
     "name": "stdout",
     "output_type": "stream",
     "text": [
      "<class 'str'>\n",
      "<class 'str'>\n",
      "Dit is een 'test'\n",
      "Dit is een \"test\"\n",
      "97\n",
      "a\n"
     ]
    }
   ],
   "source": [
    "# Converteer een karakter naar zijn ASCII-waarde en vervolgens terug naar het karakter.\n",
    "char = input(\"Geef een karakter in\")\n",
    "print(type(char))\n",
    "char = 'a'\n",
    "print(type(char))\n",
    "\n",
    "print(\"Dit is een 'test'\")\n",
    "print('Dit is een \"test\"')\n",
    "\n",
    "print(ord(char)) # waarde opgezocht in ASCII tabel https://www.asciitable.com/\n",
    "print(chr(ord(char)))"
   ]
  },
  {
   "cell_type": "code",
   "execution_count": 39,
   "metadata": {},
   "outputs": [
    {
     "name": "stdout",
     "output_type": "stream",
     "text": [
      "0b1101\n",
      "0xd\n"
     ]
    }
   ],
   "source": [
    "# - Zet een getal om naar binaire & hexadecimale representatie.\n",
    "\n",
    "nr = int(input(\"Geef een getal in\"))\n",
    "\n",
    "# nr = input(\"Geef een getal in\")\n",
    "# nr = int(nr)\n",
    "\n",
    "print(bin(nr))\n",
    "print(hex(nr))"
   ]
  },
  {
   "cell_type": "markdown",
   "metadata": {},
   "source": [
    "## If structuren"
   ]
  },
  {
   "cell_type": "code",
   "execution_count": 46,
   "metadata": {},
   "outputs": [
    {
     "name": "stdout",
     "output_type": "stream",
     "text": [
      "6 is even\n",
      "6 is even\n",
      "20\n"
     ]
    }
   ],
   "source": [
    "nr = int(input(\"Geef een getal!\"))\n",
    "\n",
    "if nr % 2 != 0: # nr % 2 == 1\n",
    "    print(nr, \"is oneven\")\n",
    "elif nr == 0:\n",
    "    print(nr, \"is blijkbaar 0\")\n",
    "else:\n",
    "    print(nr, \"is even\")\n",
    "\n",
    "if nr % 2 == 0 and nr != 0:\n",
    "    print(nr, \"is even\")\n",
    "elif nr == 0:\n",
    "    print(nr, \"is blijkbaar 0\")\n",
    "else:\n",
    "    print(nr, \"is oneven\")\n",
    "\n"
   ]
  },
  {
   "cell_type": "markdown",
   "metadata": {},
   "source": [
    "## Lussen\n",
    "\n",
    "- for : weet hoe vaak iets moet doorlopen worden, typisch lijsten doorlopen\n",
    "- while: aantal keer lopen hangt af van voorwaarde, je weet het niet vantevoren!"
   ]
  },
  {
   "cell_type": "code",
   "execution_count": 57,
   "metadata": {},
   "outputs": [
    {
     "name": "stdout",
     "output_type": "stream",
     "text": [
      "0 1 2 3 4 5 6 7 8 9 \n",
      "0 1 2 3 4 5 6 7 8 9 10 \n",
      "-10 -9 -8 -7 -6 -5 -4 -3 -2 -1 0 1 2 3 4 5 6 7 8 9 \n",
      "-10 -8 -6 -4 -2 0 2 4 6 8 \n",
      "10 9 8 7 6 5 4 3 2 1 \n",
      "10 7 4 1 \n",
      "d i t   i s   e e n   z i n "
     ]
    }
   ],
   "source": [
    "for i in range(10):\n",
    "    print(i, end=\" \")\n",
    "\n",
    "print()\n",
    "for i in range(11):\n",
    "    print(i, end=\" \")\n",
    "\n",
    "print()\n",
    "for i in range(-10,10):\n",
    "    print(i, end =\" \")\n",
    "\n",
    "print()\n",
    "for i in range(-10,10,2):\n",
    "    print(i, end =\" \")\n",
    "\n",
    "print()\n",
    "for i in range(10,0,-1):\n",
    "    print(i, end =\" \")\n",
    "\n",
    "print()\n",
    "for i in range(10,-1,-3):\n",
    "    print(i, end =\" \")\n",
    "\n",
    "print()\n",
    "for i in \"dit is een zin\":\n",
    "    print(i, end =\" \")"
   ]
  },
  {
   "cell_type": "code",
   "execution_count": 59,
   "metadata": {},
   "outputs": [
    {
     "name": "stdout",
     "output_type": "stream",
     "text": [
      "\n",
      "*\n",
      "**\n",
      "***\n",
      "****\n",
      "\n",
      "*\n",
      "**\n",
      "***\n",
      "****\n"
     ]
    }
   ],
   "source": [
    "for i in range(0,5):\n",
    "    for j in range(i):\n",
    "        print(\"*\",end=\"\")\n",
    "    print()\n",
    "\n",
    "for i in range(0,5):\n",
    "    print(\"*\"*i)"
   ]
  }
 ],
 "metadata": {
  "kernelspec": {
   "display_name": "Python 3",
   "language": "python",
   "name": "python3"
  },
  "language_info": {
   "codemirror_mode": {
    "name": "ipython",
    "version": 3
   },
   "file_extension": ".py",
   "mimetype": "text/x-python",
   "name": "python",
   "nbconvert_exporter": "python",
   "pygments_lexer": "ipython3",
   "version": "3.7.4"
  }
 },
 "nbformat": 4,
 "nbformat_minor": 2
}
