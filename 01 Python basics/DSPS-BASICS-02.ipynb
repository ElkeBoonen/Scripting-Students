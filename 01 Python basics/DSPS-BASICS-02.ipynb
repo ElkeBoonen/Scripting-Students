{
 "cells": [
  {
   "attachments": {},
   "cell_type": "markdown",
   "metadata": {},
   "source": [
    "# Python basics : class 23/02\n",
    "\n",
    "## Repetition is the mother of all learning\n",
    "### Exercise: sequence of Hailstone\n",
    "- If n is 1 then the sequence ends.\n",
    "- If n is even then the next n of the sequence = n/2\n",
    "- If n is odd then the next n of the sequence = (3 * n) + 1\n"
   ]
  },
  {
   "cell_type": "code",
   "execution_count": 8,
   "metadata": {},
   "outputs": [
    {
     "name": "stdout",
     "output_type": "stream",
     "text": [
      "Hailstone sequence 100 50 25 76 38 19 58 29 88 44 22 11 34 17 52 26 13 40 20 10 5 16 8 4 2 1 "
     ]
    }
   ],
   "source": [
    "n = input(\"Enter n\")\n",
    "n = int(n) # convert n to an integer\n",
    "\n",
    "print(\"Hailstone sequence\",n, end=\" \")\n",
    "while n > 1:\n",
    "    if n % 2 == 0:  # n is even!\n",
    "        n //= 2     # n = n // 2 --> same expression\n",
    "    else:\n",
    "        n = (3*n) + 1\n",
    "    print(n, end=\" \")\n",
    "    "
   ]
  },
  {
   "attachments": {},
   "cell_type": "markdown",
   "metadata": {},
   "source": [
    "## Functions\n",
    "\n",
    "In Python, a function is a reusable block of code that performs a specific task. Functions can take input parameters, process them, and optionally return a result. To define a function in Python, you need to use the def keyword followed by the function name and the input parameter(s) enclosed in parentheses. \n",
    "\n",
    "    def name(parameter1, parameter2):\n",
    "      //do something with parameters\n",
    "      return value\n",
    "\n",
    "Create a function that counts the vowel (aeuio) in a word - 4 different ways\n",
    "- function with no parameters & no return\n",
    "- function with no parameters & return\n",
    "- function with parameters & no return\n",
    "- function with parameters & return"
   ]
  },
  {
   "cell_type": "code",
   "execution_count": 12,
   "metadata": {},
   "outputs": [
    {
     "name": "stdout",
     "output_type": "stream",
     "text": [
      "apple has 2 vowels\n"
     ]
    }
   ],
   "source": [
    "# function with no parameters & no return\n",
    "def CountVowelNPNR():\n",
    "    word = input(\"Enter a word\")\n",
    "    count = 0\n",
    "    for c in word:\n",
    "        if c == 'a' or c == 'e' or c == \"i\" or c =='o' or c == 'u':\n",
    "            count += 1  # count = count + 1, we can't use ++ in Python!\n",
    "    print(word,\"has\",count,\"vowels\")\n",
    "\n",
    "CountVowelNPNR()"
   ]
  },
  {
   "cell_type": "code",
   "execution_count": 14,
   "metadata": {},
   "outputs": [
    {
     "name": "stdout",
     "output_type": "stream",
     "text": [
      "apple has 2 vowels\n"
     ]
    }
   ],
   "source": [
    "# function with no parameters & return\n",
    "def CountVowelNPR():\n",
    "    word = input(\"Enter a word\")\n",
    "    count = 0\n",
    "    for c in word:\n",
    "        if c == 'a' or c == 'e' or c == \"i\" or c =='o' or c == 'u':\n",
    "            count += 1  # count = count + 1, we can't use ++ in Python!\n",
    "    return word + \" has \" + str(count) +\" vowels\"\n",
    "\n",
    "print(CountVowelNPR())\n"
   ]
  },
  {
   "cell_type": "code",
   "execution_count": 24,
   "metadata": {},
   "outputs": [
    {
     "name": "stdout",
     "output_type": "stream",
     "text": [
      "apple has 2 vowels\n",
      "parameters has 4 vowels\n",
      "4\n",
      "2\n",
      "2\n"
     ]
    }
   ],
   "source": [
    "# function with parameters & return\n",
    "# the best approach!!!\n",
    "\n",
    "def CountVowelPR(word):\n",
    "    count = 0\n",
    "    for c in word.lower():\n",
    "        if c == 'a' or c == 'e' or c == \"i\" or c =='o' or c == 'u':\n",
    "            count += 1  # count = count + 1, we can't use ++ in Python!\n",
    "    return count\n",
    "\n",
    "word = input(\"Enter a word\")\n",
    "print(word,\"has\",CountVowelPR(word), \"vowels\")\n",
    "\n",
    "print(\"parameters\",\"has\",CountVowelPR(\"parameters\"), \"vowels\")\n",
    "print(CountVowelPR(\"selection\"))\n",
    "print(CountVowelPR(\"apple\"))\n",
    "print(CountVowelPR(\"APPLE\")) # make sure that it recognizes also uppercase characters!\n"
   ]
  },
  {
   "attachments": {},
   "cell_type": "markdown",
   "metadata": {},
   "source": [
    "### Exercise: next prime\n",
    "Find next prime number, use a function!\n",
    "\n",
    "<i>A prime number is a positive integer greater than 1 that has no positive integer divisors other than 1 and itself. In other words, a prime number is a number that is divisible only by 1 and itself. For example, 2, 3, 5, 7, 11, 13, 17, 19, 23, 29, 31, 37, and so on, are all prime numbers.</i>"
   ]
  },
  {
   "cell_type": "code",
   "execution_count": 29,
   "metadata": {},
   "outputs": [
    {
     "name": "stdout",
     "output_type": "stream",
     "text": [
      "True 7\n",
      "False 17\n",
      "False 1009\n",
      "True 1013\n"
     ]
    }
   ],
   "source": [
    "def IsPrime(number):\n",
    "    count = 0\n",
    "    for i in range(1,number+1):\n",
    "        if number % i == 0:\n",
    "            count +=1\n",
    "    if count == 2:\n",
    "        return True     #capitalized True/False!!!\n",
    "    else:\n",
    "        return False\n",
    "\n",
    "def NextPrime(number):\n",
    "    number += 1\n",
    "    while not IsPrime(number):\n",
    "        number+=1\n",
    "    return number\n",
    "\n",
    "print(IsPrime(5), NextPrime(5))\n",
    "print(IsPrime(15), NextPrime(15))\n",
    "print(IsPrime(1000), NextPrime(1000))\n",
    "print(IsPrime(1009), NextPrime(1009))"
   ]
  }
 ],
 "metadata": {
  "kernelspec": {
   "display_name": "Python 3",
   "language": "python",
   "name": "python3"
  },
  "language_info": {
   "codemirror_mode": {
    "name": "ipython",
    "version": 3
   },
   "file_extension": ".py",
   "mimetype": "text/x-python",
   "name": "python",
   "nbconvert_exporter": "python",
   "pygments_lexer": "ipython3",
   "version": "3.11.2"
  },
  "orig_nbformat": 4,
  "vscode": {
   "interpreter": {
    "hash": "592dbb3af1cefdf1db2c3ce44df4f5e817be23969bceca6ee01d4e52efc0b099"
   }
  }
 },
 "nbformat": 4,
 "nbformat_minor": 2
}
