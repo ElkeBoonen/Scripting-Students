{
 "cells": [
  {
   "attachments": {},
   "cell_type": "markdown",
   "metadata": {},
   "source": [
    "# Python basics : class 23/02\n",
    "\n",
    "## Repetition is the mother of all learning\n",
    "### Exercise: sequence of Hailstone\n",
    "- If n is 1 then the sequence ends.\n",
    "- If n is even then the next n of the sequence = n/2\n",
    "- If n is odd then the next n of the sequence = (3 * n) + 1\n"
   ]
  },
  {
   "cell_type": "code",
   "execution_count": 8,
   "metadata": {},
   "outputs": [
    {
     "name": "stdout",
     "output_type": "stream",
     "text": [
      "Hailstone sequence 100 50 25 76 38 19 58 29 88 44 22 11 34 17 52 26 13 40 20 10 5 16 8 4 2 1 "
     ]
    }
   ],
   "source": [
    "n = input(\"Enter n\")\n",
    "n = int(n) # convert n to an integer\n",
    "\n",
    "print(\"Hailstone sequence\",n, end=\" \")\n",
    "while n > 1:\n",
    "    if n % 2 == 0:  # n is even!\n",
    "        n //= 2     # n = n // 2 --> same expression\n",
    "    else:\n",
    "        n = (3*n) + 1\n",
    "    print(n, end=\" \")\n",
    "    "
   ]
  },
  {
   "attachments": {},
   "cell_type": "markdown",
   "metadata": {},
   "source": [
    "## Functions\n",
    "\n",
    "In Python, a function is a reusable block of code that performs a specific task. Functions can take input parameters, process them, and optionally return a result. To define a function in Python, you need to use the def keyword followed by the function name and the input parameter(s) enclosed in parentheses. \n",
    "\n",
    "    def name(parameter1, parameter2):\n",
    "      //do something with parameters\n",
    "      return value\n",
    "\n",
    "Create a function that counts the vowel (aeuio) in a word - 4 different ways\n",
    "- function with no parameters & no return\n",
    "- function with no parameters & return\n",
    "- function with parameters & no return\n",
    "- function with parameters & return"
   ]
  },
  {
   "cell_type": "code",
   "execution_count": 12,
   "metadata": {},
   "outputs": [
    {
     "name": "stdout",
     "output_type": "stream",
     "text": [
      "apple has 2 vowels\n"
     ]
    }
   ],
   "source": [
    "# function with no parameters & no return\n",
    "def CountVowelNPNR():\n",
    "    word = input(\"Enter a word\")\n",
    "    count = 0\n",
    "    for c in word:\n",
    "        if c == 'a' or c == 'e' or c == \"i\" or c =='o' or c == 'u':\n",
    "            count += 1  # count = count + 1, we can't use ++ in Python!\n",
    "    print(word,\"has\",count,\"vowels\")\n",
    "\n",
    "CountVowelNPNR()"
   ]
  },
  {
   "cell_type": "code",
   "execution_count": 14,
   "metadata": {},
   "outputs": [
    {
     "name": "stdout",
     "output_type": "stream",
     "text": [
      "apple has 2 vowels\n"
     ]
    }
   ],
   "source": [
    "# function with no parameters & return\n",
    "def CountVowelNPR():\n",
    "    word = input(\"Enter a word\")\n",
    "    count = 0\n",
    "    for c in word:\n",
    "        if c == 'a' or c == 'e' or c == \"i\" or c =='o' or c == 'u':\n",
    "            count += 1  # count = count + 1, we can't use ++ in Python!\n",
    "    return word + \" has \" + str(count) +\" vowels\"\n",
    "\n",
    "print(CountVowelNPR())\n"
   ]
  },
  {
   "cell_type": "code",
   "execution_count": 24,
   "metadata": {},
   "outputs": [
    {
     "name": "stdout",
     "output_type": "stream",
     "text": [
      "apple has 2 vowels\n",
      "parameters has 4 vowels\n",
      "4\n",
      "2\n",
      "2\n"
     ]
    }
   ],
   "source": [
    "# function with parameters & return\n",
    "# the best approach!!!\n",
    "\n",
    "def CountVowelPR(word):\n",
    "    count = 0\n",
    "    for c in word.lower():\n",
    "        # if c in \"aeuio\": different approach, but same condition\n",
    "        if c == 'a' or c == 'e' or c == \"i\" or c =='o' or c == 'u':\n",
    "            count += 1  # count = count + 1, we can't use ++ in Python!\n",
    "    return count\n",
    "\n",
    "word = input(\"Enter a word\")\n",
    "print(word,\"has\",CountVowelPR(word), \"vowels\")\n",
    "\n",
    "print(\"parameters\",\"has\",CountVowelPR(\"parameters\"), \"vowels\")\n",
    "print(CountVowelPR(\"selection\"))\n",
    "print(CountVowelPR(\"apple\"))\n",
    "print(CountVowelPR(\"APPLE\")) # make sure that it recognizes also uppercase characters!\n"
   ]
  },
  {
   "attachments": {},
   "cell_type": "markdown",
   "metadata": {},
   "source": [
    "### Exercise: next prime\n",
    "Find next prime number, use a function!\n",
    "\n",
    "<i>A prime number is a positive integer greater than 1 that has no positive integer divisors other than 1 and itself. In other words, a prime number is a number that is divisible only by 1 and itself. For example, 2, 3, 5, 7, 11, 13, 17, 19, 23, 29, 31, 37, and so on, are all prime numbers.</i>"
   ]
  },
  {
   "cell_type": "code",
   "execution_count": 29,
   "metadata": {},
   "outputs": [
    {
     "name": "stdout",
     "output_type": "stream",
     "text": [
      "True 7\n",
      "False 17\n",
      "False 1009\n",
      "True 1013\n"
     ]
    }
   ],
   "source": [
    "def IsPrime(number):\n",
    "    count = 0\n",
    "    for i in range(1,number+1):\n",
    "        if number % i == 0:\n",
    "            count +=1\n",
    "    if count == 2:\n",
    "        return True     #capitalized True/False!!!\n",
    "    else:\n",
    "        return False\n",
    "\n",
    "def NextPrime(number):\n",
    "    number += 1\n",
    "    while not IsPrime(number):\n",
    "        number+=1\n",
    "    return number\n",
    "\n",
    "print(IsPrime(5), NextPrime(5))\n",
    "print(IsPrime(15), NextPrime(15))\n",
    "print(IsPrime(1000), NextPrime(1000))\n",
    "print(IsPrime(1009), NextPrime(1009))"
   ]
  },
  {
   "attachments": {},
   "cell_type": "markdown",
   "metadata": {},
   "source": [
    "## Collections\n",
    "\n",
    "In Python, a collection is a data type that groups multiple values into a single object. There are several types of collections in Python, including lists, tuples, sets, and dictionaries. Each type of collection has its own properties and use cases.\n",
    "\n",
    "### List [ ]\n",
    "Lists are one of the most commonly used data structures in Python. They are ordered, changeable, and allow duplicate values. Lists are created using square brackets [] and can contain any data type. Lists are mutable, meaning that their contents can be modified after they are created. "
   ]
  },
  {
   "cell_type": "code",
   "execution_count": 68,
   "metadata": {},
   "outputs": [
    {
     "name": "stdout",
     "output_type": "stream",
     "text": [
      "['first', 3, 'apple', True, 3, 8, 9, 3, 'apple', True, 3, 8, 9, 'word']\n",
      "['first', 3, 'apple', True, 3, 8, 9, 3, 'apple', True, 3, 8, 9]\n",
      "9\n",
      "first\n",
      "13\n",
      "[9, 8, 3, True, 'apple', 3, 9, 8, 3, True, 'apple', 3, 'first']\n",
      "9-8-3-True-apple-3-9-8-3-True-apple-3-first-\n",
      "Yes, there is an apple in the list\n",
      "[0, 2, 4, 6, 8, 10, 12, 14, 16, 18, 20, 22, 24, 26, 28, 30, 32, 34, 36, 38, 40, 42, 44, 46, 48, 50, 52, 54, 56, 58, 60, 62, 64, 66, 68, 70, 72, 74, 76, 78, 80, 82, 84, 86, 88, 90, 92, 94, 96, 98]\n",
      "[0, 1, 4, 9, 16, 25, 36, 49, 64, 81]\n",
      "[2, 20, 2, 2, 2, 2, 2, 2, 2, 2]\n",
      "[9, 8, 3, 3, 9, 8, 3, 3]\n",
      "1 2 3 \n",
      "4 5 6 \n",
      "7 8 9 \n",
      "1 2 3 \n",
      "4 5 6 \n",
      "7 8 9 \n"
     ]
    }
   ],
   "source": [
    "list = []   # empty list\n",
    "\n",
    "list.append(3) # append items by using .append, \n",
    "list.append(\"apple\")\n",
    "list.append(True)\n",
    "list += [3,8,9] # or by adding an extra list, \n",
    "list += list\n",
    "list = list + [\"word\"]\n",
    "list.insert(0, \"first\") # inserting on a specific index\n",
    "print(list)\n",
    "\n",
    "list.pop() # remove last element\n",
    "print(list)\n",
    "\n",
    "print(list[-1]) # last element\n",
    "print(list[0]) # first element\n",
    "\n",
    "print(len(list)) # length of the list\n",
    "\n",
    "# list.sort() # can't sort a list holding different data types\n",
    "\n",
    "list.reverse()\n",
    "print(list)\n",
    "\n",
    "for element in list:\n",
    "    print(element, end=\"-\")\n",
    "\n",
    "print()\n",
    "if \"apple\" in list:\n",
    "    print(\"Yes, there is an apple in the list\")\n",
    "\n",
    "newlist = [x for x in range(0,100,2)]\n",
    "print(newlist)\n",
    "\n",
    "newlist = [x ** 2 for x in range(0,10)]\n",
    "print(newlist)\n",
    "\n",
    "newlist = [2] * 10\n",
    "newlist[1] *= 10\n",
    "print(newlist)\n",
    "\n",
    "# remove all non number (NaN) from the list\n",
    "newlist = []\n",
    "for element in list:\n",
    "    # print(type(element))\n",
    "    if type(element) == int:\n",
    "        newlist.append(element)\n",
    "print(newlist)\n",
    "\n",
    "\n",
    "matrix = [[1,2,3], [4,5,6], [7,8,9]]\n",
    "for row in matrix:\n",
    "    for element in row:\n",
    "        print(element, end = \" \")\n",
    "    print()\n",
    "\n",
    "for i in range(0,len(matrix)):\n",
    "    for j in range(0,len(matrix[i])):\n",
    "        print(matrix[i][j], end=\" \")\n",
    "    print()"
   ]
  },
  {
   "attachments": {},
   "cell_type": "markdown",
   "metadata": {},
   "source": [
    "### Tuple ( )\n",
    "Tuples are similar to lists, but they are immutable, meaning that their contents cannot be modified after they are created. They are ordered and allow duplicate values. Tuples are created using parentheses () and can contain any data type. \n",
    "\n",
    "Typical for months, weekdays, seasons, planets"
   ]
  },
  {
   "cell_type": "code",
   "execution_count": 69,
   "metadata": {},
   "outputs": [
    {
     "ename": "TypeError",
     "evalue": "can only concatenate tuple (not \"set\") to tuple",
     "output_type": "error",
     "traceback": [
      "\u001b[1;31m---------------------------------------------------------------------------\u001b[0m",
      "\u001b[1;31mTypeError\u001b[0m                                 Traceback (most recent call last)",
      "Cell \u001b[1;32mIn[69], line 3\u001b[0m\n\u001b[0;32m      1\u001b[0m weekdays \u001b[39m=\u001b[39m (\u001b[39m'\u001b[39m\u001b[39mmon\u001b[39m\u001b[39m'\u001b[39m, \u001b[39m'\u001b[39m\u001b[39mtue\u001b[39m\u001b[39m'\u001b[39m, \u001b[39m\"\u001b[39m\u001b[39mwed\u001b[39m\u001b[39m\"\u001b[39m, \u001b[39m\"\u001b[39m\u001b[39mthu\u001b[39m\u001b[39m\"\u001b[39m, \u001b[39m\"\u001b[39m\u001b[39mfri\u001b[39m\u001b[39m\"\u001b[39m, \u001b[39m\"\u001b[39m\u001b[39msat\u001b[39m\u001b[39m\"\u001b[39m, \u001b[39m\"\u001b[39m\u001b[39msun\u001b[39m\u001b[39m\"\u001b[39m)\n\u001b[1;32m----> 3\u001b[0m weekdays \u001b[39m+\u001b[39;49m\u001b[39m=\u001b[39;49m {\u001b[39m\"\u001b[39;49m\u001b[39mtest\u001b[39;49m\u001b[39m\"\u001b[39;49m}\n",
      "\u001b[1;31mTypeError\u001b[0m: can only concatenate tuple (not \"set\") to tuple"
     ]
    }
   ],
   "source": [
    "weekdays = ('mon', 'tue', \"wed\", \"thu\", \"fri\", \"sat\", \"sun\")"
   ]
  },
  {
   "attachments": {},
   "cell_type": "markdown",
   "metadata": {},
   "source": [
    "### Set { } \n",
    "Sets are unordered and do not allow duplicate values. They are created using curly braces {} or the set() constructor function. Sets can contain any data type, but they must be hashable (immutable) so that they can be stored in a set. Sets are useful for removing duplicates and performing set operations such as union and intersection. "
   ]
  },
  {
   "cell_type": "code",
   "execution_count": 72,
   "metadata": {},
   "outputs": [
    {
     "name": "stdout",
     "output_type": "stream",
     "text": [
      "LIST [2, 3, 5, 5, 7, 7, 11, 11, 11, 11, 13, 13, 17, 17, 17, 17, 19, 19, 23, 23, 23, 23, 29, 29, 29, 29, 29, 29, 31, 31, 37, 37, 37, 37, 37, 37, 41, 41, 41, 41, 43, 43, 47, 47, 47, 47, 53, 53, 53, 53, 53, 53, 59, 59, 59, 59, 59, 59, 61, 61, 67, 67, 67, 67, 67, 67, 71, 71, 71, 71, 73, 73, 79, 79, 79, 79, 79, 79, 83, 83, 83, 83, 89, 89, 89, 89, 89, 89, 97, 97, 97, 97, 97, 97, 97, 97, 101, 101, 101]\n",
      "SET {2, 3, 5, 7, 11, 13, 17, 19, 23, 29, 31, 37, 41, 43, 47, 53, 59, 61, 67, 71, 73, 79, 83, 89, 97, 101}\n"
     ]
    }
   ],
   "source": [
    "\n",
    "prime_list = [2 ]\n",
    "prime_set = { 2 }\n",
    "\n",
    "for x in range(2,100):\n",
    "    prime_list.append(NextPrime(x))\n",
    "    prime_set.add(NextPrime(x))\n",
    "\n",
    "print(\"LIST\",prime_list)\n",
    "print(\"SET\",prime_set)"
   ]
  },
  {
   "attachments": {},
   "cell_type": "markdown",
   "metadata": {},
   "source": [
    "### Dictionary { key: value }\n",
    "Dictionaries are unordered, changeable, and indexed by keys. They are created using curly braces {} and contain key-value pairs separated by colons. Dictionaries can contain any data type as values, but keys must be hashable (immutable) so that they can be used as dictionary keys. Dictionaries are useful for storing data in a structured way and performing fast lookups by key."
   ]
  },
  {
   "cell_type": "code",
   "execution_count": 86,
   "metadata": {},
   "outputs": [
    {
     "name": "stdout",
     "output_type": "stream",
     "text": [
      "{'a': 'apple', 'b': 'banana'}\n",
      "{'a': 'apple', 'b': 'banana', 'c': 'coconut'}\n",
      "{'a': 'apple', 'b': 'banana', 'c': 'cucumber'}\n",
      "{'a': ['apple'], 'b': ['banana'], 'c': ['coconut', 'cucumber']}\n",
      "{'a': ['apple', 'apricot'], 'b': ['banana'], 'c': ['coconut', 'cucumber']}\n",
      "a -->\n",
      "apple\n",
      "apricot\n",
      "b -->\n",
      "banana\n",
      "c -->\n",
      "coconut\n",
      "cucumber\n"
     ]
    }
   ],
   "source": [
    "dictionary = { \"a\": \"apple\", \"b\" : \"banana\"}\n",
    "print(dictionary)\n",
    "\n",
    "dictionary[\"c\"] = \"coconut\"\n",
    "print(dictionary)\n",
    "\n",
    "dictionary[\"c\"] = \"cucumber\"\n",
    "print(dictionary)\n",
    "\n",
    "dictionary_list = {\"a\" : [\"apple\"], \"b\": [\"banana\"], \"c\":[\"coconut\", \"cucumber\"]}\n",
    "print(dictionary_list)\n",
    "\n",
    "dictionary_list[\"a\"].append(\"apricot\")\n",
    "print(dictionary_list)\n",
    "\n",
    "for key in dictionary_list:\n",
    "    print(key,\"-->\")\n",
    "    for value in dictionary_list[key]:\n",
    "        print(value)"
   ]
  },
  {
   "attachments": {},
   "cell_type": "markdown",
   "metadata": {},
   "source": [
    "## More exercises\n",
    "\n",
    "Lists:\n",
    "- Write a Python function that takes a list of integers as an input and returns the sum of all the even numbers in the list.\n",
    "- Write a Python program that takes two lists and returns a new list that contains only the common elements between the two lists.\n",
    "- Write a Python program that removes duplicates from a given list and returns the new list.\n",
    "\n",
    "Dictionaries:\n",
    "- Write a Python program that creates a dictionary of words and their frequencies in a given string.\n",
    "- Write a Python program that takes a dictionary and returns a new dictionary with keys and values swapped.\n",
    "- Write a Python program that merges two dictionaries.\n",
    "\n",
    "Tuples:\n",
    "- Write a Python program that takes a list of tuples and sorts them by the second element of each tuple.\n",
    "- Write a Python program that creates a tuple of the first 10 Fibonacci numbers.\n",
    "- Write a Python program that takes a tuple of integers and returns the sum of all the even numbers in the tuple.\n",
    "\n",
    "Sets:\n",
    "- Write a Python program that takes two sets and returns a new set that contains only the elements that are in both sets.\n",
    "- Write a Python program that removes all the duplicates from a given set.\n",
    "- Write a Python program that checks if a given set is a subset of another set.\n",
    "\n",
    "Loops:\n",
    "- Write a Python program that prints all the prime numbers between 1 and 100.\n",
    "- Write a Python program that takes a list of integers and prints the square of each number.\n",
    "- Write a Python program that prints the multiplication table of a given number.\n",
    "\n",
    "If structures:\n",
    "- Write a Python program that takes an integer and prints whether it is even or odd.\n",
    "- Write a Python program that takes three integers and prints the maximum of the three.\n",
    "- Write a Python program that takes a string and checks whether it is a palindrome or not."
   ]
  }
 ],
 "metadata": {
  "kernelspec": {
   "display_name": "Python 3",
   "language": "python",
   "name": "python3"
  },
  "language_info": {
   "codemirror_mode": {
    "name": "ipython",
    "version": 3
   },
   "file_extension": ".py",
   "mimetype": "text/x-python",
   "name": "python",
   "nbconvert_exporter": "python",
   "pygments_lexer": "ipython3",
   "version": "3.11.2"
  },
  "orig_nbformat": 4,
  "vscode": {
   "interpreter": {
    "hash": "592dbb3af1cefdf1db2c3ce44df4f5e817be23969bceca6ee01d4e52efc0b099"
   }
  }
 },
 "nbformat": 4,
 "nbformat_minor": 2
}
