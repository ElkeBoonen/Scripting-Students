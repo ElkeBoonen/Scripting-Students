{
 "cells": [
  {
   "attachments": {},
   "cell_type": "markdown",
   "metadata": {},
   "source": [
    "# Python basics : class 23/02\n",
    "\n",
    "## Repetition is the mother of all learning\n",
    "### Exercise: sequence of Hailstone\n",
    "- If n is 1 then the sequence ends.\n",
    "- If n is even then the next n of the sequence = n/2\n",
    "- If n is odd then the next n of the sequence = (3 * n) + 1\n"
   ]
  },
  {
   "cell_type": "code",
   "execution_count": 8,
   "metadata": {},
   "outputs": [
    {
     "name": "stdout",
     "output_type": "stream",
     "text": [
      "Hailstone sequence 100 50 25 76 38 19 58 29 88 44 22 11 34 17 52 26 13 40 20 10 5 16 8 4 2 1 "
     ]
    }
   ],
   "source": [
    "n = input(\"Enter n\")\n",
    "n = int(n) # convert n to an integer\n",
    "\n",
    "print(\"Hailstone sequence\",n, end=\" \")\n",
    "while n > 1:\n",
    "    if n % 2 == 0:  # n is even!\n",
    "        n //= 2     # n = n // 2 --> same expression\n",
    "    else:\n",
    "        n = (3*n) + 1\n",
    "    print(n, end=\" \")\n",
    "    "
   ]
  },
  {
   "attachments": {},
   "cell_type": "markdown",
   "metadata": {},
   "source": [
    "## Functions\n",
    "\n",
    "In Python, a function is a reusable block of code that performs a specific task. Functions can take input parameters, process them, and optionally return a result. To define a function in Python, you need to use the def keyword followed by the function name and the input parameter(s) enclosed in parentheses. \n",
    "\n",
    "    def name(parameter1, parameter2):\n",
    "      //do something with parameters\n",
    "      return value\n",
    "\n",
    "Create a function that counts the vowel (aeuio) in a word - 4 different ways\n",
    "- function with no parameters & no return\n",
    "- function with no parameters & return\n",
    "- function with parameters & no return\n",
    "- function with parameters & return"
   ]
  },
  {
   "cell_type": "code",
   "execution_count": 12,
   "metadata": {},
   "outputs": [
    {
     "name": "stdout",
     "output_type": "stream",
     "text": [
      "apple has 2 vowels\n"
     ]
    }
   ],
   "source": [
    "# function with no parameters & no return\n",
    "def CountVowelNPNR():\n",
    "    word = input(\"Enter a word\")\n",
    "    count = 0\n",
    "    for c in word:\n",
    "        if c == 'a' or c == 'e' or c == \"i\" or c =='o' or c == 'u':\n",
    "            count += 1  # count = count + 1, we can't use ++ in Python!\n",
    "    print(word,\"has\",count,\"vowels\")\n",
    "\n",
    "CountVowelNPNR()"
   ]
  },
  {
   "cell_type": "code",
   "execution_count": 14,
   "metadata": {},
   "outputs": [
    {
     "name": "stdout",
     "output_type": "stream",
     "text": [
      "apple has 2 vowels\n"
     ]
    }
   ],
   "source": [
    "# function with no parameters & return\n",
    "def CountVowelNPR():\n",
    "    word = input(\"Enter a word\")\n",
    "    count = 0\n",
    "    for c in word:\n",
    "        if c == 'a' or c == 'e' or c == \"i\" or c =='o' or c == 'u':\n",
    "            count += 1  # count = count + 1, we can't use ++ in Python!\n",
    "    return word + \" has \" + str(count) +\" vowels\"\n",
    "\n",
    "print(CountVowelNPR())\n"
   ]
  },
  {
   "cell_type": "code",
   "execution_count": 24,
   "metadata": {},
   "outputs": [
    {
     "name": "stdout",
     "output_type": "stream",
     "text": [
      "apple has 2 vowels\n",
      "parameters has 4 vowels\n",
      "4\n",
      "2\n",
      "2\n"
     ]
    }
   ],
   "source": [
    "# function with parameters & return\n",
    "# the best approach!!!\n",
    "\n",
    "def CountVowelPR(word):\n",
    "    count = 0\n",
    "    for c in word.lower():\n",
    "        # if c in \"aeuio\": different approach, but same condition\n",
    "        if c == 'a' or c == 'e' or c == \"i\" or c =='o' or c == 'u':\n",
    "            count += 1  # count = count + 1, we can't use ++ in Python!\n",
    "    return count\n",
    "\n",
    "word = input(\"Enter a word\")\n",
    "print(word,\"has\",CountVowelPR(word), \"vowels\")\n",
    "\n",
    "print(\"parameters\",\"has\",CountVowelPR(\"parameters\"), \"vowels\")\n",
    "print(CountVowelPR(\"selection\"))\n",
    "print(CountVowelPR(\"apple\"))\n",
    "print(CountVowelPR(\"APPLE\")) # make sure that it recognizes also uppercase characters!\n"
   ]
  },
  {
   "attachments": {},
   "cell_type": "markdown",
   "metadata": {},
   "source": [
    "### Exercise: next prime\n",
    "Find next prime number, use a function!\n",
    "\n",
    "<i>A prime number is a positive integer greater than 1 that has no positive integer divisors other than 1 and itself. In other words, a prime number is a number that is divisible only by 1 and itself. For example, 2, 3, 5, 7, 11, 13, 17, 19, 23, 29, 31, 37, and so on, are all prime numbers.</i>"
   ]
  },
  {
   "cell_type": "code",
   "execution_count": 29,
   "metadata": {},
   "outputs": [
    {
     "name": "stdout",
     "output_type": "stream",
     "text": [
      "True 7\n",
      "False 17\n",
      "False 1009\n",
      "True 1013\n"
     ]
    }
   ],
   "source": [
    "def IsPrime(number):\n",
    "    count = 0\n",
    "    for i in range(1,number+1):\n",
    "        if number % i == 0:\n",
    "            count +=1\n",
    "    if count == 2:\n",
    "        return True     #capitalized True/False!!!\n",
    "    else:\n",
    "        return False\n",
    "\n",
    "def NextPrime(number):\n",
    "    number += 1\n",
    "    while not IsPrime(number):\n",
    "        number+=1\n",
    "    return number\n",
    "\n",
    "print(IsPrime(5), NextPrime(5))\n",
    "print(IsPrime(15), NextPrime(15))\n",
    "print(IsPrime(1000), NextPrime(1000))\n",
    "print(IsPrime(1009), NextPrime(1009))"
   ]
  },
  {
   "attachments": {},
   "cell_type": "markdown",
   "metadata": {},
   "source": [
    "## Collections\n",
    "\n",
    "### List [ ]"
   ]
  },
  {
   "cell_type": "code",
   "execution_count": 68,
   "metadata": {},
   "outputs": [
    {
     "name": "stdout",
     "output_type": "stream",
     "text": [
      "['first', 3, 'apple', True, 3, 8, 9, 3, 'apple', True, 3, 8, 9, 'word']\n",
      "['first', 3, 'apple', True, 3, 8, 9, 3, 'apple', True, 3, 8, 9]\n",
      "9\n",
      "first\n",
      "13\n",
      "[9, 8, 3, True, 'apple', 3, 9, 8, 3, True, 'apple', 3, 'first']\n",
      "9-8-3-True-apple-3-9-8-3-True-apple-3-first-\n",
      "Yes, there is an apple in the list\n",
      "[0, 2, 4, 6, 8, 10, 12, 14, 16, 18, 20, 22, 24, 26, 28, 30, 32, 34, 36, 38, 40, 42, 44, 46, 48, 50, 52, 54, 56, 58, 60, 62, 64, 66, 68, 70, 72, 74, 76, 78, 80, 82, 84, 86, 88, 90, 92, 94, 96, 98]\n",
      "[0, 1, 4, 9, 16, 25, 36, 49, 64, 81]\n",
      "[2, 20, 2, 2, 2, 2, 2, 2, 2, 2]\n",
      "[9, 8, 3, 3, 9, 8, 3, 3]\n",
      "1 2 3 \n",
      "4 5 6 \n",
      "7 8 9 \n",
      "1 2 3 \n",
      "4 5 6 \n",
      "7 8 9 \n"
     ]
    }
   ],
   "source": [
    "list = []   # empty list\n",
    "\n",
    "list.append(3) # append items by using .append, \n",
    "list.append(\"apple\")\n",
    "list.append(True)\n",
    "list += [3,8,9] # or by adding an extra list, \n",
    "list += list\n",
    "list = list + [\"word\"]\n",
    "list.insert(0, \"first\") # inserting on a specific index\n",
    "print(list)\n",
    "\n",
    "list.pop() # remove last element\n",
    "print(list)\n",
    "\n",
    "print(list[-1]) # last element\n",
    "print(list[0]) # first element\n",
    "\n",
    "print(len(list)) # length of the list\n",
    "\n",
    "# list.sort() # can't sort a list holding different data types\n",
    "\n",
    "list.reverse()\n",
    "print(list)\n",
    "\n",
    "for element in list:\n",
    "    print(element, end=\"-\")\n",
    "\n",
    "print()\n",
    "if \"apple\" in list:\n",
    "    print(\"Yes, there is an apple in the list\")\n",
    "\n",
    "newlist = [x for x in range(0,100,2)]\n",
    "print(newlist)\n",
    "\n",
    "newlist = [x ** 2 for x in range(0,10)]\n",
    "print(newlist)\n",
    "\n",
    "newlist = [2] * 10\n",
    "newlist[1] *= 10\n",
    "print(newlist)\n",
    "\n",
    "# remove all non number (NaN) from the list\n",
    "newlist = []\n",
    "for element in list:\n",
    "    # print(type(element))\n",
    "    if type(element) == int:\n",
    "        newlist.append(element)\n",
    "print(newlist)\n",
    "\n",
    "\n",
    "matrix = [[1,2,3], [4,5,6], [7,8,9]]\n",
    "for row in matrix:\n",
    "    for element in row:\n",
    "        print(element, end = \" \")\n",
    "    print()\n",
    "\n",
    "for i in range(0,len(matrix)):\n",
    "    for j in range(0,len(matrix[i])):\n",
    "        print(matrix[i][j], end=\" \")\n",
    "    print()"
   ]
  },
  {
   "attachments": {},
   "cell_type": "markdown",
   "metadata": {},
   "source": [
    "### Tuple ( )\n",
    "\n",
    "Fixed list, typical for months, weekdays, seasons, planets"
   ]
  },
  {
   "cell_type": "code",
   "execution_count": 69,
   "metadata": {},
   "outputs": [
    {
     "ename": "TypeError",
     "evalue": "can only concatenate tuple (not \"set\") to tuple",
     "output_type": "error",
     "traceback": [
      "\u001b[1;31m---------------------------------------------------------------------------\u001b[0m",
      "\u001b[1;31mTypeError\u001b[0m                                 Traceback (most recent call last)",
      "Cell \u001b[1;32mIn[69], line 3\u001b[0m\n\u001b[0;32m      1\u001b[0m weekdays \u001b[39m=\u001b[39m (\u001b[39m'\u001b[39m\u001b[39mmon\u001b[39m\u001b[39m'\u001b[39m, \u001b[39m'\u001b[39m\u001b[39mtue\u001b[39m\u001b[39m'\u001b[39m, \u001b[39m\"\u001b[39m\u001b[39mwed\u001b[39m\u001b[39m\"\u001b[39m, \u001b[39m\"\u001b[39m\u001b[39mthu\u001b[39m\u001b[39m\"\u001b[39m, \u001b[39m\"\u001b[39m\u001b[39mfri\u001b[39m\u001b[39m\"\u001b[39m, \u001b[39m\"\u001b[39m\u001b[39msat\u001b[39m\u001b[39m\"\u001b[39m, \u001b[39m\"\u001b[39m\u001b[39msun\u001b[39m\u001b[39m\"\u001b[39m)\n\u001b[1;32m----> 3\u001b[0m weekdays \u001b[39m+\u001b[39;49m\u001b[39m=\u001b[39;49m {\u001b[39m\"\u001b[39;49m\u001b[39mtest\u001b[39;49m\u001b[39m\"\u001b[39;49m}\n",
      "\u001b[1;31mTypeError\u001b[0m: can only concatenate tuple (not \"set\") to tuple"
     ]
    }
   ],
   "source": [
    "weekdays = ('mon', 'tue', \"wed\", \"thu\", \"fri\", \"sat\", \"sun\")"
   ]
  },
  {
   "attachments": {},
   "cell_type": "markdown",
   "metadata": {},
   "source": [
    "### Set { } \n"
   ]
  },
  {
   "cell_type": "code",
   "execution_count": 72,
   "metadata": {},
   "outputs": [
    {
     "name": "stdout",
     "output_type": "stream",
     "text": [
      "LIST [2, 3, 5, 5, 7, 7, 11, 11, 11, 11, 13, 13, 17, 17, 17, 17, 19, 19, 23, 23, 23, 23, 29, 29, 29, 29, 29, 29, 31, 31, 37, 37, 37, 37, 37, 37, 41, 41, 41, 41, 43, 43, 47, 47, 47, 47, 53, 53, 53, 53, 53, 53, 59, 59, 59, 59, 59, 59, 61, 61, 67, 67, 67, 67, 67, 67, 71, 71, 71, 71, 73, 73, 79, 79, 79, 79, 79, 79, 83, 83, 83, 83, 89, 89, 89, 89, 89, 89, 97, 97, 97, 97, 97, 97, 97, 97, 101, 101, 101]\n",
      "SET {2, 3, 5, 7, 11, 13, 17, 19, 23, 29, 31, 37, 41, 43, 47, 53, 59, 61, 67, 71, 73, 79, 83, 89, 97, 101}\n"
     ]
    }
   ],
   "source": [
    "\n",
    "prime_list = [2 ]\n",
    "prime_set = { 2 }\n",
    "\n",
    "for x in range(2,100):\n",
    "    prime_list.append(NextPrime(x))\n",
    "    prime_set.add(NextPrime(x))\n",
    "\n",
    "print(\"LIST\",prime_list)\n",
    "print(\"SET\",prime_set)"
   ]
  }
 ],
 "metadata": {
  "kernelspec": {
   "display_name": "Python 3",
   "language": "python",
   "name": "python3"
  },
  "language_info": {
   "codemirror_mode": {
    "name": "ipython",
    "version": 3
   },
   "file_extension": ".py",
   "mimetype": "text/x-python",
   "name": "python",
   "nbconvert_exporter": "python",
   "pygments_lexer": "ipython3",
   "version": "3.11.2"
  },
  "orig_nbformat": 4,
  "vscode": {
   "interpreter": {
    "hash": "592dbb3af1cefdf1db2c3ce44df4f5e817be23969bceca6ee01d4e52efc0b099"
   }
  }
 },
 "nbformat": 4,
 "nbformat_minor": 2
}
