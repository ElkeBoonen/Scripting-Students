{
 "cells": [
  {
   "attachments": {},
   "cell_type": "markdown",
   "metadata": {},
   "source": [
    "# Python basics : class 16/02\n"
   ]
  },
  {
   "cell_type": "code",
   "execution_count": 1,
   "metadata": {},
   "outputs": [
    {
     "name": "stdout",
     "output_type": "stream",
     "text": [
      "hello world\n"
     ]
    }
   ],
   "source": [
    "print(\"hello world\")"
   ]
  },
  {
   "attachments": {},
   "cell_type": "markdown",
   "metadata": {},
   "source": [
    "## Input & output\n",
    "\n",
    "conversion between types!!!\n",
    "\n",
    "- int -> integer number\n",
    "- float -> decimal number\n",
    "- str -> string = text!"
   ]
  },
  {
   "cell_type": "code",
   "execution_count": 5,
   "metadata": {},
   "outputs": [
    {
     "name": "stdout",
     "output_type": "stream",
     "text": [
      "67\n",
      "<class 'str'>\n",
      "67\n",
      "67.0\n",
      "67.0\n"
     ]
    }
   ],
   "source": [
    "x = input(\"Give me a number\")\n",
    "print(x)\n",
    "print(type(x))\n",
    "\n",
    "int_number = int(x)\n",
    "print(int_number)\n",
    "dec_number = float(x)\n",
    "print(dec_number)\n",
    "print(str(dec_number))"
   ]
  },
  {
   "attachments": {},
   "cell_type": "markdown",
   "metadata": {},
   "source": [
    "combine output\n",
    "- '+' - combine two strings or add two numbers!\n",
    "- ','"
   ]
  },
  {
   "cell_type": "code",
   "execution_count": 10,
   "metadata": {},
   "outputs": [
    {
     "name": "stdout",
     "output_type": "stream",
     "text": [
      "The number is 5\n",
      "10\n",
      "The number is 5\n",
      "55\n",
      "10\n"
     ]
    }
   ],
   "source": [
    "number = 5\n",
    "print(\"The number is\", number)\n",
    "print(number+number)\n",
    "print(\"The number is \" + str(number))\n",
    "print(str(number)+str(number))  # 55\n",
    "print(str(number+number))       # 10"
   ]
  },
  {
   "attachments": {},
   "cell_type": "markdown",
   "metadata": {},
   "source": [
    "## Expressions\n",
    "\n",
    "### Arithmetic operators"
   ]
  },
  {
   "cell_type": "code",
   "execution_count": 11,
   "metadata": {},
   "outputs": [
    {
     "name": "stdout",
     "output_type": "stream",
     "text": [
      "13\n",
      "7\n",
      "30\n",
      "3.3333333333333335\n",
      "3\n",
      "1\n",
      "1000\n"
     ]
    }
   ],
   "source": [
    "x = 10\n",
    "y = 3\n",
    "\n",
    "x,y = 10,3\n",
    "\n",
    "print(x+y)  #13\n",
    "print(x-y)  #7\n",
    "print(x*y)  #30\n",
    "print(x/y)  #3.333333...\n",
    "print(x//y) #3 integer division\n",
    "print(x%y)  #1 remainder after integer vision 10 // 3 = 3 --> 10 - (3*3) = 1\n",
    "print(x**y) #1000 --> power\n"
   ]
  },
  {
   "attachments": {},
   "cell_type": "markdown",
   "metadata": {},
   "source": [
    "### Assignment operators"
   ]
  },
  {
   "cell_type": "code",
   "execution_count": 17,
   "metadata": {},
   "outputs": [
    {
     "name": "stdout",
     "output_type": "stream",
     "text": [
      "13 <class 'int'>\n",
      "10 <class 'int'>\n",
      "30 <class 'int'>\n",
      "10.0 <class 'float'>\n",
      "3.0 <class 'float'>\n"
     ]
    }
   ],
   "source": [
    "x,y = 10,3\n",
    "\n",
    "x += y; print(x, type(x))    # 13\n",
    "x -= y; print(x, type(x))    # 10\n",
    "x *= y; print(x, type(x))    # 30\n",
    "x /= y; print(x, type(x))    # 10.0\n",
    "x //=y; print(x, type(x))    # 3.0\n",
    "\n",
    "# x++ --> not available\n",
    "x+=1    #translation of x++"
   ]
  },
  {
   "attachments": {},
   "cell_type": "markdown",
   "metadata": {},
   "source": [
    "### Comparison operators"
   ]
  },
  {
   "cell_type": "code",
   "execution_count": 18,
   "metadata": {},
   "outputs": [
    {
     "name": "stdout",
     "output_type": "stream",
     "text": [
      "False\n",
      "True\n",
      "False\n",
      "True\n",
      "False\n",
      "True\n"
     ]
    }
   ],
   "source": [
    "x,y = 10,3\n",
    "\n",
    "print(x < y)\n",
    "print(x > y)\n",
    "print(x <= y)\n",
    "print(x >= y)\n",
    "print(x == y)\n",
    "print(x != y)"
   ]
  },
  {
   "attachments": {},
   "cell_type": "markdown",
   "metadata": {},
   "source": [
    "### Python Built in Functions\n",
    "\n",
    "https://www.w3schools.com/python/python_ref_functions.asp"
   ]
  },
  {
   "cell_type": "code",
   "execution_count": 26,
   "metadata": {},
   "outputs": [
    {
     "name": "stdout",
     "output_type": "stream",
     "text": [
      "Some text\n",
      "some text\n",
      "SOME TEXT\n",
      "som3 t3xt\n",
      "5.899898\n",
      "-5.8999\n"
     ]
    }
   ],
   "source": [
    "text = \"some text\"\n",
    "print(text.capitalize())\n",
    "print(text.lower())\n",
    "print(text.upper())\n",
    "print(text.replace(\"e\",\"3\"))\n",
    "\n",
    "x = -5.899898\n",
    "print(abs(x))\n",
    "print(round(x,4))"
   ]
  },
  {
   "attachments": {},
   "cell_type": "markdown",
   "metadata": {},
   "source": [
    "## Conditional statement \n",
    "if-structure!\n",
    "\n",
    "zero is even --> https://www.bbc.com/news/magazine-20559052 ;)"
   ]
  },
  {
   "cell_type": "code",
   "execution_count": 29,
   "metadata": {},
   "outputs": [
    {
     "name": "stdout",
     "output_type": "stream",
     "text": [
      "0 is zero\n"
     ]
    }
   ],
   "source": [
    "# find the sign of the number\n",
    "\n",
    "number = int(input(\"Enter a number\"))\n",
    "# number = int(number)\n",
    "\n",
    "if number > 0:\n",
    "    print(number, \"is positive\")\n",
    "elif number < 0:\n",
    "    print(number, \"is negative\")\n",
    "else:\n",
    "    print(number, \"is zero\")\n",
    "\n",
    "# other implementation\n",
    "if number == 0:\n",
    "    print(number, \"is zero\")\n",
    "elif number > 0:\n",
    "    print(number, \"is positive\")\n",
    "else:\n",
    "    print(number, \"is negative\")\n",
    "\n",
    "\n",
    "# determine whether the number is even or odd!\n",
    "# zero is even\n",
    "if number % 2 == 0:\n",
    "    print(number,\"is even\")\n",
    "else:\n",
    "    print(number,\"is odd\")\n"
   ]
  },
  {
   "attachments": {},
   "cell_type": "markdown",
   "metadata": {},
   "source": [
    "### Some more exercises from ChatGPT\n",
    "\n",
    "Write an if-else statement that checks if a person is old enough to vote. If the person is 18 or older, print \"You are eligible to vote\", otherwise, print \"You are not eligible to vote\".\n",
    "\n",
    "Write an if statement that checks if a string is empty. If the string is empty, print \"The string is empty\", otherwise, print \"The string is not empty\".\n",
    "\n",
    "Write an if-else statement that checks if a password is secure. If the password contains at least 8 characters and includes both letters and numbers, print \"The password is secure\", otherwise, print \"The password is not secure\"."
   ]
  },
  {
   "cell_type": "code",
   "execution_count": 32,
   "metadata": {},
   "outputs": [
    {
     "name": "stdout",
     "output_type": "stream",
     "text": [
      "You are not eligible to vote\n"
     ]
    }
   ],
   "source": [
    "from datetime import datetime as dt\n",
    "\n",
    "year = input(\"Enter the year of birth\")\n",
    "\n",
    "age = dt.now().year - int(year)\n",
    "\n",
    "if (age >= 18):\n",
    "    print(\"You are eligible to vote\")\n",
    "else:\n",
    "    print(\"You are not eligible to vote\")"
   ]
  },
  {
   "attachments": {},
   "cell_type": "markdown",
   "metadata": {},
   "source": [
    "## Loops\n",
    "- <b>for-loop</b>: iterating over a sequence or a range, you know how many times you need to loop!\n",
    "- <B>while-loop</b>: looping as long as the condition is true, you don't know how many times you need to loop, it depends on the condition"
   ]
  },
  {
   "cell_type": "code",
   "execution_count": 36,
   "metadata": {},
   "outputs": [
    {
     "name": "stdout",
     "output_type": "stream",
     "text": [
      "a\n",
      " \n",
      "w\n",
      "o\n",
      "r\n",
      "d\n",
      "a   w o r d "
     ]
    }
   ],
   "source": [
    "# a word is also a sequence, it's a sequence of characters!\n",
    "\n",
    "for c in \"a word\":\n",
    "    print(c)\n",
    "\n",
    "for c in \"a word\":\n",
    "    print(c, end=\" \")"
   ]
  },
  {
   "cell_type": "code",
   "execution_count": 39,
   "metadata": {},
   "outputs": [
    {
     "name": "stdout",
     "output_type": "stream",
     "text": [
      "-5\n",
      "-4\n",
      "-3\n",
      "-2\n",
      "-1\n",
      "0\n",
      "1\n",
      "2\n",
      "3\n",
      "4\n",
      "5 * 0 = 0\n",
      "5 * 1 = 5\n",
      "5 * 2 = 10\n",
      "5 * 3 = 15\n",
      "5 * 4 = 20\n",
      "5 * 5 = 25\n",
      "5 * 6 = 30\n",
      "5 * 7 = 35\n",
      "5 * 8 = 40\n",
      "5 * 9 = 45\n",
      "5 * 10 = 50\n"
     ]
    }
   ],
   "source": [
    "for x in range(-5,5): # 5 is not included!!\n",
    "    print(x)\n",
    "\n",
    "for x in range(0,11):\n",
    "    print(\"5 *\", x, \"=\",x*5)"
   ]
  },
  {
   "cell_type": "code",
   "execution_count": 46,
   "metadata": {},
   "outputs": [
    {
     "name": "stdout",
     "output_type": "stream",
     "text": [
      "25 125 625 3125 15625 \n",
      "5 25 125 625 3125 "
     ]
    }
   ],
   "source": [
    "value = input(\"Enter something, stop with 'STOP'\")\n",
    "while value != \"STOP\":\n",
    "    value = input(\"Enter something, stop with 'STOP'\")\n",
    "\n",
    "\n",
    "x = 5\n",
    "while x <= 10000:\n",
    "    x *= 5 # so if you don't add this line -> infinite loop! \n",
    "    print(x, end = \" \")\n",
    "\n",
    "print()\n",
    "x = 5\n",
    "while x <= 10000:\n",
    "    print(x, end = \" \")\n",
    "    x *= 5 # so if you don't add this line -> infinite loop! \n",
    "   "
   ]
  },
  {
   "attachments": {},
   "cell_type": "markdown",
   "metadata": {},
   "source": [
    "## Combine conditions\n",
    "\n",
    "- <b>and</b>: both conditions are met\n",
    "- <b>or</b>: at least one condition is met\n",
    "- <b>not</b>: reverse result of condition"
   ]
  },
  {
   "cell_type": "code",
   "execution_count": 51,
   "metadata": {},
   "outputs": [
    {
     "name": "stdout",
     "output_type": "stream",
     "text": [
      "True\n",
      "True\n",
      "False\n",
      "False\n",
      "False\n",
      "True\n",
      "True\n",
      "False\n"
     ]
    }
   ],
   "source": [
    "x,y,z = 1,2,3\n",
    "\n",
    "print(x<y and y<z)  # true\n",
    "print(x<y or y<z)   # true\n",
    "print(x>y or y>z)   # false\n",
    "print(x>y and y>z)  # false\n",
    "\n",
    "print(x<y and y>z)  # false\n",
    "print(x<y or y>z)   # true\n",
    "\n",
    "print(not(x<y and y>z))     # true\n",
    "print(not(x<y or y>z))      # false\n"
   ]
  },
  {
   "attachments": {},
   "cell_type": "markdown",
   "metadata": {},
   "source": [
    "### Extra exercises\n",
    "\n",
    "- Write a for loop that prints the numbers from 1 to 10.\n",
    "- Write a program to find out if a number is a prime number or not\n",
    "- Write a for loop that prints the even numbers from 2 to 20.\n",
    "- Write a for loop that prints the squares of the numbers from 1 to 5.\n",
    "- Write a for loop that iterates over a string and prints each character.\n",
    "- Write a while loop that prints the numbers from 1 to 10.\n",
    "- Write a while loop that prints the even numbers from 2 to 20.\n",
    "- Write a while loop that prints the squares of the numbers from 1 to 5.\n",
    "- Write a while loop that iterates over a string and prints each character.\n",
    "- Write a for loop that prints the numbers from 1 to 10, but only print the even numbers.\n",
    "- Write a while loop that prompts the user to enter a password, and keep asking until they enter the correct password.\n",
    "- Write a while loop that prompts the user to enter a number, and keep asking until they enter a positive number.\n",
    "- FizzBuzz: Write a program that prints the numbers from 1 to 100. For multiples of 3, print \"Fizz\" instead of the number, and for multiples of 5, print \"Buzz\". For numbers which are multiples of both 3 and 5, print \"FizzBuzz\".\n",
    "- Sum of numbers: Write a program that takes a positive integer n as input and calculates the sum of all numbers from 1 to n.\n"
   ]
  }
 ],
 "metadata": {
  "kernelspec": {
   "display_name": "Python 3",
   "language": "python",
   "name": "python3"
  },
  "language_info": {
   "codemirror_mode": {
    "name": "ipython",
    "version": 3
   },
   "file_extension": ".py",
   "mimetype": "text/x-python",
   "name": "python",
   "nbconvert_exporter": "python",
   "pygments_lexer": "ipython3",
   "version": "3.11.2"
  },
  "orig_nbformat": 4,
  "vscode": {
   "interpreter": {
    "hash": "592dbb3af1cefdf1db2c3ce44df4f5e817be23969bceca6ee01d4e52efc0b099"
   }
  }
 },
 "nbformat": 4,
 "nbformat_minor": 2
}
