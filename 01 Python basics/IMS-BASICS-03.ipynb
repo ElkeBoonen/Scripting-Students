{
 "cells": [
  {
   "attachments": {},
   "cell_type": "markdown",
   "metadata": {},
   "source": [
    "# Les 3 - Python basics - 27/02\n",
    "\n",
    "- Numpy: arrays\n",
    "- Pythonic\n",
    "\n",
    "Hoe installeer je nieuwe packages: pip install package_naam in terminal\n",
    "\n",
    "In de notebooks zet je gewoon een ! voor de pip install package_naam\n",
    "\n",
    "Een een package erin zit, gebruik je hem door import package_naam bovenaan je script te zetten!\n",
    "\n",
    "Let erop dat als je verschillende versies van Python naast mekaar hebt staan, dat er soms onduidelijkheden zijn in welke versie packages geinstalleerd werden! Typische Python-fout waar je lang kan achter zoeken. Oplossingen:\n",
    "- oude versies verwijderen en pacakges opnieuw installeren\n",
    "- of packages handmatig kopieren van de ene naar de andere versie (C:\\Users\\<>\\AppData\\Local\\Programs\\Python)"
   ]
  },
  {
   "cell_type": "code",
   "execution_count": 1,
   "metadata": {},
   "outputs": [
    {
     "name": "stdout",
     "output_type": "stream",
     "text": [
      "Requirement already satisfied: numpy in c:\\users\\elkeb\\appdata\\local\\programs\\python\\python37\\lib\\site-packages (1.21.6)\n"
     ]
    }
   ],
   "source": [
    "# zet installaties altijd in apart codeblokje\n",
    "! pip install numpy"
   ]
  },
  {
   "cell_type": "code",
   "execution_count": 2,
   "metadata": {},
   "outputs": [],
   "source": [
    "# verschillende import mogelijkheden\n",
    "import numpy\n",
    "import numpy as np\n",
    "from numpy import arange"
   ]
  },
  {
   "attachments": {},
   "cell_type": "markdown",
   "metadata": {},
   "source": [
    "## Aanmaken arrays"
   ]
  },
  {
   "cell_type": "code",
   "execution_count": 39,
   "metadata": {},
   "outputs": [
    {
     "name": "stdout",
     "output_type": "stream",
     "text": [
      "[1, 2, 3, 4, 5]\n",
      "[1 2 3 4 5]\n",
      "[1, 2, 3, 4, 5, 1, 2, 3]\n",
      "[1, 2, 3, 4, 5, 1, 2, 3, 1, 2, 3, 4, 5, 1, 2, 3]\n",
      "[ 2  4  6  8 10]\n",
      "[0 1 2 3 4 5 6 7 8 9]\n",
      "[0 2 4 6 8]\n",
      "[0. 0. 0. 0. 0.]\n",
      "[[1. 1. 1.]\n",
      " [1. 1. 1.]\n",
      " [1. 1. 1.]\n",
      " [1. 1. 1.]\n",
      " [1. 1. 1.]]\n",
      "[[[4 4]\n",
      "  [4 4]\n",
      "  [4 4]]\n",
      "\n",
      " [[4 4]\n",
      "  [4 4]\n",
      "  [4 4]]\n",
      "\n",
      " [[4 4]\n",
      "  [4 4]\n",
      "  [4 4]]\n",
      "\n",
      " [[4 4]\n",
      "  [4 4]\n",
      "  [4 4]]\n",
      "\n",
      " [[4 4]\n",
      "  [4 4]\n",
      "  [4 4]]]\n",
      "[4 4 4 4 4]\n",
      "[[1. 0. 0. 0.]\n",
      " [0. 1. 0. 0.]\n",
      " [0. 0. 1. 0.]\n",
      " [0. 0. 0. 1.]]\n",
      "[[0.56047513 0.63342869]\n",
      " [0.43589327 0.01756086]\n",
      " [0.16428643 0.28070296]\n",
      " [0.37451513 0.11922132]]\n",
      "[0.42278445 0.78984789 0.49182709 0.93072688 0.19928837]\n",
      "[ 9 10 -7 -6  4 -3  2 -8]\n",
      "[ 5 -9 -8 -1  9 -3  6 -4]\n"
     ]
    },
    {
     "name": "stderr",
     "output_type": "stream",
     "text": [
      "C:\\Users\\elkeb\\AppData\\Roaming\\Python\\Python37\\site-packages\\ipykernel_launcher.py:31: DeprecationWarning: This function is deprecated. Please call randint(-10, 10 + 1) instead\n"
     ]
    }
   ],
   "source": [
    "import numpy as np\n",
    "\n",
    "list = [1,2,3,4,5]\n",
    "print(list)\n",
    "\n",
    "array = np.array(list) # fixed size op het moment dat ze werden aangemaakt!\n",
    "print(array)\n",
    "\n",
    "list += [1,2,3]\n",
    "print(list)\n",
    "\n",
    "# array += [1,2,3] KAN NIET!!\n",
    "\n",
    "print(list*2)   # list * 2 van grootte\n",
    "print(array*2)  # array elementen * 2\n",
    "\n",
    "print(np.arange(10))\n",
    "print(np.arange(0,10,2))\n",
    "\n",
    "print(np.zeros(5))\n",
    "print(np.ones((5,3)))   # als je 2D array maakt op plek van size moet nu (rij,kolom)\n",
    "\n",
    "print(np.full((5,3,2),4))\n",
    "print(np.full(5,4))\n",
    "\n",
    "print(np.eye(4))    # is altijd vierkante matrix (eenheidsmatrix) dus vandaar slechts 1 waarde meegeven als grootte\n",
    "\n",
    "print(np.random.random((4,2)))\n",
    "print(np.random.random(5))\n",
    "\n",
    "print(np.random.random_integers(-10,10, 8)) # niet meer gebruiken, function is deprecated, call randint(-10, 10 + 1) instead\n",
    "print(np.random.randint(-10,10, 8))"
   ]
  },
  {
   "attachments": {},
   "cell_type": "markdown",
   "metadata": {},
   "source": [
    "### Pythonic vs. Algoritmische manier van lijsten/arrays aanmaken"
   ]
  },
  {
   "cell_type": "code",
   "execution_count": 19,
   "metadata": {},
   "outputs": [
    {
     "name": "stdout",
     "output_type": "stream",
     "text": [
      "[-9 -6 -3  0  3  6  9]\n",
      "[-9, -6, -3, 0, 3, 6, 9]\n",
      "[-9, -6, -3, 0, 3, 6, 9]\n"
     ]
    }
   ],
   "source": [
    "array = np.arange(-9,10,3)  # Pythonic\n",
    "print(array)\n",
    "\n",
    "list = [x for x in range(-9,10,3)] # Pythonic\n",
    "print(list)\n",
    "\n",
    "list = []\n",
    "for x in range(-9,10,3):\n",
    "    list.append(x)\n",
    "print(list)"
   ]
  },
  {
   "attachments": {},
   "cell_type": "markdown",
   "metadata": {},
   "source": [
    "## Arrays omvormen naar ander type"
   ]
  },
  {
   "cell_type": "code",
   "execution_count": 49,
   "metadata": {},
   "outputs": [
    {
     "name": "stdout",
     "output_type": "stream",
     "text": [
      "[-2  1  8  6  4 -9  1  5] array is van type = <class 'numpy.ndarray'>\n",
      "[-2  1  8  6  4 -9  1  5] array is van type = int32\n",
      "[-2.  1.  8.  6.  4. -9.  1.  5.]\n",
      "[-2.  1.  8.  6.  4. -9.  1.  5.] array is van type = float32\n",
      "[-2.  1.  8.  6.  4. -9.  1.  5.]\n"
     ]
    }
   ],
   "source": [
    "array = np.random.randint(-10,10, 8)\n",
    "print(array, \"array is van type =\",type(array)) # procedurele functie\n",
    "print(array, \"array is van type =\",array.dtype) # OO-property\n",
    "\n",
    "array = array.astype('f') # omvormen van type, naar een float\n",
    "# array = array.astype(float) --> zelfde maar op andere manier\n",
    "print(array)\n",
    "print(array, \"array is van type =\",array.dtype) # OO-property"
   ]
  },
  {
   "attachments": {},
   "cell_type": "markdown",
   "metadata": {},
   "source": [
    "## Arrays omvormen naar andere dimensies\n",
    "\n",
    "Als ja van 1D naar 2D gaat moeten dimensies kloppen\n",
    "- 1D 8 --> 2D 2 x 4\n",
    "- 1D 9 --> 2D 3 x 3"
   ]
  },
  {
   "cell_type": "code",
   "execution_count": 55,
   "metadata": {},
   "outputs": [
    {
     "name": "stdout",
     "output_type": "stream",
     "text": [
      "[[ 8  8 -2 -3]\n",
      " [ 1 -8  5 -6]]\n",
      "[ -2   2  -6   8   9   3   9   0   3  -5   6   6  -2   1 -10  -5   5  -8\n",
      "   3   0   0  -8  -8   4   3   9  -5   9   4   6   5  -8  -4   1  -3  -7\n",
      "   8   1   7  -8   5   7   0]\n"
     ]
    }
   ],
   "source": [
    "import random\n",
    "\n",
    "array = np.random.randint(-10,10, 8) \n",
    "\n",
    "matrix = np.reshape(array, (2,4))\n",
    "print(matrix)\n"
   ]
  },
  {
   "cell_type": "code",
   "execution_count": 76,
   "metadata": {},
   "outputs": [
    {
     "name": "stdout",
     "output_type": "stream",
     "text": [
      "[ 9  8  4  7  7  0 -1 -3 -2  2  5  5 -8 -3]\n",
      "[[ 9  8]\n",
      " [ 4  7]\n",
      " [ 7  0]\n",
      " [-1 -3]\n",
      " [-2  2]\n",
      " [ 5  5]\n",
      " [-8 -3]]\n"
     ]
    }
   ],
   "source": [
    "# maak een matrix van een array van een random aantal elementen \n",
    "# met grootste deler moet aantal rijen zijn\n",
    "# voorbeeld: 100 elementen, grootste deler is 50, dus 50 rijen en 2 kolommen\n",
    "# voorbeeld: 27 elementen, grootste deler is 9, dus 9 rijen en 3 kolommen\n",
    "# voorbeeld: speciaal geval met priemgetal bv, 13 elementen, grootste deler is 13, dus 13 rijen en 1 kolom\n",
    "\n",
    "array = np.random.randint(-10,10, random.randint(10,50)) \n",
    "print(array)\n",
    "\n",
    "delers = []\n",
    "for x in range(2,array.shape[0]):\n",
    "    if array.shape[0] % x == 0:\n",
    "        delers.append(x)\n",
    "\n",
    "if delers == []:\n",
    "    print(np.reshape(array, (array.shape[0],1)))\n",
    "else:\n",
    "    print(np.reshape(array, (max(delers), array.shape[0]//max(delers))))\n"
   ]
  }
 ],
 "metadata": {
  "kernelspec": {
   "display_name": "Python 3",
   "language": "python",
   "name": "python3"
  },
  "language_info": {
   "codemirror_mode": {
    "name": "ipython",
    "version": 3
   },
   "file_extension": ".py",
   "mimetype": "text/x-python",
   "name": "python",
   "nbconvert_exporter": "python",
   "pygments_lexer": "ipython3",
   "version": "3.7.4"
  },
  "orig_nbformat": 4,
  "vscode": {
   "interpreter": {
    "hash": "7e45a591636b8059a3511f51eb84f0cf9a867c0e545a110f58ba3a9c1ada6645"
   }
  }
 },
 "nbformat": 4,
 "nbformat_minor": 2
}
