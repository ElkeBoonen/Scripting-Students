{
 "cells": [
  {
   "attachments": {},
   "cell_type": "markdown",
   "metadata": {},
   "source": [
    "# Les 2 - Python basics - 20/02\n",
    "\n",
    "- functies\n",
    "- lijsten\n",
    "\n",
    "## Herhalingsoefening\n",
    "<b>Sequence of Hailstone</b>\n",
    "- If n is 1 then the sequence ends.\n",
    "- If n is even then the next n of the sequence = n/2\n",
    "- If n is odd then the next n of the sequence = (3 * n) + 1"
   ]
  },
  {
   "cell_type": "code",
   "execution_count": 3,
   "metadata": {},
   "outputs": [
    {
     "name": "stdout",
     "output_type": "stream",
     "text": [
      "60004 30002 15001 45004 22502 11251 33754 16877 50632 25316 12658 6329 18988 9494 4747 14242 7121 21364 10682 5341 16024 8012 4006 2003 6010 3005 9016 4508 2254 1127 3382 1691 5074 2537 7612 3806 1903 5710 2855 8566 4283 12850 6425 19276 9638 4819 14458 7229 21688 10844 5422 2711 8134 4067 12202 6101 18304 9152 4576 2288 1144 572 286 143 430 215 646 323 970 485 1456 728 364 182 91 274 137 412 206 103 310 155 466 233 700 350 175 526 263 790 395 1186 593 1780 890 445 1336 668 334 167 502 251 754 377 1132 566 283 850 425 1276 638 319 958 479 1438 719 2158 1079 3238 1619 4858 2429 7288 3644 1822 911 2734 1367 4102 2051 6154 3077 9232 4616 2308 1154 577 1732 866 433 1300 650 325 976 488 244 122 61 184 92 46 23 70 35 106 53 160 80 40 20 10 5 16 8 4 2 1 "
     ]
    }
   ],
   "source": [
    "n = int(input(\"Enter n\")) # niet vergeten te converteren!\n",
    "while n != 1 and n > 0:\n",
    "    if n % 2 == 0:\n",
    "        n //= 2     # zodat we geen nullen krijgen na de komma, dus niet werken met floats!\n",
    "        print(n, end=\" \")\n",
    "    else:\n",
    "        n = (3*n)+1\n",
    "        print(n, end=\" \")\n"
   ]
  },
  {
   "cell_type": "code",
   "execution_count": 4,
   "metadata": {},
   "outputs": [
    {
     "data": {
      "text/plain": [
       "[2001,\n",
       " 6004,\n",
       " 3002,\n",
       " 1501,\n",
       " 4504,\n",
       " 2252,\n",
       " 1126,\n",
       " 563,\n",
       " 1690,\n",
       " 845,\n",
       " 2536,\n",
       " 1268,\n",
       " 634,\n",
       " 317,\n",
       " 952,\n",
       " 476,\n",
       " 238,\n",
       " 119,\n",
       " 358,\n",
       " 179,\n",
       " 538,\n",
       " 269,\n",
       " 808,\n",
       " 404,\n",
       " 202,\n",
       " 101,\n",
       " 304,\n",
       " 152,\n",
       " 76,\n",
       " 38,\n",
       " 19,\n",
       " 58,\n",
       " 29,\n",
       " 88,\n",
       " 44,\n",
       " 22,\n",
       " 11,\n",
       " 34,\n",
       " 17,\n",
       " 52,\n",
       " 26,\n",
       " 13,\n",
       " 40,\n",
       " 20,\n",
       " 10,\n",
       " 5,\n",
       " 16,\n",
       " 8,\n",
       " 4,\n",
       " 2,\n",
       " 1]"
      ]
     },
     "execution_count": 4,
     "metadata": {},
     "output_type": "execute_result"
    }
   ],
   "source": [
    "# code van ChatGPT\n",
    "\n",
    "def collatz_sequence(n):\n",
    "    \"\"\"\n",
    "    Generates the Collatz sequence starting from n.\n",
    "\n",
    "    Parameters:\n",
    "    n (int): Starting number for the sequence.\n",
    "\n",
    "    Returns:\n",
    "    list: A list containing the Collatz sequence starting from n.\n",
    "    \"\"\"\n",
    "    sequence = [n]\n",
    "    while n != 1:\n",
    "        if n % 2 == 0:\n",
    "            n = n // 2\n",
    "        else:\n",
    "            n = (3 * n) + 1\n",
    "        sequence.append(n)\n",
    "    return sequence\n",
    "\n",
    "collatz_sequence(2001)"
   ]
  },
  {
   "attachments": {},
   "cell_type": "markdown",
   "metadata": {},
   "source": [
    "## Functies\n",
    "\n",
    "Maak een functie om de klinkers in een string te tellen! Een functie start je met keyword DEF en kan parameters hebben en ook een waarde terug geven (RETURN)"
   ]
  },
  {
   "cell_type": "code",
   "execution_count": 15,
   "metadata": {},
   "outputs": [
    {
     "name": "stdout",
     "output_type": "stream",
     "text": [
      "Ventilatie bevat  5 klinkers\n",
      "Apen bevat  2 klinkers\n",
      "ventilatie bevat 5 klinkers\n",
      "apen bevat 2 klinkers\n",
      "ventilatie bevat 5 klinkers\n"
     ]
    }
   ],
   "source": [
    "def KlinkersTellenMetInput(): # is gewoon voorbeeld, geen goede manier van coderen om invoer te vragen in functie!\n",
    "    count = 0\n",
    "    tekst = input(\"Geef woord in\").lower()\n",
    "    # klinkers: a e u i o\n",
    "    for letter in tekst:\n",
    "        if letter==\"a\" or letter==\"e\" or letter==\"u\" or letter==\"i\" or letter ==\"o\":\n",
    "            count+=1\n",
    "    print(tekst,\"bevat\",count,\"klinkers\")\n",
    "\n",
    "\n",
    "def KlinkersTellenMetPrint(tekst):\n",
    "    count = 0\n",
    "    tekst = tekst.lower()\n",
    "    # klinkers: a e u i o\n",
    "    for letter in tekst:\n",
    "        if letter==\"a\" or letter==\"e\" or letter==\"u\" or letter==\"i\" or letter ==\"o\":\n",
    "            count+=1\n",
    "    print(tekst,\"bevat\",count,\"klinkers\")\n",
    "    \n",
    "\n",
    "def KlinkersTellen(tekst):\n",
    "    count = 0\n",
    "    tekst = tekst.lower()\n",
    "    # klinkers: a e u i o\n",
    "    for letter in tekst:\n",
    "        if letter==\"a\" or letter==\"e\" or letter==\"u\" or letter==\"i\" or letter ==\"o\":\n",
    "            count+=1\n",
    "    return count\n",
    "\n",
    "print(\"Ventilatie bevat \", KlinkersTellen(\"ventilatie\"), \"klinkers\") \n",
    "print(\"Apen bevat \", KlinkersTellen(\"Apen\"), \"klinkers\") \n",
    "\n",
    "KlinkersTellenMetPrint(\"ventilatie\")\n",
    "KlinkersTellenMetPrint(\"Apen\")\n",
    "\n",
    "KlinkersTellenMetInput()"
   ]
  },
  {
   "attachments": {},
   "cell_type": "markdown",
   "metadata": {},
   "source": [
    "### Oefening functie\n",
    "Find next prime number, use a function!\n",
    "\n"
   ]
  },
  {
   "cell_type": "code",
   "execution_count": 2,
   "metadata": {},
   "outputs": [
    {
     "name": "stdout",
     "output_type": "stream",
     "text": [
      "13 17\n"
     ]
    }
   ],
   "source": [
    "def VolgendePriemgetalNoah(x):\n",
    "    y, n = 0, 0\n",
    "    x += 1\n",
    "    while n!=5:\n",
    "        for i in range(1,x+1):\n",
    "            if (x % i == 0):\n",
    "                y+=1\n",
    "        if y == 2:\n",
    "            n = 5\n",
    "            return x\n",
    "        else:\n",
    "            x += 1\n",
    "        y = 0\n",
    "\n",
    "\n",
    "print(13, \" --> \", VolgendePriemgetalNoah(13))"
   ]
  },
  {
   "cell_type": "code",
   "execution_count": 9,
   "metadata": {},
   "outputs": [
    {
     "name": "stdout",
     "output_type": "stream",
     "text": [
      "13  -->  17\n",
      "1 --> 2\n",
      "2 --> 3\n",
      "3 --> 5\n",
      "4 --> 5\n",
      "5 --> 7\n",
      "6 --> 7\n",
      "7 --> 11\n",
      "8 --> 11\n",
      "9 --> 11\n",
      "10 --> 11\n",
      "11 --> 13\n",
      "12 --> 13\n",
      "13 --> 17\n",
      "14 --> 17\n",
      "15 --> 17\n",
      "16 --> 17\n",
      "17 --> 19\n",
      "18 --> 19\n",
      "19 --> 23\n",
      "20 --> 23\n",
      "21 --> 23\n",
      "22 --> 23\n",
      "23 --> 29\n",
      "24 --> 29\n",
      "25 --> 29\n",
      "26 --> 29\n",
      "27 --> 29\n",
      "28 --> 29\n",
      "29 --> 31\n",
      "30 --> 31\n",
      "31 --> 37\n",
      "32 --> 37\n",
      "33 --> 37\n",
      "34 --> 37\n",
      "35 --> 37\n",
      "36 --> 37\n",
      "37 --> 41\n",
      "38 --> 41\n",
      "39 --> 41\n",
      "40 --> 41\n",
      "41 --> 43\n",
      "42 --> 43\n",
      "43 --> 47\n",
      "44 --> 47\n",
      "45 --> 47\n",
      "46 --> 47\n",
      "47 --> 53\n",
      "48 --> 53\n",
      "49 --> 53\n",
      "50 --> 53\n",
      "51 --> 53\n",
      "52 --> 53\n",
      "53 --> 59\n",
      "54 --> 59\n",
      "55 --> 59\n",
      "56 --> 59\n",
      "57 --> 59\n",
      "58 --> 59\n",
      "59 --> 61\n",
      "60 --> 61\n",
      "61 --> 67\n",
      "62 --> 67\n",
      "63 --> 67\n",
      "64 --> 67\n",
      "65 --> 67\n",
      "66 --> 67\n",
      "67 --> 71\n",
      "68 --> 71\n",
      "69 --> 71\n",
      "70 --> 71\n",
      "71 --> 73\n",
      "72 --> 73\n",
      "73 --> 79\n",
      "74 --> 79\n",
      "75 --> 79\n",
      "76 --> 79\n",
      "77 --> 79\n",
      "78 --> 79\n",
      "79 --> 83\n",
      "80 --> 83\n",
      "81 --> 83\n",
      "82 --> 83\n",
      "83 --> 89\n",
      "84 --> 89\n",
      "85 --> 89\n",
      "86 --> 89\n",
      "87 --> 89\n",
      "88 --> 89\n",
      "89 --> 97\n",
      "90 --> 97\n",
      "91 --> 97\n",
      "92 --> 97\n",
      "93 --> 97\n",
      "94 --> 97\n",
      "95 --> 97\n",
      "96 --> 97\n",
      "97 --> 101\n",
      "98 --> 101\n",
      "99 --> 101\n"
     ]
    }
   ],
   "source": [
    "def Priemgetal(getal):\n",
    "    delers=0\n",
    "    for deler in range(1,getal):\n",
    "        if getal % deler == 0:\n",
    "            delers += 1\n",
    "\n",
    "    if delers==1 or getal == 2 or getal==3: \n",
    "        return True\n",
    "    else:\n",
    "        return False\n",
    "\n",
    "def VolgendPriemgetal(x):\n",
    "    x+=1\n",
    "    while not Priemgetal(x): \n",
    "        x+=1\n",
    "    return x\n",
    "\n",
    "print(13, \" --> \", VolgendPriemgetal(13))\n",
    "\n",
    "for i in range(1,100):\n",
    "    print(i,\"-->\",VolgendPriemgetal(i))"
   ]
  },
  {
   "attachments": {},
   "cell_type": "markdown",
   "metadata": {},
   "source": [
    "## Collections\n",
    "### List []"
   ]
  },
  {
   "cell_type": "code",
   "execution_count": 32,
   "metadata": {},
   "outputs": [
    {
     "name": "stdout",
     "output_type": "stream",
     "text": [
      "['appel', 'peer', 1, False, 9.8, [], 9]\n",
      "['appel', 'peer', 1, False, 9.8, [], 9, 'appel', 5]\n",
      "['appel', 'peer', 1, False, 9.8, [], 9, 'appel']\n",
      "2\n",
      "8\n",
      "['peer', 1, False, 9.8, [], 9, 'appel']\n",
      "['appel', 9, [], 9.8, False, 1, 'peer']\n",
      "['peer', 'appel', 9, [], 9.8, False, 1, 'peer']\n",
      "peer\n",
      "1\n",
      "peer\n",
      "[]\n"
     ]
    }
   ],
   "source": [
    "list = [\"appel\", \"peer\", 1, False, 9.8, [], 9] # []  lege lijst\n",
    "\n",
    "print(list)\n",
    "list.append(\"appel\")\n",
    "list.append(5)\n",
    "print(list)\n",
    "list.pop()\n",
    "print(list)\n",
    "print(list.count(\"appel\"))\n",
    "print(len(list))\n",
    "list.remove(\"appel\")\n",
    "print(list)\n",
    "list.reverse()\n",
    "print(list)\n",
    "# list.sort() --> kan alleen met zelfde type elementen\n",
    "list.insert(0, \"peer\")\n",
    "print(list)\n",
    "\n",
    "print(list[-1]) # laatste element\n",
    "print(list[-2]) # voorlaatste element\n",
    "print(list[0])  # eerste element\n",
    "\n",
    "list.clear()\n",
    "print(list)\n"
   ]
  },
  {
   "attachments": {},
   "cell_type": "markdown",
   "metadata": {},
   "source": [
    "#### Lijsten vullen "
   ]
  },
  {
   "cell_type": "code",
   "execution_count": 45,
   "metadata": {},
   "outputs": [
    {
     "name": "stdout",
     "output_type": "stream",
     "text": [
      "[0, 1, 2, 3, 4, 5, 6, 7, 8, 9, 10, 11, 12, 13, 14, 15, 16, 17, 18, 19, 20, 21, 22, 23, 24, 25, 26, 27, 28, 29, 30, 31, 32, 33, 34, 35, 36, 37, 38, 39, 40, 41, 42, 43, 44, 45, 46, 47, 48, 49, 50, 51, 52, 53, 54, 55, 56, 57, 58, 59, 60, 61, 62, 63, 64, 65, 66, 67, 68, 69, 70, 71, 72, 73, 74, 75, 76, 77, 78, 79, 80, 81, 82, 83, 84, 85, 86, 87, 88, 89, 90, 91, 92, 93, 94, 95, 96, 97, 98, 99]\n",
      "[0, 1, 2, 3, 4, 5, 6, 7, 8, 9, 10, 11, 12, 13, 14, 15, 16, 17, 18, 19, 20, 21, 22, 23, 24, 25, 26, 27, 28, 29, 30, 31, 32, 33, 34, 35, 36, 37, 38, 39, 40, 41, 42, 43, 44, 45, 46, 47, 48, 49, 50, 51, 52, 53, 54, 55, 56, 57, 58, 59, 60, 61, 62, 63, 64, 65, 66, 67, 68, 69, 70, 71, 72, 73, 74, 75, 76, 77, 78, 79, 80, 81, 82, 83, 84, 85, 86, 87, 88, 89, 90, 91, 92, 93, 94, 95, 96, 97, 98, 99]\n",
      "[0, 2, 4, 6, 8, 10, 12, 14, 16, 18, 20, 22, 24, 26, 28, 30, 32, 34, 36, 38, 40, 42, 44, 46, 48, 50, 52, 54, 56, 58, 60, 62, 64, 66, 68, 70, 72, 74, 76, 78, 80, 82, 84, 86, 88, 90, 92, 94, 96, 98]\n",
      "[0, 2, 4, 6, 8, 10, 12, 14, 16, 18, 20, 22, 24, 26, 28, 30, 32, 34, 36, 38, 40, 42, 44, 46, 48, 50, 52, 54, 56, 58, 60, 62, 64, 66, 68, 70, 72, 74, 76, 78, 80, 82, 84, 86, 88, 90, 92, 94, 96, 98]\n",
      "[0, 1, 4, 9, 16, 25, 36, 49, 64, 81, 100, 121, 144, 169, 196, 225, 256, 289, 324, 361, 400, 441, 484, 529, 576, 625, 676, 729, 784, 841, 900, 961, 1024, 1089, 1156, 1225, 1296, 1369, 1444, 1521, 1600, 1681, 1764, 1849, 1936, 2025, 2116, 2209, 2304, 2401, 2500, 2601, 2704, 2809, 2916, 3025, 3136, 3249, 3364, 3481, 3600, 3721, 3844, 3969, 4096, 4225, 4356, 4489, 4624, 4761, 4900, 5041, 5184, 5329, 5476, 5625, 5776, 5929, 6084, 6241, 6400, 6561, 6724, 6889, 7056, 7225, 7396, 7569, 7744, 7921, 8100, 8281, 8464, 8649, 8836, 9025, 9216, 9409, 9604, 9801]\n",
      "[1, 1, 1, 1, 1, 1, 1, 1, 1, 1, 1, 1, 1, 1, 1, 1, 1, 1, 1, 1, 1, 1, 1, 1, 1, 1, 1, 1, 1, 1, 1, 1, 1, 1, 1, 1, 1, 1, 1, 1, 1, 1, 1, 1, 1, 1, 1, 1, 1, 1, 1, 1, 1, 1, 1, 1, 1, 1, 1, 1, 1, 1, 1, 1, 1, 1, 1, 1, 1, 1, 1, 1, 1, 1, 1, 1, 1, 1, 1, 1, 1, 1, 1, 1, 1, 1, 1, 1, 1, 1, 1, 1, 1, 1, 1, 1, 1, 1, 1, 1]\n"
     ]
    }
   ],
   "source": [
    "list = [x for x in range(0,100)] # 100 elementen in lijst op pythonic manier\n",
    "print(list)\n",
    "\n",
    "list = []\n",
    "for x in range(0,100):  # 100 elementen in lijst op algoritmische manier\n",
    "    list.append(x)\n",
    "print(list)\n",
    "\n",
    "\n",
    "list = [] \n",
    "for x in range(0,100):  # alleen de even getallen tussen 0 en 100\n",
    "    if (x % 2 == 0):\n",
    "        list.append(x)\n",
    "print(list)\n",
    "\n",
    "list = [x for x in range(0,100,2)] # alleen de even getallen tussen 0 en 100\n",
    "print(list)\n",
    "\n",
    "list = [x**2 for x in range(0,100)] # kwadraten \n",
    "print(list)\n",
    "\n",
    "# lijst vullen met een 1\n",
    "list = [1 for x in range(0,100)]\n",
    "print(list)"
   ]
  },
  {
   "attachments": {},
   "cell_type": "markdown",
   "metadata": {},
   "source": [
    "#### Lijsten overlopen & checken"
   ]
  },
  {
   "cell_type": "code",
   "execution_count": 51,
   "metadata": {},
   "outputs": [
    {
     "name": "stdout",
     "output_type": "stream",
     "text": [
      "1-1-1-1-1-1-1-1-1-1-1-1-1-1-1-1-1-1-1-1-1-1-1-1-1-1-1-1-1-1-1-1-1-1-1-1-1-1-1-1-1-1-1-1-1-1-1-1-1-1-1-1-1-1-1-1-1-1-1-1-1-1-1-1-1-1-1-1-1-1-1-1-1-1-1-1-1-1-1-1-1-1-1-1-1-1-1-1-1-1-1-1-1-1-1-1-1-1-1-1-\n",
      "1 zit in lijst True\n",
      "0 zit in lijst False\n",
      "ja 1 zit erin\n",
      "ventilatie bevat 5 klinkers\n",
      "apen bevat 2 klinkers\n"
     ]
    }
   ],
   "source": [
    "for x in list:\n",
    "    print(x, end=\"-\")\n",
    "\n",
    "print()\n",
    "print(\"1 zit in lijst\",1 in list)\n",
    "print(\"0 zit in lijst\",0 in list)\n",
    "\n",
    "if 1 in list:\n",
    "    print(\"ja 1 zit erin\")\n",
    "\n",
    "def KlinkersMetLijst(tekst):\n",
    "    count = 0;\n",
    "    tekst = tekst.lower()\n",
    "    # klinkers: a e u i o\n",
    "    for letter in tekst:\n",
    "        if letter in \"aeuio\":   #NOOIT VERGETEN: STRING IS EEN LIJST VAN KARAKTERS!!!\n",
    "            count+=1\n",
    "    print(tekst,\"bevat\",count,\"klinkers\")\n",
    "\n",
    "KlinkersMetLijst(\"ventilatie\")\n",
    "KlinkersMetLijst(\"Apen\")"
   ]
  },
  {
   "cell_type": "code",
   "execution_count": 59,
   "metadata": {},
   "outputs": [
    {
     "name": "stdout",
     "output_type": "stream",
     "text": [
      "appel is een palindroom False\n",
      "lepel is een palindroom True\n",
      "ap\n",
      "e\n"
     ]
    }
   ],
   "source": [
    "def CheckPalindroom(woord):\n",
    "    if woord[::-1] == woord:\n",
    "        return True\n",
    "    else:\n",
    "        return False\n",
    "\n",
    "print(\"appel is een palindroom\", CheckPalindroom(\"appel\"))\n",
    "print(\"lepel is een palindroom\", CheckPalindroom(\"lepel\"))\n",
    "\n",
    "print(\"appel\"[0:2])\n",
    "print(\"appel\"[-2:-1])"
   ]
  },
  {
   "cell_type": "code",
   "execution_count": 65,
   "metadata": {},
   "outputs": [
    {
     "name": "stdout",
     "output_type": "stream",
     "text": [
      "1 2 \n",
      "3 4 \n",
      "5 6 \n",
      "\n",
      "1 2 \n",
      "3 4 \n",
      "5 6 \n"
     ]
    }
   ],
   "source": [
    "list2D = [[1,2],[3,4],[5,6]]\n",
    "for rij in list2D:\n",
    "    for element in rij:\n",
    "        print(element, end=\" \")\n",
    "    print()\n",
    "\n",
    "print()\n",
    "\n",
    "# als we ons willen pijnigen en C# in Python willen coderen ;)\n",
    "for i in range(0,len(list2D)):\n",
    "    for j in range(0,len(list2D[i])):\n",
    "        print(list2D[i][j], end=\" \")\n",
    "    print()"
   ]
  },
  {
   "attachments": {},
   "cell_type": "markdown",
   "metadata": {},
   "source": [
    "### Tuple (), set {} & dictionary {k:v}"
   ]
  },
  {
   "cell_type": "code",
   "execution_count": 69,
   "metadata": {},
   "outputs": [
    {
     "name": "stdout",
     "output_type": "stream",
     "text": [
      "('ma', 'di', 'wo', 'do', 'vr', 'za', 'zo')\n"
     ]
    }
   ],
   "source": [
    "weekdagen = (\"ma\", \"di\", \"wo\", \"do\", \"vr\", \"za\", \"zo\")\n",
    "print(weekdagen)\n",
    "\n",
    "# weekdagen[0] = \"zo\" --> kan niet, tuple ligt vast van zodra gemaakt!"
   ]
  },
  {
   "cell_type": "code",
   "execution_count": 77,
   "metadata": {},
   "outputs": [
    {
     "name": "stdout",
     "output_type": "stream",
     "text": [
      "Set:  {1, 2, 3, 5, 7, 11, 13, 17, 19, 23, 29, 31, 37, 41, 43, 47, 53, 59, 61, 67, 71, 73, 79, 83, 89, 97, 101}\n",
      "List:  [1, 2, 3, 5, 5, 7, 7, 11, 11, 11, 11, 13, 13, 17, 17, 17, 17, 19, 19, 23, 23, 23, 23, 29, 29, 29, 29, 29, 29, 31, 31, 37, 37, 37, 37, 37, 37, 41, 41, 41, 41, 43, 43, 47, 47, 47, 47, 53, 53, 53, 53, 53, 53, 59, 59, 59, 59, 59, 59, 61, 61, 67, 67, 67, 67, 67, 67, 71, 71, 71, 71, 73, 73, 79, 79, 79, 79, 79, 79, 83, 83, 83, 83, 89, 89, 89, 89, 89, 89, 97, 97, 97, 97, 97, 97, 97, 97, 101, 101, 101]\n"
     ]
    }
   ],
   "source": [
    "# set van priemgetallen\n",
    "priemgetallen_set = { 1, 2}\n",
    "priemgetallen_list = [ 1, 2]\n",
    "for x in range(2,100):\n",
    "    priemgetal= VolgendPriemgetal(x)\n",
    "    priemgetallen_set.add(priemgetal)\n",
    "    priemgetallen_list.append(priemgetal)\n",
    "\n",
    "print(\"Set: \",priemgetallen_set)\n",
    "print(\"List: \",priemgetallen_list)"
   ]
  },
  {
   "cell_type": "code",
   "execution_count": 97,
   "metadata": {},
   "outputs": [
    {
     "name": "stdout",
     "output_type": "stream",
     "text": [
      "{2: {2, 29, 23}, 3: {3, 37, 31}, 5: {59, 53, 5}, 7: {73, 79, 71, 7}, 1: {101, 11, 13, 17, 19}, 4: {41, 43, 47}, 6: {67, 61}, 8: {89, 83}, 9: {97}}\n",
      "{1: {101, 11, 13, 17, 19}, 2: {2, 29, 23}, 3: {3, 37, 31}, 4: {41, 43, 47}, 5: {59, 53, 5}, 6: {67, 61}, 7: {73, 79, 71, 7}, 8: {89, 83}, 9: {97}}\n"
     ]
    }
   ],
   "source": [
    "# dictionary van priemgetallen, sorteren op eerste cijfer ;)\n",
    "\n",
    "dictionary = {}\n",
    "for x in range(0,100):\n",
    "    priemgetal = VolgendPriemgetal(x)\n",
    "    key = int(str(priemgetal)[0])\n",
    "    if key in dictionary:\n",
    "        dictionary[key].add(priemgetal)\n",
    "    else:\n",
    "        dictionary[key] = {priemgetal}\n",
    "\n",
    "print(dictionary)\n",
    "\n",
    "# Sort the dictionary based on keys\n",
    "sorted_dict = dict(sorted(dictionary.items()))\n",
    "\n",
    "print(sorted_dict)\n",
    "# Output: {'a': 1, 'b': 2, 'c': 3}\n",
    "\n"
   ]
  },
  {
   "attachments": {},
   "cell_type": "markdown",
   "metadata": {},
   "source": [
    "### Oefening \n",
    "\n",
    "Create a list of random numbers! Count the number of odd numbers in a list using a loop and an if-structure.\n",
    "\n",
    "How to use random in Python?\n",
    "\n",
    "import random\n",
    "random_number = random.randint(1, 10) \n",
    "print(random_number)"
   ]
  },
  {
   "cell_type": "code",
   "execution_count": 103,
   "metadata": {},
   "outputs": [
    {
     "name": "stdout",
     "output_type": "stream",
     "text": [
      "[45, 65, 6, 52, 24, 51, 31, 39, 91, 85, 15, 38, 7, 91, 4, 32, 46, 68, 82, 55, 1, 78, 51, 57, 43, 41, 56, 65, 6, 26, 100, 19, 59, 24, 26, 36, 96, 81, 10, 22, 45, 18, 67, 38, 86, 89, 54, 89, 97, 95, 9, 41, 4, 8, 38, 63, 31, 65, 3, 20, 17, 44, 85, 14, 41, 30, 68, 82, 100, 6, 29, 8, 75, 80, 88, 87, 90, 50, 61, 55, 36, 95, 42, 26, 71, 62, 43, 26, 4, 69, 30, 30, 24, 16, 23, 10, 58, 17, 74, 87]\n",
      "Oneven getallen 47\n"
     ]
    }
   ],
   "source": [
    "import random\n",
    "\n",
    "list = []\n",
    "count = 0\n",
    "for x in range(0,100):\n",
    "    list.append(random.randint(0,100))\n",
    "    if list[x] % 2 != 0:    # if list[-1] % 2 != 0: \n",
    "        count += 1\n",
    "\n",
    "    # andere versie\n",
    "    # number = random.randint(0,100)\n",
    "    # list.append(number)\n",
    "    # if number % 2 != 0:\n",
    "    #   count += 1\n",
    "\n",
    "print(list)\n",
    "print(\"Oneven getallen\", count)"
   ]
  },
  {
   "attachments": {},
   "cell_type": "markdown",
   "metadata": {},
   "source": [
    "## Extra oefeningen\n",
    "\n",
    "Lists:\n",
    "- Write a Python function that takes a list of integers as an input and returns the sum of all the even numbers in the list.\n",
    "- Write a Python program that takes two lists and returns a new list that contains only the common elements between the two lists.\n",
    "- Write a Python program that removes duplicates from a given list and returns the new list.\n",
    "\n",
    "Dictionaries:\n",
    "- Write a Python program that creates a dictionary of words and their frequencies in a given string.\n",
    "- Write a Python program that takes a dictionary and returns a new dictionary with keys and values swapped.\n",
    "- Write a Python program that merges two dictionaries.\n",
    "\n",
    "Tuples:\n",
    "- Write a Python program that takes a list of tuples and sorts them by the second element of each tuple.\n",
    "- Write a Python program that creates a tuple of the first 10 Fibonacci numbers.\n",
    "- Write a Python program that takes a tuple of integers and returns the sum of all the even numbers in the tuple.\n",
    "\n",
    "Sets:\n",
    "- Write a Python program that takes two sets and returns a new set that contains only the elements that are in both sets.\n",
    "- Write a Python program that removes all the duplicates from a given set.\n",
    "- Write a Python program that checks if a given set is a subset of another set.\n",
    "\n",
    "Loops:\n",
    "- Write a Python program that prints all the prime numbers between 1 and 100.\n",
    "- Write a Python program that takes a list of integers and prints the square of each number.\n",
    "- Write a Python program that prints the multiplication table of a given number.\n",
    "\n",
    "If structures:\n",
    "- Write a Python program that takes an integer and prints whether it is even or odd.\n",
    "- Write a Python program that takes three integers and prints the maximum of the three.\n",
    "- Write a Python program that takes a string and checks whether it is a palindrome or not."
   ]
  }
 ],
 "metadata": {
  "kernelspec": {
   "display_name": "Python 3",
   "language": "python",
   "name": "python3"
  },
  "language_info": {
   "codemirror_mode": {
    "name": "ipython",
    "version": 3
   },
   "file_extension": ".py",
   "mimetype": "text/x-python",
   "name": "python",
   "nbconvert_exporter": "python",
   "pygments_lexer": "ipython3",
   "version": "3.11.2"
  },
  "orig_nbformat": 4,
  "vscode": {
   "interpreter": {
    "hash": "592dbb3af1cefdf1db2c3ce44df4f5e817be23969bceca6ee01d4e52efc0b099"
   }
  }
 },
 "nbformat": 4,
 "nbformat_minor": 2
}
