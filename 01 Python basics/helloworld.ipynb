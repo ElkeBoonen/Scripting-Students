{
 "cells": [
  {
   "attachments": {},
   "cell_type": "markdown",
   "metadata": {},
   "source": [
    "# Les 1 - Python basics - 13/02\n",
    "\n",
    "- basics\n",
    "- flow control"
   ]
  },
  {
   "cell_type": "code",
   "execution_count": null,
   "metadata": {},
   "outputs": [],
   "source": [
    "print(\"hello world\")"
   ]
  },
  {
   "attachments": {},
   "cell_type": "markdown",
   "metadata": {},
   "source": [
    "## Input & output\n",
    "\n",
    "Alle input is tekst! Niet vergeten te converteren indien nodig!\n",
    "* int() zet om naar int\n",
    "* float() zet om naar float\n",
    "* str() zet om naar str"
   ]
  },
  {
   "cell_type": "code",
   "execution_count": null,
   "metadata": {},
   "outputs": [],
   "source": [
    "# x = input(\"Geef een waarde in:\")\n",
    "x = \"10\"\n",
    "print(x)\n",
    "print(\"de waarde van x is\",x)\n",
    "print(\"de waarde van x is \" + x)\n",
    "print(type(x))\n",
    "print(x+x)\n",
    "y = int(x)+int(x)  \n",
    "print(y)\n",
    "print(str(y)+str(y))\n",
    "print(float(y))"
   ]
  },
  {
   "attachments": {},
   "cell_type": "markdown",
   "metadata": {},
   "source": [
    "## Expressies\n",
    "### Rekenkundige"
   ]
  },
  {
   "cell_type": "code",
   "execution_count": null,
   "metadata": {},
   "outputs": [],
   "source": [
    "x, y, z = 10, 3, \"iets\"\n",
    "\n",
    "print(x+y)\n",
    "print(x-y)\n",
    "print(x*y)\n",
    "print(x/y)  # gewone deling\n",
    "print(x//y) # integer deling\n",
    "print(z)\n",
    "print(x%y)  # rest na integer deling!!\n",
    "print(x**y)\n"
   ]
  },
  {
   "attachments": {},
   "cell_type": "markdown",
   "metadata": {},
   "source": [
    "### Toekenningsoperatoren"
   ]
  },
  {
   "cell_type": "code",
   "execution_count": null,
   "metadata": {},
   "outputs": [],
   "source": [
    "print(x)\n",
    "x += y;print(x)\n",
    "x -= y;print(x)\n",
    "x *= y;print(x)\n",
    "x /= y;print(y)\n",
    "\n",
    "# x++ bestaat hier niet!\n",
    "x+=1 # python alternatief\n",
    "print(x)\n"
   ]
  },
  {
   "attachments": {},
   "cell_type": "markdown",
   "metadata": {},
   "source": [
    "### Vergelijkingsoperatoren"
   ]
  },
  {
   "cell_type": "code",
   "execution_count": null,
   "metadata": {},
   "outputs": [],
   "source": [
    "print(x < y)\n",
    "print(x > y)\n",
    "print(x == y)\n",
    "print(x != y)\n",
    "print(x <= y)\n",
    "print(x >= y)"
   ]
  },
  {
   "attachments": {},
   "cell_type": "markdown",
   "metadata": {},
   "source": [
    "### Built-in functionaliteit\n",
    "https://www.w3schools.com/python/python_ref_functions.asp"
   ]
  },
  {
   "cell_type": "code",
   "execution_count": null,
   "metadata": {},
   "outputs": [],
   "source": [
    "print(round(x/y,2))\n",
    "print(z.capitalize())\n",
    "print(z.upper())\n",
    "print(z.replace(\"e\",\"i\"))\n",
    "print(x-20)\n",
    "print(x-20, \"absolute waarde is\", abs(x-20))\n"
   ]
  },
  {
   "attachments": {},
   "cell_type": "markdown",
   "metadata": {},
   "source": [
    "## Flow control\n",
    "\n",
    "### if structuur"
   ]
  },
  {
   "cell_type": "code",
   "execution_count": null,
   "metadata": {},
   "outputs": [],
   "source": [
    "if x > 0:\n",
    "    print(\"x is positief\")\n",
    "elif (x < 0): # haakjes zijn niet nodig en maken het ook onduidelijker\n",
    "    print(\"x is negatief\")\n",
    "else:\n",
    "    print(\"x is nul\")"
   ]
  },
  {
   "attachments": {},
   "cell_type": "markdown",
   "metadata": {},
   "source": [
    "### lus structuren\n",
    "\n",
    "- for -> begrensde herhaling -> itereren, lopen ergens over\n",
    "- while -> voorwaardelijke herhaling -> hangt af van voorwaarde\n",
    "\n",
    "combineren van voorwaarden: and or not\n",
    "\n",
    "and: both conditions are met\n",
    "or: at least one condition is met\n",
    "not: reverse result of condition"
   ]
  },
  {
   "cell_type": "code",
   "execution_count": null,
   "metadata": {},
   "outputs": [],
   "source": [
    "for i in range(0,10):\n",
    "    print(i, end=' ')\n",
    "\n",
    "print()\n",
    "\n",
    "for letter in \"woord\":\n",
    "    print(letter, end=\" - \")"
   ]
  },
  {
   "cell_type": "code",
   "execution_count": null,
   "metadata": {},
   "outputs": [],
   "source": [
    "print(x)\n",
    "\n",
    "x=10\n",
    "while x < 1000:\n",
    "    x*=2\n",
    "    print(x,end=\" \") # we zien x over 1000\n",
    "\n",
    "print()\n",
    "x=10\n",
    "while x < 1000:\n",
    "    print(x,end=\" \") # we zien x niet over 1000\n",
    "    x*=2\n",
    "\n",
    "# oneindige lussen --> als variabele van conditie niet wordt aangepast in lus zelf!!!\n",
    "# x=10\n",
    "# while x < 1000:\n",
    "#    print(x,end=\" \")"
   ]
  },
  {
   "attachments": {},
   "cell_type": "markdown",
   "metadata": {},
   "source": [
    "#### Oefening: Is een ingegeven getal een priemgetal of niet?\n",
    "getal enkel door zichzelf en 1 deelbaar!"
   ]
  },
  {
   "cell_type": "code",
   "execution_count": 44,
   "metadata": {},
   "outputs": [
    {
     "name": "stdout",
     "output_type": "stream",
     "text": [
      "Getal is een priemgetal\n"
     ]
    }
   ],
   "source": [
    "getal, delers = int(input(\"Geef getal in\")), 0\n",
    "\n",
    "for deler in range(1,getal//2):\n",
    "    if getal % deler == 0:\n",
    "        delers += 1\n",
    "\n",
    "if delers==1 or getal == 2 or getal==3: \n",
    "    print(\"Getal is een priemgetal\")\n",
    "else:\n",
    "     print(\"Getal is geen priemgetal\")"
   ]
  },
  {
   "cell_type": "code",
   "execution_count": 39,
   "metadata": {},
   "outputs": [
    {
     "name": "stdout",
     "output_type": "stream",
     "text": [
      "13 is a prime number\n"
     ]
    }
   ],
   "source": [
    "# CHATGPT\n",
    "\n",
    "def is_prime(n):\n",
    "    if n <= 1:\n",
    "        return False\n",
    "    for i in range(2, int(n ** 0.5) + 1):\n",
    "        if n % i == 0:\n",
    "            return False\n",
    "    return True\n",
    "\n",
    "num = int(input(\"Enter a number: \"))\n",
    "if is_prime(num):\n",
    "    print(num, \"is a prime number\")\n",
    "else:\n",
    "    print(num, \"is not a prime number\")\n"
   ]
  },
  {
   "attachments": {},
   "cell_type": "markdown",
   "metadata": {},
   "source": [
    "## Oefeningen\n",
    "\n",
    "\n",
    "FizzBuzz: Write a program that prints the numbers from 1 to 100. For multiples of 3, print \"Fizz\" instead of the number, and for multiples of 5, print \"Buzz\". For numbers which are multiples of both 3 and 5, print \"FizzBuzz\"."
   ]
  },
  {
   "cell_type": "code",
   "execution_count": 1,
   "metadata": {},
   "outputs": [
    {
     "name": "stdout",
     "output_type": "stream",
     "text": [
      "1\n",
      "2\n",
      "Fizz\n",
      "4\n",
      "Buzz\n",
      "Fizz\n",
      "7\n",
      "8\n",
      "Fizz\n",
      "Buzz\n",
      "11\n",
      "Fizz\n",
      "13\n",
      "14\n",
      "FizzBuzz\n",
      "16\n",
      "17\n",
      "Fizz\n",
      "19\n",
      "Buzz\n",
      "Fizz\n",
      "22\n",
      "23\n",
      "Fizz\n",
      "Buzz\n",
      "26\n",
      "Fizz\n",
      "28\n",
      "29\n",
      "FizzBuzz\n",
      "31\n",
      "32\n",
      "Fizz\n",
      "34\n",
      "Buzz\n",
      "Fizz\n",
      "37\n",
      "38\n",
      "Fizz\n",
      "Buzz\n",
      "41\n",
      "Fizz\n",
      "43\n",
      "44\n",
      "FizzBuzz\n",
      "46\n",
      "47\n",
      "Fizz\n",
      "49\n",
      "Buzz\n",
      "Fizz\n",
      "52\n",
      "53\n",
      "Fizz\n",
      "Buzz\n",
      "56\n",
      "Fizz\n",
      "58\n",
      "59\n",
      "FizzBuzz\n",
      "61\n",
      "62\n",
      "Fizz\n",
      "64\n",
      "Buzz\n",
      "Fizz\n",
      "67\n",
      "68\n",
      "Fizz\n",
      "Buzz\n",
      "71\n",
      "Fizz\n",
      "73\n",
      "74\n",
      "FizzBuzz\n",
      "76\n",
      "77\n",
      "Fizz\n",
      "79\n",
      "Buzz\n",
      "Fizz\n",
      "82\n",
      "83\n",
      "Fizz\n",
      "Buzz\n",
      "86\n",
      "Fizz\n",
      "88\n",
      "89\n",
      "FizzBuzz\n",
      "91\n",
      "92\n",
      "Fizz\n",
      "94\n",
      "Buzz\n",
      "Fizz\n",
      "97\n",
      "98\n",
      "Fizz\n"
     ]
    }
   ],
   "source": [
    "for i in range(1,100):\n",
    "    if i % 3==0 and i % 5==0:\n",
    "        print(\"FizzBuzz\")\n",
    "    elif i % 3 == 0:\n",
    "         print(\"Fizz\")\n",
    "    elif i % 5 == 0:\n",
    "         print(\"Buzz\")\n",
    "    else:\n",
    "        print(i)"
   ]
  },
  {
   "cell_type": "code",
   "execution_count": null,
   "metadata": {},
   "outputs": [],
   "source": [
    "# CHATGPT\n",
    "for i in range(1, 101):\n",
    "    if i % 3 == 0 and i % 5 == 0:\n",
    "        print(\"FizzBuzz\")\n",
    "    elif i % 3 == 0:\n",
    "        print(\"Fizz\")\n",
    "    elif i % 5 == 0:\n",
    "        print(\"Buzz\")\n",
    "    else:\n",
    "        print(i)\n"
   ]
  },
  {
   "attachments": {},
   "cell_type": "markdown",
   "metadata": {},
   "source": [
    "Sum of numbers: Write a program that takes a positive integer n as input and calculates the sum of all numbers from 1 to n."
   ]
  }
 ],
 "metadata": {
  "kernelspec": {
   "display_name": "Python 3",
   "language": "python",
   "name": "python3"
  },
  "language_info": {
   "codemirror_mode": {
    "name": "ipython",
    "version": 3
   },
   "file_extension": ".py",
   "mimetype": "text/x-python",
   "name": "python",
   "nbconvert_exporter": "python",
   "pygments_lexer": "ipython3",
   "version": "3.11.2"
  },
  "orig_nbformat": 4,
  "vscode": {
   "interpreter": {
    "hash": "592dbb3af1cefdf1db2c3ce44df4f5e817be23969bceca6ee01d4e52efc0b099"
   }
  }
 },
 "nbformat": 4,
 "nbformat_minor": 2
}
