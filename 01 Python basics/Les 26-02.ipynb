{
 "cells": [
  {
   "cell_type": "markdown",
   "metadata": {},
   "source": [
    "# Les 26/02\n",
    "\n",
    "Basis Python (les 1 --> 3)\n",
    "\n",
    "zie markdown --> https://www.markdownguide.org/cheat-sheet/ \n",
    "\n",
    "## Herhalingsoefening\n",
    "\n",
    "- Filter Even Getallen: geef een bovengrens in én toon alleen alle even getallen van 0 tot en met de bovengrens.\n",
    "- Som van Cijfers in een String: geef een string in, zoek alle cijfers en tel ze op!\n",
    "- Vind het Langste Woord: geef een zin in én zoek het langste woord!"
   ]
  },
  {
   "cell_type": "code",
   "execution_count": null,
   "metadata": {},
   "outputs": [
    {
     "name": "stdout",
     "output_type": "stream",
     "text": [
      "0 2 4 6 8 10 12 14 16 18 20 "
     ]
    }
   ],
   "source": [
    "upper = int(input(\"Geef een bovengrens\"))\n",
    "\n",
    "for i in range(0,upper+1):\n",
    "    if i % 2 == 0:\n",
    "        print(i, end=\" \")"
   ]
  },
  {
   "cell_type": "code",
   "execution_count": null,
   "metadata": {},
   "outputs": [
    {
     "name": "stdout",
     "output_type": "stream",
     "text": [
      "20\n"
     ]
    }
   ],
   "source": [
    "text = input(\"Geef tekst in\") # AZERTY12AZE7AZGH0 --> som = 1 + 2 + 7 = 10\n",
    "\n",
    "sum = 0\n",
    "for c in text:\n",
    "    if c in \"123456789\":\n",
    "        sum += int(c)\n",
    "    # if c.isdigit():\n",
    "    #    sum += int(c)\n",
    "print(sum)"
   ]
  },
  {
   "cell_type": "code",
   "execution_count": 10,
   "metadata": {},
   "outputs": [
    {
     "name": "stdout",
     "output_type": "stream",
     "text": [
      "langste\n"
     ]
    }
   ],
   "source": [
    "text = input(\"Geef tekst in\")\n",
    "words = text.split(\" \")\n",
    "\n",
    "longest = \"\"\n",
    "for word in words:\n",
    "    if len(word) > len(longest):\n",
    "        longest = word\n",
    "\n",
    "print(longest)"
   ]
  },
  {
   "cell_type": "markdown",
   "metadata": {},
   "source": [
    "## Functies\n",
    "\n",
    "Schrijf een functie die controleert of een getal een priemgetal is.\n",
    "Gebruik daarna deze funcie in je zoektocht naar het volgende priemgetal na een ingegeven getal!"
   ]
  },
  {
   "cell_type": "code",
   "execution_count": 16,
   "metadata": {},
   "outputs": [
    {
     "name": "stdout",
     "output_type": "stream",
     "text": [
      "898 is priemgetal =  False\n",
      "907 is het volgende priemgetal\n"
     ]
    }
   ],
   "source": [
    "def prime(x):\n",
    "    check = True\n",
    "    for i in range(2,x//2): # je moet maar tot de helft gaan\n",
    "        if x % i == 0:\n",
    "            check = False\n",
    "    return check\n",
    "\n",
    "number = int(input(\"Geef een getal\"))\n",
    "\n",
    "print(number,\"is priemgetal = \", prime(number))\n",
    "\n",
    "number+=1\n",
    "while not prime(number):\n",
    "    number+=1\n",
    "\n",
    "print(number, \"is het volgende priemgetal\")"
   ]
  },
  {
   "cell_type": "markdown",
   "metadata": {},
   "source": [
    "## Collections\n",
    "\n",
    "4 soorten collecties:\n",
    "- lijsten: geordend & aanpasbaar []\n",
    "- tuples: geordend & niet aanpasbaar ()\n",
    "- sets: ongeordend & aanpasbaar, maar geen duplicaten {}\n",
    "- dictionaries: geordend & aanpasbaar, maar geen duplicaten { key:value }\n",
    "\n",
    "arrays --> numpy\n",
    "\n",
    "### List []"
   ]
  },
  {
   "cell_type": "code",
   "execution_count": 80,
   "metadata": {},
   "outputs": [
    {
     "name": "stdout",
     "output_type": "stream",
     "text": [
      "['text', 1, 2, True, False, 'a', 8.8]\n",
      "['apple', 'kiwi', 'banana', 'lemon', 'strawberry', 'pineapple']\n",
      "['apple', 'kiwi', 'banana', 'lemon', 'strawberry', 'pineapple', 'orange', 'mango']\n",
      "['apple', 'kiwi', 'banana', 'lemon', 'strawberry', 'pineapple', 'orange', 'mango', 'apple']\n",
      "['apple', 'kiwi', 'banana', 'strawberry', 'pineapple', 'orange', 'mango', 'apple']\n",
      "['kiwi', 'banana', 'strawberry', 'pineapple', 'orange', 'mango', 'apple']\n",
      "7\n",
      "kiwi\n",
      "apple\n",
      "apple\n",
      "apple\n",
      "mango\n",
      "kiwi\n",
      "False\n",
      "True\n",
      "kiwi banana strawberry pineapple orange mango apple \n",
      "['apple', 'banana', 'kiwi', 'mango', 'orange', 'pineapple', 'strawberry']\n",
      "['strawberry', 'pineapple', 'orange', 'mango', 'kiwi', 'banana', 'apple']\n"
     ]
    }
   ],
   "source": [
    "everything = [\"text\", 1, 2, True, False, \"a\", 8.8] # NOOIT DOEN!!!\n",
    "print(everything)\n",
    "\n",
    "fruit = [\"apple\",\"kiwi\",\"banana\",\"lemon\",\"strawberry\"]\n",
    "fruit.append(\"pineapple\")\n",
    "print(fruit)\n",
    "fruit += [\"orange\", \"mango\"]\n",
    "print(fruit)\n",
    "fruit.append(\"apple\")\n",
    "print(fruit)\n",
    "\n",
    "fruit.remove(\"lemon\")\n",
    "print(fruit)\n",
    "fruit.remove(\"apple\")\n",
    "print(fruit) # eerste voorkomen van apple wordt verwijderd\n",
    "\n",
    "print(len(fruit))\n",
    "\n",
    "print(fruit[0])  # eerste\n",
    "print(fruit[len(fruit)-1])  # laatste\n",
    "print(fruit[6])  # laatste\n",
    "print(fruit[-1]) # laatste\n",
    "print(fruit[-2]) # voorlaatste\n",
    "print(fruit[-7]) # eerste\n",
    "# print(fruit[-8]) --> bestaat niet!\n",
    "\n",
    "print(\"lemon\" in fruit)\n",
    "print(\"apple\" in fruit)\n",
    "\n",
    "for f in fruit:\n",
    "    print(f, end=\" \")\n",
    "\n",
    "print()\n",
    "fruit.sort()\n",
    "print(fruit)\n",
    "fruit.reverse()\n",
    "print(fruit)\n"
   ]
  },
  {
   "cell_type": "code",
   "execution_count": 42,
   "metadata": {},
   "outputs": [
    {
     "name": "stdout",
     "output_type": "stream",
     "text": [
      "[0, 1, 4, 9, 16, 25, 36, 49, 64, 81]\n",
      "0\n",
      "2\n",
      "4\n",
      "6\n",
      "8\n",
      "10\n",
      "12\n",
      "14\n",
      "16\n",
      "18\n"
     ]
    }
   ],
   "source": [
    "numbers = range(0,10)\n",
    "\n",
    "squares = [x**2 for x in numbers]\n",
    "print(squares)\n",
    "\n",
    "even = range(0,20,2)\n",
    "for x in even:\n",
    "    print(x)"
   ]
  },
  {
   "cell_type": "code",
   "execution_count": 45,
   "metadata": {},
   "outputs": [
    {
     "name": "stdout",
     "output_type": "stream",
     "text": [
      "[[1, 2, 3], [4, 5, 6]]\n",
      "1 2 3 \n",
      "4 5 6 \n"
     ]
    }
   ],
   "source": [
    "matrix = [ [1,2,3],[4,5,6]]\n",
    "\n",
    "print(matrix)\n",
    "for row in matrix:\n",
    "    for element in row:\n",
    "        print(element, end=\" \")\n",
    "    print(end=\"\\n\")"
   ]
  },
  {
   "cell_type": "markdown",
   "metadata": {},
   "source": [
    "### tuple ()\n",
    "\n",
    "gebruiken vaststaande collecties --> weekdagen, maanden, seizoenen"
   ]
  },
  {
   "cell_type": "code",
   "execution_count": 49,
   "metadata": {},
   "outputs": [
    {
     "name": "stdout",
     "output_type": "stream",
     "text": [
      "4\n",
      "tuur\n",
      "bob\n"
     ]
    }
   ],
   "source": [
    "kinderen = (\"tuur\",\"jan\",\"mies\",\"bob\")\n",
    "\n",
    "# kinderen.append(\"bla\")\n",
    "\n",
    "print(len(kinderen))\n",
    "print(kinderen[0])\n",
    "print(kinderen[-1])"
   ]
  },
  {
   "cell_type": "markdown",
   "metadata": {},
   "source": [
    "### set {}\n",
    "\n",
    "GEEN DUPLICATEN & ONGEORDEND"
   ]
  },
  {
   "cell_type": "code",
   "execution_count": null,
   "metadata": {},
   "outputs": [
    {
     "name": "stdout",
     "output_type": "stream",
     "text": [
      "{'banana', 'kiwi', 'apple', 'strawberry', 'lemon'}\n",
      "{'banana', 'kiwi', 'apple', 'pineapple', 'strawberry', 'lemon'}\n",
      "{'banana', 'kiwi', 'apple', 'pineapple', 'strawberry', 'lemon'}\n"
     ]
    }
   ],
   "source": [
    "fruit = {\"apple\",\"kiwi\",\"banana\",\"lemon\",\"strawberry\"}\n",
    "print(fruit)\n",
    "fruit.add(\"pineapple\")\n",
    "print(fruit)\n",
    "fruit.add(\"apple\")\n",
    "fruit.add(\"apple\")\n",
    "fruit.add(\"apple\")\n",
    "print(fruit)"
   ]
  },
  {
   "cell_type": "markdown",
   "metadata": {},
   "source": [
    "### dictionary { key:value }\n",
    "\n",
    "GEEN DUPLICATEN in KEYS!!! (wel in values!)"
   ]
  },
  {
   "cell_type": "code",
   "execution_count": 56,
   "metadata": {},
   "outputs": [
    {
     "name": "stdout",
     "output_type": "stream",
     "text": [
      "{'r1234': 'Jan', 'r789': 'Korneel'}\n",
      "{'r1234': 'Jan', 'r789': 'Korneel', 'r5677': 'Piet'}\n",
      "{'r1234': 'Jan', 'r789': 'Korneel', 'r5677': 'Joris'}\n",
      "{'r1234': 'Jan', 'r789': 'Korneel', 'r5677': 'Joris', 'r5678': 'Joris'}\n"
     ]
    }
   ],
   "source": [
    "students = {\"r1234\":\"Jan\", \n",
    "            \"r789\":\"Korneel\"}\n",
    "print(students)\n",
    "students[\"r5677\"] = \"Piet\"\n",
    "print(students)\n",
    "students[\"r5677\"] = \"Joris\" # Piet wordt overschreven want geen duplicatien!\n",
    "print(students)\n",
    "students[\"r5678\"] = \"Joris\" # Joris wordt wel toegevoegd met ander studentennummer\n",
    "print(students)"
   ]
  },
  {
   "cell_type": "markdown",
   "metadata": {},
   "source": [
    "### Oefeningen\n",
    "- Reken het gemiddelde uit per student. Kan je dit ook per toets doen? Voorbeeld: [[8, 7, 6, 9], [9, 9, 8, 8], [6, 7, 8, 7]]\n",
    "- Bereken de volgende zaken: alle getallen samen (unie), getallen die in allebei zitten (overeenkomst) en getallen die alleen in de eerste set zitten (verschil) Voorbeeld: {1, 2, 3, 4} en {3, 4, 5, 6}\n",
    "- Zet woorden in een woordenboek, waarbij de eerste letter de sleutel is en de woorden die met die letter beginnen eronder staan. Voorbeeld: [\"appel\", \"boom\", \"aap\", \"banaan\", \"citroen\", \"aardbei\"] → {'a': [...], 'b': [...], 'c': [...]}"
   ]
  },
  {
   "cell_type": "code",
   "execution_count": 73,
   "metadata": {},
   "outputs": [
    {
     "name": "stdout",
     "output_type": "stream",
     "text": [
      "gemiddelde per student =  7.5\n",
      "gemiddelde per student =  8.5\n",
      "gemiddelde per student =  7.0\n",
      "[7.666666666666667, 7.666666666666667, 7.333333333333333, 8.0]\n"
     ]
    }
   ],
   "source": [
    "cijfers = [[8, 7, 6, 9], [9, 9, 8, 8], [6, 7, 8, 7]]\n",
    "\n",
    "for student in cijfers:\n",
    "    som = 0\n",
    "    for toets in student:\n",
    "        som += toets\n",
    "    print(\"gemiddelde per student = \", som/len(student))\n",
    "\n",
    "gemiddeldes = [0] * len(cijfers[0])\n",
    "for i in range(0,len(cijfers)):\n",
    "    for j in range(0, len(cijfers[i])):\n",
    "        gemiddeldes[j] += cijfers[i][j]\n",
    "\n",
    "print([x/len(cijfers) for x in gemiddeldes])\n",
    "\n"
   ]
  },
  {
   "cell_type": "markdown",
   "metadata": {},
   "source": [
    "## packages\n",
    "\n",
    "https://pypi.org/\n",
    "\n",
    "! pip install naam <br>\n",
    "import naam"
   ]
  },
  {
   "cell_type": "code",
   "execution_count": 81,
   "metadata": {},
   "outputs": [
    {
     "name": "stdout",
     "output_type": "stream",
     "text": [
      "Requirement already satisfied: numpy in c:\\users\\elkeb\\appdata\\local\\programs\\python\\python312\\lib\\site-packages (2.0.2)\n"
     ]
    },
    {
     "name": "stderr",
     "output_type": "stream",
     "text": [
      "\n",
      "[notice] A new release of pip is available: 24.2 -> 25.0.1\n",
      "[notice] To update, run: python.exe -m pip install --upgrade pip\n"
     ]
    }
   ],
   "source": [
    "! pip install numpy"
   ]
  },
  {
   "cell_type": "code",
   "execution_count": 84,
   "metadata": {},
   "outputs": [
    {
     "name": "stdout",
     "output_type": "stream",
     "text": [
      "[1, 2, 3, 4, 5]\n",
      "[1 2 3 4 5]\n",
      "[1, 2, 3, 4, 5, 1, 2, 3, 4, 5]\n",
      "[ 2  4  6  8 10]\n"
     ]
    }
   ],
   "source": [
    "import numpy\n",
    "\n",
    "lijst = [1,2,3,4,5]\n",
    "array = numpy.array(lijst)\n",
    "\n",
    "print(lijst)\n",
    "print(array)\n",
    "\n",
    "print(lijst*2)\n",
    "print(array*2)"
   ]
  },
  {
   "cell_type": "markdown",
   "metadata": {},
   "source": [
    "### Slicen\n",
    "\n",
    "[start:aantal:stap]"
   ]
  },
  {
   "cell_type": "code",
   "execution_count": 105,
   "metadata": {},
   "outputs": [
    {
     "name": "stdout",
     "output_type": "stream",
     "text": [
      "[0, 2, 4, 6, 8, 10, 12, 14, 16, 18]\n",
      "[ 0  2  4  6  8 10 12 14 16 18]\n",
      "0\n",
      "0\n",
      "[0, 2, 4]\n",
      "[0 2 4]\n",
      "[0, 4, 8, 12, 16]\n",
      "[ 0  6 12]\n",
      "[]\n",
      "[18, 16, 14, 12, 10, 8, 6, 4, 2, 0]\n",
      "6\n",
      "[6, 8, 10, 12, 14, 16, 18]\n",
      "[ True  True  True  True  True False False False False False]\n",
      "(array([0, 1, 2, 3, 4]),)\n",
      "[0 2 1 0 2 1 0 2 1 0]\n"
     ]
    }
   ],
   "source": [
    "lijst = [x for x in range(0,20,2)] \n",
    "print(lijst)\n",
    "\n",
    "array = numpy.arange(10)*2\n",
    "print(array)\n",
    "\n",
    "print(lijst[0])\n",
    "print(array[0])\n",
    "\n",
    "print(lijst[0:3])\n",
    "print(array[0:3])\n",
    "\n",
    "print(lijst[0:-1:2]) # van 0 tot einde met stap 2\n",
    "print(array[0:-1:3])\n",
    "\n",
    "print(lijst[-1:0])\n",
    "print(lijst[::-1]) # REVERSE!!!\n",
    "\n",
    "print(lijst[3])\n",
    "print(lijst[3:])\n",
    "\n",
    "\n",
    "print(array < 10)\n",
    "print(numpy.where(array<10))\n",
    "\n",
    "print(array % 3)\n"
   ]
  },
  {
   "cell_type": "markdown",
   "metadata": {},
   "source": [
    "## Pythonic"
   ]
  },
  {
   "cell_type": "code",
   "execution_count": 106,
   "metadata": {},
   "outputs": [
    {
     "name": "stdout",
     "output_type": "stream",
     "text": [
      "The Zen of Python, by Tim Peters\n",
      "\n",
      "Beautiful is better than ugly.\n",
      "Explicit is better than implicit.\n",
      "Simple is better than complex.\n",
      "Complex is better than complicated.\n",
      "Flat is better than nested.\n",
      "Sparse is better than dense.\n",
      "Readability counts.\n",
      "Special cases aren't special enough to break the rules.\n",
      "Although practicality beats purity.\n",
      "Errors should never pass silently.\n",
      "Unless explicitly silenced.\n",
      "In the face of ambiguity, refuse the temptation to guess.\n",
      "There should be one-- and preferably only one --obvious way to do it.\n",
      "Although that way may not be obvious at first unless you're Dutch.\n",
      "Now is better than never.\n",
      "Although never is often better than *right* now.\n",
      "If the implementation is hard to explain, it's a bad idea.\n",
      "If the implementation is easy to explain, it may be a good idea.\n",
      "Namespaces are one honking great idea -- let's do more of those!\n"
     ]
    }
   ],
   "source": [
    "import this"
   ]
  }
 ],
 "metadata": {
  "kernelspec": {
   "display_name": "Python 3",
   "language": "python",
   "name": "python3"
  },
  "language_info": {
   "codemirror_mode": {
    "name": "ipython",
    "version": 3
   },
   "file_extension": ".py",
   "mimetype": "text/x-python",
   "name": "python",
   "nbconvert_exporter": "python",
   "pygments_lexer": "ipython3",
   "version": "3.12.5"
  }
 },
 "nbformat": 4,
 "nbformat_minor": 2
}
