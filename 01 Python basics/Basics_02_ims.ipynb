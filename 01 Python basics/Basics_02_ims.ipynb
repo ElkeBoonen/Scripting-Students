{
 "cells": [
  {
   "attachments": {},
   "cell_type": "markdown",
   "metadata": {},
   "source": [
    "# Les 2 - Python basics - 20/02\n",
    "\n",
    "- functies\n",
    "- lijsten\n",
    "\n",
    "## Herhalingsoefening\n",
    "<b>Sequence of Hailstone</b>\n",
    "- If n is 1 then the sequence ends.\n",
    "- If n is even then the next n of the sequence = n/2\n",
    "- If n is odd then the next n of the sequence = (3 * n) + 1"
   ]
  },
  {
   "cell_type": "code",
   "execution_count": 3,
   "metadata": {},
   "outputs": [
    {
     "name": "stdout",
     "output_type": "stream",
     "text": [
      "60004 30002 15001 45004 22502 11251 33754 16877 50632 25316 12658 6329 18988 9494 4747 14242 7121 21364 10682 5341 16024 8012 4006 2003 6010 3005 9016 4508 2254 1127 3382 1691 5074 2537 7612 3806 1903 5710 2855 8566 4283 12850 6425 19276 9638 4819 14458 7229 21688 10844 5422 2711 8134 4067 12202 6101 18304 9152 4576 2288 1144 572 286 143 430 215 646 323 970 485 1456 728 364 182 91 274 137 412 206 103 310 155 466 233 700 350 175 526 263 790 395 1186 593 1780 890 445 1336 668 334 167 502 251 754 377 1132 566 283 850 425 1276 638 319 958 479 1438 719 2158 1079 3238 1619 4858 2429 7288 3644 1822 911 2734 1367 4102 2051 6154 3077 9232 4616 2308 1154 577 1732 866 433 1300 650 325 976 488 244 122 61 184 92 46 23 70 35 106 53 160 80 40 20 10 5 16 8 4 2 1 "
     ]
    }
   ],
   "source": [
    "n = int(input(\"Enter n\")) # niet vergeten te converteren!\n",
    "while n != 1 and n > 0:\n",
    "    if n % 2 == 0:\n",
    "        n //= 2     # zodat we geen nullen krijgen na de komma, dus niet werken met floats!\n",
    "        print(n, end=\" \")\n",
    "    else:\n",
    "        n = (3*n)+1\n",
    "        print(n, end=\" \")\n"
   ]
  },
  {
   "cell_type": "code",
   "execution_count": 4,
   "metadata": {},
   "outputs": [
    {
     "data": {
      "text/plain": [
       "[2001,\n",
       " 6004,\n",
       " 3002,\n",
       " 1501,\n",
       " 4504,\n",
       " 2252,\n",
       " 1126,\n",
       " 563,\n",
       " 1690,\n",
       " 845,\n",
       " 2536,\n",
       " 1268,\n",
       " 634,\n",
       " 317,\n",
       " 952,\n",
       " 476,\n",
       " 238,\n",
       " 119,\n",
       " 358,\n",
       " 179,\n",
       " 538,\n",
       " 269,\n",
       " 808,\n",
       " 404,\n",
       " 202,\n",
       " 101,\n",
       " 304,\n",
       " 152,\n",
       " 76,\n",
       " 38,\n",
       " 19,\n",
       " 58,\n",
       " 29,\n",
       " 88,\n",
       " 44,\n",
       " 22,\n",
       " 11,\n",
       " 34,\n",
       " 17,\n",
       " 52,\n",
       " 26,\n",
       " 13,\n",
       " 40,\n",
       " 20,\n",
       " 10,\n",
       " 5,\n",
       " 16,\n",
       " 8,\n",
       " 4,\n",
       " 2,\n",
       " 1]"
      ]
     },
     "execution_count": 4,
     "metadata": {},
     "output_type": "execute_result"
    }
   ],
   "source": [
    "# code van ChatGPT\n",
    "\n",
    "def collatz_sequence(n):\n",
    "    \"\"\"\n",
    "    Generates the Collatz sequence starting from n.\n",
    "\n",
    "    Parameters:\n",
    "    n (int): Starting number for the sequence.\n",
    "\n",
    "    Returns:\n",
    "    list: A list containing the Collatz sequence starting from n.\n",
    "    \"\"\"\n",
    "    sequence = [n]\n",
    "    while n != 1:\n",
    "        if n % 2 == 0:\n",
    "            n = n // 2\n",
    "        else:\n",
    "            n = (3 * n) + 1\n",
    "        sequence.append(n)\n",
    "    return sequence\n",
    "\n",
    "collatz_sequence(2001)"
   ]
  },
  {
   "attachments": {},
   "cell_type": "markdown",
   "metadata": {},
   "source": [
    "## Functies\n",
    "\n",
    "Maak een functie om de klinkers in een string te tellen!"
   ]
  },
  {
   "cell_type": "code",
   "execution_count": 15,
   "metadata": {},
   "outputs": [
    {
     "name": "stdout",
     "output_type": "stream",
     "text": [
      "Ventilatie bevat  5 klinkers\n",
      "Apen bevat  2 klinkers\n",
      "ventilatie bevat 5 klinkers\n",
      "apen bevat 2 klinkers\n",
      "ventilatie bevat 5 klinkers\n"
     ]
    }
   ],
   "source": [
    "def KlinkersTellenMetInput(): # is gewoon voorbeeld, geen goede manier van coderen om invoer te vragen in functie!\n",
    "    count = 0\n",
    "    tekst = input(\"Geef woord in\").lower()\n",
    "    # klinkers: a e u i o\n",
    "    for letter in tekst:\n",
    "        if letter==\"a\" or letter==\"e\" or letter==\"u\" or letter==\"i\" or letter ==\"o\":\n",
    "            count+=1\n",
    "    print(tekst,\"bevat\",count,\"klinkers\")\n",
    "\n",
    "\n",
    "def KlinkersTellenMetPrint(tekst):\n",
    "    count = 0\n",
    "    tekst = tekst.lower()\n",
    "    # klinkers: a e u i o\n",
    "    for letter in tekst:\n",
    "        if letter==\"a\" or letter==\"e\" or letter==\"u\" or letter==\"i\" or letter ==\"o\":\n",
    "            count+=1\n",
    "    print(tekst,\"bevat\",count,\"klinkers\")\n",
    "\n",
    "def KlinkersTellen(tekst):\n",
    "    count = 0\n",
    "    tekst = tekst.lower()\n",
    "    # klinkers: a e u i o\n",
    "    for letter in tekst:\n",
    "        if letter==\"a\" or letter==\"e\" or letter==\"u\" or letter==\"i\" or letter ==\"o\":\n",
    "            count+=1\n",
    "    return count\n",
    "\n",
    "print(\"Ventilatie bevat \", KlinkersTellen(\"ventilatie\"), \"klinkers\") \n",
    "print(\"Apen bevat \", KlinkersTellen(\"Apen\"), \"klinkers\") \n",
    "\n",
    "KlinkersTellenMetPrint(\"ventilatie\")\n",
    "KlinkersTellenMetPrint(\"Apen\")\n",
    "\n",
    "KlinkersTellenMetInput()"
   ]
  }
 ],
 "metadata": {
  "kernelspec": {
   "display_name": "Python 3",
   "language": "python",
   "name": "python3"
  },
  "language_info": {
   "codemirror_mode": {
    "name": "ipython",
    "version": 3
   },
   "file_extension": ".py",
   "mimetype": "text/x-python",
   "name": "python",
   "nbconvert_exporter": "python",
   "pygments_lexer": "ipython3",
   "version": "3.11.2"
  },
  "orig_nbformat": 4,
  "vscode": {
   "interpreter": {
    "hash": "592dbb3af1cefdf1db2c3ce44df4f5e817be23969bceca6ee01d4e52efc0b099"
   }
  }
 },
 "nbformat": 4,
 "nbformat_minor": 2
}
