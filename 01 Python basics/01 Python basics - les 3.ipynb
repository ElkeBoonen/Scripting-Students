{
 "cells": [
  {
   "cell_type": "markdown",
   "metadata": {},
   "source": [
    "# Les 3 - 28/2 - Python basics\n",
    "\n",
    "## De echte basis\n",
    "- collections\n",
    "- numpy\n",
    "- pythonic\n",
    "- packages"
   ]
  },
  {
   "cell_type": "markdown",
   "metadata": {},
   "source": [
    "## Collecties\n",
    "\n",
    "- lijst [ ] --> kan je alles mee doen ;)\n",
    "- tuple ( ) --> is vast\n",
    "- set { } --> lijst waar geen dubbels inzitten!\n",
    "- dictionary { key : value } "
   ]
  },
  {
   "cell_type": "code",
   "execution_count": 1,
   "metadata": {},
   "outputs": [
    {
     "name": "stdout",
     "output_type": "stream",
     "text": [
      "['een', 1]\n"
     ]
    }
   ],
   "source": [
    "lijst = []\n",
    "lijst.append(\"een\")\n",
    "lijst.append(1)\n",
    "print(lijst)"
   ]
  },
  {
   "cell_type": "code",
   "execution_count": 2,
   "metadata": {},
   "outputs": [
    {
     "name": "stdout",
     "output_type": "stream",
     "text": [
      "maandag\n",
      "dindag\n",
      "woensdag\n",
      "donderdag\n",
      "vrijdag\n",
      "zaterdag\n",
      "zondag\n"
     ]
    }
   ],
   "source": [
    "dagen = (\"maan\",\"din\",\"woens\",\"donder\",\"vrij\",\"zater\",\"zon\")\n",
    "for dag in dagen:\n",
    "    print(dag+\"dag\")"
   ]
  },
  {
   "cell_type": "code",
   "execution_count": 3,
   "metadata": {},
   "outputs": [
    {
     "name": "stdout",
     "output_type": "stream",
     "text": [
      "{'pezo', 'spek', 'eieren', 'pasta', 'parmezaan'}\n"
     ]
    }
   ],
   "source": [
    "recept = {\"pasta\", \"eieren\",\"parmezaan\", \"spek\", \"pezo\"}\n",
    "\n",
    "recept.add(\"pasta\")\n",
    "print(recept)"
   ]
  },
  {
   "cell_type": "code",
   "execution_count": 6,
   "metadata": {},
   "outputs": [
    {
     "name": "stdout",
     "output_type": "stream",
     "text": [
      "{'r564556': 'sami', 'r678990': 'denzel'}\n",
      "{'r564556': 'sami 2', 'r678990': 'denzel'}\n",
      "{'r564556': 'sami 2', 'r678990': 'denzel', 'r563556': 'sami'}\n"
     ]
    }
   ],
   "source": [
    "studenten = {} #keys moeten uniek zijn!!\n",
    "\n",
    "studenten[\"r564556\"] = \"sami\"\n",
    "studenten[\"r678990\"] = \"denzel\"\n",
    "\n",
    "print(studenten)\n",
    "\n",
    "studenten[\"r564556\"] = \"sami 2\"\n",
    "print(studenten)\n",
    "\n",
    "studenten[\"r563556\"] = \"sami\"\n",
    "print(studenten)"
   ]
  },
  {
   "cell_type": "code",
   "execution_count": 15,
   "metadata": {},
   "outputs": [
    {
     "name": "stdout",
     "output_type": "stream",
     "text": [
      "[[1, 2, 3], [4, 5, 6], [7, 8, 9]]\n",
      "[1, 2, 3]\n",
      "[4, 5, 6]\n",
      "[7, 8, 9]\n",
      "1 2 3 \n",
      "4 5 6 \n",
      "7 8 9 \n"
     ]
    }
   ],
   "source": [
    "matrix = [ [1,2,3],[4,5,6],[7,8,9] ]\n",
    "print(matrix)  #[[1, 2, 3], [4, 5, 6], [7, 8, 9]]\n",
    "\n",
    "#[1, 2, 3]\n",
    "#[4, 5, 6]\n",
    "#[7, 8, 9]\n",
    "for lijst in matrix:\n",
    "    print(lijst)\n",
    "\n",
    "#1 2 3\n",
    "#4 5 6\n",
    "#7 8 9\n",
    "for rij in matrix:\n",
    "    for element in rij:\n",
    "        print(element, end=\" \")\n",
    "    print()\n"
   ]
  },
  {
   "cell_type": "markdown",
   "metadata": {},
   "source": [
    "You are organizing a party and have guests from various circles. \n",
    "\n",
    "friends = [\"Alice\", \"Bob\", \"Charlie\", \"Dana\", \"Alice\"]\n",
    "colleagues = {\"Eva\", \"Frank\", \"Grace\"}\n",
    "neighbors = (\"Hugo\", \"Ivy\")\n",
    "\n",
    "special_notes = {\n",
    "    \"friends\": \"Bring a smile!\",\n",
    "    \"colleagues\": \"Share a story.\",\n",
    "    \"neighbors\": \"Share a local tip.\"\n",
    "}\n",
    "\n",
    "- Finalize Guest List: Combine friends (with duplicates removed), colleagues, and neighbors into a final guest list without duplicates.\n",
    "- Prepare Welcome Packages: For each guest type (friends, colleagues, neighbors), print a welcome message including the special note from special_notes."
   ]
  },
  {
   "cell_type": "code",
   "execution_count": 20,
   "metadata": {},
   "outputs": [
    {
     "name": "stdout",
     "output_type": "stream",
     "text": [
      "{'Hugo Share a local tip.', 'Bob Bring a smile!', 'Eva Share a story.', 'Grace Share a story.', 'Frank Share a story.', 'Dana Bring a smile!', 'Ivy Share a local tip.', 'Charlie Bring a smile!', 'Alice Bring a smile!'}\n"
     ]
    }
   ],
   "source": [
    "friends = [\"Alice\", \"Bob\", \"Charlie\", \"Dana\", \"Alice\"]\n",
    "colleagues = {\"Eva\", \"Frank\", \"Grace\"}\n",
    "neighbors = (\"Hugo\", \"Ivy\")\n",
    "\n",
    "special_notes = {\n",
    "    \"friends\": \"Bring a smile!\",\n",
    "    \"colleagues\": \"Share a story.\",\n",
    "    \"neighbors\": \"Share a local tip.\"\n",
    "}\n",
    "\n",
    "guestlist = set()\n",
    "for name in friends:\n",
    "    guestlist.add(name+ \" \"+special_notes[\"friends\"])\n",
    "\n",
    "for name in colleagues:\n",
    "    guestlist.add(name + \" \" + special_notes[\"colleagues\"])\n",
    "\n",
    "for name in neighbors:\n",
    "    guestlist.add(name + \" \" + special_notes[\"neighbors\"])\n",
    "\n",
    "print(guestlist)"
   ]
  },
  {
   "cell_type": "markdown",
   "metadata": {},
   "source": [
    "## Packages\n",
    "\n",
    "- pip install package\n",
    "- import package"
   ]
  },
  {
   "cell_type": "code",
   "execution_count": 21,
   "metadata": {},
   "outputs": [
    {
     "name": "stdout",
     "output_type": "stream",
     "text": [
      "Requirement already satisfied: numpy in c:\\users\\elkeb\\appdata\\local\\programs\\python\\python37\\lib\\site-packages (1.21.6)\n"
     ]
    },
    {
     "name": "stderr",
     "output_type": "stream",
     "text": [
      "\n",
      "[notice] A new release of pip is available: 23.1.2 -> 24.0\n",
      "[notice] To update, run: python.exe -m pip install --upgrade pip\n"
     ]
    }
   ],
   "source": [
    "! pip install numpy"
   ]
  },
  {
   "cell_type": "code",
   "execution_count": 32,
   "metadata": {},
   "outputs": [
    {
     "name": "stdout",
     "output_type": "stream",
     "text": [
      "[1, 2, 3, 4]\n",
      "[1 2 3 4]\n",
      "[1, 2, 3, 4, 1, 2, 3, 4]\n",
      "[2 4 6 8]\n",
      "[0 1 2 3 4 5 6 7 8 9]\n",
      "[[1. 1. 1. 1. 1.]\n",
      " [1. 1. 1. 1. 1.]\n",
      " [1. 1. 1. 1. 1.]\n",
      " [1. 1. 1. 1. 1.]\n",
      " [1. 1. 1. 1. 1.]\n",
      " [1. 1. 1. 1. 1.]\n",
      " [1. 1. 1. 1. 1.]\n",
      " [1. 1. 1. 1. 1.]\n",
      " [1. 1. 1. 1. 1.]\n",
      " [1. 1. 1. 1. 1.]]\n",
      "[[4 4 4 4]\n",
      " [4 4 4 4]]\n",
      "[4 4 4 4 4 4 4 4 4 4]\n",
      "[['x' 'x' 'x' 'x']\n",
      " ['x' 'x' 'x' 'x']]\n",
      "[[0.33484427 0.87527868 0.27765877 0.11030749]\n",
      " [0.01851573 0.89196771 0.48977226 0.12161478]]\n"
     ]
    }
   ],
   "source": [
    "import numpy as np\n",
    "\n",
    "list = [1,2,3,4]\n",
    "print(list)\n",
    "\n",
    "array = np.array(list)\n",
    "print(array)\n",
    "\n",
    "print(list*2)\n",
    "print(array*2)\n",
    "\n",
    "print(np.arange(10))\n",
    "print(np.ones((10,5)))\n",
    "\n",
    "print(np.full((2,4),4))\n",
    "print(np.full((10,),4))\n",
    "print(np.full((2,4),\"x\"))\n",
    "\n",
    "print(np.random.random((2,4)))"
   ]
  },
  {
   "cell_type": "code",
   "execution_count": 40,
   "metadata": {},
   "outputs": [
    {
     "name": "stdout",
     "output_type": "stream",
     "text": [
      "[0 1 2 3 4 5 6 7 8 9]\n",
      "<class 'numpy.ndarray'>\n",
      "1\n",
      "(10,)\n",
      "[[0 1]\n",
      " [2 3]\n",
      " [4 5]\n",
      " [6 7]\n",
      " [8 9]]\n",
      "2\n",
      "(5, 2)\n",
      "[[0 1 2 3 4]\n",
      " [5 6 7 8 9]]\n",
      "2\n",
      "(2, 5)\n"
     ]
    }
   ],
   "source": [
    "array = np.arange(10)\n",
    "print(array)\n",
    "\n",
    "print(type(array))\n",
    "print(array.ndim)\n",
    "print(array.shape)\n",
    "\n",
    "matrix = array.reshape((5,2))\n",
    "print(matrix)\n",
    "print(matrix.ndim)\n",
    "print(matrix.shape)\n",
    "\n",
    "matrix = array.reshape((2,5))\n",
    "print(matrix)\n",
    "print(matrix.ndim)\n",
    "print(matrix.shape)"
   ]
  },
  {
   "cell_type": "markdown",
   "metadata": {},
   "source": [
    "It's magic time!\n",
    "\n",
    "Read a 1D array and a number of rows! Convert this 1D array to a 2D array! Calculate the sum of each column and if all sums are equal... you are dealing with a magic table!\n",
    "\n",
    "input\n",
    "2 7 0 8 4 1 1 0 10\n",
    "3\n",
    "output\n",
    "True\n",
    "\n",
    "2 7 0"
   ]
  },
  {
   "cell_type": "code",
   "execution_count": 62,
   "metadata": {},
   "outputs": [
    {
     "name": "stdout",
     "output_type": "stream",
     "text": [
      "['2', '7', '0', '8', '4', '1', '1', '0', '10']\n",
      "[ 2  7  0  8  4  1  1  0 10]\n",
      "[[ 2  7  0]\n",
      " [ 8  4  1]\n",
      " [ 1  0 10]]\n",
      "[11 11 11]\n",
      "True\n",
      "{11}\n",
      "True\n"
     ]
    }
   ],
   "source": [
    "input_array = \"2 7 0 8 4 1 1 0 10\".split() #input(\"Geef een array in\").split()\n",
    "input_rows = 3 #int(input(\"Geef aantal rijen in\"))\n",
    "\n",
    "print(input_array)\n",
    "\n",
    "array = np.array(input_array).astype('i') # maakt van input array een np array én zet door astype() alles om naar ints!\n",
    "print(array)\n",
    "\n",
    "cols = len(input_array)//input_rows\n",
    "\n",
    "matrix = array.reshape((input_rows,cols))\n",
    "print(matrix)\n",
    "\n",
    "sum_cols = matrix.sum(axis=0)\n",
    "print(sum_cols)\n",
    "\n",
    "# algoritmisch \n",
    "first = sum_cols[0]\n",
    "magic = True\n",
    "for element in sum_cols:\n",
    "    if element != first:\n",
    "        magic = False\n",
    "\n",
    "print(magic)\n",
    "    \n",
    "# werken met een set\n",
    "set_cols = set(sum_cols)\n",
    "print(set_cols)\n",
    "if len(set_cols) == 1:\n",
    "    print(True)\n",
    "else:\n",
    "    print(False)"
   ]
  },
  {
   "cell_type": "code",
   "execution_count": 63,
   "metadata": {},
   "outputs": [
    {
     "name": "stdout",
     "output_type": "stream",
     "text": [
      "Requirement already satisfied: emoji in c:\\users\\elkeb\\appdata\\local\\programs\\python\\python37\\lib\\site-packages (2.10.1)\n"
     ]
    },
    {
     "name": "stderr",
     "output_type": "stream",
     "text": [
      "\n",
      "[notice] A new release of pip is available: 23.1.2 -> 24.0\n",
      "[notice] To update, run: python.exe -m pip install --upgrade pip\n"
     ]
    }
   ],
   "source": [
    "! pip install emoji"
   ]
  },
  {
   "cell_type": "code",
   "execution_count": 65,
   "metadata": {},
   "outputs": [
    {
     "name": "stdout",
     "output_type": "stream",
     "text": [
      "Python is 👍\n",
      ":man_technologist::snake::right_arrow::party_popper::rocket::rainbow::books:\n"
     ]
    }
   ],
   "source": [
    "#how to use\n",
    "\n",
    "import emoji\n",
    "print(emoji.emojize('Python is :thumbs_up:'))\n",
    "\n",
    "#now translate this 👨‍💻🐍➡️🎉🚀🌈📚\n",
    "print(emoji.demojize(\"👨‍💻🐍➡️🎉🚀🌈📚\"))"
   ]
  },
  {
   "cell_type": "markdown",
   "metadata": {},
   "source": [
    "## Pythonic code"
   ]
  },
  {
   "cell_type": "code",
   "execution_count": 66,
   "metadata": {},
   "outputs": [
    {
     "name": "stdout",
     "output_type": "stream",
     "text": [
      "The Zen of Python, by Tim Peters\n",
      "\n",
      "Beautiful is better than ugly.\n",
      "Explicit is better than implicit.\n",
      "Simple is better than complex.\n",
      "Complex is better than complicated.\n",
      "Flat is better than nested.\n",
      "Sparse is better than dense.\n",
      "Readability counts.\n",
      "Special cases aren't special enough to break the rules.\n",
      "Although practicality beats purity.\n",
      "Errors should never pass silently.\n",
      "Unless explicitly silenced.\n",
      "In the face of ambiguity, refuse the temptation to guess.\n",
      "There should be one-- and preferably only one --obvious way to do it.\n",
      "Although that way may not be obvious at first unless you're Dutch.\n",
      "Now is better than never.\n",
      "Although never is often better than *right* now.\n",
      "If the implementation is hard to explain, it's a bad idea.\n",
      "If the implementation is easy to explain, it may be a good idea.\n",
      "Namespaces are one honking great idea -- let's do more of those!\n"
     ]
    }
   ],
   "source": [
    "import this"
   ]
  },
  {
   "cell_type": "code",
   "execution_count": 67,
   "metadata": {},
   "outputs": [
    {
     "name": "stdout",
     "output_type": "stream",
     "text": [
      "True\n"
     ]
    }
   ],
   "source": [
    "def is_anagram(str1, str2):\n",
    "    # Remove spaces and lowercase the strings\n",
    "    str1 = str1.replace(\" \", \"\").lower()\n",
    "    str2 = str2.replace(\" \", \"\").lower()\n",
    "    \n",
    "    # Check if the sorted characters of both strings are equal\n",
    "    if sorted(str1) == sorted(str2):\n",
    "        return True\n",
    "    else:\n",
    "        return False\n",
    "\n",
    "# Example usage\n",
    "str1 = \"Listen\"\n",
    "str2 = \"Silent\"\n",
    "print(is_anagram(str1, str2))  # Output: True"
   ]
  },
  {
   "cell_type": "code",
   "execution_count": null,
   "metadata": {},
   "outputs": [],
   "source": [
    "def is_anagram_pythonic(str1,str2):\n",
    "    #code \n",
    "\n",
    "str1 = \"Listen\"\n",
    "str2 = \"Silent\"\n",
    "print(is_anagram_pythonic(str1, str2))  # Output: True"
   ]
  }
 ],
 "metadata": {
  "kernelspec": {
   "display_name": "Python 3",
   "language": "python",
   "name": "python3"
  },
  "language_info": {
   "codemirror_mode": {
    "name": "ipython",
    "version": 3
   },
   "file_extension": ".py",
   "mimetype": "text/x-python",
   "name": "python",
   "nbconvert_exporter": "python",
   "pygments_lexer": "ipython3",
   "version": "3.7.4"
  }
 },
 "nbformat": 4,
 "nbformat_minor": 2
}
