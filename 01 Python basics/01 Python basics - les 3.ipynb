{
 "cells": [
  {
   "cell_type": "markdown",
   "metadata": {},
   "source": [
    "# Les 3 - 28/2 - Python basics\n",
    "\n",
    "## De echte basis\n",
    "- collections\n",
    "- numpy\n",
    "- pythonic\n",
    "- packages"
   ]
  },
  {
   "cell_type": "markdown",
   "metadata": {},
   "source": [
    "## Collecties\n",
    "\n",
    "- lijst [ ] --> kan je alles mee doen ;)\n",
    "- tuple ( ) --> is vast\n",
    "- set { } --> lijst waar geen dubbels inzitten!\n",
    "- dictionary { key : value } "
   ]
  },
  {
   "cell_type": "code",
   "execution_count": 1,
   "metadata": {},
   "outputs": [
    {
     "name": "stdout",
     "output_type": "stream",
     "text": [
      "['een', 1]\n"
     ]
    }
   ],
   "source": [
    "lijst = []\n",
    "lijst.append(\"een\")\n",
    "lijst.append(1)\n",
    "print(lijst)"
   ]
  },
  {
   "cell_type": "code",
   "execution_count": 2,
   "metadata": {},
   "outputs": [
    {
     "name": "stdout",
     "output_type": "stream",
     "text": [
      "maandag\n",
      "dindag\n",
      "woensdag\n",
      "donderdag\n",
      "vrijdag\n",
      "zaterdag\n",
      "zondag\n"
     ]
    }
   ],
   "source": [
    "dagen = (\"maan\",\"din\",\"woens\",\"donder\",\"vrij\",\"zater\",\"zon\")\n",
    "for dag in dagen:\n",
    "    print(dag+\"dag\")"
   ]
  },
  {
   "cell_type": "code",
   "execution_count": 3,
   "metadata": {},
   "outputs": [
    {
     "name": "stdout",
     "output_type": "stream",
     "text": [
      "{'pezo', 'spek', 'eieren', 'pasta', 'parmezaan'}\n"
     ]
    }
   ],
   "source": [
    "recept = {\"pasta\", \"eieren\",\"parmezaan\", \"spek\", \"pezo\"}\n",
    "\n",
    "recept.add(\"pasta\")\n",
    "print(recept)"
   ]
  },
  {
   "cell_type": "code",
   "execution_count": 6,
   "metadata": {},
   "outputs": [
    {
     "name": "stdout",
     "output_type": "stream",
     "text": [
      "{'r564556': 'sami', 'r678990': 'denzel'}\n",
      "{'r564556': 'sami 2', 'r678990': 'denzel'}\n",
      "{'r564556': 'sami 2', 'r678990': 'denzel', 'r563556': 'sami'}\n"
     ]
    }
   ],
   "source": [
    "studenten = {} #keys moeten uniek zijn!!\n",
    "\n",
    "studenten[\"r564556\"] = \"sami\"\n",
    "studenten[\"r678990\"] = \"denzel\"\n",
    "\n",
    "print(studenten)\n",
    "\n",
    "studenten[\"r564556\"] = \"sami 2\"\n",
    "print(studenten)\n",
    "\n",
    "studenten[\"r563556\"] = \"sami\"\n",
    "print(studenten)"
   ]
  },
  {
   "cell_type": "code",
   "execution_count": 15,
   "metadata": {},
   "outputs": [
    {
     "name": "stdout",
     "output_type": "stream",
     "text": [
      "[[1, 2, 3], [4, 5, 6], [7, 8, 9]]\n",
      "[1, 2, 3]\n",
      "[4, 5, 6]\n",
      "[7, 8, 9]\n",
      "1 2 3 \n",
      "4 5 6 \n",
      "7 8 9 \n"
     ]
    }
   ],
   "source": [
    "matrix = [ [1,2,3],[4,5,6],[7,8,9] ]\n",
    "print(matrix)  #[[1, 2, 3], [4, 5, 6], [7, 8, 9]]\n",
    "\n",
    "#[1, 2, 3]\n",
    "#[4, 5, 6]\n",
    "#[7, 8, 9]\n",
    "for lijst in matrix:\n",
    "    print(lijst)\n",
    "\n",
    "#1 2 3\n",
    "#4 5 6\n",
    "#7 8 9\n",
    "for rij in matrix:\n",
    "    for element in rij:\n",
    "        print(element, end=\" \")\n",
    "    print()\n"
   ]
  },
  {
   "cell_type": "markdown",
   "metadata": {},
   "source": [
    "You are organizing a party and have guests from various circles. \n",
    "\n",
    "friends = [\"Alice\", \"Bob\", \"Charlie\", \"Dana\", \"Alice\"]\n",
    "colleagues = {\"Eva\", \"Frank\", \"Grace\"}\n",
    "neighbors = (\"Hugo\", \"Ivy\")\n",
    "\n",
    "special_notes = {\n",
    "    \"friends\": \"Bring a smile!\",\n",
    "    \"colleagues\": \"Share a story.\",\n",
    "    \"neighbors\": \"Share a local tip.\"\n",
    "}\n",
    "\n",
    "- Finalize Guest List: Combine friends (with duplicates removed), colleagues, and neighbors into a final guest list without duplicates.\n",
    "- Prepare Welcome Packages: For each guest type (friends, colleagues, neighbors), print a welcome message including the special note from special_notes."
   ]
  }
 ],
 "metadata": {
  "kernelspec": {
   "display_name": "Python 3",
   "language": "python",
   "name": "python3"
  },
  "language_info": {
   "codemirror_mode": {
    "name": "ipython",
    "version": 3
   },
   "file_extension": ".py",
   "mimetype": "text/x-python",
   "name": "python",
   "nbconvert_exporter": "python",
   "pygments_lexer": "ipython3",
   "version": "3.7.4"
  }
 },
 "nbformat": 4,
 "nbformat_minor": 2
}
