{
 "cells": [
  {
   "cell_type": "markdown",
   "metadata": {},
   "source": [
    "# Les 2 - 21/2 - Python basics\n",
    "\n",
    "## De echte basis\n",
    "- loops (while)\n",
    "- functies\n",
    "- lijsten\n",
    "\n",
    "## Loops - While"
   ]
  },
  {
   "cell_type": "code",
   "execution_count": 1,
   "metadata": {},
   "outputs": [
    {
     "name": "stdout",
     "output_type": "stream",
     "text": [
      "\n",
      "S\n"
     ]
    }
   ],
   "source": [
    "answer = input(\"Geef iets in, X om te stoppen!\")\n",
    "\n",
    "while answer.upper() != \"X\":\n",
    "    print(answer)\n",
    "    answer = input(\"Geef iets in, X om te stoppen!\")\n",
    "\n",
    "while answer != \"X\" and answer!=\"x\":\n",
    "    print(answer)\n",
    "    answer = input(\"Geef iets in, X om te stoppen!\")"
   ]
  },
  {
   "cell_type": "markdown",
   "metadata": {},
   "source": [
    "Genereer de Lucas-reeks. De Lucas-reeks is vergelijkbaar met de Fibonacci-reeks, waarbij elk getal de som is van de twee voorgaande getallen. Echter, in tegenstelling tot de Fibonacci-reeks, die begint met 0 en 1, begint de Lucas-reeks met 2 en 1.\n",
    "\n",
    "FIBONACCI 0 1 1 2 3 5 8 13 21 34 ...\n",
    "LUCAS 2 1 3 4 7 11 18 29 ..."
   ]
  },
  {
   "cell_type": "code",
   "execution_count": 5,
   "metadata": {},
   "outputs": [
    {
     "name": "stdout",
     "output_type": "stream",
     "text": [
      "2 1 3 4 7 11 18 29 47 76 123 199 "
     ]
    }
   ],
   "source": [
    "count = int(input(\"Geef het aantal te berekenen LUCAS cijfers\"))\n",
    "\n",
    "a = 2\n",
    "b = 1\n",
    "\n",
    "print(a,b, end = \" \")\n",
    "\n",
    "for i in range(count):\n",
    "    result = a + b\n",
    "    print(result, end = \" \")\n",
    "    a = b\n",
    "    b = result\n"
   ]
  },
  {
   "cell_type": "code",
   "execution_count": 6,
   "metadata": {},
   "outputs": [
    {
     "name": "stdout",
     "output_type": "stream",
     "text": [
      "2 1 3 4 7 11 18 29 47 76 123 199 322 521 843 1364 2207 3571 5778 9349 15127 24476 "
     ]
    }
   ],
   "source": [
    "count = int(input(\"Geef het aantal te berekenen LUCAS cijfers\"))\n",
    "\n",
    "a = 2\n",
    "b = 1\n",
    "\n",
    "print(a,b, end = \" \")\n",
    "\n",
    "i = 0\n",
    "while i < count:\n",
    "    result = a + b\n",
    "    print(result, end = \" \")\n",
    "    a = b\n",
    "    b = result\n",
    "    i+=1 # i = i + 1"
   ]
  },
  {
   "cell_type": "markdown",
   "metadata": {},
   "source": [
    "## Functies\n",
    "\n",
    "Lucas-reeks in een functie!"
   ]
  },
  {
   "cell_type": "code",
   "execution_count": 10,
   "metadata": {},
   "outputs": [
    {
     "name": "stdout",
     "output_type": "stream",
     "text": [
      "None\n",
      "None\n",
      "None\n",
      "None\n",
      "None\n",
      "None\n",
      "None\n",
      "None\n",
      "None\n",
      "None\n",
      "None\n",
      "None\n",
      "None\n",
      "None\n",
      "None\n",
      "None\n",
      "None\n",
      "None\n",
      "None\n",
      "None\n",
      "None\n",
      "None\n",
      "None\n"
     ]
    }
   ],
   "source": [
    "def Lucas(count):\n",
    "    a = 2\n",
    "    b = 1\n",
    "    return_result = str(a) + \" \" + str(b) + \" \"\n",
    "\n",
    "    for i in range(count):\n",
    "        result = a + b\n",
    "        return_result += str(result) + \" \"\n",
    "        a = b\n",
    "        b = result\n",
    "    return return_result\n",
    "\n",
    "print(Lucas(20))\n",
    "print(Lucas(10))\n",
    "print(Lucas(1))\n",
    "\n",
    "aantal = int(input(\"Geef een aantal in\"))\n",
    "print(Lucas(aantal))\n",
    "\n",
    "for i in range(1,20):\n",
    "    print(Lucas(i))"
   ]
  }
 ],
 "metadata": {
  "kernelspec": {
   "display_name": "Python 3",
   "language": "python",
   "name": "python3"
  },
  "language_info": {
   "codemirror_mode": {
    "name": "ipython",
    "version": 3
   },
   "file_extension": ".py",
   "mimetype": "text/x-python",
   "name": "python",
   "nbconvert_exporter": "python",
   "pygments_lexer": "ipython3",
   "version": "3.7.4"
  }
 },
 "nbformat": 4,
 "nbformat_minor": 2
}
