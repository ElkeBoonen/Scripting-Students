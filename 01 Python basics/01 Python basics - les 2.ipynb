{
 "cells": [
  {
   "cell_type": "markdown",
   "metadata": {},
   "source": [
    "# Les 2 - 21/2 - Python basics\n",
    "\n",
    "## De echte basis\n",
    "- loops (while)\n",
    "- functies\n",
    "- lijsten\n",
    "\n",
    "## Loops - While"
   ]
  },
  {
   "cell_type": "code",
   "execution_count": null,
   "metadata": {},
   "outputs": [],
   "source": [
    "answer = input(\"Geef iets in, X om te stoppen!\")\n",
    "\n",
    "while answer.upper() != \"X\":\n",
    "    print(answer)\n",
    "    answer = input(\"Geef iets in, X om te stoppen!\")\n",
    "\n",
    "while answer != \"X\" and answer!=\"x\":\n",
    "    print(answer)\n",
    "    answer = input(\"Geef iets in, X om te stoppen!\")"
   ]
  },
  {
   "cell_type": "markdown",
   "metadata": {},
   "source": [
    "Genereer de Lucas-reeks. De Lucas-reeks is vergelijkbaar met de Fibonacci-reeks, waarbij elk getal de som is van de twee voorgaande getallen. Echter, in tegenstelling tot de Fibonacci-reeks, die begint met 0 en 1, begint de Lucas-reeks met 2 en 1.\n",
    "\n",
    "FIBONACCI 0 1 1 2 3 5 8 13 21 34 ...\n",
    "LUCAS 2 1 3 4 7 11 18 29 ..."
   ]
  },
  {
   "cell_type": "code",
   "execution_count": null,
   "metadata": {},
   "outputs": [],
   "source": [
    "count = int(input(\"Geef het aantal te berekenen LUCAS cijfers\"))\n",
    "\n",
    "a = 2\n",
    "b = 1\n",
    "\n",
    "print(a,b, end = \" \")\n",
    "\n",
    "for i in range(count):\n",
    "    result = a + b\n",
    "    print(result, end = \" \")\n",
    "    a = b\n",
    "    b = result\n"
   ]
  },
  {
   "cell_type": "code",
   "execution_count": null,
   "metadata": {},
   "outputs": [],
   "source": [
    "count = int(input(\"Geef het aantal te berekenen LUCAS cijfers\"))\n",
    "\n",
    "a = 2\n",
    "b = 1\n",
    "\n",
    "print(a,b, end = \" \")\n",
    "\n",
    "i = 0\n",
    "while i < count:\n",
    "    result = a + b\n",
    "    print(result, end = \" \")\n",
    "    a = b\n",
    "    b = result\n",
    "    i+=1 # i = i + 1"
   ]
  },
  {
   "cell_type": "markdown",
   "metadata": {},
   "source": [
    "## Functies\n",
    "\n",
    "Lucas-reeks in een functie!"
   ]
  },
  {
   "cell_type": "code",
   "execution_count": null,
   "metadata": {},
   "outputs": [],
   "source": [
    "def Lucas(count):\n",
    "    a = 2\n",
    "    b = 1\n",
    "    return_result = str(a) + \" \" + str(b) + \" \"\n",
    "\n",
    "    for i in range(count):\n",
    "        result = a + b\n",
    "        return_result += str(result) + \" \"\n",
    "        a = b\n",
    "        b = result\n",
    "    return return_result\n",
    "\n",
    "print(Lucas(20))\n",
    "print(Lucas(10))\n",
    "print(Lucas(1))\n",
    "\n",
    "aantal = int(input(\"Geef een aantal in\"))\n",
    "print(Lucas(aantal))\n",
    "\n",
    "for i in range(1,20):\n",
    "    print(Lucas(i))"
   ]
  },
  {
   "cell_type": "markdown",
   "metadata": {},
   "source": [
    "Schrijf een functie die controleert of een getal een priemgetal is. Een priemgetal is een getal dat alleen deelbaar is door 1 en zichzelf!\n",
    "\n",
    "voorbeeld priemgetallen: 1 2 3 5 7 11 13 17 ... \n",
    "\n"
   ]
  },
  {
   "cell_type": "code",
   "execution_count": null,
   "metadata": {},
   "outputs": [],
   "source": [
    "def PrimeNumber(number):\n",
    "    count = 0\n",
    "    for i in range(2,number//2):\n",
    "        if number % i == 0:\n",
    "            count += 1\n",
    "    \n",
    "    if count == 0:\n",
    "        return True\n",
    "    else:\n",
    "        return False\n",
    "\n",
    "print(\"5 is een priemgetal:\", PrimeNumber(5))\n",
    "\n",
    "for i in range(0,100):\n",
    "    print(i, \"is een priemgetal\", PrimeNumber(i))\n",
    "\n",
    "x = int(input(\"geef een getal\"))\n",
    "print(x,\"is een priemgetal\", PrimeNumber(x))\n"
   ]
  },
  {
   "cell_type": "code",
   "execution_count": 21,
   "metadata": {},
   "outputs": [
    {
     "name": "stdout",
     "output_type": "stream",
     "text": [
      "59 is het volgende priemgetal\n"
     ]
    }
   ],
   "source": [
    "# Gebruik daarna deze funcie in je zoektocht naar het volgende priemgetal na een ingegeven getal!\n",
    "\n",
    "number = int(input(\"Geef een getal\"))\n",
    "\n",
    "number += 1\n",
    "while(not PrimeNumber(number)):\n",
    "      number += 1\n",
    "\n",
    "print(number, \"is het volgende priemgetal\")\n"
   ]
  },
  {
   "cell_type": "markdown",
   "metadata": {},
   "source": [
    "## Collecties\n",
    "\n",
    "- lijst [ ] --> kan je alles mee doen ;)\n",
    "- tuple ( ) --> is vast\n",
    "- set { } --> lijst waar geen dubbels inzitten!\n",
    "- dictionary { key : value } "
   ]
  },
  {
   "cell_type": "code",
   "execution_count": 30,
   "metadata": {},
   "outputs": [
    {
     "name": "stdout",
     "output_type": "stream",
     "text": [
      "['jan', 'piet', 'joris', 'korneel']\n",
      "['jan', 'piet', 'joris', 'korneel', 'marie']\n",
      "['jan', 'piet', 'joris', 'korneel']\n",
      "4\n",
      "piet\n",
      "korneel\n",
      "piet\n",
      "['jan', 'joris', 'korneel', 'piet']\n",
      "jan\n",
      "joris\n",
      "korneel\n",
      "piet\n"
     ]
    }
   ],
   "source": [
    "names = [\"jan\", \"piet\", \"joris\", \"korneel\"]\n",
    "print(names)\n",
    "\n",
    "names.append(\"marie\")\n",
    "print(names)\n",
    "\n",
    "names.pop()\n",
    "print(names)\n",
    "\n",
    "print(len(names))\n",
    "\n",
    "print(names[1])\n",
    "print(names[-1])\n",
    "print(names[-3])\n",
    "\n",
    "names.sort()\n",
    "print(names)\n",
    "\n",
    "for name in names:\n",
    "    print(name)"
   ]
  },
  {
   "cell_type": "code",
   "execution_count": 38,
   "metadata": {},
   "outputs": [
    {
     "name": "stdout",
     "output_type": "stream",
     "text": [
      "[0, 2, 4, 6, 8]\n",
      "[0, 1, 4, 9, 16, 25, 36, 49, 64, 81, 100, 121, 144, 169, 196, 225, 256, 289, 324, 361]\n",
      "False\n",
      "True\n"
     ]
    }
   ],
   "source": [
    "numbers = [ x for x in range(0,10,2) ]\n",
    "print(numbers)\n",
    "\n",
    "numbers = [ x**2 for x in range(0,20) ]\n",
    "print(numbers)\n",
    "\n",
    "print(\"marie\" in names)\n",
    "print(\"piet\" in names)"
   ]
  },
  {
   "cell_type": "code",
   "execution_count": 40,
   "metadata": {},
   "outputs": [
    {
     "name": "stdout",
     "output_type": "stream",
     "text": [
      "('zomer', 'herfst', 'winter', 'lente')\n"
     ]
    },
    {
     "ename": "AttributeError",
     "evalue": "'tuple' object has no attribute 'append'",
     "output_type": "error",
     "traceback": [
      "\u001b[1;31m---------------------------------------------------------------------------\u001b[0m",
      "\u001b[1;31mAttributeError\u001b[0m                            Traceback (most recent call last)",
      "\u001b[1;32m~\\AppData\\Local\\Temp\\ipykernel_25376\\1482900381.py\u001b[0m in \u001b[0;36m<module>\u001b[1;34m\u001b[0m\n\u001b[0;32m      2\u001b[0m \u001b[0mprint\u001b[0m\u001b[1;33m(\u001b[0m\u001b[0mseasons\u001b[0m\u001b[1;33m)\u001b[0m\u001b[1;33m\u001b[0m\u001b[1;33m\u001b[0m\u001b[0m\n\u001b[0;32m      3\u001b[0m \u001b[1;33m\u001b[0m\u001b[0m\n\u001b[1;32m----> 4\u001b[1;33m \u001b[0mseasons\u001b[0m\u001b[1;33m.\u001b[0m\u001b[0mappend\u001b[0m\u001b[1;33m(\u001b[0m\u001b[1;34m\"regenseizoen\"\u001b[0m\u001b[1;33m)\u001b[0m\u001b[1;33m\u001b[0m\u001b[1;33m\u001b[0m\u001b[0m\n\u001b[0m",
      "\u001b[1;31mAttributeError\u001b[0m: 'tuple' object has no attribute 'append'"
     ]
    }
   ],
   "source": [
    "seasons = (\"zomer\",\"herfst\",\"winter\",\"lente\")\n",
    "print(seasons)\n",
    "\n",
    "# seasons.append(\"regenseizoen\") --> KAN NIET"
   ]
  },
  {
   "cell_type": "code",
   "execution_count": 44,
   "metadata": {},
   "outputs": [
    {
     "name": "stdout",
     "output_type": "stream",
     "text": [
      "{'marie', 'korneel', 'piet', 'joris', 'jan'}\n",
      "{'marie', 'korneel', 'piet', 'joris', 'jan'}\n"
     ]
    }
   ],
   "source": [
    "names = {\"jan\",\"piet\",\"joris\",\"korneel\"}\n",
    "names.add(\"marie\")\n",
    "print(names)\n",
    "names.add(\"piet\")\n",
    "print(names)"
   ]
  },
  {
   "cell_type": "code",
   "execution_count": null,
   "metadata": {},
   "outputs": [],
   "source": [
    "# alle letters tellen!\n",
    "zin = \"dit is een zin met veel woorden\"\n",
    "\n",
    "dictionary = {}\n",
    "\n",
    "for i in zin:\n",
    "    if dictionary."
   ]
  }
 ],
 "metadata": {
  "kernelspec": {
   "display_name": "Python 3",
   "language": "python",
   "name": "python3"
  },
  "language_info": {
   "codemirror_mode": {
    "name": "ipython",
    "version": 3
   },
   "file_extension": ".py",
   "mimetype": "text/x-python",
   "name": "python",
   "nbconvert_exporter": "python",
   "pygments_lexer": "ipython3",
   "version": "3.7.4"
  }
 },
 "nbformat": 4,
 "nbformat_minor": 2
}
