{
 "cells": [
  {
   "cell_type": "markdown",
   "metadata": {},
   "source": [
    "# Demo van mijn package\n",
    "\n",
    "Print uit init-file krijg je slechts 1 keer te zien als je importeert!"
   ]
  },
  {
   "cell_type": "code",
   "execution_count": 1,
   "metadata": {},
   "outputs": [
    {
     "name": "stdout",
     "output_type": "stream",
     "text": [
      "Hello this is my first package you are now importing!\n"
     ]
    }
   ],
   "source": [
    "from mypackage import math, text"
   ]
  },
  {
   "cell_type": "code",
   "execution_count": 3,
   "metadata": {},
   "outputs": [],
   "source": [
    "from mypackage import math, text"
   ]
  },
  {
   "cell_type": "markdown",
   "metadata": {},
   "source": [
    "## Functies uit module text"
   ]
  },
  {
   "cell_type": "code",
   "execution_count": 5,
   "metadata": {},
   "outputs": [
    {
     "name": "stdout",
     "output_type": "stream",
     "text": [
      "True\n",
      "False\n"
     ]
    }
   ],
   "source": [
    "print(text.AInText(\"Banaan\"))\n",
    "print(text.AInText(\"Tekst zonder de gevreesde letter\"))"
   ]
  },
  {
   "cell_type": "code",
   "execution_count": 10,
   "metadata": {},
   "outputs": [
    {
     "name": "stdout",
     "output_type": "stream",
     "text": [
      "even length\n",
      "even length\n"
     ]
    }
   ],
   "source": [
    "tekst = input(\"Geef een stukje tekst in\")\n",
    "print(text.OddEvenLength(tekst))\n",
    "print(text.OddEvenLength(\"dit is tekst\"))"
   ]
  },
  {
   "cell_type": "code",
   "execution_count": 11,
   "metadata": {},
   "outputs": [
    {
     "name": "stdout",
     "output_type": "stream",
     "text": [
      "Help on module mypackage.text in mypackage:\n",
      "\n",
      "NAME\n",
      "    mypackage.text\n",
      "\n",
      "FUNCTIONS\n",
      "    AInText(text)\n",
      "        Checks if there is an A in the text\n",
      "        Parameters:\n",
      "            text (string): given text\n",
      "        Returns:\n",
      "            True or False\n",
      "    \n",
      "    OddEvenLength(text)\n",
      "        Returns odd or even length of given text\n",
      "        Parameters:\n",
      "            text (string): given text\n",
      "        Returns:\n",
      "            odd or even length\n",
      "\n",
      "FILE\n",
      "    c:\\users\\elkeb\\onedrive - thomas more\\github\\scripting-students\\09 packiging\\myfirstpackage\\mypackage\\text.py\n",
      "\n",
      "\n"
     ]
    }
   ],
   "source": [
    "help(text)"
   ]
  },
  {
   "cell_type": "code",
   "execution_count": 12,
   "metadata": {},
   "outputs": [
    {
     "name": "stdout",
     "output_type": "stream",
     "text": [
      "Help on function AInText in module mypackage.text:\n",
      "\n",
      "AInText(text)\n",
      "    Checks if there is an A in the text\n",
      "    Parameters:\n",
      "        text (string): given text\n",
      "    Returns:\n",
      "        True or False\n",
      "\n"
     ]
    }
   ],
   "source": [
    "help(text.AInText)"
   ]
  },
  {
   "cell_type": "markdown",
   "metadata": {},
   "source": [
    "## Functies uit module math"
   ]
  },
  {
   "cell_type": "code",
   "execution_count": 8,
   "metadata": {},
   "outputs": [
    {
     "name": "stdout",
     "output_type": "stream",
     "text": [
      "10\n",
      "-1\n",
      "5.6\n"
     ]
    }
   ],
   "source": [
    "print(math.Max([3,-1,10,7,9]))\n",
    "print(math.Min([3,-1,10,7,9]))\n",
    "print(math.Average([3,-1,10,7,9]))"
   ]
  }
 ],
 "metadata": {
  "kernelspec": {
   "display_name": "Python 3",
   "language": "python",
   "name": "python3"
  },
  "language_info": {
   "codemirror_mode": {
    "name": "ipython",
    "version": 3
   },
   "file_extension": ".py",
   "mimetype": "text/x-python",
   "name": "python",
   "nbconvert_exporter": "python",
   "pygments_lexer": "ipython3",
   "version": "3.7.4"
  }
 },
 "nbformat": 4,
 "nbformat_minor": 2
}
