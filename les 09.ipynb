{
 "metadata": {
  "language_info": {
   "codemirror_mode": {
    "name": "ipython",
    "version": 3
   },
   "file_extension": ".py",
   "mimetype": "text/x-python",
   "name": "python",
   "nbconvert_exporter": "python",
   "pygments_lexer": "ipython3",
   "version": "3.9.4"
  },
  "orig_nbformat": 2,
  "kernelspec": {
   "name": "python394jvsc74a57bd0a7ff26f83e05060c3a7d34b0e500d2ccaab5c8f85efbdae62ef213692d698dc2",
   "display_name": "Python 3.9.4 64-bit"
  },
  "metadata": {
   "interpreter": {
    "hash": "a7ff26f83e05060c3a7d34b0e500d2ccaab5c8f85efbdae62ef213692d698dc2"
   }
  }
 },
 "nbformat": 4,
 "nbformat_minor": 2,
 "cells": [
  {
   "source": [
    "# Les 09: Scheduling\n",
    "## Unix Epoch time\n",
    "https://www.epochconverter.com/"
   ],
   "cell_type": "markdown",
   "metadata": {}
  },
  {
   "cell_type": "code",
   "execution_count": 3,
   "metadata": {},
   "outputs": [
    {
     "output_type": "stream",
     "name": "stdout",
     "text": [
      "1619593050.344924\nWed Apr 28 08:57:30 2021\nWed Apr 28 08:57:05 2021\n"
     ]
    }
   ],
   "source": [
    "import time\n",
    "print(time.time())\n",
    "print(time.ctime())\n",
    "print(time.ctime(1619593025.0839713))"
   ]
  },
  {
   "source": [
    "## Check tijd in Tokyo\n",
    "\n",
    "http://worldtimeapi.org/\n",
    "http://worldtimeapi.org/api/timezone/Asia/Tokyo"
   ],
   "cell_type": "markdown",
   "metadata": {}
  },
  {
   "cell_type": "code",
   "execution_count": 10,
   "metadata": {},
   "outputs": [
    {
     "output_type": "stream",
     "name": "stdout",
     "text": [
      "\nTijd in Tokyo is 2021-04-28T16:12:14.532466+09:00\nDuurde 24.96316432952881 seconden\n"
     ]
    }
   ],
   "source": [
    "import requests\n",
    "import json\n",
    "import time\n",
    "\n",
    "startTijd = time.time() # we starten de klok!!\n",
    "\n",
    "response = requests.get(\"http://worldtimeapi.org/api/timezone/Asia/Tokyo\")\n",
    "print()\n",
    "if response.status_code == 200:\n",
    "    jsondata = json.loads(response.text)\n",
    "    print(\"Tijd in Tokyo is \" + jsondata[\"datetime\"])\n",
    "else:\n",
    "    print(\"Oeps, niet gelukt!\")\n",
    "\n",
    "eindTijd = time.time() # stop de klok\n",
    "seconden = eindTijd-startTijd\n",
    "\n",
    "print(\"Duurde\",seconden,\"seconden\")\n",
    "\n"
   ]
  },
  {
   "cell_type": "code",
   "execution_count": 13,
   "metadata": {},
   "outputs": [
    {
     "output_type": "stream",
     "name": "stdout",
     "text": [
      "start slaap\n",
      "stop slaap\n",
      "tik\n",
      "tak\n",
      "tik\n",
      "tak\n",
      "tik\n",
      "tak\n"
     ]
    }
   ],
   "source": [
    "import time\n",
    "\n",
    "print(\"start slaap\")\n",
    "time.sleep(5)\n",
    "print(\"stop slaap\")\n",
    "\n",
    "for i in range(3):\n",
    "    print(\"tik\")\n",
    "    time.sleep(1)\n",
    "    print(\"tak\")\n",
    "    time.sleep(1)\n"
   ]
  },
  {
   "source": [
    "## Datum & Tijd module"
   ],
   "cell_type": "markdown",
   "metadata": {}
  },
  {
   "cell_type": "code",
   "execution_count": 30,
   "metadata": {},
   "outputs": [
    {
     "output_type": "stream",
     "name": "stdout",
     "text": [
      "Wed Apr 28 09:27:46 2021\n",
      "2021-04-28 09:27:46.283003\n",
      "1980-04-23 01:00:00\n",
      "1970-01-01 03:46:40\n",
      "2021-04-28 09:27:46.283003\n",
      "06 August\n",
      "2020-01-01 00:00:00\n"
     ]
    }
   ],
   "source": [
    "import datetime, time\n",
    "\n",
    "print(time.ctime())\n",
    "print(datetime.datetime.now())\n",
    "\n",
    "datum = datetime.datetime(1980,4,23,1,0,0)\n",
    "print(datum)\n",
    "\n",
    "print(datetime.datetime.fromtimestamp(10000))\n",
    "\n",
    "datum = datetime.datetime.now()\n",
    "print(datum)\n",
    "\n",
    "datum += datetime.timedelta(days=100) # tel dagen bij!!\n",
    "print(datum.strftime(\"%d %B\"))\n",
    "\n",
    "#datum = datetime.datetime(input()) #1/1/2020 zal error geven\n",
    "\n",
    "tekstdatum = input().split('/')\n",
    "datum = datetime.datetime(int(tekstdatum[2]), int(tekstdatum[1]), int(tekstdatum[0]))\n",
    "print(datum)"
   ]
  },
  {
   "cell_type": "code",
   "execution_count": 33,
   "metadata": {},
   "outputs": [],
   "source": []
  }
 ]
}